{
 "cells": [
  {
   "cell_type": "markdown",
   "metadata": {
    "slideshow": {
     "slide_type": "slide"
    }
   },
   "source": [
    "# Chapter 2: 오픈 데이터\n",
    "\n",
    "Last Updated: 202309_202108_201704Ghana\n",
    "\n",
    "## 학습내용\n",
    "\n",
    "오픈 API를 사용하여 열린데이터, 공공데이터를 수집해보자. 데이터는 XML, JSON 형식으로 제공되는데, 이를 파싱하여 원하는 데이터를 추출해본다.\n",
    "\n",
    "* O.2 오픈 데이터\n",
    "* O.3 오픈 API\n",
    "* O.4 API 연습: curl, requests, POST, HEAD\n",
    "* O.5 많이 쓰이는 웹데이터 형식\n",
    "    * O.5.1 XML\n",
    "    * O.5.2 JSON\n",
    "* 문제 1: IP 주소에서 지역정보 알아내기\n",
    "* O.6 공공데이터\n",
    "    * O.6.1 인증키\n",
    "    * O.6.2 키를 파일로 저장하고 읽는 자신의 라이브러리 만들기\n",
    "* 문제 2: 서울시 지하철역 정보 수집\n",
    "* 문제 3: 행정동별 서울생활인구(단기체류 외국인)\n",
    "* 문제 4: 서울시 지하철역별 월별 승하차인원 구하기\n",
    "* 문제 5: 서울시 지하철 호선별 역별 시간대별 승하차 인원 정보\n",
    "* O.7 데이터베이스 저장\n",
    "* 문제 6: 지하철역 승하차 인원 수집, 저장\n",
    "* 문제 7: 버스 승하차 인원 월별 정류장별 인원\n",
    "* 문제 8: 서울시 골목상권 분석\n",
    "* 문제 9: 공공데이터포털 서울시 구별 교통사고 사망자 수 구하기\n",
    "* 문제 10: 공공데이터포털 대기 오염 정보\n",
    "* 문제 11: 공공데이터포털 서울특별시교육청 공공도서관 소장도서정보\n",
    "* 연습문제 1: 주식 데이터 읽기\n",
    "* 연습문제 2: 서울시 지하철 실시간 도착정보 수집\n",
    "* 연습문제 3: 기상청 단기예보\n"
   ]
  },
  {
   "cell_type": "markdown",
   "metadata": {
    "slideshow": {
     "slide_type": "slide"
    }
   },
   "source": [
    "## O.2 오픈 데이터\n",
    "\n",
    "'오픈 데이터'는 어떤 업무가 수행되고, 생성된 결과로서 외부에 개방되는 데이터를 말한다. \n",
    "공공기관에서 생성이 되면 '**공공데이터**'라고도 하며,\n",
    "우리 나라에서는 2013년 '**공공데이터의 제공 및 이용활성화에 관한 법률**'을 시행하여,\n",
    "공공 정보를 외부에 개방하는 공공데이터 정책을 펴고 있다.\n",
    "그렇다고 해서 공공기관만 오픈 데이터를 제공하는 것은 아니다.\n",
    "구글, 네이버나 다음과 같은 포덜, 트위터, 페이스북 등 비공공기관에서도 \n",
    "외부에 데이터를 개방하고 있다.\n",
    "\n",
    "'오픈 데이터'는 일반적인 데이터와 달리 '열린' 또는 '오픈'이라는 점에서 차이가 있다.\n",
    "'열린'의 의미를 이해하려면, 오래 전부터 그 용어를 써오고 있는 '오픈소프트웨어'를 참고할 필요가 있다.\n",
    "'**오픈소프트웨어**'는 소스코드가 공개되어 누구나 사용할 수 있는 '오픈소스 라이선스'를 충족하는 소프트웨어를 말한다.\n",
    "오픈이란 누구나 볼 수 있는 공개에서 더 나아가, 라이선스가 공개되어 있다는 뜻이다.\n",
    "저작권에 묶여 있어 사용이 제한되어 있지 않다.\n",
    "Open Knowledge Foundation은 오픈이란 \"**출처와 개방성 유지를 위한 수단을 최대 조건으로 누구나 자유롭게 접근, 사용, 변경, 공유**할 수 있을 때, 지식은 열려있다\"고 정의 하고 있다 (http://opendefinition.org/).\n",
    "즉  누구나 원하는 내용을 자유롭게 사용하고, 수정하고, 공유할 수 있다는 의미이다.\n",
    "'오픈데이터'는 이러한 오픈의 특징을 가지고 있는 데이터를 말한다."
   ]
  },
  {
   "cell_type": "markdown",
   "metadata": {
    "slideshow": {
     "slide_type": "subslide"
    }
   },
   "source": [
    "## O.3 오픈 API\n",
    "\n",
    "원하는 데이터를 발견했다고 하자. 그런 데이터는 보통 내려받기를 한다. 반면에 프로그래밍을 통해 가져올 수 있도록 하는 경우도 있다.\n",
    "\n",
    "API, Application Programming Interface를 통해서 필요한 데이터가 자유롭게 사용될 수 있도록 개방하는 것이다.\n",
    "\n",
    "API는 자신의 애플리케이션에서 다른 애플리케이션의 함수를 호출하여, 데이터를 가져오거나 실행 결과를 활용할 수는 인터페이스이다. 호출하려면 **URL과 함수 및 그 함수호출에 필요한 패러미터**를 적어서 요청한다.\n",
    "\n",
    "프로그램에서 API를 사용하면, 이미 완성되고 검증된 함수를 활용할 수 있기 때문에 시스템을 완성하는데 매우 유용하다.\n",
    "우리나라 포털뿐만 아니라 트위터, 페이스북, 한국 포털이 API를 통해서 데이터를 제공하고 있고, 그 추세는 늘어날 것이다.\n",
    "\n",
    "뉴스, 사진 또는 다른 앱에서 그 내용을 누구나 쉽게 다른 사람에게 공유할 수 있게 되었는데, 이는 API 때문이다.\n",
    "SNS가 스마트폰에서 편리하게 사용되게된 이유로 API를 빼놓을 수가 없다.\n",
    "트위터가 API를 공개해서 실시간 채팅이라는 자신의 기능을 널리 퍼뜨리게 된 계기가 되었다.\n",
    "자신의 API를 공개하면 얼핏 손해라고 볼 수 있지만 자신의 API에 의존하는 기반을 늘리는 효과를 가져올 수 있다.\n",
    "\n",
    "Open API는 오픈에 따라 라이선스가 풀려서 오픈 데이터를 누구나 (보통 개발자) 사용할 수 있도록 제공되는 표준화된 API를 말한다.\n",
    "Open API는 보통 웹에서 제공되는데, 이를 Web API라고 한다. HTTP 프로토콜에 따라 API가 제공된다.\n",
    "\n",
    "API는 **REST** (REpresentational State Transfer) 방식으로 제공되는 경우가 많다.\n",
    "REST는 '웹서비스'를 제공하는 아키텍처를 말한다.\n",
    "'웹서비스'는 HTTP 프로토콜을 통하여 서비스, 자원을 가져오거나 저장하는 기능이다.\n",
    "**SOAP** (Simple Object Access Protocol) 보다는 REST가 간편하여 많이 사용된다.\n"
   ]
  },
  {
   "cell_type": "markdown",
   "metadata": {
    "slideshow": {
     "slide_type": "slide"
    }
   },
   "source": [
    "### REST API\n",
    "\n",
    "넓게 보면 RESTful API도 웹스크레이핑이라고 볼 수 있다.\n",
    "그러나, 웹스크레이핑은 HTML 페이지를 대상으로 한다면, REST는 그 대상이 페이지가 아니라 데이터, 자원 resource이다.\n",
    "물론 웹스크레이핑과 달리, REST는 공식적으로 제공하는 API를 사용한다는 차이가 있다.\n",
    "* REST의 API.\n",
    "    * HTTP Requests와 Responses를 사용하여 데이터를 가져온다.\n",
    "    * **URI, 자원 ID, HTTP 방법 (POST, DELETE, GET, PUT)을 명시**하여 자원 Resource를 읽어 온다.\n",
    "    * '자원'은 REST를 사용해서 가져올 수 있는 데이터로 HTML 페이지, XML, Videos 등을 말한다.\n",
    "    * 데이터는 표현한다는 의미로 Representations이라고 하며 주로 **JSON**, **XML**을 많이 쓰고 있다.\n",
    "    * 자원은 URI 주소 방식에 따라 지정할 수 있다. 뒤에 Query Parameter를 추가할 수 있다. URI를 'endpoint'라고 한다.\n",
    "\n",
    "```\n",
    "http://www.example.com/myresource/1?param1=value1\n",
    "```\n",
    "\n",
    "대량 데이터를 가져오는 경우, 연속적 수행에 필요한 pagination, 정해진 데이터 한도 rate limit를 주의한다.\n",
    "HTTP 프로토콜과 같이 상태를 보관하지 않는 특성을 가진다 (stateless)."
   ]
  },
  {
   "cell_type": "markdown",
   "metadata": {
    "slideshow": {
     "slide_type": "subslide"
    }
   },
   "source": [
    "### REST API 주요 기능\n",
    "\n",
    "주요 HTTP Methods, 기능을 간략하게 보면:\n",
    "\n",
    "함수 | 설명\n",
    "-----:|:-----|\n",
    "GET | 특정 항목을 읽어오는 경우 사용. cache로 저장하고, 뒤로 가기를 할 수 있다. ```http://.../index.html?key1=value1&key2=value2```\n",
    "POST | 새로운 자원을 입력, 갱신 (엎어쓰기). cache로 저장되지 않아 뒤로 가기를 할 수 없다. PUT과 달리 idempotent가 아니다. 여러 번 수행하면 id가 자동 생성되는 것과 같이 여러 레코드가 생성된다. 예: ```INSERT INTO student(name, major) VALUES (\"js\", \"software\")```\n",
    "PUT | POST와 비슷한 기능. 여러 번 실행되어도 변화가 없다 (idempotent이라는 특성이다), 여러 번 수행해도 같은 id로 수행되기 때문에 변화가 없다. 예: ```UPDATE student SET major = \"software\" where id=\"201711111\"```\n",
    "DELETE | 자원을 삭제하는 기능\n",
    "HEAD | GET을 수행하지만, body를 가져오지 않고 headers만 읽는 경우 사용한다.\n",
    "CONNECT | 클라이언트와 서버의 TCP/IP tunnel을 만드는 기능\n",
    "\n",
    "> idempotence 멱등법칙\n",
    "\n",
    "> 동일한 항목에 같은 기능이 여러번 실행되어도 값이 변하지 않고 동일하게 유지된다는 의미. HTTP GET 메서드는 일반적으로 idempotent하다고 간주된다. 같은 GET 요청을 여러 번 보내더라도 서버의 상태나 데이터에는 변경이 없기 때문이다. 반면에 POST 메서드는 일반적으로 idempotent하지 않다."
   ]
  },
  {
   "cell_type": "markdown",
   "metadata": {},
   "source": [
    "## O.4 API 연습\n",
    "\n",
    "REST API를 테스트하려면, 웹 애플리케이션이 구축되어 있어야 가능하다.\n",
    "[httpbin](https://github.com/Runscope/httpbin) 사이트는 API를 테스트하기 편리한 사이트이다. 모든 endpoint 결과는 JSON으로 반환된다.\n",
    "\n",
    "API를 호출하기 위해서는 널리 쓰이고 있는 curl과 Python의 HTTPie, requests 등이 여러 라이브러리가 있다."
   ]
  },
  {
   "cell_type": "markdown",
   "metadata": {
    "slideshow": {
     "slide_type": "slide"
    }
   },
   "source": [
    "### O.4.1 curl\n",
    "\n",
    "[cURL](https://en.wikipedia.org/wiki/CURL)\n",
    "cURL은 이름에서 알 수 있듯이 URL관련한 도구로서, 웹서버에게 HTTP 관련 작업을 요청하고, 처리하는 클라이언트이다. HTTP 뿐만 아니라 FTP, SMTP, LDAP, MQTT, POP3 등 여러 네트워크 프로토콜을 지원하고 있다. 프로그래밍 언어를 사용해도 같은 작업을 할 수 있지만, 명령어 방식으로 사용하는 도구로서 간편하다는 장점이 있다.\n",
    "* 리눅스 설치\n",
    "```\n",
    "sudo apt install curl\n",
    "```\n",
    "* 윈도우 설치\n",
    "    * Windows 10 빌드가 17063 이상인 경우 cURL이 기본적으로 포함되어 있다. ```curl.exe```는 ```C:\\WINDOWS\\system32```에 설치되어 있다.\n",
    "    * 별도로 설치할 경우, cURL을 다운로드 https://curl.se/download.html, 압축을 풀고, 경로 설정을 한다."
   ]
  },
  {
   "cell_type": "markdown",
   "metadata": {},
   "source": [
    "```/ip```는 요청측의 IP 주소를 출력한다."
   ]
  },
  {
   "cell_type": "code",
   "execution_count": 2,
   "metadata": {
    "slideshow": {
     "slide_type": "subslide"
    }
   },
   "outputs": [
    {
     "name": "stdout",
     "output_type": "stream",
     "text": [
      "{\n",
      "  \"origin\": \"125.176.129.177\"\n",
      "}\n"
     ]
    },
    {
     "name": "stderr",
     "output_type": "stream",
     "text": [
      "  % Total    % Received % Xferd  Average Speed   Time    Time     Time  Current\n",
      "                                 Dload  Upload   Total   Spent    Left  Speed\n",
      "\n",
      "  0     0    0     0    0     0      0      0 --:--:-- --:--:-- --:--:--     0\n",
      "100    34  100    34    0     0     77      0 --:--:-- --:--:-- --:--:--    78\n"
     ]
    }
   ],
   "source": [
    "!curl http://httpbin.org/ip"
   ]
  },
  {
   "cell_type": "markdown",
   "metadata": {},
   "source": [
    "```/get```은 요청인자 args, 헤더정보 headers, 요청측 origin ip를 출력한다."
   ]
  },
  {
   "cell_type": "code",
   "execution_count": 1,
   "metadata": {
    "slideshow": {
     "slide_type": "subslide"
    }
   },
   "outputs": [
    {
     "name": "stdout",
     "output_type": "stream",
     "text": [
      "{\n",
      "  \"args\": {}, \n",
      "  \"headers\": {\n",
      "    \"Accept\": \"*/*\", \n",
      "    \"Host\": \"httpbin.org\", \n",
      "    \"User-Agent\": \"curl/8.0.1\", \n",
      "    \"X-Amzn-Trace-Id\": \"Root=1-64f5680f-4ee171140ff7755e4b66ef2c\"\n",
      "  }, \n",
      "  \"origin\": \"125.176.129.177\", \n",
      "  \"url\": \"http://httpbin.org/get\"\n",
      "}\n"
     ]
    },
    {
     "name": "stderr",
     "output_type": "stream",
     "text": [
      "  % Total    % Received % Xferd  Average Speed   Time    Time     Time  Current\n",
      "                                 Dload  Upload   Total   Spent    Left  Speed\n",
      "\n",
      "  0     0    0     0    0     0      0      0 --:--:-- --:--:-- --:--:--     0\n",
      "  0     0    0     0    0     0      0      0 --:--:-- --:--:-- --:--:--     0\n",
      "100   255  100   255    0     0    569      0 --:--:-- --:--:-- --:--:--   574\n"
     ]
    }
   ],
   "source": [
    "!curl http://httpbin.org/get"
   ]
  },
  {
   "cell_type": "markdown",
   "metadata": {
    "slideshow": {
     "slide_type": "subslide"
    }
   },
   "source": [
    "param을 key,value 쌍으로 넘겨줄 수 있고, \"args\": {} 값에서 확인할 수 있다."
   ]
  },
  {
   "cell_type": "code",
   "execution_count": 1,
   "metadata": {},
   "outputs": [
    {
     "name": "stdout",
     "output_type": "stream",
     "text": [
      "{\n",
      "  \"args\": {\n",
      "    \"myname\": \"js\"\n",
      "  }, \n",
      "  \"headers\": {\n",
      "    \"Accept\": \"*/*\", \n",
      "    \"Connection\": \"close\", \n",
      "    \"Host\": \"httpbin.org\", \n",
      "    \"User-Agent\": \"curl/7.47.0\"\n",
      "  }, \n",
      "  \"origin\": \"117.16.44.45\", \n",
      "  \"url\": \"http://httpbin.org/get?myname=js\"\n",
      "}\n"
     ]
    }
   ],
   "source": [
    "!curl http://httpbin.org/get?myname='js'"
   ]
  },
  {
   "cell_type": "markdown",
   "metadata": {
    "slideshow": {
     "slide_type": "subslide"
    }
   },
   "source": [
    "### O.4.2 requests\n",
    "\n",
    "python requests 라이브러리를 사용해 본다.\n",
    "requests.options(url)는 url이 어떤 HTTP methods가 지원되는지 알려준다.\n"
   ]
  },
  {
   "cell_type": "code",
   "execution_count": 4,
   "metadata": {},
   "outputs": [],
   "source": [
    "import requests\n",
    "r = requests.options(\"http://httpbin.org/\")"
   ]
  },
  {
   "cell_type": "markdown",
   "metadata": {},
   "source": [
    "아래에서 보듯이, httpbin.org는 HEAD, OPTIONS, GET를 지원한다."
   ]
  },
  {
   "cell_type": "code",
   "execution_count": 5,
   "metadata": {},
   "outputs": [
    {
     "name": "stdout",
     "output_type": "stream",
     "text": [
      "OPTIONS, HEAD, GET\n"
     ]
    }
   ],
   "source": [
    "print(r.headers['allow'])"
   ]
  },
  {
   "cell_type": "markdown",
   "metadata": {},
   "source": [
    "HTTP에는 코드 번호로 처리한 응답의 상태를 알 수 있다.\n",
    "첫 자리에 따라 구분되고, 끝 두자리는 특별한 의미없이 일련번호로 매겨지게 된다.\n",
    "몇 가지 코드를 살펴보자.\n",
    "* 200: 앞자리 2는 성공을 의미하며, 200은 HTTP 요청이 성공적으로 접수, 처리되었다는 의미이다.\n",
    "* 300: 앞자리 3은 우회 (redirection)를 의미하고, 300은 클라이언트가 어떤 하나를 선택해야 한다는 의미이다.\n",
    "* 404: 앞자리 4는 클라이언트측의 오류로서, 404는 찾을 수 없다는, 403은 해당 자원에 대한 접근이 금지되었다는 응답이다.\n",
    "* 500: 앞자리 5는 서버측의 오류이다. 500은 서버오류, 501은 서버 미구현을 의미한다.\n"
   ]
  },
  {
   "cell_type": "code",
   "execution_count": 6,
   "metadata": {
    "slideshow": {
     "slide_type": "-"
    }
   },
   "outputs": [
    {
     "data": {
      "text/plain": [
       "200"
      ]
     },
     "execution_count": 6,
     "metadata": {},
     "output_type": "execute_result"
    }
   ],
   "source": [
    "r.status_code"
   ]
  },
  {
   "cell_type": "code",
   "execution_count": 7,
   "metadata": {
    "slideshow": {
     "slide_type": "subslide"
    }
   },
   "outputs": [],
   "source": [
    "bad_r = requests.get('http://httpbin.org/status/404')"
   ]
  },
  {
   "cell_type": "code",
   "execution_count": 8,
   "metadata": {
    "slideshow": {
     "slide_type": "-"
    }
   },
   "outputs": [
    {
     "data": {
      "text/plain": [
       "404"
      ]
     },
     "execution_count": 8,
     "metadata": {},
     "output_type": "execute_result"
    }
   ],
   "source": [
    "bad_r.status_code"
   ]
  },
  {
   "cell_type": "markdown",
   "metadata": {
    "slideshow": {
     "slide_type": "subslide"
    }
   },
   "source": [
    "### O.4.3 POST\n",
    "\n",
    "post, put, delete 서비스는 사용할 자원이 저장되어 있지 않으므로, 일부 기능은 의미가 없다.\n",
    "\n",
    "```\n",
    "r = requests.post(\"http://httpbin.org/post\")\n",
    "r = requests.put(\"http://httpbin.org/put\")\n",
    "r = requests.delete(\"http://httpbin.org/delete\")\n",
    "```"
   ]
  },
  {
   "cell_type": "markdown",
   "metadata": {},
   "source": [
    "POST는 HTML form에서 입력을 받아 전송하는 경우에 사용한다.\n",
    "아래와 같이 ```data```에 전송할 데이터를 dictionary형식으로 \"name\":\"js\"를 입력한다."
   ]
  },
  {
   "cell_type": "code",
   "execution_count": 33,
   "metadata": {
    "slideshow": {
     "slide_type": "-"
    }
   },
   "outputs": [],
   "source": [
    "r = requests.post(\"http://httpbin.org/post\", data={\"name\":\"js\"})"
   ]
  },
  {
   "cell_type": "markdown",
   "metadata": {},
   "source": [
    "아래에서 form 필드를 찾아보자. 'form': {'name': 'js'}와 같이 form형식으로 작성되어 데이터가 만들어지는 것을 알 수 있다."
   ]
  },
  {
   "cell_type": "code",
   "execution_count": 34,
   "metadata": {
    "scrolled": true,
    "slideshow": {
     "slide_type": "subslide"
    },
    "tags": []
   },
   "outputs": [
    {
     "data": {
      "text/plain": [
       "{'args': {},\n",
       " 'data': '',\n",
       " 'files': {},\n",
       " 'form': {'name': 'js'},\n",
       " 'headers': {'Accept': '*/*',\n",
       "  'Accept-Encoding': 'gzip, deflate',\n",
       "  'Content-Length': '7',\n",
       "  'Content-Type': 'application/x-www-form-urlencoded',\n",
       "  'Host': 'httpbin.org',\n",
       "  'User-Agent': 'python-requests/2.28.1',\n",
       "  'X-Amzn-Trace-Id': 'Root=1-64d092fb-691cb08902f34a67706259f8'},\n",
       " 'json': None,\n",
       " 'origin': '125.176.129.177',\n",
       " 'url': 'http://httpbin.org/post'}"
      ]
     },
     "execution_count": 34,
     "metadata": {},
     "output_type": "execute_result"
    }
   ],
   "source": [
    "r.json()"
   ]
  },
  {
   "cell_type": "markdown",
   "metadata": {
    "slideshow": {
     "slide_type": "subslide"
    }
   },
   "source": [
    "### O.4.4 HEAD\n",
    "\n",
    "HEAD를 사용해 본다.\n",
    "대량 다운로드와 같이 많은 자원이 소모되는 경우를 대비해, GET함수를 사용하기 전 미리 어떤 헤더가 생성이 되는지 알아볼 경우 사용한다.\n",
    "requests 또는 urllib을 사용할 수 있다."
   ]
  },
  {
   "cell_type": "markdown",
   "metadata": {
    "slideshow": {
     "slide_type": "subslide"
    }
   },
   "source": [
    "#### requests\n",
    "\n",
    "아래는 httpbin.org에 head를 사용해보자."
   ]
  },
  {
   "cell_type": "markdown",
   "metadata": {},
   "source": [
    "클라이언트와 서버가 HTTP 통신을 하면서, 그 헤더에 HTTP reqeusts, responses 관련 정보가 포함되어 있다.\n",
    "아래에서 보듯이, 필드명과 그 값으로 설정되어 있는데, 예를 들면 ```'Access-Control-Allow-Origin': '*'```와 같이 콜론으로 분리해서 적혀있다."
   ]
  },
  {
   "cell_type": "code",
   "execution_count": 35,
   "metadata": {},
   "outputs": [],
   "source": [
    "r = requests.head(\"http://httpbin.org/\")"
   ]
  },
  {
   "cell_type": "code",
   "execution_count": 30,
   "metadata": {},
   "outputs": [
    {
     "name": "stdout",
     "output_type": "stream",
     "text": [
      "{'Date': 'Sun, 29 Aug 2021 10:16:02 GMT', 'Content-Type': 'text/html; charset=utf-8', 'Content-Length': '9593', 'Connection': 'keep-alive', 'Server': 'gunicorn/19.9.0', 'Access-Control-Allow-Origin': '*', 'Access-Control-Allow-Credentials': 'true'}\n"
     ]
    }
   ],
   "source": [
    "print(r.headers)"
   ]
  },
  {
   "cell_type": "code",
   "execution_count": 31,
   "metadata": {
    "slideshow": {
     "slide_type": "-"
    }
   },
   "outputs": [
    {
     "data": {
      "text/plain": [
       "'text/html; charset=utf-8'"
      ]
     },
     "execution_count": 31,
     "metadata": {},
     "output_type": "execute_result"
    }
   ],
   "source": [
    "r.headers['Content-Type']"
   ]
  },
  {
   "cell_type": "markdown",
   "metadata": {},
   "source": [
    "#### urllib\n",
    "\n",
    "urllib의 class HeadRequest를 사용해서 HEAD정보를 출력해보자."
   ]
  },
  {
   "cell_type": "code",
   "execution_count": 36,
   "metadata": {},
   "outputs": [],
   "source": [
    "import urllib\n",
    "\n",
    "class HeadRequest(urllib.request.Request):\n",
    "     def get_method(self):\n",
    "         return \"HEAD\"\n",
    "\n",
    "response = urllib.request.urlopen(HeadRequest(\"http://httpbin.org/\"))"
   ]
  },
  {
   "cell_type": "code",
   "execution_count": 12,
   "metadata": {},
   "outputs": [
    {
     "name": "stdout",
     "output_type": "stream",
     "text": [
      "Date: Fri, 27 Aug 2021 21:47:36 GMT\n",
      "Content-Type: text/html; charset=utf-8\n",
      "Content-Length: 9593\n",
      "Connection: close\n",
      "Server: gunicorn/19.9.0\n",
      "Access-Control-Allow-Origin: *\n",
      "Access-Control-Allow-Credentials: true\n",
      "\n",
      "\n"
     ]
    }
   ],
   "source": [
    "print(response.info())"
   ]
  },
  {
   "cell_type": "code",
   "execution_count": 13,
   "metadata": {
    "slideshow": {
     "slide_type": "subslide"
    }
   },
   "outputs": [
    {
     "data": {
      "text/plain": [
       "'http://httpbin.org/'"
      ]
     },
     "execution_count": 13,
     "metadata": {},
     "output_type": "execute_result"
    }
   ],
   "source": [
    "response.geturl()"
   ]
  },
  {
   "cell_type": "markdown",
   "metadata": {
    "slideshow": {
     "slide_type": "slide"
    }
   },
   "source": [
    "## O.5 많이 쓰이는 웹데이터 형식\n",
    "\n",
    "앞서 본 웹데이터는 HTML 형식이었다. API를 사용하여 수집하는 데이터는 XML 또는 JSON 형식이 많이 쓰인다.\n",
    "\n",
    "### O.5.1 XML\n",
    "\n",
    "XML, Extensible Markup Language은 확장가능한 마크업이다. JSON과 더불어 많이 사용되는 웹데이터 형식이다. key-value 형식으로 데이터 항목을 구성하고 추가, 삭제, 읽기가 용이하다.\n",
    "Python에서 사용할 수 있는 XML 라이브러리는:\n",
    "* ElementTree: 파이썬 내장 built-in 라이브러리\n",
    "* lxml (larger xml): HTML, XML을 빠르게 파싱할 수 있으며, 별도 설치해야 한다. ```pip3 install lxml```"
   ]
  },
  {
   "cell_type": "markdown",
   "metadata": {
    "slideshow": {
     "slide_type": "subslide"
    }
   },
   "source": [
    "* xml header\n",
    "    * version - 1.0과 같이 버전 정보를 넣는다.\n",
    "    * encoding - utf-8을 지정할 수 있다.\n",
    "    * root 앞에 위치한다.\n",
    "```\n",
    "<?xml version='1.0' encoding='utf-8'?>\n",
    "```\n",
    "    "
   ]
  },
  {
   "cell_type": "markdown",
   "metadata": {
    "slideshow": {
     "slide_type": "slide"
    }
   },
   "source": [
    "* 태그는 시작태그 $<$foo$>$ 끝태그 $<$/foo$>$로 구성한다.\n",
    "* 태그는 계층적으로 구성한다. 각 태그는 element라고 한다.\n",
    "    * (1) 루트 element (맨 처음 나오는 element),\n",
    "    * (2) 루트 아래에 있는 elements로 계층적으로 구성, 중첩을 할 수 있다 (nesting element)"
   ]
  },
  {
   "cell_type": "markdown",
   "metadata": {
    "slideshow": {
     "slide_type": "slide"
    }
   },
   "source": [
    "#### XML 정의\n",
    "\n",
    "입력데이터를 xml형식으로 정의해보자."
   ]
  },
  {
   "cell_type": "code",
   "execution_count": 37,
   "metadata": {
    "slideshow": {
     "slide_type": "-"
    }
   },
   "outputs": [],
   "source": [
    "input = '''\n",
    "<students>               # root 태그는 하나만 허용.\n",
    "    <student x=\"1\">      # 속성은 시작태그에 적고, key=\"value\"로 구성. value는 따옴표.\n",
    "        <id>001</id>     # 계층적으로 태그 구성.\n",
    "        <name>Kim</name>\n",
    "    </student>\n",
    "    <student x=\"2\">\n",
    "        <id>002</id>\n",
    "        <name>Lee</name>\n",
    "    </student>\n",
    "</students>\n",
    "'''"
   ]
  },
  {
   "cell_type": "markdown",
   "metadata": {},
   "source": [
    "#### XML 읽기\n",
    "\n",
    "lxml 라이브러리 ElementTree를 사용하여 xml데이터를 읽어낼 수 있다.\n",
    "아래 표에서 보듯이, (1) string에서 읽거나, 또는 (2) 파일에서 읽어 올 수 있다.\n",
    "\n",
    "구분 | string | file\n",
    "---|---|---\n",
    "읽기 | ET.fromstring() | ET.parse()\n",
    "root | 읽으면 root | getroot()를 사용해서 root를 얻음\n",
    "\n",
    "* lxml.etree.fromstring()함수를 사용해서 문자열을 읽는다.\n",
    "* lxml.etree.parse()함수는 '파일'을 읽을 경우 사용한다.   \n",
    "    * 파일이 아닌 문자열을 넘길 경우 'StringIO'를 사용한다. StringIO는 문자열을 파일처럼 만들어 준다. Python3에서는 StringIO -> io.StringIO로 변경되었다. from io import StringIO\n",
    "    "
   ]
  },
  {
   "cell_type": "markdown",
   "metadata": {},
   "source": [
    "문자열에서 읽으려면 ```fromstring()``` 함수를 사용한다."
   ]
  },
  {
   "cell_type": "code",
   "execution_count": 38,
   "metadata": {},
   "outputs": [],
   "source": [
    "import lxml.etree\n",
    "root=lxml.etree.fromstring(input)"
   ]
  },
  {
   "cell_type": "markdown",
   "metadata": {},
   "source": [
    "parse는 파일에서 xml을 읽는 함수다.\n",
    "parse(문자열)함수에 문자열을 인자를 넣어도 된다.\n",
    "또는 아래와 같이 파일에서 문자열을 읽어온 후 그 문자열을 사용해도 된다.\n",
    "\n",
    "```\n",
    "import os\n",
    "f=open(os.path.join('src','my.xml'))\n",
    "xmlstr=f.read()\n",
    "f.close()\n",
    "```"
   ]
  },
  {
   "cell_type": "code",
   "execution_count": 39,
   "metadata": {
    "slideshow": {
     "slide_type": "subslide"
    }
   },
   "outputs": [],
   "source": [
    "from io import StringIO\n",
    "tree=lxml.etree.parse(StringIO(input))\n",
    "root=tree.getroot()"
   ]
  },
  {
   "cell_type": "markdown",
   "metadata": {
    "slideshow": {
     "slide_type": "subslide"
    }
   },
   "source": [
    "파일에서 직접 파싱해서 해보자."
   ]
  },
  {
   "cell_type": "code",
   "execution_count": 40,
   "metadata": {
    "scrolled": true
   },
   "outputs": [
    {
     "name": "stdout",
     "output_type": "stream",
     "text": [
      "Writing src/ds_open_hello.xml\n"
     ]
    }
   ],
   "source": [
    "%%writefile src/ds_open_hello.xml\n",
    "<students>\n",
    "<student x=\"1\">\n",
    "    <id>001</id>\n",
    "    <name>Kim</name>\n",
    "</student>\n",
    "<student x=\"2\">\n",
    "    <id>002</id>\n",
    "    <name>Lee</name>\n",
    "</student>\n",
    "</students>"
   ]
  },
  {
   "cell_type": "markdown",
   "metadata": {},
   "source": [
    "데이터를 읽어오면, 태그를 인식한 것처럼 보이지만 그렇지 않다.\n",
    "파일에서 읽어온 것은 '태그'가 아니라 '문자열'이다. 파싱이 완료된 '태그'가 아니라, 파싱을 해야 하는 '문자열'이다.\n",
    "태그와 그 안에 포함된 데이터를 인식하기 위해서이다.\n",
    "\n",
    "* 반복은 tree 또는 root에서 해도 된다. 아래는 tree에서 for문을 반복한다.\n",
    "* 루트는 getroot() 함수를 이용함."
   ]
  },
  {
   "cell_type": "code",
   "execution_count": 41,
   "metadata": {},
   "outputs": [],
   "source": [
    "import os\n",
    "tree=lxml.etree.parse(os.path.join('src','ds_open_hello.xml'))"
   ]
  },
  {
   "cell_type": "code",
   "execution_count": 42,
   "metadata": {},
   "outputs": [],
   "source": [
    "root=tree.getroot()"
   ]
  },
  {
   "cell_type": "markdown",
   "metadata": {},
   "source": [
    "root는 최상위 노드를 말한다. 그 tag는 'students'이다."
   ]
  },
  {
   "cell_type": "code",
   "execution_count": 43,
   "metadata": {},
   "outputs": [
    {
     "data": {
      "text/plain": [
       "str"
      ]
     },
     "execution_count": 43,
     "metadata": {},
     "output_type": "execute_result"
    }
   ],
   "source": [
    "type(root.tag)"
   ]
  },
  {
   "cell_type": "code",
   "execution_count": 44,
   "metadata": {},
   "outputs": [
    {
     "data": {
      "text/plain": [
       "'students'"
      ]
     },
     "execution_count": 44,
     "metadata": {},
     "output_type": "execute_result"
    }
   ],
   "source": [
    "root.tag"
   ]
  },
  {
   "cell_type": "markdown",
   "metadata": {},
   "source": [
    "root의 attrib는 당연히 아무것도 없다."
   ]
  },
  {
   "cell_type": "code",
   "execution_count": 45,
   "metadata": {},
   "outputs": [
    {
     "data": {
      "text/plain": [
       "{}"
      ]
     },
     "execution_count": 45,
     "metadata": {},
     "output_type": "execute_result"
    }
   ],
   "source": [
    "root.attrib"
   ]
  },
  {
   "cell_type": "markdown",
   "metadata": {},
   "source": [
    "현재 XML 트리에 어떤 태그가 있는지 확인해보자."
   ]
  },
  {
   "cell_type": "code",
   "execution_count": 46,
   "metadata": {},
   "outputs": [
    {
     "name": "stdout",
     "output_type": "stream",
     "text": [
      "student\n",
      "student\n"
     ]
    }
   ],
   "source": [
    "for e in root:\n",
    "    print(e.tag)"
   ]
  },
  {
   "cell_type": "markdown",
   "metadata": {},
   "source": [
    "getchildren()으로 확인할 수 있다."
   ]
  },
  {
   "cell_type": "code",
   "execution_count": 47,
   "metadata": {},
   "outputs": [
    {
     "data": {
      "text/plain": [
       "[<Element student at 0x250c7a2c800>, <Element student at 0x250c7a2c2c0>]"
      ]
     },
     "execution_count": 47,
     "metadata": {},
     "output_type": "execute_result"
    }
   ],
   "source": [
    "root.getchildren()"
   ]
  },
  {
   "cell_type": "markdown",
   "metadata": {},
   "source": [
    "```getChilderen()```은 하위 요소를 모두 찾아 리스트로 만들어 준다."
   ]
  },
  {
   "cell_type": "code",
   "execution_count": 48,
   "metadata": {},
   "outputs": [
    {
     "data": {
      "text/plain": [
       "list"
      ]
     },
     "execution_count": 48,
     "metadata": {},
     "output_type": "execute_result"
    }
   ],
   "source": [
    "type(root.getchildren())"
   ]
  },
  {
   "cell_type": "code",
   "execution_count": null,
   "metadata": {},
   "outputs": [],
   "source": [
    "따라서 하나씩 가져오려면 리스트에 대해 index를 사용한다."
   ]
  },
  {
   "cell_type": "code",
   "execution_count": 49,
   "metadata": {},
   "outputs": [
    {
     "data": {
      "text/plain": [
       "<Element student at 0x250c7a2c2c0>"
      ]
     },
     "execution_count": 49,
     "metadata": {},
     "output_type": "execute_result"
    }
   ],
   "source": [
    "root.getchildren()[1]"
   ]
  },
  {
   "cell_type": "markdown",
   "metadata": {},
   "source": [
    "2번째 ```student```의 속성 ```x```의 값을 출력한다."
   ]
  },
  {
   "cell_type": "code",
   "execution_count": 20,
   "metadata": {},
   "outputs": [
    {
     "data": {
      "text/plain": [
       "{'x': '2'}"
      ]
     },
     "execution_count": 20,
     "metadata": {},
     "output_type": "execute_result"
    }
   ],
   "source": [
    "root.getchildren()[1].attrib"
   ]
  },
  {
   "cell_type": "markdown",
   "metadata": {},
   "source": [
    "방금 출력 값은 dictionary이다. 키 인덱스를 넣어주면 해당하는 값을 출력할 수 있다."
   ]
  },
  {
   "cell_type": "code",
   "execution_count": 22,
   "metadata": {},
   "outputs": [
    {
     "data": {
      "text/plain": [
       "'2'"
      ]
     },
     "execution_count": 22,
     "metadata": {},
     "output_type": "execute_result"
    }
   ],
   "source": [
    "root.getchildren()[1].attrib['x']"
   ]
  },
  {
   "cell_type": "code",
   "execution_count": null,
   "metadata": {},
   "outputs": [],
   "source": [
    "2번째 ```student```의 ```id```, ```name``` 가운데 첫번째 ```id```의 값을 출력한다."
   ]
  },
  {
   "cell_type": "code",
   "execution_count": 28,
   "metadata": {},
   "outputs": [
    {
     "data": {
      "text/plain": [
       "'002'"
      ]
     },
     "execution_count": 28,
     "metadata": {},
     "output_type": "execute_result"
    }
   ],
   "source": [
    "(root.getchildren()[1]).getchildren()[0].text"
   ]
  },
  {
   "cell_type": "markdown",
   "metadata": {
    "slideshow": {
     "slide_type": "subslide"
    }
   },
   "source": [
    "* 계층으로된 데이터를 읽으려면 반복문으로 읽어보자.\n"
   ]
  },
  {
   "cell_type": "code",
   "execution_count": 43,
   "metadata": {
    "slideshow": {
     "slide_type": "subslide"
    }
   },
   "outputs": [
    {
     "name": "stdout",
     "output_type": "stream",
     "text": [
      "id => 001\n",
      "name => Kim\n",
      "id => 002\n",
      "name => Lee\n"
     ]
    }
   ],
   "source": [
    "for ee in root.getchildren():    # 하위 요소를 읽음\n",
    "    for e in ee.getchildren():   # 하위의 하위 요소를 읽음\n",
    "        if not e.text:\n",
    "            text = \"None\"\n",
    "        else:\n",
    "            text = e.text\n",
    "        print(e.tag + \" => \" + text)"
   ]
  },
  {
   "cell_type": "markdown",
   "metadata": {
    "slideshow": {
     "slide_type": "subslide"
    }
   },
   "source": [
    "* getiterator()를 사용하여, 태그를 하나씩 접근해, tag, text, attribute를 출력한다."
   ]
  },
  {
   "cell_type": "code",
   "execution_count": 57,
   "metadata": {
    "scrolled": true
   },
   "outputs": [
    {
     "name": "stdout",
     "output_type": "stream",
     "text": [
      "TAG: students \tATTRIB: {} \t\t TEXT: \n",
      "\n",
      "TAG: student \tATTRIB: {'x': '1'} \t\t TEXT: \n",
      "    \n",
      "TAG: id \tATTRIB: {} \t\t TEXT: 001\n",
      "TAG: name \tATTRIB: {} \t\t TEXT: Kim\n",
      "TAG: student \tATTRIB: {'x': '2'} \t\t TEXT: \n",
      "    \n",
      "TAG: id \tATTRIB: {} \t\t TEXT: 002\n",
      "TAG: name \tATTRIB: {} \t\t TEXT: Lee\n"
     ]
    }
   ],
   "source": [
    "for node in root.getiterator():\n",
    "    #print('TAG: {0:10s} ATTRIB: {1:10s}'.format(node.tag, node.attrib))\n",
    "    print('TAG: {0} \\tATTRIB: {1} \\t\\t TEXT: {2}'.format(node.tag, node.attrib, node.text))"
   ]
  },
  {
   "cell_type": "markdown",
   "metadata": {},
   "source": [
    "#### XML 검색\n",
    "\n",
    "검색은 다음과 같은 find() 함수가 있다.\n",
    "* ```iterfind()```: 반복적으로 인자와 일치하는 요소를 검색\n",
    "* ```findall()```: 인자와 일치하는 요소들을 리스트로 반환\n",
    "* ```find()```: 인자와 일치하는 첫 요소를 반환\n",
    "* ```findtext()```: 인자와 일치하는 첫 요소의 ```.text``` 내용을 반환"
   ]
  },
  {
   "cell_type": "markdown",
   "metadata": {},
   "source": [
    "find() 함수는 student 태그를 하나만 검색한다."
   ]
  },
  {
   "cell_type": "code",
   "execution_count": 64,
   "metadata": {
    "slideshow": {
     "slide_type": "subslide"
    }
   },
   "outputs": [],
   "source": [
    "std=root.find('student')"
   ]
  },
  {
   "cell_type": "markdown",
   "metadata": {},
   "source": [
    "```student``` 태그를 검색한 후, 인덱스로 id 또는 name을 접근할 수 있다."
   ]
  },
  {
   "cell_type": "code",
   "execution_count": 32,
   "metadata": {
    "slideshow": {
     "slide_type": "subslide"
    }
   },
   "outputs": [
    {
     "data": {
      "text/plain": [
       "'001'"
      ]
     },
     "execution_count": 32,
     "metadata": {},
     "output_type": "execute_result"
    }
   ],
   "source": [
    "root.find('student')[0].text"
   ]
  },
  {
   "cell_type": "code",
   "execution_count": 65,
   "metadata": {
    "slideshow": {
     "slide_type": "subslide"
    }
   },
   "outputs": [
    {
     "name": "stdout",
     "output_type": "stream",
     "text": [
      "001\n",
      "Kim\n"
     ]
    }
   ],
   "source": [
    "for node in std:\n",
    "    print (node.text)"
   ]
  },
  {
   "cell_type": "code",
   "execution_count": 60,
   "metadata": {
    "slideshow": {
     "slide_type": "subslide"
    }
   },
   "outputs": [
    {
     "name": "stdout",
     "output_type": "stream",
     "text": [
      "{'x': '1'}\n"
     ]
    }
   ],
   "source": [
    "print (std.attrib)"
   ]
  },
  {
   "cell_type": "code",
   "execution_count": 66,
   "metadata": {
    "slideshow": {
     "slide_type": "subslide"
    }
   },
   "outputs": [
    {
     "data": {
      "text/plain": [
       "'student'"
      ]
     },
     "execution_count": 66,
     "metadata": {},
     "output_type": "execute_result"
    }
   ],
   "source": [
    "std.tag"
   ]
  },
  {
   "cell_type": "code",
   "execution_count": null,
   "metadata": {},
   "outputs": [],
   "source": [
    "findall() 함수는 student 태그를 모두 검색한다. 따라서 그 결과는 리스트가 된다."
   ]
  },
  {
   "cell_type": "code",
   "execution_count": 67,
   "metadata": {
    "slideshow": {
     "slide_type": "subslide"
    }
   },
   "outputs": [],
   "source": [
    "stds=root.findall('student')"
   ]
  },
  {
   "cell_type": "code",
   "execution_count": 68,
   "metadata": {
    "slideshow": {
     "slide_type": "subslide"
    }
   },
   "outputs": [
    {
     "name": "stdout",
     "output_type": "stream",
     "text": [
      "001\n",
      "Kim\n",
      "002\n",
      "Lee\n"
     ]
    }
   ],
   "source": [
    "for node in stds:\n",
    "    for item in node:\n",
    "        print (item.text)"
   ]
  },
  {
   "cell_type": "markdown",
   "metadata": {
    "slideshow": {
     "slide_type": "subslide"
    }
   },
   "source": [
    "#### XPath\n",
    "\n",
    "* /: 루트 바로 아래 수준만 검색\n",
    "* //: 계층의 어느 수준에 있는지 상관하지 않고 일치하는 요소를 검색\n",
    "* @: 속성을 검색\n"
   ]
  },
  {
   "cell_type": "markdown",
   "metadata": {},
   "source": [
    "```//@x```는 어느 수준에 있든지 ```x``` 속성을 검색해서 그 값을 출력한다."
   ]
  },
  {
   "cell_type": "code",
   "execution_count": 102,
   "metadata": {},
   "outputs": [
    {
     "data": {
      "text/plain": [
       "['1', '2']"
      ]
     },
     "execution_count": 102,
     "metadata": {},
     "output_type": "execute_result"
    }
   ],
   "source": [
    "root.xpath('//@x')"
   ]
  },
  {
   "cell_type": "markdown",
   "metadata": {},
   "source": [
    "사각괄호를 사용하게 되면, 그 조건에 맞는 요소만 찾아낸다.\n",
    "```[@x=\"1\"]```는 속성 ```x=1```인 어떤 요소라도 (와일드카드 ```*``` 의미) 찾아내라는 의미이다."
   ]
  },
  {
   "cell_type": "code",
   "execution_count": 57,
   "metadata": {},
   "outputs": [
    {
     "data": {
      "text/plain": [
       "['001']"
      ]
     },
     "execution_count": 57,
     "metadata": {},
     "output_type": "execute_result"
    }
   ],
   "source": [
    "root.xpath('//*[@x=\"1\"]/id/text()')"
   ]
  },
  {
   "cell_type": "markdown",
   "metadata": {
    "slideshow": {
     "slide_type": "subslide"
    }
   },
   "source": [
    "#### CSS\n",
    "\n",
    "lxml은 XPath 뿐만 아니라, CSS를 통한 검색도 지원한다.\n",
    "cssselect는 별도의 라이브러리이고 lxml을 통해서 사용할 수 있다.\n",
    "따라서 다음과 같이 먼저 설치를 해야한다.\n",
    "```\n",
    "pip install cssselect\n",
    "```\n",
    "\n",
    "그리고 나서 ```lxml.cssselect```를 통해서 ```CSSSelector```를 사용하게 된다.\n",
    "CSSSelector는 일치하는 XML 요소를 검색하지만, 사용하는 문법이 XPath가 아니라 css이라는 점이 다르다."
   ]
  },
  {
   "cell_type": "markdown",
   "metadata": {},
   "source": [
    "HTML의 스타일을 지정하는 용도로 사용되기 때문에\n",
    "HTML과 관련한 문법을 가지고 있다.\n",
    "\n",
    "* ```.class```: 예를 들어, .myClass는 ```class=\"myClass\"```인 태그를 검색\n",
    "* ```#id```: 예를 들어, #myId는 ```id=\"myId\"```인 태그를 검색\n",
    "그 외에도 HTML을 지원하는 문법이 있다.\n",
    "\n",
    "아래는 CSSSelector에 ```'student'```문자열을 인자로 넘겨주고 있다.\n",
    "이는 ```'student'```를 가지는 태그를 검색한다는 뜻이다.\n",
    "앞서 XML 태그를 보면, 해당하는 태그는 2개가 있다."
   ]
  },
  {
   "cell_type": "code",
   "execution_count": 33,
   "metadata": {},
   "outputs": [],
   "source": [
    "from lxml.cssselect import CSSSelector\n",
    "\n",
    "sel = CSSSelector('student') # construct a CSS Selector"
   ]
  },
  {
   "cell_type": "markdown",
   "metadata": {},
   "source": [
    "이렇게 생성을 하면, XML students에 대한 CSSSelector라는 점을 알 수 있다.\n",
    "그 css, path도 알 수 있다."
   ]
  },
  {
   "cell_type": "code",
   "execution_count": 150,
   "metadata": {},
   "outputs": [
    {
     "data": {
      "text/plain": [
       "<CSSSelector 7fcc3056b9e8 for 'student'>"
      ]
     },
     "execution_count": 150,
     "metadata": {},
     "output_type": "execute_result"
    }
   ],
   "source": [
    "sel"
   ]
  },
  {
   "cell_type": "code",
   "execution_count": 151,
   "metadata": {},
   "outputs": [
    {
     "data": {
      "text/plain": [
       "'student'"
      ]
     },
     "execution_count": 151,
     "metadata": {},
     "output_type": "execute_result"
    }
   ],
   "source": [
    "sel.css"
   ]
  },
  {
   "cell_type": "code",
   "execution_count": 152,
   "metadata": {},
   "outputs": [
    {
     "data": {
      "text/plain": [
       "'descendant-or-self::student'"
      ]
     },
     "execution_count": 152,
     "metadata": {},
     "output_type": "execute_result"
    }
   ],
   "source": [
    "sel.path"
   ]
  },
  {
   "cell_type": "markdown",
   "metadata": {},
   "source": [
    "앞서와 같이 XML의 root를 생성한 후, 앞서의 CSSSelector를 적용해보자."
   ]
  },
  {
   "cell_type": "code",
   "execution_count": 153,
   "metadata": {},
   "outputs": [],
   "source": [
    "root=lxml.etree.fromstring(input) # Apply the selector to the DOM tree."
   ]
  },
  {
   "cell_type": "code",
   "execution_count": 34,
   "metadata": {},
   "outputs": [],
   "source": [
    "nodes = sel(root)"
   ]
  },
  {
   "cell_type": "markdown",
   "metadata": {},
   "source": [
    "css selector의 결과는 list이다."
   ]
  },
  {
   "cell_type": "code",
   "execution_count": 35,
   "metadata": {},
   "outputs": [
    {
     "data": {
      "text/plain": [
       "list"
      ]
     },
     "execution_count": 35,
     "metadata": {},
     "output_type": "execute_result"
    }
   ],
   "source": [
    "type(nodes)"
   ]
  },
  {
   "cell_type": "code",
   "execution_count": 36,
   "metadata": {},
   "outputs": [
    {
     "data": {
      "text/plain": [
       "2"
      ]
     },
     "execution_count": 36,
     "metadata": {},
     "output_type": "execute_result"
    }
   ],
   "source": [
    "len(nodes)"
   ]
  },
  {
   "cell_type": "code",
   "execution_count": 40,
   "metadata": {},
   "outputs": [
    {
     "data": {
      "text/plain": [
       "'1'"
      ]
     },
     "execution_count": 40,
     "metadata": {},
     "output_type": "execute_result"
    }
   ],
   "source": [
    "nodes[0].get('x')"
   ]
  },
  {
   "cell_type": "code",
   "execution_count": null,
   "metadata": {},
   "outputs": [],
   "source": [
    "student의 속성 x 값을 출력해보자."
   ]
  },
  {
   "cell_type": "code",
   "execution_count": 158,
   "metadata": {},
   "outputs": [
    {
     "name": "stdout",
     "output_type": "stream",
     "text": [
      "1\n",
      "2\n"
     ]
    }
   ],
   "source": [
    "for e in nodes:\n",
    "    print(e.get('x'))"
   ]
  },
  {
   "cell_type": "markdown",
   "metadata": {},
   "source": [
    "특정한 요소의 텍스트를 출력해보자.\n",
    "CSSSelector를 재설정해 주어야 한다."
   ]
  },
  {
   "cell_type": "code",
   "execution_count": 41,
   "metadata": {},
   "outputs": [],
   "source": [
    "from lxml.cssselect import CSSSelector\n",
    "\n",
    "sel = CSSSelector('id') # construct a CSS Selector\n",
    "nodes = sel(root)"
   ]
  },
  {
   "cell_type": "code",
   "execution_count": 144,
   "metadata": {},
   "outputs": [
    {
     "data": {
      "text/plain": [
       "list"
      ]
     },
     "execution_count": 144,
     "metadata": {},
     "output_type": "execute_result"
    }
   ],
   "source": [
    "type(nodes)"
   ]
  },
  {
   "cell_type": "code",
   "execution_count": 43,
   "metadata": {},
   "outputs": [
    {
     "data": {
      "text/plain": [
       "'001'"
      ]
     },
     "execution_count": 43,
     "metadata": {},
     "output_type": "execute_result"
    }
   ],
   "source": [
    "nodes[0].text"
   ]
  },
  {
   "cell_type": "code",
   "execution_count": 146,
   "metadata": {},
   "outputs": [
    {
     "name": "stdout",
     "output_type": "stream",
     "text": [
      "001\n",
      "002\n"
     ]
    }
   ],
   "source": [
    "for e in nodes:\n",
    "    print(e.text)"
   ]
  },
  {
   "cell_type": "markdown",
   "metadata": {
    "slideshow": {
     "slide_type": "slide"
    }
   },
   "source": [
    "### O.5.2 JSON\n",
    "\n",
    "JSON (JavaScript Object Notation)은 Javascript에서 사용하는 표기이고, Python의 dictionary형식과 같다."
   ]
  },
  {
   "cell_type": "code",
   "execution_count": null,
   "metadata": {},
   "outputs": [],
   "source": [
    "먼저 아래와 같이 문자열을 정의해보자. "
   ]
  },
  {
   "cell_type": "code",
   "execution_count": 44,
   "metadata": {
    "slideshow": {
     "slide_type": "subslide"
    }
   },
   "outputs": [],
   "source": [
    "input = '''[\n",
    "    { \"id\" : \"001\", \"x\" : \"2\", \"name\" : \"Chuck\"},\n",
    "    { \"id\" : \"009\",\"x\" : \"7\",\"name\" : \"Brent\" }\n",
    "]'''"
   ]
  },
  {
   "cell_type": "code",
   "execution_count": null,
   "metadata": {},
   "outputs": [],
   "source": [
    "그리고 나서, ```loads()``` 함수를 사용하여 문자열을 JSON으로 파싱한다."
   ]
  },
  {
   "cell_type": "code",
   "execution_count": 45,
   "metadata": {
    "slideshow": {
     "slide_type": "subslide"
    }
   },
   "outputs": [],
   "source": [
    "import json\n",
    "\n",
    "info = json.loads(input)"
   ]
  },
  {
   "cell_type": "markdown",
   "metadata": {},
   "source": [
    "JSON에 요소가 몇 개인지, ```str.format()``` 형식으로 출력해보자."
   ]
  },
  {
   "cell_type": "code",
   "execution_count": 167,
   "metadata": {
    "slideshow": {
     "slide_type": "subslide"
    }
   },
   "outputs": [
    {
     "data": {
      "text/plain": [
       "'User count:2'"
      ]
     },
     "execution_count": 167,
     "metadata": {},
     "output_type": "execute_result"
    }
   ],
   "source": [
    "'User count:{}'.format(len(info))"
   ]
  },
  {
   "cell_type": "code",
   "execution_count": 47,
   "metadata": {},
   "outputs": [
    {
     "data": {
      "text/plain": [
       "{'id': '001', 'x': '2', 'name': 'Chuck'}"
      ]
     },
     "execution_count": 47,
     "metadata": {},
     "output_type": "execute_result"
    }
   ],
   "source": [
    "info[0]"
   ]
  },
  {
   "cell_type": "code",
   "execution_count": 48,
   "metadata": {},
   "outputs": [
    {
     "data": {
      "text/plain": [
       "'001'"
      ]
     },
     "execution_count": 48,
     "metadata": {},
     "output_type": "execute_result"
    }
   ],
   "source": [
    "info[0]['id']"
   ]
  },
  {
   "cell_type": "code",
   "execution_count": 171,
   "metadata": {
    "slideshow": {
     "slide_type": "subslide"
    }
   },
   "outputs": [
    {
     "name": "stdout",
     "output_type": "stream",
     "text": [
      "id: 001 \tname: Chuck\n",
      "id: 009 \tname: Brent\n"
     ]
    }
   ],
   "source": [
    "for item in info:\n",
    "    print (\"id: {} \\tname: {}\".format(item['id'], item['name']))"
   ]
  },
  {
   "cell_type": "markdown",
   "metadata": {},
   "source": [
    "```dumps()```는 Python dictionary를 JSON 문자열로 변환하는 함수이다.\n",
    "아래는 튜플 (```()``` 괄호), ```None```과 같은 파이썬 문법을 포함하고 있다."
   ]
  },
  {
   "cell_type": "code",
   "execution_count": 176,
   "metadata": {
    "slideshow": {
     "slide_type": "subslide"
    }
   },
   "outputs": [],
   "source": [
    "import json\n",
    "my=json.dumps(\n",
    "    ['foo', {'bar': ('baz', None, 1.0, 2)}]\n",
    ")"
   ]
  },
  {
   "cell_type": "code",
   "execution_count": 177,
   "metadata": {},
   "outputs": [
    {
     "data": {
      "text/plain": [
       "str"
      ]
     },
     "execution_count": 177,
     "metadata": {},
     "output_type": "execute_result"
    }
   ],
   "source": [
    "type(my)"
   ]
  },
  {
   "cell_type": "code",
   "execution_count": 178,
   "metadata": {},
   "outputs": [
    {
     "data": {
      "text/plain": [
       "'[\"foo\", {\"bar\": [\"baz\", null, 1.0, 2]}]'"
      ]
     },
     "execution_count": 178,
     "metadata": {},
     "output_type": "execute_result"
    }
   ],
   "source": [
    "my"
   ]
  },
  {
   "cell_type": "markdown",
   "metadata": {
    "slideshow": {
     "slide_type": "slide"
    }
   },
   "source": [
    "## 문제 1: IP 주소에서 지역정보 알아내기\n",
    "\n",
    "인터넷 주소를 판단하여, 누가 어디서 접근하는지 알아내려고 한다고 하자.\n",
    "이런 기능을 스스로 구현하려고 한다면, 네트워크를 분석해서 인터넷주소의 지역정보를 알아내야 한다.\n",
    "그러나 Open API를 사용하면, 자신의 프로그래밍 없이 필요로 하는 기능을 완성할 수 있는 '지름길'이 있다."
   ]
  },
  {
   "cell_type": "markdown",
   "metadata": {
    "slideshow": {
     "slide_type": "subslide"
    }
   },
   "source": [
    "ipstack api를 사용해 보자.\n",
    "ip주소의 국가, 위경도, 지역을 알아내는 API를 제공한다.\n",
    "\n",
    "아래와 같이, IP주소와 인증키를 넣어 url을 완성한 후 서비스를 요청하면 된다.\n",
    "회원에 가입하면,  주어지는 API Access Key를 사용하면 된다 (d7cdd0602f68e39767eba8a0e245e849).\n",
    "```\n",
    "http://api.ipstack.com/<ip주소>?access_key=<인증키>\n",
    "```"
   ]
  },
  {
   "cell_type": "code",
   "execution_count": 9,
   "metadata": {},
   "outputs": [],
   "source": [
    "url='http://api.ipstack.com/125.176.129.177?access_key=d7cdd0602f68e39767eba8a0e245e849'"
   ]
  },
  {
   "cell_type": "code",
   "execution_count": 10,
   "metadata": {},
   "outputs": [],
   "source": [
    "import requests\n",
    "\n",
    "r=requests.get(url)"
   ]
  },
  {
   "cell_type": "markdown",
   "metadata": {},
   "source": [
    "결과는 XML 또는 JSON 형식이다.\n",
    "* 읽어온 데이터는 문자열이다.\n",
    "* json으로 변환하는 함수 json.loads()를 사용한다.\n",
    "* json형식은 Python dictionary와 동일하다.\n",
    "* json은 유니코드를 지원한다."
   ]
  },
  {
   "cell_type": "code",
   "execution_count": 11,
   "metadata": {},
   "outputs": [],
   "source": [
    "import json\n",
    "geo=json.loads(r.text)"
   ]
  },
  {
   "cell_type": "code",
   "execution_count": null,
   "metadata": {},
   "outputs": [],
   "source": [
    "요청한 IP주소가 Asia, South Korea, Seoul이고 한국어를 사용하는 지역이라는 정보와\n",
    "위경도 37.56100082397461, 126.98265075683594를 출력하고 있다."
   ]
  },
  {
   "cell_type": "code",
   "execution_count": 12,
   "metadata": {},
   "outputs": [
    {
     "name": "stdout",
     "output_type": "stream",
     "text": [
      "<class 'dict'>\n"
     ]
    }
   ],
   "source": [
    "print (type(geo))"
   ]
  },
  {
   "cell_type": "code",
   "execution_count": 13,
   "metadata": {},
   "outputs": [
    {
     "name": "stdout",
     "output_type": "stream",
     "text": [
      "{'ip': '125.176.129.177', 'type': 'ipv4', 'continent_code': 'AS', 'continent_name': 'Asia', 'country_code': 'KR', 'country_name': 'South Korea', 'region_code': '11', 'region_name': 'Seoul', 'city': 'Seoul', 'zip': '100-011', 'latitude': 37.56100082397461, 'longitude': 126.98265075683594, 'location': {'geoname_id': 1835848, 'capital': 'Seoul', 'languages': [{'code': 'ko', 'name': 'Korean', 'native': '한국어'}], 'country_flag': 'https://assets.ipstack.com/flags/kr.svg', 'country_flag_emoji': '🇰🇷', 'country_flag_emoji_unicode': 'U+1F1F0 U+1F1F7', 'calling_code': '82', 'is_eu': False}}\n"
     ]
    }
   ],
   "source": [
    "print (geo)"
   ]
  },
  {
   "cell_type": "markdown",
   "metadata": {
    "slideshow": {
     "slide_type": "subslide"
    }
   },
   "source": [
    "* json자료에서 key를 찾는다.\n",
    "* get()함수 또는 key를 사용해서 값을 읽을 수 있다. "
   ]
  },
  {
   "cell_type": "code",
   "execution_count": 14,
   "metadata": {},
   "outputs": [
    {
     "data": {
      "text/plain": [
       "'125.176.129.177'"
      ]
     },
     "execution_count": 14,
     "metadata": {},
     "output_type": "execute_result"
    }
   ],
   "source": [
    "geo.get('ip')  # read value by function get()"
   ]
  },
  {
   "cell_type": "code",
   "execution_count": 16,
   "metadata": {},
   "outputs": [
    {
     "data": {
      "text/plain": [
       "'125.176.129.177'"
      ]
     },
     "execution_count": 16,
     "metadata": {},
     "output_type": "execute_result"
    }
   ],
   "source": [
    "geo['ip']      # read value by key"
   ]
  },
  {
   "cell_type": "code",
   "execution_count": 15,
   "metadata": {},
   "outputs": [
    {
     "data": {
      "text/plain": [
       "'Seoul'"
      ]
     },
     "execution_count": 15,
     "metadata": {},
     "output_type": "execute_result"
    }
   ],
   "source": [
    "geo['city']"
   ]
  },
  {
   "cell_type": "code",
   "execution_count": 47,
   "metadata": {},
   "outputs": [
    {
     "data": {
      "text/plain": [
       "'KR'"
      ]
     },
     "execution_count": 47,
     "metadata": {},
     "output_type": "execute_result"
    }
   ],
   "source": [
    "geo.get('country_code')"
   ]
  },
  {
   "cell_type": "markdown",
   "metadata": {
    "slideshow": {
     "slide_type": "subslide"
    }
   },
   "source": [
    "* for문을 사용해서 모든 값을 읽을 수 있다.\n",
    "* 그러나 json은 key-value의 쌍으로 구성되어 있기 때문에 반복문에 k,v를 사용해야 한다. 또한 dictionary를 하나씩 가져와야 하기 때문에 iterator를 사용하고 있다.\n"
   ]
  },
  {
   "cell_type": "code",
   "execution_count": 50,
   "metadata": {
    "slideshow": {
     "slide_type": "-"
    }
   },
   "outputs": [
    {
     "name": "stdout",
     "output_type": "stream",
     "text": [
      "city \t:  Seoul\n",
      "longitude \t:  126.98265075683594\n",
      "ip \t:  125.176.129.177\n",
      "region_code \t:  11\n",
      "country_name \t:  South Korea\n",
      "continent_name \t:  Asia\n",
      "zip \t:  100-011\n",
      "location \t:  {'geoname_id': 1835848, 'country_flag': 'http://assets.ipstack.com/flags/kr.svg', 'is_eu': False, 'capital': 'Seoul', 'country_flag_emoji': '🇰🇷', 'languages': [{'name': 'Korean', 'native': '한국어', 'code': 'ko'}], 'country_flag_emoji_unicode': 'U+1F1F0 U+1F1F7', 'calling_code': '82'}\n",
      "type \t:  ipv4\n",
      "country_code \t:  KR\n",
      "latitude \t:  37.56100082397461\n",
      "continent_code \t:  AS\n",
      "region_name \t:  Seoul\n"
     ]
    }
   ],
   "source": [
    "for k,v in geo.items():\n",
    "    print (k,\"\\t: \",v)"
   ]
  },
  {
   "cell_type": "markdown",
   "metadata": {
    "slideshow": {
     "slide_type": "subslide"
    }
   },
   "source": [
    "* 일괄 실행"
   ]
  },
  {
   "cell_type": "code",
   "execution_count": 51,
   "metadata": {},
   "outputs": [
    {
     "name": "stdout",
     "output_type": "stream",
     "text": [
      "city \t:  Seoul\n",
      "longitude \t:  126.98265075683594\n",
      "ip \t:  125.176.129.177\n",
      "region_code \t:  11\n",
      "country_name \t:  South Korea\n",
      "continent_name \t:  Asia\n",
      "zip \t:  100-011\n",
      "location \t:  {'geoname_id': 1835848, 'country_flag': 'http://assets.ipstack.com/flags/kr.svg', 'is_eu': False, 'capital': 'Seoul', 'country_flag_emoji': '🇰🇷', 'languages': [{'name': 'Korean', 'native': '한국어', 'code': 'ko'}], 'country_flag_emoji_unicode': 'U+1F1F0 U+1F1F7', 'calling_code': '82'}\n",
      "type \t:  ipv4\n",
      "country_code \t:  KR\n",
      "latitude \t:  37.56100082397461\n",
      "continent_code \t:  AS\n",
      "region_name \t:  Seoul\n"
     ]
    }
   ],
   "source": [
    "import json\n",
    "import requests\n",
    "\n",
    "url='http://api.ipstack.com/125.176.129.177?access_key=d7cdd0602f68e39767eba8a0e245e849'\n",
    "r=requests.get(url)\n",
    "geo = json.loads(r.text)\n",
    "for k,v in geo.items():\n",
    "    print (k,\"\\t: \",v)"
   ]
  },
  {
   "cell_type": "markdown",
   "metadata": {
    "slideshow": {
     "slide_type": "slide"
    }
   },
   "source": [
    "## O.6 공공데이터\n",
    "\n",
    "공공데이터는 정부에서 포털형식으로 제공되고 있다.\n",
    "교통, 재난, 의료 등 기관별로 제공하는 공공데이터를 묶어서 포털로 제공하고 있다.\n",
    "\n",
    "또한 시군구별로 제공하는 열린데이터가 있다.\n",
    "그렇기 때문에 data.시군구.go.kr과 같이 url이 명명되어 있다.\n",
    "url은 요청인자를 슬래시로 구분하여 적는다.\n",
    "반면에 공공데이터는 data.go.kr로 명명된다.\n",
    "공공데이터는 url에 요청인자를 &로 구분하여 적고 있다.\n",
    "\n",
    "구분 | 열린데이터 | 공공데이터\n",
    "-----| ----------|----------\n",
    "설명 | 시군구별로 제공하는 Open Data | 정부가 제공, 여러 관공서에서 제공하는 Open Data의 포털\n",
    "웹페이지 | data.seoul.go.kr<br>data.busan.go.kr<br>data.jongno.go.kr | data.go.kr\n",
    "url | 'http://openAPI.seoul.go.kr:8088/' | 포털이므로 통일된 url이 없고, 기관마다의 url\n",
    "조립 | '/'를 사용하여 조립한다.<br>사례에는 모두 동일한 url이 사용된다.  | url에 query parameters를 추가해서 사용한다. '?'로 시작하여 key, value의 쌍을 '&'로 묶음 예: '?k1=v1&k2=v2'"
   ]
  },
  {
   "cell_type": "markdown",
   "metadata": {
    "slideshow": {
     "slide_type": "subslide"
    }
   },
   "source": [
    "### O.6.1 인증키\n",
    "\n",
    "#### 서울시 열린데이터 인증키 신청\n",
    "\n",
    "열린데이터를 이용하기 위해서는 회원가입-로그인 후, \"인증키 신청\"와 같은 메뉴나 페이지를 찾아서 (Home > 자신의 로그인 > 인증키 신청), 키를 발급받아야 한다. url은 이용하실 열린데이터광장 서비스중 URL 하나를 적어주면 된다.\n"
   ]
  },
  {
   "cell_type": "markdown",
   "metadata": {},
   "source": [
    "![alt text](figures/openAPI_request_for_key.png \"request for api key for seoul.go.kr\")"
   ]
  },
  {
   "cell_type": "markdown",
   "metadata": {},
   "source": [
    "#### 서울시 열린데이터 인증키 테스트\n",
    "\n",
    "* 'API검색'의 빈칸에는 검색에 필요한 주요 단어를 적어준다. 여기서는 '노선별 지하철역'\n",
    "* 그리고 아래의 드롭다운 박스에는 해당하는 항목을 선택한다.\n"
   ]
  },
  {
   "cell_type": "markdown",
   "metadata": {},
   "source": [
    "![alt text](figures/openAPI_test.png \"open API test for railway stations\")"
   ]
  },
  {
   "cell_type": "markdown",
   "metadata": {},
   "source": [
    "#### 공공데이터 포털 인증키 신청\n",
    "\n",
    "서울시 열린데이터와 마찬가지로 공공데이터 포털에 인증키를 발급받아야 한다.\n",
    "* (1) 회원 가입 및 로그인: 공공데이터포털(www.data.go.kr)에 회원가입 후 로그인.\n",
    "* (2) 마이페이지로 이동, 인증키 신청은 공공데이터 상세보기 화면에서 [활용신청]을 통해 신청이 가능하고, 발급된 인증키는 [마이페이지>개발계정] 또는 [마이페이지>인증키 발급현황] 상세보기 화면에서 신청현황을 볼 수 있다.\n",
    "\n",
    "```\n",
    "마이페이지 > 오픈API > 개발계정, 여기로 가면 '신청', '활용', '중지'에 내용을 확인할 수 있다.\n",
    "```"
   ]
  },
  {
   "cell_type": "markdown",
   "metadata": {},
   "source": [
    "![alt text](figures/0_apiApproval.png \"gokr approval\")"
   ]
  },
  {
   "cell_type": "markdown",
   "metadata": {
    "slideshow": {
     "slide_type": "slide"
    }
   },
   "source": [
    "### O.6.2 키를 파일로 저장하고 읽는 자신의 라이브러리 만들기\n",
    "\n",
    "사용자 ID, 비밀번호를 직접 사용하면, 보안에 취약할 수 밖에 없다.\n",
    "**OAuth를 사용하여 제3자에게 접근권한을 부여하는 방법**이 보다 안전하다.\n",
    "\n",
    "OAuth는 웹/애플리케이션에서 사용되는 개방형 표준인증 프로토콜이다.\n",
    "Google, Facebook, Twitter 등에서 사용하는 보통 제3자 방식을 사용한다.\n",
    "이 방법은 앱에게 자산의 ID, 비밀번호를 직접 제공하지 않고, '위임 토큰'을 준다.\n",
    "이 '위임 토큰'은 사용자가 취소권한을 가지고 있기 때문에 취소될 수 있다.\n"
   ]
  },
  {
   "cell_type": "markdown",
   "metadata": {
    "slideshow": {
     "slide_type": "slide"
    }
   },
   "source": [
    "#### URL 인코딩\n",
    "\n",
    "URL은 128 ($2^7$) ASCII 문자만 받도록 되어있다.\n",
    "\n",
    "영문자, 숫자, ```-\t_\t.\t~```는 그대로 사용하지만\n",
    "```!\t#\t$\t&\t'\t(\t)\t*\t+\t,\t/\t:\t;\t=\t?\t@\t[\t]```는 퍼센트 인코딩 (또는 url 인코딩)을 한다.\n",
    "\n",
    "URL 인코딩은 온라인 사이트 https://www.urlencoder.org/ 에서 확인할 수 있다."
   ]
  },
  {
   "cell_type": "markdown",
   "metadata": {},
   "source": [
    "url 인코딩은 %를 맨 앞에 그리고 16진수 2자리를 덧붙인다.\n",
    "```#```은 ```%23```으로 변환된다.\n",
    "\n",
    "아래에서 보듯이 한글은 ASCII 128 문자에 포함되지 않으므로, 퍼센트 인코딩으로 표현된다.\n",
    "Python3에서는 urlparse(python2) 대신, urllib.parse를 사용한다."
   ]
  },
  {
   "cell_type": "code",
   "execution_count": 3,
   "metadata": {
    "slideshow": {
     "slide_type": "-"
    }
   },
   "outputs": [
    {
     "name": "stdout",
     "output_type": "stream",
     "text": [
      "%23q=%ED%95%9C%EA%B8%80\n",
      "%23q=%ED%95%9C%EA%B8%80\n"
     ]
    }
   ],
   "source": [
    "import urllib\n",
    "\n",
    "print (urllib.parse.urlencode({'#q':'한글'}))\n",
    "print (urllib.parse.urlencode({'#q':u'한글'.encode('utf-8')}))"
   ]
  },
  {
   "cell_type": "markdown",
   "metadata": {
    "slideshow": {
     "slide_type": "subslide"
    }
   },
   "source": [
    "앞서 발급받은 인증키를 살펴보면, '%'가 포함되어 있을 수 있다.\n",
    "\n",
    "퍼센트 인코딩은 '%'문자를 어떻게 처리할까? **'%'는 '%25'**로 encoding하는데, 코딩으로 확인해보자."
   ]
  },
  {
   "cell_type": "code",
   "execution_count": 6,
   "metadata": {
    "slideshow": {
     "slide_type": "-"
    }
   },
   "outputs": [
    {
     "name": "stdout",
     "output_type": "stream",
     "text": [
      "key=%253D\n"
     ]
    }
   ],
   "source": [
    "import urllib\n",
    "\n",
    "params=urllib.parse.urlencode({'key':'%3D'})\n",
    "print (params)"
   ]
  },
  {
   "cell_type": "markdown",
   "metadata": {
    "slideshow": {
     "slide_type": "slide"
    },
    "tags": []
   },
   "source": [
    "#### 인증키 파일 작성\n",
    "\n",
    "'비밀번호'와 같은 보안이 지켜져야 하는 내용이 프로그램에 직접 사용되지 않도록 주의한다.\n",
    "\n",
    "그러기 위해 인증키를 파일에 저장하자. 파일 이름은 '**key.properties**' 라고, 보통 텍스트로 저장하면된다. 단 **윈도우 메모장에 붙여넣으면 BOM(Byte Order Mark) 문자**가 문제를 일으킨다 (BOM은 유니코드 텍스트 파일의 시작 부분에 추가되는 특수한 바이트 시퀀스).\n",
    "\n",
    "파일에 아래와 같이 **Property형식에 따라 key, value** 적어 넣는다. 파일에 적어 넣는다.\n",
    "공공데이터포털 utf-8로 변환된 키 값은 urlencode()를 하지 않는다.\n",
    "\n",
    "```\n",
    "dataseoul=73725974496a736c34395757705847\n",
    "gokr=8Bx4C1%2Bbogiu3i0M5k7aqOf%2BTA5yCWK%2BFDI7nTSJ0oAhDj1NC5CtbI1TMgFmnpuZxJ9LBoCScqBhuw5sul2tmQ%3D%3D\n",
    "```"
   ]
  },
  {
   "cell_type": "markdown",
   "metadata": {
    "slideshow": {
     "slide_type": "slide"
    }
   },
   "source": [
    "#### 인증키 라이브러리\n",
    "\n",
    "자신의 라이브러리를 만들어보자 (참조: how_to_import.ipynb)\n",
    "* 디렉토리 명이 패키지가 되고, import를 사용할 수 있다.\n",
    "* mylib.py에는 getKey()와 테스트 용도로 sayHello()를 추가한다.\n",
    "* 디렉토리의 파일 구조는:\n",
    "\n",
    "```\n",
    "src/\n",
    "    mylib.py\n",
    "    key.properties\n",
    "```"
   ]
  },
  {
   "cell_type": "code",
   "execution_count": 17,
   "metadata": {},
   "outputs": [
    {
     "name": "stdout",
     "output_type": "stream",
     "text": [
      "Writing src/mylib.py\n"
     ]
    }
   ],
   "source": [
    "%%writefile src/mylib.py\n",
    "def sayHello():\n",
    "    print(\"hello\")\n",
    "\n",
    "def getKey(keyPath):\n",
    "    d=dict()\n",
    "    f=open(keyPath,'r')\n",
    "    for line in f.readlines():\n",
    "        row=line.split('=')\n",
    "        row0=row[0]\n",
    "        d[row0]=row[1].strip()\n",
    "    return d"
   ]
  },
  {
   "cell_type": "markdown",
   "metadata": {},
   "source": [
    "* 코드 설명\n",
    "\n",
    "    - L1: sayHello()는 해당 모듈을 테스트하기 위해 만든 함수\n",
    "    - L4: getKey(키 저장 폴더 명) 함수를 선얺\n",
    "    - L5: d 딕셔너리 초기화\n",
    "    - L6~10: 파일에서 한 줄씩 읽어 =를 기준으로 앞부분row[0]은 키, 뒷부분 row[1]은 값으로 저장한다."
   ]
  },
  {
   "cell_type": "markdown",
   "metadata": {
    "slideshow": {
     "slide_type": "slide"
    }
   },
   "source": [
    "파일은 src/ 디렉토리 아래 mylib.py로 저장한다. 명칭을 잘 기억하자.\n",
    "\n",
    "mylib.py를 호출할 때는 상대적인 위치를 적어주어야 한다는 점에 유의하자.\n",
    "\n",
    "호출하는 **파이썬 파일이 'src' 디렉토리에 있다면(상대적으로 동일한 위치), 'src'를 생략**할 수 있다.\n",
    "\n",
    "```\n",
    "import mylib\n",
    "print mylib.sayHello()\n",
    "```"
   ]
  },
  {
   "cell_type": "code",
   "execution_count": 4,
   "metadata": {},
   "outputs": [
    {
     "name": "stdout",
     "output_type": "stream",
     "text": [
      "hello\n",
      "None\n"
     ]
    }
   ],
   "source": [
    "import src.mylib\n",
    "\n",
    "print (src.mylib.sayHello())"
   ]
  },
  {
   "cell_type": "code",
   "execution_count": 9,
   "metadata": {},
   "outputs": [],
   "source": [
    "import os\n",
    "import src.mylib\n",
    "\n",
    "keyPath=os.path.join(os.getcwd(), 'src', 'key.properties')\n",
    "key=src.mylib.getKey(keyPath)"
   ]
  },
  {
   "cell_type": "code",
   "execution_count": null,
   "metadata": {},
   "outputs": [],
   "source": []
  },
  {
   "cell_type": "markdown",
   "metadata": {},
   "source": [
    "* 코드 설명\n",
    "\n",
    "    - os.path.join() 함수로 현재디렉토리(getcwd()) + src + 'key.properties' 를 합성한다. 운영체제 별로 다를 수 있는 연결자, 역슬래시, 슬래시인지 알아서 합성한다.\n",
    "    - 앞서 만든 src.mylib.getKey() 함수를 호출한다. 점 연산자로 연결한 방식을 주의한다."
   ]
  },
  {
   "cell_type": "code",
   "execution_count": 10,
   "metadata": {
    "slideshow": {
     "slide_type": "-"
    }
   },
   "outputs": [
    {
     "name": "stdout",
     "output_type": "stream",
     "text": [
      "73725974496a736c34395757705847\n"
     ]
    }
   ],
   "source": [
    "print (key['dataseoul'])"
   ]
  },
  {
   "cell_type": "code",
   "execution_count": 11,
   "metadata": {
    "slideshow": {
     "slide_type": "-"
    }
   },
   "outputs": [
    {
     "name": "stdout",
     "output_type": "stream",
     "text": [
      "8Bx4C1%2Bbogiu3i0M5k7aqOf%2BTA5yCWK%2BFDI7nTSJ0oAhDj1NC5CtbI1TMgFmnpuZxJ9LBoCScqBhuw5sul2tmQ%3D%3D\n"
     ]
    }
   ],
   "source": [
    "print (key['gokr'])"
   ]
  },
  {
   "cell_type": "code",
   "execution_count": null,
   "metadata": {},
   "outputs": [],
   "source": []
  },
  {
   "cell_type": "markdown",
   "metadata": {},
   "source": [
    "## 문제 2: 서울시 지하철역 정보 수집\n",
    "\n",
    "서울시 지하철역관련 정보를 수집해보자.\n",
    "열린데이터 사이트에서 \"서울교통공사 노선별 지하철역 정보\"을 찾아보면, 그러한 정보를 제공하는 API '**SearchSTNBySubwayLineInfo**'가 존재한다.\n",
    "\n",
    "![alt text](figures/dataSeoulGoKr_subway.png \"subway stations by line\")"
   ]
  },
  {
   "cell_type": "markdown",
   "metadata": {},
   "source": [
    "SearchSTNBySubwayLineInfo API 호출에 필요한 인자를 정리하면 다음과 같다.\n",
    "\n",
    "\n",
    "변수명 | 타입 | 설명 \n",
    "-----|-----|-----\n",
    "KEY | String | 발급받은 인증키\n",
    "TYPE | String | xml, xmlf, xls, json 데이터 형식\n",
    "SERVICE | String | 서비스명 \n",
    "START_INDEX | Integer | 페이징 시작번호\n",
    "END_INDEX | Integer | 페이징 끝번호\n",
    "STATION_CD | String (선택) | 전철역코드\n",
    "STATION_NM | String (선택) | 전철역명\n",
    "LINE_NM | String (선택) | 호선 1~9: 1~9호선, I: 인천1호선, K: 경의중앙선, B: 분당선, A: 공항철도, G: 경춘선, S:신분당선, SU:수인선. 현재 서울교통공사관할인 1~9호선 정보만 제공.\n",
    "\n",
    "> Pagination\n",
    "\n",
    "> 데이터를 검색하면, 조건에 맞는 레코드가 많을 수 있다.\n",
    "> 모든 레코드를 가져오기 보다는, 페이지로 나누어서 하게 되면 편리하다.\n",
    "> index를 사용하여 조회할 데이터 분량을 정할 수 있다.\n",
    "> 프로그램에서는 반복문으로 index를 사용해서 원하는 분량을 조정하게 된다."
   ]
  },
  {
   "cell_type": "markdown",
   "metadata": {
    "slideshow": {
     "slide_type": "slide"
    }
   },
   "source": [
    "샘플 url은 다음과 같다.\n",
    "* 2호선, 1~10개 역 정보 조회. STATION_CD, STATION_NM은 비워놓아도 된다.\n",
    "http://openAPI.seoul.go.kr:8088/73725974496a736c34395757705847/json/SearchSTNBySubwayLineInfo/1/10///2호선\n",
    "\n",
    "\n",
    "유사한 서비스 '**SearchSTNBySubwayLineService**'가 존재하고, 샘플 url을 보면 앞의 url과 비슷하다.\n",
    "* 1호선: http://openAPI.seoul.go.kr:8088/(인증키)/xml/SearchSTNBySubwayLineService/1/5/1/ (맨 뒤 숫자를 2호선은 2로, 5호선은 5로 변경)"
   ]
  },
  {
   "cell_type": "markdown",
   "metadata": {
    "slideshow": {
     "slide_type": "subslide"
    }
   },
   "source": [
    "### 인증키\n",
    "\n",
    "키는 mylib에서 호출하며, 상대경로에 주의한다.\n",
    "프로그램이 실행되는 디렉토리가 src/이므로, 그냥 mylib.getKey()으로 호출한다."
   ]
  },
  {
   "cell_type": "code",
   "execution_count": 12,
   "metadata": {},
   "outputs": [],
   "source": [
    "import os\n",
    "import src.mylib   # 상대경로\n",
    "\n",
    "keyPath=os.path.join(os.getcwd(), 'src', 'key.properties') # reading key saved in 'src'\n",
    "key=src.mylib.getKey(keyPath)\n",
    "KEY=str(key['dataseoul'])"
   ]
  },
  {
   "cell_type": "markdown",
   "metadata": {
    "slideshow": {
     "slide_type": "subslide"
    }
   },
   "source": [
    "### 요청인자\n",
    "\n",
    "서비스명 'SearchSTNBySubwayLineInfo'에 필요한 인자를 넣는다.\n",
    "* 데이터 타입은 'json'\n",
    "* 페이징에 필요한 INDEX를 조정한다.\n",
    "* 호선 LINE_NUM을 설정한다."
   ]
  },
  {
   "cell_type": "code",
   "execution_count": 13,
   "metadata": {
    "tags": []
   },
   "outputs": [],
   "source": [
    "# api\n",
    "TYPE='json'\n",
    "#SERVICE='SearchSTNBySubwayLineService'\n",
    "SERVICE='SearchSTNBySubwayLineInfo'\n",
    "START_INDEX=str(1)\n",
    "END_INDEX=str(10)\n",
    "LINE_NUM=str(2)"
   ]
  },
  {
   "cell_type": "markdown",
   "metadata": {
    "slideshow": {
     "slide_type": "subslide"
    }
   },
   "source": [
    "### url 만들기\n",
    "\n",
    "앞서 설정한 서비스, 요청인자, 인증키를 슬래시(\"/\")로 합쳐서 URL을 만들어보자."
   ]
  },
  {
   "cell_type": "code",
   "execution_count": 14,
   "metadata": {},
   "outputs": [],
   "source": [
    "params=\"/\".join([KEY,TYPE,SERVICE,START_INDEX,END_INDEX,'','',LINE_NUM])"
   ]
  },
  {
   "cell_type": "markdown",
   "metadata": {},
   "source": [
    "key는 비밀번호로서 30자리이다.\n",
    "이러한 key는 보안상 출력에서 제외하는 것이 바람직 하겠다.\n",
    "key만 제외하고 출력해보자.\n",
    "슬래시로 연결되어 있으니 0~29가 key에 해당하고, 30부터는 슬래시를 포함해 그 이후의 문자열을 출력한다."
   ]
  },
  {
   "cell_type": "code",
   "execution_count": 15,
   "metadata": {
    "slideshow": {
     "slide_type": "subslide"
    }
   },
   "outputs": [
    {
     "name": "stdout",
     "output_type": "stream",
     "text": [
      "/json/SearchSTNBySubwayLineInfo/1/10///2\n"
     ]
    }
   ],
   "source": [
    "print(params[30:])"
   ]
  },
  {
   "cell_type": "markdown",
   "metadata": {
    "slideshow": {
     "slide_type": "subslide"
    }
   },
   "source": [
    "urljoin은 url을 결합할 때 사용할 수 있다. 아래와 같이 url에 params을 덧붙인다.\n",
    "문제는 url에서 슬래시가 제거된다."
   ]
  },
  {
   "cell_type": "code",
   "execution_count": 16,
   "metadata": {},
   "outputs": [
    {
     "name": "stdout",
     "output_type": "stream",
     "text": [
      "http://openAPI.seoul.go.kr:8088/73725974496a736c34395757705847/json/SearchSTNBySubwayLineInfo/1/10/2\n"
     ]
    }
   ],
   "source": [
    "import urllib\n",
    "_url='http://openAPI.seoul.go.kr:8088/'\n",
    "url=urllib.parse.urljoin(_url,params)\n",
    "print(url) # backslashes removed"
   ]
  },
  {
   "cell_type": "markdown",
   "metadata": {},
   "source": [
    "그래서 join() 함수로 문자열 합성을 한다. 주의할 점은 join() 함수는 리스트를 입력받는다."
   ]
  },
  {
   "cell_type": "code",
   "execution_count": 17,
   "metadata": {},
   "outputs": [],
   "source": [
    "_url='http://openAPI.seoul.go.kr:8088'\n",
    "url=\"/\".join([_url,params])"
   ]
  },
  {
   "cell_type": "markdown",
   "metadata": {},
   "source": [
    "url을 출력해보면 하이퍼링크가 만들어 진다. \n",
    "뒤의 슬래시가 포함되어져 있는지 확인해보자.\n",
    "그 url을 마우스로 클릭해보자. 그러면 실행결과가 웹브라우저에 표현된다.\n",
    "\n",
    "http://openAPI.seoul.go.kr:8088//73725974496a736c34395757705847/json/SearchSTNBySubwayLineInfo/1/10///2\n"
   ]
  },
  {
   "cell_type": "code",
   "execution_count": 18,
   "metadata": {
    "scrolled": true
   },
   "outputs": [
    {
     "name": "stdout",
     "output_type": "stream",
     "text": [
      "http://openAPI.seoul.go.kr:8088/73725974496a736c34395757705847/json/SearchSTNBySubwayLineInfo/1/10///2\n"
     ]
    }
   ],
   "source": [
    "print (url)"
   ]
  },
  {
   "cell_type": "markdown",
   "metadata": {},
   "source": [
    "### url 호출\n",
    "\n",
    "requests 라이브러리를 사용하여 url에서 데이터를 가져와 텍스트를 json형식으로 변환한다."
   ]
  },
  {
   "cell_type": "code",
   "execution_count": 19,
   "metadata": {
    "slideshow": {
     "slide_type": "subslide"
    }
   },
   "outputs": [],
   "source": [
    "import requests\n",
    "\n",
    "r=requests.get(url)"
   ]
  },
  {
   "cell_type": "code",
   "execution_count": 20,
   "metadata": {
    "slideshow": {
     "slide_type": "subslide"
    }
   },
   "outputs": [],
   "source": [
    "stations=r.json()"
   ]
  },
  {
   "cell_type": "code",
   "execution_count": 21,
   "metadata": {
    "slideshow": {
     "slide_type": "subslide"
    }
   },
   "outputs": [
    {
     "data": {
      "text/plain": [
       "dict"
      ]
     },
     "execution_count": 21,
     "metadata": {},
     "output_type": "execute_result"
    }
   ],
   "source": [
    "type(stations)"
   ]
  },
  {
   "cell_type": "code",
   "execution_count": 22,
   "metadata": {},
   "outputs": [
    {
     "name": "stdout",
     "output_type": "stream",
     "text": [
      "{'SearchSTNBySubwayLineInfo': {'list_total_count': 777, 'RESULT': {'CODE': 'INFO-000', 'MESSAGE': '정상 처리되었습니다'}, 'row': [{'STATION_CD': '1916', 'STATION_NM': '소요산', 'STATION_NM_ENG': 'Soyosan', 'LINE_NUM': '01호선', 'FR_CODE': '100', 'STATION_NM_CHN': '逍遙山', 'STATION_NM_JPN': '逍遙山'}, {'STATION_CD': '1915', 'STATION_NM': '동두천', 'STATION_NM_ENG': 'Dongducheon', 'LINE_NUM': '01호선', 'FR_CODE': '101', 'STATION_NM_CHN': '東豆川', 'STATION_NM_JPN': '東豆川'}, {'STATION_CD': '1914', 'STATION_NM': '보산', 'STATION_NM_ENG': 'Bosan', 'LINE_NUM': '01호선', 'FR_CODE': '102', 'STATION_NM_CHN': '保山', 'STATION_NM_JPN': '保山'}, {'STATION_CD': '1913', 'STATION_NM': '동두천중앙', 'STATION_NM_ENG': 'Dongducheon jungang', 'LINE_NUM': '01호선', 'FR_CODE': '103', 'STATION_NM_CHN': '東豆川中央', 'STATION_NM_JPN': '東豆川中央'}, {'STATION_CD': '1912', 'STATION_NM': '지행', 'STATION_NM_ENG': 'Jihaeng', 'LINE_NUM': '01호선', 'FR_CODE': '104', 'STATION_NM_CHN': '紙杏', 'STATION_NM_JPN': '紙杏'}, {'STATION_CD': '1911', 'STATION_NM': '덕정', 'STATION_NM_ENG': 'Deokjeong', 'LINE_NUM': '01호선', 'FR_CODE': '105', 'STATION_NM_CHN': '德亭', 'STATION_NM_JPN': '德亭'}, {'STATION_CD': '1910', 'STATION_NM': '덕계', 'STATION_NM_ENG': 'Deokgye', 'LINE_NUM': '01호선', 'FR_CODE': '106', 'STATION_NM_CHN': '德溪', 'STATION_NM_JPN': '德溪'}, {'STATION_CD': '1909', 'STATION_NM': '양주', 'STATION_NM_ENG': 'Yangju', 'LINE_NUM': '01호선', 'FR_CODE': '107', 'STATION_NM_CHN': '楊州', 'STATION_NM_JPN': '楊州'}, {'STATION_CD': '1908', 'STATION_NM': '녹양', 'STATION_NM_ENG': 'Nogyang', 'LINE_NUM': '01호선', 'FR_CODE': '108', 'STATION_NM_CHN': '綠楊', 'STATION_NM_JPN': '綠楊'}, {'STATION_CD': '1907', 'STATION_NM': '가능', 'STATION_NM_ENG': 'Ganeung', 'LINE_NUM': '01호선', 'FR_CODE': '109', 'STATION_NM_CHN': '佳陵', 'STATION_NM_JPN': '佳陵'}]}}\n"
     ]
    }
   ],
   "source": [
    "print (stations)"
   ]
  },
  {
   "cell_type": "markdown",
   "metadata": {},
   "source": [
    "### json 파싱\n",
    "\n",
    "반환되는 json구조를 살펴보면 'row'안에 역정보가 포함되어 있다는 것을 알 수 있다."
   ]
  },
  {
   "cell_type": "code",
   "execution_count": 79,
   "metadata": {},
   "outputs": [
    {
     "data": {
      "text/plain": [
       "[{'STATION_CD': '0159',\n",
       "  'STATION_NM': '동묘앞',\n",
       "  'STATION_NM_ENG': 'Dongmyo',\n",
       "  'LINE_NUM': '01호선',\n",
       "  'FR_CODE': '127'},\n",
       " {'STATION_CD': '0206',\n",
       "  'STATION_NM': '신당',\n",
       "  'STATION_NM_ENG': 'Sindang',\n",
       "  'LINE_NUM': '02호선',\n",
       "  'FR_CODE': '206'},\n",
       " {'STATION_CD': '0207',\n",
       "  'STATION_NM': '상왕십리',\n",
       "  'STATION_NM_ENG': 'Sangwangsimni',\n",
       "  'LINE_NUM': '02호선',\n",
       "  'FR_CODE': '207'},\n",
       " {'STATION_CD': '0208',\n",
       "  'STATION_NM': '왕십리',\n",
       "  'STATION_NM_ENG': 'Wangsimni',\n",
       "  'LINE_NUM': '02호선',\n",
       "  'FR_CODE': '208'},\n",
       " {'STATION_CD': '0209',\n",
       "  'STATION_NM': '한양대',\n",
       "  'STATION_NM_ENG': 'Hanyang Univ.',\n",
       "  'LINE_NUM': '02호선',\n",
       "  'FR_CODE': '209'},\n",
       " {'STATION_CD': '0210',\n",
       "  'STATION_NM': '뚝섬',\n",
       "  'STATION_NM_ENG': 'Ttukseom',\n",
       "  'LINE_NUM': '02호선',\n",
       "  'FR_CODE': '210'},\n",
       " {'STATION_CD': '0211',\n",
       "  'STATION_NM': '성수',\n",
       "  'STATION_NM_ENG': 'Seongsu',\n",
       "  'LINE_NUM': '02호선',\n",
       "  'FR_CODE': '211'},\n",
       " {'STATION_CD': '0212',\n",
       "  'STATION_NM': '건대입구',\n",
       "  'STATION_NM_ENG': 'Konkuk Univ.',\n",
       "  'LINE_NUM': '02호선',\n",
       "  'FR_CODE': '212'},\n",
       " {'STATION_CD': '0213',\n",
       "  'STATION_NM': '구의',\n",
       "  'STATION_NM_ENG': 'Guui',\n",
       "  'LINE_NUM': '02호선',\n",
       "  'FR_CODE': '213'},\n",
       " {'STATION_CD': '0214',\n",
       "  'STATION_NM': '강변',\n",
       "  'STATION_NM_ENG': 'Gangbyeon',\n",
       "  'LINE_NUM': '02호선',\n",
       "  'FR_CODE': '214'}]"
      ]
     },
     "execution_count": 79,
     "metadata": {},
     "output_type": "execute_result"
    }
   ],
   "source": [
    "stations['SearchSTNBySubwayLineInfo']['row']"
   ]
  },
  {
   "cell_type": "code",
   "execution_count": 69,
   "metadata": {
    "scrolled": true
   },
   "outputs": [
    {
     "name": "stdout",
     "output_type": "stream",
     "text": [
      "0159\t동묘앞            \t127\t01호선\n",
      "0206\t신당             \t206\t02호선\n",
      "0207\t상왕십리           \t207\t02호선\n",
      "0208\t왕십리            \t208\t02호선\n",
      "0209\t한양대            \t209\t02호선\n",
      "0210\t뚝섬             \t210\t02호선\n",
      "0211\t성수             \t211\t02호선\n",
      "0212\t건대입구           \t212\t02호선\n",
      "0213\t구의             \t213\t02호선\n",
      "0214\t강변             \t214\t02호선\n"
     ]
    }
   ],
   "source": [
    "for e in stations['SearchSTNBySubwayLineInfo']['row']:\n",
    "    print (\"{0:4s}\\t{1:15s}\\t{2:3s}\\t{3:2s}\".format(e['STATION_CD'], e['STATION_NM'], e['FR_CODE'], e['LINE_NUM']))"
   ]
  },
  {
   "cell_type": "markdown",
   "metadata": {
    "slideshow": {
     "slide_type": "subslide"
    }
   },
   "source": [
    "### 일괄 실행\n",
    "\n",
    "일괄 실행하는 프로그램이다. 결과는 JSON으로 받고, DB에는 저장하지 않고 화면으로 출력하고 있다."
   ]
  },
  {
   "cell_type": "code",
   "execution_count": 23,
   "metadata": {
    "slideshow": {
     "slide_type": "subslide"
    }
   },
   "outputs": [
    {
     "name": "stdout",
     "output_type": "stream",
     "text": [
      "Writing src/ds_open_subway_json.py\n"
     ]
    }
   ],
   "source": [
    "%%writefile src/ds_open_subway_json.py\n",
    "#!/usr/bin/env python\n",
    "# coding: utf-8\n",
    "import os\n",
    "import requests\n",
    "import urllib\n",
    "import mylib # NO! src.mylib\n",
    "\n",
    "def doIt():\n",
    "    keyPath=os.path.join(os.getcwd(), 'src', 'key.properties')\n",
    "    key=mylib.getKey(keyPath)\n",
    "    # (1) make params with resource IDs\n",
    "    KEY=str(key['dataseoul'])\n",
    "    TYPE='json'\n",
    "    #OLD: SERVICE='SearchSTNBySubwayLineService'\n",
    "    SERVICE='SearchSTNBySubwayLineInfo'\n",
    "    LINE_NUM=str(2)\n",
    "    START_INDEX=str(1)\n",
    "    END_INDEX=str(10)\n",
    "    #params=os.path.join(KEY,TYPE,SERVICE,START_INDEX,END_INDEX,LINE_NUM)\n",
    "    params=\"/\".join([KEY,TYPE,SERVICE,START_INDEX,END_INDEX,'','',LINE_NUM])\n",
    "    # (2) make a full url\n",
    "    _url='http://openAPI.seoul.go.kr:8088' #NOTE slash: do not use 'http://openAPI.seoul.go.kr:8088/'\n",
    "    #url=urllib.parse.urljoin(_url,params)\n",
    "    url=\"/\".join([_url,params])\n",
    "    #print(url)\n",
    "    # (3) get data\n",
    "    r=requests.get(url)\n",
    "    #print(r)\n",
    "    stations=r.json()\n",
    "    #print(stations)\n",
    "    for e in stations['SearchSTNBySubwayLineInfo']['row']:\n",
    "        print (u\"{0:4s}\\t{1:15s}\\t{2:3s}\\t{3:2s}\".format(e['STATION_CD'], e['STATION_NM'], e['FR_CODE'], e['LINE_NUM']))\n",
    "\n",
    "if __name__ == \"__main__\":\n",
    "    doIt()"
   ]
  },
  {
   "cell_type": "markdown",
   "metadata": {},
   "source": [
    "- L1: 윈도우에서는 파일 확장자 .py만 봐도 실행할 인터프리터를 지정할 수 있기 때문에 생략해도 된다. #!는 쉬뱅(Shebang) 또는 해시뱅(hashbang)이라고 불리며, 주로 Unix 및 Linux 기반의 운영 체제에서 사용되는 특별한 문자열이다. 스크립트 파일의 첫 줄에 나타나며, 스크립트를 실행할 인터프리터(프로그램)를 지정하는 역할을 한다.\n",
    "\n",
    "- L2: ```# coding:``` 또는 ```# -*- coding: -*-```은 어떤 문자 인코딩을 사용하는지 알려주는 주석입니다. 이 주석은 파이썬 2.x 버전에서는 필수적이었지만, 3.x 버전부터는 UTF-8이 기본적으로 적용되기 때문에 필수적이지 않다.\n",
    "\n",
    "- L6: 현재 스크립트 파일을 기준으로 상대적 경로를 적어주기 때문에, 현재 src에 있는 mylib을 그냥 import한다."
   ]
  },
  {
   "cell_type": "code",
   "execution_count": 108,
   "metadata": {},
   "outputs": [
    {
     "name": "stdout",
     "output_type": "stream",
     "text": [
      "Python 2.7.17\n"
     ]
    }
   ],
   "source": [
    "!python --version"
   ]
  },
  {
   "cell_type": "code",
   "execution_count": 109,
   "metadata": {},
   "outputs": [
    {
     "name": "stdout",
     "output_type": "stream",
     "text": [
      "Python 3.6.9\n"
     ]
    }
   ],
   "source": [
    "!python3 --version"
   ]
  },
  {
   "cell_type": "code",
   "execution_count": 24,
   "metadata": {
    "scrolled": true,
    "slideshow": {
     "slide_type": "subslide"
    }
   },
   "outputs": [
    {
     "name": "stdout",
     "output_type": "stream",
     "text": [
      "1916\t소요산            \t100\t01호선\n",
      "1915\t동두천            \t101\t01호선\n",
      "1914\t보산             \t102\t01호선\n",
      "1913\t동두천중앙          \t103\t01호선\n",
      "1912\t지행             \t104\t01호선\n",
      "1911\t덕정             \t105\t01호선\n",
      "1910\t덕계             \t106\t01호선\n",
      "1909\t양주             \t107\t01호선\n",
      "1908\t녹양             \t108\t01호선\n",
      "1907\t가능             \t109\t01호선\n"
     ]
    }
   ],
   "source": [
    "!python3 src/ds_open_subway_json.py"
   ]
  },
  {
   "cell_type": "markdown",
   "metadata": {},
   "source": [
    "### 결과가 없을 때까지 반복\n",
    "\n",
    "요청한 데이터가 있을 경우에는 '정상 처리되었습니다' 이지만,\n",
    "없는 경우에는 \"해당하는 데이터가 없습니다.\"로 바뀌게 된다.\n",
    "반복은 MESSAGE가 \"해당하는 데이터가 없습니다.\"인 경우까지 하면 된다."
   ]
  },
  {
   "cell_type": "code",
   "execution_count": 25,
   "metadata": {},
   "outputs": [
    {
     "data": {
      "text/plain": [
       "777"
      ]
     },
     "execution_count": 25,
     "metadata": {},
     "output_type": "execute_result"
    }
   ],
   "source": [
    "stations['SearchSTNBySubwayLineInfo']['list_total_count']"
   ]
  },
  {
   "cell_type": "markdown",
   "metadata": {},
   "source": [
    "반복은 전체 몇 개가 있는지, 몇 개씩 증가하면서 반복횟수를 정해야 하는지에 따라 결정된다.\n",
    "따라서 아래 로직이 필요하다.\n",
    "\n",
    "```\n",
    "startIndex=1\n",
    "endIndex=10\n",
    "list_total_count=0\t\t# 나중에 호출\n",
    "while True:\n",
    "\t... \t\t\t\t# 데이터 가져오는 코드\n",
    "\tif(startIndex==1):\t# 1회인 경우 몇 개인지 결정\n",
    "\t\tlist_total_count=stations['SearchSTNBySubwayLineInfo']['list_total_count']\n",
    "\tstartIndex+=10\t\t# 다음 페이징\n",
    "\tendIndex+=10\t\t# 다음 페이징\n",
    "\tif(endIndex > list_total_count):  # 데이터 모두 소진된 경우\n",
    "\t\tbreak\t\t\t# exit from the while loop\n",
    "```"
   ]
  },
  {
   "cell_type": "code",
   "execution_count": 125,
   "metadata": {
    "slideshow": {
     "slide_type": "subslide"
    }
   },
   "outputs": [
    {
     "name": "stdout",
     "output_type": "stream",
     "text": [
      "Overwriting src/ds_open_subway_iter_json.py\n"
     ]
    }
   ],
   "source": [
    "%%writefile src/ds_open_subway_iter_json.py\n",
    "#!/usr/bin/env python\n",
    "# coding: utf-8\n",
    "import os\n",
    "import requests\n",
    "import urllib\n",
    "import mylib # NO! src.mylib\n",
    "\n",
    "def doIt():\n",
    "    keyPath=os.path.join(os.getcwd(), 'src', 'key.properties')\n",
    "    key=mylib.getKey(keyPath)\n",
    "    # (1) make params with resource IDs\n",
    "    KEY=str(key['dataseoul'])\n",
    "    TYPE='json'\n",
    "    #OLD: SERVICE='SearchSTNBySubwayLineService'\n",
    "    SERVICE='SearchSTNBySubwayLineInfo'\n",
    "    LINE_NUM=str(2)\n",
    "    START_INDEX=str(1)\n",
    "    END_INDEX=str(10)\n",
    "    startIndex=1\n",
    "    endIndex=10\n",
    "    list_total_count=0    # set later\n",
    "    while True:\n",
    "        START_INDEX=str(startIndex)\n",
    "        END_INDEX=str(endIndex)\n",
    "        #params=os.path.join(KEY,TYPE,SERVICE,START_INDEX,END_INDEX,LINE_NUM)\n",
    "        params=\"/\".join([KEY,TYPE,SERVICE,START_INDEX,END_INDEX,'','',LINE_NUM])\n",
    "        # (2) make a full url\n",
    "        _url='http://openAPI.seoul.go.kr:8088' #NOTE slash: do not use 'http://openAPI.seoul.go.kr:8088/'\n",
    "        #url=urllib.parse.urljoin(_url,params)\n",
    "        url=\"/\".join([_url,params])\n",
    "        #print(url)\n",
    "        # (3) get data\n",
    "        r=requests.get(url)\n",
    "        #print(r)\n",
    "        stations=r.json()\n",
    "        #print(stations)\n",
    "        if(startIndex==1):\n",
    "            list_total_count=stations['SearchSTNBySubwayLineInfo']['list_total_count']\n",
    "            print(\"- Total Count: \", list_total_count)\n",
    "        for e in stations['SearchSTNBySubwayLineInfo']['row']:\n",
    "            print (u\"{0:4s}\\t{1:15s}\\t{2:3s}\\t{3:2s}\".format(e['STATION_CD'], e['STATION_NM'], e['FR_CODE'], e['LINE_NUM']))\n",
    "        startIndex+=10\n",
    "        endIndex+=10\n",
    "        if(endIndex > list_total_count):\n",
    "            print(\"----- Ending endIndex=\",endIndex)\n",
    "            break  # exit from the while loop\n",
    "\n",
    "if __name__ == \"__main__\":\n",
    "    doIt()\n"
   ]
  },
  {
   "cell_type": "code",
   "execution_count": 126,
   "metadata": {},
   "outputs": [
    {
     "name": "stdout",
     "output_type": "stream",
     "text": [
      "- Total Count:  748\n",
      "0159\t동묘앞            \t127\t01호선\n",
      "0206\t신당             \t206\t02호선\n",
      "0207\t상왕십리           \t207\t02호선\n",
      "0208\t왕십리            \t208\t02호선\n",
      "0209\t한양대            \t209\t02호선\n",
      "0210\t뚝섬             \t210\t02호선\n",
      "0211\t성수             \t211\t02호선\n",
      "0212\t건대입구           \t212\t02호선\n",
      "0213\t구의             \t213\t02호선\n",
      "0214\t강변             \t214\t02호선\n",
      "0215\t잠실나루           \t215\t02호선\n",
      "0216\t잠실             \t216\t02호선\n",
      "0217\t잠실새내           \t217\t02호선\n",
      "0218\t종합운동장          \t218\t02호선\n",
      "0219\t삼성             \t219\t02호선\n",
      "0220\t선릉             \t220\t02호선\n",
      "0221\t역삼             \t221\t02호선\n",
      "0222\t강남             \t222\t02호선\n",
      "0223\t교대             \t223\t02호선\n",
      "0224\t서초             \t224\t02호선\n",
      "0225\t방배             \t225\t02호선\n",
      "0226\t사당             \t226\t02호선\n",
      "0227\t낙성대            \t227\t02호선\n",
      "0228\t서울대입구          \t228\t02호선\n",
      "0229\t봉천             \t229\t02호선\n",
      "0230\t신림             \t230\t02호선\n",
      "0231\t신대방            \t231\t02호선\n",
      "0232\t구로디지털단지        \t232\t02호선\n",
      "0233\t대림             \t233\t02호선\n",
      "0234\t신도림            \t234\t02호선\n",
      "0235\t문래             \t235\t02호선\n",
      "0236\t영등포구청          \t236\t02호선\n",
      "0237\t당산             \t237\t02호선\n",
      "0238\t합정             \t238\t02호선\n",
      "0239\t홍대입구           \t239\t02호선\n",
      "0240\t신촌             \t240\t02호선\n",
      "0241\t이대             \t241\t02호선\n",
      "0242\t아현             \t242\t02호선\n",
      "0243\t충정로            \t243\t02호선\n",
      "0244\t용답             \t211-1\t02호선\n",
      "0245\t신답             \t211-2\t02호선\n",
      "0246\t신설동            \t211-4\t02호선\n",
      "0247\t도림천            \t234-1\t02호선\n",
      "0248\t양천구청           \t234-2\t02호선\n",
      "0249\t신정네거리          \t234-3\t02호선\n",
      "0250\t용두             \t211-3\t02호선\n",
      "0300\t대곡             \tK322\t경의선\n",
      "0309\t지축             \t319\t03호선\n",
      "0310\t구파발            \t320\t03호선\n",
      "0311\t연신내            \t321\t03호선\n",
      "0312\t불광             \t322\t03호선\n",
      "0313\t녹번             \t323\t03호선\n",
      "0314\t홍제             \t324\t03호선\n",
      "0315\t무악재            \t325\t03호선\n",
      "0316\t독립문            \t326\t03호선\n",
      "0317\t경복궁            \t327\t03호선\n",
      "0318\t안국             \t328\t03호선\n",
      "0319\t종로3가           \t329\t03호선\n",
      "0320\t을지로3가          \t330\t03호선\n",
      "0321\t충무로            \t331\t03호선\n",
      "0322\t동대입구           \t332\t03호선\n",
      "0323\t약수             \t333\t03호선\n",
      "0324\t금호             \t334\t03호선\n",
      "0325\t옥수             \t335\t03호선\n",
      "0326\t압구정            \t336\t03호선\n",
      "0327\t신사             \t337\t03호선\n",
      "0328\t잠원             \t338\t03호선\n",
      "0329\t고속터미널          \t339\t03호선\n",
      "0330\t교대             \t340\t03호선\n",
      "0331\t남부터미널          \t341\t03호선\n",
      "0332\t양재             \t342\t03호선\n",
      "0333\t매봉             \t343\t03호선\n",
      "0334\t도곡             \t344\t03호선\n",
      "0335\t대치             \t345\t03호선\n",
      "0336\t학여울            \t346\t03호선\n",
      "0337\t대청             \t347\t03호선\n",
      "0338\t일원             \t348\t03호선\n",
      "0339\t수서             \t349\t03호선\n",
      "0340\t가락시장           \t350\t03호선\n",
      "0341\t경찰병원           \t351\t03호선\n",
      "0342\t오금             \t352\t03호선\n",
      "0409\t당고개            \t409\t04호선\n",
      "0410\t상계             \t410\t04호선\n",
      "0411\t노원             \t411\t04호선\n",
      "0412\t창동             \t412\t04호선\n",
      "0413\t쌍문             \t413\t04호선\n",
      "0414\t수유             \t414\t04호선\n",
      "0415\t미아             \t415\t04호선\n",
      "0416\t미아사거리          \t416\t04호선\n",
      "0417\t길음             \t417\t04호선\n",
      "0418\t성신여대입구         \t418\t04호선\n",
      "0419\t한성대입구          \t419\t04호선\n",
      "0420\t혜화             \t420\t04호선\n",
      "0421\t동대문            \t421\t04호선\n",
      "0422\t동대문역사문화공원      \t422\t04호선\n",
      "0423\t충무로            \t423\t04호선\n",
      "0424\t명동             \t424\t04호선\n",
      "0425\t회현             \t425\t04호선\n",
      "0426\t서울역            \t426\t04호선\n",
      "0427\t숙대입구           \t427\t04호선\n",
      "0428\t삼각지            \t428\t04호선\n",
      "0429\t신용산            \t429\t04호선\n",
      "0430\t이촌             \t430\t04호선\n",
      "0431\t동작             \t431\t04호선\n",
      "0432\t총신대입구          \t432\t04호선\n",
      "0433\t사당             \t433\t04호선\n",
      "0434\t남태령            \t434\t04호선\n",
      "1002\t남영             \t134\t01호선\n",
      "1003\t용산             \t135\t01호선\n",
      "1004\t노량진            \t136\t01호선\n",
      "1005\t대방             \t137\t01호선\n",
      "1006\t영등포            \t139\t01호선\n",
      "1007\t신도림            \t140\t01호선\n",
      "1008\t이촌             \tK111\t경의선\n",
      "1009\t서빙고            \tK112\t경의선\n",
      "100C\t용산             \tK110\t경의선\n",
      "1010\t한남             \tK113\t경의선\n",
      "1011\t옥수             \tK114\t경의선\n",
      "1012\t응봉             \tK115\t경의선\n",
      "1013\t왕십리            \tK116\t경의선\n",
      "1014\t청량리            \tK117\t경의선\n",
      "1015\t회기             \t123\t01호선\n",
      "1016\t외대앞            \t122\t01호선\n",
      "1017\t신이문            \t121\t01호선\n",
      "1018\t석계             \t120\t01호선\n",
      "1019\t광운대            \t119\t01호선\n",
      "1020\t월계             \t118\t01호선\n",
      "1021\t녹천             \t117\t01호선\n",
      "1022\t창동             \t116\t01호선\n",
      "1023\t선릉             \tK215\t수인분당선\n",
      "1024\t한티             \tK216\t수인분당선\n",
      "1025\t도곡             \tK217\t수인분당선\n",
      "1026\t구룡             \tK218\t수인분당선\n",
      "1027\t개포동            \tK219\t수인분당선\n",
      "1028\t대모산입구          \tK220\t수인분당선\n",
      "102C\t왕십리            \tK210\t수인분당선\n",
      "1030\t수서             \tK221\t수인분당선\n",
      "1031\t복정             \tK222\t수인분당선\n",
      "1032\t신길             \t138\t01호선\n",
      "1201\t중랑             \tK119\t경의선\n",
      "1202\t상봉             \tK120\t경의선\n",
      "1203\t망우             \tK121\t경의선\n",
      "1204\t양원             \tK122\t경의선\n",
      "1205\t구리             \tK123\t경의선\n",
      "1206\t도농             \tK124\t경의선\n",
      "1207\t양정             \tK125\t경의선\n",
      "1208\t덕소             \tK126\t경의선\n",
      "1209\t도심             \tK127\t경의선\n",
      "1210\t팔당             \tK128\t경의선\n",
      "1211\t운길산            \tK129\t경의선\n",
      "1212\t양수             \tK130\t경의선\n",
      "1214\t국수             \tK132\t경의선\n",
      "1215\t아신             \tK133\t경의선\n",
      "1216\t오빈             \tK134\t경의선\n",
      "1217\t양평             \tK135\t경의선\n",
      "1218\t원덕             \tK136\t경의선\n",
      "1219\t용문             \tK137\t경의선\n",
      "1220\t지평             \tK138\t경의선\n",
      "1251\t서울역            \tP313\t경의선\n",
      "1252\t신촌             \tP312\t경의선\n",
      "1261\t효창공원앞          \tK826\t경의선\n",
      "1262\t공덕             \tK312\t경의선\n",
      "1263\t서강대            \tK313\t경의선\n",
      "1264\t홍대입구           \tK314\t경의선\n",
      "1265\t가좌             \tK315\t경의선\n",
      "1266\t디지털미디어시티       \tK316\t경의선\n",
      "1267\t수색             \tK317\t경의선\n",
      "1268\t화전             \tK318\t경의선\n",
      "1269\t강매             \tK319\t경의선\n",
      "1270\t행신             \tK320\t경의선\n",
      "1271\t능곡             \tK321\t경의선\n",
      "1272\t곡산             \tK323\t경의선\n",
      "1273\t백마             \tK324\t경의선\n",
      "1274\t풍산             \tK325\t경의선\n",
      "1275\t일산             \tK326\t경의선\n",
      "1276\t탄현             \tK327\t경의선\n",
      "1277\t야당             \tK328\t경의선\n",
      "1278\t운정             \tK329\t경의선\n",
      "1279\t금릉             \tK330\t경의선\n",
      "1280\t금촌             \tK331\t경의선\n",
      "1283\t파주             \tK334\t경의선\n",
      "1284\t문산             \tK335\t경의선\n",
      "1285\t임진강            \tK336\t경의선\n",
      "1306\t청량리            \tP117\t경춘선\n",
      "1308\t중랑             \tP119\t경춘선\n",
      "1309\t상봉             \tP120\t경춘선\n",
      "1310\t망우             \tP121\t경춘선\n",
      "1311\t신내             \tP122\t경춘선\n",
      "1312\t갈매             \tP123\t경춘선\n",
      "1313\t별내             \tP124\t경춘선\n",
      "1314\t퇴계원            \tP125\t경춘선\n",
      "1315\t사릉             \tP126\t경춘선\n",
      "1316\t금곡             \tP127\t경춘선\n",
      "1317\t평내호평           \tP128\t경춘선\n",
      "1318\t천마산            \tP129\t경춘선\n",
      "1282\t월롱             \tK333\t경의선\n",
      "1319\t마석             \tP130\t경춘선\n",
      "1320\t대성리            \tP131\t경춘선\n",
      "1321\t청평             \tP132\t경춘선\n",
      "1322\t상천             \tP133\t경춘선\n",
      "1323\t가평             \tP134\t경춘선\n",
      "1324\t굴봉산            \tP135\t경춘선\n",
      "1325\t백양리            \tP136\t경춘선\n",
      "1326\t강촌             \tP137\t경춘선\n",
      "1327\t김유정            \tP138\t경춘선\n",
      "1328\t남춘천            \tP139\t경춘선\n",
      "1329\t춘천             \tP140\t경춘선\n",
      "1401\t봉명             \tP170\t01호선\n",
      "1402\t쌍용             \tP171\t01호선\n",
      "1403\t아산             \tP172\t01호선\n",
      "1405\t배방             \tP174\t01호선\n",
      "1407\t온양온천           \tP176\t01호선\n",
      "1408\t신창             \tP177\t01호선\n",
      "1450\t선바위            \t435\t04호선\n",
      "1451\t경마공원           \t436\t04호선\n",
      "1452\t대공원            \t437\t04호선\n",
      "1453\t과천             \t438\t04호선\n",
      "1454\t정부과천청사         \t439\t04호선\n",
      "1455\t인덕원            \t440\t04호선\n",
      "1456\t평촌             \t441\t04호선\n",
      "1457\t범계             \t442\t04호선\n",
      "1458\t금정             \t443\t04호선\n",
      "1501\t판교             \tK410\t경강선\n",
      "1502\t이매             \tK411\t경강선\n",
      "1503\t삼동             \tK412\t경강선\n",
      "1504\t경기광주           \tK413\t경강선\n",
      "1505\t초월             \tK414\t경강선\n",
      "1506\t곤지암            \tK415\t경강선\n",
      "1507\t신둔도예촌          \tK416\t경강선\n",
      "1508\t이천             \tK417\t경강선\n",
      "1509\t부발             \tK418\t경강선\n",
      "1701\t구로             \t141\t01호선\n",
      "1702\t가산디지털단지        \tP142\t01호선\n",
      "1703\t금천구청           \tP144\t01호선\n",
      "1704\t석수             \tP145\t01호선\n",
      "1705\t관악             \tP146\t01호선\n",
      "1706\t안양             \tP147\t01호선\n",
      "1707\t명학             \tP148\t01호선\n",
      "1708\t금정             \tP149\t01호선\n",
      "0154\t종로5가           \t129\t01호선\n",
      "1709\t군포             \tP150\t01호선\n",
      "1710\t의왕             \tP152\t01호선\n",
      "1711\t성균관대           \tP153\t01호선\n",
      "1712\t화서             \tP154\t01호선\n",
      "1713\t수원             \tP155\t01호선\n",
      "1714\t독산             \tP143\t01호선\n",
      "1715\t세류             \tP156\t01호선\n",
      "1716\t병점             \tP157\t01호선\n",
      "1717\t세마             \tP158\t01호선\n",
      "1718\t오산대            \tP159\t01호선\n",
      "1719\t오산             \tP160\t01호선\n",
      "1720\t진위             \tP161\t01호선\n",
      "1721\t송탄             \tP162\t01호선\n",
      "1722\t서정리            \tP163\t01호선\n",
      "1723\t평택지제           \tP164\t01호선\n",
      "1724\t평택             \tP165\t01호선\n",
      "1725\t성환             \tP166\t01호선\n",
      "1726\t직산             \tP167\t01호선\n",
      "1727\t두정             \tP168\t01호선\n",
      "1728\t천안             \tP169\t01호선\n",
      "1729\t당정             \tP151\t01호선\n",
      "1749\t서동탄            \tP157-1\t01호선\n",
      "1750\t광명             \tP144-1\t01호선\n",
      "1751\t산본             \t444\t04호선\n",
      "1752\t대야미            \t446\t04호선\n",
      "1753\t반월             \t447\t04호선\n",
      "1754\t상록수            \t448\t04호선\n",
      "1755\t한대앞            \t449\t04호선\n",
      "1756\t중앙             \t450\t04호선\n",
      "1757\t고잔             \t451\t04호선\n",
      "1758\t초지             \t452\t04호선\n",
      "1759\t안산             \t453\t04호선\n",
      "1760\t신길온천           \t454\t04호선\n",
      "1761\t정왕             \t455\t04호선\n",
      "1762\t오이도            \t456\t04호선\n",
      "1763\t수리산            \t445\t04호선\n",
      "1800\t오이도            \tK258\t수인분당선\n",
      "1801\t개봉             \t143\t01호선\n",
      "1802\t오류동            \t144\t01호선\n",
      "101C\t회기             \tK118\t경의선\n",
      "1803\t역곡             \t146\t01호선\n",
      "1804\t부천             \t148\t01호선\n",
      "1805\t송내             \t150\t01호선\n",
      "1806\t부평             \t152\t01호선\n",
      "1807\t백운             \t153\t01호선\n",
      "1808\t동암             \t154\t01호선\n",
      "1809\t주안             \t156\t01호선\n",
      "1810\t제물포            \t158\t01호선\n",
      "1811\t동인천            \t160\t01호선\n",
      "1812\t인천             \t161\t01호선\n",
      "1813\t구일             \t142\t01호선\n",
      "1814\t소사             \t147\t01호선\n",
      "1815\t부개             \t151\t01호선\n",
      "1816\t간석             \t155\t01호선\n",
      "1817\t도원             \t159\t01호선\n",
      "1821\t온수             \t145\t01호선\n",
      "1822\t중동             \t149\t01호선\n",
      "1823\t도화             \t157\t01호선\n",
      "1830\t한대앞            \tK251\t수인분당선\n",
      "1831\t중앙             \tK252\t수인분당선\n",
      "1832\t고잔             \tK253\t수인분당선\n",
      "1833\t초지             \tK254\t수인분당선\n",
      "1834\t안산             \tK255\t수인분당선\n",
      "1835\t신길온천           \tK256\t수인분당선\n",
      "1836\t정왕             \tK257\t수인분당선\n",
      "1845\t청량리            \tK209\t수인분당선\n",
      "1846\t수원             \tK245\t수인분당선\n",
      "1847\t서울숲            \tK211\t수인분당선\n",
      "1848\t압구정로데오         \tK212\t수인분당선\n",
      "1849\t강남구청           \tK213\t수인분당선\n",
      "1850\t선정릉            \tK214\t수인분당선\n",
      "1851\t가천대            \tK223\t수인분당선\n",
      "1852\t태평             \tK224\t수인분당선\n",
      "1853\t모란             \tK225\t수인분당선\n",
      "1854\t야탑             \tK226\t수인분당선\n",
      "1855\t서현             \tK228\t수인분당선\n",
      "1856\t수내             \tK229\t수인분당선\n",
      "1857\t정자             \tK230\t수인분당선\n",
      "1858\t미금             \tK231\t수인분당선\n",
      "1859\t오리             \tK232\t수인분당선\n",
      "1213\t신원             \tK131\t경의선\n",
      "1860\t이매             \tK227\t수인분당선\n",
      "1861\t보정             \tK234\t수인분당선\n",
      "1862\t죽전             \tK233\t수인분당선\n",
      "1863\t구성             \tK235\t수인분당선\n",
      "1864\t신갈             \tK236\t수인분당선\n",
      "1865\t기흥             \tK237\t수인분당선\n",
      "1866\t상갈             \tK238\t수인분당선\n",
      "1867\t청명             \tK239\t수인분당선\n",
      "1868\t영통             \tK240\t수인분당선\n",
      "1869\t망포             \tK241\t수인분당선\n",
      "1870\t매탄권선           \tK242\t수인분당선\n",
      "1871\t수원시청           \tK243\t수인분당선\n",
      "1872\t매교             \tK244\t수인분당선\n",
      "1873\t고색             \tK246\t수인분당선\n",
      "1874\t오목천            \tK247\t수인분당선\n",
      "1875\t어천             \tK248\t수인분당선\n",
      "1876\t야목             \tK249\t수인분당선\n",
      "1877\t사리             \tK250\t수인분당선\n",
      "1878\t달월             \tK259\t수인분당선\n",
      "1879\t월곶             \tK260\t수인분당선\n",
      "1880\t소래포구           \tK261\t수인분당선\n",
      "1881\t인천논현           \tK262\t수인분당선\n",
      "1882\t호구포            \tK263\t수인분당선\n",
      "1883\t남동인더스파크        \tK264\t수인분당선\n",
      "1884\t원인재            \tK265\t수인분당선\n",
      "1885\t연수             \tK266\t수인분당선\n",
      "1886\t송도             \tK267\t수인분당선\n",
      "1888\t인하대            \tK269\t수인분당선\n",
      "1889\t숭의             \tK270\t수인분당선\n",
      "1890\t신포             \tK271\t수인분당선\n",
      "1891\t인천             \tK272\t수인분당선\n",
      "1901\t방학             \t115\t01호선\n",
      "1902\t도봉             \t114\t01호선\n",
      "1903\t도봉산            \t113\t01호선\n",
      "1904\t망월사            \t112\t01호선\n",
      "1905\t회룡             \t111\t01호선\n",
      "1906\t의정부            \t110\t01호선\n",
      "1907\t가능             \t109\t01호선\n",
      "1908\t녹양             \t108\t01호선\n",
      "1909\t양주             \t107\t01호선\n",
      "1910\t덕계             \t106\t01호선\n",
      "1911\t덕정             \t105\t01호선\n",
      "1912\t지행             \t104\t01호선\n",
      "1913\t동두천중앙          \t103\t01호선\n",
      "1914\t보산             \t102\t01호선\n",
      "1915\t동두천            \t101\t01호선\n",
      "1916\t소요산            \t100\t01호선\n",
      "1948\t원흥             \t317\t03호선\n",
      "1950\t삼송             \t318\t03호선\n",
      "1951\t원당             \t316\t03호선\n",
      "1952\t화정             \t315\t03호선\n",
      "1953\t대곡             \t314\t03호선\n",
      "1954\t백석             \t313\t03호선\n",
      "1955\t마두             \t312\t03호선\n",
      "1956\t정발산            \t311\t03호선\n",
      "1957\t주엽             \t310\t03호선\n",
      "1958\t대화             \t309\t03호선\n",
      "2511\t방화             \t510\t05호선\n",
      "2512\t개화산            \t511\t05호선\n",
      "2513\t김포공항           \t512\t05호선\n",
      "2514\t송정             \t513\t05호선\n",
      "2515\t마곡             \t514\t05호선\n",
      "2516\t발산             \t515\t05호선\n",
      "2517\t우장산            \t516\t05호선\n",
      "2518\t화곡             \t517\t05호선\n",
      "2519\t까치산            \t518\t05호선\n",
      "2520\t신정             \t519\t05호선\n",
      "2521\t목동             \t520\t05호선\n",
      "2522\t오목교            \t521\t05호선\n",
      "2523\t양평             \t522\t05호선\n",
      "2524\t영등포구청          \t523\t05호선\n",
      "2525\t영등포시장          \t524\t05호선\n",
      "2526\t신길             \t525\t05호선\n",
      "2527\t여의도            \t526\t05호선\n",
      "2528\t여의나루           \t527\t05호선\n",
      "2529\t마포             \t528\t05호선\n",
      "2530\t공덕             \t529\t05호선\n",
      "2531\t애오개            \t530\t05호선\n",
      "2532\t충정로            \t531\t05호선\n",
      "2533\t서대문            \t532\t05호선\n",
      "2534\t광화문            \t533\t05호선\n",
      "2535\t종로3가           \t534\t05호선\n",
      "2536\t을지로4가          \t535\t05호선\n",
      "2537\t동대문역사문화공원      \t536\t05호선\n",
      "2538\t청구             \t5371\t05호선\n",
      "2539\t신금호            \t538\t05호선\n",
      "2540\t행당             \t539\t05호선\n",
      "2541\t왕십리            \t540\t05호선\n",
      "2542\t마장             \t541\t05호선\n",
      "2543\t답십리            \t542\t05호선\n",
      "2544\t장한평            \t543\t05호선\n",
      "2545\t군자             \t544\t05호선\n",
      "2546\t아차산            \t545\t05호선\n",
      "2547\t광나루            \t546\t05호선\n",
      "2548\t천호             \t547\t05호선\n",
      "2549\t강동             \t548\t05호선\n",
      "2550\t길동             \t549\t05호선\n",
      "2551\t굽은다리           \t550\t05호선\n",
      "2552\t명일             \t551\t05호선\n",
      "2553\t고덕             \t552\t05호선\n",
      "2554\t상일동            \t553\t05호선\n",
      "2555\t둔촌동            \tP549\t05호선\n",
      "2556\t올림픽공원          \tP550\t05호선\n",
      "2557\t방이             \tP551\t05호선\n",
      "2558\t오금             \tP552\t05호선\n",
      "2559\t개롱             \tP553\t05호선\n",
      "2560\t거여             \tP554\t05호선\n",
      "2561\t마천             \tP555\t05호선\n",
      "2562\t강일             \t554\t05호선\n",
      "2563\t미사             \t555\t05호선\n",
      "2564\t하남풍산           \t556\t05호선\n",
      "2565\t하남시청           \t557\t05호선\n",
      "2566\t하남검단산          \t558\t05호선\n",
      "2611\t응암             \t610\t06호선\n",
      "2612\t역촌             \t611\t06호선\n",
      "2613\t불광             \t612\t06호선\n",
      "2614\t독바위            \t613\t06호선\n",
      "2615\t연신내            \t614\t06호선\n",
      "2616\t구산             \t615\t06호선\n",
      "2617\t새절             \t616\t06호선\n",
      "2618\t증산             \t617\t06호선\n",
      "2619\t디지털미디어시티       \t618\t06호선\n",
      "2620\t월드컵경기장         \t619\t06호선\n",
      "2621\t마포구청           \t620\t06호선\n",
      "2622\t망원             \t621\t06호선\n",
      "2623\t합정             \t622\t06호선\n",
      "2624\t상수             \t623\t06호선\n",
      "2625\t광흥창            \t624\t06호선\n",
      "2626\t대흥             \t625\t06호선\n",
      "2627\t공덕             \t626\t06호선\n",
      "2628\t효창공원앞          \t627\t06호선\n",
      "2629\t삼각지            \t628\t06호선\n",
      "2630\t녹사평            \t629\t06호선\n",
      "2631\t이태원            \t630\t06호선\n",
      "2632\t한강진            \t631\t06호선\n",
      "2633\t버티고개           \t632\t06호선\n",
      "2634\t약수             \t633\t06호선\n",
      "2635\t청구             \t634\t06호선\n",
      "2636\t신당             \t635\t06호선\n",
      "2637\t동묘앞            \t636\t06호선\n",
      "2638\t창신             \t637\t06호선\n",
      "2639\t보문             \t638\t06호선\n",
      "2640\t안암             \t639\t06호선\n",
      "2641\t고려대            \t640\t06호선\n",
      "2642\t월곡             \t641\t06호선\n",
      "2643\t상월곡            \t642\t06호선\n",
      "2644\t돌곶이            \t643\t06호선\n",
      "2645\t석계             \t644\t06호선\n",
      "2646\t태릉입구           \t645\t06호선\n",
      "2647\t화랑대            \t646\t06호선\n",
      "2648\t봉화산            \t647\t06호선\n",
      "2649\t신내             \t648\t06호선\n",
      "2711\t장암             \t709\t07호선\n",
      "2712\t도봉산            \t710\t07호선\n",
      "2713\t수락산            \t711\t07호선\n",
      "2714\t마들             \t712\t07호선\n",
      "2715\t노원             \t713\t07호선\n",
      "2716\t중계             \t714\t07호선\n",
      "2717\t하계             \t7151\t07호선\n",
      "2718\t공릉             \t716\t07호선\n",
      "2719\t태릉입구           \t717\t07호선\n",
      "2720\t먹골             \t718\t07호선\n",
      "2721\t중화             \t719\t07호선\n",
      "2722\t상봉             \t720\t07호선\n",
      "2723\t면목             \t721\t07호선\n",
      "2724\t사가정            \t722\t07호선\n",
      "2725\t용마산            \t723\t07호선\n",
      "2726\t중곡             \t724\t07호선\n",
      "2727\t군자             \t725\t07호선\n",
      "2728\t어린이대공원         \t726\t07호선\n",
      "2730\t뚝섬유원지          \t728\t07호선\n",
      "2731\t청담             \t729\t07호선\n",
      "2732\t강남구청           \t730\t07호선\n",
      "2733\t학동             \t731\t07호선\n",
      "2734\t논현             \t732\t07호선\n",
      "2735\t반포             \t733\t07호선\n",
      "2736\t고속터미널          \t734\t07호선\n",
      "2737\t내방             \t735\t07호선\n",
      "2738\t이수             \t736\t07호선\n",
      "2739\t남성             \t737\t07호선\n",
      "2740\t숭실대입구          \t738\t07호선\n",
      "2741\t상도             \t739\t07호선\n",
      "2742\t장승배기           \t740\t07호선\n",
      "2743\t신대방삼거리         \t741\t07호선\n",
      "2744\t보라매            \t742\t07호선\n",
      "2745\t신풍             \t743\t07호선\n",
      "2746\t대림             \t744\t07호선\n",
      "2747\t남구로            \t745\t07호선\n",
      "2748\t가산디지털단지        \t746\t07호선\n",
      "2749\t철산             \t747\t07호선\n",
      "2750\t광명사거리          \t748\t07호선\n",
      "2751\t천왕             \t749\t07호선\n",
      "2752\t온수             \t750\t07호선\n",
      "2753\t까치울            \t751\t07호선\n",
      "2754\t부천종합운동장        \t752\t07호선\n",
      "2755\t춘의             \t753\t07호선\n",
      "2756\t신중동            \t754\t07호선\n",
      "2757\t부천시청           \t755\t07호선\n",
      "2758\t상동             \t756\t07호선\n",
      "2759\t삼산체육관          \t757\t07호선\n",
      "2760\t굴포천            \t758\t07호선\n",
      "2761\t부평구청           \t759\t07호선\n",
      "2811\t암사             \t810\t08호선\n",
      "2812\t천호             \t811\t08호선\n",
      "2813\t강동구청           \t812\t08호선\n",
      "2814\t몽촌토성           \t813\t08호선\n",
      "2815\t잠실             \t814\t08호선\n",
      "2816\t석촌             \t815\t08호선\n",
      "2817\t송파             \t816\t08호선\n",
      "2818\t가락시장           \t817\t08호선\n",
      "2819\t문정             \t818\t08호선\n",
      "2820\t장지             \t819\t08호선\n",
      "2821\t복정             \t820\t08호선\n",
      "2822\t산성             \t821\t08호선\n",
      "2823\t남한산성입구         \t822\t08호선\n",
      "2824\t단대오거리          \t823\t08호선\n",
      "2825\t신흥             \t824\t08호선\n",
      "2826\t수진             \t825\t08호선\n",
      "2827\t모란             \t826\t08호선\n",
      "3110\t계양             \tI110\t인천선\n",
      "3111\t귤현             \tI111\t인천선\n",
      "3112\t박촌             \tI112\t인천선\n",
      "3113\t임학             \tI113\t인천선\n",
      "3114\t계산             \tI114\t인천선\n",
      "3115\t경인교대입구         \tI115\t인천선\n",
      "3116\t작전             \tI116\t인천선\n",
      "3117\t갈산             \tI117\t인천선\n",
      "3118\t부평구청           \tI118\t인천선\n",
      "3119\t부평시장           \tI119\t인천선\n",
      "3120\t부평             \tI120\t인천선\n",
      "3121\t동수             \tI121\t인천선\n",
      "3122\t부평삼거리          \tI122\t인천선\n",
      "3123\t간석오거리          \tI123\t인천선\n",
      "3124\t인천시청           \tI124\t인천선\n",
      "3125\t예술회관           \tI125\t인천선\n",
      "3126\t인천터미널          \tI126\t인천선\n",
      "3127\t문학경기장          \tI127\t인천선\n",
      "3128\t선학             \tI128\t인천선\n",
      "3129\t신연수            \tI129\t인천선\n",
      "3130\t원인재            \tI130\t인천선\n",
      "3131\t동춘             \tI131\t인천선\n",
      "3132\t동막             \tI132\t인천선\n",
      "3133\t캠퍼스타운          \tI133\t인천선\n",
      "3134\t테크노파크          \tI134\t인천선\n",
      "3135\t지식정보단지         \tI135\t인천선\n",
      "3136\t인천대입구          \tI136\t인천선\n",
      "3137\t센트럴파크          \tI137\t인천선\n",
      "3138\t국제업무지구         \tI138\t인천선\n",
      "3139\t송도달빛축제공원       \tI139\t인천선\n",
      "3202\t왕길             \tI202\t인천2호선\n",
      "3203\t검단사거리          \tI203\t인천2호선\n",
      "3204\t마전             \tI204\t인천2호선\n",
      "3205\t완정             \tI205\t인천2호선\n",
      "3206\t독정             \tI206\t인천2호선\n",
      "3207\t검암             \tI207\t인천2호선\n",
      "3208\t검바위            \tI208\t인천2호선\n",
      "3209\t아시아드경기장        \tI209\t인천2호선\n",
      "3210\t서구청            \tI210\t인천2호선\n",
      "3211\t가정             \tI211\t인천2호선\n",
      "3201\t검단오류           \tI201\t인천2호선\n",
      "3213\t석남             \tI213\t인천2호선\n",
      "3214\t서부여성회관         \tI214\t인천2호선\n",
      "3215\t인천가좌           \tI215\t인천2호선\n",
      "3216\t가재울            \tI216\t인천2호선\n",
      "3217\t주안국가산단         \tI217\t인천2호선\n",
      "3218\t주안             \tI218\t인천2호선\n",
      "3219\t시민공원           \tI219\t인천2호선\n",
      "3220\t석바위시장          \tI220\t인천2호선\n",
      "3221\t인천시청           \tI221\t인천2호선\n",
      "3222\t석천사거리          \tI222\t인천2호선\n",
      "3223\t모래내시장          \tI223\t인천2호선\n",
      "3224\t만수             \tI224\t인천2호선\n",
      "3225\t남동구청           \tI225\t인천2호선\n",
      "3226\t인천대공원          \tI226\t인천2호선\n",
      "3227\t운연             \tI227\t인천2호선\n",
      "3762\t산곡             \t760\t07호선\n",
      "3763\t석남             \t761\t07호선\n",
      "4101\t개화             \t901\t09호선\n",
      "4102\t김포공항           \t902\t09호선\n",
      "4103\t공항시장           \t903\t09호선\n",
      "4104\t신방화            \t904\t09호선\n",
      "4105\t마곡나루           \t905\t09호선\n",
      "4106\t양천향교           \t906\t09호선\n",
      "4107\t가양             \t907\t09호선\n",
      "4108\t증미             \t908\t09호선\n",
      "4109\t등촌             \t909\t09호선\n",
      "4110\t염창             \t910\t09호선\n",
      "4113\t당산             \t913\t09호선\n",
      "4114\t국회의사당          \t914\t09호선\n",
      "4115\t여의도            \t915\t09호선\n",
      "4116\t샛강             \t916\t09호선\n",
      "4117\t노량진            \t917\t09호선\n",
      "4118\t노들             \t918\t09호선\n",
      "4119\t흑석             \t919\t09호선\n",
      "4120\t동작             \t920\t09호선\n",
      "4121\t구반포            \t921\t09호선\n",
      "4122\t신반포            \t922\t09호선\n",
      "4123\t고속터미널          \t923\t09호선\n",
      "4124\t사평             \t924\t09호선\n",
      "4125\t신논현            \t925\t09호선\n",
      "4126\t언주             \t926\t09호선\n",
      "4112\t선유도            \t912\t09호선\n",
      "4127\t선정릉            \t927\t09호선\n",
      "4128\t삼성중앙           \t928\t09호선\n",
      "4129\t봉은사            \t929\t09호선\n",
      "4130\t종합운동장          \t930\t09호선\n",
      "4131\t삼전             \t931\t09호선\n",
      "4132\t석촌고분           \t932\t09호선\n",
      "4133\t석촌             \t933\t09호선\n",
      "4134\t송파나루           \t934\t09호선\n",
      "4135\t한성백제           \t935\t09호선\n",
      "4136\t올림픽공원          \t936\t09호선\n",
      "4137\t둔촌오륜           \t937\t09호선\n",
      "4138\t중앙보훈병원         \t938\t09호선\n",
      "4201\t서울역            \tA01\t공항철도\n",
      "4202\t공덕             \tA02\t공항철도\n",
      "4203\t홍대입구           \tA03\t공항철도\n",
      "4204\t디지털미디어시티       \tA04\t공항철도\n",
      "4206\t마곡나루           \tA042\t공항철도\n",
      "4207\t김포공항           \tA05\t공항철도\n",
      "4208\t계양             \tA06\t공항철도\n",
      "4209\t검암             \tA07\t공항철도\n",
      "4210\t청라국제도시         \tA071\t공항철도\n",
      "4211\t운서             \tA08\t공항철도\n",
      "4212\t공항화물청사         \tA09\t공항철도\n",
      "4213\t인천공항1터미널       \tA10\t공항철도\n",
      "4215\t인천공항2터미널       \tA11\t공항철도\n",
      "4217\t영종             \tA072\t공항철도\n",
      "4307\t강남             \tD7 \t신분당선\n",
      "4308\t양재             \tD8 \t신분당선\n",
      "4309\t양재시민의숲         \tD9 \t신분당선\n",
      "4310\t청계산입구          \tD10\t신분당선\n",
      "4311\t판교             \tD11\t신분당선\n",
      "4312\t정자             \tD12\t신분당선\n",
      "4313\t미금             \tD13\t신분당선\n",
      "4314\t동천             \tD14\t신분당선\n",
      "4315\t수지구청           \tD15\t신분당선\n",
      "4316\t성복             \tD16\t신분당선\n",
      "4317\t상현             \tD17\t신분당선\n",
      "4318\t광교중앙           \tD18\t신분당선\n",
      "4319\t광교             \tD19\t신분당선\n",
      "4502\t강남대            \tY111\t용인경전철\n",
      "4503\t지석             \tY112\t용인경전철\n",
      "4504\t어정             \tY113\t용인경전철\n",
      "4505\t동백             \tY114\t용인경전철\n",
      "4506\t초당             \tY115\t용인경전철\n",
      "4508\t삼가             \tY116\t용인경전철\n",
      "4509\t시청.용인대         \tY117\t용인경전철\n",
      "4510\t명지대            \tY118\t용인경전철\n",
      "4511\t김량장            \tY119\t용인경전철\n",
      "4517\t전대.에버랜드        \tY126\t용인경전철\n",
      "4602\t회룡             \tU111\t의정부경전철\n",
      "4603\t범골             \tU112\t의정부경전철\n",
      "4604\t경전철의정부         \tU113\t의정부경전철\n",
      "4605\t의정부시청          \tU114\t의정부경전철\n",
      "4606\t흥선             \tU115\t의정부경전철\n",
      "4607\t의정부중앙          \tU117\t의정부경전철\n",
      "4608\t동오             \tU118\t의정부경전철\n",
      "4609\t새말             \tU119\t의정부경전철\n",
      "4610\t경기도청북부청사       \tU120\t의정부경전철\n",
      "4611\t효자             \tU121\t의정부경전철\n",
      "4612\t곤제             \tU122\t의정부경전철\n",
      "4613\t어룡             \tU123\t의정부경전철\n",
      "4614\t송산             \tU124\t의정부경전철\n",
      "4615\t탑석             \tU125\t의정부경전철\n",
      "4701\t북한산우이          \t941\t우이신설경전철\n",
      "4702\t솔밭공원           \t942\t우이신설경전철\n",
      "4703\t4·19민주묘지       \t943\t우이신설경전철\n",
      "4704\t가오리            \t944\t우이신설경전철\n",
      "4705\t화계             \t945\t우이신설경전철\n",
      "4706\t삼양             \t946\t우이신설경전철\n",
      "4707\t삼양사거리          \t947\t우이신설경전철\n",
      "4708\t솔샘             \t948\t우이신설경전철\n",
      "4922\t마산             \t692\t김포도시철도\n",
      "4923\t장기             \t693\t김포도시철도\n",
      "4924\t운양             \t694\t김포도시철도\n",
      "4925\t걸포북변           \t695\t김포도시철도\n",
      "4926\t사우             \t696\t김포도시철도\n",
      "4927\t풍무             \t697\t김포도시철도\n",
      "4928\t고촌             \t698\t김포도시철도\n",
      "4929\t김포공항           \t699\t김포도시철도\n",
      "0155\t동대문            \t128\t01호선\n",
      "0156\t신설동            \t126\t01호선\n",
      "0157\t제기동            \t125\t01호선\n",
      "0158\t청량리            \t124\t01호선\n",
      "0200\t까치산            \t234-4\t02호선\n",
      "0201\t시청             \t201\t02호선\n",
      "0202\t을지로입구          \t202\t02호선\n",
      "0203\t을지로3가          \t203\t02호선\n",
      "0204\t을지로4가          \t204\t02호선\n",
      "0205\t동대문역사문화공원      \t205\t02호선\n",
      "1307\t회기             \tP118\t경춘선\n",
      "1305\t광운대            \tP116\t경춘선\n",
      "1510\t세종대왕릉          \tK419\t경강선\n",
      "2729\t건대입구           \t727\t07호선\n",
      "1511\t여주             \tK420\t경강선\n",
      "4111\t신목동            \t911\t09호선\n",
      "3212\t가정중앙시장         \tI212\t인천2호선\n",
      "4501\t기흥             \tY110\t용인경전철\n",
      "0150\t서울역            \t133\t01호선\n",
      "0151\t시청             \t132\t01호선\n",
      "0152\t종각             \t131\t01호선\n",
      "0153\t종로3가           \t130\t01호선\n",
      "4709\t북한산보국문         \t949\t우이신설경전철\n",
      "4710\t정릉             \t950\t우이신설경전철\n",
      "4711\t성신여대입구         \t951\t우이신설경전철\n",
      "4712\t보문             \t952\t우이신설경전철\n",
      "4713\t신설동            \t953\t우이신설경전철\n",
      "4804\t소사             \t841\t서해선\n",
      "4805\t소새울            \t842\t서해선\n",
      "4806\t시흥대야           \t843\t서해선\n",
      "4807\t신천             \t844\t서해선\n",
      "4808\t신현             \t845\t서해선\n",
      "4809\t시흥시청           \t846\t서해선\n",
      "4810\t시흥능곡           \t847\t서해선\n",
      "4811\t달미             \t848\t서해선\n",
      "4812\t선부             \t849\t서해선\n",
      "4813\t초지             \t850\t서해선\n",
      "4814\t시우             \t701\t서해선\n",
      "----- Ending endIndex= 750\n"
     ]
    }
   ],
   "source": [
    "!python3 src/ds_open_subway_iter_json.py"
   ]
  },
  {
   "cell_type": "markdown",
   "metadata": {
    "slideshow": {
     "slide_type": "subslide"
    }
   },
   "source": [
    "### XML\n",
    "\n",
    "이번에는, 데이터를 XML 형식으로 받아 보자."
   ]
  },
  {
   "cell_type": "code",
   "execution_count": 13,
   "metadata": {},
   "outputs": [],
   "source": [
    "import lxml\n",
    "import lxml.etree\n",
    "import requests\n",
    "\n",
    "url='http://openAPI.seoul.go.kr:8088/73725974496a736c34395757705847/xml/SearchSTNBySubwayLineInfo/1/10///2'\n",
    "data=requests.get(url).text\n",
    "#tree=lxml.etree.parse(StringIO(data.encode('utf-8')))\n",
    "tree=lxml.etree.fromstring(data.encode('utf-8'))"
   ]
  },
  {
   "cell_type": "markdown",
   "metadata": {},
   "source": [
    "XPath를 이용한다. ```'//STATION_NM'```는 어느 계층에서나 일치하는 태그를 검색한다."
   ]
  },
  {
   "cell_type": "code",
   "execution_count": 14,
   "metadata": {},
   "outputs": [
    {
     "name": "stdout",
     "output_type": "stream",
     "text": [
      "동묘앞\n",
      "홍제\n",
      "무악재\n",
      "독립문\n",
      "경복궁\n",
      "안국\n",
      "종로3가\n",
      "을지로3가\n",
      "충무로\n",
      "동대입구\n"
     ]
    }
   ],
   "source": [
    "for node in tree.xpath('//STATION_NM'):\n",
    "    print (node.text)"
   ]
  },
  {
   "cell_type": "markdown",
   "metadata": {},
   "source": [
    "데이터의 갯수를 확인해보자.\n",
    "리스트로 결과가 반환되기 때문에, 반복문으로 처리한다."
   ]
  },
  {
   "cell_type": "code",
   "execution_count": 149,
   "metadata": {},
   "outputs": [
    {
     "name": "stdout",
     "output_type": "stream",
     "text": [
      "total_count= 748 748\n"
     ]
    }
   ],
   "source": [
    "for node in tree.xpath('//list_total_count'):\n",
    "    list_total_count=int(node.text)\n",
    "    print (\"total_count=\",list_total_count, node.text)"
   ]
  },
  {
   "cell_type": "markdown",
   "metadata": {},
   "source": [
    "비교하려면 문자열이어서는 안된다. 정수로 형변환을 해주어야 한다."
   ]
  },
  {
   "cell_type": "code",
   "execution_count": 148,
   "metadata": {},
   "outputs": [
    {
     "data": {
      "text/plain": [
       "748"
      ]
     },
     "execution_count": 148,
     "metadata": {},
     "output_type": "execute_result"
    }
   ],
   "source": [
    "int(list_total_count)"
   ]
  },
  {
   "cell_type": "code",
   "execution_count": 158,
   "metadata": {
    "slideshow": {
     "slide_type": "subslide"
    }
   },
   "outputs": [
    {
     "name": "stdout",
     "output_type": "stream",
     "text": [
      "Overwriting src/ds_open_subway_xml.py\n"
     ]
    }
   ],
   "source": [
    "%%writefile src/ds_open_subway_xml.py\n",
    "#!/usr/bin/env python\n",
    "# coding: utf-8\n",
    "import os\n",
    "import requests\n",
    "import urllib\n",
    "import mylib # NO! src.mylib\n",
    "import lxml\n",
    "import lxml.etree\n",
    "from io import StringIO\n",
    "\n",
    "def doIt():\n",
    "    keyPath=os.path.join(os.getcwd(), 'src', 'key.properties')\n",
    "    key=mylib.getKey(keyPath)\n",
    "    # (1) make params with resource IDs\n",
    "    KEY=str(key['dataseoul'])\n",
    "    TYPE='xml'\n",
    "    #OLD: SERVICE='SearchSTNBySubwayLineService'\n",
    "    SERVICE='SearchSTNBySubwayLineInfo'\n",
    "    LINE_NUM=str(2)\n",
    "    START_INDEX=str(1)\n",
    "    END_INDEX=str(10)\n",
    "    startIndex=1\n",
    "    endIndex=10\n",
    "    list_total_count=0    # set later\n",
    "    while True:\n",
    "        START_INDEX=str(startIndex)\n",
    "        END_INDEX=str(endIndex)\n",
    "        #params=os.path.join(KEY,TYPE,SERVICE,START_INDEX,END_INDEX,LINE_NUM)\n",
    "        params=\"/\".join([KEY,TYPE,SERVICE,START_INDEX,END_INDEX,'','',LINE_NUM])\n",
    "        # (2) make a full url\n",
    "        _url='http://openAPI.seoul.go.kr:8088' #NOTE slash: do not use 'http://openAPI.seoul.go.kr:8088/'\n",
    "        #url=urllib.parse.urljoin(_url,params)\n",
    "        url=\"/\".join([_url,params])\n",
    "        #print(url)\n",
    "        # (3) get data\n",
    "        data=requests.get(url).text\n",
    "        #tree=lxml.etree.parse(StringIO(data.encode('utf-8')))\n",
    "        tree=lxml.etree.fromstring(data.encode('utf-8'))\n",
    "        if(startIndex==1):\n",
    "            for node in tree.xpath('//list_total_count'):\n",
    "                list_total_count=int(node.text)\n",
    "                print (\"- Total_count=\",list_total_count)\n",
    "        for node in tree.xpath('//STATION_NM'):\n",
    "            print (node.text, end=\", \")\n",
    "        startIndex+=10\n",
    "        endIndex+=10\n",
    "        if(endIndex > list_total_count):\n",
    "            print(\"----- Ending endIndex=\", endIndex)\n",
    "            break\n",
    "\n",
    "if __name__ == \"__main__\":\n",
    "    doIt()\n"
   ]
  },
  {
   "cell_type": "code",
   "execution_count": 159,
   "metadata": {
    "slideshow": {
     "slide_type": "subslide"
    }
   },
   "outputs": [
    {
     "name": "stdout",
     "output_type": "stream",
     "text": [
      "- Total_count= 748\n",
      "동묘앞, 신당, 상왕십리, 왕십리, 한양대, 뚝섬, 성수, 건대입구, 구의, 강변, 잠실나루, 잠실, 잠실새내, 종합운동장, 삼성, 선릉, 역삼, 강남, 교대, 서초, 방배, 사당, 낙성대, 서울대입구, 봉천, 신림, 신대방, 구로디지털단지, 대림, 신도림, 문래, 영등포구청, 당산, 합정, 홍대입구, 신촌, 이대, 아현, 충정로, 용답, 신답, 신설동, 도림천, 양천구청, 신정네거리, 용두, 대곡, 지축, 구파발, 연신내, 불광, 녹번, 홍제, 무악재, 독립문, 경복궁, 안국, 종로3가, 을지로3가, 충무로, 동대입구, 약수, 금호, 옥수, 압구정, 신사, 잠원, 고속터미널, 교대, 남부터미널, 양재, 매봉, 도곡, 대치, 학여울, 대청, 일원, 수서, 가락시장, 경찰병원, 오금, 당고개, 상계, 노원, 창동, 쌍문, 수유, 미아, 미아사거리, 길음, 성신여대입구, 한성대입구, 혜화, 동대문, 동대문역사문화공원, 충무로, 명동, 회현, 서울역, 숙대입구, 삼각지, 신용산, 이촌, 동작, 총신대입구, 사당, 남태령, 남영, 용산, 노량진, 대방, 영등포, 신도림, 이촌, 서빙고, 용산, 한남, 옥수, 응봉, 왕십리, 청량리, 회기, 외대앞, 신이문, 석계, 광운대, 월계, 녹천, 창동, 선릉, 한티, 도곡, 구룡, 개포동, 대모산입구, 왕십리, 수서, 복정, 신길, 중랑, 상봉, 망우, 양원, 구리, 도농, 양정, 덕소, 도심, 팔당, 운길산, 양수, 국수, 아신, 오빈, 양평, 원덕, 용문, 지평, 서울역, 신촌, 효창공원앞, 공덕, 서강대, 홍대입구, 가좌, 디지털미디어시티, 수색, 화전, 강매, 행신, 능곡, 곡산, 백마, 풍산, 일산, 탄현, 야당, 운정, 금릉, 금촌, 파주, 문산, 임진강, 청량리, 중랑, 상봉, 망우, 신내, 갈매, 별내, 퇴계원, 사릉, 금곡, 평내호평, 천마산, 월롱, 마석, 대성리, 청평, 상천, 가평, 굴봉산, 백양리, 강촌, 김유정, 남춘천, 춘천, 봉명, 쌍용, 아산, 배방, 온양온천, 신창, 선바위, 경마공원, 대공원, 과천, 정부과천청사, 인덕원, 평촌, 범계, 금정, 판교, 이매, 삼동, 경기광주, 초월, 곤지암, 신둔도예촌, 이천, 부발, 구로, 가산디지털단지, 금천구청, 석수, 관악, 안양, 명학, 금정, 종로5가, 군포, 의왕, 성균관대, 화서, 수원, 독산, 세류, 병점, 세마, 오산대, 오산, 진위, 송탄, 서정리, 평택지제, 평택, 성환, 직산, 두정, 천안, 당정, 서동탄, 광명, 산본, 대야미, 반월, 상록수, 한대앞, 중앙, 고잔, 초지, 안산, 신길온천, 정왕, 오이도, 수리산, 오이도, 개봉, 오류동, 회기, 역곡, 부천, 송내, 부평, 백운, 동암, 주안, 제물포, 동인천, 인천, 구일, 소사, 부개, 간석, 도원, 온수, 중동, 도화, 한대앞, 중앙, 고잔, 초지, 안산, 신길온천, 정왕, 청량리, 수원, 서울숲, 압구정로데오, 강남구청, 선정릉, 가천대, 태평, 모란, 야탑, 서현, 수내, 정자, 미금, 오리, 신원, 이매, 보정, 죽전, 구성, 신갈, 기흥, 상갈, 청명, 영통, 망포, 매탄권선, 수원시청, 매교, 고색, 오목천, 어천, 야목, 사리, 달월, 월곶, 소래포구, 인천논현, 호구포, 남동인더스파크, 원인재, 연수, 송도, 인하대, 숭의, 신포, 인천, 방학, 도봉, 도봉산, 망월사, 회룡, 의정부, 가능, 녹양, 양주, 덕계, 덕정, 지행, 동두천중앙, 보산, 동두천, 소요산, 원흥, 삼송, 원당, 화정, 대곡, 백석, 마두, 정발산, 주엽, 대화, 방화, 개화산, 김포공항, 송정, 마곡, 발산, 우장산, 화곡, 까치산, 신정, 목동, 오목교, 양평, 영등포구청, 영등포시장, 신길, 여의도, 여의나루, 마포, 공덕, 애오개, 충정로, 서대문, 광화문, 종로3가, 을지로4가, 동대문역사문화공원, 청구, 신금호, 행당, 왕십리, 마장, 답십리, 장한평, 군자, 아차산, 광나루, 천호, 강동, 길동, 굽은다리, 명일, 고덕, 상일동, 둔촌동, 올림픽공원, 방이, 오금, 개롱, 거여, 마천, 강일, 미사, 하남풍산, 하남시청, 하남검단산, 응암, 역촌, 불광, 독바위, 연신내, 구산, 새절, 증산, 디지털미디어시티, 월드컵경기장, 마포구청, 망원, 합정, 상수, 광흥창, 대흥, 공덕, 효창공원앞, 삼각지, 녹사평, 이태원, 한강진, 버티고개, 약수, 청구, 신당, 동묘앞, 창신, 보문, 안암, 고려대, 월곡, 상월곡, 돌곶이, 석계, 태릉입구, 화랑대, 봉화산, 신내, 장암, 도봉산, 수락산, 마들, 노원, 중계, 하계, 공릉, 태릉입구, 먹골, 중화, 상봉, 면목, 사가정, 용마산, 중곡, 군자, 어린이대공원, 뚝섬유원지, 청담, 강남구청, 학동, 논현, 반포, 고속터미널, 내방, 이수, 남성, 숭실대입구, 상도, 장승배기, 신대방삼거리, 보라매, 신풍, 대림, 남구로, 가산디지털단지, 철산, 광명사거리, 천왕, 온수, 까치울, 부천종합운동장, 춘의, 신중동, 부천시청, 상동, 삼산체육관, 굴포천, 부평구청, 암사, 천호, 강동구청, 몽촌토성, 잠실, 석촌, 송파, 가락시장, 문정, 장지, 복정, 산성, 남한산성입구, 단대오거리, 신흥, 수진, 모란, 계양, 귤현, 박촌, 임학, 계산, 경인교대입구, 작전, 갈산, 부평구청, 부평시장, 부평, 동수, 부평삼거리, 간석오거리, 인천시청, 예술회관, 인천터미널, 문학경기장, 선학, 신연수, 원인재, 동춘, 동막, 캠퍼스타운, 테크노파크, 지식정보단지, 인천대입구, 센트럴파크, 국제업무지구, 송도달빛축제공원, 왕길, 검단사거리, 마전, 완정, 독정, 검암, 검바위, 아시아드경기장, 서구청, 가정, 검단오류, 석남, 서부여성회관, 인천가좌, 가재울, 주안국가산단, 주안, 시민공원, 석바위시장, 인천시청, 석천사거리, 모래내시장, 만수, 남동구청, 인천대공원, 운연, 산곡, 석남, 개화, 김포공항, 공항시장, 신방화, 마곡나루, 양천향교, 가양, 증미, 등촌, 염창, 당산, 국회의사당, 여의도, 샛강, 노량진, 노들, 흑석, 동작, 구반포, 신반포, 고속터미널, 사평, 신논현, 언주, 선유도, 선정릉, 삼성중앙, 봉은사, 종합운동장, 삼전, 석촌고분, 석촌, 송파나루, 한성백제, 올림픽공원, 둔촌오륜, 중앙보훈병원, 서울역, 공덕, 홍대입구, 디지털미디어시티, 마곡나루, 김포공항, 계양, 검암, 청라국제도시, 운서, 공항화물청사, 인천공항1터미널, 인천공항2터미널, 영종, 강남, 양재, 양재시민의숲, 청계산입구, 판교, 정자, 미금, 동천, 수지구청, 성복, 상현, 광교중앙, 광교, 강남대, 지석, 어정, 동백, 초당, 삼가, 시청.용인대, 명지대, 김량장, 전대.에버랜드, 회룡, 범골, 경전철의정부, 의정부시청, 흥선, 의정부중앙, 동오, 새말, 경기도청북부청사, 효자, 곤제, 어룡, 송산, 탑석, 북한산우이, 솔밭공원, 4·19민주묘지, 가오리, 화계, 삼양, 삼양사거리, 솔샘, 마산, 장기, 운양, 걸포북변, 사우, 풍무, 고촌, 김포공항, 동대문, 신설동, 제기동, 청량리, 까치산, 시청, 을지로입구, 을지로3가, 을지로4가, 동대문역사문화공원, 회기, 광운대, 세종대왕릉, 건대입구, 여주, 신목동, 가정중앙시장, 기흥, 서울역, 시청, 종각, 종로3가, 북한산보국문, 정릉, 성신여대입구, 보문, 신설동, 소사, 소새울, 시흥대야, 신천, 신현, 시흥시청, 시흥능곡, 달미, 선부, 초지, 시우, ----- Ending endIndex= 750\n"
     ]
    }
   ],
   "source": [
    "!python3 src/ds_open_subway_xml.py"
   ]
  },
  {
   "cell_type": "markdown",
   "metadata": {
    "slideshow": {
     "slide_type": "slide"
    }
   },
   "source": [
    "## 문제 3: 행정동별 서울생활인구 (단기체류 외국인)\n",
    "\n",
    "서울시에 '단기체류 외국인'이 몇 명이나 되는지 알아보자.\n",
    "서울열린데이터광장에서 '단기체류 외국인'을 찾아보면, 그러한 정보를 제공하는 API '**SPOP_FORN_TEMP_RESD_DONG**'가 있다.\n",
    "\n",
    "* '행정동별 서울생활인구(단기체류 외국인)' API 페이지\n",
    "\n",
    "![alt text](figures/dataSeoulGoKr_foreigner_SPOP_FORN_TEMP_RESD_DONG.png  \"short staying foreigners\")"
   ]
  },
  {
   "cell_type": "markdown",
   "metadata": {},
   "source": [
    "\n",
    "SPOP_FORN_TEMP_RESD_DONG API 호출에 필요한 인자를 정리하면 다음과 같다.\n",
    "\n",
    "변수명 | 타입 | 설명 \n",
    "-----|-----|-----\n",
    "KEY | String | 발급받은 인증키\n",
    "TYPE | String | xml, xmlf, xls, json 데이터 형식\n",
    "SERVICE | String | 서비스명\n",
    "START_INDEX | Integer | 페이징 시작번호\n",
    "END_INDEX | Integer | 페이징 끝번호\n",
    "STDR_DE_ID | String (선택) | 기준일\n",
    "TMZON_PD_SE | String (선택) | 시간대구분\n",
    "ADSTRD_CODE_SE | String (선택) | 행정동코드"
   ]
  },
  {
   "cell_type": "markdown",
   "metadata": {},
   "source": [
    "20200617년 기준으로 1~5개 데이터를 요청하는 샘플 API는 다음과 같다.\n",
    "\n",
    "http://openapi.seoul.go.kr:8088/(인증키)/xml/SPOP_FORN_TEMP_RESD_DONG/1/5/20200617"
   ]
  },
  {
   "cell_type": "markdown",
   "metadata": {},
   "source": [
    "### 인증키\n",
    "\n",
    "앞서 만들어 놓은 라이브러리를 사용하여 인증키를 읽어 온다."
   ]
  },
  {
   "cell_type": "code",
   "execution_count": 1,
   "metadata": {},
   "outputs": [],
   "source": [
    "import os\n",
    "import src.mylib\n",
    "keyPath=os.path.join(os.getcwd(), 'src', 'key.properties')\n",
    "key=src.mylib.getKey(keyPath)\n",
    "KEY=str(key['dataseoul'])"
   ]
  },
  {
   "cell_type": "markdown",
   "metadata": {},
   "source": [
    "### 요청인자\n",
    "\n",
    "서비스 'SPOP_FORN_TEMP_RESD_DONG'에 대하여 인자를 다음과 같이 설정한다.\n",
    "* 요청하는 TYPE은 XML,\n",
    "* 기준일 '20200617',\n",
    "* 인덱스는 1~5까지의 단기체류 외국인 수를 구해보자.\n"
   ]
  },
  {
   "cell_type": "code",
   "execution_count": 2,
   "metadata": {
    "slideshow": {
     "slide_type": "subslide"
    }
   },
   "outputs": [
    {
     "name": "stdout",
     "output_type": "stream",
     "text": [
      "/xml/SPOP_FORN_TEMP_RESD_DONG/1/5/20200617\n"
     ]
    }
   ],
   "source": [
    "TYPE='xml'\n",
    "SERVICE='SPOP_FORN_TEMP_RESD_DONG'\n",
    "START_INDEX=str(1)\n",
    "END_INDEX=str(5)\n",
    "STDR_DE_ID=str(20200617)\n",
    "\n",
    "#params=os.path.join(KEY,TYPE,SERVICE,START_INDEX,END_INDEX)\n",
    "params=\"/\".join([KEY,TYPE,SERVICE,START_INDEX,END_INDEX,STDR_DE_ID])\n",
    "\n",
    "print (params[30:])"
   ]
  },
  {
   "cell_type": "markdown",
   "metadata": {},
   "source": [
    "### url 만들기\n",
    "\n",
    "url에 앞에 설정한 인자를 붙인다."
   ]
  },
  {
   "cell_type": "code",
   "execution_count": 4,
   "metadata": {
    "collapsed": true,
    "jupyter": {
     "outputs_hidden": true
    }
   },
   "outputs": [],
   "source": [
    "import urllib\n",
    "_url='http://openapi.seoul.go.kr:8088/'\n",
    "url=urllib.parse.urljoin(_url,params)"
   ]
  },
  {
   "cell_type": "code",
   "execution_count": 5,
   "metadata": {
    "scrolled": true,
    "slideshow": {
     "slide_type": "subslide"
    }
   },
   "outputs": [
    {
     "name": "stdout",
     "output_type": "stream",
     "text": [
      "http://openapi.seoul.go.kr:8088/73725974496a736c34395757705847/xml/SPOP_FORN_TEMP_RESD_DONG/1/5/20200617\n"
     ]
    }
   ],
   "source": [
    "print(url) # http://openapi.seoul.go.kr:8088/(인증키)/xml/SPOP_FORN_TEMP_RESD_DONG/1/5/20200617"
   ]
  },
  {
   "cell_type": "markdown",
   "metadata": {},
   "source": [
    "### url 호출"
   ]
  },
  {
   "cell_type": "code",
   "execution_count": 6,
   "metadata": {
    "collapsed": true,
    "jupyter": {
     "outputs_hidden": true
    }
   },
   "outputs": [],
   "source": [
    "import requests\n",
    "\n",
    "data=requests.get(url).text"
   ]
  },
  {
   "cell_type": "code",
   "execution_count": 7,
   "metadata": {
    "slideshow": {
     "slide_type": "subslide"
    }
   },
   "outputs": [
    {
     "name": "stdout",
     "output_type": "stream",
     "text": [
      "<?xml version=\"1.0\" encoding=\"UTF-8\"?>\n",
      "<SPOP_FORN_TEMP_RESD_DONG>\n",
      "<list_total_count>9849</list_total_count>\n",
      "<RESULT>\n",
      "<CODE>INFO-000</CODE>\n",
      "<MESSAGE>정상 처리되었습니다</MESSAGE>\n",
      "</RESULT>\n",
      "<row>\n",
      "<STDR_DE_ID>20200617</STDR_DE_ID>\n",
      "<TMZON_PD_SE>00</TMZON_PD_SE>\n",
      "<ADSTRD_CODE_SE>11110515</ADSTRD_CODE_SE>\n",
      "<TOT_LVPOP_CO>248.866</TOT_LVPOP_CO>\n",
      "<CHINA_STAYPOP_CO>86.4335</CHINA_STAYPOP_CO>\n",
      "<ETC_STAYPOP_CO>162.432</ETC_STAYPOP_CO>\n",
      "</row>\n",
      "<row>\n",
      "<STDR_DE_ID>20200617</STDR_DE_ID>\n",
      "<TMZON_PD_SE>00</TMZON_PD_SE>\n",
      "<ADSTRD_CODE_SE>11110530</ADSTRD_CODE_SE>\n",
      "<TOT_LVPOP_CO>71.2628</TOT_LVPOP_CO>\n",
      "<CHINA_STAYPOP_CO>0</CHINA_STAYPOP_CO>\n",
      "<ETC_STAYPOP_CO>71.2627</ETC_STAYPOP_CO>\n",
      "</row>\n",
      "<row>\n",
      "<STDR_DE_ID>20200617</STDR_DE_ID>\n",
      "<TMZON_PD_SE>00</TMZON_PD_SE>\n",
      "<ADSTRD_CODE_SE>11110540</ADSTRD_CODE_SE>\n",
      "<TOT_LVPOP_CO>150.1777</TOT_LVPOP_CO>\n",
      "<CHINA_STAYPOP_CO>86.2246</CHINA_STAYPOP_CO>\n",
      "<ETC_STAYPOP_CO>63.9532</ETC_STAYPOP_CO>\n",
      "</row>\n",
      "<row>\n",
      "<STDR_DE_ID>20200617</STDR_DE_ID>\n",
      "<TMZON_PD_SE>00</TMZON_PD_SE>\n",
      "<ADSTRD_CODE_SE>11110550</ADSTRD_CODE_SE>\n",
      "<TOT_LVPOP_CO>136.7137</TOT_LVPOP_CO>\n",
      "<CHINA_STAYPOP_CO>79.3833</CHINA_STAYPOP_CO>\n",
      "<ETC_STAYPOP_CO>57.3305</ETC_STAYPOP_CO>\n",
      "</row>\n",
      "<row>\n",
      "<STDR_DE_ID>20200617</STDR_DE_ID>\n",
      "<TMZON_PD_SE>00</TMZON_PD_SE>\n",
      "<ADSTRD_CODE_SE>11110560</ADSTRD_CODE_SE>\n",
      "<TOT_LVPOP_CO>174.824</TOT_LVPOP_CO>\n",
      "<CHINA_STAYPOP_CO>0</CHINA_STAYPOP_CO>\n",
      "<ETC_STAYPOP_CO>174.8241</ETC_STAYPOP_CO>\n",
      "</row>\n",
      "</SPOP_FORN_TEMP_RESD_DONG>\n",
      "\n"
     ]
    }
   ],
   "source": [
    "print (data)"
   ]
  },
  {
   "cell_type": "markdown",
   "metadata": {},
   "source": [
    "### XML 파싱\n",
    "\n",
    "TOT_LVPOP_CO 항목을 조회해보자."
   ]
  },
  {
   "cell_type": "code",
   "execution_count": 10,
   "metadata": {
    "scrolled": true
   },
   "outputs": [
    {
     "name": "stdout",
     "output_type": "stream",
     "text": [
      "248.866\n",
      "71.2628\n",
      "150.1777\n",
      "136.7137\n",
      "174.824\n"
     ]
    }
   ],
   "source": [
    "import lxml\n",
    "import lxml.etree\n",
    "\n",
    "tree=lxml.etree.fromstring(data.encode('utf-8'))\n",
    "nodes=tree.xpath('//TOT_LVPOP_CO')\n",
    "for node in nodes:\n",
    "    print (node.text)"
   ]
  },
  {
   "cell_type": "markdown",
   "metadata": {},
   "source": [
    "### 일괄실행\n",
    "\n",
    "* XML 데이터를 처리하는 프로그램이다.\n",
    "* 앞 문제풀이 프로그램과 큰 차이가 없다. API에서 읽는 방식이 유사하다."
   ]
  },
  {
   "cell_type": "code",
   "execution_count": 12,
   "metadata": {},
   "outputs": [
    {
     "name": "stdout",
     "output_type": "stream",
     "text": [
      "Overwriting src/ds_open_foreigners_xml.py\n"
     ]
    }
   ],
   "source": [
    "%%writefile src/ds_open_foreigners_xml.py\n",
    "import os\n",
    "import urllib\n",
    "import requests\n",
    "import lxml\n",
    "import lxml.etree\n",
    "import mylib #from src import mylib\n",
    "\n",
    "def doIt():\n",
    "    keyPath=os.path.join(os.getcwd(), 'src', 'key.properties')\n",
    "    key=mylib.getKey(keyPath)\n",
    "    KEY=str(key['dataseoul'])\n",
    "    TYPE='xml'\n",
    "    SERVICE='SPOP_FORN_TEMP_RESD_DONG'\n",
    "    START_INDEX=str(1)\n",
    "    END_INDEX=str(10)\n",
    "    STDR_DE_ID=str(20200617)\n",
    "    #params=\"/\".join([KEY,TYPE,SERVICE,START_INDEX,END_INDEX,STDR_DE_ID])\n",
    "\n",
    "    #_url='http://openAPI.seoul.go.kr:8088/'\n",
    "    _url='http://openAPI.seoul.go.kr:8088' # NOTE: the slash at the end removed\n",
    "    #url=urllib.parse.urljoin(_url,params)\n",
    "    url=\"/\".join([_url,KEY,TYPE,SERVICE,START_INDEX,END_INDEX,STDR_DE_ID])\n",
    "    data=requests.get(url).text\n",
    "    #tree=lxml.etree.parse(StringIO.StringIO(data.encode('utf-8')))\n",
    "    tree=lxml.etree.fromstring(data.encode('utf-8'))\n",
    "    nodes=tree.xpath('//TOT_LVPOP_CO')\n",
    "    for node in nodes:\n",
    "        print (node.text)\n",
    "\n",
    "if __name__ == \"__main__\":\n",
    "    doIt()\n"
   ]
  },
  {
   "cell_type": "code",
   "execution_count": 65,
   "metadata": {
    "scrolled": true
   },
   "outputs": [
    {
     "name": "stdout",
     "output_type": "stream",
     "text": [
      "248.866\n",
      "71.2628\n",
      "150.1777\n",
      "136.7137\n",
      "174.824\n",
      "0.4833\n",
      "0.2163\n",
      "35.2093\n",
      "756.5433\n",
      "87.6117\n"
     ]
    }
   ],
   "source": [
    "!python3 src/ds_open_foreigners_xml.py"
   ]
  },
  {
   "cell_type": "markdown",
   "metadata": {},
   "source": [
    "## 문제 4: 서울시 지하철역별 월별 승하차인원 구하기\n",
    "\n",
    "'서울시 지하철호선별 역별 승하차 인원 정보'를 API를 통해 데이터를 수집해보자.\n",
    "서울열린데이터광장에서 '지하철 승하차인원'을 찾아보면, 'CardSubwayStatsNew' API가 존재한다.\n",
    "\n",
    "![alt text](figures/dataSeoulGoKr_CardSubwayStatsNew.png  \"subway ride alight\")"
   ]
  },
  {
   "cell_type": "markdown",
   "metadata": {},
   "source": [
    "CardSubwayStatsNew API 호출에 필요한 인자를 정리하면 다음과 같다.\n",
    "\n",
    "변수명 | 타입 | 설명 \n",
    "-----|-----|-----\n",
    "KEY | String | 발급받은 인증키\n",
    "TYPE | String | xml, xmlf, xls, json 데이터 형식\n",
    "SERVICE | String | 서비스명\n",
    "START_INDEX | Integer | 페이징 시작번호\n",
    "END_INDEX | Integer | 페이징 끝번호\n",
    "USE_DT | String (선택) | 사용일자\tYYYYMMDD 형식의 문자열"
   ]
  },
  {
   "cell_type": "markdown",
   "metadata": {},
   "source": [
    "* 샘플URL 2015년 11월 1일의 지하철역 승하차인원\n",
    "\n",
    "http://openapi.seoul.go.kr:8088/(인증키)/xml/CardSubwayStatsNew/1/5/20151101"
   ]
  },
  {
   "cell_type": "markdown",
   "metadata": {},
   "source": [
    "### 인증키"
   ]
  },
  {
   "cell_type": "code",
   "execution_count": 15,
   "metadata": {
    "collapsed": true,
    "jupyter": {
     "outputs_hidden": true
    }
   },
   "outputs": [],
   "source": [
    "import os\n",
    "from src import mylib\n",
    "\n",
    "keyPath=os.path.join(os.getcwd(), 'src', 'key.properties')\n",
    "key=src.mylib.getKey(keyPath)"
   ]
  },
  {
   "cell_type": "markdown",
   "metadata": {},
   "source": [
    "### 요청인자\n",
    "\n",
    "API 호출에 필요한 인자를 정의한다."
   ]
  },
  {
   "cell_type": "code",
   "execution_count": 49,
   "metadata": {},
   "outputs": [],
   "source": [
    "_url='http://openAPI.seoul.go.kr:8088'\n",
    "_key=str(key['dataseoul'])\n",
    "_type='json'\n",
    "_service='CardSubwayStatsNew'\n",
    "_start_index=1\n",
    "_end_index=5\n",
    "_use_dt='20210801'"
   ]
  },
  {
   "cell_type": "markdown",
   "metadata": {},
   "source": [
    "### url 만들기\n"
   ]
  },
  {
   "cell_type": "code",
   "execution_count": 50,
   "metadata": {
    "slideshow": {
     "slide_type": "subslide"
    }
   },
   "outputs": [],
   "source": [
    "_api=os.path.join(_url,_key,_type,_service,str(_start_index),str(_end_index),_use_dt)"
   ]
  },
  {
   "cell_type": "markdown",
   "metadata": {},
   "source": [
    "### url 호출"
   ]
  },
  {
   "cell_type": "code",
   "execution_count": 51,
   "metadata": {
    "slideshow": {
     "slide_type": "subslide"
    }
   },
   "outputs": [],
   "source": [
    "import requests\n",
    "response = requests.get(_api)"
   ]
  },
  {
   "cell_type": "markdown",
   "metadata": {},
   "source": [
    "### json 파싱"
   ]
  },
  {
   "cell_type": "code",
   "execution_count": 19,
   "metadata": {},
   "outputs": [],
   "source": [
    "sub=response.json()"
   ]
  },
  {
   "cell_type": "markdown",
   "metadata": {},
   "source": [
    "출력은 다음과 같다.\n",
    "\n",
    "순서 | 항목명 | 설명\n",
    "-----|-----|-----\n",
    "1 | USE_DT | 사용일자\n",
    "2 | LINE_NUM | 호선명\n",
    "4 | SUB_STA_NM | 역명\n",
    "5 | RIDE_PASGR_NUM | 승차총승객수\n",
    "6 | ALIGHT_PASGR_NUM | 하차총승객수\n",
    "7 | WORK_DT | 등록일자"
   ]
  },
  {
   "cell_type": "code",
   "execution_count": 20,
   "metadata": {
    "scrolled": true
   },
   "outputs": [
    {
     "name": "stdout",
     "output_type": "stream",
     "text": [
      "{'CardSubwayStatsNew': {'list_total_count': 600, 'RESULT': {'CODE': 'INFO-000', 'MESSAGE': '정상 처리되었습니다'}, 'row': [{'USE_DT': '20210801', 'LINE_NUM': '1호선', 'SUB_STA_NM': '서울역', 'RIDE_PASGR_NUM': 17896.0, 'ALIGHT_PASGR_NUM': 15468.0, 'WORK_DT': '20210804'}, {'USE_DT': '20210801', 'LINE_NUM': '1호선', 'SUB_STA_NM': '동묘앞', 'RIDE_PASGR_NUM': 7760.0, 'ALIGHT_PASGR_NUM': 7771.0, 'WORK_DT': '20210804'}, {'USE_DT': '20210801', 'LINE_NUM': '1호선', 'SUB_STA_NM': '시청', 'RIDE_PASGR_NUM': 4436.0, 'ALIGHT_PASGR_NUM': 4308.0, 'WORK_DT': '20210804'}, {'USE_DT': '20210801', 'LINE_NUM': '1호선', 'SUB_STA_NM': '종각', 'RIDE_PASGR_NUM': 7972.0, 'ALIGHT_PASGR_NUM': 7438.0, 'WORK_DT': '20210804'}, {'USE_DT': '20210801', 'LINE_NUM': '1호선', 'SUB_STA_NM': '종로3가', 'RIDE_PASGR_NUM': 8999.0, 'ALIGHT_PASGR_NUM': 8604.0, 'WORK_DT': '20210804'}]}}\n"
     ]
    }
   ],
   "source": [
    "print(sub)"
   ]
  },
  {
   "cell_type": "code",
   "execution_count": 15,
   "metadata": {},
   "outputs": [
    {
     "data": {
      "text/plain": [
       "[{'USE_DT': '20210801',\n",
       "  'LINE_NUM': '1호선',\n",
       "  'SUB_STA_NM': '서울역',\n",
       "  'RIDE_PASGR_NUM': 17896.0,\n",
       "  'ALIGHT_PASGR_NUM': 15468.0,\n",
       "  'WORK_DT': '20210804'},\n",
       " {'USE_DT': '20210801',\n",
       "  'LINE_NUM': '1호선',\n",
       "  'SUB_STA_NM': '동묘앞',\n",
       "  'RIDE_PASGR_NUM': 7760.0,\n",
       "  'ALIGHT_PASGR_NUM': 7771.0,\n",
       "  'WORK_DT': '20210804'},\n",
       " {'USE_DT': '20210801',\n",
       "  'LINE_NUM': '1호선',\n",
       "  'SUB_STA_NM': '시청',\n",
       "  'RIDE_PASGR_NUM': 4436.0,\n",
       "  'ALIGHT_PASGR_NUM': 4308.0,\n",
       "  'WORK_DT': '20210804'},\n",
       " {'USE_DT': '20210801',\n",
       "  'LINE_NUM': '1호선',\n",
       "  'SUB_STA_NM': '종각',\n",
       "  'RIDE_PASGR_NUM': 7972.0,\n",
       "  'ALIGHT_PASGR_NUM': 7438.0,\n",
       "  'WORK_DT': '20210804'},\n",
       " {'USE_DT': '20210801',\n",
       "  'LINE_NUM': '1호선',\n",
       "  'SUB_STA_NM': '종로3가',\n",
       "  'RIDE_PASGR_NUM': 8999.0,\n",
       "  'ALIGHT_PASGR_NUM': 8604.0,\n",
       "  'WORK_DT': '20210804'}]"
      ]
     },
     "execution_count": 15,
     "metadata": {},
     "output_type": "execute_result"
    }
   ],
   "source": [
    "sub['CardSubwayStatsNew']['row']"
   ]
  },
  {
   "cell_type": "code",
   "execution_count": 18,
   "metadata": {},
   "outputs": [
    {
     "name": "stdout",
     "output_type": "stream",
     "text": [
      "1호선  \t서울역       \t  17896.0\t  15468.0\n",
      "1호선  \t동묘앞       \t   7760.0\t   7771.0\n",
      "1호선  \t시청        \t   4436.0\t   4308.0\n",
      "1호선  \t종각        \t   7972.0\t   7438.0\n",
      "1호선  \t종로3가      \t   8999.0\t   8604.0\n"
     ]
    }
   ],
   "source": [
    "for e in sub['CardSubwayStatsNew']['row']:\n",
    "    print (\"{0:5s}\\t{1:10s}\\t{2:9.1f}\\t{3:9.1f}\".format(e['LINE_NUM'],e['SUB_STA_NM'],e['RIDE_PASGR_NUM'],e['ALIGHT_PASGR_NUM']))"
   ]
  },
  {
   "cell_type": "markdown",
   "metadata": {},
   "source": [
    "## 문제 5: 서울시 지하철 호선별 역별 시간대별 승하차 인원 정보\n",
    "\n",
    "지하철역의 승차, 하차 인원을 알아보자.\n",
    "서울열린데이터광장을 '지하철 승하차'를 찾아보면, 몇 가지 API가 있다.\n",
    "이 가운데 '서울시 지하철 호선별 역별 시간대별 승하차 인원 정보' '**CardSubwayTime**' API를 통해 데이터를 수집해보자.\n",
    "교통카드(선후불교통카드 및 1회용 교통카드)를 이용한 지하철 호선별 역별(1~9호선, 서울시 관할 운송기관에 한함) 시간대별 승하차인원을 알아볼 수 있다. 데이터는 매월 5일 전월 데이터를 갱신된다.\n",
    "\n",
    "![alt text](figures/dataSeoulGoKr_CardSubwayTime.png  \"subway by time\")"
   ]
  },
  {
   "cell_type": "markdown",
   "metadata": {
    "slideshow": {
     "slide_type": "slide"
    }
   },
   "source": [
    "CardSubwayTime API 호출에 필요한 인자를 정리하면 다음과 같다.\n",
    "\n",
    "변수명 | 타입 | 설명 \n",
    "-----|-----|-----\n",
    "KEY | String | 발급받은 인증키\n",
    "TYPE | String | xml, xmlf, xls, json 데이터 형식\n",
    "SERVICE | String | 서비스명\n",
    "START_INDEX | Integer | 페이징 시작번호\n",
    "END_INDEX | Integer | 페이징 끝번호\n",
    "USE_MON | String | 사용월\tYYYYMM형식의 문자열\n",
    "LINE_NUM | String(선택) |\t호선명 예) 1호선\n",
    "SUB_STA_NM | String(선택) | 지하철역명"
   ]
  },
  {
   "cell_type": "markdown",
   "metadata": {},
   "source": [
    "샘플 url 2015년 1월 지하철 호선별 역별 시간대별 승객 현황 조회는 다음과 같다.\n",
    "\n",
    "http://openapi.seoul.go.kr:8088/(인증키)/xml/CardSubwayTime/1/5/201501/"
   ]
  },
  {
   "cell_type": "markdown",
   "metadata": {},
   "source": [
    "### 인증키"
   ]
  },
  {
   "cell_type": "code",
   "execution_count": 5,
   "metadata": {
    "collapsed": true,
    "jupyter": {
     "outputs_hidden": true
    }
   },
   "outputs": [],
   "source": [
    "import os\n",
    "from src import mylib\n",
    "\n",
    "keyPath=os.path.join(os.getcwd(), 'src', 'key.properties')\n",
    "key=mylib.getKey(keyPath)"
   ]
  },
  {
   "cell_type": "markdown",
   "metadata": {},
   "source": [
    "### 요청인자"
   ]
  },
  {
   "cell_type": "code",
   "execution_count": 6,
   "metadata": {
    "slideshow": {
     "slide_type": "subslide"
    }
   },
   "outputs": [],
   "source": [
    "_url='http://openAPI.seoul.go.kr:8088'\n",
    "_key=str(key['dataseoul'])\n",
    "_type='xml'\n",
    "_service='CardSubwayTime'\n",
    "_start_index=1\n",
    "_end_index=5\n",
    "_use_mon='202106'"
   ]
  },
  {
   "cell_type": "markdown",
   "metadata": {},
   "source": [
    "### url 호출 반복\n",
    "\n",
    "아래 출력을 살펴보면, RESULT, row 태그가 포함되어 있다.\n",
    "\n",
    "* API호출에 대한 처리가 정상적인지 알 수 있다.\n",
    "\n",
    "메시지 | 메시지 설명\n",
    "------|-------\n",
    "INFO-000 | 정상 처리되었습니다.\n",
    "INFO-100 | 인증키가 유효하지 않습니다.\n",
    "INFO-200 | 해당하는 데이터가 없습니다.\n",
    "\n",
    "* row 태그 안에는 요청 정보가 포함되어 있다.\n",
    "\n",
    "여기서는 INDEX를 통해 1회에 5건씩, iter를 통해 1회 반복해서 총 5건의 데이터를 가져오고 있다.\n",
    "iter를 크게 또는 작게 해서 데이터 수집량을 조정할 수 있다.\n",
    "각 레코드는 시간대별 승하차인원을 포함하고 있다.\n",
    "\n",
    "```\n",
    "<row>\n",
    "<USE_MON>202106</USE_MON>\n",
    "<LINE_NUM>1호선</LINE_NUM>\n",
    "<SUB_STA_NM>서울역</SUB_STA_NM>\n",
    "<FOUR_RIDE_NUM>654</FOUR_RIDE_NUM>      04시-05시 승차인원\n",
    "<FOUR_ALIGHT_NUM>17</FOUR_ALIGHT_NUM>   04시-05시 하차인원\n",
    "<FIVE_RIDE_NUM>9008</FIVE_RIDE_NUM>     05시-06시 승차인원\n",
    "<FIVE_ALIGHT_NUM>6400</FIVE_ALIGHT_NUM> 05시-06시 승차인원\n",
    "...\n",
    "<TWO_RIDE_NUM>0</TWO_RIDE_NUM>          02시-03시 승차인원\n",
    "<TWO_ALIGHT_NUM>0</TWO_ALIGHT_NUM>      02시-03시 하차인원\n",
    "<THREE_RIDE_NUM>0</THREE_RIDE_NUM>      03시-04시 승차인원\n",
    "<THREE_ALIGHT_NUM>0</THREE_ALIGHT_NUM>  04시-05시 승차인원\n",
    "<WORK_DT>20210703</WORK_DT>\n",
    "</row>\n",
    "```"
   ]
  },
  {
   "cell_type": "code",
   "execution_count": 7,
   "metadata": {
    "scrolled": true,
    "slideshow": {
     "slide_type": "subslide"
    }
   },
   "outputs": [
    {
     "name": "stdout",
     "output_type": "stream",
     "text": [
      "<?xml version=\"1.0\" encoding=\"UTF-8\"?>\n",
      "<CardSubwayTime>\n",
      "<list_total_count>608</list_total_count>\n",
      "<RESULT>\n",
      "<CODE>INFO-000</CODE>\n",
      "<MESSAGE>정상 처리되었습니다</MESSAGE>\n",
      "</RESULT>\n",
      "<row>\n",
      "<USE_MON>202106</USE_MON>\n",
      "<LINE_NUM>1호선</LINE_NUM>\n",
      "<SUB_STA_NM>서울역</SUB_STA_NM>\n",
      "<FOUR_RIDE_NUM>654</FOUR_RIDE_NUM>\n",
      "<FOUR_ALIGHT_NUM>17</FOUR_ALIGHT_NUM>\n",
      "<FIVE_RIDE_NUM>9008</FIVE_RIDE_NUM>\n",
      "<FIVE_ALIGHT_NUM>6400</FIVE_ALIGHT_NUM>\n",
      "<SIX_RIDE_NUM>12474</SIX_RIDE_NUM>\n",
      "<SIX_ALIGHT_NUM>37203</SIX_ALIGHT_NUM>\n",
      "<SEVEN_RIDE_NUM>37253</SEVEN_RIDE_NUM>\n",
      "<SEVEN_ALIGHT_NUM>91875</SEVEN_ALIGHT_NUM>\n",
      "<EIGHT_RIDE_NUM>59876</EIGHT_RIDE_NUM>\n",
      "<EIGHT_ALIGHT_NUM>187805</EIGHT_ALIGHT_NUM>\n",
      "<NINE_RIDE_NUM>44619</NINE_RIDE_NUM>\n",
      "<NINE_ALIGHT_NUM>118679</NINE_ALIGHT_NUM>\n",
      "<TEN_RIDE_NUM>42611</TEN_RIDE_NUM>\n",
      "<TEN_ALIGHT_NUM>57710</TEN_ALIGHT_NUM>\n",
      "<ELEVEN_RIDE_NUM>49533</ELEVEN_RIDE_NUM>\n",
      "<ELEVEN_ALIGHT_NUM>50003</ELEVEN_ALIGHT_NUM>\n",
      "<TWELVE_RIDE_NUM>59357</TWELVE_RIDE_NUM>\n",
      "<TWELVE_ALIGHT_NUM>53317</TWELVE_ALIGHT_NUM>\n",
      "<THIRTEEN_RIDE_NUM>61171</THIRTEEN_RIDE_NUM>\n",
      "<THIRTEEN_ALIGHT_NUM>53687</THIRTEEN_ALIGHT_NUM>\n",
      "<FOURTEEN_RIDE_NUM>53310</FOURTEEN_RIDE_NUM>\n",
      "<FOURTEEN_ALIGHT_NUM>49094</FOURTEEN_ALIGHT_NUM>\n",
      "<FIFTEEN_RIDE_NUM>65767</FIFTEEN_RIDE_NUM>\n",
      "<FIFTEEN_ALIGHT_NUM>52788</FIFTEEN_ALIGHT_NUM>\n",
      "<SIXTEEN_RIDE_NUM>76249</SIXTEEN_RIDE_NUM>\n",
      "<SIXTEEN_ALIGHT_NUM>53969</SIXTEEN_ALIGHT_NUM>\n",
      "<SEVENTEEN_RIDE_NUM>122928</SEVENTEEN_RIDE_NUM>\n",
      "<SEVENTEEN_ALIGHT_NUM>64693</SEVENTEEN_ALIGHT_NUM>\n",
      "<EIGHTEEN_RIDE_NUM>184907</EIGHTEEN_RIDE_NUM>\n",
      "<EIGHTEEN_ALIGHT_NUM>73978</EIGHTEEN_ALIGHT_NUM>\n",
      "<NINETEEN_RIDE_NUM>87575</NINETEEN_RIDE_NUM>\n",
      "<NINETEEN_ALIGHT_NUM>46769</NINETEEN_ALIGHT_NUM>\n",
      "<TWENTY_RIDE_NUM>59961</TWENTY_RIDE_NUM>\n",
      "<TWENTY_ALIGHT_NUM>30743</TWENTY_ALIGHT_NUM>\n",
      "<TWENTY_ONE_RIDE_NUM>65078</TWENTY_ONE_RIDE_NUM>\n",
      "<TWENTY_ONE_ALIGHT_NUM>27435</TWENTY_ONE_ALIGHT_NUM>\n",
      "<TWENTY_TWO_RIDE_NUM>44921</TWENTY_TWO_RIDE_NUM>\n",
      "<TWENTY_TWO_ALIGHT_NUM>22829</TWENTY_TWO_ALIGHT_NUM>\n",
      "<TWENTY_THREE_RIDE_NUM>11581</TWENTY_THREE_RIDE_NUM>\n",
      "<TWENTY_THREE_ALIGHT_NUM>8024</TWENTY_THREE_ALIGHT_NUM>\n",
      "<MIDNIGHT_RIDE_NUM>30</MIDNIGHT_RIDE_NUM>\n",
      "<MIDNIGHT_ALIGHT_NUM>637</MIDNIGHT_ALIGHT_NUM>\n",
      "<ONE_RIDE_NUM>0</ONE_RIDE_NUM>\n",
      "<ONE_ALIGHT_NUM>1</ONE_ALIGHT_NUM>\n",
      "<TWO_RIDE_NUM>0</TWO_RIDE_NUM>\n",
      "<TWO_ALIGHT_NUM>0</TWO_ALIGHT_NUM>\n",
      "<THREE_RIDE_NUM>0</THREE_RIDE_NUM>\n",
      "<THREE_ALIGHT_NUM>0</THREE_ALIGHT_NUM>\n",
      "<WORK_DT>20210703</WORK_DT>\n",
      "</row>\n",
      "<row>\n",
      "<USE_MON>202106</USE_MON>\n",
      "<LINE_NUM>1호선</LINE_NUM>\n",
      "<SUB_STA_NM>동묘앞</SUB_STA_NM>\n",
      "<FOUR_RIDE_NUM>51</FOUR_RIDE_NUM>\n",
      "<FOUR_ALIGHT_NUM>1</FOUR_ALIGHT_NUM>\n",
      "<FIVE_RIDE_NUM>3218</FIVE_RIDE_NUM>\n",
      "<FIVE_ALIGHT_NUM>1100</FIVE_ALIGHT_NUM>\n",
      "<SIX_RIDE_NUM>3422</SIX_RIDE_NUM>\n",
      "<SIX_ALIGHT_NUM>4802</SIX_ALIGHT_NUM>\n",
      "<SEVEN_RIDE_NUM>5896</SEVEN_RIDE_NUM>\n",
      "<SEVEN_ALIGHT_NUM>9703</SEVEN_ALIGHT_NUM>\n",
      "<EIGHT_RIDE_NUM>9194</EIGHT_RIDE_NUM>\n",
      "<EIGHT_ALIGHT_NUM>24921</EIGHT_ALIGHT_NUM>\n",
      "<NINE_RIDE_NUM>8022</NINE_RIDE_NUM>\n",
      "<NINE_ALIGHT_NUM>17333</NINE_ALIGHT_NUM>\n",
      "<TEN_RIDE_NUM>9687</TEN_RIDE_NUM>\n",
      "<TEN_ALIGHT_NUM>19292</TEN_ALIGHT_NUM>\n",
      "<ELEVEN_RIDE_NUM>14091</ELEVEN_RIDE_NUM>\n",
      "<ELEVEN_ALIGHT_NUM>24305</ELEVEN_ALIGHT_NUM>\n",
      "<TWELVE_RIDE_NUM>20089</TWELVE_RIDE_NUM>\n",
      "<TWELVE_ALIGHT_NUM>26186</TWELVE_ALIGHT_NUM>\n",
      "<THIRTEEN_RIDE_NUM>24776</THIRTEEN_RIDE_NUM>\n",
      "<THIRTEEN_ALIGHT_NUM>28141</THIRTEEN_ALIGHT_NUM>\n",
      "<FOURTEEN_RIDE_NUM>27144</FOURTEEN_RIDE_NUM>\n",
      "<FOURTEEN_ALIGHT_NUM>26643</FOURTEEN_ALIGHT_NUM>\n",
      "<FIFTEEN_RIDE_NUM>28360</FIFTEEN_RIDE_NUM>\n",
      "<FIFTEEN_ALIGHT_NUM>23213</FIFTEEN_ALIGHT_NUM>\n",
      "<SIXTEEN_RIDE_NUM>31119</SIXTEEN_RIDE_NUM>\n",
      "<SIXTEEN_ALIGHT_NUM>17744</SIXTEEN_ALIGHT_NUM>\n",
      "<SEVENTEEN_RIDE_NUM>27036</SEVENTEEN_RIDE_NUM>\n",
      "<SEVENTEEN_ALIGHT_NUM>13759</SEVENTEEN_ALIGHT_NUM>\n",
      "<EIGHTEEN_RIDE_NUM>23606</EIGHTEEN_RIDE_NUM>\n",
      "<EIGHTEEN_ALIGHT_NUM>10098</EIGHTEEN_ALIGHT_NUM>\n",
      "<NINETEEN_RIDE_NUM>11006</NINETEEN_RIDE_NUM>\n",
      "<NINETEEN_ALIGHT_NUM>6510</NINETEEN_ALIGHT_NUM>\n",
      "<TWENTY_RIDE_NUM>6119</TWENTY_RIDE_NUM>\n",
      "<TWENTY_ALIGHT_NUM>4409</TWENTY_ALIGHT_NUM>\n",
      "<TWENTY_ONE_RIDE_NUM>5485</TWENTY_ONE_RIDE_NUM>\n",
      "<TWENTY_ONE_ALIGHT_NUM>4265</TWENTY_ONE_ALIGHT_NUM>\n",
      "<TWENTY_TWO_RIDE_NUM>3405</TWENTY_TWO_RIDE_NUM>\n",
      "<TWENTY_TWO_ALIGHT_NUM>5689</TWENTY_TWO_ALIGHT_NUM>\n",
      "<TWENTY_THREE_RIDE_NUM>1035</TWENTY_THREE_RIDE_NUM>\n",
      "<TWENTY_THREE_ALIGHT_NUM>2589</TWENTY_THREE_ALIGHT_NUM>\n",
      "<MIDNIGHT_RIDE_NUM>4</MIDNIGHT_RIDE_NUM>\n",
      "<MIDNIGHT_ALIGHT_NUM>1348</MIDNIGHT_ALIGHT_NUM>\n",
      "<ONE_RIDE_NUM>0</ONE_RIDE_NUM>\n",
      "<ONE_ALIGHT_NUM>0</ONE_ALIGHT_NUM>\n",
      "<TWO_RIDE_NUM>0</TWO_RIDE_NUM>\n",
      "<TWO_ALIGHT_NUM>0</TWO_ALIGHT_NUM>\n",
      "<THREE_RIDE_NUM>0</THREE_RIDE_NUM>\n",
      "<THREE_ALIGHT_NUM>0</THREE_ALIGHT_NUM>\n",
      "<WORK_DT>20210703</WORK_DT>\n",
      "</row>\n",
      "<row>\n",
      "<USE_MON>202106</USE_MON>\n",
      "<LINE_NUM>1호선</LINE_NUM>\n",
      "<SUB_STA_NM>시청</SUB_STA_NM>\n",
      "<FOUR_RIDE_NUM>37</FOUR_RIDE_NUM>\n",
      "<FOUR_ALIGHT_NUM>0</FOUR_ALIGHT_NUM>\n",
      "<FIVE_RIDE_NUM>1881</FIVE_RIDE_NUM>\n",
      "<FIVE_ALIGHT_NUM>4340</FIVE_ALIGHT_NUM>\n",
      "<SIX_RIDE_NUM>2948</SIX_RIDE_NUM>\n",
      "<SIX_ALIGHT_NUM>21443</SIX_ALIGHT_NUM>\n",
      "<SEVEN_RIDE_NUM>6280</SEVEN_RIDE_NUM>\n",
      "<SEVEN_ALIGHT_NUM>62346</SEVEN_ALIGHT_NUM>\n",
      "<EIGHT_RIDE_NUM>7740</EIGHT_RIDE_NUM>\n",
      "<EIGHT_ALIGHT_NUM>167991</EIGHT_ALIGHT_NUM>\n",
      "<NINE_RIDE_NUM>8117</NINE_RIDE_NUM>\n",
      "<NINE_ALIGHT_NUM>72853</NINE_ALIGHT_NUM>\n",
      "<TEN_RIDE_NUM>9284</TEN_RIDE_NUM>\n",
      "<TEN_ALIGHT_NUM>29250</TEN_ALIGHT_NUM>\n",
      "<ELEVEN_RIDE_NUM>14030</ELEVEN_RIDE_NUM>\n",
      "<ELEVEN_ALIGHT_NUM>27989</ELEVEN_ALIGHT_NUM>\n",
      "<TWELVE_RIDE_NUM>15295</TWELVE_RIDE_NUM>\n",
      "<TWELVE_ALIGHT_NUM>25037</TWELVE_ALIGHT_NUM>\n",
      "<THIRTEEN_RIDE_NUM>18849</THIRTEEN_RIDE_NUM>\n",
      "<THIRTEEN_ALIGHT_NUM>24492</THIRTEEN_ALIGHT_NUM>\n",
      "<FOURTEEN_RIDE_NUM>23331</FOURTEEN_RIDE_NUM>\n",
      "<FOURTEEN_ALIGHT_NUM>20032</FOURTEEN_ALIGHT_NUM>\n",
      "<FIFTEEN_RIDE_NUM>30469</FIFTEEN_RIDE_NUM>\n",
      "<FIFTEEN_ALIGHT_NUM>17869</FIFTEEN_ALIGHT_NUM>\n",
      "<SIXTEEN_RIDE_NUM>36116</SIXTEEN_RIDE_NUM>\n",
      "<SIXTEEN_ALIGHT_NUM>15593</SIXTEEN_ALIGHT_NUM>\n",
      "<SEVENTEEN_RIDE_NUM>66595</SEVENTEEN_RIDE_NUM>\n",
      "<SEVENTEEN_ALIGHT_NUM>16611</SEVENTEEN_ALIGHT_NUM>\n",
      "<EIGHTEEN_RIDE_NUM>135842</EIGHTEEN_RIDE_NUM>\n",
      "<EIGHTEEN_ALIGHT_NUM>17805</EIGHTEEN_ALIGHT_NUM>\n",
      "<NINETEEN_RIDE_NUM>46850</NINETEEN_RIDE_NUM>\n",
      "<NINETEEN_ALIGHT_NUM>8139</NINETEEN_ALIGHT_NUM>\n",
      "<TWENTY_RIDE_NUM>38173</TWENTY_RIDE_NUM>\n",
      "<TWENTY_ALIGHT_NUM>4455</TWENTY_ALIGHT_NUM>\n",
      "<TWENTY_ONE_RIDE_NUM>39048</TWENTY_ONE_RIDE_NUM>\n",
      "<TWENTY_ONE_ALIGHT_NUM>4234</TWENTY_ONE_ALIGHT_NUM>\n",
      "<TWENTY_TWO_RIDE_NUM>28501</TWENTY_TWO_RIDE_NUM>\n",
      "<TWENTY_TWO_ALIGHT_NUM>3686</TWENTY_TWO_ALIGHT_NUM>\n",
      "<TWENTY_THREE_RIDE_NUM>4390</TWENTY_THREE_RIDE_NUM>\n",
      "<TWENTY_THREE_ALIGHT_NUM>1485</TWENTY_THREE_ALIGHT_NUM>\n",
      "<MIDNIGHT_RIDE_NUM>3</MIDNIGHT_RIDE_NUM>\n",
      "<MIDNIGHT_ALIGHT_NUM>92</MIDNIGHT_ALIGHT_NUM>\n",
      "<ONE_RIDE_NUM>0</ONE_RIDE_NUM>\n",
      "<ONE_ALIGHT_NUM>0</ONE_ALIGHT_NUM>\n",
      "<TWO_RIDE_NUM>0</TWO_RIDE_NUM>\n",
      "<TWO_ALIGHT_NUM>0</TWO_ALIGHT_NUM>\n",
      "<THREE_RIDE_NUM>0</THREE_RIDE_NUM>\n",
      "<THREE_ALIGHT_NUM>0</THREE_ALIGHT_NUM>\n",
      "<WORK_DT>20210703</WORK_DT>\n",
      "</row>\n",
      "<row>\n",
      "<USE_MON>202106</USE_MON>\n",
      "<LINE_NUM>1호선</LINE_NUM>\n",
      "<SUB_STA_NM>종각</SUB_STA_NM>\n",
      "<FOUR_RIDE_NUM>127</FOUR_RIDE_NUM>\n",
      "<FOUR_ALIGHT_NUM>1</FOUR_ALIGHT_NUM>\n",
      "<FIVE_RIDE_NUM>2314</FIVE_RIDE_NUM>\n",
      "<FIVE_ALIGHT_NUM>4354</FIVE_ALIGHT_NUM>\n",
      "<SIX_RIDE_NUM>2868</SIX_RIDE_NUM>\n",
      "<SIX_ALIGHT_NUM>23755</SIX_ALIGHT_NUM>\n",
      "<SEVEN_RIDE_NUM>5479</SEVEN_RIDE_NUM>\n",
      "<SEVEN_ALIGHT_NUM>96712</SEVEN_ALIGHT_NUM>\n",
      "<EIGHT_RIDE_NUM>8419</EIGHT_RIDE_NUM>\n",
      "<EIGHT_ALIGHT_NUM>223459</EIGHT_ALIGHT_NUM>\n",
      "<NINE_RIDE_NUM>10625</NINE_RIDE_NUM>\n",
      "<NINE_ALIGHT_NUM>131420</NINE_ALIGHT_NUM>\n",
      "<TEN_RIDE_NUM>14727</TEN_RIDE_NUM>\n",
      "<TEN_ALIGHT_NUM>50878</TEN_ALIGHT_NUM>\n",
      "<ELEVEN_RIDE_NUM>23057</ELEVEN_RIDE_NUM>\n",
      "<ELEVEN_ALIGHT_NUM>44506</ELEVEN_ALIGHT_NUM>\n",
      "<TWELVE_RIDE_NUM>27707</TWELVE_RIDE_NUM>\n",
      "<TWELVE_ALIGHT_NUM>39830</TWELVE_ALIGHT_NUM>\n",
      "<THIRTEEN_RIDE_NUM>34538</THIRTEEN_RIDE_NUM>\n",
      "<THIRTEEN_ALIGHT_NUM>40864</THIRTEEN_ALIGHT_NUM>\n",
      "<FOURTEEN_RIDE_NUM>40378</FOURTEEN_RIDE_NUM>\n",
      "<FOURTEEN_ALIGHT_NUM>33173</FOURTEEN_ALIGHT_NUM>\n",
      "<FIFTEEN_RIDE_NUM>49745</FIFTEEN_RIDE_NUM>\n",
      "<FIFTEEN_ALIGHT_NUM>29610</FIFTEEN_ALIGHT_NUM>\n",
      "<SIXTEEN_RIDE_NUM>58664</SIXTEEN_RIDE_NUM>\n",
      "<SIXTEEN_ALIGHT_NUM>29692</SIXTEEN_ALIGHT_NUM>\n",
      "<SEVENTEEN_RIDE_NUM>114985</SEVENTEEN_RIDE_NUM>\n",
      "<SEVENTEEN_ALIGHT_NUM>33365</SEVENTEEN_ALIGHT_NUM>\n",
      "<EIGHTEEN_RIDE_NUM>192552</EIGHTEEN_RIDE_NUM>\n",
      "<EIGHTEEN_ALIGHT_NUM>39621</EIGHTEEN_ALIGHT_NUM>\n",
      "<NINETEEN_RIDE_NUM>78735</NINETEEN_RIDE_NUM>\n",
      "<NINETEEN_ALIGHT_NUM>19163</NINETEEN_ALIGHT_NUM>\n",
      "<TWENTY_RIDE_NUM>64989</TWENTY_RIDE_NUM>\n",
      "<TWENTY_ALIGHT_NUM>7386</TWENTY_ALIGHT_NUM>\n",
      "<TWENTY_ONE_RIDE_NUM>81179</TWENTY_ONE_RIDE_NUM>\n",
      "<TWENTY_ONE_ALIGHT_NUM>4790</TWENTY_ONE_ALIGHT_NUM>\n",
      "<TWENTY_TWO_RIDE_NUM>63653</TWENTY_TWO_RIDE_NUM>\n",
      "<TWENTY_TWO_ALIGHT_NUM>3763</TWENTY_TWO_ALIGHT_NUM>\n",
      "<TWENTY_THREE_RIDE_NUM>8153</TWENTY_THREE_RIDE_NUM>\n",
      "<TWENTY_THREE_ALIGHT_NUM>1675</TWENTY_THREE_ALIGHT_NUM>\n",
      "<MIDNIGHT_RIDE_NUM>21</MIDNIGHT_RIDE_NUM>\n",
      "<MIDNIGHT_ALIGHT_NUM>135</MIDNIGHT_ALIGHT_NUM>\n",
      "<ONE_RIDE_NUM>0</ONE_RIDE_NUM>\n",
      "<ONE_ALIGHT_NUM>0</ONE_ALIGHT_NUM>\n",
      "<TWO_RIDE_NUM>0</TWO_RIDE_NUM>\n",
      "<TWO_ALIGHT_NUM>0</TWO_ALIGHT_NUM>\n",
      "<THREE_RIDE_NUM>0</THREE_RIDE_NUM>\n",
      "<THREE_ALIGHT_NUM>0</THREE_ALIGHT_NUM>\n",
      "<WORK_DT>20210703</WORK_DT>\n",
      "</row>\n",
      "<row>\n",
      "<USE_MON>202106</USE_MON>\n",
      "<LINE_NUM>1호선</LINE_NUM>\n",
      "<SUB_STA_NM>종로3가</SUB_STA_NM>\n",
      "<FOUR_RIDE_NUM>191</FOUR_RIDE_NUM>\n",
      "<FOUR_ALIGHT_NUM>24</FOUR_ALIGHT_NUM>\n",
      "<FIVE_RIDE_NUM>3227</FIVE_RIDE_NUM>\n",
      "<FIVE_ALIGHT_NUM>3388</FIVE_ALIGHT_NUM>\n",
      "<SIX_RIDE_NUM>3069</SIX_RIDE_NUM>\n",
      "<SIX_ALIGHT_NUM>13080</SIX_ALIGHT_NUM>\n",
      "<SEVEN_RIDE_NUM>5108</SEVEN_RIDE_NUM>\n",
      "<SEVEN_ALIGHT_NUM>25462</SEVEN_ALIGHT_NUM>\n",
      "<EIGHT_RIDE_NUM>7412</EIGHT_RIDE_NUM>\n",
      "<EIGHT_ALIGHT_NUM>70639</EIGHT_ALIGHT_NUM>\n",
      "<NINE_RIDE_NUM>11673</NINE_RIDE_NUM>\n",
      "<NINE_ALIGHT_NUM>73336</NINE_ALIGHT_NUM>\n",
      "<TEN_RIDE_NUM>18502</TEN_RIDE_NUM>\n",
      "<TEN_ALIGHT_NUM>57312</TEN_ALIGHT_NUM>\n",
      "<ELEVEN_RIDE_NUM>29882</ELEVEN_RIDE_NUM>\n",
      "<ELEVEN_ALIGHT_NUM>55725</ELEVEN_ALIGHT_NUM>\n",
      "<TWELVE_RIDE_NUM>37009</TWELVE_RIDE_NUM>\n",
      "<TWELVE_ALIGHT_NUM>53678</TWELVE_ALIGHT_NUM>\n",
      "<THIRTEEN_RIDE_NUM>44050</THIRTEEN_RIDE_NUM>\n",
      "<THIRTEEN_ALIGHT_NUM>51189</THIRTEEN_ALIGHT_NUM>\n",
      "<FOURTEEN_RIDE_NUM>47626</FOURTEEN_RIDE_NUM>\n",
      "<FOURTEEN_ALIGHT_NUM>46621</FOURTEEN_ALIGHT_NUM>\n",
      "<FIFTEEN_RIDE_NUM>53071</FIFTEEN_RIDE_NUM>\n",
      "<FIFTEEN_ALIGHT_NUM>40250</FIFTEEN_ALIGHT_NUM>\n",
      "<SIXTEEN_RIDE_NUM>56955</SIXTEEN_RIDE_NUM>\n",
      "<SIXTEEN_ALIGHT_NUM>34679</SIXTEEN_ALIGHT_NUM>\n",
      "<SEVENTEEN_RIDE_NUM>68711</SEVENTEEN_RIDE_NUM>\n",
      "<SEVENTEEN_ALIGHT_NUM>31234</SEVENTEEN_ALIGHT_NUM>\n",
      "<EIGHTEEN_RIDE_NUM>94683</EIGHTEEN_RIDE_NUM>\n",
      "<EIGHTEEN_ALIGHT_NUM>33315</EIGHTEEN_ALIGHT_NUM>\n",
      "<NINETEEN_RIDE_NUM>55993</NINETEEN_RIDE_NUM>\n",
      "<NINETEEN_ALIGHT_NUM>16571</NINETEEN_ALIGHT_NUM>\n",
      "<TWENTY_RIDE_NUM>41534</TWENTY_RIDE_NUM>\n",
      "<TWENTY_ALIGHT_NUM>6332</TWENTY_ALIGHT_NUM>\n",
      "<TWENTY_ONE_RIDE_NUM>51588</TWENTY_ONE_RIDE_NUM>\n",
      "<TWENTY_ONE_ALIGHT_NUM>4938</TWENTY_ONE_ALIGHT_NUM>\n",
      "<TWENTY_TWO_RIDE_NUM>47756</TWENTY_TWO_RIDE_NUM>\n",
      "<TWENTY_TWO_ALIGHT_NUM>4591</TWENTY_TWO_ALIGHT_NUM>\n",
      "<TWENTY_THREE_RIDE_NUM>6768</TWENTY_THREE_RIDE_NUM>\n",
      "<TWENTY_THREE_ALIGHT_NUM>2318</TWENTY_THREE_ALIGHT_NUM>\n",
      "<MIDNIGHT_RIDE_NUM>25</MIDNIGHT_RIDE_NUM>\n",
      "<MIDNIGHT_ALIGHT_NUM>413</MIDNIGHT_ALIGHT_NUM>\n",
      "<ONE_RIDE_NUM>0</ONE_RIDE_NUM>\n",
      "<ONE_ALIGHT_NUM>0</ONE_ALIGHT_NUM>\n",
      "<TWO_RIDE_NUM>0</TWO_RIDE_NUM>\n",
      "<TWO_ALIGHT_NUM>0</TWO_ALIGHT_NUM>\n",
      "<THREE_RIDE_NUM>0</THREE_RIDE_NUM>\n",
      "<THREE_ALIGHT_NUM>0</THREE_ALIGHT_NUM>\n",
      "<WORK_DT>20210703</WORK_DT>\n",
      "</row>\n",
      "</CardSubwayTime>\n",
      "\n"
     ]
    }
   ],
   "source": [
    "import requests\n",
    "\n",
    "_maxIter=1\n",
    "_iter=0\n",
    "while _iter<_maxIter:\n",
    "    _api=\"/\".join([_url,_key,_type,_service,str(_start_index),str(_end_index),_use_mon])\n",
    "    #print _api\n",
    "    response = requests.get(_api).text\n",
    "    print(response)\n",
    "    _start_index+=5\n",
    "    _end_index+=5\n",
    "    _iter+=1"
   ]
  },
  {
   "cell_type": "markdown",
   "metadata": {
    "slideshow": {
     "slide_type": "subslide"
    }
   },
   "source": [
    "### 위 예제의 json 반환\n",
    "\n",
    "이번에는 json으로 반환해보자."
   ]
  },
  {
   "cell_type": "code",
   "execution_count": 16,
   "metadata": {
    "collapsed": true,
    "jupyter": {
     "outputs_hidden": true
    }
   },
   "outputs": [],
   "source": [
    "_type='json'"
   ]
  },
  {
   "cell_type": "code",
   "execution_count": 17,
   "metadata": {
    "collapsed": true,
    "jupyter": {
     "outputs_hidden": true
    }
   },
   "outputs": [],
   "source": [
    "_api=\"/\".join([_url,_key,_type,_service,str(_start_index),str(_end_index),_use_mon])"
   ]
  },
  {
   "cell_type": "code",
   "execution_count": 18,
   "metadata": {
    "slideshow": {
     "slide_type": "subslide"
    }
   },
   "outputs": [
    {
     "name": "stdout",
     "output_type": "stream",
     "text": [
      "{\"CardSubwayTime\":{\"list_total_count\":608,\"RESULT\":{\"CODE\":\"INFO-000\",\"MESSAGE\":\"정상 처리되었습니다\"},\"row\":[{\"USE_MON\":\"202106\",\"LINE_NUM\":\"1호선\",\"SUB_STA_NM\":\"종로5가\",\"FOUR_RIDE_NUM\":71.0,\"FOUR_ALIGHT_NUM\":0.0,\"FIVE_RIDE_NUM\":1526.0,\"FIVE_ALIGHT_NUM\":3779.0,\"SIX_RIDE_NUM\":2574.0,\"SIX_ALIGHT_NUM\":16992.0,\"SEVEN_RIDE_NUM\":4781.0,\"SEVEN_ALIGHT_NUM\":39423.0,\"EIGHT_RIDE_NUM\":7414.0,\"EIGHT_ALIGHT_NUM\":103060.0,\"NINE_RIDE_NUM\":11525.0,\"NINE_ALIGHT_NUM\":62717.0,\"TEN_RIDE_NUM\":18431.0,\"TEN_ALIGHT_NUM\":50987.0,\"ELEVEN_RIDE_NUM\":27735.0,\"ELEVEN_ALIGHT_NUM\":48857.0,\"TWELVE_RIDE_NUM\":34387.0,\"TWELVE_ALIGHT_NUM\":47295.0,\"THIRTEEN_RIDE_NUM\":40094.0,\"THIRTEEN_ALIGHT_NUM\":42416.0,\"FOURTEEN_RIDE_NUM\":46633.0,\"FOURTEEN_ALIGHT_NUM\":39899.0,\"FIFTEEN_RIDE_NUM\":50981.0,\"FIFTEEN_ALIGHT_NUM\":35861.0,\"SIXTEEN_RIDE_NUM\":55982.0,\"SIXTEEN_ALIGHT_NUM\":29188.0,\"SEVENTEEN_RIDE_NUM\":71386.0,\"SEVENTEEN_ALIGHT_NUM\":26232.0,\"EIGHTEEN_RIDE_NUM\":96880.0,\"EIGHTEEN_ALIGHT_NUM\":22727.0,\"NINETEEN_RIDE_NUM\":45846.0,\"NINETEEN_ALIGHT_NUM\":12621.0,\"TWENTY_RIDE_NUM\":29493.0,\"TWENTY_ALIGHT_NUM\":5474.0,\"TWENTY_ONE_RIDE_NUM\":29266.0,\"TWENTY_ONE_ALIGHT_NUM\":4184.0,\"TWENTY_TWO_RIDE_NUM\":20319.0,\"TWENTY_TWO_ALIGHT_NUM\":3607.0,\"TWENTY_THREE_RIDE_NUM\":2740.0,\"TWENTY_THREE_ALIGHT_NUM\":1681.0,\"MIDNIGHT_RIDE_NUM\":4.0,\"MIDNIGHT_ALIGHT_NUM\":268.0,\"ONE_RIDE_NUM\":1.0,\"ONE_ALIGHT_NUM\":1.0,\"TWO_RIDE_NUM\":0.0,\"TWO_ALIGHT_NUM\":0.0,\"THREE_RIDE_NUM\":0.0,\"THREE_ALIGHT_NUM\":0.0,\"WORK_DT\":\"20210703\"},{\"USE_MON\":\"202106\",\"LINE_NUM\":\"1호선\",\"SUB_STA_NM\":\"동대문\",\"FOUR_RIDE_NUM\":715.0,\"FOUR_ALIGHT_NUM\":14.0,\"FIVE_RIDE_NUM\":13235.0,\"FIVE_ALIGHT_NUM\":2131.0,\"SIX_RIDE_NUM\":8936.0,\"SIX_ALIGHT_NUM\":6979.0,\"SEVEN_RIDE_NUM\":14776.0,\"SEVEN_ALIGHT_NUM\":12395.0,\"EIGHT_RIDE_NUM\":18660.0,\"EIGHT_ALIGHT_NUM\":24732.0,\"NINE_RIDE_NUM\":16788.0,\"NINE_ALIGHT_NUM\":22866.0,\"TEN_RIDE_NUM\":15988.0,\"TEN_ALIGHT_NUM\":21388.0,\"ELEVEN_RIDE_NUM\":17257.0,\"ELEVEN_ALIGHT_NUM\":22109.0,\"TWELVE_RIDE_NUM\":20561.0,\"TWELVE_ALIGHT_NUM\":21732.0,\"THIRTEEN_RIDE_NUM\":21099.0,\"THIRTEEN_ALIGHT_NUM\":20786.0,\"FOURTEEN_RIDE_NUM\":22318.0,\"FOURTEEN_ALIGHT_NUM\":19616.0,\"FIFTEEN_RIDE_NUM\":23370.0,\"FIFTEEN_ALIGHT_NUM\":18703.0,\"SIXTEEN_RIDE_NUM\":24338.0,\"SIXTEEN_ALIGHT_NUM\":17325.0,\"SEVENTEEN_RIDE_NUM\":23923.0,\"SEVENTEEN_ALIGHT_NUM\":17672.0,\"EIGHTEEN_RIDE_NUM\":22895.0,\"EIGHTEEN_ALIGHT_NUM\":18354.0,\"NINETEEN_RIDE_NUM\":15871.0,\"NINETEEN_ALIGHT_NUM\":19089.0,\"TWENTY_RIDE_NUM\":12693.0,\"TWENTY_ALIGHT_NUM\":12789.0,\"TWENTY_ONE_RIDE_NUM\":13040.0,\"TWENTY_ONE_ALIGHT_NUM\":10134.0,\"TWENTY_TWO_RIDE_NUM\":11167.0,\"TWENTY_TWO_ALIGHT_NUM\":10601.0,\"TWENTY_THREE_RIDE_NUM\":2811.0,\"TWENTY_THREE_ALIGHT_NUM\":8211.0,\"MIDNIGHT_RIDE_NUM\":16.0,\"MIDNIGHT_ALIGHT_NUM\":1434.0,\"ONE_RIDE_NUM\":1.0,\"ONE_ALIGHT_NUM\":1.0,\"TWO_RIDE_NUM\":0.0,\"TWO_ALIGHT_NUM\":0.0,\"THREE_RIDE_NUM\":0.0,\"THREE_ALIGHT_NUM\":0.0,\"WORK_DT\":\"20210703\"},{\"USE_MON\":\"202106\",\"LINE_NUM\":\"1호선\",\"SUB_STA_NM\":\"신설동\",\"FOUR_RIDE_NUM\":343.0,\"FOUR_ALIGHT_NUM\":3.0,\"FIVE_RIDE_NUM\":8150.0,\"FIVE_ALIGHT_NUM\":3192.0,\"SIX_RIDE_NUM\":8131.0,\"SIX_ALIGHT_NUM\":10929.0,\"SEVEN_RIDE_NUM\":17021.0,\"SEVEN_ALIGHT_NUM\":25745.0,\"EIGHT_RIDE_NUM\":24583.0,\"EIGHT_ALIGHT_NUM\":62999.0,\"NINE_RIDE_NUM\":16472.0,\"NINE_ALIGHT_NUM\":33400.0,\"TEN_RIDE_NUM\":14689.0,\"TEN_ALIGHT_NUM\":20639.0,\"ELEVEN_RIDE_NUM\":16427.0,\"ELEVEN_ALIGHT_NUM\":17238.0,\"TWELVE_RIDE_NUM\":17625.0,\"TWELVE_ALIGHT_NUM\":16913.0,\"THIRTEEN_RIDE_NUM\":19712.0,\"THIRTEEN_ALIGHT_NUM\":17440.0,\"FOURTEEN_RIDE_NUM\":19363.0,\"FOURTEEN_ALIGHT_NUM\":16063.0,\"FIFTEEN_RIDE_NUM\":20684.0,\"FIFTEEN_ALIGHT_NUM\":16772.0,\"SIXTEEN_RIDE_NUM\":28784.0,\"SIXTEEN_ALIGHT_NUM\":17481.0,\"SEVENTEEN_RIDE_NUM\":39357.0,\"SEVENTEEN_ALIGHT_NUM\":20038.0,\"EIGHTEEN_RIDE_NUM\":57642.0,\"EIGHTEEN_ALIGHT_NUM\":25012.0,\"NINETEEN_RIDE_NUM\":20823.0,\"NINETEEN_ALIGHT_NUM\":17529.0,\"TWENTY_RIDE_NUM\":13880.0,\"TWENTY_ALIGHT_NUM\":10932.0,\"TWENTY_ONE_RIDE_NUM\":13378.0,\"TWENTY_ONE_ALIGHT_NUM\":10102.0,\"TWENTY_TWO_RIDE_NUM\":10189.0,\"TWENTY_TWO_ALIGHT_NUM\":11809.0,\"TWENTY_THREE_RIDE_NUM\":1952.0,\"TWENTY_THREE_ALIGHT_NUM\":5451.0,\"MIDNIGHT_RIDE_NUM\":10.0,\"MIDNIGHT_ALIGHT_NUM\":449.0,\"ONE_RIDE_NUM\":0.0,\"ONE_ALIGHT_NUM\":0.0,\"TWO_RIDE_NUM\":0.0,\"TWO_ALIGHT_NUM\":0.0,\"THREE_RIDE_NUM\":0.0,\"THREE_ALIGHT_NUM\":0.0,\"WORK_DT\":\"20210703\"},{\"USE_MON\":\"202106\",\"LINE_NUM\":\"1호선\",\"SUB_STA_NM\":\"제기동\",\"FOUR_RIDE_NUM\":360.0,\"FOUR_ALIGHT_NUM\":3.0,\"FIVE_RIDE_NUM\":5020.0,\"FIVE_ALIGHT_NUM\":2150.0,\"SIX_RIDE_NUM\":8625.0,\"SIX_ALIGHT_NUM\":9488.0,\"SEVEN_RIDE_NUM\":21818.0,\"SEVEN_ALIGHT_NUM\":18800.0,\"EIGHT_RIDE_NUM\":31428.0,\"EIGHT_ALIGHT_NUM\":42110.0,\"NINE_RIDE_NUM\":22254.0,\"NINE_ALIGHT_NUM\":37145.0,\"TEN_RIDE_NUM\":25534.0,\"TEN_ALIGHT_NUM\":39572.0,\"ELEVEN_RIDE_NUM\":33701.0,\"ELEVEN_ALIGHT_NUM\":40192.0,\"TWELVE_RIDE_NUM\":37380.0,\"TWELVE_ALIGHT_NUM\":36944.0,\"THIRTEEN_RIDE_NUM\":37913.0,\"THIRTEEN_ALIGHT_NUM\":36302.0,\"FOURTEEN_RIDE_NUM\":38816.0,\"FOURTEEN_ALIGHT_NUM\":38060.0,\"FIFTEEN_RIDE_NUM\":39042.0,\"FIFTEEN_ALIGHT_NUM\":34744.0,\"SIXTEEN_RIDE_NUM\":36805.0,\"SIXTEEN_ALIGHT_NUM\":29316.0,\"SEVENTEEN_RIDE_NUM\":38480.0,\"SEVENTEEN_ALIGHT_NUM\":23319.0,\"EIGHTEEN_RIDE_NUM\":37172.0,\"EIGHTEEN_ALIGHT_NUM\":26182.0,\"NINETEEN_RIDE_NUM\":16542.0,\"NINETEEN_ALIGHT_NUM\":17773.0,\"TWENTY_RIDE_NUM\":10447.0,\"TWENTY_ALIGHT_NUM\":11211.0,\"TWENTY_ONE_RIDE_NUM\":8822.0,\"TWENTY_ONE_ALIGHT_NUM\":10198.0,\"TWENTY_TWO_RIDE_NUM\":7253.0,\"TWENTY_TWO_ALIGHT_NUM\":11830.0,\"TWENTY_THREE_RIDE_NUM\":2042.0,\"TWENTY_THREE_ALIGHT_NUM\":4844.0,\"MIDNIGHT_RIDE_NUM\":8.0,\"MIDNIGHT_ALIGHT_NUM\":408.0,\"ONE_RIDE_NUM\":0.0,\"ONE_ALIGHT_NUM\":0.0,\"TWO_RIDE_NUM\":1.0,\"TWO_ALIGHT_NUM\":0.0,\"THREE_RIDE_NUM\":0.0,\"THREE_ALIGHT_NUM\":0.0,\"WORK_DT\":\"20210703\"},{\"USE_MON\":\"202106\",\"LINE_NUM\":\"1호선\",\"SUB_STA_NM\":\"청량리(서울시립대입구)\",\"FOUR_RIDE_NUM\":1114.0,\"FOUR_ALIGHT_NUM\":17.0,\"FIVE_RIDE_NUM\":10556.0,\"FIVE_ALIGHT_NUM\":4752.0,\"SIX_RIDE_NUM\":14555.0,\"SIX_ALIGHT_NUM\":20601.0,\"SEVEN_RIDE_NUM\":36398.0,\"SEVEN_ALIGHT_NUM\":18127.0,\"EIGHT_RIDE_NUM\":44314.0,\"EIGHT_ALIGHT_NUM\":36112.0,\"NINE_RIDE_NUM\":30993.0,\"NINE_ALIGHT_NUM\":33651.0,\"TEN_RIDE_NUM\":30325.0,\"TEN_ALIGHT_NUM\":34593.0,\"ELEVEN_RIDE_NUM\":32895.0,\"ELEVEN_ALIGHT_NUM\":36922.0,\"TWELVE_RIDE_NUM\":36644.0,\"TWELVE_ALIGHT_NUM\":38152.0,\"THIRTEEN_RIDE_NUM\":37957.0,\"THIRTEEN_ALIGHT_NUM\":37161.0,\"FOURTEEN_RIDE_NUM\":38453.0,\"FOURTEEN_ALIGHT_NUM\":41488.0,\"FIFTEEN_RIDE_NUM\":41308.0,\"FIFTEEN_ALIGHT_NUM\":40046.0,\"SIXTEEN_RIDE_NUM\":48019.0,\"SIXTEEN_ALIGHT_NUM\":37625.0,\"SEVENTEEN_RIDE_NUM\":45267.0,\"SEVENTEEN_ALIGHT_NUM\":37535.0,\"EIGHTEEN_RIDE_NUM\":41132.0,\"EIGHTEEN_ALIGHT_NUM\":46814.0,\"NINETEEN_RIDE_NUM\":22408.0,\"NINETEEN_ALIGHT_NUM\":31284.0,\"TWENTY_RIDE_NUM\":16802.0,\"TWENTY_ALIGHT_NUM\":17867.0,\"TWENTY_ONE_RIDE_NUM\":13163.0,\"TWENTY_ONE_ALIGHT_NUM\":16739.0,\"TWENTY_TWO_RIDE_NUM\":9007.0,\"TWENTY_TWO_ALIGHT_NUM\":17875.0,\"TWENTY_THREE_RIDE_NUM\":2199.0,\"TWENTY_THREE_ALIGHT_NUM\":7010.0,\"MIDNIGHT_RIDE_NUM\":15.0,\"MIDNIGHT_ALIGHT_NUM\":784.0,\"ONE_RIDE_NUM\":1.0,\"ONE_ALIGHT_NUM\":0.0,\"TWO_RIDE_NUM\":0.0,\"TWO_ALIGHT_NUM\":0.0,\"THREE_RIDE_NUM\":0.0,\"THREE_ALIGHT_NUM\":0.0,\"WORK_DT\":\"20210703\"}]}}\n"
     ]
    }
   ],
   "source": [
    "data=requests.get(_api).text\n",
    "print(data)"
   ]
  },
  {
   "cell_type": "markdown",
   "metadata": {},
   "source": [
    "### json 파싱\n",
    "\n",
    "json.loads() 함수는 문자열을 json으로 변환해준다."
   ]
  },
  {
   "cell_type": "code",
   "execution_count": 48,
   "metadata": {
    "collapsed": true,
    "jupyter": {
     "outputs_hidden": true
    }
   },
   "outputs": [],
   "source": [
    "import json\n",
    "jsubwayTime = json.loads(data)"
   ]
  },
  {
   "cell_type": "markdown",
   "metadata": {},
   "source": [
    "json으로 변환하고, 한 계층씩 읽어보자.\n",
    "배열의 인덱스 명을 하나씩 넣어서 읽는다.\n",
    "첫 인덱스는 'CardSubwayTime', 다음은 'row', 다음은 숫자 인덱스로 하나씩 읽어낼 수 있다."
   ]
  },
  {
   "cell_type": "code",
   "execution_count": 49,
   "metadata": {},
   "outputs": [],
   "source": [
    "j0=jsubwayTime['CardSubwayTime']['row'][0]"
   ]
  },
  {
   "cell_type": "markdown",
   "metadata": {},
   "source": [
    "각 row마다 key, value 한 쌍으로 데이터가 입력되어 있다.\n",
    "그 키를 모두 읽어보자."
   ]
  },
  {
   "cell_type": "code",
   "execution_count": 50,
   "metadata": {},
   "outputs": [
    {
     "data": {
      "text/plain": [
       "dict_keys(['USE_MON', 'LINE_NUM', 'SUB_STA_NM', 'FOUR_RIDE_NUM', 'FOUR_ALIGHT_NUM', 'FIVE_RIDE_NUM', 'FIVE_ALIGHT_NUM', 'SIX_RIDE_NUM', 'SIX_ALIGHT_NUM', 'SEVEN_RIDE_NUM', 'SEVEN_ALIGHT_NUM', 'EIGHT_RIDE_NUM', 'EIGHT_ALIGHT_NUM', 'NINE_RIDE_NUM', 'NINE_ALIGHT_NUM', 'TEN_RIDE_NUM', 'TEN_ALIGHT_NUM', 'ELEVEN_RIDE_NUM', 'ELEVEN_ALIGHT_NUM', 'TWELVE_RIDE_NUM', 'TWELVE_ALIGHT_NUM', 'THIRTEEN_RIDE_NUM', 'THIRTEEN_ALIGHT_NUM', 'FOURTEEN_RIDE_NUM', 'FOURTEEN_ALIGHT_NUM', 'FIFTEEN_RIDE_NUM', 'FIFTEEN_ALIGHT_NUM', 'SIXTEEN_RIDE_NUM', 'SIXTEEN_ALIGHT_NUM', 'SEVENTEEN_RIDE_NUM', 'SEVENTEEN_ALIGHT_NUM', 'EIGHTEEN_RIDE_NUM', 'EIGHTEEN_ALIGHT_NUM', 'NINETEEN_RIDE_NUM', 'NINETEEN_ALIGHT_NUM', 'TWENTY_RIDE_NUM', 'TWENTY_ALIGHT_NUM', 'TWENTY_ONE_RIDE_NUM', 'TWENTY_ONE_ALIGHT_NUM', 'TWENTY_TWO_RIDE_NUM', 'TWENTY_TWO_ALIGHT_NUM', 'TWENTY_THREE_RIDE_NUM', 'TWENTY_THREE_ALIGHT_NUM', 'MIDNIGHT_RIDE_NUM', 'MIDNIGHT_ALIGHT_NUM', 'ONE_RIDE_NUM', 'ONE_ALIGHT_NUM', 'TWO_RIDE_NUM', 'TWO_ALIGHT_NUM', 'THREE_RIDE_NUM', 'THREE_ALIGHT_NUM', 'WORK_DT'])"
      ]
     },
     "execution_count": 50,
     "metadata": {},
     "output_type": "execute_result"
    }
   ],
   "source": [
    "j0.keys()"
   ]
  },
  {
   "cell_type": "markdown",
   "metadata": {},
   "source": [
    "특정 키를 지정하여 값을 읽어올 수도 있다."
   ]
  },
  {
   "cell_type": "code",
   "execution_count": 51,
   "metadata": {},
   "outputs": [
    {
     "data": {
      "text/plain": [
       "'종로5가'"
      ]
     },
     "execution_count": 51,
     "metadata": {},
     "output_type": "execute_result"
    }
   ],
   "source": [
    "j0.get('SUB_STA_NM')"
   ]
  },
  {
   "cell_type": "markdown",
   "metadata": {},
   "source": [
    "item.values() 함수를 사용하면 값만 출력할 수 있다.\n",
    "각 항목에 대해, 예를 들면 2번째 항목은 다음을 출력한다.\n",
    "```\n",
    "['202106', '2호선', '동대문역사문화공원(DDP)', 334.0, 5.0, 6338.0, 1096.0, 4462.0, 7728.0, 6190.0, 23936.0, 9136.0, 50285.0, 9118.0, 29711.0, 10107.0, 23521.0, 13110.0, 24484.0, 15181.0, 21251.0, 16607.0, 21216.0, 19514.0, 20831.0, 25306.0, 18746.0, 30356.0, 16448.0, 36618.0, 17178.0, 40202.0, 19893.0, 23199.0, 20875.0, 17109.0, 13169.0, 19484.0, 10321.0, 14614.0, 10220.0, 4046.0, 5848.0, 3.0, 362.0, 0.0, 0.0, 0.0, 0.0, 0.0, 0.0, '20210703']\n",
    "```"
   ]
  },
  {
   "cell_type": "code",
   "execution_count": 52,
   "metadata": {
    "scrolled": true,
    "slideshow": {
     "slide_type": "subslide"
    }
   },
   "outputs": [
    {
     "name": "stdout",
     "output_type": "stream",
     "text": [
      "dict_values(['202106', '1호선', '종로5가', 71.0, 0.0, 1526.0, 3779.0, 2574.0, 16992.0, 4781.0, 39423.0, 7414.0, 103060.0, 11525.0, 62717.0, 18431.0, 50987.0, 27735.0, 48857.0, 34387.0, 47295.0, 40094.0, 42416.0, 46633.0, 39899.0, 50981.0, 35861.0, 55982.0, 29188.0, 71386.0, 26232.0, 96880.0, 22727.0, 45846.0, 12621.0, 29493.0, 5474.0, 29266.0, 4184.0, 20319.0, 3607.0, 2740.0, 1681.0, 4.0, 268.0, 1.0, 1.0, 0.0, 0.0, 0.0, 0.0, '20210703'])\n",
      "dict_values(['202106', '1호선', '동대문', 715.0, 14.0, 13235.0, 2131.0, 8936.0, 6979.0, 14776.0, 12395.0, 18660.0, 24732.0, 16788.0, 22866.0, 15988.0, 21388.0, 17257.0, 22109.0, 20561.0, 21732.0, 21099.0, 20786.0, 22318.0, 19616.0, 23370.0, 18703.0, 24338.0, 17325.0, 23923.0, 17672.0, 22895.0, 18354.0, 15871.0, 19089.0, 12693.0, 12789.0, 13040.0, 10134.0, 11167.0, 10601.0, 2811.0, 8211.0, 16.0, 1434.0, 1.0, 1.0, 0.0, 0.0, 0.0, 0.0, '20210703'])\n",
      "dict_values(['202106', '1호선', '신설동', 343.0, 3.0, 8150.0, 3192.0, 8131.0, 10929.0, 17021.0, 25745.0, 24583.0, 62999.0, 16472.0, 33400.0, 14689.0, 20639.0, 16427.0, 17238.0, 17625.0, 16913.0, 19712.0, 17440.0, 19363.0, 16063.0, 20684.0, 16772.0, 28784.0, 17481.0, 39357.0, 20038.0, 57642.0, 25012.0, 20823.0, 17529.0, 13880.0, 10932.0, 13378.0, 10102.0, 10189.0, 11809.0, 1952.0, 5451.0, 10.0, 449.0, 0.0, 0.0, 0.0, 0.0, 0.0, 0.0, '20210703'])\n",
      "dict_values(['202106', '1호선', '제기동', 360.0, 3.0, 5020.0, 2150.0, 8625.0, 9488.0, 21818.0, 18800.0, 31428.0, 42110.0, 22254.0, 37145.0, 25534.0, 39572.0, 33701.0, 40192.0, 37380.0, 36944.0, 37913.0, 36302.0, 38816.0, 38060.0, 39042.0, 34744.0, 36805.0, 29316.0, 38480.0, 23319.0, 37172.0, 26182.0, 16542.0, 17773.0, 10447.0, 11211.0, 8822.0, 10198.0, 7253.0, 11830.0, 2042.0, 4844.0, 8.0, 408.0, 0.0, 0.0, 1.0, 0.0, 0.0, 0.0, '20210703'])\n",
      "dict_values(['202106', '1호선', '청량리(서울시립대입구)', 1114.0, 17.0, 10556.0, 4752.0, 14555.0, 20601.0, 36398.0, 18127.0, 44314.0, 36112.0, 30993.0, 33651.0, 30325.0, 34593.0, 32895.0, 36922.0, 36644.0, 38152.0, 37957.0, 37161.0, 38453.0, 41488.0, 41308.0, 40046.0, 48019.0, 37625.0, 45267.0, 37535.0, 41132.0, 46814.0, 22408.0, 31284.0, 16802.0, 17867.0, 13163.0, 16739.0, 9007.0, 17875.0, 2199.0, 7010.0, 15.0, 784.0, 1.0, 0.0, 0.0, 0.0, 0.0, 0.0, '20210703'])\n"
     ]
    }
   ],
   "source": [
    "for item in jsubwayTime['CardSubwayTime']['row']:\n",
    "    print(item.values())"
   ]
  },
  {
   "cell_type": "markdown",
   "metadata": {},
   "source": [
    "### 하나의 프로그램으로"
   ]
  },
  {
   "cell_type": "code",
   "execution_count": 54,
   "metadata": {},
   "outputs": [
    {
     "name": "stdout",
     "output_type": "stream",
     "text": [
      "{\"CardSubwayTime\":{\"list_total_count\":608,\"RESULT\":{\"CODE\":\"INFO-000\",\"MESSAGE\":\"정상 처리되었습니다\"},\"row\":[{\"USE_MON\":\"202106\",\"LINE_NUM\":\"1호선\",\"SUB_STA_NM\":\"서울역\",\"FOUR_RIDE_NUM\":654.0,\"FOUR_ALIGHT_NUM\":17.0,\"FIVE_RIDE_NUM\":9008.0,\"FIVE_ALIGHT_NUM\":6400.0,\"SIX_RIDE_NUM\":12474.0,\"SIX_ALIGHT_NUM\":37203.0,\"SEVEN_RIDE_NUM\":37253.0,\"SEVEN_ALIGHT_NUM\":91875.0,\"EIGHT_RIDE_NUM\":59876.0,\"EIGHT_ALIGHT_NUM\":187805.0,\"NINE_RIDE_NUM\":44619.0,\"NINE_ALIGHT_NUM\":118679.0,\"TEN_RIDE_NUM\":42611.0,\"TEN_ALIGHT_NUM\":57710.0,\"ELEVEN_RIDE_NUM\":49533.0,\"ELEVEN_ALIGHT_NUM\":50003.0,\"TWELVE_RIDE_NUM\":59357.0,\"TWELVE_ALIGHT_NUM\":53317.0,\"THIRTEEN_RIDE_NUM\":61171.0,\"THIRTEEN_ALIGHT_NUM\":53687.0,\"FOURTEEN_RIDE_NUM\":53310.0,\"FOURTEEN_ALIGHT_NUM\":49094.0,\"FIFTEEN_RIDE_NUM\":65767.0,\"FIFTEEN_ALIGHT_NUM\":52788.0,\"SIXTEEN_RIDE_NUM\":76249.0,\"SIXTEEN_ALIGHT_NUM\":53969.0,\"SEVENTEEN_RIDE_NUM\":122928.0,\"SEVENTEEN_ALIGHT_NUM\":64693.0,\"EIGHTEEN_RIDE_NUM\":184907.0,\"EIGHTEEN_ALIGHT_NUM\":73978.0,\"NINETEEN_RIDE_NUM\":87575.0,\"NINETEEN_ALIGHT_NUM\":46769.0,\"TWENTY_RIDE_NUM\":59961.0,\"TWENTY_ALIGHT_NUM\":30743.0,\"TWENTY_ONE_RIDE_NUM\":65078.0,\"TWENTY_ONE_ALIGHT_NUM\":27435.0,\"TWENTY_TWO_RIDE_NUM\":44921.0,\"TWENTY_TWO_ALIGHT_NUM\":22829.0,\"TWENTY_THREE_RIDE_NUM\":11581.0,\"TWENTY_THREE_ALIGHT_NUM\":8024.0,\"MIDNIGHT_RIDE_NUM\":30.0,\"MIDNIGHT_ALIGHT_NUM\":637.0,\"ONE_RIDE_NUM\":0.0,\"ONE_ALIGHT_NUM\":1.0,\"TWO_RIDE_NUM\":0.0,\"TWO_ALIGHT_NUM\":0.0,\"THREE_RIDE_NUM\":0.0,\"THREE_ALIGHT_NUM\":0.0,\"WORK_DT\":\"20210703\"},{\"USE_MON\":\"202106\",\"LINE_NUM\":\"1호선\",\"SUB_STA_NM\":\"동묘앞\",\"FOUR_RIDE_NUM\":51.0,\"FOUR_ALIGHT_NUM\":1.0,\"FIVE_RIDE_NUM\":3218.0,\"FIVE_ALIGHT_NUM\":1100.0,\"SIX_RIDE_NUM\":3422.0,\"SIX_ALIGHT_NUM\":4802.0,\"SEVEN_RIDE_NUM\":5896.0,\"SEVEN_ALIGHT_NUM\":9703.0,\"EIGHT_RIDE_NUM\":9194.0,\"EIGHT_ALIGHT_NUM\":24921.0,\"NINE_RIDE_NUM\":8022.0,\"NINE_ALIGHT_NUM\":17333.0,\"TEN_RIDE_NUM\":9687.0,\"TEN_ALIGHT_NUM\":19292.0,\"ELEVEN_RIDE_NUM\":14091.0,\"ELEVEN_ALIGHT_NUM\":24305.0,\"TWELVE_RIDE_NUM\":20089.0,\"TWELVE_ALIGHT_NUM\":26186.0,\"THIRTEEN_RIDE_NUM\":24776.0,\"THIRTEEN_ALIGHT_NUM\":28141.0,\"FOURTEEN_RIDE_NUM\":27144.0,\"FOURTEEN_ALIGHT_NUM\":26643.0,\"FIFTEEN_RIDE_NUM\":28360.0,\"FIFTEEN_ALIGHT_NUM\":23213.0,\"SIXTEEN_RIDE_NUM\":31119.0,\"SIXTEEN_ALIGHT_NUM\":17744.0,\"SEVENTEEN_RIDE_NUM\":27036.0,\"SEVENTEEN_ALIGHT_NUM\":13759.0,\"EIGHTEEN_RIDE_NUM\":23606.0,\"EIGHTEEN_ALIGHT_NUM\":10098.0,\"NINETEEN_RIDE_NUM\":11006.0,\"NINETEEN_ALIGHT_NUM\":6510.0,\"TWENTY_RIDE_NUM\":6119.0,\"TWENTY_ALIGHT_NUM\":4409.0,\"TWENTY_ONE_RIDE_NUM\":5485.0,\"TWENTY_ONE_ALIGHT_NUM\":4265.0,\"TWENTY_TWO_RIDE_NUM\":3405.0,\"TWENTY_TWO_ALIGHT_NUM\":5689.0,\"TWENTY_THREE_RIDE_NUM\":1035.0,\"TWENTY_THREE_ALIGHT_NUM\":2589.0,\"MIDNIGHT_RIDE_NUM\":4.0,\"MIDNIGHT_ALIGHT_NUM\":1348.0,\"ONE_RIDE_NUM\":0.0,\"ONE_ALIGHT_NUM\":0.0,\"TWO_RIDE_NUM\":0.0,\"TWO_ALIGHT_NUM\":0.0,\"THREE_RIDE_NUM\":0.0,\"THREE_ALIGHT_NUM\":0.0,\"WORK_DT\":\"20210703\"},{\"USE_MON\":\"202106\",\"LINE_NUM\":\"1호선\",\"SUB_STA_NM\":\"시청\",\"FOUR_RIDE_NUM\":37.0,\"FOUR_ALIGHT_NUM\":0.0,\"FIVE_RIDE_NUM\":1881.0,\"FIVE_ALIGHT_NUM\":4340.0,\"SIX_RIDE_NUM\":2948.0,\"SIX_ALIGHT_NUM\":21443.0,\"SEVEN_RIDE_NUM\":6280.0,\"SEVEN_ALIGHT_NUM\":62346.0,\"EIGHT_RIDE_NUM\":7740.0,\"EIGHT_ALIGHT_NUM\":167991.0,\"NINE_RIDE_NUM\":8117.0,\"NINE_ALIGHT_NUM\":72853.0,\"TEN_RIDE_NUM\":9284.0,\"TEN_ALIGHT_NUM\":29250.0,\"ELEVEN_RIDE_NUM\":14030.0,\"ELEVEN_ALIGHT_NUM\":27989.0,\"TWELVE_RIDE_NUM\":15295.0,\"TWELVE_ALIGHT_NUM\":25037.0,\"THIRTEEN_RIDE_NUM\":18849.0,\"THIRTEEN_ALIGHT_NUM\":24492.0,\"FOURTEEN_RIDE_NUM\":23331.0,\"FOURTEEN_ALIGHT_NUM\":20032.0,\"FIFTEEN_RIDE_NUM\":30469.0,\"FIFTEEN_ALIGHT_NUM\":17869.0,\"SIXTEEN_RIDE_NUM\":36116.0,\"SIXTEEN_ALIGHT_NUM\":15593.0,\"SEVENTEEN_RIDE_NUM\":66595.0,\"SEVENTEEN_ALIGHT_NUM\":16611.0,\"EIGHTEEN_RIDE_NUM\":135842.0,\"EIGHTEEN_ALIGHT_NUM\":17805.0,\"NINETEEN_RIDE_NUM\":46850.0,\"NINETEEN_ALIGHT_NUM\":8139.0,\"TWENTY_RIDE_NUM\":38173.0,\"TWENTY_ALIGHT_NUM\":4455.0,\"TWENTY_ONE_RIDE_NUM\":39048.0,\"TWENTY_ONE_ALIGHT_NUM\":4234.0,\"TWENTY_TWO_RIDE_NUM\":28501.0,\"TWENTY_TWO_ALIGHT_NUM\":3686.0,\"TWENTY_THREE_RIDE_NUM\":4390.0,\"TWENTY_THREE_ALIGHT_NUM\":1485.0,\"MIDNIGHT_RIDE_NUM\":3.0,\"MIDNIGHT_ALIGHT_NUM\":92.0,\"ONE_RIDE_NUM\":0.0,\"ONE_ALIGHT_NUM\":0.0,\"TWO_RIDE_NUM\":0.0,\"TWO_ALIGHT_NUM\":0.0,\"THREE_RIDE_NUM\":0.0,\"THREE_ALIGHT_NUM\":0.0,\"WORK_DT\":\"20210703\"},{\"USE_MON\":\"202106\",\"LINE_NUM\":\"1호선\",\"SUB_STA_NM\":\"종각\",\"FOUR_RIDE_NUM\":127.0,\"FOUR_ALIGHT_NUM\":1.0,\"FIVE_RIDE_NUM\":2314.0,\"FIVE_ALIGHT_NUM\":4354.0,\"SIX_RIDE_NUM\":2868.0,\"SIX_ALIGHT_NUM\":23755.0,\"SEVEN_RIDE_NUM\":5479.0,\"SEVEN_ALIGHT_NUM\":96712.0,\"EIGHT_RIDE_NUM\":8419.0,\"EIGHT_ALIGHT_NUM\":223459.0,\"NINE_RIDE_NUM\":10625.0,\"NINE_ALIGHT_NUM\":131420.0,\"TEN_RIDE_NUM\":14727.0,\"TEN_ALIGHT_NUM\":50878.0,\"ELEVEN_RIDE_NUM\":23057.0,\"ELEVEN_ALIGHT_NUM\":44506.0,\"TWELVE_RIDE_NUM\":27707.0,\"TWELVE_ALIGHT_NUM\":39830.0,\"THIRTEEN_RIDE_NUM\":34538.0,\"THIRTEEN_ALIGHT_NUM\":40864.0,\"FOURTEEN_RIDE_NUM\":40378.0,\"FOURTEEN_ALIGHT_NUM\":33173.0,\"FIFTEEN_RIDE_NUM\":49745.0,\"FIFTEEN_ALIGHT_NUM\":29610.0,\"SIXTEEN_RIDE_NUM\":58664.0,\"SIXTEEN_ALIGHT_NUM\":29692.0,\"SEVENTEEN_RIDE_NUM\":114985.0,\"SEVENTEEN_ALIGHT_NUM\":33365.0,\"EIGHTEEN_RIDE_NUM\":192552.0,\"EIGHTEEN_ALIGHT_NUM\":39621.0,\"NINETEEN_RIDE_NUM\":78735.0,\"NINETEEN_ALIGHT_NUM\":19163.0,\"TWENTY_RIDE_NUM\":64989.0,\"TWENTY_ALIGHT_NUM\":7386.0,\"TWENTY_ONE_RIDE_NUM\":81179.0,\"TWENTY_ONE_ALIGHT_NUM\":4790.0,\"TWENTY_TWO_RIDE_NUM\":63653.0,\"TWENTY_TWO_ALIGHT_NUM\":3763.0,\"TWENTY_THREE_RIDE_NUM\":8153.0,\"TWENTY_THREE_ALIGHT_NUM\":1675.0,\"MIDNIGHT_RIDE_NUM\":21.0,\"MIDNIGHT_ALIGHT_NUM\":135.0,\"ONE_RIDE_NUM\":0.0,\"ONE_ALIGHT_NUM\":0.0,\"TWO_RIDE_NUM\":0.0,\"TWO_ALIGHT_NUM\":0.0,\"THREE_RIDE_NUM\":0.0,\"THREE_ALIGHT_NUM\":0.0,\"WORK_DT\":\"20210703\"},{\"USE_MON\":\"202106\",\"LINE_NUM\":\"1호선\",\"SUB_STA_NM\":\"종로3가\",\"FOUR_RIDE_NUM\":191.0,\"FOUR_ALIGHT_NUM\":24.0,\"FIVE_RIDE_NUM\":3227.0,\"FIVE_ALIGHT_NUM\":3388.0,\"SIX_RIDE_NUM\":3069.0,\"SIX_ALIGHT_NUM\":13080.0,\"SEVEN_RIDE_NUM\":5108.0,\"SEVEN_ALIGHT_NUM\":25462.0,\"EIGHT_RIDE_NUM\":7412.0,\"EIGHT_ALIGHT_NUM\":70639.0,\"NINE_RIDE_NUM\":11673.0,\"NINE_ALIGHT_NUM\":73336.0,\"TEN_RIDE_NUM\":18502.0,\"TEN_ALIGHT_NUM\":57312.0,\"ELEVEN_RIDE_NUM\":29882.0,\"ELEVEN_ALIGHT_NUM\":55725.0,\"TWELVE_RIDE_NUM\":37009.0,\"TWELVE_ALIGHT_NUM\":53678.0,\"THIRTEEN_RIDE_NUM\":44050.0,\"THIRTEEN_ALIGHT_NUM\":51189.0,\"FOURTEEN_RIDE_NUM\":47626.0,\"FOURTEEN_ALIGHT_NUM\":46621.0,\"FIFTEEN_RIDE_NUM\":53071.0,\"FIFTEEN_ALIGHT_NUM\":40250.0,\"SIXTEEN_RIDE_NUM\":56955.0,\"SIXTEEN_ALIGHT_NUM\":34679.0,\"SEVENTEEN_RIDE_NUM\":68711.0,\"SEVENTEEN_ALIGHT_NUM\":31234.0,\"EIGHTEEN_RIDE_NUM\":94683.0,\"EIGHTEEN_ALIGHT_NUM\":33315.0,\"NINETEEN_RIDE_NUM\":55993.0,\"NINETEEN_ALIGHT_NUM\":16571.0,\"TWENTY_RIDE_NUM\":41534.0,\"TWENTY_ALIGHT_NUM\":6332.0,\"TWENTY_ONE_RIDE_NUM\":51588.0,\"TWENTY_ONE_ALIGHT_NUM\":4938.0,\"TWENTY_TWO_RIDE_NUM\":47756.0,\"TWENTY_TWO_ALIGHT_NUM\":4591.0,\"TWENTY_THREE_RIDE_NUM\":6768.0,\"TWENTY_THREE_ALIGHT_NUM\":2318.0,\"MIDNIGHT_RIDE_NUM\":25.0,\"MIDNIGHT_ALIGHT_NUM\":413.0,\"ONE_RIDE_NUM\":0.0,\"ONE_ALIGHT_NUM\":0.0,\"TWO_RIDE_NUM\":0.0,\"TWO_ALIGHT_NUM\":0.0,\"THREE_RIDE_NUM\":0.0,\"THREE_ALIGHT_NUM\":0.0,\"WORK_DT\":\"20210703\"}]}}\n",
      "{\"CardSubwayTime\":{\"list_total_count\":608,\"RESULT\":{\"CODE\":\"INFO-000\",\"MESSAGE\":\"정상 처리되었습니다\"},\"row\":[{\"USE_MON\":\"202106\",\"LINE_NUM\":\"1호선\",\"SUB_STA_NM\":\"종로5가\",\"FOUR_RIDE_NUM\":71.0,\"FOUR_ALIGHT_NUM\":0.0,\"FIVE_RIDE_NUM\":1526.0,\"FIVE_ALIGHT_NUM\":3779.0,\"SIX_RIDE_NUM\":2574.0,\"SIX_ALIGHT_NUM\":16992.0,\"SEVEN_RIDE_NUM\":4781.0,\"SEVEN_ALIGHT_NUM\":39423.0,\"EIGHT_RIDE_NUM\":7414.0,\"EIGHT_ALIGHT_NUM\":103060.0,\"NINE_RIDE_NUM\":11525.0,\"NINE_ALIGHT_NUM\":62717.0,\"TEN_RIDE_NUM\":18431.0,\"TEN_ALIGHT_NUM\":50987.0,\"ELEVEN_RIDE_NUM\":27735.0,\"ELEVEN_ALIGHT_NUM\":48857.0,\"TWELVE_RIDE_NUM\":34387.0,\"TWELVE_ALIGHT_NUM\":47295.0,\"THIRTEEN_RIDE_NUM\":40094.0,\"THIRTEEN_ALIGHT_NUM\":42416.0,\"FOURTEEN_RIDE_NUM\":46633.0,\"FOURTEEN_ALIGHT_NUM\":39899.0,\"FIFTEEN_RIDE_NUM\":50981.0,\"FIFTEEN_ALIGHT_NUM\":35861.0,\"SIXTEEN_RIDE_NUM\":55982.0,\"SIXTEEN_ALIGHT_NUM\":29188.0,\"SEVENTEEN_RIDE_NUM\":71386.0,\"SEVENTEEN_ALIGHT_NUM\":26232.0,\"EIGHTEEN_RIDE_NUM\":96880.0,\"EIGHTEEN_ALIGHT_NUM\":22727.0,\"NINETEEN_RIDE_NUM\":45846.0,\"NINETEEN_ALIGHT_NUM\":12621.0,\"TWENTY_RIDE_NUM\":29493.0,\"TWENTY_ALIGHT_NUM\":5474.0,\"TWENTY_ONE_RIDE_NUM\":29266.0,\"TWENTY_ONE_ALIGHT_NUM\":4184.0,\"TWENTY_TWO_RIDE_NUM\":20319.0,\"TWENTY_TWO_ALIGHT_NUM\":3607.0,\"TWENTY_THREE_RIDE_NUM\":2740.0,\"TWENTY_THREE_ALIGHT_NUM\":1681.0,\"MIDNIGHT_RIDE_NUM\":4.0,\"MIDNIGHT_ALIGHT_NUM\":268.0,\"ONE_RIDE_NUM\":1.0,\"ONE_ALIGHT_NUM\":1.0,\"TWO_RIDE_NUM\":0.0,\"TWO_ALIGHT_NUM\":0.0,\"THREE_RIDE_NUM\":0.0,\"THREE_ALIGHT_NUM\":0.0,\"WORK_DT\":\"20210703\"},{\"USE_MON\":\"202106\",\"LINE_NUM\":\"1호선\",\"SUB_STA_NM\":\"동대문\",\"FOUR_RIDE_NUM\":715.0,\"FOUR_ALIGHT_NUM\":14.0,\"FIVE_RIDE_NUM\":13235.0,\"FIVE_ALIGHT_NUM\":2131.0,\"SIX_RIDE_NUM\":8936.0,\"SIX_ALIGHT_NUM\":6979.0,\"SEVEN_RIDE_NUM\":14776.0,\"SEVEN_ALIGHT_NUM\":12395.0,\"EIGHT_RIDE_NUM\":18660.0,\"EIGHT_ALIGHT_NUM\":24732.0,\"NINE_RIDE_NUM\":16788.0,\"NINE_ALIGHT_NUM\":22866.0,\"TEN_RIDE_NUM\":15988.0,\"TEN_ALIGHT_NUM\":21388.0,\"ELEVEN_RIDE_NUM\":17257.0,\"ELEVEN_ALIGHT_NUM\":22109.0,\"TWELVE_RIDE_NUM\":20561.0,\"TWELVE_ALIGHT_NUM\":21732.0,\"THIRTEEN_RIDE_NUM\":21099.0,\"THIRTEEN_ALIGHT_NUM\":20786.0,\"FOURTEEN_RIDE_NUM\":22318.0,\"FOURTEEN_ALIGHT_NUM\":19616.0,\"FIFTEEN_RIDE_NUM\":23370.0,\"FIFTEEN_ALIGHT_NUM\":18703.0,\"SIXTEEN_RIDE_NUM\":24338.0,\"SIXTEEN_ALIGHT_NUM\":17325.0,\"SEVENTEEN_RIDE_NUM\":23923.0,\"SEVENTEEN_ALIGHT_NUM\":17672.0,\"EIGHTEEN_RIDE_NUM\":22895.0,\"EIGHTEEN_ALIGHT_NUM\":18354.0,\"NINETEEN_RIDE_NUM\":15871.0,\"NINETEEN_ALIGHT_NUM\":19089.0,\"TWENTY_RIDE_NUM\":12693.0,\"TWENTY_ALIGHT_NUM\":12789.0,\"TWENTY_ONE_RIDE_NUM\":13040.0,\"TWENTY_ONE_ALIGHT_NUM\":10134.0,\"TWENTY_TWO_RIDE_NUM\":11167.0,\"TWENTY_TWO_ALIGHT_NUM\":10601.0,\"TWENTY_THREE_RIDE_NUM\":2811.0,\"TWENTY_THREE_ALIGHT_NUM\":8211.0,\"MIDNIGHT_RIDE_NUM\":16.0,\"MIDNIGHT_ALIGHT_NUM\":1434.0,\"ONE_RIDE_NUM\":1.0,\"ONE_ALIGHT_NUM\":1.0,\"TWO_RIDE_NUM\":0.0,\"TWO_ALIGHT_NUM\":0.0,\"THREE_RIDE_NUM\":0.0,\"THREE_ALIGHT_NUM\":0.0,\"WORK_DT\":\"20210703\"},{\"USE_MON\":\"202106\",\"LINE_NUM\":\"1호선\",\"SUB_STA_NM\":\"신설동\",\"FOUR_RIDE_NUM\":343.0,\"FOUR_ALIGHT_NUM\":3.0,\"FIVE_RIDE_NUM\":8150.0,\"FIVE_ALIGHT_NUM\":3192.0,\"SIX_RIDE_NUM\":8131.0,\"SIX_ALIGHT_NUM\":10929.0,\"SEVEN_RIDE_NUM\":17021.0,\"SEVEN_ALIGHT_NUM\":25745.0,\"EIGHT_RIDE_NUM\":24583.0,\"EIGHT_ALIGHT_NUM\":62999.0,\"NINE_RIDE_NUM\":16472.0,\"NINE_ALIGHT_NUM\":33400.0,\"TEN_RIDE_NUM\":14689.0,\"TEN_ALIGHT_NUM\":20639.0,\"ELEVEN_RIDE_NUM\":16427.0,\"ELEVEN_ALIGHT_NUM\":17238.0,\"TWELVE_RIDE_NUM\":17625.0,\"TWELVE_ALIGHT_NUM\":16913.0,\"THIRTEEN_RIDE_NUM\":19712.0,\"THIRTEEN_ALIGHT_NUM\":17440.0,\"FOURTEEN_RIDE_NUM\":19363.0,\"FOURTEEN_ALIGHT_NUM\":16063.0,\"FIFTEEN_RIDE_NUM\":20684.0,\"FIFTEEN_ALIGHT_NUM\":16772.0,\"SIXTEEN_RIDE_NUM\":28784.0,\"SIXTEEN_ALIGHT_NUM\":17481.0,\"SEVENTEEN_RIDE_NUM\":39357.0,\"SEVENTEEN_ALIGHT_NUM\":20038.0,\"EIGHTEEN_RIDE_NUM\":57642.0,\"EIGHTEEN_ALIGHT_NUM\":25012.0,\"NINETEEN_RIDE_NUM\":20823.0,\"NINETEEN_ALIGHT_NUM\":17529.0,\"TWENTY_RIDE_NUM\":13880.0,\"TWENTY_ALIGHT_NUM\":10932.0,\"TWENTY_ONE_RIDE_NUM\":13378.0,\"TWENTY_ONE_ALIGHT_NUM\":10102.0,\"TWENTY_TWO_RIDE_NUM\":10189.0,\"TWENTY_TWO_ALIGHT_NUM\":11809.0,\"TWENTY_THREE_RIDE_NUM\":1952.0,\"TWENTY_THREE_ALIGHT_NUM\":5451.0,\"MIDNIGHT_RIDE_NUM\":10.0,\"MIDNIGHT_ALIGHT_NUM\":449.0,\"ONE_RIDE_NUM\":0.0,\"ONE_ALIGHT_NUM\":0.0,\"TWO_RIDE_NUM\":0.0,\"TWO_ALIGHT_NUM\":0.0,\"THREE_RIDE_NUM\":0.0,\"THREE_ALIGHT_NUM\":0.0,\"WORK_DT\":\"20210703\"},{\"USE_MON\":\"202106\",\"LINE_NUM\":\"1호선\",\"SUB_STA_NM\":\"제기동\",\"FOUR_RIDE_NUM\":360.0,\"FOUR_ALIGHT_NUM\":3.0,\"FIVE_RIDE_NUM\":5020.0,\"FIVE_ALIGHT_NUM\":2150.0,\"SIX_RIDE_NUM\":8625.0,\"SIX_ALIGHT_NUM\":9488.0,\"SEVEN_RIDE_NUM\":21818.0,\"SEVEN_ALIGHT_NUM\":18800.0,\"EIGHT_RIDE_NUM\":31428.0,\"EIGHT_ALIGHT_NUM\":42110.0,\"NINE_RIDE_NUM\":22254.0,\"NINE_ALIGHT_NUM\":37145.0,\"TEN_RIDE_NUM\":25534.0,\"TEN_ALIGHT_NUM\":39572.0,\"ELEVEN_RIDE_NUM\":33701.0,\"ELEVEN_ALIGHT_NUM\":40192.0,\"TWELVE_RIDE_NUM\":37380.0,\"TWELVE_ALIGHT_NUM\":36944.0,\"THIRTEEN_RIDE_NUM\":37913.0,\"THIRTEEN_ALIGHT_NUM\":36302.0,\"FOURTEEN_RIDE_NUM\":38816.0,\"FOURTEEN_ALIGHT_NUM\":38060.0,\"FIFTEEN_RIDE_NUM\":39042.0,\"FIFTEEN_ALIGHT_NUM\":34744.0,\"SIXTEEN_RIDE_NUM\":36805.0,\"SIXTEEN_ALIGHT_NUM\":29316.0,\"SEVENTEEN_RIDE_NUM\":38480.0,\"SEVENTEEN_ALIGHT_NUM\":23319.0,\"EIGHTEEN_RIDE_NUM\":37172.0,\"EIGHTEEN_ALIGHT_NUM\":26182.0,\"NINETEEN_RIDE_NUM\":16542.0,\"NINETEEN_ALIGHT_NUM\":17773.0,\"TWENTY_RIDE_NUM\":10447.0,\"TWENTY_ALIGHT_NUM\":11211.0,\"TWENTY_ONE_RIDE_NUM\":8822.0,\"TWENTY_ONE_ALIGHT_NUM\":10198.0,\"TWENTY_TWO_RIDE_NUM\":7253.0,\"TWENTY_TWO_ALIGHT_NUM\":11830.0,\"TWENTY_THREE_RIDE_NUM\":2042.0,\"TWENTY_THREE_ALIGHT_NUM\":4844.0,\"MIDNIGHT_RIDE_NUM\":8.0,\"MIDNIGHT_ALIGHT_NUM\":408.0,\"ONE_RIDE_NUM\":0.0,\"ONE_ALIGHT_NUM\":0.0,\"TWO_RIDE_NUM\":1.0,\"TWO_ALIGHT_NUM\":0.0,\"THREE_RIDE_NUM\":0.0,\"THREE_ALIGHT_NUM\":0.0,\"WORK_DT\":\"20210703\"},{\"USE_MON\":\"202106\",\"LINE_NUM\":\"1호선\",\"SUB_STA_NM\":\"청량리(서울시립대입구)\",\"FOUR_RIDE_NUM\":1114.0,\"FOUR_ALIGHT_NUM\":17.0,\"FIVE_RIDE_NUM\":10556.0,\"FIVE_ALIGHT_NUM\":4752.0,\"SIX_RIDE_NUM\":14555.0,\"SIX_ALIGHT_NUM\":20601.0,\"SEVEN_RIDE_NUM\":36398.0,\"SEVEN_ALIGHT_NUM\":18127.0,\"EIGHT_RIDE_NUM\":44314.0,\"EIGHT_ALIGHT_NUM\":36112.0,\"NINE_RIDE_NUM\":30993.0,\"NINE_ALIGHT_NUM\":33651.0,\"TEN_RIDE_NUM\":30325.0,\"TEN_ALIGHT_NUM\":34593.0,\"ELEVEN_RIDE_NUM\":32895.0,\"ELEVEN_ALIGHT_NUM\":36922.0,\"TWELVE_RIDE_NUM\":36644.0,\"TWELVE_ALIGHT_NUM\":38152.0,\"THIRTEEN_RIDE_NUM\":37957.0,\"THIRTEEN_ALIGHT_NUM\":37161.0,\"FOURTEEN_RIDE_NUM\":38453.0,\"FOURTEEN_ALIGHT_NUM\":41488.0,\"FIFTEEN_RIDE_NUM\":41308.0,\"FIFTEEN_ALIGHT_NUM\":40046.0,\"SIXTEEN_RIDE_NUM\":48019.0,\"SIXTEEN_ALIGHT_NUM\":37625.0,\"SEVENTEEN_RIDE_NUM\":45267.0,\"SEVENTEEN_ALIGHT_NUM\":37535.0,\"EIGHTEEN_RIDE_NUM\":41132.0,\"EIGHTEEN_ALIGHT_NUM\":46814.0,\"NINETEEN_RIDE_NUM\":22408.0,\"NINETEEN_ALIGHT_NUM\":31284.0,\"TWENTY_RIDE_NUM\":16802.0,\"TWENTY_ALIGHT_NUM\":17867.0,\"TWENTY_ONE_RIDE_NUM\":13163.0,\"TWENTY_ONE_ALIGHT_NUM\":16739.0,\"TWENTY_TWO_RIDE_NUM\":9007.0,\"TWENTY_TWO_ALIGHT_NUM\":17875.0,\"TWENTY_THREE_RIDE_NUM\":2199.0,\"TWENTY_THREE_ALIGHT_NUM\":7010.0,\"MIDNIGHT_RIDE_NUM\":15.0,\"MIDNIGHT_ALIGHT_NUM\":784.0,\"ONE_RIDE_NUM\":1.0,\"ONE_ALIGHT_NUM\":0.0,\"TWO_RIDE_NUM\":0.0,\"TWO_ALIGHT_NUM\":0.0,\"THREE_RIDE_NUM\":0.0,\"THREE_ALIGHT_NUM\":0.0,\"WORK_DT\":\"20210703\"}]}}\n"
     ]
    }
   ],
   "source": [
    "import os\n",
    "from src import mylib\n",
    "import requests\n",
    "\n",
    "keyPath=os.path.join(os.getcwd(), 'src', 'key.properties')\n",
    "key=mylib.getKey(keyPath)\n",
    "\n",
    "_url='http://openAPI.seoul.go.kr:8088'\n",
    "_key=str(key['dataseoul'])\n",
    "_type='json'\n",
    "_service='CardSubwayTime'\n",
    "_start_index=1\n",
    "_end_index=5\n",
    "_use_mon='202106'\n",
    "\n",
    "_maxIter=2\n",
    "_iter=0\n",
    "while _iter<_maxIter:\n",
    "    _api=\"/\".join([_url,_key,_type,_service,str(_start_index),str(_end_index),_use_mon])\n",
    "    #print _api\n",
    "    subwayTime = requests.get(_api).text\n",
    "    print(subwayTime)\n",
    "    _start_index+=5\n",
    "    _end_index+=5\n",
    "    _iter+=1"
   ]
  },
  {
   "cell_type": "markdown",
   "metadata": {},
   "source": [
    "## O.7 데이터베이스 저장\n",
    "\n",
    "mongo, pymongo가 설치되어 있어야 한다.\n",
    "colab에서는 아래와 같이 설치한다.\n",
    "\n",
    "```\n",
    "!apt install mongodb\n",
    "!python -m pip install pymongo\n",
    "```"
   ]
  },
  {
   "cell_type": "code",
   "execution_count": 63,
   "metadata": {},
   "outputs": [
    {
     "data": {
      "text/plain": [
       "'/home/jsl/Code/git/bb/jsl/pyds'"
      ]
     },
     "execution_count": 63,
     "metadata": {},
     "output_type": "execute_result"
    }
   ],
   "source": [
    "import os\n",
    "os.getcwd()"
   ]
  },
  {
   "cell_type": "markdown",
   "metadata": {},
   "source": [
    "* **1 단계: mongo 서버 실행**\n",
    "\n",
    "방법1: 서비스로 mongod 서버 실행\n",
    "pymongo를 사용하려면, 서버를 백그라운드에 실행해 놓아야 한다.\n",
    "리눅스, 맥에서 가능하고 윈도우에서는 가능하지 않다.\n",
    "\n",
    "```\n",
    "!service mongodb start\n",
    "```\n",
    "\n",
    "방법2: 직접 호출로 서버 실행\n",
    "또는 mongod를 직접 호출해서 실행할 수 있다.\n",
    "데이터베이스가 저장되어야 할 디렉토리가 필요하다.\n",
    "여기서는 ```data```를 만들어 놓는다.\n",
    "\n",
    "```\n",
    "import os\n",
    "os.mkdir('data')\n",
    "```\n",
    "데이터베이스가 저장되는 디렉토리를 서버를 시작할 때 적어준다.\n",
    "port는 생략해도 된다.\n",
    "\n",
    "```\n",
    "mongod --dbpath data/ --port 27017\n",
    "```"
   ]
  },
  {
   "cell_type": "markdown",
   "metadata": {},
   "source": [
    "\n",
    "```mongod```만 입력하면 오류 ```NonExistentPath: Data directory /data/db not found```\n",
    "기본 디렉토리는 /data/db이다.\n",
    "```\n",
    "jsl@DESKTOP-KM2DH32:~$ mongod\n",
    "2021-09-12T10:09:00.268+0900 I CONTROL  [initandlisten] MongoDB starting : pid=1622 port=27017 dbpath=/data/db 64-bit host=DESKTOP-KM2DH32\n",
    "...\n",
    "2021-09-12T10:09:00.278+0900 I STORAGE  [initandlisten] exception in initAndListen: NonExistentPath: Data directory /data/db not found., terminating\n",
    "2021-09-12T10:09:00.279+0900 I CONTROL  [initandlisten] now exiting\n",
    "2021-09-12T10:09:00.280+0900 I CONTROL  [initandlisten] shutting down with code:100\n",
    "```\n",
    "\n",
    "다음과 같이 ```dbpath```를 넣어서 실행해야 한다.\n",
    "```\n",
    "jsl@DESKTOP-KM2DH32:~/Code/git/bb/jsl/pyds$ mongod --dbpath data\n",
    "2021-09-12T10:15:22.262+0900 I CONTROL  [initandlisten] MongoDB starting : pid=1633 port=27017 dbpath=data 64-bit host=DESKTOP-KM2DH32\n",
    "...\n",
    "# dbPath 설정\n",
    "2021-09-12T10:15:22.272+0900 I CONTROL  [initandlisten] options: { storage: { dbPath: \"data\" } }\n",
    "...\n",
    "\n",
    "# 기본 port 27017 설정\n",
    "2021-09-12T10:15:23.473+0900 I NETWORK  [initandlisten] waiting for connections on port 27017\n",
    "\n",
    "```"
   ]
  },
  {
   "cell_type": "markdown",
   "metadata": {},
   "source": [
    "* **2 단계: pymongo 실행**\n",
    "\n",
    "pymongo를 사용하려면, mongod가 백그라운드에서 실행되고 있어야 한다 (대기 상태 실행)\n",
    "아래 명령어가 오류없이 실행된다면, \"pymongo\" 가 올바르게 설치되었고 실행된다고 본다.\n",
    "\n",
    "mongo client shell을 사용하려면 프롬프트에서 ```mongo```"
   ]
  },
  {
   "cell_type": "code",
   "execution_count": 65,
   "metadata": {},
   "outputs": [],
   "source": [
    "import pymongo"
   ]
  },
  {
   "cell_type": "markdown",
   "metadata": {},
   "source": [
    "### 클라이언트 생성\n",
    "\n",
    "pymongo에서 mongodb에 접속하기 위해서는 \n",
    "'mongodb://localhost:27017'를 적어주어야 한다."
   ]
  },
  {
   "cell_type": "code",
   "execution_count": 66,
   "metadata": {},
   "outputs": [],
   "source": [
    "Client = pymongo.MongoClient('mongodb://localhost:27017')\n",
    "# or Client = pymongo.MongoClient()"
   ]
  },
  {
   "cell_type": "markdown",
   "metadata": {},
   "source": [
    "### DB 생성\n",
    "\n",
    "```Client[\"myDB\"]``` 또는 ```Client.myDB```"
   ]
  },
  {
   "cell_type": "code",
   "execution_count": 67,
   "metadata": {},
   "outputs": [],
   "source": [
    "db=Client.myDB"
   ]
  },
  {
   "cell_type": "markdown",
   "metadata": {},
   "source": [
    "DB가 생성되었는지 확인해보자. 당장은 생성되지 않아서, 볼 수 없지만 데이터를 입력 하고 나면 DB를 볼 수 있다 (lazy loading)."
   ]
  },
  {
   "cell_type": "code",
   "execution_count": 56,
   "metadata": {},
   "outputs": [
    {
     "name": "stdout",
     "output_type": "stream",
     "text": [
      "['admin', 'local']\n"
     ]
    }
   ],
   "source": [
    "print(Client.list_database_names())"
   ]
  },
  {
   "cell_type": "markdown",
   "metadata": {},
   "source": [
    "### Collection 생성 및 데이터입력\n",
    "\n",
    "Collection은 db밑의 테이블로 이해하면 쉽다.\n",
    "\n",
    "```\n",
    "db = Client[\"myDB\"]\n",
    "mycol = db[\"myPyCol\"]\n",
    "```"
   ]
  },
  {
   "cell_type": "code",
   "execution_count": 57,
   "metadata": {},
   "outputs": [
    {
     "data": {
      "text/plain": [
       "<pymongo.results.InsertOneResult at 0x7fac0e360e48>"
      ]
     },
     "execution_count": 57,
     "metadata": {},
     "output_type": "execute_result"
    }
   ],
   "source": [
    "_id=1\n",
    "_name='js'\n",
    "_age=11\n",
    "_country='ko'\n",
    "\n",
    "db.myPyCol.insert_one({\n",
    "    \"id\": _id,\n",
    "    \"name\": _name,\n",
    "    \"age\": _age,\n",
    "    \"country\": _country\n",
    "})"
   ]
  },
  {
   "cell_type": "markdown",
   "metadata": {},
   "source": [
    "아래와 같이, 입력을 하고 난 후 ```myDB```가 생성이 되어 있는 것을 알 수 있다."
   ]
  },
  {
   "cell_type": "code",
   "execution_count": 68,
   "metadata": {},
   "outputs": [
    {
     "name": "stdout",
     "output_type": "stream",
     "text": [
      "['admin', 'config', 'local', 'myDB']\n"
     ]
    }
   ],
   "source": [
    "print(Client.list_database_names())"
   ]
  },
  {
   "cell_type": "code",
   "execution_count": null,
   "metadata": {
    "collapsed": true,
    "jupyter": {
     "outputs_hidden": true
    }
   },
   "outputs": [],
   "source": [
    "myPyCol이 만들어졌는지 확인해보자."
   ]
  },
  {
   "cell_type": "code",
   "execution_count": 69,
   "metadata": {},
   "outputs": [
    {
     "name": "stdout",
     "output_type": "stream",
     "text": [
      "['myPyCol']\n"
     ]
    }
   ],
   "source": [
    "print(db.list_collection_names())"
   ]
  },
  {
   "cell_type": "markdown",
   "metadata": {},
   "source": [
    "### 검색"
   ]
  },
  {
   "cell_type": "code",
   "execution_count": 61,
   "metadata": {},
   "outputs": [],
   "source": [
    "results = db.myPyCol.find()"
   ]
  },
  {
   "cell_type": "code",
   "execution_count": 62,
   "metadata": {},
   "outputs": [
    {
     "name": "stdout",
     "output_type": "stream",
     "text": [
      "js\n"
     ]
    }
   ],
   "source": [
    "for r in results:\n",
    "        print (r['name'])"
   ]
  },
  {
   "cell_type": "markdown",
   "metadata": {
    "slideshow": {
     "slide_type": "slide"
    }
   },
   "source": [
    "## 문제 6: 지하철역 승하차 인원 수집, 저장\n",
    "\n",
    "앞 문제를 일괄 실행하고, 저장해보자.\n",
    "파일, nosql mongodb로 저장해보자."
   ]
  },
  {
   "cell_type": "markdown",
   "metadata": {
    "slideshow": {
     "slide_type": "subslide"
    }
   },
   "source": [
    "### python으로 일괄 실행하기\n",
    "\n",
    "* json 파일 저장 ```src/ds_open_subwayPassengers.json```\n",
    "    * ```dump()```는 직렬화, ```dumps()```는 문자열로 생성한다.\n",
    "* mongo 저장한다. 한글 unicode 지원한다.\n",
    "    * db명: 'use ds_open_subwayPassengersDb'\n",
    "    * table (또는 Collection)명: 'db_open_subwayTable'"
   ]
  },
  {
   "cell_type": "code",
   "execution_count": 25,
   "metadata": {
    "slideshow": {
     "slide_type": "subslide"
    }
   },
   "outputs": [
    {
     "name": "stdout",
     "output_type": "stream",
     "text": [
      "Overwriting src/ds_open_subwayTime.py\n"
     ]
    }
   ],
   "source": [
    "%%writefile src/ds_open_subwayTime.py\n",
    "# coding: utf-8\n",
    "import os\n",
    "import requests\n",
    "import json\n",
    "from pymongo import MongoClient\n",
    "import mylib\n",
    "\n",
    "Client = MongoClient('localhost:27017')\n",
    "_db=Client['ds_open_subwayPassengersDb'] #db created by mongo. You do not have to create this.\n",
    "_table=_db['db_open_subwayTable'] #collection\n",
    "#db=Client.ds_rest_subwayPassengers\n",
    "\n",
    "def saveJson(_fname,_data):\n",
    "    import io\n",
    "    with io.open(_fname, 'a', encoding='utf8') as json_file:\n",
    "        #_j=json.dumps(_data, json_file, ensure_ascii=False, encoding='utf8') # python2\n",
    "        _j=json.dump(_data, json_file, ensure_ascii=False)\n",
    "        json_file.write(str(_j)+\"\\n\")\n",
    "\n",
    "def readJson(_fname):\n",
    "    for line in open(_fname, 'r').readlines():\n",
    "        _j=json.loads(line)\n",
    "        #print _j['id'],_j['text']\n",
    "        print (_j['id'])\n",
    "\n",
    "def saveDB(_data):\n",
    "    _table.insert_one(_data)\n",
    "\n",
    "# to update\n",
    "def readDB():\n",
    "    for tweet in _table.find():\n",
    "        print (tweet['id'],tweet['text'])\n",
    "\n",
    "def saveFile(_fname,_data):\n",
    "    fp=open(_fname,'a')\n",
    "    fp.write(_data+\"\\n\")\n",
    "    fp.close()\n",
    "\n",
    "def doIt():\n",
    "    keyPath=os.path.join(os.getcwd(), 'src', 'key.properties')\n",
    "    key=mylib.getKey(keyPath)  \n",
    "    _key=key['dataseoul'] #KEY='73725.....'\n",
    "    _url='http://openAPI.seoul.go.kr:8088'\n",
    "    _type='json'\n",
    "    _service='CardSubwayTime'\n",
    "    _start_index=1\n",
    "    _end_index=5\n",
    "    _use_mon='202106'\n",
    "    _maxIter=2   #20\n",
    "    _iter=0\n",
    "    _jfname='src/ds_open_subwayTime.json'\n",
    "    while _iter<_maxIter:\n",
    "        _api=\"/\".join([_url,_key,_type,_service,str(_start_index),str(_end_index),_use_mon])\n",
    "        #print _api\n",
    "        r=requests.get(_api)\n",
    "        _json=r.json()\n",
    "        print (_json)\n",
    "        saveJson(_jfname,_json)\n",
    "        saveDB(_json)\n",
    "        _start_index+=5\n",
    "        _end_index+=5\n",
    "        _iter+=1\n",
    "\n",
    "if __name__ == \"__main__\":\n",
    "    doIt()\n"
   ]
  },
  {
   "cell_type": "markdown",
   "metadata": {},
   "source": [
    "위 프로그램을 실행하면 총 20건의 데이터가 조회된다."
   ]
  },
  {
   "cell_type": "code",
   "execution_count": 26,
   "metadata": {
    "slideshow": {
     "slide_type": "subslide"
    }
   },
   "outputs": [
    {
     "name": "stdout",
     "output_type": "stream",
     "text": [
      "{'CardSubwayTime': {'list_total_count': 608, 'RESULT': {'CODE': 'INFO-000', 'MESSAGE': '정상 처리되었습니다'}, 'row': [{'USE_MON': '202106', 'LINE_NUM': '1호선', 'SUB_STA_NM': '서울역', 'FOUR_RIDE_NUM': 654.0, 'FOUR_ALIGHT_NUM': 17.0, 'FIVE_RIDE_NUM': 9008.0, 'FIVE_ALIGHT_NUM': 6400.0, 'SIX_RIDE_NUM': 12474.0, 'SIX_ALIGHT_NUM': 37203.0, 'SEVEN_RIDE_NUM': 37253.0, 'SEVEN_ALIGHT_NUM': 91875.0, 'EIGHT_RIDE_NUM': 59876.0, 'EIGHT_ALIGHT_NUM': 187805.0, 'NINE_RIDE_NUM': 44619.0, 'NINE_ALIGHT_NUM': 118679.0, 'TEN_RIDE_NUM': 42611.0, 'TEN_ALIGHT_NUM': 57710.0, 'ELEVEN_RIDE_NUM': 49533.0, 'ELEVEN_ALIGHT_NUM': 50003.0, 'TWELVE_RIDE_NUM': 59357.0, 'TWELVE_ALIGHT_NUM': 53317.0, 'THIRTEEN_RIDE_NUM': 61171.0, 'THIRTEEN_ALIGHT_NUM': 53687.0, 'FOURTEEN_RIDE_NUM': 53310.0, 'FOURTEEN_ALIGHT_NUM': 49094.0, 'FIFTEEN_RIDE_NUM': 65767.0, 'FIFTEEN_ALIGHT_NUM': 52788.0, 'SIXTEEN_RIDE_NUM': 76249.0, 'SIXTEEN_ALIGHT_NUM': 53969.0, 'SEVENTEEN_RIDE_NUM': 122928.0, 'SEVENTEEN_ALIGHT_NUM': 64693.0, 'EIGHTEEN_RIDE_NUM': 184907.0, 'EIGHTEEN_ALIGHT_NUM': 73978.0, 'NINETEEN_RIDE_NUM': 87575.0, 'NINETEEN_ALIGHT_NUM': 46769.0, 'TWENTY_RIDE_NUM': 59961.0, 'TWENTY_ALIGHT_NUM': 30743.0, 'TWENTY_ONE_RIDE_NUM': 65078.0, 'TWENTY_ONE_ALIGHT_NUM': 27435.0, 'TWENTY_TWO_RIDE_NUM': 44921.0, 'TWENTY_TWO_ALIGHT_NUM': 22829.0, 'TWENTY_THREE_RIDE_NUM': 11581.0, 'TWENTY_THREE_ALIGHT_NUM': 8024.0, 'MIDNIGHT_RIDE_NUM': 30.0, 'MIDNIGHT_ALIGHT_NUM': 637.0, 'ONE_RIDE_NUM': 0.0, 'ONE_ALIGHT_NUM': 1.0, 'TWO_RIDE_NUM': 0.0, 'TWO_ALIGHT_NUM': 0.0, 'THREE_RIDE_NUM': 0.0, 'THREE_ALIGHT_NUM': 0.0, 'WORK_DT': '20210703'}, {'USE_MON': '202106', 'LINE_NUM': '1호선', 'SUB_STA_NM': '동묘앞', 'FOUR_RIDE_NUM': 51.0, 'FOUR_ALIGHT_NUM': 1.0, 'FIVE_RIDE_NUM': 3218.0, 'FIVE_ALIGHT_NUM': 1100.0, 'SIX_RIDE_NUM': 3422.0, 'SIX_ALIGHT_NUM': 4802.0, 'SEVEN_RIDE_NUM': 5896.0, 'SEVEN_ALIGHT_NUM': 9703.0, 'EIGHT_RIDE_NUM': 9194.0, 'EIGHT_ALIGHT_NUM': 24921.0, 'NINE_RIDE_NUM': 8022.0, 'NINE_ALIGHT_NUM': 17333.0, 'TEN_RIDE_NUM': 9687.0, 'TEN_ALIGHT_NUM': 19292.0, 'ELEVEN_RIDE_NUM': 14091.0, 'ELEVEN_ALIGHT_NUM': 24305.0, 'TWELVE_RIDE_NUM': 20089.0, 'TWELVE_ALIGHT_NUM': 26186.0, 'THIRTEEN_RIDE_NUM': 24776.0, 'THIRTEEN_ALIGHT_NUM': 28141.0, 'FOURTEEN_RIDE_NUM': 27144.0, 'FOURTEEN_ALIGHT_NUM': 26643.0, 'FIFTEEN_RIDE_NUM': 28360.0, 'FIFTEEN_ALIGHT_NUM': 23213.0, 'SIXTEEN_RIDE_NUM': 31119.0, 'SIXTEEN_ALIGHT_NUM': 17744.0, 'SEVENTEEN_RIDE_NUM': 27036.0, 'SEVENTEEN_ALIGHT_NUM': 13759.0, 'EIGHTEEN_RIDE_NUM': 23606.0, 'EIGHTEEN_ALIGHT_NUM': 10098.0, 'NINETEEN_RIDE_NUM': 11006.0, 'NINETEEN_ALIGHT_NUM': 6510.0, 'TWENTY_RIDE_NUM': 6119.0, 'TWENTY_ALIGHT_NUM': 4409.0, 'TWENTY_ONE_RIDE_NUM': 5485.0, 'TWENTY_ONE_ALIGHT_NUM': 4265.0, 'TWENTY_TWO_RIDE_NUM': 3405.0, 'TWENTY_TWO_ALIGHT_NUM': 5689.0, 'TWENTY_THREE_RIDE_NUM': 1035.0, 'TWENTY_THREE_ALIGHT_NUM': 2589.0, 'MIDNIGHT_RIDE_NUM': 4.0, 'MIDNIGHT_ALIGHT_NUM': 1348.0, 'ONE_RIDE_NUM': 0.0, 'ONE_ALIGHT_NUM': 0.0, 'TWO_RIDE_NUM': 0.0, 'TWO_ALIGHT_NUM': 0.0, 'THREE_RIDE_NUM': 0.0, 'THREE_ALIGHT_NUM': 0.0, 'WORK_DT': '20210703'}, {'USE_MON': '202106', 'LINE_NUM': '1호선', 'SUB_STA_NM': '시청', 'FOUR_RIDE_NUM': 37.0, 'FOUR_ALIGHT_NUM': 0.0, 'FIVE_RIDE_NUM': 1881.0, 'FIVE_ALIGHT_NUM': 4340.0, 'SIX_RIDE_NUM': 2948.0, 'SIX_ALIGHT_NUM': 21443.0, 'SEVEN_RIDE_NUM': 6280.0, 'SEVEN_ALIGHT_NUM': 62346.0, 'EIGHT_RIDE_NUM': 7740.0, 'EIGHT_ALIGHT_NUM': 167991.0, 'NINE_RIDE_NUM': 8117.0, 'NINE_ALIGHT_NUM': 72853.0, 'TEN_RIDE_NUM': 9284.0, 'TEN_ALIGHT_NUM': 29250.0, 'ELEVEN_RIDE_NUM': 14030.0, 'ELEVEN_ALIGHT_NUM': 27989.0, 'TWELVE_RIDE_NUM': 15295.0, 'TWELVE_ALIGHT_NUM': 25037.0, 'THIRTEEN_RIDE_NUM': 18849.0, 'THIRTEEN_ALIGHT_NUM': 24492.0, 'FOURTEEN_RIDE_NUM': 23331.0, 'FOURTEEN_ALIGHT_NUM': 20032.0, 'FIFTEEN_RIDE_NUM': 30469.0, 'FIFTEEN_ALIGHT_NUM': 17869.0, 'SIXTEEN_RIDE_NUM': 36116.0, 'SIXTEEN_ALIGHT_NUM': 15593.0, 'SEVENTEEN_RIDE_NUM': 66595.0, 'SEVENTEEN_ALIGHT_NUM': 16611.0, 'EIGHTEEN_RIDE_NUM': 135842.0, 'EIGHTEEN_ALIGHT_NUM': 17805.0, 'NINETEEN_RIDE_NUM': 46850.0, 'NINETEEN_ALIGHT_NUM': 8139.0, 'TWENTY_RIDE_NUM': 38173.0, 'TWENTY_ALIGHT_NUM': 4455.0, 'TWENTY_ONE_RIDE_NUM': 39048.0, 'TWENTY_ONE_ALIGHT_NUM': 4234.0, 'TWENTY_TWO_RIDE_NUM': 28501.0, 'TWENTY_TWO_ALIGHT_NUM': 3686.0, 'TWENTY_THREE_RIDE_NUM': 4390.0, 'TWENTY_THREE_ALIGHT_NUM': 1485.0, 'MIDNIGHT_RIDE_NUM': 3.0, 'MIDNIGHT_ALIGHT_NUM': 92.0, 'ONE_RIDE_NUM': 0.0, 'ONE_ALIGHT_NUM': 0.0, 'TWO_RIDE_NUM': 0.0, 'TWO_ALIGHT_NUM': 0.0, 'THREE_RIDE_NUM': 0.0, 'THREE_ALIGHT_NUM': 0.0, 'WORK_DT': '20210703'}, {'USE_MON': '202106', 'LINE_NUM': '1호선', 'SUB_STA_NM': '종각', 'FOUR_RIDE_NUM': 127.0, 'FOUR_ALIGHT_NUM': 1.0, 'FIVE_RIDE_NUM': 2314.0, 'FIVE_ALIGHT_NUM': 4354.0, 'SIX_RIDE_NUM': 2868.0, 'SIX_ALIGHT_NUM': 23755.0, 'SEVEN_RIDE_NUM': 5479.0, 'SEVEN_ALIGHT_NUM': 96712.0, 'EIGHT_RIDE_NUM': 8419.0, 'EIGHT_ALIGHT_NUM': 223459.0, 'NINE_RIDE_NUM': 10625.0, 'NINE_ALIGHT_NUM': 131420.0, 'TEN_RIDE_NUM': 14727.0, 'TEN_ALIGHT_NUM': 50878.0, 'ELEVEN_RIDE_NUM': 23057.0, 'ELEVEN_ALIGHT_NUM': 44506.0, 'TWELVE_RIDE_NUM': 27707.0, 'TWELVE_ALIGHT_NUM': 39830.0, 'THIRTEEN_RIDE_NUM': 34538.0, 'THIRTEEN_ALIGHT_NUM': 40864.0, 'FOURTEEN_RIDE_NUM': 40378.0, 'FOURTEEN_ALIGHT_NUM': 33173.0, 'FIFTEEN_RIDE_NUM': 49745.0, 'FIFTEEN_ALIGHT_NUM': 29610.0, 'SIXTEEN_RIDE_NUM': 58664.0, 'SIXTEEN_ALIGHT_NUM': 29692.0, 'SEVENTEEN_RIDE_NUM': 114985.0, 'SEVENTEEN_ALIGHT_NUM': 33365.0, 'EIGHTEEN_RIDE_NUM': 192552.0, 'EIGHTEEN_ALIGHT_NUM': 39621.0, 'NINETEEN_RIDE_NUM': 78735.0, 'NINETEEN_ALIGHT_NUM': 19163.0, 'TWENTY_RIDE_NUM': 64989.0, 'TWENTY_ALIGHT_NUM': 7386.0, 'TWENTY_ONE_RIDE_NUM': 81179.0, 'TWENTY_ONE_ALIGHT_NUM': 4790.0, 'TWENTY_TWO_RIDE_NUM': 63653.0, 'TWENTY_TWO_ALIGHT_NUM': 3763.0, 'TWENTY_THREE_RIDE_NUM': 8153.0, 'TWENTY_THREE_ALIGHT_NUM': 1675.0, 'MIDNIGHT_RIDE_NUM': 21.0, 'MIDNIGHT_ALIGHT_NUM': 135.0, 'ONE_RIDE_NUM': 0.0, 'ONE_ALIGHT_NUM': 0.0, 'TWO_RIDE_NUM': 0.0, 'TWO_ALIGHT_NUM': 0.0, 'THREE_RIDE_NUM': 0.0, 'THREE_ALIGHT_NUM': 0.0, 'WORK_DT': '20210703'}, {'USE_MON': '202106', 'LINE_NUM': '1호선', 'SUB_STA_NM': '종로3가', 'FOUR_RIDE_NUM': 191.0, 'FOUR_ALIGHT_NUM': 24.0, 'FIVE_RIDE_NUM': 3227.0, 'FIVE_ALIGHT_NUM': 3388.0, 'SIX_RIDE_NUM': 3069.0, 'SIX_ALIGHT_NUM': 13080.0, 'SEVEN_RIDE_NUM': 5108.0, 'SEVEN_ALIGHT_NUM': 25462.0, 'EIGHT_RIDE_NUM': 7412.0, 'EIGHT_ALIGHT_NUM': 70639.0, 'NINE_RIDE_NUM': 11673.0, 'NINE_ALIGHT_NUM': 73336.0, 'TEN_RIDE_NUM': 18502.0, 'TEN_ALIGHT_NUM': 57312.0, 'ELEVEN_RIDE_NUM': 29882.0, 'ELEVEN_ALIGHT_NUM': 55725.0, 'TWELVE_RIDE_NUM': 37009.0, 'TWELVE_ALIGHT_NUM': 53678.0, 'THIRTEEN_RIDE_NUM': 44050.0, 'THIRTEEN_ALIGHT_NUM': 51189.0, 'FOURTEEN_RIDE_NUM': 47626.0, 'FOURTEEN_ALIGHT_NUM': 46621.0, 'FIFTEEN_RIDE_NUM': 53071.0, 'FIFTEEN_ALIGHT_NUM': 40250.0, 'SIXTEEN_RIDE_NUM': 56955.0, 'SIXTEEN_ALIGHT_NUM': 34679.0, 'SEVENTEEN_RIDE_NUM': 68711.0, 'SEVENTEEN_ALIGHT_NUM': 31234.0, 'EIGHTEEN_RIDE_NUM': 94683.0, 'EIGHTEEN_ALIGHT_NUM': 33315.0, 'NINETEEN_RIDE_NUM': 55993.0, 'NINETEEN_ALIGHT_NUM': 16571.0, 'TWENTY_RIDE_NUM': 41534.0, 'TWENTY_ALIGHT_NUM': 6332.0, 'TWENTY_ONE_RIDE_NUM': 51588.0, 'TWENTY_ONE_ALIGHT_NUM': 4938.0, 'TWENTY_TWO_RIDE_NUM': 47756.0, 'TWENTY_TWO_ALIGHT_NUM': 4591.0, 'TWENTY_THREE_RIDE_NUM': 6768.0, 'TWENTY_THREE_ALIGHT_NUM': 2318.0, 'MIDNIGHT_RIDE_NUM': 25.0, 'MIDNIGHT_ALIGHT_NUM': 413.0, 'ONE_RIDE_NUM': 0.0, 'ONE_ALIGHT_NUM': 0.0, 'TWO_RIDE_NUM': 0.0, 'TWO_ALIGHT_NUM': 0.0, 'THREE_RIDE_NUM': 0.0, 'THREE_ALIGHT_NUM': 0.0, 'WORK_DT': '20210703'}]}}\n",
      "{'CardSubwayTime': {'list_total_count': 608, 'RESULT': {'CODE': 'INFO-000', 'MESSAGE': '정상 처리되었습니다'}, 'row': [{'USE_MON': '202106', 'LINE_NUM': '1호선', 'SUB_STA_NM': '종로5가', 'FOUR_RIDE_NUM': 71.0, 'FOUR_ALIGHT_NUM': 0.0, 'FIVE_RIDE_NUM': 1526.0, 'FIVE_ALIGHT_NUM': 3779.0, 'SIX_RIDE_NUM': 2574.0, 'SIX_ALIGHT_NUM': 16992.0, 'SEVEN_RIDE_NUM': 4781.0, 'SEVEN_ALIGHT_NUM': 39423.0, 'EIGHT_RIDE_NUM': 7414.0, 'EIGHT_ALIGHT_NUM': 103060.0, 'NINE_RIDE_NUM': 11525.0, 'NINE_ALIGHT_NUM': 62717.0, 'TEN_RIDE_NUM': 18431.0, 'TEN_ALIGHT_NUM': 50987.0, 'ELEVEN_RIDE_NUM': 27735.0, 'ELEVEN_ALIGHT_NUM': 48857.0, 'TWELVE_RIDE_NUM': 34387.0, 'TWELVE_ALIGHT_NUM': 47295.0, 'THIRTEEN_RIDE_NUM': 40094.0, 'THIRTEEN_ALIGHT_NUM': 42416.0, 'FOURTEEN_RIDE_NUM': 46633.0, 'FOURTEEN_ALIGHT_NUM': 39899.0, 'FIFTEEN_RIDE_NUM': 50981.0, 'FIFTEEN_ALIGHT_NUM': 35861.0, 'SIXTEEN_RIDE_NUM': 55982.0, 'SIXTEEN_ALIGHT_NUM': 29188.0, 'SEVENTEEN_RIDE_NUM': 71386.0, 'SEVENTEEN_ALIGHT_NUM': 26232.0, 'EIGHTEEN_RIDE_NUM': 96880.0, 'EIGHTEEN_ALIGHT_NUM': 22727.0, 'NINETEEN_RIDE_NUM': 45846.0, 'NINETEEN_ALIGHT_NUM': 12621.0, 'TWENTY_RIDE_NUM': 29493.0, 'TWENTY_ALIGHT_NUM': 5474.0, 'TWENTY_ONE_RIDE_NUM': 29266.0, 'TWENTY_ONE_ALIGHT_NUM': 4184.0, 'TWENTY_TWO_RIDE_NUM': 20319.0, 'TWENTY_TWO_ALIGHT_NUM': 3607.0, 'TWENTY_THREE_RIDE_NUM': 2740.0, 'TWENTY_THREE_ALIGHT_NUM': 1681.0, 'MIDNIGHT_RIDE_NUM': 4.0, 'MIDNIGHT_ALIGHT_NUM': 268.0, 'ONE_RIDE_NUM': 1.0, 'ONE_ALIGHT_NUM': 1.0, 'TWO_RIDE_NUM': 0.0, 'TWO_ALIGHT_NUM': 0.0, 'THREE_RIDE_NUM': 0.0, 'THREE_ALIGHT_NUM': 0.0, 'WORK_DT': '20210703'}, {'USE_MON': '202106', 'LINE_NUM': '1호선', 'SUB_STA_NM': '동대문', 'FOUR_RIDE_NUM': 715.0, 'FOUR_ALIGHT_NUM': 14.0, 'FIVE_RIDE_NUM': 13235.0, 'FIVE_ALIGHT_NUM': 2131.0, 'SIX_RIDE_NUM': 8936.0, 'SIX_ALIGHT_NUM': 6979.0, 'SEVEN_RIDE_NUM': 14776.0, 'SEVEN_ALIGHT_NUM': 12395.0, 'EIGHT_RIDE_NUM': 18660.0, 'EIGHT_ALIGHT_NUM': 24732.0, 'NINE_RIDE_NUM': 16788.0, 'NINE_ALIGHT_NUM': 22866.0, 'TEN_RIDE_NUM': 15988.0, 'TEN_ALIGHT_NUM': 21388.0, 'ELEVEN_RIDE_NUM': 17257.0, 'ELEVEN_ALIGHT_NUM': 22109.0, 'TWELVE_RIDE_NUM': 20561.0, 'TWELVE_ALIGHT_NUM': 21732.0, 'THIRTEEN_RIDE_NUM': 21099.0, 'THIRTEEN_ALIGHT_NUM': 20786.0, 'FOURTEEN_RIDE_NUM': 22318.0, 'FOURTEEN_ALIGHT_NUM': 19616.0, 'FIFTEEN_RIDE_NUM': 23370.0, 'FIFTEEN_ALIGHT_NUM': 18703.0, 'SIXTEEN_RIDE_NUM': 24338.0, 'SIXTEEN_ALIGHT_NUM': 17325.0, 'SEVENTEEN_RIDE_NUM': 23923.0, 'SEVENTEEN_ALIGHT_NUM': 17672.0, 'EIGHTEEN_RIDE_NUM': 22895.0, 'EIGHTEEN_ALIGHT_NUM': 18354.0, 'NINETEEN_RIDE_NUM': 15871.0, 'NINETEEN_ALIGHT_NUM': 19089.0, 'TWENTY_RIDE_NUM': 12693.0, 'TWENTY_ALIGHT_NUM': 12789.0, 'TWENTY_ONE_RIDE_NUM': 13040.0, 'TWENTY_ONE_ALIGHT_NUM': 10134.0, 'TWENTY_TWO_RIDE_NUM': 11167.0, 'TWENTY_TWO_ALIGHT_NUM': 10601.0, 'TWENTY_THREE_RIDE_NUM': 2811.0, 'TWENTY_THREE_ALIGHT_NUM': 8211.0, 'MIDNIGHT_RIDE_NUM': 16.0, 'MIDNIGHT_ALIGHT_NUM': 1434.0, 'ONE_RIDE_NUM': 1.0, 'ONE_ALIGHT_NUM': 1.0, 'TWO_RIDE_NUM': 0.0, 'TWO_ALIGHT_NUM': 0.0, 'THREE_RIDE_NUM': 0.0, 'THREE_ALIGHT_NUM': 0.0, 'WORK_DT': '20210703'}, {'USE_MON': '202106', 'LINE_NUM': '1호선', 'SUB_STA_NM': '신설동', 'FOUR_RIDE_NUM': 343.0, 'FOUR_ALIGHT_NUM': 3.0, 'FIVE_RIDE_NUM': 8150.0, 'FIVE_ALIGHT_NUM': 3192.0, 'SIX_RIDE_NUM': 8131.0, 'SIX_ALIGHT_NUM': 10929.0, 'SEVEN_RIDE_NUM': 17021.0, 'SEVEN_ALIGHT_NUM': 25745.0, 'EIGHT_RIDE_NUM': 24583.0, 'EIGHT_ALIGHT_NUM': 62999.0, 'NINE_RIDE_NUM': 16472.0, 'NINE_ALIGHT_NUM': 33400.0, 'TEN_RIDE_NUM': 14689.0, 'TEN_ALIGHT_NUM': 20639.0, 'ELEVEN_RIDE_NUM': 16427.0, 'ELEVEN_ALIGHT_NUM': 17238.0, 'TWELVE_RIDE_NUM': 17625.0, 'TWELVE_ALIGHT_NUM': 16913.0, 'THIRTEEN_RIDE_NUM': 19712.0, 'THIRTEEN_ALIGHT_NUM': 17440.0, 'FOURTEEN_RIDE_NUM': 19363.0, 'FOURTEEN_ALIGHT_NUM': 16063.0, 'FIFTEEN_RIDE_NUM': 20684.0, 'FIFTEEN_ALIGHT_NUM': 16772.0, 'SIXTEEN_RIDE_NUM': 28784.0, 'SIXTEEN_ALIGHT_NUM': 17481.0, 'SEVENTEEN_RIDE_NUM': 39357.0, 'SEVENTEEN_ALIGHT_NUM': 20038.0, 'EIGHTEEN_RIDE_NUM': 57642.0, 'EIGHTEEN_ALIGHT_NUM': 25012.0, 'NINETEEN_RIDE_NUM': 20823.0, 'NINETEEN_ALIGHT_NUM': 17529.0, 'TWENTY_RIDE_NUM': 13880.0, 'TWENTY_ALIGHT_NUM': 10932.0, 'TWENTY_ONE_RIDE_NUM': 13378.0, 'TWENTY_ONE_ALIGHT_NUM': 10102.0, 'TWENTY_TWO_RIDE_NUM': 10189.0, 'TWENTY_TWO_ALIGHT_NUM': 11809.0, 'TWENTY_THREE_RIDE_NUM': 1952.0, 'TWENTY_THREE_ALIGHT_NUM': 5451.0, 'MIDNIGHT_RIDE_NUM': 10.0, 'MIDNIGHT_ALIGHT_NUM': 449.0, 'ONE_RIDE_NUM': 0.0, 'ONE_ALIGHT_NUM': 0.0, 'TWO_RIDE_NUM': 0.0, 'TWO_ALIGHT_NUM': 0.0, 'THREE_RIDE_NUM': 0.0, 'THREE_ALIGHT_NUM': 0.0, 'WORK_DT': '20210703'}, {'USE_MON': '202106', 'LINE_NUM': '1호선', 'SUB_STA_NM': '제기동', 'FOUR_RIDE_NUM': 360.0, 'FOUR_ALIGHT_NUM': 3.0, 'FIVE_RIDE_NUM': 5020.0, 'FIVE_ALIGHT_NUM': 2150.0, 'SIX_RIDE_NUM': 8625.0, 'SIX_ALIGHT_NUM': 9488.0, 'SEVEN_RIDE_NUM': 21818.0, 'SEVEN_ALIGHT_NUM': 18800.0, 'EIGHT_RIDE_NUM': 31428.0, 'EIGHT_ALIGHT_NUM': 42110.0, 'NINE_RIDE_NUM': 22254.0, 'NINE_ALIGHT_NUM': 37145.0, 'TEN_RIDE_NUM': 25534.0, 'TEN_ALIGHT_NUM': 39572.0, 'ELEVEN_RIDE_NUM': 33701.0, 'ELEVEN_ALIGHT_NUM': 40192.0, 'TWELVE_RIDE_NUM': 37380.0, 'TWELVE_ALIGHT_NUM': 36944.0, 'THIRTEEN_RIDE_NUM': 37913.0, 'THIRTEEN_ALIGHT_NUM': 36302.0, 'FOURTEEN_RIDE_NUM': 38816.0, 'FOURTEEN_ALIGHT_NUM': 38060.0, 'FIFTEEN_RIDE_NUM': 39042.0, 'FIFTEEN_ALIGHT_NUM': 34744.0, 'SIXTEEN_RIDE_NUM': 36805.0, 'SIXTEEN_ALIGHT_NUM': 29316.0, 'SEVENTEEN_RIDE_NUM': 38480.0, 'SEVENTEEN_ALIGHT_NUM': 23319.0, 'EIGHTEEN_RIDE_NUM': 37172.0, 'EIGHTEEN_ALIGHT_NUM': 26182.0, 'NINETEEN_RIDE_NUM': 16542.0, 'NINETEEN_ALIGHT_NUM': 17773.0, 'TWENTY_RIDE_NUM': 10447.0, 'TWENTY_ALIGHT_NUM': 11211.0, 'TWENTY_ONE_RIDE_NUM': 8822.0, 'TWENTY_ONE_ALIGHT_NUM': 10198.0, 'TWENTY_TWO_RIDE_NUM': 7253.0, 'TWENTY_TWO_ALIGHT_NUM': 11830.0, 'TWENTY_THREE_RIDE_NUM': 2042.0, 'TWENTY_THREE_ALIGHT_NUM': 4844.0, 'MIDNIGHT_RIDE_NUM': 8.0, 'MIDNIGHT_ALIGHT_NUM': 408.0, 'ONE_RIDE_NUM': 0.0, 'ONE_ALIGHT_NUM': 0.0, 'TWO_RIDE_NUM': 1.0, 'TWO_ALIGHT_NUM': 0.0, 'THREE_RIDE_NUM': 0.0, 'THREE_ALIGHT_NUM': 0.0, 'WORK_DT': '20210703'}, {'USE_MON': '202106', 'LINE_NUM': '1호선', 'SUB_STA_NM': '청량리(서울시립대입구)', 'FOUR_RIDE_NUM': 1114.0, 'FOUR_ALIGHT_NUM': 17.0, 'FIVE_RIDE_NUM': 10556.0, 'FIVE_ALIGHT_NUM': 4752.0, 'SIX_RIDE_NUM': 14555.0, 'SIX_ALIGHT_NUM': 20601.0, 'SEVEN_RIDE_NUM': 36398.0, 'SEVEN_ALIGHT_NUM': 18127.0, 'EIGHT_RIDE_NUM': 44314.0, 'EIGHT_ALIGHT_NUM': 36112.0, 'NINE_RIDE_NUM': 30993.0, 'NINE_ALIGHT_NUM': 33651.0, 'TEN_RIDE_NUM': 30325.0, 'TEN_ALIGHT_NUM': 34593.0, 'ELEVEN_RIDE_NUM': 32895.0, 'ELEVEN_ALIGHT_NUM': 36922.0, 'TWELVE_RIDE_NUM': 36644.0, 'TWELVE_ALIGHT_NUM': 38152.0, 'THIRTEEN_RIDE_NUM': 37957.0, 'THIRTEEN_ALIGHT_NUM': 37161.0, 'FOURTEEN_RIDE_NUM': 38453.0, 'FOURTEEN_ALIGHT_NUM': 41488.0, 'FIFTEEN_RIDE_NUM': 41308.0, 'FIFTEEN_ALIGHT_NUM': 40046.0, 'SIXTEEN_RIDE_NUM': 48019.0, 'SIXTEEN_ALIGHT_NUM': 37625.0, 'SEVENTEEN_RIDE_NUM': 45267.0, 'SEVENTEEN_ALIGHT_NUM': 37535.0, 'EIGHTEEN_RIDE_NUM': 41132.0, 'EIGHTEEN_ALIGHT_NUM': 46814.0, 'NINETEEN_RIDE_NUM': 22408.0, 'NINETEEN_ALIGHT_NUM': 31284.0, 'TWENTY_RIDE_NUM': 16802.0, 'TWENTY_ALIGHT_NUM': 17867.0, 'TWENTY_ONE_RIDE_NUM': 13163.0, 'TWENTY_ONE_ALIGHT_NUM': 16739.0, 'TWENTY_TWO_RIDE_NUM': 9007.0, 'TWENTY_TWO_ALIGHT_NUM': 17875.0, 'TWENTY_THREE_RIDE_NUM': 2199.0, 'TWENTY_THREE_ALIGHT_NUM': 7010.0, 'MIDNIGHT_RIDE_NUM': 15.0, 'MIDNIGHT_ALIGHT_NUM': 784.0, 'ONE_RIDE_NUM': 1.0, 'ONE_ALIGHT_NUM': 0.0, 'TWO_RIDE_NUM': 0.0, 'TWO_ALIGHT_NUM': 0.0, 'THREE_RIDE_NUM': 0.0, 'THREE_ALIGHT_NUM': 0.0, 'WORK_DT': '20210703'}]}}\n"
     ]
    }
   ],
   "source": [
    "!python3 src/ds_open_subwayTime.py"
   ]
  },
  {
   "cell_type": "markdown",
   "metadata": {
    "slideshow": {
     "slide_type": "subslide"
    }
   },
   "source": [
    "### 결과의 저장을 확인\n",
    "\n",
    "JSON 파일이 있는지 확인해보자.\n"
   ]
  },
  {
   "cell_type": "code",
   "execution_count": 27,
   "metadata": {
    "slideshow": {
     "slide_type": "subslide"
    }
   },
   "outputs": [
    {
     "name": "stdout",
     "output_type": "stream",
     "text": [
      "-rw-r--r-- 1 jsl jsl 178346 Sep 14 06:35 src/ds_open_subwayTime.json\n",
      "-rw-r--r-- 1 jsl jsl   1751 Sep 14 06:35 src/ds_open_subwayTime.py\n"
     ]
    }
   ],
   "source": [
    "!ls -l src/ds_open_subwayTime*"
   ]
  },
  {
   "cell_type": "markdown",
   "metadata": {
    "slideshow": {
     "slide_type": "subslide"
    }
   },
   "source": [
    "MongoDB는 별도로 지정하지 않으면 (우리는 앞서 dbpath를 지정하였다),\n",
    "데이터 디렉토리는 ```/var/lib/MongoDB```\n",
    "그리고 로그 디렉토리는 ```/var/log/mongodb```이다.\n"
   ]
  },
  {
   "cell_type": "code",
   "execution_count": 28,
   "metadata": {},
   "outputs": [
    {
     "name": "stdout",
     "output_type": "stream",
     "text": [
      "-rw------- 1 mongodb nogroup 67108864  1월 14  2020 /var/lib/mongodb/ds_open_subwayPassengersDb.0\n",
      "-rw------- 1 mongodb nogroup 16777216  4월 16  2017 /var/lib/mongodb/ds_open_subwayPassengersDb.ns\n",
      "-rw------- 1 mongodb nogroup 67108864  1월 14  2020 /var/lib/mongodb/ds_twitter.0\n",
      "-rw------- 1 mongodb nogroup 16777216 11월 24  2016 /var/lib/mongodb/ds_twitter.ns\n"
     ]
    }
   ],
   "source": [
    "!ls -l /var/lib/mongodb/ds_*"
   ]
  },
  {
   "cell_type": "markdown",
   "metadata": {},
   "source": [
    "#### pymongo 결과의 확인"
   ]
  },
  {
   "cell_type": "code",
   "execution_count": 10,
   "metadata": {},
   "outputs": [],
   "source": [
    "import pymongo\n",
    "\n",
    "Client = pymongo.MongoClient('mongodb://localhost:27017') # or pymongo.MongoClient() without uri"
   ]
  },
  {
   "cell_type": "markdown",
   "metadata": {},
   "source": [
    "데이터베이스가 생성된 것을 알 수 있다."
   ]
  },
  {
   "cell_type": "code",
   "execution_count": 11,
   "metadata": {},
   "outputs": [
    {
     "name": "stdout",
     "output_type": "stream",
     "text": [
      "['admin', 'config', 'ds_open_subwayPassengersDb', 'local', 'myDB']\n"
     ]
    }
   ],
   "source": [
    "print(Client.list_database_names())"
   ]
  },
  {
   "cell_type": "markdown",
   "metadata": {},
   "source": [
    "테이블이 생성된 것을 알 수 있다."
   ]
  },
  {
   "cell_type": "code",
   "execution_count": 20,
   "metadata": {},
   "outputs": [],
   "source": [
    "db=Client.ds_open_subwayPassengersDb"
   ]
  },
  {
   "cell_type": "code",
   "execution_count": 21,
   "metadata": {},
   "outputs": [
    {
     "data": {
      "text/plain": [
       "['db_open_subwayTable']"
      ]
     },
     "execution_count": 21,
     "metadata": {},
     "output_type": "execute_result"
    }
   ],
   "source": [
    "db.list_collection_names()"
   ]
  },
  {
   "cell_type": "markdown",
   "metadata": {},
   "source": [
    "Mongo 4.0.3/PyMongo 3.7.0에서 ```count()``` 함수는 더 이상 사용할 수 없다.\n",
    "```count_documents({})```를 사용해서 몇 건이 저장되었는지 알아보자.\n",
    "\n",
    "count_documents()는 비어있거나 존재하지 않는 collection에 대해서는 0을 반환한다.\n",
    "안의 조건을 적어줄 수 있다 (예: ```( { 'UserIDS': newID }, limit = 1 )```).\n",
    "없으면 ( {} ), 모든 documents를 반환한다.\n",
    "\n",
    "아래는 20건이 나와야 맞지만, 다시 한 번 실행한 결과이다.\n",
    "중복되어도 NoSQL은 그대로 저장한다."
   ]
  },
  {
   "cell_type": "code",
   "execution_count": 28,
   "metadata": {},
   "outputs": [
    {
     "data": {
      "text/plain": [
       "24"
      ]
     },
     "execution_count": 28,
     "metadata": {},
     "output_type": "execute_result"
    }
   ],
   "source": [
    "db.db_open_subwayTable.count_documents({})"
   ]
  },
  {
   "cell_type": "markdown",
   "metadata": {},
   "source": [
    "1건만 출력해보자."
   ]
  },
  {
   "cell_type": "code",
   "execution_count": 23,
   "metadata": {},
   "outputs": [
    {
     "data": {
      "text/plain": [
       "{'_id': ObjectId('613fbfb2cd5d38655ecfb605'),\n",
       " 'CardSubwayTime': {'list_total_count': 608,\n",
       "  'RESULT': {'CODE': 'INFO-000', 'MESSAGE': '정상 처리되었습니다'},\n",
       "  'row': [{'USE_MON': '202106',\n",
       "    'LINE_NUM': '1호선',\n",
       "    'SUB_STA_NM': '서울역',\n",
       "    'FOUR_RIDE_NUM': 654.0,\n",
       "    'FOUR_ALIGHT_NUM': 17.0,\n",
       "    'FIVE_RIDE_NUM': 9008.0,\n",
       "    'FIVE_ALIGHT_NUM': 6400.0,\n",
       "    'SIX_RIDE_NUM': 12474.0,\n",
       "    'SIX_ALIGHT_NUM': 37203.0,\n",
       "    'SEVEN_RIDE_NUM': 37253.0,\n",
       "    'SEVEN_ALIGHT_NUM': 91875.0,\n",
       "    'EIGHT_RIDE_NUM': 59876.0,\n",
       "    'EIGHT_ALIGHT_NUM': 187805.0,\n",
       "    'NINE_RIDE_NUM': 44619.0,\n",
       "    'NINE_ALIGHT_NUM': 118679.0,\n",
       "    'TEN_RIDE_NUM': 42611.0,\n",
       "    'TEN_ALIGHT_NUM': 57710.0,\n",
       "    'ELEVEN_RIDE_NUM': 49533.0,\n",
       "    'ELEVEN_ALIGHT_NUM': 50003.0,\n",
       "    'TWELVE_RIDE_NUM': 59357.0,\n",
       "    'TWELVE_ALIGHT_NUM': 53317.0,\n",
       "    'THIRTEEN_RIDE_NUM': 61171.0,\n",
       "    'THIRTEEN_ALIGHT_NUM': 53687.0,\n",
       "    'FOURTEEN_RIDE_NUM': 53310.0,\n",
       "    'FOURTEEN_ALIGHT_NUM': 49094.0,\n",
       "    'FIFTEEN_RIDE_NUM': 65767.0,\n",
       "    'FIFTEEN_ALIGHT_NUM': 52788.0,\n",
       "    'SIXTEEN_RIDE_NUM': 76249.0,\n",
       "    'SIXTEEN_ALIGHT_NUM': 53969.0,\n",
       "    'SEVENTEEN_RIDE_NUM': 122928.0,\n",
       "    'SEVENTEEN_ALIGHT_NUM': 64693.0,\n",
       "    'EIGHTEEN_RIDE_NUM': 184907.0,\n",
       "    'EIGHTEEN_ALIGHT_NUM': 73978.0,\n",
       "    'NINETEEN_RIDE_NUM': 87575.0,\n",
       "    'NINETEEN_ALIGHT_NUM': 46769.0,\n",
       "    'TWENTY_RIDE_NUM': 59961.0,\n",
       "    'TWENTY_ALIGHT_NUM': 30743.0,\n",
       "    'TWENTY_ONE_RIDE_NUM': 65078.0,\n",
       "    'TWENTY_ONE_ALIGHT_NUM': 27435.0,\n",
       "    'TWENTY_TWO_RIDE_NUM': 44921.0,\n",
       "    'TWENTY_TWO_ALIGHT_NUM': 22829.0,\n",
       "    'TWENTY_THREE_RIDE_NUM': 11581.0,\n",
       "    'TWENTY_THREE_ALIGHT_NUM': 8024.0,\n",
       "    'MIDNIGHT_RIDE_NUM': 30.0,\n",
       "    'MIDNIGHT_ALIGHT_NUM': 637.0,\n",
       "    'ONE_RIDE_NUM': 0.0,\n",
       "    'ONE_ALIGHT_NUM': 1.0,\n",
       "    'TWO_RIDE_NUM': 0.0,\n",
       "    'TWO_ALIGHT_NUM': 0.0,\n",
       "    'THREE_RIDE_NUM': 0.0,\n",
       "    'THREE_ALIGHT_NUM': 0.0,\n",
       "    'WORK_DT': '20210703'},\n",
       "   {'USE_MON': '202106',\n",
       "    'LINE_NUM': '1호선',\n",
       "    'SUB_STA_NM': '동묘앞',\n",
       "    'FOUR_RIDE_NUM': 51.0,\n",
       "    'FOUR_ALIGHT_NUM': 1.0,\n",
       "    'FIVE_RIDE_NUM': 3218.0,\n",
       "    'FIVE_ALIGHT_NUM': 1100.0,\n",
       "    'SIX_RIDE_NUM': 3422.0,\n",
       "    'SIX_ALIGHT_NUM': 4802.0,\n",
       "    'SEVEN_RIDE_NUM': 5896.0,\n",
       "    'SEVEN_ALIGHT_NUM': 9703.0,\n",
       "    'EIGHT_RIDE_NUM': 9194.0,\n",
       "    'EIGHT_ALIGHT_NUM': 24921.0,\n",
       "    'NINE_RIDE_NUM': 8022.0,\n",
       "    'NINE_ALIGHT_NUM': 17333.0,\n",
       "    'TEN_RIDE_NUM': 9687.0,\n",
       "    'TEN_ALIGHT_NUM': 19292.0,\n",
       "    'ELEVEN_RIDE_NUM': 14091.0,\n",
       "    'ELEVEN_ALIGHT_NUM': 24305.0,\n",
       "    'TWELVE_RIDE_NUM': 20089.0,\n",
       "    'TWELVE_ALIGHT_NUM': 26186.0,\n",
       "    'THIRTEEN_RIDE_NUM': 24776.0,\n",
       "    'THIRTEEN_ALIGHT_NUM': 28141.0,\n",
       "    'FOURTEEN_RIDE_NUM': 27144.0,\n",
       "    'FOURTEEN_ALIGHT_NUM': 26643.0,\n",
       "    'FIFTEEN_RIDE_NUM': 28360.0,\n",
       "    'FIFTEEN_ALIGHT_NUM': 23213.0,\n",
       "    'SIXTEEN_RIDE_NUM': 31119.0,\n",
       "    'SIXTEEN_ALIGHT_NUM': 17744.0,\n",
       "    'SEVENTEEN_RIDE_NUM': 27036.0,\n",
       "    'SEVENTEEN_ALIGHT_NUM': 13759.0,\n",
       "    'EIGHTEEN_RIDE_NUM': 23606.0,\n",
       "    'EIGHTEEN_ALIGHT_NUM': 10098.0,\n",
       "    'NINETEEN_RIDE_NUM': 11006.0,\n",
       "    'NINETEEN_ALIGHT_NUM': 6510.0,\n",
       "    'TWENTY_RIDE_NUM': 6119.0,\n",
       "    'TWENTY_ALIGHT_NUM': 4409.0,\n",
       "    'TWENTY_ONE_RIDE_NUM': 5485.0,\n",
       "    'TWENTY_ONE_ALIGHT_NUM': 4265.0,\n",
       "    'TWENTY_TWO_RIDE_NUM': 3405.0,\n",
       "    'TWENTY_TWO_ALIGHT_NUM': 5689.0,\n",
       "    'TWENTY_THREE_RIDE_NUM': 1035.0,\n",
       "    'TWENTY_THREE_ALIGHT_NUM': 2589.0,\n",
       "    'MIDNIGHT_RIDE_NUM': 4.0,\n",
       "    'MIDNIGHT_ALIGHT_NUM': 1348.0,\n",
       "    'ONE_RIDE_NUM': 0.0,\n",
       "    'ONE_ALIGHT_NUM': 0.0,\n",
       "    'TWO_RIDE_NUM': 0.0,\n",
       "    'TWO_ALIGHT_NUM': 0.0,\n",
       "    'THREE_RIDE_NUM': 0.0,\n",
       "    'THREE_ALIGHT_NUM': 0.0,\n",
       "    'WORK_DT': '20210703'},\n",
       "   {'USE_MON': '202106',\n",
       "    'LINE_NUM': '1호선',\n",
       "    'SUB_STA_NM': '시청',\n",
       "    'FOUR_RIDE_NUM': 37.0,\n",
       "    'FOUR_ALIGHT_NUM': 0.0,\n",
       "    'FIVE_RIDE_NUM': 1881.0,\n",
       "    'FIVE_ALIGHT_NUM': 4340.0,\n",
       "    'SIX_RIDE_NUM': 2948.0,\n",
       "    'SIX_ALIGHT_NUM': 21443.0,\n",
       "    'SEVEN_RIDE_NUM': 6280.0,\n",
       "    'SEVEN_ALIGHT_NUM': 62346.0,\n",
       "    'EIGHT_RIDE_NUM': 7740.0,\n",
       "    'EIGHT_ALIGHT_NUM': 167991.0,\n",
       "    'NINE_RIDE_NUM': 8117.0,\n",
       "    'NINE_ALIGHT_NUM': 72853.0,\n",
       "    'TEN_RIDE_NUM': 9284.0,\n",
       "    'TEN_ALIGHT_NUM': 29250.0,\n",
       "    'ELEVEN_RIDE_NUM': 14030.0,\n",
       "    'ELEVEN_ALIGHT_NUM': 27989.0,\n",
       "    'TWELVE_RIDE_NUM': 15295.0,\n",
       "    'TWELVE_ALIGHT_NUM': 25037.0,\n",
       "    'THIRTEEN_RIDE_NUM': 18849.0,\n",
       "    'THIRTEEN_ALIGHT_NUM': 24492.0,\n",
       "    'FOURTEEN_RIDE_NUM': 23331.0,\n",
       "    'FOURTEEN_ALIGHT_NUM': 20032.0,\n",
       "    'FIFTEEN_RIDE_NUM': 30469.0,\n",
       "    'FIFTEEN_ALIGHT_NUM': 17869.0,\n",
       "    'SIXTEEN_RIDE_NUM': 36116.0,\n",
       "    'SIXTEEN_ALIGHT_NUM': 15593.0,\n",
       "    'SEVENTEEN_RIDE_NUM': 66595.0,\n",
       "    'SEVENTEEN_ALIGHT_NUM': 16611.0,\n",
       "    'EIGHTEEN_RIDE_NUM': 135842.0,\n",
       "    'EIGHTEEN_ALIGHT_NUM': 17805.0,\n",
       "    'NINETEEN_RIDE_NUM': 46850.0,\n",
       "    'NINETEEN_ALIGHT_NUM': 8139.0,\n",
       "    'TWENTY_RIDE_NUM': 38173.0,\n",
       "    'TWENTY_ALIGHT_NUM': 4455.0,\n",
       "    'TWENTY_ONE_RIDE_NUM': 39048.0,\n",
       "    'TWENTY_ONE_ALIGHT_NUM': 4234.0,\n",
       "    'TWENTY_TWO_RIDE_NUM': 28501.0,\n",
       "    'TWENTY_TWO_ALIGHT_NUM': 3686.0,\n",
       "    'TWENTY_THREE_RIDE_NUM': 4390.0,\n",
       "    'TWENTY_THREE_ALIGHT_NUM': 1485.0,\n",
       "    'MIDNIGHT_RIDE_NUM': 3.0,\n",
       "    'MIDNIGHT_ALIGHT_NUM': 92.0,\n",
       "    'ONE_RIDE_NUM': 0.0,\n",
       "    'ONE_ALIGHT_NUM': 0.0,\n",
       "    'TWO_RIDE_NUM': 0.0,\n",
       "    'TWO_ALIGHT_NUM': 0.0,\n",
       "    'THREE_RIDE_NUM': 0.0,\n",
       "    'THREE_ALIGHT_NUM': 0.0,\n",
       "    'WORK_DT': '20210703'},\n",
       "   {'USE_MON': '202106',\n",
       "    'LINE_NUM': '1호선',\n",
       "    'SUB_STA_NM': '종각',\n",
       "    'FOUR_RIDE_NUM': 127.0,\n",
       "    'FOUR_ALIGHT_NUM': 1.0,\n",
       "    'FIVE_RIDE_NUM': 2314.0,\n",
       "    'FIVE_ALIGHT_NUM': 4354.0,\n",
       "    'SIX_RIDE_NUM': 2868.0,\n",
       "    'SIX_ALIGHT_NUM': 23755.0,\n",
       "    'SEVEN_RIDE_NUM': 5479.0,\n",
       "    'SEVEN_ALIGHT_NUM': 96712.0,\n",
       "    'EIGHT_RIDE_NUM': 8419.0,\n",
       "    'EIGHT_ALIGHT_NUM': 223459.0,\n",
       "    'NINE_RIDE_NUM': 10625.0,\n",
       "    'NINE_ALIGHT_NUM': 131420.0,\n",
       "    'TEN_RIDE_NUM': 14727.0,\n",
       "    'TEN_ALIGHT_NUM': 50878.0,\n",
       "    'ELEVEN_RIDE_NUM': 23057.0,\n",
       "    'ELEVEN_ALIGHT_NUM': 44506.0,\n",
       "    'TWELVE_RIDE_NUM': 27707.0,\n",
       "    'TWELVE_ALIGHT_NUM': 39830.0,\n",
       "    'THIRTEEN_RIDE_NUM': 34538.0,\n",
       "    'THIRTEEN_ALIGHT_NUM': 40864.0,\n",
       "    'FOURTEEN_RIDE_NUM': 40378.0,\n",
       "    'FOURTEEN_ALIGHT_NUM': 33173.0,\n",
       "    'FIFTEEN_RIDE_NUM': 49745.0,\n",
       "    'FIFTEEN_ALIGHT_NUM': 29610.0,\n",
       "    'SIXTEEN_RIDE_NUM': 58664.0,\n",
       "    'SIXTEEN_ALIGHT_NUM': 29692.0,\n",
       "    'SEVENTEEN_RIDE_NUM': 114985.0,\n",
       "    'SEVENTEEN_ALIGHT_NUM': 33365.0,\n",
       "    'EIGHTEEN_RIDE_NUM': 192552.0,\n",
       "    'EIGHTEEN_ALIGHT_NUM': 39621.0,\n",
       "    'NINETEEN_RIDE_NUM': 78735.0,\n",
       "    'NINETEEN_ALIGHT_NUM': 19163.0,\n",
       "    'TWENTY_RIDE_NUM': 64989.0,\n",
       "    'TWENTY_ALIGHT_NUM': 7386.0,\n",
       "    'TWENTY_ONE_RIDE_NUM': 81179.0,\n",
       "    'TWENTY_ONE_ALIGHT_NUM': 4790.0,\n",
       "    'TWENTY_TWO_RIDE_NUM': 63653.0,\n",
       "    'TWENTY_TWO_ALIGHT_NUM': 3763.0,\n",
       "    'TWENTY_THREE_RIDE_NUM': 8153.0,\n",
       "    'TWENTY_THREE_ALIGHT_NUM': 1675.0,\n",
       "    'MIDNIGHT_RIDE_NUM': 21.0,\n",
       "    'MIDNIGHT_ALIGHT_NUM': 135.0,\n",
       "    'ONE_RIDE_NUM': 0.0,\n",
       "    'ONE_ALIGHT_NUM': 0.0,\n",
       "    'TWO_RIDE_NUM': 0.0,\n",
       "    'TWO_ALIGHT_NUM': 0.0,\n",
       "    'THREE_RIDE_NUM': 0.0,\n",
       "    'THREE_ALIGHT_NUM': 0.0,\n",
       "    'WORK_DT': '20210703'},\n",
       "   {'USE_MON': '202106',\n",
       "    'LINE_NUM': '1호선',\n",
       "    'SUB_STA_NM': '종로3가',\n",
       "    'FOUR_RIDE_NUM': 191.0,\n",
       "    'FOUR_ALIGHT_NUM': 24.0,\n",
       "    'FIVE_RIDE_NUM': 3227.0,\n",
       "    'FIVE_ALIGHT_NUM': 3388.0,\n",
       "    'SIX_RIDE_NUM': 3069.0,\n",
       "    'SIX_ALIGHT_NUM': 13080.0,\n",
       "    'SEVEN_RIDE_NUM': 5108.0,\n",
       "    'SEVEN_ALIGHT_NUM': 25462.0,\n",
       "    'EIGHT_RIDE_NUM': 7412.0,\n",
       "    'EIGHT_ALIGHT_NUM': 70639.0,\n",
       "    'NINE_RIDE_NUM': 11673.0,\n",
       "    'NINE_ALIGHT_NUM': 73336.0,\n",
       "    'TEN_RIDE_NUM': 18502.0,\n",
       "    'TEN_ALIGHT_NUM': 57312.0,\n",
       "    'ELEVEN_RIDE_NUM': 29882.0,\n",
       "    'ELEVEN_ALIGHT_NUM': 55725.0,\n",
       "    'TWELVE_RIDE_NUM': 37009.0,\n",
       "    'TWELVE_ALIGHT_NUM': 53678.0,\n",
       "    'THIRTEEN_RIDE_NUM': 44050.0,\n",
       "    'THIRTEEN_ALIGHT_NUM': 51189.0,\n",
       "    'FOURTEEN_RIDE_NUM': 47626.0,\n",
       "    'FOURTEEN_ALIGHT_NUM': 46621.0,\n",
       "    'FIFTEEN_RIDE_NUM': 53071.0,\n",
       "    'FIFTEEN_ALIGHT_NUM': 40250.0,\n",
       "    'SIXTEEN_RIDE_NUM': 56955.0,\n",
       "    'SIXTEEN_ALIGHT_NUM': 34679.0,\n",
       "    'SEVENTEEN_RIDE_NUM': 68711.0,\n",
       "    'SEVENTEEN_ALIGHT_NUM': 31234.0,\n",
       "    'EIGHTEEN_RIDE_NUM': 94683.0,\n",
       "    'EIGHTEEN_ALIGHT_NUM': 33315.0,\n",
       "    'NINETEEN_RIDE_NUM': 55993.0,\n",
       "    'NINETEEN_ALIGHT_NUM': 16571.0,\n",
       "    'TWENTY_RIDE_NUM': 41534.0,\n",
       "    'TWENTY_ALIGHT_NUM': 6332.0,\n",
       "    'TWENTY_ONE_RIDE_NUM': 51588.0,\n",
       "    'TWENTY_ONE_ALIGHT_NUM': 4938.0,\n",
       "    'TWENTY_TWO_RIDE_NUM': 47756.0,\n",
       "    'TWENTY_TWO_ALIGHT_NUM': 4591.0,\n",
       "    'TWENTY_THREE_RIDE_NUM': 6768.0,\n",
       "    'TWENTY_THREE_ALIGHT_NUM': 2318.0,\n",
       "    'MIDNIGHT_RIDE_NUM': 25.0,\n",
       "    'MIDNIGHT_ALIGHT_NUM': 413.0,\n",
       "    'ONE_RIDE_NUM': 0.0,\n",
       "    'ONE_ALIGHT_NUM': 0.0,\n",
       "    'TWO_RIDE_NUM': 0.0,\n",
       "    'TWO_ALIGHT_NUM': 0.0,\n",
       "    'THREE_RIDE_NUM': 0.0,\n",
       "    'THREE_ALIGHT_NUM': 0.0,\n",
       "    'WORK_DT': '20210703'}]}}"
      ]
     },
     "execution_count": 23,
     "metadata": {},
     "output_type": "execute_result"
    }
   ],
   "source": [
    "db.db_open_subwayTable.find_one()"
   ]
  },
  {
   "cell_type": "code",
   "execution_count": 24,
   "metadata": {},
   "outputs": [
    {
     "data": {
      "text/plain": [
       "{'_id': ObjectId('613fbfb2cd5d38655ecfb605'),\n",
       " 'CardSubwayTime': {'list_total_count': 608,\n",
       "  'RESULT': {'CODE': 'INFO-000', 'MESSAGE': '정상 처리되었습니다'},\n",
       "  'row': [{'USE_MON': '202106',\n",
       "    'LINE_NUM': '1호선',\n",
       "    'SUB_STA_NM': '서울역',\n",
       "    'FOUR_RIDE_NUM': 654.0,\n",
       "    'FOUR_ALIGHT_NUM': 17.0,\n",
       "    'FIVE_RIDE_NUM': 9008.0,\n",
       "    'FIVE_ALIGHT_NUM': 6400.0,\n",
       "    'SIX_RIDE_NUM': 12474.0,\n",
       "    'SIX_ALIGHT_NUM': 37203.0,\n",
       "    'SEVEN_RIDE_NUM': 37253.0,\n",
       "    'SEVEN_ALIGHT_NUM': 91875.0,\n",
       "    'EIGHT_RIDE_NUM': 59876.0,\n",
       "    'EIGHT_ALIGHT_NUM': 187805.0,\n",
       "    'NINE_RIDE_NUM': 44619.0,\n",
       "    'NINE_ALIGHT_NUM': 118679.0,\n",
       "    'TEN_RIDE_NUM': 42611.0,\n",
       "    'TEN_ALIGHT_NUM': 57710.0,\n",
       "    'ELEVEN_RIDE_NUM': 49533.0,\n",
       "    'ELEVEN_ALIGHT_NUM': 50003.0,\n",
       "    'TWELVE_RIDE_NUM': 59357.0,\n",
       "    'TWELVE_ALIGHT_NUM': 53317.0,\n",
       "    'THIRTEEN_RIDE_NUM': 61171.0,\n",
       "    'THIRTEEN_ALIGHT_NUM': 53687.0,\n",
       "    'FOURTEEN_RIDE_NUM': 53310.0,\n",
       "    'FOURTEEN_ALIGHT_NUM': 49094.0,\n",
       "    'FIFTEEN_RIDE_NUM': 65767.0,\n",
       "    'FIFTEEN_ALIGHT_NUM': 52788.0,\n",
       "    'SIXTEEN_RIDE_NUM': 76249.0,\n",
       "    'SIXTEEN_ALIGHT_NUM': 53969.0,\n",
       "    'SEVENTEEN_RIDE_NUM': 122928.0,\n",
       "    'SEVENTEEN_ALIGHT_NUM': 64693.0,\n",
       "    'EIGHTEEN_RIDE_NUM': 184907.0,\n",
       "    'EIGHTEEN_ALIGHT_NUM': 73978.0,\n",
       "    'NINETEEN_RIDE_NUM': 87575.0,\n",
       "    'NINETEEN_ALIGHT_NUM': 46769.0,\n",
       "    'TWENTY_RIDE_NUM': 59961.0,\n",
       "    'TWENTY_ALIGHT_NUM': 30743.0,\n",
       "    'TWENTY_ONE_RIDE_NUM': 65078.0,\n",
       "    'TWENTY_ONE_ALIGHT_NUM': 27435.0,\n",
       "    'TWENTY_TWO_RIDE_NUM': 44921.0,\n",
       "    'TWENTY_TWO_ALIGHT_NUM': 22829.0,\n",
       "    'TWENTY_THREE_RIDE_NUM': 11581.0,\n",
       "    'TWENTY_THREE_ALIGHT_NUM': 8024.0,\n",
       "    'MIDNIGHT_RIDE_NUM': 30.0,\n",
       "    'MIDNIGHT_ALIGHT_NUM': 637.0,\n",
       "    'ONE_RIDE_NUM': 0.0,\n",
       "    'ONE_ALIGHT_NUM': 1.0,\n",
       "    'TWO_RIDE_NUM': 0.0,\n",
       "    'TWO_ALIGHT_NUM': 0.0,\n",
       "    'THREE_RIDE_NUM': 0.0,\n",
       "    'THREE_ALIGHT_NUM': 0.0,\n",
       "    'WORK_DT': '20210703'},\n",
       "   {'USE_MON': '202106',\n",
       "    'LINE_NUM': '1호선',\n",
       "    'SUB_STA_NM': '동묘앞',\n",
       "    'FOUR_RIDE_NUM': 51.0,\n",
       "    'FOUR_ALIGHT_NUM': 1.0,\n",
       "    'FIVE_RIDE_NUM': 3218.0,\n",
       "    'FIVE_ALIGHT_NUM': 1100.0,\n",
       "    'SIX_RIDE_NUM': 3422.0,\n",
       "    'SIX_ALIGHT_NUM': 4802.0,\n",
       "    'SEVEN_RIDE_NUM': 5896.0,\n",
       "    'SEVEN_ALIGHT_NUM': 9703.0,\n",
       "    'EIGHT_RIDE_NUM': 9194.0,\n",
       "    'EIGHT_ALIGHT_NUM': 24921.0,\n",
       "    'NINE_RIDE_NUM': 8022.0,\n",
       "    'NINE_ALIGHT_NUM': 17333.0,\n",
       "    'TEN_RIDE_NUM': 9687.0,\n",
       "    'TEN_ALIGHT_NUM': 19292.0,\n",
       "    'ELEVEN_RIDE_NUM': 14091.0,\n",
       "    'ELEVEN_ALIGHT_NUM': 24305.0,\n",
       "    'TWELVE_RIDE_NUM': 20089.0,\n",
       "    'TWELVE_ALIGHT_NUM': 26186.0,\n",
       "    'THIRTEEN_RIDE_NUM': 24776.0,\n",
       "    'THIRTEEN_ALIGHT_NUM': 28141.0,\n",
       "    'FOURTEEN_RIDE_NUM': 27144.0,\n",
       "    'FOURTEEN_ALIGHT_NUM': 26643.0,\n",
       "    'FIFTEEN_RIDE_NUM': 28360.0,\n",
       "    'FIFTEEN_ALIGHT_NUM': 23213.0,\n",
       "    'SIXTEEN_RIDE_NUM': 31119.0,\n",
       "    'SIXTEEN_ALIGHT_NUM': 17744.0,\n",
       "    'SEVENTEEN_RIDE_NUM': 27036.0,\n",
       "    'SEVENTEEN_ALIGHT_NUM': 13759.0,\n",
       "    'EIGHTEEN_RIDE_NUM': 23606.0,\n",
       "    'EIGHTEEN_ALIGHT_NUM': 10098.0,\n",
       "    'NINETEEN_RIDE_NUM': 11006.0,\n",
       "    'NINETEEN_ALIGHT_NUM': 6510.0,\n",
       "    'TWENTY_RIDE_NUM': 6119.0,\n",
       "    'TWENTY_ALIGHT_NUM': 4409.0,\n",
       "    'TWENTY_ONE_RIDE_NUM': 5485.0,\n",
       "    'TWENTY_ONE_ALIGHT_NUM': 4265.0,\n",
       "    'TWENTY_TWO_RIDE_NUM': 3405.0,\n",
       "    'TWENTY_TWO_ALIGHT_NUM': 5689.0,\n",
       "    'TWENTY_THREE_RIDE_NUM': 1035.0,\n",
       "    'TWENTY_THREE_ALIGHT_NUM': 2589.0,\n",
       "    'MIDNIGHT_RIDE_NUM': 4.0,\n",
       "    'MIDNIGHT_ALIGHT_NUM': 1348.0,\n",
       "    'ONE_RIDE_NUM': 0.0,\n",
       "    'ONE_ALIGHT_NUM': 0.0,\n",
       "    'TWO_RIDE_NUM': 0.0,\n",
       "    'TWO_ALIGHT_NUM': 0.0,\n",
       "    'THREE_RIDE_NUM': 0.0,\n",
       "    'THREE_ALIGHT_NUM': 0.0,\n",
       "    'WORK_DT': '20210703'},\n",
       "   {'USE_MON': '202106',\n",
       "    'LINE_NUM': '1호선',\n",
       "    'SUB_STA_NM': '시청',\n",
       "    'FOUR_RIDE_NUM': 37.0,\n",
       "    'FOUR_ALIGHT_NUM': 0.0,\n",
       "    'FIVE_RIDE_NUM': 1881.0,\n",
       "    'FIVE_ALIGHT_NUM': 4340.0,\n",
       "    'SIX_RIDE_NUM': 2948.0,\n",
       "    'SIX_ALIGHT_NUM': 21443.0,\n",
       "    'SEVEN_RIDE_NUM': 6280.0,\n",
       "    'SEVEN_ALIGHT_NUM': 62346.0,\n",
       "    'EIGHT_RIDE_NUM': 7740.0,\n",
       "    'EIGHT_ALIGHT_NUM': 167991.0,\n",
       "    'NINE_RIDE_NUM': 8117.0,\n",
       "    'NINE_ALIGHT_NUM': 72853.0,\n",
       "    'TEN_RIDE_NUM': 9284.0,\n",
       "    'TEN_ALIGHT_NUM': 29250.0,\n",
       "    'ELEVEN_RIDE_NUM': 14030.0,\n",
       "    'ELEVEN_ALIGHT_NUM': 27989.0,\n",
       "    'TWELVE_RIDE_NUM': 15295.0,\n",
       "    'TWELVE_ALIGHT_NUM': 25037.0,\n",
       "    'THIRTEEN_RIDE_NUM': 18849.0,\n",
       "    'THIRTEEN_ALIGHT_NUM': 24492.0,\n",
       "    'FOURTEEN_RIDE_NUM': 23331.0,\n",
       "    'FOURTEEN_ALIGHT_NUM': 20032.0,\n",
       "    'FIFTEEN_RIDE_NUM': 30469.0,\n",
       "    'FIFTEEN_ALIGHT_NUM': 17869.0,\n",
       "    'SIXTEEN_RIDE_NUM': 36116.0,\n",
       "    'SIXTEEN_ALIGHT_NUM': 15593.0,\n",
       "    'SEVENTEEN_RIDE_NUM': 66595.0,\n",
       "    'SEVENTEEN_ALIGHT_NUM': 16611.0,\n",
       "    'EIGHTEEN_RIDE_NUM': 135842.0,\n",
       "    'EIGHTEEN_ALIGHT_NUM': 17805.0,\n",
       "    'NINETEEN_RIDE_NUM': 46850.0,\n",
       "    'NINETEEN_ALIGHT_NUM': 8139.0,\n",
       "    'TWENTY_RIDE_NUM': 38173.0,\n",
       "    'TWENTY_ALIGHT_NUM': 4455.0,\n",
       "    'TWENTY_ONE_RIDE_NUM': 39048.0,\n",
       "    'TWENTY_ONE_ALIGHT_NUM': 4234.0,\n",
       "    'TWENTY_TWO_RIDE_NUM': 28501.0,\n",
       "    'TWENTY_TWO_ALIGHT_NUM': 3686.0,\n",
       "    'TWENTY_THREE_RIDE_NUM': 4390.0,\n",
       "    'TWENTY_THREE_ALIGHT_NUM': 1485.0,\n",
       "    'MIDNIGHT_RIDE_NUM': 3.0,\n",
       "    'MIDNIGHT_ALIGHT_NUM': 92.0,\n",
       "    'ONE_RIDE_NUM': 0.0,\n",
       "    'ONE_ALIGHT_NUM': 0.0,\n",
       "    'TWO_RIDE_NUM': 0.0,\n",
       "    'TWO_ALIGHT_NUM': 0.0,\n",
       "    'THREE_RIDE_NUM': 0.0,\n",
       "    'THREE_ALIGHT_NUM': 0.0,\n",
       "    'WORK_DT': '20210703'},\n",
       "   {'USE_MON': '202106',\n",
       "    'LINE_NUM': '1호선',\n",
       "    'SUB_STA_NM': '종각',\n",
       "    'FOUR_RIDE_NUM': 127.0,\n",
       "    'FOUR_ALIGHT_NUM': 1.0,\n",
       "    'FIVE_RIDE_NUM': 2314.0,\n",
       "    'FIVE_ALIGHT_NUM': 4354.0,\n",
       "    'SIX_RIDE_NUM': 2868.0,\n",
       "    'SIX_ALIGHT_NUM': 23755.0,\n",
       "    'SEVEN_RIDE_NUM': 5479.0,\n",
       "    'SEVEN_ALIGHT_NUM': 96712.0,\n",
       "    'EIGHT_RIDE_NUM': 8419.0,\n",
       "    'EIGHT_ALIGHT_NUM': 223459.0,\n",
       "    'NINE_RIDE_NUM': 10625.0,\n",
       "    'NINE_ALIGHT_NUM': 131420.0,\n",
       "    'TEN_RIDE_NUM': 14727.0,\n",
       "    'TEN_ALIGHT_NUM': 50878.0,\n",
       "    'ELEVEN_RIDE_NUM': 23057.0,\n",
       "    'ELEVEN_ALIGHT_NUM': 44506.0,\n",
       "    'TWELVE_RIDE_NUM': 27707.0,\n",
       "    'TWELVE_ALIGHT_NUM': 39830.0,\n",
       "    'THIRTEEN_RIDE_NUM': 34538.0,\n",
       "    'THIRTEEN_ALIGHT_NUM': 40864.0,\n",
       "    'FOURTEEN_RIDE_NUM': 40378.0,\n",
       "    'FOURTEEN_ALIGHT_NUM': 33173.0,\n",
       "    'FIFTEEN_RIDE_NUM': 49745.0,\n",
       "    'FIFTEEN_ALIGHT_NUM': 29610.0,\n",
       "    'SIXTEEN_RIDE_NUM': 58664.0,\n",
       "    'SIXTEEN_ALIGHT_NUM': 29692.0,\n",
       "    'SEVENTEEN_RIDE_NUM': 114985.0,\n",
       "    'SEVENTEEN_ALIGHT_NUM': 33365.0,\n",
       "    'EIGHTEEN_RIDE_NUM': 192552.0,\n",
       "    'EIGHTEEN_ALIGHT_NUM': 39621.0,\n",
       "    'NINETEEN_RIDE_NUM': 78735.0,\n",
       "    'NINETEEN_ALIGHT_NUM': 19163.0,\n",
       "    'TWENTY_RIDE_NUM': 64989.0,\n",
       "    'TWENTY_ALIGHT_NUM': 7386.0,\n",
       "    'TWENTY_ONE_RIDE_NUM': 81179.0,\n",
       "    'TWENTY_ONE_ALIGHT_NUM': 4790.0,\n",
       "    'TWENTY_TWO_RIDE_NUM': 63653.0,\n",
       "    'TWENTY_TWO_ALIGHT_NUM': 3763.0,\n",
       "    'TWENTY_THREE_RIDE_NUM': 8153.0,\n",
       "    'TWENTY_THREE_ALIGHT_NUM': 1675.0,\n",
       "    'MIDNIGHT_RIDE_NUM': 21.0,\n",
       "    'MIDNIGHT_ALIGHT_NUM': 135.0,\n",
       "    'ONE_RIDE_NUM': 0.0,\n",
       "    'ONE_ALIGHT_NUM': 0.0,\n",
       "    'TWO_RIDE_NUM': 0.0,\n",
       "    'TWO_ALIGHT_NUM': 0.0,\n",
       "    'THREE_RIDE_NUM': 0.0,\n",
       "    'THREE_ALIGHT_NUM': 0.0,\n",
       "    'WORK_DT': '20210703'},\n",
       "   {'USE_MON': '202106',\n",
       "    'LINE_NUM': '1호선',\n",
       "    'SUB_STA_NM': '종로3가',\n",
       "    'FOUR_RIDE_NUM': 191.0,\n",
       "    'FOUR_ALIGHT_NUM': 24.0,\n",
       "    'FIVE_RIDE_NUM': 3227.0,\n",
       "    'FIVE_ALIGHT_NUM': 3388.0,\n",
       "    'SIX_RIDE_NUM': 3069.0,\n",
       "    'SIX_ALIGHT_NUM': 13080.0,\n",
       "    'SEVEN_RIDE_NUM': 5108.0,\n",
       "    'SEVEN_ALIGHT_NUM': 25462.0,\n",
       "    'EIGHT_RIDE_NUM': 7412.0,\n",
       "    'EIGHT_ALIGHT_NUM': 70639.0,\n",
       "    'NINE_RIDE_NUM': 11673.0,\n",
       "    'NINE_ALIGHT_NUM': 73336.0,\n",
       "    'TEN_RIDE_NUM': 18502.0,\n",
       "    'TEN_ALIGHT_NUM': 57312.0,\n",
       "    'ELEVEN_RIDE_NUM': 29882.0,\n",
       "    'ELEVEN_ALIGHT_NUM': 55725.0,\n",
       "    'TWELVE_RIDE_NUM': 37009.0,\n",
       "    'TWELVE_ALIGHT_NUM': 53678.0,\n",
       "    'THIRTEEN_RIDE_NUM': 44050.0,\n",
       "    'THIRTEEN_ALIGHT_NUM': 51189.0,\n",
       "    'FOURTEEN_RIDE_NUM': 47626.0,\n",
       "    'FOURTEEN_ALIGHT_NUM': 46621.0,\n",
       "    'FIFTEEN_RIDE_NUM': 53071.0,\n",
       "    'FIFTEEN_ALIGHT_NUM': 40250.0,\n",
       "    'SIXTEEN_RIDE_NUM': 56955.0,\n",
       "    'SIXTEEN_ALIGHT_NUM': 34679.0,\n",
       "    'SEVENTEEN_RIDE_NUM': 68711.0,\n",
       "    'SEVENTEEN_ALIGHT_NUM': 31234.0,\n",
       "    'EIGHTEEN_RIDE_NUM': 94683.0,\n",
       "    'EIGHTEEN_ALIGHT_NUM': 33315.0,\n",
       "    'NINETEEN_RIDE_NUM': 55993.0,\n",
       "    'NINETEEN_ALIGHT_NUM': 16571.0,\n",
       "    'TWENTY_RIDE_NUM': 41534.0,\n",
       "    'TWENTY_ALIGHT_NUM': 6332.0,\n",
       "    'TWENTY_ONE_RIDE_NUM': 51588.0,\n",
       "    'TWENTY_ONE_ALIGHT_NUM': 4938.0,\n",
       "    'TWENTY_TWO_RIDE_NUM': 47756.0,\n",
       "    'TWENTY_TWO_ALIGHT_NUM': 4591.0,\n",
       "    'TWENTY_THREE_RIDE_NUM': 6768.0,\n",
       "    'TWENTY_THREE_ALIGHT_NUM': 2318.0,\n",
       "    'MIDNIGHT_RIDE_NUM': 25.0,\n",
       "    'MIDNIGHT_ALIGHT_NUM': 413.0,\n",
       "    'ONE_RIDE_NUM': 0.0,\n",
       "    'ONE_ALIGHT_NUM': 0.0,\n",
       "    'TWO_RIDE_NUM': 0.0,\n",
       "    'TWO_ALIGHT_NUM': 0.0,\n",
       "    'THREE_RIDE_NUM': 0.0,\n",
       "    'THREE_ALIGHT_NUM': 0.0,\n",
       "    'WORK_DT': '20210703'}]}}"
      ]
     },
     "execution_count": 24,
     "metadata": {},
     "output_type": "execute_result"
    }
   ],
   "source": [
    "db.db_open_subwayTable.find_one({\"CardSubwayTime.row.SUB_STA_NM\":\"서울역\"})"
   ]
  },
  {
   "cell_type": "markdown",
   "metadata": {},
   "source": [
    "#### MongoDB cli 결과의 확인\n",
    "\n",
    "* MongoDB cli로 올바르게 저장되었는지 확인한다.\n",
    "    * db명: use ds_open_subwayPassengers_mongo_db\n",
    "    * table (또는 Collection)명: db_open_subwayTable\n",
    "    * dictionary 하위 계층은 dot (.)으로 나타낸다.\n",
    "\n",
    "```\n",
    "db.db_open_subwayTable.find({\"CardSubwayStatisticsService.row.LINE_NUM\":\"분당선\"})\n",
    "```"
   ]
  },
  {
   "cell_type": "markdown",
   "metadata": {},
   "source": [
    "백그라운드에서 mongod가 실행되고 있다는 것을 확인하고 나서,\n",
    "클라이언트를 실행하여 작업을 할 수 있다.\n",
    "\n",
    "```\n",
    "jsl@DESKTOP-KM2DH32:~/Code/git/bb/jsl/pyds$ mongo\n",
    "MongoDB shell version v3.6.3\n",
    "connecting to: mongodb://127.0.0.1:27017  # 서버에 연결한다는 메시지\n",
    "...\n",
    "> # 이 화살표는 클라이언트 단말 프롬프트라는 표시\n",
    "```\n",
    "\n",
    "\n",
    "```\n",
    "# DB 존재하는지 확인\n",
    "> show dbs\n",
    "admin                       0.000GB\n",
    "config                      0.000GB\n",
    "ds_open_subwayPassengersDb  0.000GB\n",
    "local                       0.000GB\n",
    "myDB                        0.000GB\n",
    "\n",
    "# DB를 스위치\n",
    "> use ds_open_subwayPassengersDb\n",
    "switched to db ds_open_subwayPassengersDb\n",
    "# 테이블이 존재하는지 확인\n",
    "> show collections\n",
    "db_open_subwayTable\n",
    "# 전체 조회\n",
    "> db.db_open_subwayTable.find()\n",
    "{ \"_id\" : ObjectId(\"61137bf8f5e6e92365141908\"), \"CardSubwayTime\" : { \"row\" : [ { \"FOUR_ALIGHT_NUM\" : 2, \"USE_MON\" : \"202106\", \"LINE_NUM\" : \"4호선\", \"FIFTEEN_RIDE_NUM\" : 41976, \"TWENTY_TWO_RIDE_NUM\" : 21941, \"WORK_DT\" : \"20210703\", \"FIVE_ALIGHT_NUM\" : 3189, \"SUB_STA_NM\" : \"수유(강북구청)\", \"FIVE_RIDE_NUM\" : 20175, \"EIGHTEEN_ALIGHT_NUM\" : 120945, \"FOURTEEN_ALIGHT_NUM\" : 38917, \"SEVEN_RIDE_NUM\" : 112544, \"NINETEEN_ALIGHT_NUM\" : 107258, \"TWO_ALIGHT_NUM\" : 0, \"TEN_RIDE_NUM\" : 49660, \"TEN_ALIGHT_NUM\" : 29079, \"TWENTY_ALIGHT_NUM\" : 61064, \"EIGHTEEN_RIDE_NUM\" : 57381, \"TWELVE_ALIGHT_NUM\" : 32699, \"TWENTY_THREE_RIDE_NUM\" : 5303, \"NINE_ALIGHT_NUM\" : 35887, \"THIRTEEN_ALIGHT_NUM\" : 36311, \"NINE_RIDE_NUM\" : 73327, \"ONE_RIDE_NUM\" : 0, \"SIX_RIDE_NUM\" : 46364, \"THREE_RIDE_NUM\" : 0, \"TWENTY_TWO_ALIGHT_NUM\" : 53867, \"TWO_RIDE_NUM\" : 0, \"SEVEN_ALIGHT_NUM\" : 20284, \"THREE_ALIGHT_NUM\" : 0, \"ELEVEN_RIDE_NUM\" : 44519, \"ONE_ALIGHT_NUM\" : 2, \"NINETEEN_RIDE_NUM\" : 32944, \"MIDNIGHT_ALIGHT_NUM\" : 93, \"TWENTY_THREE_ALIGHT_NUM\" : 30549, \"FOUR_RIDE_NUM\" : 79, \"TWENTY_RIDE_NUM\" : 25718, \"THIRTEEN_RIDE_NUM\" : 44637, \"SIX_ALIGHT_NUM\" : 12476, \"ELEVEN_ALIGHT_NUM\" : 29079, \"TWENTY_ONE_ALIGHT_NUM\" : 53950, \"SEVENTEEN_ALIGHT_NUM\" : 75523, \"SIXTEEN_ALIGHT_NUM\" : 59013, \"EIGHT_ALIGHT_NUM\" : 55754, \"FOURTEEN_RIDE_NUM\" : 41859, \"SIXTEEN_RIDE_NUM\" : 47604, \"TWENTY_ONE_RIDE_NUM\" : 24877, \"FIFTEEN_ALIGHT_NUM\" : 47323, \"TWELVE_RIDE_NUM\" : 45599, \"SEVENTEEN_RIDE_NUM\" : 52766, \"MIDNIGHT_RIDE_NUM\" : 4, \"EIGHT_RIDE_NUM\" : 125803 },..., \"list_total_count\" : 608 } }\n",
    "\n",
    "# 특정항목 조회\n",
    "> db.db_open_subwayTable.find({\"CardSubwayTime.row.SUB_STA_NM\":\"서울역\"})\n",
    "{ \"_id\" : ObjectId(\"61137bf7f5e6e923651418f5\"), \"CardSubwayTime\" : { \"row\" : [ { \"FOUR_ALIGHT_NUM\" : 17, \"USE_MON\" : \"202106\", \"LINE_NUM\" : \"1호선\", \"FIFTEEN_RIDE_NUM\" : 65767, \"TWENTY_TWO_RIDE_NUM\" : 44921, \"WORK_DT\" : \"20210703\", \"MIDNIGHT_RIDE_NUM\" : 25, \"EIGHT_RIDE_NUM\" : 7412 } ], \"RESULT\" : { \"MESSAGE\" : \"정상 처리되었습니다\", \"CODE\" : \"INFO-000\" }, \"list_total_count\" : 608 } }\n",
    "```"
   ]
  },
  {
   "cell_type": "code",
   "execution_count": 74,
   "metadata": {
    "slideshow": {
     "slide_type": "subslide"
    }
   },
   "outputs": [
    {
     "name": "stdout",
     "output_type": "stream",
     "text": [
      "Writing src/ds_open_subwayTime_mongo.js\n"
     ]
    }
   ],
   "source": [
    "%%writefile src/ds_open_subwayTime_mongo.js\n",
    "show dbs\n",
    "use ds_open_subwayPassengersDb\n",
    "show collections\n",
    "db.db_open_subwayTable.find()\n",
    "db.db_open_subwayTable.find({\"CardSubwayTime.row.SUB_STA_NM\":\"서울역\"})"
   ]
  },
  {
   "cell_type": "code",
   "execution_count": 75,
   "metadata": {
    "slideshow": {
     "slide_type": "subslide"
    }
   },
   "outputs": [
    {
     "name": "stdout",
     "output_type": "stream",
     "text": [
      "MongoDB shell version v3.6.3\n",
      "connecting to: mongodb://127.0.0.1:27017\n",
      "MongoDB server version: 3.6.3\n",
      "admin                       0.000GB\n",
      "config                      0.000GB\n",
      "ds_open_subwayPassengersDb  0.000GB\n",
      "local                       0.000GB\n",
      "myDB                        0.000GB\n",
      "switched to db ds_open_subwayPassengersDb\n",
      "db_open_subwayTable\n",
      "{ \"_id\" : ObjectId(\"61137bf7f5e6e923651418f5\"), \"CardSubwayTime\" : { \"row\" : [ { \"FOUR_ALIGHT_NUM\" : 17, \"USE_MON\" : \"202106\", \"LINE_NUM\" : \"1호선\", \"FIFTEEN_RIDE_NUM\" : 65767, \"TWENTY_TWO_RIDE_NUM\" : 44921, \"WORK_DT\" : \"20210703\", \"FIVE_ALIGHT_NUM\" : 6400, \"SUB_STA_NM\" : \"서울역\", \"FIVE_RIDE_NUM\" : 9008, \"EIGHTEEN_ALIGHT_NUM\" : 73978, \"FOURTEEN_ALIGHT_NUM\" : 49094, \"SEVEN_RIDE_NUM\" : 37253, \"NINETEEN_ALIGHT_NUM\" : 46769, \"TWO_ALIGHT_NUM\" : 0, \"TEN_RIDE_NUM\" : 42611, \"TEN_ALIGHT_NUM\" : 57710, \"TWENTY_ALIGHT_NUM\" : 30743, \"EIGHTEEN_RIDE_NUM\" : 184907, \"TWELVE_ALIGHT_NUM\" : 53317, \"TWENTY_THREE_RIDE_NUM\" : 11581, \"NINE_ALIGHT_NUM\" : 118679, \"THIRTEEN_ALIGHT_NUM\" : 53687, \"NINE_RIDE_NUM\" : 44619, \"ONE_RIDE_NUM\" : 0, \"SIX_RIDE_NUM\" : 12474, \"THREE_RIDE_NUM\" : 0, \"TWENTY_TWO_ALIGHT_NUM\" : 22829, \"TWO_RIDE_NUM\" : 0, \"SEVEN_ALIGHT_NUM\" : 91875, \"THREE_ALIGHT_NUM\" : 0, \"ELEVEN_RIDE_NUM\" : 49533, \"ONE_ALIGHT_NUM\" : 1, \"NINETEEN_RIDE_NUM\" : 87575, \"MIDNIGHT_ALIGHT_NUM\" : 637, \"TWENTY_THREE_ALIGHT_NUM\" : 8024, \"FOUR_RIDE_NUM\" : 654, \"TWENTY_RIDE_NUM\" : 59961, \"THIRTEEN_RIDE_NUM\" : 61171, \"SIX_ALIGHT_NUM\" : 37203, \"ELEVEN_ALIGHT_NUM\" : 50003, \"TWENTY_ONE_ALIGHT_NUM\" : 27435, \"SEVENTEEN_ALIGHT_NUM\" : 64693, \"SIXTEEN_ALIGHT_NUM\" : 53969, \"EIGHT_ALIGHT_NUM\" : 187805, \"FOURTEEN_RIDE_NUM\" : 53310, \"SIXTEEN_RIDE_NUM\" : 76249, \"TWENTY_ONE_RIDE_NUM\" : 65078, \"FIFTEEN_ALIGHT_NUM\" : 52788, \"TWELVE_RIDE_NUM\" : 59357, \"SEVENTEEN_RIDE_NUM\" : 122928, \"MIDNIGHT_RIDE_NUM\" : 30, \"EIGHT_RIDE_NUM\" : 59876 }, { \"FOUR_ALIGHT_NUM\" : 1, \"USE_MON\" : \"202106\", \"LINE_NUM\" : \"1호선\", \"FIFTEEN_RIDE_NUM\" : 28360, \"TWENTY_TWO_RIDE_NUM\" : 3405, \"WORK_DT\" : \"20210703\", \"FIVE_ALIGHT_NUM\" : 1100, \"SUB_STA_NM\" : \"동묘앞\", \"FIVE_RIDE_NUM\" : 3218, \"EIGHTEEN_ALIGHT_NUM\" : 10098, \"FOURTEEN_ALIGHT_NUM\" : 26643, \"SEVEN_RIDE_NUM\" : 5896, \"NINETEEN_ALIGHT_NUM\" : 6510, \"TWO_ALIGHT_NUM\" : 0, \"TEN_RIDE_NUM\" : 9687, \"TEN_ALIGHT_NUM\" : 19292, \"TWENTY_ALIGHT_NUM\" : 4409, \"EIGHTEEN_RIDE_NUM\" : 23606, \"TWELVE_ALIGHT_NUM\" : 26186, \"TWENTY_THREE_RIDE_NUM\" : 1035, \"NINE_ALIGHT_NUM\" : 17333, \"THIRTEEN_ALIGHT_NUM\" : 28141, \"NINE_RIDE_NUM\" : 8022, \"ONE_RIDE_NUM\" : 0, \"SIX_RIDE_NUM\" : 3422, \"THREE_RIDE_NUM\" : 0, \"TWENTY_TWO_ALIGHT_NUM\" : 5689, \"TWO_RIDE_NUM\" : 0, \"SEVEN_ALIGHT_NUM\" : 9703, \"THREE_ALIGHT_NUM\" : 0, \"ELEVEN_RIDE_NUM\" : 14091, \"ONE_ALIGHT_NUM\" : 0, \"NINETEEN_RIDE_NUM\" : 11006, \"MIDNIGHT_ALIGHT_NUM\" : 1348, \"TWENTY_THREE_ALIGHT_NUM\" : 2589, \"FOUR_RIDE_NUM\" : 51, \"TWENTY_RIDE_NUM\" : 6119, \"THIRTEEN_RIDE_NUM\" : 24776, \"SIX_ALIGHT_NUM\" : 4802, \"ELEVEN_ALIGHT_NUM\" : 24305, \"TWENTY_ONE_ALIGHT_NUM\" : 4265, \"SEVENTEEN_ALIGHT_NUM\" : 13759, \"SIXTEEN_ALIGHT_NUM\" : 17744, \"EIGHT_ALIGHT_NUM\" : 24921, \"FOURTEEN_RIDE_NUM\" : 27144, \"SIXTEEN_RIDE_NUM\" : 31119, \"TWENTY_ONE_RIDE_NUM\" : 5485, \"FIFTEEN_ALIGHT_NUM\" : 23213, \"TWELVE_RIDE_NUM\" : 20089, \"SEVENTEEN_RIDE_NUM\" : 27036, \"MIDNIGHT_RIDE_NUM\" : 4, \"EIGHT_RIDE_NUM\" : 9194 }, { \"FOUR_ALIGHT_NUM\" : 0, \"USE_MON\" : \"202106\", \"LINE_NUM\" : \"1호선\", \"FIFTEEN_RIDE_NUM\" : 30469, \"TWENTY_TWO_RIDE_NUM\" : 28501, \"WORK_DT\" : \"20210703\", \"FIVE_ALIGHT_NUM\" : 4340, \"SUB_STA_NM\" : \"시청\", \"FIVE_RIDE_NUM\" : 1881, \"EIGHTEEN_ALIGHT_NUM\" : 17805, \"FOURTEEN_ALIGHT_NUM\" : 20032, \"SEVEN_RIDE_NUM\" : 6280, \"NINETEEN_ALIGHT_NUM\" : 8139, \"TWO_ALIGHT_NUM\" : 0, \"TEN_RIDE_NUM\" : 9284, \"TEN_ALIGHT_NUM\" : 29250, \"TWENTY_ALIGHT_NUM\" : 4455, \"EIGHTEEN_RIDE_NUM\" : 135842, \"TWELVE_ALIGHT_NUM\" : 25037, \"TWENTY_THREE_RIDE_NUM\" : 4390, \"NINE_ALIGHT_NUM\" : 72853, \"THIRTEEN_ALIGHT_NUM\" : 24492, \"NINE_RIDE_NUM\" : 8117, \"ONE_RIDE_NUM\" : 0, \"SIX_RIDE_NUM\" : 2948, \"THREE_RIDE_NUM\" : 0, \"TWENTY_TWO_ALIGHT_NUM\" : 3686, \"TWO_RIDE_NUM\" : 0, \"SEVEN_ALIGHT_NUM\" : 62346, \"THREE_ALIGHT_NUM\" : 0, \"ELEVEN_RIDE_NUM\" : 14030, \"ONE_ALIGHT_NUM\" : 0, \"NINETEEN_RIDE_NUM\" : 46850, \"MIDNIGHT_ALIGHT_NUM\" : 92, \"TWENTY_THREE_ALIGHT_NUM\" : 1485, \"FOUR_RIDE_NUM\" : 37, \"TWENTY_RIDE_NUM\" : 38173, \"THIRTEEN_RIDE_NUM\" : 18849, \"SIX_ALIGHT_NUM\" : 21443, \"ELEVEN_ALIGHT_NUM\" : 27989, \"TWENTY_ONE_ALIGHT_NUM\" : 4234, \"SEVENTEEN_ALIGHT_NUM\" : 16611, \"SIXTEEN_ALIGHT_NUM\" : 15593, \"EIGHT_ALIGHT_NUM\" : 167991, \"FOURTEEN_RIDE_NUM\" : 23331, \"SIXTEEN_RIDE_NUM\" : 36116, \"TWENTY_ONE_RIDE_NUM\" : 39048, \"FIFTEEN_ALIGHT_NUM\" : 17869, \"TWELVE_RIDE_NUM\" : 15295, \"SEVENTEEN_RIDE_NUM\" : 66595, \"MIDNIGHT_RIDE_NUM\" : 3, \"EIGHT_RIDE_NUM\" : 7740 }, { \"FOUR_ALIGHT_NUM\" : 1, \"USE_MON\" : \"202106\", \"LINE_NUM\" : \"1호선\", \"FIFTEEN_RIDE_NUM\" : 49745, \"TWENTY_TWO_RIDE_NUM\" : 63653, \"WORK_DT\" : \"20210703\", \"FIVE_ALIGHT_NUM\" : 4354, \"SUB_STA_NM\" : \"종각\", \"FIVE_RIDE_NUM\" : 2314, \"EIGHTEEN_ALIGHT_NUM\" : 39621, \"FOURTEEN_ALIGHT_NUM\" : 33173, \"SEVEN_RIDE_NUM\" : 5479, \"NINETEEN_ALIGHT_NUM\" : 19163, \"TWO_ALIGHT_NUM\" : 0, \"TEN_RIDE_NUM\" : 14727, \"TEN_ALIGHT_NUM\" : 50878, \"TWENTY_ALIGHT_NUM\" : 7386, \"EIGHTEEN_RIDE_NUM\" : 192552, \"TWELVE_ALIGHT_NUM\" : 39830, \"TWENTY_THREE_RIDE_NUM\" : 8153, \"NINE_ALIGHT_NUM\" : 131420, \"THIRTEEN_ALIGHT_NUM\" : 40864, \"NINE_RIDE_NUM\" : 10625, \"ONE_RIDE_NUM\" : 0, \"SIX_RIDE_NUM\" : 2868, \"THREE_RIDE_NUM\" : 0, \"TWENTY_TWO_ALIGHT_NUM\" : 3763, \"TWO_RIDE_NUM\" : 0, \"SEVEN_ALIGHT_NUM\" : 96712, \"THREE_ALIGHT_NUM\" : 0, \"ELEVEN_RIDE_NUM\" : 23057, \"ONE_ALIGHT_NUM\" : 0, \"NINETEEN_RIDE_NUM\" : 78735, \"MIDNIGHT_ALIGHT_NUM\" : 135, \"TWENTY_THREE_ALIGHT_NUM\" : 1675, \"FOUR_RIDE_NUM\" : 127, \"TWENTY_RIDE_NUM\" : 64989, \"THIRTEEN_RIDE_NUM\" : 34538, \"SIX_ALIGHT_NUM\" : 23755, \"ELEVEN_ALIGHT_NUM\" : 44506, \"TWENTY_ONE_ALIGHT_NUM\" : 4790, \"SEVENTEEN_ALIGHT_NUM\" : 33365, \"SIXTEEN_ALIGHT_NUM\" : 29692, \"EIGHT_ALIGHT_NUM\" : 223459, \"FOURTEEN_RIDE_NUM\" : 40378, \"SIXTEEN_RIDE_NUM\" : 58664, \"TWENTY_ONE_RIDE_NUM\" : 81179, \"FIFTEEN_ALIGHT_NUM\" : 29610, \"TWELVE_RIDE_NUM\" : 27707, \"SEVENTEEN_RIDE_NUM\" : 114985, \"MIDNIGHT_RIDE_NUM\" : 21, \"EIGHT_RIDE_NUM\" : 8419 }, { \"FOUR_ALIGHT_NUM\" : 24, \"USE_MON\" : \"202106\", \"LINE_NUM\" : \"1호선\", \"FIFTEEN_RIDE_NUM\" : 53071, \"TWENTY_TWO_RIDE_NUM\" : 47756, \"WORK_DT\" : \"20210703\", \"FIVE_ALIGHT_NUM\" : 3388, \"SUB_STA_NM\" : \"종로3가\", \"FIVE_RIDE_NUM\" : 3227, \"EIGHTEEN_ALIGHT_NUM\" : 33315, \"FOURTEEN_ALIGHT_NUM\" : 46621, \"SEVEN_RIDE_NUM\" : 5108, \"NINETEEN_ALIGHT_NUM\" : 16571, \"TWO_ALIGHT_NUM\" : 0, \"TEN_RIDE_NUM\" : 18502, \"TEN_ALIGHT_NUM\" : 57312, \"TWENTY_ALIGHT_NUM\" : 6332, \"EIGHTEEN_RIDE_NUM\" : 94683, \"TWELVE_ALIGHT_NUM\" : 53678, \"TWENTY_THREE_RIDE_NUM\" : 6768, \"NINE_ALIGHT_NUM\" : 73336, \"THIRTEEN_ALIGHT_NUM\" : 51189, \"NINE_RIDE_NUM\" : 11673, \"ONE_RIDE_NUM\" : 0, \"SIX_RIDE_NUM\" : 3069, \"THREE_RIDE_NUM\" : 0, \"TWENTY_TWO_ALIGHT_NUM\" : 4591, \"TWO_RIDE_NUM\" : 0, \"SEVEN_ALIGHT_NUM\" : 25462, \"THREE_ALIGHT_NUM\" : 0, \"ELEVEN_RIDE_NUM\" : 29882, \"ONE_ALIGHT_NUM\" : 0, \"NINETEEN_RIDE_NUM\" : 55993, \"MIDNIGHT_ALIGHT_NUM\" : 413, \"TWENTY_THREE_ALIGHT_NUM\" : 2318, \"FOUR_RIDE_NUM\" : 191, \"TWENTY_RIDE_NUM\" : 41534, \"THIRTEEN_RIDE_NUM\" : 44050, \"SIX_ALIGHT_NUM\" : 13080, \"ELEVEN_ALIGHT_NUM\" : 55725, \"TWENTY_ONE_ALIGHT_NUM\" : 4938, \"SEVENTEEN_ALIGHT_NUM\" : 31234, \"SIXTEEN_ALIGHT_NUM\" : 34679, \"EIGHT_ALIGHT_NUM\" : 70639, \"FOURTEEN_RIDE_NUM\" : 47626, \"SIXTEEN_RIDE_NUM\" : 56955, \"TWENTY_ONE_RIDE_NUM\" : 51588, \"FIFTEEN_ALIGHT_NUM\" : 40250, \"TWELVE_RIDE_NUM\" : 37009, \"SEVENTEEN_RIDE_NUM\" : 68711, \"MIDNIGHT_RIDE_NUM\" : 25, \"EIGHT_RIDE_NUM\" : 7412 } ], \"RESULT\" : { \"MESSAGE\" : \"정상 처리되었습니다\", \"CODE\" : \"INFO-000\" }, \"list_total_count\" : 608 } }\n",
      "{ \"_id\" : ObjectId(\"61137bf7f5e6e923651418f6\"), \"CardSubwayTime\" : { \"row\" : [ { \"FOUR_ALIGHT_NUM\" : 0, \"USE_MON\" : \"202106\", \"LINE_NUM\" : \"1호선\", \"FIFTEEN_RIDE_NUM\" : 50981, \"TWENTY_TWO_RIDE_NUM\" : 20319, \"WORK_DT\" : \"20210703\", \"FIVE_ALIGHT_NUM\" : 3779, \"SUB_STA_NM\" : \"종로5가\", \"FIVE_RIDE_NUM\" : 1526, \"EIGHTEEN_ALIGHT_NUM\" : 22727, \"FOURTEEN_ALIGHT_NUM\" : 39899, \"SEVEN_RIDE_NUM\" : 4781, \"NINETEEN_ALIGHT_NUM\" : 12621, \"TWO_ALIGHT_NUM\" : 0, \"TEN_RIDE_NUM\" : 18431, \"TEN_ALIGHT_NUM\" : 50987, \"TWENTY_ALIGHT_NUM\" : 5474, \"EIGHTEEN_RIDE_NUM\" : 96880, \"TWELVE_ALIGHT_NUM\" : 47295, \"TWENTY_THREE_RIDE_NUM\" : 2740, \"NINE_ALIGHT_NUM\" : 62717, \"THIRTEEN_ALIGHT_NUM\" : 42416, \"NINE_RIDE_NUM\" : 11525, \"ONE_RIDE_NUM\" : 1, \"SIX_RIDE_NUM\" : 2574, \"THREE_RIDE_NUM\" : 0, \"TWENTY_TWO_ALIGHT_NUM\" : 3607, \"TWO_RIDE_NUM\" : 0, \"SEVEN_ALIGHT_NUM\" : 39423, \"THREE_ALIGHT_NUM\" : 0, \"ELEVEN_RIDE_NUM\" : 27735, \"ONE_ALIGHT_NUM\" : 1, \"NINETEEN_RIDE_NUM\" : 45846, \"MIDNIGHT_ALIGHT_NUM\" : 268, \"TWENTY_THREE_ALIGHT_NUM\" : 1681, \"FOUR_RIDE_NUM\" : 71, \"TWENTY_RIDE_NUM\" : 29493, \"THIRTEEN_RIDE_NUM\" : 40094, \"SIX_ALIGHT_NUM\" : 16992, \"ELEVEN_ALIGHT_NUM\" : 48857, \"TWENTY_ONE_ALIGHT_NUM\" : 4184, \"SEVENTEEN_ALIGHT_NUM\" : 26232, \"SIXTEEN_ALIGHT_NUM\" : 29188, \"EIGHT_ALIGHT_NUM\" : 103060, \"FOURTEEN_RIDE_NUM\" : 46633, \"SIXTEEN_RIDE_NUM\" : 55982, \"TWENTY_ONE_RIDE_NUM\" : 29266, \"FIFTEEN_ALIGHT_NUM\" : 35861, \"TWELVE_RIDE_NUM\" : 34387, \"SEVENTEEN_RIDE_NUM\" : 71386, \"MIDNIGHT_RIDE_NUM\" : 4, \"EIGHT_RIDE_NUM\" : 7414 }, { \"FOUR_ALIGHT_NUM\" : 14, \"USE_MON\" : \"202106\", \"LINE_NUM\" : \"1호선\", \"FIFTEEN_RIDE_NUM\" : 23370, \"TWENTY_TWO_RIDE_NUM\" : 11167, \"WORK_DT\" : \"20210703\", \"FIVE_ALIGHT_NUM\" : 2131, \"SUB_STA_NM\" : \"동대문\", \"FIVE_RIDE_NUM\" : 13235, \"EIGHTEEN_ALIGHT_NUM\" : 18354, \"FOURTEEN_ALIGHT_NUM\" : 19616, \"SEVEN_RIDE_NUM\" : 14776, \"NINETEEN_ALIGHT_NUM\" : 19089, \"TWO_ALIGHT_NUM\" : 0, \"TEN_RIDE_NUM\" : 15988, \"TEN_ALIGHT_NUM\" : 21388, \"TWENTY_ALIGHT_NUM\" : 12789, \"EIGHTEEN_RIDE_NUM\" : 22895, \"TWELVE_ALIGHT_NUM\" : 21732, \"TWENTY_THREE_RIDE_NUM\" : 2811, \"NINE_ALIGHT_NUM\" : 22866, \"THIRTEEN_ALIGHT_NUM\" : 20786, \"NINE_RIDE_NUM\" : 16788, \"ONE_RIDE_NUM\" : 1, \"SIX_RIDE_NUM\" : 8936, \"THREE_RIDE_NUM\" : 0, \"TWENTY_TWO_ALIGHT_NUM\" : 10601, \"TWO_RIDE_NUM\" : 0, \"SEVEN_ALIGHT_NUM\" : 12395, \"THREE_ALIGHT_NUM\" : 0, \"ELEVEN_RIDE_NUM\" : 17257, \"ONE_ALIGHT_NUM\" : 1, \"NINETEEN_RIDE_NUM\" : 15871, \"MIDNIGHT_ALIGHT_NUM\" : 1434, \"TWENTY_THREE_ALIGHT_NUM\" : 8211, \"FOUR_RIDE_NUM\" : 715, \"TWENTY_RIDE_NUM\" : 12693, \"THIRTEEN_RIDE_NUM\" : 21099, \"SIX_ALIGHT_NUM\" : 6979, \"ELEVEN_ALIGHT_NUM\" : 22109, \"TWENTY_ONE_ALIGHT_NUM\" : 10134, \"SEVENTEEN_ALIGHT_NUM\" : 17672, \"SIXTEEN_ALIGHT_NUM\" : 17325, \"EIGHT_ALIGHT_NUM\" : 24732, \"FOURTEEN_RIDE_NUM\" : 22318, \"SIXTEEN_RIDE_NUM\" : 24338, \"TWENTY_ONE_RIDE_NUM\" : 13040, \"FIFTEEN_ALIGHT_NUM\" : 18703, \"TWELVE_RIDE_NUM\" : 20561, \"SEVENTEEN_RIDE_NUM\" : 23923, \"MIDNIGHT_RIDE_NUM\" : 16, \"EIGHT_RIDE_NUM\" : 18660 }, { \"FOUR_ALIGHT_NUM\" : 3, \"USE_MON\" : \"202106\", \"LINE_NUM\" : \"1호선\", \"FIFTEEN_RIDE_NUM\" : 20684, \"TWENTY_TWO_RIDE_NUM\" : 10189, \"WORK_DT\" : \"20210703\", \"FIVE_ALIGHT_NUM\" : 3192, \"SUB_STA_NM\" : \"신설동\", \"FIVE_RIDE_NUM\" : 8150, \"EIGHTEEN_ALIGHT_NUM\" : 25012, \"FOURTEEN_ALIGHT_NUM\" : 16063, \"SEVEN_RIDE_NUM\" : 17021, \"NINETEEN_ALIGHT_NUM\" : 17529, \"TWO_ALIGHT_NUM\" : 0, \"TEN_RIDE_NUM\" : 14689, \"TEN_ALIGHT_NUM\" : 20639, \"TWENTY_ALIGHT_NUM\" : 10932, \"EIGHTEEN_RIDE_NUM\" : 57642, \"TWELVE_ALIGHT_NUM\" : 16913, \"TWENTY_THREE_RIDE_NUM\" : 1952, \"NINE_ALIGHT_NUM\" : 33400, \"THIRTEEN_ALIGHT_NUM\" : 17440, \"NINE_RIDE_NUM\" : 16472, \"ONE_RIDE_NUM\" : 0, \"SIX_RIDE_NUM\" : 8131, \"THREE_RIDE_NUM\" : 0, \"TWENTY_TWO_ALIGHT_NUM\" : 11809, \"TWO_RIDE_NUM\" : 0, \"SEVEN_ALIGHT_NUM\" : 25745, \"THREE_ALIGHT_NUM\" : 0, \"ELEVEN_RIDE_NUM\" : 16427, \"ONE_ALIGHT_NUM\" : 0, \"NINETEEN_RIDE_NUM\" : 20823, \"MIDNIGHT_ALIGHT_NUM\" : 449, \"TWENTY_THREE_ALIGHT_NUM\" : 5451, \"FOUR_RIDE_NUM\" : 343, \"TWENTY_RIDE_NUM\" : 13880, \"THIRTEEN_RIDE_NUM\" : 19712, \"SIX_ALIGHT_NUM\" : 10929, \"ELEVEN_ALIGHT_NUM\" : 17238, \"TWENTY_ONE_ALIGHT_NUM\" : 10102, \"SEVENTEEN_ALIGHT_NUM\" : 20038, \"SIXTEEN_ALIGHT_NUM\" : 17481, \"EIGHT_ALIGHT_NUM\" : 62999, \"FOURTEEN_RIDE_NUM\" : 19363, \"SIXTEEN_RIDE_NUM\" : 28784, \"TWENTY_ONE_RIDE_NUM\" : 13378, \"FIFTEEN_ALIGHT_NUM\" : 16772, \"TWELVE_RIDE_NUM\" : 17625, \"SEVENTEEN_RIDE_NUM\" : 39357, \"MIDNIGHT_RIDE_NUM\" : 10, \"EIGHT_RIDE_NUM\" : 24583 }, { \"FOUR_ALIGHT_NUM\" : 3, \"USE_MON\" : \"202106\", \"LINE_NUM\" : \"1호선\", \"FIFTEEN_RIDE_NUM\" : 39042, \"TWENTY_TWO_RIDE_NUM\" : 7253, \"WORK_DT\" : \"20210703\", \"FIVE_ALIGHT_NUM\" : 2150, \"SUB_STA_NM\" : \"제기동\", \"FIVE_RIDE_NUM\" : 5020, \"EIGHTEEN_ALIGHT_NUM\" : 26182, \"FOURTEEN_ALIGHT_NUM\" : 38060, \"SEVEN_RIDE_NUM\" : 21818, \"NINETEEN_ALIGHT_NUM\" : 17773, \"TWO_ALIGHT_NUM\" : 0, \"TEN_RIDE_NUM\" : 25534, \"TEN_ALIGHT_NUM\" : 39572, \"TWENTY_ALIGHT_NUM\" : 11211, \"EIGHTEEN_RIDE_NUM\" : 37172, \"TWELVE_ALIGHT_NUM\" : 36944, \"TWENTY_THREE_RIDE_NUM\" : 2042, \"NINE_ALIGHT_NUM\" : 37145, \"THIRTEEN_ALIGHT_NUM\" : 36302, \"NINE_RIDE_NUM\" : 22254, \"ONE_RIDE_NUM\" : 0, \"SIX_RIDE_NUM\" : 8625, \"THREE_RIDE_NUM\" : 0, \"TWENTY_TWO_ALIGHT_NUM\" : 11830, \"TWO_RIDE_NUM\" : 1, \"SEVEN_ALIGHT_NUM\" : 18800, \"THREE_ALIGHT_NUM\" : 0, \"ELEVEN_RIDE_NUM\" : 33701, \"ONE_ALIGHT_NUM\" : 0, \"NINETEEN_RIDE_NUM\" : 16542, \"MIDNIGHT_ALIGHT_NUM\" : 408, \"TWENTY_THREE_ALIGHT_NUM\" : 4844, \"FOUR_RIDE_NUM\" : 360, \"TWENTY_RIDE_NUM\" : 10447, \"THIRTEEN_RIDE_NUM\" : 37913, \"SIX_ALIGHT_NUM\" : 9488, \"ELEVEN_ALIGHT_NUM\" : 40192, \"TWENTY_ONE_ALIGHT_NUM\" : 10198, \"SEVENTEEN_ALIGHT_NUM\" : 23319, \"SIXTEEN_ALIGHT_NUM\" : 29316, \"EIGHT_ALIGHT_NUM\" : 42110, \"FOURTEEN_RIDE_NUM\" : 38816, \"SIXTEEN_RIDE_NUM\" : 36805, \"TWENTY_ONE_RIDE_NUM\" : 8822, \"FIFTEEN_ALIGHT_NUM\" : 34744, \"TWELVE_RIDE_NUM\" : 37380, \"SEVENTEEN_RIDE_NUM\" : 38480, \"MIDNIGHT_RIDE_NUM\" : 8, \"EIGHT_RIDE_NUM\" : 31428 }, { \"FOUR_ALIGHT_NUM\" : 17, \"USE_MON\" : \"202106\", \"LINE_NUM\" : \"1호선\", \"FIFTEEN_RIDE_NUM\" : 41308, \"TWENTY_TWO_RIDE_NUM\" : 9007, \"WORK_DT\" : \"20210703\", \"FIVE_ALIGHT_NUM\" : 4752, \"SUB_STA_NM\" : \"청량리(서울시립대입구)\", \"FIVE_RIDE_NUM\" : 10556, \"EIGHTEEN_ALIGHT_NUM\" : 46814, \"FOURTEEN_ALIGHT_NUM\" : 41488, \"SEVEN_RIDE_NUM\" : 36398, \"NINETEEN_ALIGHT_NUM\" : 31284, \"TWO_ALIGHT_NUM\" : 0, \"TEN_RIDE_NUM\" : 30325, \"TEN_ALIGHT_NUM\" : 34593, \"TWENTY_ALIGHT_NUM\" : 17867, \"EIGHTEEN_RIDE_NUM\" : 41132, \"TWELVE_ALIGHT_NUM\" : 38152, \"TWENTY_THREE_RIDE_NUM\" : 2199, \"NINE_ALIGHT_NUM\" : 33651, \"THIRTEEN_ALIGHT_NUM\" : 37161, \"NINE_RIDE_NUM\" : 30993, \"ONE_RIDE_NUM\" : 1, \"SIX_RIDE_NUM\" : 14555, \"THREE_RIDE_NUM\" : 0, \"TWENTY_TWO_ALIGHT_NUM\" : 17875, \"TWO_RIDE_NUM\" : 0, \"SEVEN_ALIGHT_NUM\" : 18127, \"THREE_ALIGHT_NUM\" : 0, \"ELEVEN_RIDE_NUM\" : 32895, \"ONE_ALIGHT_NUM\" : 0, \"NINETEEN_RIDE_NUM\" : 22408, \"MIDNIGHT_ALIGHT_NUM\" : 784, \"TWENTY_THREE_ALIGHT_NUM\" : 7010, \"FOUR_RIDE_NUM\" : 1114, \"TWENTY_RIDE_NUM\" : 16802, \"THIRTEEN_RIDE_NUM\" : 37957, \"SIX_ALIGHT_NUM\" : 20601, \"ELEVEN_ALIGHT_NUM\" : 36922, \"TWENTY_ONE_ALIGHT_NUM\" : 16739, \"SEVENTEEN_ALIGHT_NUM\" : 37535, \"SIXTEEN_ALIGHT_NUM\" : 37625, \"EIGHT_ALIGHT_NUM\" : 36112, \"FOURTEEN_RIDE_NUM\" : 38453, \"SIXTEEN_RIDE_NUM\" : 48019, \"TWENTY_ONE_RIDE_NUM\" : 13163, \"FIFTEEN_ALIGHT_NUM\" : 40046, \"TWELVE_RIDE_NUM\" : 36644, \"SEVENTEEN_RIDE_NUM\" : 45267, \"MIDNIGHT_RIDE_NUM\" : 15, \"EIGHT_RIDE_NUM\" : 44314 } ], \"RESULT\" : { \"MESSAGE\" : \"정상 처리되었습니다\", \"CODE\" : \"INFO-000\" }, \"list_total_count\" : 608 } }\n",
      "{ \"_id\" : ObjectId(\"61137bf7f5e6e923651418f7\"), \"CardSubwayTime\" : { \"row\" : [ { \"FOUR_ALIGHT_NUM\" : 1, \"USE_MON\" : \"202106\", \"LINE_NUM\" : \"2호선\", \"FIFTEEN_RIDE_NUM\" : 30010, \"TWENTY_TWO_RIDE_NUM\" : 25529, \"WORK_DT\" : \"20210703\", \"FIVE_ALIGHT_NUM\" : 1763, \"SUB_STA_NM\" : \"시청\", \"FIVE_RIDE_NUM\" : 842, \"EIGHTEEN_ALIGHT_NUM\" : 15107, \"FOURTEEN_ALIGHT_NUM\" : 17294, \"SEVEN_RIDE_NUM\" : 4613, \"NINETEEN_ALIGHT_NUM\" : 7260, \"TWO_ALIGHT_NUM\" : 0, \"TEN_RIDE_NUM\" : 11360, \"TEN_ALIGHT_NUM\" : 22797, \"TWENTY_ALIGHT_NUM\" : 3595, \"EIGHTEEN_RIDE_NUM\" : 161483, \"TWELVE_ALIGHT_NUM\" : 18897, \"TWENTY_THREE_RIDE_NUM\" : 3207, \"NINE_ALIGHT_NUM\" : 77430, \"THIRTEEN_ALIGHT_NUM\" : 20182, \"NINE_RIDE_NUM\" : 8802, \"ONE_RIDE_NUM\" : 0, \"SIX_RIDE_NUM\" : 1860, \"THREE_RIDE_NUM\" : 0, \"TWENTY_TWO_ALIGHT_NUM\" : 3849, \"TWO_RIDE_NUM\" : 0, \"SEVEN_ALIGHT_NUM\" : 64814, \"THREE_ALIGHT_NUM\" : 0, \"ELEVEN_RIDE_NUM\" : 16922, \"ONE_ALIGHT_NUM\" : 1, \"NINETEEN_RIDE_NUM\" : 49943, \"MIDNIGHT_ALIGHT_NUM\" : 59, \"TWENTY_THREE_ALIGHT_NUM\" : 1524, \"FOUR_RIDE_NUM\" : 14, \"TWENTY_RIDE_NUM\" : 34005, \"THIRTEEN_RIDE_NUM\" : 21198, \"SIX_ALIGHT_NUM\" : 14975, \"ELEVEN_ALIGHT_NUM\" : 19360, \"TWENTY_ONE_ALIGHT_NUM\" : 3606, \"SEVENTEEN_ALIGHT_NUM\" : 14559, \"SIXTEEN_ALIGHT_NUM\" : 13175, \"EIGHT_ALIGHT_NUM\" : 200414, \"FOURTEEN_RIDE_NUM\" : 25371, \"SIXTEEN_RIDE_NUM\" : 35093, \"TWENTY_ONE_RIDE_NUM\" : 34984, \"FIFTEEN_ALIGHT_NUM\" : 15601, \"TWELVE_RIDE_NUM\" : 17020, \"SEVENTEEN_RIDE_NUM\" : 75625, \"MIDNIGHT_RIDE_NUM\" : 1, \"EIGHT_RIDE_NUM\" : 6633 }, { \"FOUR_ALIGHT_NUM\" : 3, \"USE_MON\" : \"202106\", \"LINE_NUM\" : \"2호선\", \"FIFTEEN_RIDE_NUM\" : 54603, \"TWENTY_TWO_RIDE_NUM\" : 45993, \"WORK_DT\" : \"20210703\", \"FIVE_ALIGHT_NUM\" : 2012, \"SUB_STA_NM\" : \"을지로입구\", \"FIVE_RIDE_NUM\" : 1704, \"EIGHTEEN_ALIGHT_NUM\" : 39521, \"FOURTEEN_ALIGHT_NUM\" : 35619, \"SEVEN_RIDE_NUM\" : 7675, \"NINETEEN_ALIGHT_NUM\" : 19653, \"TWO_ALIGHT_NUM\" : 0, \"TEN_RIDE_NUM\" : 16743, \"TEN_ALIGHT_NUM\" : 58638, \"TWENTY_ALIGHT_NUM\" : 10659, \"EIGHTEEN_RIDE_NUM\" : 239134, \"TWELVE_ALIGHT_NUM\" : 41996, \"TWENTY_THREE_RIDE_NUM\" : 6249, \"NINE_ALIGHT_NUM\" : 135503, \"THIRTEEN_ALIGHT_NUM\" : 41126, \"NINE_RIDE_NUM\" : 13992, \"ONE_RIDE_NUM\" : 0, \"SIX_RIDE_NUM\" : 2899, \"THREE_RIDE_NUM\" : 0, \"TWENTY_TWO_ALIGHT_NUM\" : 11575, \"TWO_RIDE_NUM\" : 0, \"SEVEN_ALIGHT_NUM\" : 117998, \"THREE_ALIGHT_NUM\" : 0, \"ELEVEN_RIDE_NUM\" : 25033, \"ONE_ALIGHT_NUM\" : 0, \"NINETEEN_RIDE_NUM\" : 92855, \"MIDNIGHT_ALIGHT_NUM\" : 1586, \"TWENTY_THREE_ALIGHT_NUM\" : 3586, \"FOUR_RIDE_NUM\" : 64, \"TWENTY_RIDE_NUM\" : 80662, \"THIRTEEN_RIDE_NUM\" : 40023, \"SIX_ALIGHT_NUM\" : 28884, \"ELEVEN_ALIGHT_NUM\" : 49654, \"TWENTY_ONE_ALIGHT_NUM\" : 10478, \"SEVENTEEN_ALIGHT_NUM\" : 34407, \"SIXTEEN_ALIGHT_NUM\" : 31408, \"EIGHT_ALIGHT_NUM\" : 291410, \"FOURTEEN_RIDE_NUM\" : 45420, \"SIXTEEN_RIDE_NUM\" : 66615, \"TWENTY_ONE_RIDE_NUM\" : 56892, \"FIFTEEN_ALIGHT_NUM\" : 31053, \"TWELVE_RIDE_NUM\" : 30391, \"SEVENTEEN_RIDE_NUM\" : 137169, \"MIDNIGHT_RIDE_NUM\" : 4, \"EIGHT_RIDE_NUM\" : 13246 }, { \"FOUR_ALIGHT_NUM\" : 1, \"USE_MON\" : \"202106\", \"LINE_NUM\" : \"2호선\", \"FIFTEEN_RIDE_NUM\" : 27235, \"TWENTY_TWO_RIDE_NUM\" : 45271, \"WORK_DT\" : \"20210703\", \"FIVE_ALIGHT_NUM\" : 1683, \"SUB_STA_NM\" : \"을지로3가\", \"FIVE_RIDE_NUM\" : 911, \"EIGHTEEN_ALIGHT_NUM\" : 30721, \"FOURTEEN_ALIGHT_NUM\" : 21648, \"SEVEN_RIDE_NUM\" : 5137, \"NINETEEN_ALIGHT_NUM\" : 15190, \"TWO_ALIGHT_NUM\" : 0, \"TEN_RIDE_NUM\" : 11150, \"TEN_ALIGHT_NUM\" : 28314, \"TWENTY_ALIGHT_NUM\" : 6682, \"EIGHTEEN_RIDE_NUM\" : 128972, \"TWELVE_ALIGHT_NUM\" : 21996, \"TWENTY_THREE_RIDE_NUM\" : 5310, \"NINE_ALIGHT_NUM\" : 66142, \"THIRTEEN_ALIGHT_NUM\" : 23968, \"NINE_RIDE_NUM\" : 9900, \"ONE_RIDE_NUM\" : 0, \"SIX_RIDE_NUM\" : 1978, \"THREE_RIDE_NUM\" : 0, \"TWENTY_TWO_ALIGHT_NUM\" : 5662, \"TWO_RIDE_NUM\" : 0, \"SEVEN_ALIGHT_NUM\" : 64623, \"THREE_ALIGHT_NUM\" : 0, \"ELEVEN_RIDE_NUM\" : 15465, \"ONE_ALIGHT_NUM\" : 0, \"NINETEEN_RIDE_NUM\" : 49903, \"MIDNIGHT_ALIGHT_NUM\" : 179, \"TWENTY_THREE_ALIGHT_NUM\" : 1908, \"FOUR_RIDE_NUM\" : 9, \"TWENTY_RIDE_NUM\" : 34156, \"THIRTEEN_RIDE_NUM\" : 20753, \"SIX_ALIGHT_NUM\" : 18284, \"ELEVEN_ALIGHT_NUM\" : 22983, \"TWENTY_ONE_ALIGHT_NUM\" : 5165, \"SEVENTEEN_ALIGHT_NUM\" : 25618, \"SIXTEEN_ALIGHT_NUM\" : 21667, \"EIGHT_ALIGHT_NUM\" : 153068, \"FOURTEEN_RIDE_NUM\" : 23742, \"SIXTEEN_RIDE_NUM\" : 34568, \"TWENTY_ONE_RIDE_NUM\" : 45363, \"FIFTEEN_ALIGHT_NUM\" : 19893, \"TWELVE_RIDE_NUM\" : 17546, \"SEVENTEEN_RIDE_NUM\" : 73521, \"MIDNIGHT_RIDE_NUM\" : 2, \"EIGHT_RIDE_NUM\" : 8881 }, { \"FOUR_ALIGHT_NUM\" : 0, \"USE_MON\" : \"202106\", \"LINE_NUM\" : \"2호선\", \"FIFTEEN_RIDE_NUM\" : 21799, \"TWENTY_TWO_RIDE_NUM\" : 11588, \"WORK_DT\" : \"20210703\", \"FIVE_ALIGHT_NUM\" : 1253, \"SUB_STA_NM\" : \"을지로4가\", \"FIVE_RIDE_NUM\" : 945, \"EIGHTEEN_ALIGHT_NUM\" : 11436, \"FOURTEEN_ALIGHT_NUM\" : 15888, \"SEVEN_RIDE_NUM\" : 3094, \"NINETEEN_ALIGHT_NUM\" : 5982, \"TWO_ALIGHT_NUM\" : 0, \"TEN_RIDE_NUM\" : 8712, \"TEN_ALIGHT_NUM\" : 21851, \"TWENTY_ALIGHT_NUM\" : 2993, \"EIGHTEEN_RIDE_NUM\" : 69279, \"TWELVE_ALIGHT_NUM\" : 17415, \"TWENTY_THREE_RIDE_NUM\" : 2086, \"NINE_ALIGHT_NUM\" : 40328, \"THIRTEEN_ALIGHT_NUM\" : 17100, \"NINE_RIDE_NUM\" : 6472, \"ONE_RIDE_NUM\" : 1, \"SIX_RIDE_NUM\" : 1506, \"THREE_RIDE_NUM\" : 0, \"TWENTY_TWO_ALIGHT_NUM\" : 3402, \"TWO_RIDE_NUM\" : 0, \"SEVEN_ALIGHT_NUM\" : 33019, \"THREE_ALIGHT_NUM\" : 0, \"ELEVEN_RIDE_NUM\" : 11935, \"ONE_ALIGHT_NUM\" : 0, \"NINETEEN_RIDE_NUM\" : 29431, \"MIDNIGHT_ALIGHT_NUM\" : 108, \"TWENTY_THREE_ALIGHT_NUM\" : 1294, \"FOUR_RIDE_NUM\" : 5, \"TWENTY_RIDE_NUM\" : 15595, \"THIRTEEN_RIDE_NUM\" : 16034, \"SIX_ALIGHT_NUM\" : 13007, \"ELEVEN_ALIGHT_NUM\" : 19888, \"TWENTY_ONE_ALIGHT_NUM\" : 2915, \"SEVENTEEN_ALIGHT_NUM\" : 11832, \"SIXTEEN_ALIGHT_NUM\" : 12718, \"EIGHT_ALIGHT_NUM\" : 78686, \"FOURTEEN_RIDE_NUM\" : 18706, \"SIXTEEN_RIDE_NUM\" : 25795, \"TWENTY_ONE_RIDE_NUM\" : 13658, \"FIFTEEN_ALIGHT_NUM\" : 14165, \"TWELVE_RIDE_NUM\" : 14213, \"SEVENTEEN_RIDE_NUM\" : 50671, \"MIDNIGHT_RIDE_NUM\" : 2, \"EIGHT_RIDE_NUM\" : 5920 }, { \"FOUR_ALIGHT_NUM\" : 5, \"USE_MON\" : \"202106\", \"LINE_NUM\" : \"2호선\", \"FIFTEEN_RIDE_NUM\" : 25306, \"TWENTY_TWO_RIDE_NUM\" : 14614, \"WORK_DT\" : \"20210703\", \"FIVE_ALIGHT_NUM\" : 1096, \"SUB_STA_NM\" : \"동대문역사문화공원(DDP)\", \"FIVE_RIDE_NUM\" : 6338, \"EIGHTEEN_ALIGHT_NUM\" : 19893, \"FOURTEEN_ALIGHT_NUM\" : 20831, \"SEVEN_RIDE_NUM\" : 6190, \"NINETEEN_ALIGHT_NUM\" : 20875, \"TWO_ALIGHT_NUM\" : 0, \"TEN_RIDE_NUM\" : 10107, \"TEN_ALIGHT_NUM\" : 23521, \"TWENTY_ALIGHT_NUM\" : 13169, \"EIGHTEEN_RIDE_NUM\" : 40202, \"TWELVE_ALIGHT_NUM\" : 21251, \"TWENTY_THREE_RIDE_NUM\" : 4046, \"NINE_ALIGHT_NUM\" : 29711, \"THIRTEEN_ALIGHT_NUM\" : 21216, \"NINE_RIDE_NUM\" : 9118, \"ONE_RIDE_NUM\" : 0, \"SIX_RIDE_NUM\" : 4462, \"THREE_RIDE_NUM\" : 0, \"TWENTY_TWO_ALIGHT_NUM\" : 10220, \"TWO_RIDE_NUM\" : 0, \"SEVEN_ALIGHT_NUM\" : 23936, \"THREE_ALIGHT_NUM\" : 0, \"ELEVEN_RIDE_NUM\" : 13110, \"ONE_ALIGHT_NUM\" : 0, \"NINETEEN_RIDE_NUM\" : 23199, \"MIDNIGHT_ALIGHT_NUM\" : 362, \"TWENTY_THREE_ALIGHT_NUM\" : 5848, \"FOUR_RIDE_NUM\" : 334, \"TWENTY_RIDE_NUM\" : 17109, \"THIRTEEN_RIDE_NUM\" : 16607, \"SIX_ALIGHT_NUM\" : 7728, \"ELEVEN_ALIGHT_NUM\" : 24484, \"TWENTY_ONE_ALIGHT_NUM\" : 10321, \"SEVENTEEN_ALIGHT_NUM\" : 17178, \"SIXTEEN_ALIGHT_NUM\" : 16448, \"EIGHT_ALIGHT_NUM\" : 50285, \"FOURTEEN_RIDE_NUM\" : 19514, \"SIXTEEN_RIDE_NUM\" : 30356, \"TWENTY_ONE_RIDE_NUM\" : 19484, \"FIFTEEN_ALIGHT_NUM\" : 18746, \"TWELVE_RIDE_NUM\" : 15181, \"SEVENTEEN_RIDE_NUM\" : 36618, \"MIDNIGHT_RIDE_NUM\" : 3, \"EIGHT_RIDE_NUM\" : 9136 } ], \"RESULT\" : { \"MESSAGE\" : \"정상 처리되었습니다\", \"CODE\" : \"INFO-000\" }, \"list_total_count\" : 608 } }\n",
      "{ \"_id\" : ObjectId(\"61137bf7f5e6e923651418f8\"), \"CardSubwayTime\" : { \"row\" : [ { \"FOUR_ALIGHT_NUM\" : 9, \"USE_MON\" : \"202106\", \"LINE_NUM\" : \"2호선\", \"FIFTEEN_RIDE_NUM\" : 20177, \"TWENTY_TWO_RIDE_NUM\" : 12814, \"WORK_DT\" : \"20210703\", \"FIVE_ALIGHT_NUM\" : 1100, \"SUB_STA_NM\" : \"신당\", \"FIVE_RIDE_NUM\" : 6188, \"EIGHTEEN_ALIGHT_NUM\" : 43357, \"FOURTEEN_ALIGHT_NUM\" : 19319, \"SEVEN_RIDE_NUM\" : 26362, \"NINETEEN_ALIGHT_NUM\" : 28683, \"TWO_ALIGHT_NUM\" : 0, \"TEN_RIDE_NUM\" : 17394, \"TEN_ALIGHT_NUM\" : 17831, \"TWENTY_ALIGHT_NUM\" : 17106, \"EIGHTEEN_RIDE_NUM\" : 32669, \"TWELVE_ALIGHT_NUM\" : 18159, \"TWENTY_THREE_RIDE_NUM\" : 2756, \"NINE_ALIGHT_NUM\" : 22571, \"THIRTEEN_ALIGHT_NUM\" : 19021, \"NINE_RIDE_NUM\" : 24992, \"ONE_RIDE_NUM\" : 0, \"SIX_RIDE_NUM\" : 11533, \"THREE_RIDE_NUM\" : 0, \"TWENTY_TWO_ALIGHT_NUM\" : 19595, \"TWO_RIDE_NUM\" : 0, \"SEVEN_ALIGHT_NUM\" : 17028, \"THREE_ALIGHT_NUM\" : 0, \"ELEVEN_RIDE_NUM\" : 16546, \"ONE_ALIGHT_NUM\" : 0, \"NINETEEN_RIDE_NUM\" : 20439, \"MIDNIGHT_ALIGHT_NUM\" : 77, \"TWENTY_THREE_ALIGHT_NUM\" : 7887, \"FOUR_RIDE_NUM\" : 24, \"TWENTY_RIDE_NUM\" : 14612, \"THIRTEEN_RIDE_NUM\" : 19597, \"SIX_ALIGHT_NUM\" : 8661, \"ELEVEN_ALIGHT_NUM\" : 17917, \"TWENTY_ONE_ALIGHT_NUM\" : 16686, \"SEVENTEEN_ALIGHT_NUM\" : 29700, \"SIXTEEN_ALIGHT_NUM\" : 23956, \"EIGHT_ALIGHT_NUM\" : 34245, \"FOURTEEN_RIDE_NUM\" : 19514, \"SIXTEEN_RIDE_NUM\" : 23189, \"TWENTY_ONE_RIDE_NUM\" : 13856, \"FIFTEEN_ALIGHT_NUM\" : 20659, \"TWELVE_RIDE_NUM\" : 18555, \"SEVENTEEN_RIDE_NUM\" : 27424, \"MIDNIGHT_RIDE_NUM\" : 1, \"EIGHT_RIDE_NUM\" : 41840 }, { \"FOUR_ALIGHT_NUM\" : 8, \"USE_MON\" : \"202106\", \"LINE_NUM\" : \"2호선\", \"FIFTEEN_RIDE_NUM\" : 18753, \"TWENTY_TWO_RIDE_NUM\" : 8229, \"WORK_DT\" : \"20210703\", \"FIVE_ALIGHT_NUM\" : 539, \"SUB_STA_NM\" : \"상왕십리\", \"FIVE_RIDE_NUM\" : 5331, \"EIGHTEEN_ALIGHT_NUM\" : 48281, \"FOURTEEN_ALIGHT_NUM\" : 16194, \"SEVEN_RIDE_NUM\" : 38398, \"NINETEEN_ALIGHT_NUM\" : 32969, \"TWO_ALIGHT_NUM\" : 0, \"TEN_RIDE_NUM\" : 19804, \"TEN_ALIGHT_NUM\" : 13366, \"TWENTY_ALIGHT_NUM\" : 20006, \"EIGHTEEN_RIDE_NUM\" : 28805, \"TWELVE_ALIGHT_NUM\" : 14145, \"TWENTY_THREE_RIDE_NUM\" : 1724, \"NINE_ALIGHT_NUM\" : 20006, \"THIRTEEN_ALIGHT_NUM\" : 15188, \"NINE_RIDE_NUM\" : 32021, \"ONE_RIDE_NUM\" : 0, \"SIX_RIDE_NUM\" : 13243, \"THREE_RIDE_NUM\" : 0, \"TWENTY_TWO_ALIGHT_NUM\" : 22933, \"TWO_RIDE_NUM\" : 0, \"SEVEN_ALIGHT_NUM\" : 12466, \"THREE_ALIGHT_NUM\" : 0, \"ELEVEN_RIDE_NUM\" : 17833, \"ONE_ALIGHT_NUM\" : 0, \"NINETEEN_RIDE_NUM\" : 17223, \"MIDNIGHT_ALIGHT_NUM\" : 0, \"TWENTY_THREE_ALIGHT_NUM\" : 9274, \"FOUR_RIDE_NUM\" : 84, \"TWENTY_RIDE_NUM\" : 11409, \"THIRTEEN_RIDE_NUM\" : 18445, \"SIX_ALIGHT_NUM\" : 5660, \"ELEVEN_ALIGHT_NUM\" : 11743, \"TWENTY_ONE_ALIGHT_NUM\" : 19694, \"SEVENTEEN_ALIGHT_NUM\" : 30658, \"SIXTEEN_ALIGHT_NUM\" : 21316, \"EIGHT_ALIGHT_NUM\" : 35889, \"FOURTEEN_RIDE_NUM\" : 16887, \"SIXTEEN_RIDE_NUM\" : 19027, \"TWENTY_ONE_RIDE_NUM\" : 10593, \"FIFTEEN_ALIGHT_NUM\" : 17704, \"TWELVE_RIDE_NUM\" : 18591, \"SEVENTEEN_RIDE_NUM\" : 23583, \"MIDNIGHT_RIDE_NUM\" : 0, \"EIGHT_RIDE_NUM\" : 59728 }, { \"FOUR_ALIGHT_NUM\" : 2, \"USE_MON\" : \"202106\", \"LINE_NUM\" : \"2호선\", \"FIFTEEN_RIDE_NUM\" : 22655, \"TWENTY_TWO_RIDE_NUM\" : 28512, \"WORK_DT\" : \"20210703\", \"FIVE_ALIGHT_NUM\" : 837, \"SUB_STA_NM\" : \"왕십리(성동구청)\", \"FIVE_RIDE_NUM\" : 6955, \"EIGHTEEN_ALIGHT_NUM\" : 50912, \"FOURTEEN_ALIGHT_NUM\" : 17282, \"SEVEN_RIDE_NUM\" : 25284, \"NINETEEN_ALIGHT_NUM\" : 30974, \"TWO_ALIGHT_NUM\" : 0, \"TEN_RIDE_NUM\" : 17938, \"TEN_ALIGHT_NUM\" : 13460, \"TWENTY_ALIGHT_NUM\" : 17022, \"EIGHTEEN_RIDE_NUM\" : 35785, \"TWELVE_ALIGHT_NUM\" : 16111, \"TWENTY_THREE_RIDE_NUM\" : 4941, \"NINE_ALIGHT_NUM\" : 17432, \"THIRTEEN_ALIGHT_NUM\" : 16983, \"NINE_RIDE_NUM\" : 26985, \"ONE_RIDE_NUM\" : 0, \"SIX_RIDE_NUM\" : 9989, \"THREE_RIDE_NUM\" : 0, \"TWENTY_TWO_ALIGHT_NUM\" : 19954, \"TWO_RIDE_NUM\" : 0, \"SEVEN_ALIGHT_NUM\" : 12493, \"THREE_ALIGHT_NUM\" : 0, \"ELEVEN_RIDE_NUM\" : 18453, \"ONE_ALIGHT_NUM\" : 0, \"NINETEEN_RIDE_NUM\" : 21457, \"MIDNIGHT_ALIGHT_NUM\" : 78, \"TWENTY_THREE_ALIGHT_NUM\" : 8312, \"FOUR_RIDE_NUM\" : 874, \"TWENTY_RIDE_NUM\" : 19821, \"THIRTEEN_RIDE_NUM\" : 20986, \"SIX_ALIGHT_NUM\" : 5418, \"ELEVEN_ALIGHT_NUM\" : 13426, \"TWENTY_ONE_ALIGHT_NUM\" : 15214, \"SEVENTEEN_ALIGHT_NUM\" : 30741, \"SIXTEEN_ALIGHT_NUM\" : 21875, \"EIGHT_ALIGHT_NUM\" : 26959, \"FOURTEEN_RIDE_NUM\" : 20633, \"SIXTEEN_RIDE_NUM\" : 28445, \"TWENTY_ONE_RIDE_NUM\" : 26754, \"FIFTEEN_ALIGHT_NUM\" : 18201, \"TWELVE_RIDE_NUM\" : 20015, \"SEVENTEEN_RIDE_NUM\" : 32917, \"MIDNIGHT_RIDE_NUM\" : 11, \"EIGHT_RIDE_NUM\" : 43964 }, { \"FOUR_ALIGHT_NUM\" : 3, \"USE_MON\" : \"202106\", \"LINE_NUM\" : \"2호선\", \"FIFTEEN_RIDE_NUM\" : 14208, \"TWENTY_TWO_RIDE_NUM\" : 9117, \"WORK_DT\" : \"20210703\", \"FIVE_ALIGHT_NUM\" : 230, \"SUB_STA_NM\" : \"한양대\", \"FIVE_RIDE_NUM\" : 976, \"EIGHTEEN_ALIGHT_NUM\" : 9915, \"FOURTEEN_ALIGHT_NUM\" : 12803, \"SEVEN_RIDE_NUM\" : 4958, \"NINETEEN_ALIGHT_NUM\" : 6024, \"TWO_ALIGHT_NUM\" : 0, \"TEN_RIDE_NUM\" : 6244, \"TEN_ALIGHT_NUM\" : 20031, \"TWENTY_ALIGHT_NUM\" : 4242, \"EIGHTEEN_RIDE_NUM\" : 27398, \"TWELVE_ALIGHT_NUM\" : 15402, \"TWENTY_THREE_RIDE_NUM\" : 3269, \"NINE_ALIGHT_NUM\" : 33641, \"THIRTEEN_ALIGHT_NUM\" : 15664, \"NINE_RIDE_NUM\" : 6480, \"ONE_RIDE_NUM\" : 1, \"SIX_RIDE_NUM\" : 2194, \"THREE_RIDE_NUM\" : 0, \"TWENTY_TWO_ALIGHT_NUM\" : 5339, \"TWO_RIDE_NUM\" : 0, \"SEVEN_ALIGHT_NUM\" : 12003, \"THREE_ALIGHT_NUM\" : 0, \"ELEVEN_RIDE_NUM\" : 8340, \"ONE_ALIGHT_NUM\" : 0, \"NINETEEN_RIDE_NUM\" : 13176, \"MIDNIGHT_ALIGHT_NUM\" : 4, \"TWENTY_THREE_ALIGHT_NUM\" : 2364, \"FOUR_RIDE_NUM\" : 10, \"TWENTY_RIDE_NUM\" : 10124, \"THIRTEEN_RIDE_NUM\" : 11031, \"SIX_ALIGHT_NUM\" : 5599, \"ELEVEN_ALIGHT_NUM\" : 12237, \"TWENTY_ONE_ALIGHT_NUM\" : 4434, \"SEVENTEEN_ALIGHT_NUM\" : 9074, \"SIXTEEN_ALIGHT_NUM\" : 7981, \"EIGHT_ALIGHT_NUM\" : 37892, \"FOURTEEN_RIDE_NUM\" : 12347, \"SIXTEEN_RIDE_NUM\" : 19883, \"TWENTY_ONE_RIDE_NUM\" : 10249, \"FIFTEEN_ALIGHT_NUM\" : 8989, \"TWELVE_RIDE_NUM\" : 9617, \"SEVENTEEN_RIDE_NUM\" : 30475, \"MIDNIGHT_RIDE_NUM\" : 1, \"EIGHT_RIDE_NUM\" : 8237 }, { \"FOUR_ALIGHT_NUM\" : 0, \"USE_MON\" : \"202106\", \"LINE_NUM\" : \"4호선\", \"FIFTEEN_RIDE_NUM\" : 6226, \"TWENTY_TWO_RIDE_NUM\" : 7817, \"WORK_DT\" : \"20210703\", \"FIVE_ALIGHT_NUM\" : 299, \"SUB_STA_NM\" : \"삼각지\", \"FIVE_RIDE_NUM\" : 727, \"EIGHTEEN_ALIGHT_NUM\" : 15130, \"FOURTEEN_ALIGHT_NUM\" : 6359, \"SEVEN_RIDE_NUM\" : 6410, \"NINETEEN_ALIGHT_NUM\" : 9632, \"TWO_ALIGHT_NUM\" : 0, \"TEN_RIDE_NUM\" : 4270, \"TEN_ALIGHT_NUM\" : 7072, \"TWENTY_ALIGHT_NUM\" : 5287, \"EIGHTEEN_RIDE_NUM\" : 22539, \"TWELVE_ALIGHT_NUM\" : 7026, \"TWENTY_THREE_RIDE_NUM\" : 1092, \"NINE_ALIGHT_NUM\" : 10119, \"THIRTEEN_ALIGHT_NUM\" : 6710, \"NINE_RIDE_NUM\" : 5748, \"ONE_RIDE_NUM\" : 0, \"SIX_RIDE_NUM\" : 2406, \"THREE_RIDE_NUM\" : 0, \"TWENTY_TWO_ALIGHT_NUM\" : 6091, \"TWO_RIDE_NUM\" : 0, \"SEVEN_ALIGHT_NUM\" : 10731, \"THREE_ALIGHT_NUM\" : 0, \"ELEVEN_RIDE_NUM\" : 4097, \"ONE_ALIGHT_NUM\" : 1, \"NINETEEN_RIDE_NUM\" : 8670, \"MIDNIGHT_ALIGHT_NUM\" : 171, \"TWENTY_THREE_ALIGHT_NUM\" : 2161, \"FOUR_RIDE_NUM\" : 4, \"TWENTY_RIDE_NUM\" : 6650, \"THIRTEEN_RIDE_NUM\" : 5889, \"SIX_ALIGHT_NUM\" : 3382, \"ELEVEN_ALIGHT_NUM\" : 6749, \"TWENTY_ONE_ALIGHT_NUM\" : 4627, \"SEVENTEEN_ALIGHT_NUM\" : 9801, \"SIXTEEN_ALIGHT_NUM\" : 7056, \"EIGHT_ALIGHT_NUM\" : 24491, \"FOURTEEN_RIDE_NUM\" : 5647, \"SIXTEEN_RIDE_NUM\" : 7426, \"TWENTY_ONE_RIDE_NUM\" : 8587, \"FIFTEEN_ALIGHT_NUM\" : 6318, \"TWELVE_RIDE_NUM\" : 5202, \"SEVENTEEN_RIDE_NUM\" : 13110, \"MIDNIGHT_RIDE_NUM\" : 2, \"EIGHT_RIDE_NUM\" : 10298 } ], \"RESULT\" : { \"MESSAGE\" : \"정상 처리되었습니다\", \"CODE\" : \"INFO-000\" }, \"list_total_count\" : 608 } }\n",
      "{ \"_id\" : ObjectId(\"61137bf7f5e6e923651418f9\"), \"CardSubwayTime\" : { \"row\" : [ { \"FOUR_ALIGHT_NUM\" : 11, \"USE_MON\" : \"202106\", \"LINE_NUM\" : \"2호선\", \"FIFTEEN_RIDE_NUM\" : 30042, \"TWENTY_TWO_RIDE_NUM\" : 29495, \"WORK_DT\" : \"20210703\", \"FIVE_ALIGHT_NUM\" : 2219, \"SUB_STA_NM\" : \"뚝섬\", \"FIVE_RIDE_NUM\" : 3481, \"EIGHTEEN_ALIGHT_NUM\" : 43486, \"FOURTEEN_ALIGHT_NUM\" : 28097, \"SEVEN_RIDE_NUM\" : 18702, \"NINETEEN_ALIGHT_NUM\" : 24961, \"TWO_ALIGHT_NUM\" : 0, \"TEN_RIDE_NUM\" : 14073, \"TEN_ALIGHT_NUM\" : 38360, \"TWENTY_ALIGHT_NUM\" : 12909, \"EIGHTEEN_RIDE_NUM\" : 125164, \"TWELVE_ALIGHT_NUM\" : 29331, \"TWENTY_THREE_RIDE_NUM\" : 4086, \"NINE_ALIGHT_NUM\" : 87408, \"THIRTEEN_ALIGHT_NUM\" : 32608, \"NINE_RIDE_NUM\" : 17966, \"ONE_RIDE_NUM\" : 0, \"SIX_RIDE_NUM\" : 7841, \"THREE_RIDE_NUM\" : 0, \"TWENTY_TWO_ALIGHT_NUM\" : 13263, \"TWO_RIDE_NUM\" : 0, \"SEVEN_ALIGHT_NUM\" : 37548, \"THREE_ALIGHT_NUM\" : 0, \"ELEVEN_RIDE_NUM\" : 15173, \"ONE_ALIGHT_NUM\" : 0, \"NINETEEN_RIDE_NUM\" : 61137, \"MIDNIGHT_ALIGHT_NUM\" : 60, \"TWENTY_THREE_ALIGHT_NUM\" : 5431, \"FOUR_RIDE_NUM\" : 25, \"TWENTY_RIDE_NUM\" : 38540, \"THIRTEEN_RIDE_NUM\" : 20845, \"SIX_ALIGHT_NUM\" : 14766, \"ELEVEN_ALIGHT_NUM\" : 27280, \"TWENTY_ONE_ALIGHT_NUM\" : 11243, \"SEVENTEEN_ALIGHT_NUM\" : 32693, \"SIXTEEN_ALIGHT_NUM\" : 29465, \"EIGHT_ALIGHT_NUM\" : 141284, \"FOURTEEN_RIDE_NUM\" : 24905, \"SIXTEEN_RIDE_NUM\" : 38231, \"TWENTY_ONE_RIDE_NUM\" : 38004, \"FIFTEEN_ALIGHT_NUM\" : 28451, \"TWELVE_RIDE_NUM\" : 18985, \"SEVENTEEN_RIDE_NUM\" : 64022, \"MIDNIGHT_RIDE_NUM\" : 4, \"EIGHT_RIDE_NUM\" : 25566 }, { \"FOUR_ALIGHT_NUM\" : 0, \"USE_MON\" : \"202106\", \"LINE_NUM\" : \"2호선\", \"FIFTEEN_RIDE_NUM\" : 40333, \"TWENTY_TWO_RIDE_NUM\" : 46179, \"WORK_DT\" : \"20210703\", \"FIVE_ALIGHT_NUM\" : 3807, \"SUB_STA_NM\" : \"성수\", \"FIVE_RIDE_NUM\" : 5404, \"EIGHTEEN_ALIGHT_NUM\" : 56132, \"FOURTEEN_ALIGHT_NUM\" : 40751, \"SEVEN_RIDE_NUM\" : 22648, \"NINETEEN_ALIGHT_NUM\" : 33187, \"TWO_ALIGHT_NUM\" : 0, \"TEN_RIDE_NUM\" : 19827, \"TEN_ALIGHT_NUM\" : 48317, \"TWENTY_ALIGHT_NUM\" : 16273, \"EIGHTEEN_RIDE_NUM\" : 227994, \"TWELVE_ALIGHT_NUM\" : 38283, \"TWENTY_THREE_RIDE_NUM\" : 5474, \"NINE_ALIGHT_NUM\" : 143068, \"THIRTEEN_ALIGHT_NUM\" : 43934, \"NINE_RIDE_NUM\" : 22575, \"ONE_RIDE_NUM\" : 0, \"SIX_RIDE_NUM\" : 9234, \"THREE_RIDE_NUM\" : 0, \"TWENTY_TWO_ALIGHT_NUM\" : 14950, \"TWO_RIDE_NUM\" : 0, \"SEVEN_ALIGHT_NUM\" : 73962, \"THREE_ALIGHT_NUM\" : 0, \"ELEVEN_RIDE_NUM\" : 20914, \"ONE_ALIGHT_NUM\" : 0, \"NINETEEN_RIDE_NUM\" : 95913, \"MIDNIGHT_ALIGHT_NUM\" : 2237, \"TWENTY_THREE_ALIGHT_NUM\" : 8790, \"FOUR_RIDE_NUM\" : 67, \"TWENTY_RIDE_NUM\" : 55590, \"THIRTEEN_RIDE_NUM\" : 29681, \"SIX_ALIGHT_NUM\" : 27616, \"ELEVEN_ALIGHT_NUM\" : 37558, \"TWENTY_ONE_ALIGHT_NUM\" : 12978, \"SEVENTEEN_ALIGHT_NUM\" : 45345, \"SIXTEEN_ALIGHT_NUM\" : 41510, \"EIGHT_ALIGHT_NUM\" : 269072, \"FOURTEEN_RIDE_NUM\" : 33835, \"SIXTEEN_RIDE_NUM\" : 51988, \"TWENTY_ONE_RIDE_NUM\" : 61467, \"FIFTEEN_ALIGHT_NUM\" : 40805, \"TWELVE_RIDE_NUM\" : 24384, \"SEVENTEEN_RIDE_NUM\" : 103029, \"MIDNIGHT_RIDE_NUM\" : 5, \"EIGHT_RIDE_NUM\" : 29800 }, { \"FOUR_ALIGHT_NUM\" : 7, \"USE_MON\" : \"202106\", \"LINE_NUM\" : \"2호선\", \"FIFTEEN_RIDE_NUM\" : 44476, \"TWENTY_TWO_RIDE_NUM\" : 81501, \"WORK_DT\" : \"20210703\", \"FIVE_ALIGHT_NUM\" : 2139, \"SUB_STA_NM\" : \"건대입구\", \"FIVE_RIDE_NUM\" : 14205, \"EIGHTEEN_ALIGHT_NUM\" : 144916, \"FOURTEEN_ALIGHT_NUM\" : 53815, \"SEVEN_RIDE_NUM\" : 52326, \"NINETEEN_ALIGHT_NUM\" : 94289, \"TWO_ALIGHT_NUM\" : 0, \"TEN_RIDE_NUM\" : 33837, \"TEN_ALIGHT_NUM\" : 36298, \"TWENTY_ALIGHT_NUM\" : 49337, \"EIGHTEEN_RIDE_NUM\" : 79285, \"TWELVE_ALIGHT_NUM\" : 46292, \"TWENTY_THREE_RIDE_NUM\" : 11703, \"NINE_ALIGHT_NUM\" : 47220, \"THIRTEEN_ALIGHT_NUM\" : 52863, \"NINE_RIDE_NUM\" : 58146, \"ONE_RIDE_NUM\" : 0, \"SIX_RIDE_NUM\" : 20389, \"THREE_RIDE_NUM\" : 0, \"TWENTY_TWO_ALIGHT_NUM\" : 50847, \"TWO_RIDE_NUM\" : 0, \"SEVEN_ALIGHT_NUM\" : 26069, \"THREE_ALIGHT_NUM\" : 0, \"ELEVEN_RIDE_NUM\" : 31591, \"ONE_ALIGHT_NUM\" : 0, \"NINETEEN_RIDE_NUM\" : 56745, \"MIDNIGHT_ALIGHT_NUM\" : 2442, \"TWENTY_THREE_ALIGHT_NUM\" : 22174, \"FOUR_RIDE_NUM\" : 176, \"TWENTY_RIDE_NUM\" : 57426, \"THIRTEEN_RIDE_NUM\" : 39017, \"SIX_ALIGHT_NUM\" : 19701, \"ELEVEN_ALIGHT_NUM\" : 37929, \"TWENTY_ONE_ALIGHT_NUM\" : 45034, \"SEVENTEEN_ALIGHT_NUM\" : 97732, \"SIXTEEN_ALIGHT_NUM\" : 70290, \"EIGHT_ALIGHT_NUM\" : 61058, \"FOURTEEN_RIDE_NUM\" : 39510, \"SIXTEEN_RIDE_NUM\" : 54230, \"TWENTY_ONE_RIDE_NUM\" : 82927, \"FIFTEEN_ALIGHT_NUM\" : 59182, \"TWELVE_RIDE_NUM\" : 36562, \"SEVENTEEN_RIDE_NUM\" : 66175, \"MIDNIGHT_RIDE_NUM\" : 15, \"EIGHT_RIDE_NUM\" : 88094 }, { \"FOUR_ALIGHT_NUM\" : 1, \"USE_MON\" : \"202106\", \"LINE_NUM\" : \"2호선\", \"FIFTEEN_RIDE_NUM\" : 24733, \"TWENTY_TWO_RIDE_NUM\" : 15886, \"WORK_DT\" : \"20210703\", \"FIVE_ALIGHT_NUM\" : 1149, \"SUB_STA_NM\" : \"구의(광진구청)\", \"FIVE_RIDE_NUM\" : 13662, \"EIGHTEEN_ALIGHT_NUM\" : 90738, \"FOURTEEN_ALIGHT_NUM\" : 24857, \"SEVEN_RIDE_NUM\" : 66711, \"NINETEEN_ALIGHT_NUM\" : 64759, \"TWO_ALIGHT_NUM\" : 0, \"TEN_RIDE_NUM\" : 32099, \"TEN_ALIGHT_NUM\" : 18572, \"TWENTY_ALIGHT_NUM\" : 40868, \"EIGHTEEN_RIDE_NUM\" : 41165, \"TWELVE_ALIGHT_NUM\" : 20806, \"TWENTY_THREE_RIDE_NUM\" : 4342, \"NINE_ALIGHT_NUM\" : 22182, \"THIRTEEN_ALIGHT_NUM\" : 23563, \"NINE_RIDE_NUM\" : 62341, \"ONE_RIDE_NUM\" : 0, \"SIX_RIDE_NUM\" : 25627, \"THREE_RIDE_NUM\" : 0, \"TWENTY_TWO_ALIGHT_NUM\" : 44587, \"TWO_RIDE_NUM\" : 0, \"SEVEN_ALIGHT_NUM\" : 15389, \"THREE_ALIGHT_NUM\" : 0, \"ELEVEN_RIDE_NUM\" : 26917, \"ONE_ALIGHT_NUM\" : 0, \"NINETEEN_RIDE_NUM\" : 20148, \"MIDNIGHT_ALIGHT_NUM\" : 1038, \"TWENTY_THREE_ALIGHT_NUM\" : 16515, \"FOUR_RIDE_NUM\" : 50, \"TWENTY_RIDE_NUM\" : 15673, \"THIRTEEN_RIDE_NUM\" : 26932, \"SIX_ALIGHT_NUM\" : 9640, \"ELEVEN_ALIGHT_NUM\" : 18261, \"TWENTY_ONE_ALIGHT_NUM\" : 38952, \"SEVENTEEN_ALIGHT_NUM\" : 51142, \"SIXTEEN_ALIGHT_NUM\" : 36047, \"EIGHT_ALIGHT_NUM\" : 39614, \"FOURTEEN_RIDE_NUM\" : 24838, \"SIXTEEN_RIDE_NUM\" : 29724, \"TWENTY_ONE_RIDE_NUM\" : 16519, \"FIFTEEN_ALIGHT_NUM\" : 31703, \"TWELVE_RIDE_NUM\" : 27514, \"SEVENTEEN_RIDE_NUM\" : 32580, \"MIDNIGHT_RIDE_NUM\" : 6, \"EIGHT_RIDE_NUM\" : 111827 }, { \"FOUR_ALIGHT_NUM\" : 0, \"USE_MON\" : \"202106\", \"LINE_NUM\" : \"2호선\", \"FIFTEEN_RIDE_NUM\" : 42320, \"TWENTY_TWO_RIDE_NUM\" : 20304, \"WORK_DT\" : \"20210703\", \"FIVE_ALIGHT_NUM\" : 2136, \"SUB_STA_NM\" : \"강변(동서울터미널)\", \"FIVE_RIDE_NUM\" : 8295, \"EIGHTEEN_ALIGHT_NUM\" : 108021, \"FOURTEEN_ALIGHT_NUM\" : 40686, \"SEVEN_RIDE_NUM\" : 77995, \"NINETEEN_ALIGHT_NUM\" : 74801, \"TWO_ALIGHT_NUM\" : 0, \"TEN_RIDE_NUM\" : 50860, \"TEN_ALIGHT_NUM\" : 34309, \"TWENTY_ALIGHT_NUM\" : 47900, \"EIGHTEEN_RIDE_NUM\" : 58456, \"TWELVE_ALIGHT_NUM\" : 35111, \"TWENTY_THREE_RIDE_NUM\" : 5206, \"NINE_ALIGHT_NUM\" : 36699, \"THIRTEEN_ALIGHT_NUM\" : 39567, \"NINE_RIDE_NUM\" : 72448, \"ONE_RIDE_NUM\" : 1, \"SIX_RIDE_NUM\" : 27343, \"THREE_RIDE_NUM\" : 0, \"TWENTY_TWO_ALIGHT_NUM\" : 48963, \"TWO_RIDE_NUM\" : 0, \"SEVEN_ALIGHT_NUM\" : 24424, \"THREE_ALIGHT_NUM\" : 0, \"ELEVEN_RIDE_NUM\" : 45540, \"ONE_ALIGHT_NUM\" : 0, \"NINETEEN_RIDE_NUM\" : 41062, \"MIDNIGHT_ALIGHT_NUM\" : 403, \"TWENTY_THREE_ALIGHT_NUM\" : 14835, \"FOUR_RIDE_NUM\" : 18, \"TWENTY_RIDE_NUM\" : 30584, \"THIRTEEN_RIDE_NUM\" : 43734, \"SIX_ALIGHT_NUM\" : 21465, \"ELEVEN_ALIGHT_NUM\" : 31714, \"TWENTY_ONE_ALIGHT_NUM\" : 40695, \"SEVENTEEN_ALIGHT_NUM\" : 71481, \"SIXTEEN_ALIGHT_NUM\" : 54097, \"EIGHT_ALIGHT_NUM\" : 46063, \"FOURTEEN_RIDE_NUM\" : 39557, \"SIXTEEN_RIDE_NUM\" : 44565, \"TWENTY_ONE_RIDE_NUM\" : 26850, \"FIFTEEN_ALIGHT_NUM\" : 47913, \"TWELVE_RIDE_NUM\" : 45801, \"SEVENTEEN_RIDE_NUM\" : 51506, \"MIDNIGHT_RIDE_NUM\" : 4, \"EIGHT_RIDE_NUM\" : 106012 } ], \"RESULT\" : { \"MESSAGE\" : \"정상 처리되었습니다\", \"CODE\" : \"INFO-000\" }, \"list_total_count\" : 608 } }\n",
      "{ \"_id\" : ObjectId(\"61137bf7f5e6e923651418fa\"), \"CardSubwayTime\" : { \"row\" : [ { \"FOUR_ALIGHT_NUM\" : 0, \"USE_MON\" : \"202106\", \"LINE_NUM\" : \"2호선\", \"FIFTEEN_RIDE_NUM\" : 21852, \"TWENTY_TWO_RIDE_NUM\" : 6735, \"WORK_DT\" : \"20210703\", \"FIVE_ALIGHT_NUM\" : 1655, \"SUB_STA_NM\" : \"잠실나루\", \"FIVE_RIDE_NUM\" : 3088, \"EIGHTEEN_ALIGHT_NUM\" : 38521, \"FOURTEEN_ALIGHT_NUM\" : 16738, \"SEVEN_RIDE_NUM\" : 37939, \"NINETEEN_ALIGHT_NUM\" : 28103, \"TWO_ALIGHT_NUM\" : 0, \"TEN_RIDE_NUM\" : 20747, \"TEN_ALIGHT_NUM\" : 17198, \"TWENTY_ALIGHT_NUM\" : 16232, \"EIGHTEEN_RIDE_NUM\" : 29963, \"TWELVE_ALIGHT_NUM\" : 18325, \"TWENTY_THREE_RIDE_NUM\" : 1718, \"NINE_ALIGHT_NUM\" : 23440, \"THIRTEEN_ALIGHT_NUM\" : 18656, \"NINE_RIDE_NUM\" : 26790, \"ONE_RIDE_NUM\" : 0, \"SIX_RIDE_NUM\" : 11574, \"THREE_RIDE_NUM\" : 0, \"TWENTY_TWO_ALIGHT_NUM\" : 18959, \"TWO_RIDE_NUM\" : 0, \"SEVEN_ALIGHT_NUM\" : 23527, \"THREE_ALIGHT_NUM\" : 0, \"ELEVEN_RIDE_NUM\" : 19769, \"ONE_ALIGHT_NUM\" : 1, \"NINETEEN_RIDE_NUM\" : 13809, \"MIDNIGHT_ALIGHT_NUM\" : 72, \"TWENTY_THREE_ALIGHT_NUM\" : 6679, \"FOUR_RIDE_NUM\" : 9, \"TWENTY_RIDE_NUM\" : 10284, \"THIRTEEN_RIDE_NUM\" : 18438, \"SIX_ALIGHT_NUM\" : 10219, \"ELEVEN_ALIGHT_NUM\" : 14766, \"TWENTY_ONE_ALIGHT_NUM\" : 16778, \"SEVENTEEN_ALIGHT_NUM\" : 22959, \"SIXTEEN_ALIGHT_NUM\" : 17285, \"EIGHT_ALIGHT_NUM\" : 37995, \"FOURTEEN_RIDE_NUM\" : 19842, \"SIXTEEN_RIDE_NUM\" : 26908, \"TWENTY_ONE_RIDE_NUM\" : 8099, \"FIFTEEN_ALIGHT_NUM\" : 16711, \"TWELVE_RIDE_NUM\" : 19837, \"SEVENTEEN_RIDE_NUM\" : 32800, \"MIDNIGHT_RIDE_NUM\" : 1, \"EIGHT_RIDE_NUM\" : 44852 }, { \"FOUR_ALIGHT_NUM\" : 19, \"USE_MON\" : \"202106\", \"LINE_NUM\" : \"2호선\", \"FIFTEEN_RIDE_NUM\" : 93395, \"TWENTY_TWO_RIDE_NUM\" : 90586, \"WORK_DT\" : \"20210703\", \"FIVE_ALIGHT_NUM\" : 4508, \"SUB_STA_NM\" : \"잠실(송파구청)\", \"FIVE_RIDE_NUM\" : 11325, \"EIGHTEEN_ALIGHT_NUM\" : 205060, \"FOURTEEN_ALIGHT_NUM\" : 89044, \"SEVEN_RIDE_NUM\" : 109926, \"NINETEEN_ALIGHT_NUM\" : 136104, \"TWO_ALIGHT_NUM\" : 0, \"TEN_RIDE_NUM\" : 68886, \"TEN_ALIGHT_NUM\" : 87169, \"TWENTY_ALIGHT_NUM\" : 80748, \"EIGHTEEN_RIDE_NUM\" : 196396, \"TWELVE_ALIGHT_NUM\" : 85336, \"TWENTY_THREE_RIDE_NUM\" : 15197, \"NINE_ALIGHT_NUM\" : 129538, \"THIRTEEN_ALIGHT_NUM\" : 90931, \"NINE_RIDE_NUM\" : 107993, \"ONE_RIDE_NUM\" : 0, \"SIX_RIDE_NUM\" : 45211, \"THREE_RIDE_NUM\" : 0, \"TWENTY_TWO_ALIGHT_NUM\" : 90081, \"TWO_RIDE_NUM\" : 1, \"SEVEN_ALIGHT_NUM\" : 71117, \"THREE_ALIGHT_NUM\" : 0, \"ELEVEN_RIDE_NUM\" : 68066, \"ONE_ALIGHT_NUM\" : 0, \"NINETEEN_RIDE_NUM\" : 121617, \"MIDNIGHT_ALIGHT_NUM\" : 289, \"TWENTY_THREE_ALIGHT_NUM\" : 29413, \"FOUR_RIDE_NUM\" : 80, \"TWENTY_RIDE_NUM\" : 119825, \"THIRTEEN_RIDE_NUM\" : 80754, \"SIX_ALIGHT_NUM\" : 39865, \"ELEVEN_ALIGHT_NUM\" : 85117, \"TWENTY_ONE_ALIGHT_NUM\" : 78006, \"SEVENTEEN_ALIGHT_NUM\" : 139584, \"SIXTEEN_ALIGHT_NUM\" : 107391, \"EIGHT_ALIGHT_NUM\" : 155436, \"FOURTEEN_RIDE_NUM\" : 83745, \"SIXTEEN_RIDE_NUM\" : 114324, \"TWENTY_ONE_RIDE_NUM\" : 105519, \"FIFTEEN_ALIGHT_NUM\" : 94790, \"TWELVE_RIDE_NUM\" : 74625, \"SEVENTEEN_RIDE_NUM\" : 156035, \"MIDNIGHT_RIDE_NUM\" : 13, \"EIGHT_RIDE_NUM\" : 153802 }, { \"FOUR_ALIGHT_NUM\" : 0, \"USE_MON\" : \"202106\", \"LINE_NUM\" : \"2호선\", \"FIFTEEN_RIDE_NUM\" : 26715, \"TWENTY_TWO_RIDE_NUM\" : 30158, \"WORK_DT\" : \"20210703\", \"FIVE_ALIGHT_NUM\" : 791, \"SUB_STA_NM\" : \"잠실새내\", \"FIVE_RIDE_NUM\" : 4403, \"EIGHTEEN_ALIGHT_NUM\" : 80509, \"FOURTEEN_ALIGHT_NUM\" : 29041, \"SEVEN_RIDE_NUM\" : 52908, \"NINETEEN_ALIGHT_NUM\" : 53682, \"TWO_ALIGHT_NUM\" : 0, \"TEN_RIDE_NUM\" : 26237, \"TEN_ALIGHT_NUM\" : 21522, \"TWENTY_ALIGHT_NUM\" : 28671, \"EIGHTEEN_RIDE_NUM\" : 36977, \"TWELVE_ALIGHT_NUM\" : 25259, \"TWENTY_THREE_RIDE_NUM\" : 5624, \"NINE_ALIGHT_NUM\" : 28413, \"THIRTEEN_ALIGHT_NUM\" : 27949, \"NINE_RIDE_NUM\" : 40827, \"ONE_RIDE_NUM\" : 0, \"SIX_RIDE_NUM\" : 15911, \"THREE_RIDE_NUM\" : 0, \"TWENTY_TWO_ALIGHT_NUM\" : 29960, \"TWO_RIDE_NUM\" : 0, \"SEVEN_ALIGHT_NUM\" : 16063, \"THREE_ALIGHT_NUM\" : 0, \"ELEVEN_RIDE_NUM\" : 23997, \"ONE_ALIGHT_NUM\" : 0, \"NINETEEN_RIDE_NUM\" : 26817, \"MIDNIGHT_ALIGHT_NUM\" : 678, \"TWENTY_THREE_ALIGHT_NUM\" : 10336, \"FOUR_RIDE_NUM\" : 12, \"TWENTY_RIDE_NUM\" : 24994, \"THIRTEEN_RIDE_NUM\" : 27042, \"SIX_ALIGHT_NUM\" : 9133, \"ELEVEN_ALIGHT_NUM\" : 22499, \"TWENTY_ONE_ALIGHT_NUM\" : 25367, \"SEVENTEEN_ALIGHT_NUM\" : 52416, \"SIXTEEN_ALIGHT_NUM\" : 38633, \"EIGHT_ALIGHT_NUM\" : 26529, \"FOURTEEN_RIDE_NUM\" : 25136, \"SIXTEEN_RIDE_NUM\" : 33312, \"TWENTY_ONE_RIDE_NUM\" : 28050, \"FIFTEEN_ALIGHT_NUM\" : 34909, \"TWELVE_RIDE_NUM\" : 25998, \"SEVENTEEN_RIDE_NUM\" : 33310, \"MIDNIGHT_RIDE_NUM\" : 8, \"EIGHT_RIDE_NUM\" : 69655 }, { \"FOUR_ALIGHT_NUM\" : 0, \"USE_MON\" : \"202106\", \"LINE_NUM\" : \"2호선\", \"FIFTEEN_RIDE_NUM\" : 11548, \"TWENTY_TWO_RIDE_NUM\" : 12477, \"WORK_DT\" : \"20210703\", \"FIVE_ALIGHT_NUM\" : 835, \"SUB_STA_NM\" : \"종합운동장\", \"FIVE_RIDE_NUM\" : 1606, \"EIGHTEEN_ALIGHT_NUM\" : 33573, \"FOURTEEN_ALIGHT_NUM\" : 10222, \"SEVEN_RIDE_NUM\" : 16237, \"NINETEEN_ALIGHT_NUM\" : 17012, \"TWO_ALIGHT_NUM\" : 0, \"TEN_RIDE_NUM\" : 9324, \"TEN_ALIGHT_NUM\" : 8090, \"TWENTY_ALIGHT_NUM\" : 9509, \"EIGHTEEN_RIDE_NUM\" : 17581, \"TWELVE_ALIGHT_NUM\" : 8045, \"TWENTY_THREE_RIDE_NUM\" : 1367, \"NINE_ALIGHT_NUM\" : 10485, \"THIRTEEN_ALIGHT_NUM\" : 9382, \"NINE_RIDE_NUM\" : 15380, \"ONE_RIDE_NUM\" : 0, \"SIX_RIDE_NUM\" : 5673, \"THREE_RIDE_NUM\" : 0, \"TWENTY_TWO_ALIGHT_NUM\" : 12379, \"TWO_RIDE_NUM\" : 0, \"SEVEN_ALIGHT_NUM\" : 12926, \"THREE_ALIGHT_NUM\" : 0, \"ELEVEN_RIDE_NUM\" : 8814, \"ONE_ALIGHT_NUM\" : 0, \"NINETEEN_RIDE_NUM\" : 11040, \"MIDNIGHT_ALIGHT_NUM\" : 274, \"TWENTY_THREE_ALIGHT_NUM\" : 3913, \"FOUR_RIDE_NUM\" : 4, \"TWENTY_RIDE_NUM\" : 16257, \"THIRTEEN_RIDE_NUM\" : 8977, \"SIX_ALIGHT_NUM\" : 6966, \"ELEVEN_ALIGHT_NUM\" : 7000, \"TWENTY_ONE_ALIGHT_NUM\" : 9952, \"SEVENTEEN_ALIGHT_NUM\" : 22199, \"SIXTEEN_ALIGHT_NUM\" : 20414, \"EIGHT_ALIGHT_NUM\" : 22445, \"FOURTEEN_RIDE_NUM\" : 8501, \"SIXTEEN_RIDE_NUM\" : 13076, \"TWENTY_ONE_RIDE_NUM\" : 18190, \"FIFTEEN_ALIGHT_NUM\" : 13423, \"TWELVE_RIDE_NUM\" : 9250, \"SEVENTEEN_RIDE_NUM\" : 14784, \"MIDNIGHT_RIDE_NUM\" : 3, \"EIGHT_RIDE_NUM\" : 22676 }, { \"FOUR_ALIGHT_NUM\" : 0, \"USE_MON\" : \"202106\", \"LINE_NUM\" : \"2호선\", \"FIFTEEN_RIDE_NUM\" : 76464, \"TWENTY_TWO_RIDE_NUM\" : 67261, \"WORK_DT\" : \"20210703\", \"FIVE_ALIGHT_NUM\" : 5060, \"SUB_STA_NM\" : \"삼성(무역센터)\", \"FIVE_RIDE_NUM\" : 4308, \"EIGHTEEN_ALIGHT_NUM\" : 54569, \"FOURTEEN_ALIGHT_NUM\" : 56441, \"SEVEN_RIDE_NUM\" : 14275, \"NINETEEN_ALIGHT_NUM\" : 29137, \"TWO_ALIGHT_NUM\" : 0, \"TEN_RIDE_NUM\" : 22351, \"TEN_ALIGHT_NUM\" : 92072, \"TWENTY_ALIGHT_NUM\" : 16038, \"EIGHTEEN_RIDE_NUM\" : 292353, \"TWELVE_ALIGHT_NUM\" : 59609, \"TWENTY_THREE_RIDE_NUM\" : 8571, \"NINE_ALIGHT_NUM\" : 230793, \"THIRTEEN_ALIGHT_NUM\" : 67325, \"NINE_RIDE_NUM\" : 20085, \"ONE_RIDE_NUM\" : 0, \"SIX_RIDE_NUM\" : 6824, \"THREE_RIDE_NUM\" : 0, \"TWENTY_TWO_ALIGHT_NUM\" : 13222, \"TWO_RIDE_NUM\" : 0, \"SEVEN_ALIGHT_NUM\" : 125083, \"THREE_ALIGHT_NUM\" : 0, \"ELEVEN_RIDE_NUM\" : 32496, \"ONE_ALIGHT_NUM\" : 0, \"NINETEEN_RIDE_NUM\" : 145577, \"MIDNIGHT_ALIGHT_NUM\" : 1992, \"TWENTY_THREE_ALIGHT_NUM\" : 4721, \"FOUR_RIDE_NUM\" : 144, \"TWENTY_RIDE_NUM\" : 101060, \"THIRTEEN_RIDE_NUM\" : 50793, \"SIX_ALIGHT_NUM\" : 39509, \"ELEVEN_ALIGHT_NUM\" : 67706, \"TWENTY_ONE_ALIGHT_NUM\" : 12849, \"SEVENTEEN_ALIGHT_NUM\" : 47887, \"SIXTEEN_ALIGHT_NUM\" : 46843, \"EIGHT_ALIGHT_NUM\" : 329768, \"FOURTEEN_RIDE_NUM\" : 62437, \"SIXTEEN_RIDE_NUM\" : 96166, \"TWENTY_ONE_RIDE_NUM\" : 89962, \"FIFTEEN_ALIGHT_NUM\" : 48089, \"TWELVE_RIDE_NUM\" : 39188, \"SEVENTEEN_RIDE_NUM\" : 179797, \"MIDNIGHT_RIDE_NUM\" : 0, \"EIGHT_RIDE_NUM\" : 19060 } ], \"RESULT\" : { \"MESSAGE\" : \"정상 처리되었습니다\", \"CODE\" : \"INFO-000\" }, \"list_total_count\" : 608 } }\n",
      "{ \"_id\" : ObjectId(\"61137bf7f5e6e923651418fb\"), \"CardSubwayTime\" : { \"row\" : [ { \"FOUR_ALIGHT_NUM\" : 0, \"USE_MON\" : \"202106\", \"LINE_NUM\" : \"2호선\", \"FIFTEEN_RIDE_NUM\" : 83895, \"TWENTY_TWO_RIDE_NUM\" : 81012, \"WORK_DT\" : \"20210703\", \"FIVE_ALIGHT_NUM\" : 6383, \"SUB_STA_NM\" : \"선릉\", \"FIVE_RIDE_NUM\" : 3627, \"EIGHTEEN_ALIGHT_NUM\" : 53553, \"FOURTEEN_ALIGHT_NUM\" : 51028, \"SEVEN_RIDE_NUM\" : 20170, \"NINETEEN_ALIGHT_NUM\" : 30913, \"TWO_ALIGHT_NUM\" : 0, \"TEN_RIDE_NUM\" : 31786, \"TEN_ALIGHT_NUM\" : 90882, \"TWENTY_ALIGHT_NUM\" : 17950, \"EIGHTEEN_RIDE_NUM\" : 288032, \"TWELVE_ALIGHT_NUM\" : 52723, \"TWENTY_THREE_RIDE_NUM\" : 11296, \"NINE_ALIGHT_NUM\" : 213379, \"THIRTEEN_ALIGHT_NUM\" : 59890, \"NINE_RIDE_NUM\" : 28075, \"ONE_RIDE_NUM\" : 0, \"SIX_RIDE_NUM\" : 10025, \"THREE_RIDE_NUM\" : 0, \"TWENTY_TWO_ALIGHT_NUM\" : 18029, \"TWO_RIDE_NUM\" : 0, \"SEVEN_ALIGHT_NUM\" : 109031, \"THREE_ALIGHT_NUM\" : 0, \"ELEVEN_RIDE_NUM\" : 42605, \"ONE_ALIGHT_NUM\" : 0, \"NINETEEN_RIDE_NUM\" : 133762, \"MIDNIGHT_ALIGHT_NUM\" : 98, \"TWENTY_THREE_ALIGHT_NUM\" : 6674, \"FOUR_RIDE_NUM\" : 24, \"TWENTY_RIDE_NUM\" : 83372, \"THIRTEEN_RIDE_NUM\" : 58696, \"SIX_ALIGHT_NUM\" : 38339, \"ELEVEN_ALIGHT_NUM\" : 62958, \"TWENTY_ONE_ALIGHT_NUM\" : 15963, \"SEVENTEEN_ALIGHT_NUM\" : 49187, \"SIXTEEN_ALIGHT_NUM\" : 42493, \"EIGHT_ALIGHT_NUM\" : 279007, \"FOURTEEN_RIDE_NUM\" : 67661, \"SIXTEEN_RIDE_NUM\" : 113307, \"TWENTY_ONE_RIDE_NUM\" : 88665, \"FIFTEEN_ALIGHT_NUM\" : 44835, \"TWELVE_RIDE_NUM\" : 49628, \"SEVENTEEN_RIDE_NUM\" : 169112, \"MIDNIGHT_RIDE_NUM\" : 0, \"EIGHT_RIDE_NUM\" : 29681 }, { \"FOUR_ALIGHT_NUM\" : 0, \"USE_MON\" : \"202106\", \"LINE_NUM\" : \"2호선\", \"FIFTEEN_RIDE_NUM\" : 67532, \"TWENTY_TWO_RIDE_NUM\" : 64947, \"WORK_DT\" : \"20210703\", \"FIVE_ALIGHT_NUM\" : 7400, \"SUB_STA_NM\" : \"역삼\", \"FIVE_RIDE_NUM\" : 3419, \"EIGHTEEN_ALIGHT_NUM\" : 53226, \"FOURTEEN_ALIGHT_NUM\" : 48320, \"SEVEN_RIDE_NUM\" : 14314, \"NINETEEN_ALIGHT_NUM\" : 32039, \"TWO_ALIGHT_NUM\" : 0, \"TEN_RIDE_NUM\" : 22979, \"TEN_ALIGHT_NUM\" : 106015, \"TWENTY_ALIGHT_NUM\" : 18176, \"EIGHTEEN_RIDE_NUM\" : 284856, \"TWELVE_ALIGHT_NUM\" : 51806, \"TWENTY_THREE_RIDE_NUM\" : 10586, \"NINE_ALIGHT_NUM\" : 279383, \"THIRTEEN_ALIGHT_NUM\" : 59051, \"NINE_RIDE_NUM\" : 22155, \"ONE_RIDE_NUM\" : 0, \"SIX_RIDE_NUM\" : 8075, \"THREE_RIDE_NUM\" : 0, \"TWENTY_TWO_ALIGHT_NUM\" : 16658, \"TWO_RIDE_NUM\" : 1, \"SEVEN_ALIGHT_NUM\" : 129504, \"THREE_ALIGHT_NUM\" : 0, \"ELEVEN_RIDE_NUM\" : 30623, \"ONE_ALIGHT_NUM\" : 1, \"NINETEEN_RIDE_NUM\" : 139400, \"MIDNIGHT_ALIGHT_NUM\" : 2, \"TWENTY_THREE_ALIGHT_NUM\" : 6779, \"FOUR_RIDE_NUM\" : 27, \"TWENTY_RIDE_NUM\" : 76463, \"THIRTEEN_RIDE_NUM\" : 44667, \"SIX_ALIGHT_NUM\" : 38631, \"ELEVEN_ALIGHT_NUM\" : 61473, \"TWENTY_ONE_ALIGHT_NUM\" : 15421, \"SEVENTEEN_ALIGHT_NUM\" : 44443, \"SIXTEEN_ALIGHT_NUM\" : 40739, \"EIGHT_ALIGHT_NUM\" : 340955, \"FOURTEEN_RIDE_NUM\" : 52573, \"SIXTEEN_RIDE_NUM\" : 87349, \"TWENTY_ONE_RIDE_NUM\" : 80410, \"FIFTEEN_ALIGHT_NUM\" : 43073, \"TWELVE_RIDE_NUM\" : 37384, \"SEVENTEEN_RIDE_NUM\" : 181420, \"MIDNIGHT_RIDE_NUM\" : 2, \"EIGHT_RIDE_NUM\" : 23582 }, { \"FOUR_ALIGHT_NUM\" : 5, \"USE_MON\" : \"202106\", \"LINE_NUM\" : \"2호선\", \"FIFTEEN_RIDE_NUM\" : 130240, \"TWENTY_TWO_RIDE_NUM\" : 209363, \"WORK_DT\" : \"20210703\", \"FIVE_ALIGHT_NUM\" : 10898, \"SUB_STA_NM\" : \"강남\", \"FIVE_RIDE_NUM\" : 5634, \"EIGHTEEN_ALIGHT_NUM\" : 182063, \"FOURTEEN_ALIGHT_NUM\" : 108102, \"SEVEN_RIDE_NUM\" : 37686, \"NINETEEN_ALIGHT_NUM\" : 99888, \"TWO_ALIGHT_NUM\" : 0, \"TEN_RIDE_NUM\" : 47162, \"TEN_ALIGHT_NUM\" : 146907, \"TWENTY_ALIGHT_NUM\" : 43968, \"EIGHTEEN_RIDE_NUM\" : 333597, \"TWELVE_ALIGHT_NUM\" : 102420, \"TWENTY_THREE_RIDE_NUM\" : 27475, \"NINE_ALIGHT_NUM\" : 310538, \"THIRTEEN_ALIGHT_NUM\" : 121091, \"NINE_RIDE_NUM\" : 47444, \"ONE_RIDE_NUM\" : 0, \"SIX_RIDE_NUM\" : 15798, \"THREE_RIDE_NUM\" : 0, \"TWENTY_TWO_ALIGHT_NUM\" : 37493, \"TWO_RIDE_NUM\" : 0, \"SEVEN_ALIGHT_NUM\" : 150575, \"THREE_ALIGHT_NUM\" : 0, \"ELEVEN_RIDE_NUM\" : 63593, \"ONE_ALIGHT_NUM\" : 0, \"NINETEEN_RIDE_NUM\" : 202589, \"MIDNIGHT_ALIGHT_NUM\" : 5, \"TWENTY_THREE_ALIGHT_NUM\" : 13686, \"FOUR_RIDE_NUM\" : 68, \"TWENTY_RIDE_NUM\" : 156402, \"THIRTEEN_RIDE_NUM\" : 96731, \"SIX_ALIGHT_NUM\" : 49800, \"ELEVEN_ALIGHT_NUM\" : 104498, \"TWENTY_ONE_ALIGHT_NUM\" : 35446, \"SEVENTEEN_ALIGHT_NUM\" : 130644, \"SIXTEEN_ALIGHT_NUM\" : 104024, \"EIGHT_ALIGHT_NUM\" : 319617, \"FOURTEEN_RIDE_NUM\" : 104901, \"SIXTEEN_RIDE_NUM\" : 149359, \"TWENTY_ONE_RIDE_NUM\" : 212344, \"FIFTEEN_ALIGHT_NUM\" : 99570, \"TWELVE_RIDE_NUM\" : 80198, \"SEVENTEEN_RIDE_NUM\" : 228834, \"MIDNIGHT_RIDE_NUM\" : 7, \"EIGHT_RIDE_NUM\" : 60412 }, { \"FOUR_ALIGHT_NUM\" : 1, \"USE_MON\" : \"202106\", \"LINE_NUM\" : \"2호선\", \"FIFTEEN_RIDE_NUM\" : 52623, \"TWENTY_TWO_RIDE_NUM\" : 53655, \"WORK_DT\" : \"20210703\", \"FIVE_ALIGHT_NUM\" : 6923, \"SUB_STA_NM\" : \"교대(법원.검찰청)\", \"FIVE_RIDE_NUM\" : 2366, \"EIGHTEEN_ALIGHT_NUM\" : 67556, \"FOURTEEN_ALIGHT_NUM\" : 48092, \"SEVEN_RIDE_NUM\" : 24154, \"NINETEEN_ALIGHT_NUM\" : 40034, \"TWO_ALIGHT_NUM\" : 0, \"TEN_RIDE_NUM\" : 25349, \"TEN_ALIGHT_NUM\" : 66113, \"TWENTY_ALIGHT_NUM\" : 21605, \"EIGHTEEN_RIDE_NUM\" : 146869, \"TWELVE_ALIGHT_NUM\" : 46562, \"TWENTY_THREE_RIDE_NUM\" : 7841, \"NINE_ALIGHT_NUM\" : 137549, \"THIRTEEN_ALIGHT_NUM\" : 53373, \"NINE_RIDE_NUM\" : 26824, \"ONE_RIDE_NUM\" : 0, \"SIX_RIDE_NUM\" : 11842, \"THREE_RIDE_NUM\" : 0, \"TWENTY_TWO_ALIGHT_NUM\" : 22696, \"TWO_RIDE_NUM\" : 0, \"SEVEN_ALIGHT_NUM\" : 58254, \"THREE_ALIGHT_NUM\" : 0, \"ELEVEN_RIDE_NUM\" : 30985, \"ONE_ALIGHT_NUM\" : 0, \"NINETEEN_RIDE_NUM\" : 64550, \"MIDNIGHT_ALIGHT_NUM\" : 55, \"TWENTY_THREE_ALIGHT_NUM\" : 8012, \"FOUR_RIDE_NUM\" : 18, \"TWENTY_RIDE_NUM\" : 49050, \"THIRTEEN_RIDE_NUM\" : 40404, \"SIX_ALIGHT_NUM\" : 25344, \"ELEVEN_ALIGHT_NUM\" : 51410, \"TWENTY_ONE_ALIGHT_NUM\" : 19337, \"SEVENTEEN_ALIGHT_NUM\" : 52592, \"SIXTEEN_ALIGHT_NUM\" : 44462, \"EIGHT_ALIGHT_NUM\" : 157982, \"FOURTEEN_RIDE_NUM\" : 47657, \"SIXTEEN_RIDE_NUM\" : 58677, \"TWENTY_ONE_RIDE_NUM\" : 58044, \"FIFTEEN_ALIGHT_NUM\" : 44124, \"TWELVE_RIDE_NUM\" : 34406, \"SEVENTEEN_RIDE_NUM\" : 93206, \"MIDNIGHT_RIDE_NUM\" : 3, \"EIGHT_RIDE_NUM\" : 33988 }, { \"FOUR_ALIGHT_NUM\" : 1, \"USE_MON\" : \"202106\", \"LINE_NUM\" : \"2호선\", \"FIFTEEN_RIDE_NUM\" : 34496, \"TWENTY_TWO_RIDE_NUM\" : 20674, \"WORK_DT\" : \"20210703\", \"FIVE_ALIGHT_NUM\" : 4470, \"SUB_STA_NM\" : \"서초\", \"FIVE_RIDE_NUM\" : 1254, \"EIGHTEEN_ALIGHT_NUM\" : 22952, \"FOURTEEN_ALIGHT_NUM\" : 21969, \"SEVEN_RIDE_NUM\" : 14833, \"NINETEEN_ALIGHT_NUM\" : 15053, \"TWO_ALIGHT_NUM\" : 0, \"TEN_RIDE_NUM\" : 18322, \"TEN_ALIGHT_NUM\" : 36873, \"TWENTY_ALIGHT_NUM\" : 9241, \"EIGHTEEN_RIDE_NUM\" : 105483, \"TWELVE_ALIGHT_NUM\" : 20262, \"TWENTY_THREE_RIDE_NUM\" : 4234, \"NINE_ALIGHT_NUM\" : 89155, \"THIRTEEN_ALIGHT_NUM\" : 24306, \"NINE_RIDE_NUM\" : 24260, \"ONE_RIDE_NUM\" : 0, \"SIX_RIDE_NUM\" : 7429, \"THREE_RIDE_NUM\" : 0, \"TWENTY_TWO_ALIGHT_NUM\" : 11076, \"TWO_RIDE_NUM\" : 0, \"SEVEN_ALIGHT_NUM\" : 50017, \"THREE_ALIGHT_NUM\" : 0, \"ELEVEN_RIDE_NUM\" : 24348, \"ONE_ALIGHT_NUM\" : 0, \"NINETEEN_RIDE_NUM\" : 43063, \"MIDNIGHT_ALIGHT_NUM\" : 1, \"TWENTY_THREE_ALIGHT_NUM\" : 3479, \"FOUR_RIDE_NUM\" : 41, \"TWENTY_RIDE_NUM\" : 26002, \"THIRTEEN_RIDE_NUM\" : 27938, \"SIX_ALIGHT_NUM\" : 19853, \"ELEVEN_ALIGHT_NUM\" : 25777, \"TWENTY_ONE_ALIGHT_NUM\" : 8981, \"SEVENTEEN_ALIGHT_NUM\" : 20632, \"SIXTEEN_ALIGHT_NUM\" : 20256, \"EIGHT_ALIGHT_NUM\" : 122633, \"FOURTEEN_RIDE_NUM\" : 29289, \"SIXTEEN_RIDE_NUM\" : 40830, \"TWENTY_ONE_RIDE_NUM\" : 27445, \"FIFTEEN_ALIGHT_NUM\" : 19230, \"TWELVE_RIDE_NUM\" : 22332, \"SEVENTEEN_RIDE_NUM\" : 67516, \"MIDNIGHT_RIDE_NUM\" : 1, \"EIGHT_RIDE_NUM\" : 24521 } ], \"RESULT\" : { \"MESSAGE\" : \"정상 처리되었습니다\", \"CODE\" : \"INFO-000\" }, \"list_total_count\" : 608 } }\n",
      "{ \"_id\" : ObjectId(\"61137bf7f5e6e923651418fc\"), \"CardSubwayTime\" : { \"row\" : [ { \"FOUR_ALIGHT_NUM\" : 1, \"USE_MON\" : \"202106\", \"LINE_NUM\" : \"2호선\", \"FIFTEEN_RIDE_NUM\" : 25141, \"TWENTY_TWO_RIDE_NUM\" : 18102, \"WORK_DT\" : \"20210703\", \"FIVE_ALIGHT_NUM\" : 3143, \"SUB_STA_NM\" : \"방배\", \"FIVE_RIDE_NUM\" : 2771, \"EIGHTEEN_ALIGHT_NUM\" : 37378, \"FOURTEEN_ALIGHT_NUM\" : 20959, \"SEVEN_RIDE_NUM\" : 23001, \"NINETEEN_ALIGHT_NUM\" : 25453, \"TWO_ALIGHT_NUM\" : 2, \"TEN_RIDE_NUM\" : 17019, \"TEN_ALIGHT_NUM\" : 23692, \"TWENTY_ALIGHT_NUM\" : 16085, \"EIGHTEEN_RIDE_NUM\" : 66605, \"TWELVE_ALIGHT_NUM\" : 19729, \"TWENTY_THREE_RIDE_NUM\" : 3448, \"NINE_ALIGHT_NUM\" : 46538, \"THIRTEEN_ALIGHT_NUM\" : 21431, \"NINE_RIDE_NUM\" : 23695, \"ONE_RIDE_NUM\" : 1, \"SIX_RIDE_NUM\" : 9266, \"THREE_RIDE_NUM\" : 0, \"TWENTY_TWO_ALIGHT_NUM\" : 19311, \"TWO_RIDE_NUM\" : 2, \"SEVEN_ALIGHT_NUM\" : 27907, \"THREE_ALIGHT_NUM\" : 0, \"ELEVEN_RIDE_NUM\" : 17378, \"ONE_ALIGHT_NUM\" : 1, \"NINETEEN_RIDE_NUM\" : 26986, \"MIDNIGHT_ALIGHT_NUM\" : 23, \"TWENTY_THREE_ALIGHT_NUM\" : 6320, \"FOUR_RIDE_NUM\" : 3, \"TWENTY_RIDE_NUM\" : 19297, \"THIRTEEN_RIDE_NUM\" : 21843, \"SIX_ALIGHT_NUM\" : 14236, \"ELEVEN_ALIGHT_NUM\" : 18937, \"TWENTY_ONE_ALIGHT_NUM\" : 16246, \"SEVENTEEN_ALIGHT_NUM\" : 29101, \"SIXTEEN_ALIGHT_NUM\" : 22890, \"EIGHT_ALIGHT_NUM\" : 73679, \"FOURTEEN_RIDE_NUM\" : 22577, \"SIXTEEN_RIDE_NUM\" : 31328, \"TWENTY_ONE_RIDE_NUM\" : 20356, \"FIFTEEN_ALIGHT_NUM\" : 21065, \"TWELVE_RIDE_NUM\" : 19294, \"SEVENTEEN_RIDE_NUM\" : 42127, \"MIDNIGHT_RIDE_NUM\" : 1, \"EIGHT_RIDE_NUM\" : 30780 }, { \"FOUR_ALIGHT_NUM\" : 3, \"USE_MON\" : \"202106\", \"LINE_NUM\" : \"2호선\", \"FIFTEEN_RIDE_NUM\" : 45379, \"TWENTY_TWO_RIDE_NUM\" : 62883, \"WORK_DT\" : \"20210703\", \"FIVE_ALIGHT_NUM\" : 3608, \"SUB_STA_NM\" : \"사당\", \"FIVE_RIDE_NUM\" : 11914, \"EIGHTEEN_ALIGHT_NUM\" : 150629, \"FOURTEEN_ALIGHT_NUM\" : 43258, \"SEVEN_RIDE_NUM\" : 71046, \"NINETEEN_ALIGHT_NUM\" : 101100, \"TWO_ALIGHT_NUM\" : 0, \"TEN_RIDE_NUM\" : 42278, \"TEN_ALIGHT_NUM\" : 38259, \"TWENTY_ALIGHT_NUM\" : 58073, \"EIGHTEEN_RIDE_NUM\" : 87006, \"TWELVE_ALIGHT_NUM\" : 41123, \"TWENTY_THREE_RIDE_NUM\" : 11040, \"NINE_ALIGHT_NUM\" : 46692, \"THIRTEEN_ALIGHT_NUM\" : 43722, \"NINE_RIDE_NUM\" : 68597, \"ONE_RIDE_NUM\" : 0, \"SIX_RIDE_NUM\" : 25142, \"THREE_RIDE_NUM\" : 0, \"TWENTY_TWO_ALIGHT_NUM\" : 67449, \"TWO_RIDE_NUM\" : 0, \"SEVEN_ALIGHT_NUM\" : 40749, \"THREE_ALIGHT_NUM\" : 0, \"ELEVEN_RIDE_NUM\" : 38482, \"ONE_ALIGHT_NUM\" : 0, \"NINETEEN_RIDE_NUM\" : 53854, \"MIDNIGHT_ALIGHT_NUM\" : 1427, \"TWENTY_THREE_ALIGHT_NUM\" : 25121, \"FOUR_RIDE_NUM\" : 93, \"TWENTY_RIDE_NUM\" : 48106, \"THIRTEEN_RIDE_NUM\" : 44447, \"SIX_ALIGHT_NUM\" : 27176, \"ELEVEN_ALIGHT_NUM\" : 40378, \"TWENTY_ONE_ALIGHT_NUM\" : 56336, \"SEVENTEEN_ALIGHT_NUM\" : 98322, \"SIXTEEN_ALIGHT_NUM\" : 66369, \"EIGHT_ALIGHT_NUM\" : 61741, \"FOURTEEN_RIDE_NUM\" : 43953, \"SIXTEEN_RIDE_NUM\" : 50491, \"TWENTY_ONE_RIDE_NUM\" : 61899, \"FIFTEEN_ALIGHT_NUM\" : 51658, \"TWELVE_RIDE_NUM\" : 42965, \"SEVENTEEN_RIDE_NUM\" : 63099, \"MIDNIGHT_RIDE_NUM\" : 5, \"EIGHT_RIDE_NUM\" : 99350 }, { \"FOUR_ALIGHT_NUM\" : 0, \"USE_MON\" : \"202106\", \"LINE_NUM\" : \"2호선\", \"FIFTEEN_RIDE_NUM\" : 33446, \"TWENTY_TWO_RIDE_NUM\" : 17056, \"WORK_DT\" : \"20210703\", \"FIVE_ALIGHT_NUM\" : 1942, \"SUB_STA_NM\" : \"낙성대(강감찬)\", \"FIVE_RIDE_NUM\" : 11657, \"EIGHTEEN_ALIGHT_NUM\" : 95878, \"FOURTEEN_ALIGHT_NUM\" : 28381, \"SEVEN_RIDE_NUM\" : 77510, \"NINETEEN_ALIGHT_NUM\" : 81237, \"TWO_ALIGHT_NUM\" : 0, \"TEN_RIDE_NUM\" : 39332, \"TEN_ALIGHT_NUM\" : 23826, \"TWENTY_ALIGHT_NUM\" : 50982, \"EIGHTEEN_RIDE_NUM\" : 46497, \"TWELVE_ALIGHT_NUM\" : 24991, \"TWENTY_THREE_RIDE_NUM\" : 4231, \"NINE_ALIGHT_NUM\" : 30811, \"THIRTEEN_ALIGHT_NUM\" : 25891, \"NINE_RIDE_NUM\" : 76944, \"ONE_RIDE_NUM\" : 0, \"SIX_RIDE_NUM\" : 26007, \"THREE_RIDE_NUM\" : 0, \"TWENTY_TWO_ALIGHT_NUM\" : 62294, \"TWO_RIDE_NUM\" : 0, \"SEVEN_ALIGHT_NUM\" : 20099, \"THREE_ALIGHT_NUM\" : 0, \"ELEVEN_RIDE_NUM\" : 33589, \"ONE_ALIGHT_NUM\" : 0, \"NINETEEN_RIDE_NUM\" : 26218, \"MIDNIGHT_ALIGHT_NUM\" : 1409, \"TWENTY_THREE_ALIGHT_NUM\" : 22418, \"FOUR_RIDE_NUM\" : 56, \"TWENTY_RIDE_NUM\" : 20440, \"THIRTEEN_RIDE_NUM\" : 34536, \"SIX_ALIGHT_NUM\" : 8488, \"ELEVEN_ALIGHT_NUM\" : 21550, \"TWENTY_ONE_ALIGHT_NUM\" : 49182, \"SEVENTEEN_ALIGHT_NUM\" : 55950, \"SIXTEEN_ALIGHT_NUM\" : 38821, \"EIGHT_ALIGHT_NUM\" : 38509, \"FOURTEEN_RIDE_NUM\" : 31855, \"SIXTEEN_RIDE_NUM\" : 36243, \"TWENTY_ONE_RIDE_NUM\" : 20718, \"FIFTEEN_ALIGHT_NUM\" : 32751, \"TWELVE_RIDE_NUM\" : 35687, \"SEVENTEEN_RIDE_NUM\" : 43151, \"MIDNIGHT_RIDE_NUM\" : 6, \"EIGHT_RIDE_NUM\" : 125167 }, { \"FOUR_ALIGHT_NUM\" : 12, \"USE_MON\" : \"202106\", \"LINE_NUM\" : \"2호선\", \"FIFTEEN_RIDE_NUM\" : 60652, \"TWENTY_TWO_RIDE_NUM\" : 45312, \"WORK_DT\" : \"20210703\", \"FIVE_ALIGHT_NUM\" : 2372, \"SUB_STA_NM\" : \"서울대입구(관악구청)\", \"FIVE_RIDE_NUM\" : 28844, \"EIGHTEEN_ALIGHT_NUM\" : 173128, \"FOURTEEN_ALIGHT_NUM\" : 53703, \"SEVEN_RIDE_NUM\" : 126268, \"NINETEEN_ALIGHT_NUM\" : 141346, \"TWO_ALIGHT_NUM\" : 0, \"TEN_RIDE_NUM\" : 61185, \"TEN_ALIGHT_NUM\" : 48062, \"TWENTY_ALIGHT_NUM\" : 80526, \"EIGHTEEN_RIDE_NUM\" : 85401, \"TWELVE_ALIGHT_NUM\" : 47115, \"TWENTY_THREE_RIDE_NUM\" : 9108, \"NINE_ALIGHT_NUM\" : 60236, \"THIRTEEN_ALIGHT_NUM\" : 52218, \"NINE_RIDE_NUM\" : 114219, \"ONE_RIDE_NUM\" : 0, \"SIX_RIDE_NUM\" : 43374, \"THREE_RIDE_NUM\" : 0, \"TWENTY_TWO_ALIGHT_NUM\" : 94861, \"TWO_RIDE_NUM\" : 0, \"SEVEN_ALIGHT_NUM\" : 31479, \"THREE_ALIGHT_NUM\" : 0, \"ELEVEN_RIDE_NUM\" : 54187, \"ONE_ALIGHT_NUM\" : 0, \"NINETEEN_RIDE_NUM\" : 50652, \"MIDNIGHT_ALIGHT_NUM\" : 7332, \"TWENTY_THREE_ALIGHT_NUM\" : 35233, \"FOUR_RIDE_NUM\" : 3862, \"TWENTY_RIDE_NUM\" : 42459, \"THIRTEEN_RIDE_NUM\" : 60081, \"SIX_ALIGHT_NUM\" : 13516, \"ELEVEN_ALIGHT_NUM\" : 42982, \"TWENTY_ONE_ALIGHT_NUM\" : 74010, \"SEVENTEEN_ALIGHT_NUM\" : 101650, \"SIXTEEN_ALIGHT_NUM\" : 72036, \"EIGHT_ALIGHT_NUM\" : 65620, \"FOURTEEN_RIDE_NUM\" : 56096, \"SIXTEEN_RIDE_NUM\" : 68997, \"TWENTY_ONE_RIDE_NUM\" : 50213, \"FIFTEEN_ALIGHT_NUM\" : 61127, \"TWELVE_RIDE_NUM\" : 60127, \"SEVENTEEN_RIDE_NUM\" : 76654, \"MIDNIGHT_RIDE_NUM\" : 1, \"EIGHT_RIDE_NUM\" : 182014 }, { \"FOUR_ALIGHT_NUM\" : 0, \"USE_MON\" : \"202106\", \"LINE_NUM\" : \"2호선\", \"FIFTEEN_RIDE_NUM\" : 26455, \"TWENTY_TWO_RIDE_NUM\" : 11213, \"WORK_DT\" : \"20210703\", \"FIVE_ALIGHT_NUM\" : 1588, \"SUB_STA_NM\" : \"봉천\", \"FIVE_RIDE_NUM\" : 15809, \"EIGHTEEN_ALIGHT_NUM\" : 85946, \"FOURTEEN_ALIGHT_NUM\" : 25036, \"SEVEN_RIDE_NUM\" : 80452, \"NINETEEN_ALIGHT_NUM\" : 70985, \"TWO_ALIGHT_NUM\" : 0, \"TEN_RIDE_NUM\" : 36127, \"TEN_ALIGHT_NUM\" : 18991, \"TWENTY_ALIGHT_NUM\" : 42176, \"EIGHTEEN_RIDE_NUM\" : 32484, \"TWELVE_ALIGHT_NUM\" : 20935, \"TWENTY_THREE_RIDE_NUM\" : 2650, \"NINE_ALIGHT_NUM\" : 19903, \"THIRTEEN_ALIGHT_NUM\" : 23982, \"NINE_RIDE_NUM\" : 68994, \"ONE_RIDE_NUM\" : 0, \"SIX_RIDE_NUM\" : 28936, \"THREE_RIDE_NUM\" : 0, \"TWENTY_TWO_ALIGHT_NUM\" : 46417, \"TWO_RIDE_NUM\" : 0, \"SEVEN_ALIGHT_NUM\" : 13080, \"THREE_ALIGHT_NUM\" : 0, \"ELEVEN_RIDE_NUM\" : 29630, \"ONE_ALIGHT_NUM\" : 0, \"NINETEEN_RIDE_NUM\" : 18089, \"MIDNIGHT_ALIGHT_NUM\" : 216, \"TWENTY_THREE_ALIGHT_NUM\" : 18540, \"FOUR_RIDE_NUM\" : 49, \"TWENTY_RIDE_NUM\" : 14527, \"THIRTEEN_RIDE_NUM\" : 30956, \"SIX_ALIGHT_NUM\" : 7349, \"ELEVEN_ALIGHT_NUM\" : 19263, \"TWENTY_ONE_ALIGHT_NUM\" : 40541, \"SEVENTEEN_ALIGHT_NUM\" : 50275, \"SIXTEEN_ALIGHT_NUM\" : 36485, \"EIGHT_ALIGHT_NUM\" : 26337, \"FOURTEEN_RIDE_NUM\" : 26115, \"SIXTEEN_RIDE_NUM\" : 29254, \"TWENTY_ONE_RIDE_NUM\" : 14440, \"FIFTEEN_ALIGHT_NUM\" : 32375, \"TWELVE_RIDE_NUM\" : 30628, \"SEVENTEEN_RIDE_NUM\" : 29450, \"MIDNIGHT_RIDE_NUM\" : 1, \"EIGHT_RIDE_NUM\" : 122108 } ], \"RESULT\" : { \"MESSAGE\" : \"정상 처리되었습니다\", \"CODE\" : \"INFO-000\" }, \"list_total_count\" : 608 } }\n",
      "{ \"_id\" : ObjectId(\"61137bf8f5e6e923651418fd\"), \"CardSubwayTime\" : { \"row\" : [ { \"FOUR_ALIGHT_NUM\" : 12, \"USE_MON\" : \"202106\", \"LINE_NUM\" : \"2호선\", \"FIFTEEN_RIDE_NUM\" : 66286, \"TWENTY_TWO_RIDE_NUM\" : 44506, \"WORK_DT\" : \"20210703\", \"FIVE_ALIGHT_NUM\" : 3706, \"SUB_STA_NM\" : \"신림\", \"FIVE_RIDE_NUM\" : 40109, \"EIGHTEEN_ALIGHT_NUM\" : 245476, \"FOURTEEN_ALIGHT_NUM\" : 64001, \"SEVEN_RIDE_NUM\" : 203625, \"NINETEEN_ALIGHT_NUM\" : 211491, \"TWO_ALIGHT_NUM\" : 0, \"TEN_RIDE_NUM\" : 92298, \"TEN_ALIGHT_NUM\" : 41946, \"TWENTY_ALIGHT_NUM\" : 124849, \"EIGHTEEN_RIDE_NUM\" : 83121, \"TWELVE_ALIGHT_NUM\" : 49982, \"TWENTY_THREE_RIDE_NUM\" : 10139, \"NINE_ALIGHT_NUM\" : 49526, \"THIRTEEN_ALIGHT_NUM\" : 57346, \"NINE_RIDE_NUM\" : 177267, \"ONE_RIDE_NUM\" : 1, \"SIX_RIDE_NUM\" : 75790, \"THREE_RIDE_NUM\" : 0, \"TWENTY_TWO_ALIGHT_NUM\" : 139486, \"TWO_RIDE_NUM\" : 0, \"SEVEN_ALIGHT_NUM\" : 34585, \"THREE_ALIGHT_NUM\" : 0, \"ELEVEN_RIDE_NUM\" : 74891, \"ONE_ALIGHT_NUM\" : 1, \"NINETEEN_RIDE_NUM\" : 50878, \"MIDNIGHT_ALIGHT_NUM\" : 69, \"TWENTY_THREE_ALIGHT_NUM\" : 63466, \"FOUR_RIDE_NUM\" : 237, \"TWENTY_RIDE_NUM\" : 42944, \"THIRTEEN_RIDE_NUM\" : 74554, \"SIX_ALIGHT_NUM\" : 19644, \"ELEVEN_ALIGHT_NUM\" : 42580, \"TWENTY_ONE_ALIGHT_NUM\" : 120268, \"SEVENTEEN_ALIGHT_NUM\" : 139259, \"SIXTEEN_ALIGHT_NUM\" : 95686, \"EIGHT_ALIGHT_NUM\" : 63808, \"FOURTEEN_RIDE_NUM\" : 66989, \"SIXTEEN_RIDE_NUM\" : 75620, \"TWENTY_ONE_RIDE_NUM\" : 46544, \"FIFTEEN_ALIGHT_NUM\" : 79514, \"TWELVE_RIDE_NUM\" : 79100, \"SEVENTEEN_RIDE_NUM\" : 82438, \"MIDNIGHT_RIDE_NUM\" : 1, \"EIGHT_RIDE_NUM\" : 311074 }, { \"FOUR_ALIGHT_NUM\" : 7, \"USE_MON\" : \"202106\", \"LINE_NUM\" : \"2호선\", \"FIFTEEN_RIDE_NUM\" : 27039, \"TWENTY_TWO_RIDE_NUM\" : 10554, \"WORK_DT\" : \"20210703\", \"FIVE_ALIGHT_NUM\" : 1891, \"SUB_STA_NM\" : \"신대방\", \"FIVE_RIDE_NUM\" : 26149, \"EIGHTEEN_ALIGHT_NUM\" : 93073, \"FOURTEEN_ALIGHT_NUM\" : 26229, \"SEVEN_RIDE_NUM\" : 88550, \"NINETEEN_ALIGHT_NUM\" : 80612, \"TWO_ALIGHT_NUM\" : 0, \"TEN_RIDE_NUM\" : 40883, \"TEN_ALIGHT_NUM\" : 17774, \"TWENTY_ALIGHT_NUM\" : 51039, \"EIGHTEEN_RIDE_NUM\" : 40888, \"TWELVE_ALIGHT_NUM\" : 21217, \"TWENTY_THREE_RIDE_NUM\" : 2900, \"NINE_ALIGHT_NUM\" : 22096, \"THIRTEEN_ALIGHT_NUM\" : 23533, \"NINE_RIDE_NUM\" : 76528, \"ONE_RIDE_NUM\" : 0, \"SIX_RIDE_NUM\" : 36950, \"THREE_RIDE_NUM\" : 0, \"TWENTY_TWO_ALIGHT_NUM\" : 61617, \"TWO_RIDE_NUM\" : 0, \"SEVEN_ALIGHT_NUM\" : 17853, \"THREE_ALIGHT_NUM\" : 0, \"ELEVEN_RIDE_NUM\" : 31804, \"ONE_ALIGHT_NUM\" : 0, \"NINETEEN_RIDE_NUM\" : 21873, \"MIDNIGHT_ALIGHT_NUM\" : 4, \"TWENTY_THREE_ALIGHT_NUM\" : 27266, \"FOUR_RIDE_NUM\" : 181, \"TWENTY_RIDE_NUM\" : 15635, \"THIRTEEN_RIDE_NUM\" : 30551, \"SIX_ALIGHT_NUM\" : 8715, \"ELEVEN_ALIGHT_NUM\" : 18183, \"TWENTY_ONE_ALIGHT_NUM\" : 55014, \"SEVENTEEN_ALIGHT_NUM\" : 59888, \"SIXTEEN_ALIGHT_NUM\" : 41453, \"EIGHT_ALIGHT_NUM\" : 32348, \"FOURTEEN_RIDE_NUM\" : 27223, \"SIXTEEN_RIDE_NUM\" : 30566, \"TWENTY_ONE_RIDE_NUM\" : 12507, \"FIFTEEN_ALIGHT_NUM\" : 35452, \"TWELVE_RIDE_NUM\" : 32145, \"SEVENTEEN_RIDE_NUM\" : 34057, \"MIDNIGHT_RIDE_NUM\" : 0, \"EIGHT_RIDE_NUM\" : 130425 }, { \"FOUR_ALIGHT_NUM\" : 6, \"USE_MON\" : \"202106\", \"LINE_NUM\" : \"2호선\", \"FIFTEEN_RIDE_NUM\" : 57430, \"TWENTY_TWO_RIDE_NUM\" : 49254, \"WORK_DT\" : \"20210703\", \"FIVE_ALIGHT_NUM\" : 5663, \"SUB_STA_NM\" : \"구로디지털단지\", \"FIVE_RIDE_NUM\" : 40159, \"EIGHTEEN_ALIGHT_NUM\" : 162836, \"FOURTEEN_ALIGHT_NUM\" : 50689, \"SEVEN_RIDE_NUM\" : 134048, \"NINETEEN_ALIGHT_NUM\" : 125661, \"TWO_ALIGHT_NUM\" : 0, \"TEN_RIDE_NUM\" : 60920, \"TEN_ALIGHT_NUM\" : 57973, \"TWENTY_ALIGHT_NUM\" : 76419, \"EIGHTEEN_RIDE_NUM\" : 236175, \"TWELVE_ALIGHT_NUM\" : 44629, \"TWENTY_THREE_RIDE_NUM\" : 7902, \"NINE_ALIGHT_NUM\" : 152613, \"THIRTEEN_ALIGHT_NUM\" : 51260, \"NINE_RIDE_NUM\" : 109828, \"ONE_RIDE_NUM\" : 1, \"SIX_RIDE_NUM\" : 52880, \"THREE_RIDE_NUM\" : 0, \"TWENTY_TWO_ALIGHT_NUM\" : 89412, \"TWO_RIDE_NUM\" : 0, \"SEVEN_ALIGHT_NUM\" : 85822, \"THREE_ALIGHT_NUM\" : 0, \"ELEVEN_RIDE_NUM\" : 54690, \"ONE_ALIGHT_NUM\" : 1, \"NINETEEN_RIDE_NUM\" : 109183, \"MIDNIGHT_ALIGHT_NUM\" : 34, \"TWENTY_THREE_ALIGHT_NUM\" : 36652, \"FOUR_RIDE_NUM\" : 285, \"TWENTY_RIDE_NUM\" : 61807, \"THIRTEEN_RIDE_NUM\" : 61034, \"SIX_ALIGHT_NUM\" : 22522, \"ELEVEN_ALIGHT_NUM\" : 43450, \"TWENTY_ONE_ALIGHT_NUM\" : 75719, \"SEVENTEEN_ALIGHT_NUM\" : 103734, \"SIXTEEN_ALIGHT_NUM\" : 70809, \"EIGHT_ALIGHT_NUM\" : 268761, \"FOURTEEN_RIDE_NUM\" : 55513, \"SIXTEEN_RIDE_NUM\" : 70475, \"TWENTY_ONE_RIDE_NUM\" : 56760, \"FIFTEEN_ALIGHT_NUM\" : 60106, \"TWELVE_RIDE_NUM\" : 59463, \"SEVENTEEN_RIDE_NUM\" : 126410, \"MIDNIGHT_RIDE_NUM\" : 0, \"EIGHT_RIDE_NUM\" : 183174 }, { \"FOUR_ALIGHT_NUM\" : 20, \"USE_MON\" : \"202106\", \"LINE_NUM\" : \"2호선\", \"FIFTEEN_RIDE_NUM\" : 28836, \"TWENTY_TWO_RIDE_NUM\" : 12799, \"WORK_DT\" : \"20210703\", \"FIVE_ALIGHT_NUM\" : 3267, \"SUB_STA_NM\" : \"대림(구로구청)\", \"FIVE_RIDE_NUM\" : 34772, \"EIGHTEEN_ALIGHT_NUM\" : 72361, \"FOURTEEN_ALIGHT_NUM\" : 29703, \"SEVEN_RIDE_NUM\" : 65255, \"NINETEEN_ALIGHT_NUM\" : 52134, \"TWO_ALIGHT_NUM\" : 0, \"TEN_RIDE_NUM\" : 33297, \"TEN_ALIGHT_NUM\" : 28143, \"TWENTY_ALIGHT_NUM\" : 34930, \"EIGHTEEN_RIDE_NUM\" : 52957, \"TWELVE_ALIGHT_NUM\" : 27936, \"TWENTY_THREE_RIDE_NUM\" : 3662, \"NINE_ALIGHT_NUM\" : 34946, \"THIRTEEN_ALIGHT_NUM\" : 29486, \"NINE_RIDE_NUM\" : 61110, \"ONE_RIDE_NUM\" : 1, \"SIX_RIDE_NUM\" : 29903, \"THREE_RIDE_NUM\" : 0, \"TWENTY_TWO_ALIGHT_NUM\" : 50327, \"TWO_RIDE_NUM\" : 0, \"SEVEN_ALIGHT_NUM\" : 24681, \"THREE_ALIGHT_NUM\" : 0, \"ELEVEN_RIDE_NUM\" : 27642, \"ONE_ALIGHT_NUM\" : 0, \"NINETEEN_RIDE_NUM\" : 26990, \"MIDNIGHT_ALIGHT_NUM\" : 305, \"TWENTY_THREE_ALIGHT_NUM\" : 17529, \"FOUR_RIDE_NUM\" : 412, \"TWENTY_RIDE_NUM\" : 18925, \"THIRTEEN_RIDE_NUM\" : 29912, \"SIX_ALIGHT_NUM\" : 11601, \"ELEVEN_ALIGHT_NUM\" : 28225, \"TWENTY_ONE_ALIGHT_NUM\" : 44849, \"SEVENTEEN_ALIGHT_NUM\" : 58740, \"SIXTEEN_ALIGHT_NUM\" : 41615, \"EIGHT_ALIGHT_NUM\" : 56423, \"FOURTEEN_RIDE_NUM\" : 27827, \"SIXTEEN_RIDE_NUM\" : 33233, \"TWENTY_ONE_RIDE_NUM\" : 16643, \"FIFTEEN_ALIGHT_NUM\" : 37228, \"TWELVE_RIDE_NUM\" : 30079, \"SEVENTEEN_RIDE_NUM\" : 41912, \"MIDNIGHT_RIDE_NUM\" : 2, \"EIGHT_RIDE_NUM\" : 91050 }, { \"FOUR_ALIGHT_NUM\" : 15, \"USE_MON\" : \"202106\", \"LINE_NUM\" : \"2호선\", \"FIFTEEN_RIDE_NUM\" : 62811, \"TWENTY_TWO_RIDE_NUM\" : 56779, \"WORK_DT\" : \"20210703\", \"FIVE_ALIGHT_NUM\" : 4839, \"SUB_STA_NM\" : \"신도림\", \"FIVE_RIDE_NUM\" : 35758, \"EIGHTEEN_ALIGHT_NUM\" : 168715, \"FOURTEEN_ALIGHT_NUM\" : 59223, \"SEVEN_RIDE_NUM\" : 131054, \"NINETEEN_ALIGHT_NUM\" : 119777, \"TWO_ALIGHT_NUM\" : 0, \"TEN_RIDE_NUM\" : 53442, \"TEN_ALIGHT_NUM\" : 58206, \"TWENTY_ALIGHT_NUM\" : 65693, \"EIGHTEEN_RIDE_NUM\" : 123634, \"TWELVE_ALIGHT_NUM\" : 57805, \"TWENTY_THREE_RIDE_NUM\" : 9603, \"NINE_ALIGHT_NUM\" : 62858, \"THIRTEEN_ALIGHT_NUM\" : 61643, \"NINE_RIDE_NUM\" : 82632, \"ONE_RIDE_NUM\" : 0, \"SIX_RIDE_NUM\" : 49765, \"THREE_RIDE_NUM\" : 0, \"TWENTY_TWO_ALIGHT_NUM\" : 79956, \"TWO_RIDE_NUM\" : 0, \"SEVEN_ALIGHT_NUM\" : 39621, \"THREE_ALIGHT_NUM\" : 0, \"ELEVEN_RIDE_NUM\" : 51495, \"ONE_ALIGHT_NUM\" : 1, \"NINETEEN_RIDE_NUM\" : 67229, \"MIDNIGHT_ALIGHT_NUM\" : 7289, \"TWENTY_THREE_ALIGHT_NUM\" : 34253, \"FOUR_RIDE_NUM\" : 3713, \"TWENTY_RIDE_NUM\" : 56970, \"THIRTEEN_RIDE_NUM\" : 61366, \"SIX_ALIGHT_NUM\" : 17439, \"ELEVEN_ALIGHT_NUM\" : 54544, \"TWENTY_ONE_ALIGHT_NUM\" : 63590, \"SEVENTEEN_ALIGHT_NUM\" : 102546, \"SIXTEEN_ALIGHT_NUM\" : 75040, \"EIGHT_ALIGHT_NUM\" : 109578, \"FOURTEEN_RIDE_NUM\" : 59828, \"SIXTEEN_RIDE_NUM\" : 72684, \"TWENTY_ONE_RIDE_NUM\" : 65938, \"FIFTEEN_ALIGHT_NUM\" : 66591, \"TWELVE_RIDE_NUM\" : 59198, \"SEVENTEEN_RIDE_NUM\" : 90721, \"MIDNIGHT_RIDE_NUM\" : 22, \"EIGHT_RIDE_NUM\" : 133861 } ], \"RESULT\" : { \"MESSAGE\" : \"정상 처리되었습니다\", \"CODE\" : \"INFO-000\" }, \"list_total_count\" : 608 } }\n",
      "{ \"_id\" : ObjectId(\"61137bf8f5e6e923651418fe\"), \"CardSubwayTime\" : { \"row\" : [ { \"FOUR_ALIGHT_NUM\" : 0, \"USE_MON\" : \"202106\", \"LINE_NUM\" : \"2호선\", \"FIFTEEN_RIDE_NUM\" : 23904, \"TWENTY_TWO_RIDE_NUM\" : 25190, \"WORK_DT\" : \"20210703\", \"FIVE_ALIGHT_NUM\" : 2246, \"SUB_STA_NM\" : \"문래\", \"FIVE_RIDE_NUM\" : 3750, \"EIGHTEEN_ALIGHT_NUM\" : 55422, \"FOURTEEN_ALIGHT_NUM\" : 20881, \"SEVEN_RIDE_NUM\" : 42587, \"NINETEEN_ALIGHT_NUM\" : 38466, \"TWO_ALIGHT_NUM\" : 1, \"TEN_RIDE_NUM\" : 17682, \"TEN_ALIGHT_NUM\" : 21707, \"TWENTY_ALIGHT_NUM\" : 19248, \"EIGHTEEN_RIDE_NUM\" : 103006, \"TWELVE_ALIGHT_NUM\" : 21015, \"TWENTY_THREE_RIDE_NUM\" : 3860, \"NINE_ALIGHT_NUM\" : 54728, \"THIRTEEN_ALIGHT_NUM\" : 21885, \"NINE_RIDE_NUM\" : 25361, \"ONE_RIDE_NUM\" : 0, \"SIX_RIDE_NUM\" : 13425, \"THREE_RIDE_NUM\" : 0, \"TWENTY_TWO_ALIGHT_NUM\" : 20479, \"TWO_RIDE_NUM\" : 1, \"SEVEN_ALIGHT_NUM\" : 35904, \"THREE_ALIGHT_NUM\" : 0, \"ELEVEN_RIDE_NUM\" : 17109, \"ONE_ALIGHT_NUM\" : 0, \"NINETEEN_RIDE_NUM\" : 35687, \"MIDNIGHT_ALIGHT_NUM\" : 212, \"TWENTY_THREE_ALIGHT_NUM\" : 7474, \"FOUR_RIDE_NUM\" : 12, \"TWENTY_RIDE_NUM\" : 24287, \"THIRTEEN_RIDE_NUM\" : 21095, \"SIX_ALIGHT_NUM\" : 10424, \"ELEVEN_ALIGHT_NUM\" : 18746, \"TWENTY_ONE_ALIGHT_NUM\" : 17526, \"SEVENTEEN_ALIGHT_NUM\" : 33613, \"SIXTEEN_ALIGHT_NUM\" : 25703, \"EIGHT_ALIGHT_NUM\" : 124013, \"FOURTEEN_RIDE_NUM\" : 21179, \"SIXTEEN_RIDE_NUM\" : 29692, \"TWENTY_ONE_RIDE_NUM\" : 27139, \"FIFTEEN_ALIGHT_NUM\" : 22436, \"TWELVE_RIDE_NUM\" : 19191, \"SEVENTEEN_RIDE_NUM\" : 53988, \"MIDNIGHT_RIDE_NUM\" : 3, \"EIGHT_RIDE_NUM\" : 46699 }, { \"FOUR_ALIGHT_NUM\" : 0, \"USE_MON\" : \"202106\", \"LINE_NUM\" : \"2호선\", \"FIFTEEN_RIDE_NUM\" : 28402, \"TWENTY_TWO_RIDE_NUM\" : 20561, \"WORK_DT\" : \"20210703\", \"FIVE_ALIGHT_NUM\" : 2986, \"SUB_STA_NM\" : \"영등포구청\", \"FIVE_RIDE_NUM\" : 5705, \"EIGHTEEN_ALIGHT_NUM\" : 52769, \"FOURTEEN_ALIGHT_NUM\" : 23438, \"SEVEN_RIDE_NUM\" : 40313, \"NINETEEN_ALIGHT_NUM\" : 35452, \"TWO_ALIGHT_NUM\" : 1, \"TEN_RIDE_NUM\" : 22530, \"TEN_ALIGHT_NUM\" : 26225, \"TWENTY_ALIGHT_NUM\" : 19737, \"EIGHTEEN_RIDE_NUM\" : 107795, \"TWELVE_ALIGHT_NUM\" : 23126, \"TWENTY_THREE_RIDE_NUM\" : 3850, \"NINE_ALIGHT_NUM\" : 55573, \"THIRTEEN_ALIGHT_NUM\" : 25375, \"NINE_RIDE_NUM\" : 29459, \"ONE_RIDE_NUM\" : 0, \"SIX_RIDE_NUM\" : 12736, \"THREE_RIDE_NUM\" : 0, \"TWENTY_TWO_ALIGHT_NUM\" : 21730, \"TWO_RIDE_NUM\" : 1, \"SEVEN_ALIGHT_NUM\" : 37627, \"THREE_ALIGHT_NUM\" : 0, \"ELEVEN_RIDE_NUM\" : 23320, \"ONE_ALIGHT_NUM\" : 0, \"NINETEEN_RIDE_NUM\" : 33349, \"MIDNIGHT_ALIGHT_NUM\" : 244, \"TWENTY_THREE_ALIGHT_NUM\" : 9464, \"FOUR_RIDE_NUM\" : 27, \"TWENTY_RIDE_NUM\" : 24451, \"THIRTEEN_RIDE_NUM\" : 25591, \"SIX_ALIGHT_NUM\" : 14512, \"ELEVEN_ALIGHT_NUM\" : 22196, \"TWENTY_ONE_ALIGHT_NUM\" : 19127, \"SEVENTEEN_ALIGHT_NUM\" : 33336, \"SIXTEEN_ALIGHT_NUM\" : 26909, \"EIGHT_ALIGHT_NUM\" : 125800, \"FOURTEEN_RIDE_NUM\" : 26375, \"SIXTEEN_RIDE_NUM\" : 34762, \"TWENTY_ONE_RIDE_NUM\" : 25942, \"FIFTEEN_ALIGHT_NUM\" : 24023, \"TWELVE_RIDE_NUM\" : 24712, \"SEVENTEEN_RIDE_NUM\" : 54915, \"MIDNIGHT_RIDE_NUM\" : 1, \"EIGHT_RIDE_NUM\" : 47132 }, { \"FOUR_ALIGHT_NUM\" : 4, \"USE_MON\" : \"202106\", \"LINE_NUM\" : \"2호선\", \"FIFTEEN_RIDE_NUM\" : 22033, \"TWENTY_TWO_RIDE_NUM\" : 21194, \"WORK_DT\" : \"20210703\", \"FIVE_ALIGHT_NUM\" : 3109, \"SUB_STA_NM\" : \"당산\", \"FIVE_RIDE_NUM\" : 6576, \"EIGHTEEN_ALIGHT_NUM\" : 73469, \"FOURTEEN_ALIGHT_NUM\" : 20677, \"SEVEN_RIDE_NUM\" : 45774, \"NINETEEN_ALIGHT_NUM\" : 48000, \"TWO_ALIGHT_NUM\" : 0, \"TEN_RIDE_NUM\" : 21461, \"TEN_ALIGHT_NUM\" : 18344, \"TWENTY_ALIGHT_NUM\" : 29505, \"EIGHTEEN_RIDE_NUM\" : 60343, \"TWELVE_ALIGHT_NUM\" : 18874, \"TWENTY_THREE_RIDE_NUM\" : 4488, \"NINE_ALIGHT_NUM\" : 37339, \"THIRTEEN_ALIGHT_NUM\" : 21079, \"NINE_RIDE_NUM\" : 31967, \"ONE_RIDE_NUM\" : 0, \"SIX_RIDE_NUM\" : 17276, \"THREE_RIDE_NUM\" : 0, \"TWENTY_TWO_ALIGHT_NUM\" : 33814, \"TWO_RIDE_NUM\" : 0, \"SEVEN_ALIGHT_NUM\" : 29933, \"THREE_ALIGHT_NUM\" : 0, \"ELEVEN_RIDE_NUM\" : 20442, \"ONE_ALIGHT_NUM\" : 0, \"NINETEEN_RIDE_NUM\" : 26398, \"MIDNIGHT_ALIGHT_NUM\" : 205, \"TWENTY_THREE_ALIGHT_NUM\" : 13350, \"FOUR_RIDE_NUM\" : 44, \"TWENTY_RIDE_NUM\" : 19514, \"THIRTEEN_RIDE_NUM\" : 21111, \"SIX_ALIGHT_NUM\" : 12432, \"ELEVEN_ALIGHT_NUM\" : 16913, \"TWENTY_ONE_ALIGHT_NUM\" : 29942, \"SEVENTEEN_ALIGHT_NUM\" : 43049, \"SIXTEEN_ALIGHT_NUM\" : 28613, \"EIGHT_ALIGHT_NUM\" : 78083, \"FOURTEEN_RIDE_NUM\" : 20485, \"SIXTEEN_RIDE_NUM\" : 25602, \"TWENTY_ONE_RIDE_NUM\" : 22644, \"FIFTEEN_ALIGHT_NUM\" : 22902, \"TWELVE_RIDE_NUM\" : 21169, \"SEVENTEEN_RIDE_NUM\" : 40176, \"MIDNIGHT_RIDE_NUM\" : 1, \"EIGHT_RIDE_NUM\" : 55760 }, { \"FOUR_ALIGHT_NUM\" : 2, \"USE_MON\" : \"202106\", \"LINE_NUM\" : \"2호선\", \"FIFTEEN_RIDE_NUM\" : 39489, \"TWENTY_TWO_RIDE_NUM\" : 72126, \"WORK_DT\" : \"20210703\", \"FIVE_ALIGHT_NUM\" : 2808, \"SUB_STA_NM\" : \"합정\", \"FIVE_RIDE_NUM\" : 7414, \"EIGHTEEN_ALIGHT_NUM\" : 106646, \"FOURTEEN_ALIGHT_NUM\" : 46082, \"SEVEN_RIDE_NUM\" : 43598, \"NINETEEN_ALIGHT_NUM\" : 67275, \"TWO_ALIGHT_NUM\" : 0, \"TEN_RIDE_NUM\" : 24762, \"TEN_ALIGHT_NUM\" : 42091, \"TWENTY_ALIGHT_NUM\" : 32572, \"EIGHTEEN_RIDE_NUM\" : 108858, \"TWELVE_ALIGHT_NUM\" : 44826, \"TWENTY_THREE_RIDE_NUM\" : 11881, \"NINE_ALIGHT_NUM\" : 78212, \"THIRTEEN_ALIGHT_NUM\" : 50083, \"NINE_RIDE_NUM\" : 35421, \"ONE_RIDE_NUM\" : 0, \"SIX_RIDE_NUM\" : 17437, \"THREE_RIDE_NUM\" : 0, \"TWENTY_TWO_ALIGHT_NUM\" : 30239, \"TWO_RIDE_NUM\" : 0, \"SEVEN_ALIGHT_NUM\" : 33017, \"THREE_ALIGHT_NUM\" : 0, \"ELEVEN_RIDE_NUM\" : 25478, \"ONE_ALIGHT_NUM\" : 0, \"NINETEEN_RIDE_NUM\" : 69362, \"MIDNIGHT_ALIGHT_NUM\" : 527, \"TWENTY_THREE_ALIGHT_NUM\" : 14074, \"FOUR_RIDE_NUM\" : 47, \"TWENTY_RIDE_NUM\" : 53213, \"THIRTEEN_RIDE_NUM\" : 34181, \"SIX_ALIGHT_NUM\" : 15301, \"ELEVEN_ALIGHT_NUM\" : 41869, \"TWENTY_ONE_ALIGHT_NUM\" : 27357, \"SEVENTEEN_ALIGHT_NUM\" : 69937, \"SIXTEEN_ALIGHT_NUM\" : 53862, \"EIGHT_ALIGHT_NUM\" : 93190, \"FOURTEEN_RIDE_NUM\" : 36463, \"SIXTEEN_RIDE_NUM\" : 48306, \"TWENTY_ONE_RIDE_NUM\" : 70916, \"FIFTEEN_ALIGHT_NUM\" : 45705, \"TWELVE_RIDE_NUM\" : 30047, \"SEVENTEEN_RIDE_NUM\" : 66284, \"MIDNIGHT_RIDE_NUM\" : 1, \"EIGHT_RIDE_NUM\" : 55771 }, { \"FOUR_ALIGHT_NUM\" : 10, \"USE_MON\" : \"202106\", \"LINE_NUM\" : \"2호선\", \"FIFTEEN_RIDE_NUM\" : 79136, \"TWENTY_TWO_RIDE_NUM\" : 168232, \"WORK_DT\" : \"20210703\", \"FIVE_ALIGHT_NUM\" : 2975, \"SUB_STA_NM\" : \"홍대입구\", \"FIVE_RIDE_NUM\" : 11271, \"EIGHTEEN_ALIGHT_NUM\" : 181911, \"FOURTEEN_ALIGHT_NUM\" : 109893, \"SEVEN_RIDE_NUM\" : 56687, \"NINETEEN_ALIGHT_NUM\" : 115297, \"TWO_ALIGHT_NUM\" : 0, \"TEN_RIDE_NUM\" : 34996, \"TEN_ALIGHT_NUM\" : 74012, \"TWENTY_ALIGHT_NUM\" : 53077, \"EIGHTEEN_RIDE_NUM\" : 152578, \"TWELVE_ALIGHT_NUM\" : 103474, \"TWENTY_THREE_RIDE_NUM\" : 25242, \"NINE_ALIGHT_NUM\" : 105606, \"THIRTEEN_ALIGHT_NUM\" : 113715, \"NINE_RIDE_NUM\" : 46502, \"ONE_RIDE_NUM\" : 0, \"SIX_RIDE_NUM\" : 20930, \"THREE_RIDE_NUM\" : 0, \"TWENTY_TWO_ALIGHT_NUM\" : 44748, \"TWO_RIDE_NUM\" : 0, \"SEVEN_ALIGHT_NUM\" : 34231, \"THREE_ALIGHT_NUM\" : 0, \"ELEVEN_RIDE_NUM\" : 40033, \"ONE_ALIGHT_NUM\" : 0, \"NINETEEN_RIDE_NUM\" : 116775, \"MIDNIGHT_ALIGHT_NUM\" : 2378, \"TWENTY_THREE_ALIGHT_NUM\" : 22255, \"FOUR_RIDE_NUM\" : 258, \"TWENTY_RIDE_NUM\" : 116231, \"THIRTEEN_RIDE_NUM\" : 59356, \"SIX_ALIGHT_NUM\" : 14080, \"ELEVEN_ALIGHT_NUM\" : 82452, \"TWENTY_ONE_ALIGHT_NUM\" : 39418, \"SEVENTEEN_ALIGHT_NUM\" : 143318, \"SIXTEEN_ALIGHT_NUM\" : 120598, \"EIGHT_ALIGHT_NUM\" : 96590, \"FOURTEEN_RIDE_NUM\" : 64308, \"SIXTEEN_RIDE_NUM\" : 98663, \"TWENTY_ONE_RIDE_NUM\" : 167876, \"FIFTEEN_ALIGHT_NUM\" : 112375, \"TWELVE_RIDE_NUM\" : 50771, \"SEVENTEEN_RIDE_NUM\" : 121883, \"MIDNIGHT_RIDE_NUM\" : 124, \"EIGHT_RIDE_NUM\" : 74842 } ], \"RESULT\" : { \"MESSAGE\" : \"정상 처리되었습니다\", \"CODE\" : \"INFO-000\" }, \"list_total_count\" : 608 } }\n",
      "{ \"_id\" : ObjectId(\"61137bf8f5e6e923651418ff\"), \"CardSubwayTime\" : { \"row\" : [ { \"FOUR_ALIGHT_NUM\" : 5, \"USE_MON\" : \"202106\", \"LINE_NUM\" : \"2호선\", \"FIFTEEN_RIDE_NUM\" : 54454, \"TWENTY_TWO_RIDE_NUM\" : 67720, \"WORK_DT\" : \"20210703\", \"FIVE_ALIGHT_NUM\" : 2658, \"SUB_STA_NM\" : \"신촌\", \"FIVE_RIDE_NUM\" : 5155, \"EIGHTEEN_ALIGHT_NUM\" : 94670, \"FOURTEEN_ALIGHT_NUM\" : 52561, \"SEVEN_RIDE_NUM\" : 32080, \"NINETEEN_ALIGHT_NUM\" : 59135, \"TWO_ALIGHT_NUM\" : 0, \"TEN_RIDE_NUM\" : 30307, \"TEN_ALIGHT_NUM\" : 51902, \"TWENTY_ALIGHT_NUM\" : 30481, \"EIGHTEEN_RIDE_NUM\" : 82902, \"TWELVE_ALIGHT_NUM\" : 51072, \"TWENTY_THREE_RIDE_NUM\" : 11498, \"NINE_ALIGHT_NUM\" : 83949, \"THIRTEEN_ALIGHT_NUM\" : 59148, \"NINE_RIDE_NUM\" : 31859, \"ONE_RIDE_NUM\" : 0, \"SIX_RIDE_NUM\" : 12632, \"THREE_RIDE_NUM\" : 0, \"TWENTY_TWO_ALIGHT_NUM\" : 30707, \"TWO_RIDE_NUM\" : 0, \"SEVEN_ALIGHT_NUM\" : 34803, \"THREE_ALIGHT_NUM\" : 0, \"ELEVEN_RIDE_NUM\" : 36286, \"ONE_ALIGHT_NUM\" : 0, \"NINETEEN_RIDE_NUM\" : 55226, \"MIDNIGHT_ALIGHT_NUM\" : 34, \"TWENTY_THREE_ALIGHT_NUM\" : 13593, \"FOUR_RIDE_NUM\" : 45, \"TWENTY_RIDE_NUM\" : 56671, \"THIRTEEN_RIDE_NUM\" : 45463, \"SIX_ALIGHT_NUM\" : 16932, \"ELEVEN_ALIGHT_NUM\" : 48479, \"TWENTY_ONE_ALIGHT_NUM\" : 26934, \"SEVENTEEN_ALIGHT_NUM\" : 66157, \"SIXTEEN_ALIGHT_NUM\" : 51086, \"EIGHT_ALIGHT_NUM\" : 79059, \"FOURTEEN_RIDE_NUM\" : 47783, \"SIXTEEN_RIDE_NUM\" : 66062, \"TWENTY_ONE_RIDE_NUM\" : 68028, \"FIFTEEN_ALIGHT_NUM\" : 48663, \"TWELVE_RIDE_NUM\" : 44464, \"SEVENTEEN_RIDE_NUM\" : 83434, \"MIDNIGHT_RIDE_NUM\" : 2, \"EIGHT_RIDE_NUM\" : 47287 }, { \"FOUR_ALIGHT_NUM\" : 0, \"USE_MON\" : \"202106\", \"LINE_NUM\" : \"2호선\", \"FIFTEEN_RIDE_NUM\" : 20924, \"TWENTY_TWO_RIDE_NUM\" : 12816, \"WORK_DT\" : \"20210703\", \"FIVE_ALIGHT_NUM\" : 937, \"SUB_STA_NM\" : \"이대\", \"FIVE_RIDE_NUM\" : 2869, \"EIGHTEEN_ALIGHT_NUM\" : 34733, \"FOURTEEN_ALIGHT_NUM\" : 18742, \"SEVEN_RIDE_NUM\" : 22937, \"NINETEEN_ALIGHT_NUM\" : 25103, \"TWO_ALIGHT_NUM\" : 0, \"TEN_RIDE_NUM\" : 12793, \"TEN_ALIGHT_NUM\" : 20037, \"TWENTY_ALIGHT_NUM\" : 14626, \"EIGHTEEN_RIDE_NUM\" : 30259, \"TWELVE_ALIGHT_NUM\" : 19314, \"TWENTY_THREE_RIDE_NUM\" : 3166, \"NINE_ALIGHT_NUM\" : 30159, \"THIRTEEN_ALIGHT_NUM\" : 22706, \"NINE_RIDE_NUM\" : 17650, \"ONE_RIDE_NUM\" : 0, \"SIX_RIDE_NUM\" : 7826, \"THREE_RIDE_NUM\" : 0, \"TWENTY_TWO_ALIGHT_NUM\" : 18471, \"TWO_RIDE_NUM\" : 0, \"SEVEN_ALIGHT_NUM\" : 11659, \"THREE_ALIGHT_NUM\" : 0, \"ELEVEN_RIDE_NUM\" : 14108, \"ONE_ALIGHT_NUM\" : 0, \"NINETEEN_RIDE_NUM\" : 18485, \"MIDNIGHT_ALIGHT_NUM\" : 27, \"TWENTY_THREE_ALIGHT_NUM\" : 8622, \"FOUR_RIDE_NUM\" : 42, \"TWENTY_RIDE_NUM\" : 15316, \"THIRTEEN_RIDE_NUM\" : 19600, \"SIX_ALIGHT_NUM\" : 8410, \"ELEVEN_ALIGHT_NUM\" : 17256, \"TWENTY_ONE_ALIGHT_NUM\" : 15711, \"SEVENTEEN_ALIGHT_NUM\" : 23118, \"SIXTEEN_ALIGHT_NUM\" : 18921, \"EIGHT_ALIGHT_NUM\" : 32022, \"FOURTEEN_RIDE_NUM\" : 18499, \"SIXTEEN_RIDE_NUM\" : 26625, \"TWENTY_ONE_RIDE_NUM\" : 16280, \"FIFTEEN_ALIGHT_NUM\" : 17942, \"TWELVE_RIDE_NUM\" : 18160, \"SEVENTEEN_RIDE_NUM\" : 34455, \"MIDNIGHT_RIDE_NUM\" : 0, \"EIGHT_RIDE_NUM\" : 30568 }, { \"FOUR_ALIGHT_NUM\" : 0, \"USE_MON\" : \"202106\", \"LINE_NUM\" : \"2호선\", \"FIFTEEN_RIDE_NUM\" : 14661, \"TWENTY_TWO_RIDE_NUM\" : 4964, \"WORK_DT\" : \"20210703\", \"FIVE_ALIGHT_NUM\" : 1123, \"SUB_STA_NM\" : \"아현\", \"FIVE_RIDE_NUM\" : 4278, \"EIGHTEEN_ALIGHT_NUM\" : 31469, \"FOURTEEN_ALIGHT_NUM\" : 12345, \"SEVEN_RIDE_NUM\" : 27259, \"NINETEEN_ALIGHT_NUM\" : 23769, \"TWO_ALIGHT_NUM\" : 0, \"TEN_RIDE_NUM\" : 15030, \"TEN_ALIGHT_NUM\" : 9646, \"TWENTY_ALIGHT_NUM\" : 14525, \"EIGHTEEN_RIDE_NUM\" : 19595, \"TWELVE_ALIGHT_NUM\" : 10531, \"TWENTY_THREE_RIDE_NUM\" : 1332, \"NINE_ALIGHT_NUM\" : 11943, \"THIRTEEN_ALIGHT_NUM\" : 11702, \"NINE_RIDE_NUM\" : 21384, \"ONE_RIDE_NUM\" : 1, \"SIX_RIDE_NUM\" : 10960, \"THREE_RIDE_NUM\" : 0, \"TWENTY_TWO_ALIGHT_NUM\" : 16615, \"TWO_RIDE_NUM\" : 0, \"SEVEN_ALIGHT_NUM\" : 13636, \"THREE_ALIGHT_NUM\" : 0, \"ELEVEN_RIDE_NUM\" : 14067, \"ONE_ALIGHT_NUM\" : 1, \"NINETEEN_RIDE_NUM\" : 11414, \"MIDNIGHT_ALIGHT_NUM\" : 23, \"TWENTY_THREE_ALIGHT_NUM\" : 6768, \"FOUR_RIDE_NUM\" : 13, \"TWENTY_RIDE_NUM\" : 8007, \"THIRTEEN_RIDE_NUM\" : 14108, \"SIX_ALIGHT_NUM\" : 8038, \"ELEVEN_ALIGHT_NUM\" : 9337, \"TWENTY_ONE_ALIGHT_NUM\" : 14830, \"SEVENTEEN_ALIGHT_NUM\" : 20896, \"SIXTEEN_ALIGHT_NUM\" : 15539, \"EIGHT_ALIGHT_NUM\" : 23524, \"FOURTEEN_RIDE_NUM\" : 12805, \"SIXTEEN_RIDE_NUM\" : 24890, \"TWENTY_ONE_RIDE_NUM\" : 7237, \"FIFTEEN_ALIGHT_NUM\" : 13774, \"TWELVE_RIDE_NUM\" : 14194, \"SEVENTEEN_RIDE_NUM\" : 18968, \"MIDNIGHT_RIDE_NUM\" : 4, \"EIGHT_RIDE_NUM\" : 37421 }, { \"FOUR_ALIGHT_NUM\" : 1, \"USE_MON\" : \"202106\", \"LINE_NUM\" : \"2호선\", \"FIFTEEN_RIDE_NUM\" : 13381, \"TWENTY_TWO_RIDE_NUM\" : 8085, \"WORK_DT\" : \"20210703\", \"FIVE_ALIGHT_NUM\" : 988, \"SUB_STA_NM\" : \"충정로(경기대입구)\", \"FIVE_RIDE_NUM\" : 2996, \"EIGHTEEN_ALIGHT_NUM\" : 20957, \"FOURTEEN_ALIGHT_NUM\" : 10218, \"SEVEN_RIDE_NUM\" : 15546, \"NINETEEN_ALIGHT_NUM\" : 14274, \"TWO_ALIGHT_NUM\" : 0, \"TEN_RIDE_NUM\" : 9697, \"TEN_ALIGHT_NUM\" : 12084, \"TWENTY_ALIGHT_NUM\" : 8829, \"EIGHTEEN_RIDE_NUM\" : 49566, \"TWELVE_ALIGHT_NUM\" : 10022, \"TWENTY_THREE_RIDE_NUM\" : 1326, \"NINE_ALIGHT_NUM\" : 27185, \"THIRTEEN_ALIGHT_NUM\" : 11565, \"NINE_RIDE_NUM\" : 13443, \"ONE_RIDE_NUM\" : 0, \"SIX_RIDE_NUM\" : 6449, \"THREE_RIDE_NUM\" : 0, \"TWENTY_TWO_ALIGHT_NUM\" : 11133, \"TWO_RIDE_NUM\" : 0, \"SEVEN_ALIGHT_NUM\" : 20718, \"THREE_ALIGHT_NUM\" : 0, \"ELEVEN_RIDE_NUM\" : 10390, \"ONE_ALIGHT_NUM\" : 0, \"NINETEEN_RIDE_NUM\" : 14290, \"MIDNIGHT_ALIGHT_NUM\" : 81, \"TWENTY_THREE_ALIGHT_NUM\" : 4264, \"FOUR_RIDE_NUM\" : 40, \"TWENTY_RIDE_NUM\" : 9212, \"THIRTEEN_RIDE_NUM\" : 11911, \"SIX_ALIGHT_NUM\" : 5980, \"ELEVEN_ALIGHT_NUM\" : 9914, \"TWENTY_ONE_ALIGHT_NUM\" : 9321, \"SEVENTEEN_ALIGHT_NUM\" : 14174, \"SIXTEEN_ALIGHT_NUM\" : 11216, \"EIGHT_ALIGHT_NUM\" : 61118, \"FOURTEEN_RIDE_NUM\" : 12254, \"SIXTEEN_RIDE_NUM\" : 16491, \"TWENTY_ONE_RIDE_NUM\" : 9205, \"FIFTEEN_ALIGHT_NUM\" : 10325, \"TWELVE_RIDE_NUM\" : 10752, \"SEVENTEEN_RIDE_NUM\" : 24827, \"MIDNIGHT_RIDE_NUM\" : 0, \"EIGHT_RIDE_NUM\" : 21518 }, { \"FOUR_ALIGHT_NUM\" : 1, \"USE_MON\" : \"202106\", \"LINE_NUM\" : \"2호선\", \"FIFTEEN_RIDE_NUM\" : 3695, \"TWENTY_TWO_RIDE_NUM\" : 1156, \"WORK_DT\" : \"20210703\", \"FIVE_ALIGHT_NUM\" : 225, \"SUB_STA_NM\" : \"용답\", \"FIVE_RIDE_NUM\" : 2624, \"EIGHTEEN_ALIGHT_NUM\" : 9809, \"FOURTEEN_ALIGHT_NUM\" : 3078, \"SEVEN_RIDE_NUM\" : 7516, \"NINETEEN_ALIGHT_NUM\" : 6833, \"TWO_ALIGHT_NUM\" : 2, \"TEN_RIDE_NUM\" : 4215, \"TEN_ALIGHT_NUM\" : 2452, \"TWENTY_ALIGHT_NUM\" : 4289, \"EIGHTEEN_RIDE_NUM\" : 3667, \"TWELVE_ALIGHT_NUM\" : 2951, \"TWENTY_THREE_RIDE_NUM\" : 339, \"NINE_ALIGHT_NUM\" : 2281, \"THIRTEEN_ALIGHT_NUM\" : 3147, \"NINE_RIDE_NUM\" : 6720, \"ONE_RIDE_NUM\" : 0, \"SIX_RIDE_NUM\" : 3290, \"THREE_RIDE_NUM\" : 0, \"TWENTY_TWO_ALIGHT_NUM\" : 5940, \"TWO_RIDE_NUM\" : 2, \"SEVEN_ALIGHT_NUM\" : 1738, \"THREE_ALIGHT_NUM\" : 0, \"ELEVEN_RIDE_NUM\" : 3594, \"ONE_ALIGHT_NUM\" : 0, \"NINETEEN_RIDE_NUM\" : 2160, \"MIDNIGHT_ALIGHT_NUM\" : 1, \"TWENTY_THREE_ALIGHT_NUM\" : 2488, \"FOUR_RIDE_NUM\" : 13, \"TWENTY_RIDE_NUM\" : 1422, \"THIRTEEN_RIDE_NUM\" : 4176, \"SIX_ALIGHT_NUM\" : 862, \"ELEVEN_ALIGHT_NUM\" : 2592, \"TWENTY_ONE_ALIGHT_NUM\" : 5502, \"SEVENTEEN_ALIGHT_NUM\" : 6139, \"SIXTEEN_ALIGHT_NUM\" : 5310, \"EIGHT_ALIGHT_NUM\" : 3315, \"FOURTEEN_RIDE_NUM\" : 3634, \"SIXTEEN_RIDE_NUM\" : 4032, \"TWENTY_ONE_RIDE_NUM\" : 1172, \"FIFTEEN_ALIGHT_NUM\" : 4231, \"TWELVE_RIDE_NUM\" : 3847, \"SEVENTEEN_RIDE_NUM\" : 4260, \"MIDNIGHT_RIDE_NUM\" : 1, \"EIGHT_RIDE_NUM\" : 12261 } ], \"RESULT\" : { \"MESSAGE\" : \"정상 처리되었습니다\", \"CODE\" : \"INFO-000\" }, \"list_total_count\" : 608 } }\n",
      "{ \"_id\" : ObjectId(\"61137bf8f5e6e92365141900\"), \"CardSubwayTime\" : { \"row\" : [ { \"FOUR_ALIGHT_NUM\" : 1, \"USE_MON\" : \"202106\", \"LINE_NUM\" : \"2호선\", \"FIFTEEN_RIDE_NUM\" : 1488, \"TWENTY_TWO_RIDE_NUM\" : 534, \"WORK_DT\" : \"20210703\", \"FIVE_ALIGHT_NUM\" : 100, \"SUB_STA_NM\" : \"신답\", \"FIVE_RIDE_NUM\" : 1052, \"EIGHTEEN_ALIGHT_NUM\" : 9703, \"FOURTEEN_ALIGHT_NUM\" : 1647, \"SEVEN_RIDE_NUM\" : 6550, \"NINETEEN_ALIGHT_NUM\" : 6552, \"TWO_ALIGHT_NUM\" : 0, \"TEN_RIDE_NUM\" : 2180, \"TEN_ALIGHT_NUM\" : 1003, \"TWENTY_ALIGHT_NUM\" : 3222, \"EIGHTEEN_RIDE_NUM\" : 2233, \"TWELVE_ALIGHT_NUM\" : 1344, \"TWENTY_THREE_RIDE_NUM\" : 87, \"NINE_ALIGHT_NUM\" : 1080, \"THIRTEEN_ALIGHT_NUM\" : 1436, \"NINE_RIDE_NUM\" : 4205, \"ONE_RIDE_NUM\" : 0, \"SIX_RIDE_NUM\" : 1755, \"THREE_RIDE_NUM\" : 0, \"TWENTY_TWO_ALIGHT_NUM\" : 3394, \"TWO_RIDE_NUM\" : 0, \"SEVEN_ALIGHT_NUM\" : 890, \"THREE_ALIGHT_NUM\" : 0, \"ELEVEN_RIDE_NUM\" : 1950, \"ONE_ALIGHT_NUM\" : 0, \"NINETEEN_RIDE_NUM\" : 976, \"MIDNIGHT_ALIGHT_NUM\" : 9, \"TWENTY_THREE_ALIGHT_NUM\" : 1709, \"FOUR_RIDE_NUM\" : 4, \"TWENTY_RIDE_NUM\" : 589, \"THIRTEEN_RIDE_NUM\" : 1767, \"SIX_ALIGHT_NUM\" : 487, \"ELEVEN_ALIGHT_NUM\" : 1173, \"TWENTY_ONE_ALIGHT_NUM\" : 3377, \"SEVENTEEN_ALIGHT_NUM\" : 4230, \"SIXTEEN_ALIGHT_NUM\" : 3189, \"EIGHT_ALIGHT_NUM\" : 1699, \"FOURTEEN_RIDE_NUM\" : 1594, \"SIXTEEN_RIDE_NUM\" : 1682, \"TWENTY_ONE_RIDE_NUM\" : 546, \"FIFTEEN_ALIGHT_NUM\" : 2382, \"TWELVE_RIDE_NUM\" : 1808, \"SEVENTEEN_RIDE_NUM\" : 1769, \"MIDNIGHT_RIDE_NUM\" : 0, \"EIGHT_RIDE_NUM\" : 9858 }, { \"FOUR_ALIGHT_NUM\" : 0, \"USE_MON\" : \"202106\", \"LINE_NUM\" : \"2호선\", \"FIFTEEN_RIDE_NUM\" : 7516, \"TWENTY_TWO_RIDE_NUM\" : 1738, \"WORK_DT\" : \"20210703\", \"FIVE_ALIGHT_NUM\" : 383, \"SUB_STA_NM\" : \"신설동\", \"FIVE_RIDE_NUM\" : 1067, \"EIGHTEEN_ALIGHT_NUM\" : 5544, \"FOURTEEN_ALIGHT_NUM\" : 5461, \"SEVEN_RIDE_NUM\" : 3601, \"NINETEEN_ALIGHT_NUM\" : 3970, \"TWO_ALIGHT_NUM\" : 0, \"TEN_RIDE_NUM\" : 3804, \"TEN_ALIGHT_NUM\" : 5939, \"TWENTY_ALIGHT_NUM\" : 2287, \"EIGHTEEN_RIDE_NUM\" : 10839, \"TWELVE_ALIGHT_NUM\" : 6076, \"TWENTY_THREE_RIDE_NUM\" : 397, \"NINE_ALIGHT_NUM\" : 8209, \"THIRTEEN_ALIGHT_NUM\" : 6188, \"NINE_RIDE_NUM\" : 4054, \"ONE_RIDE_NUM\" : 0, \"SIX_RIDE_NUM\" : 1310, \"THREE_RIDE_NUM\" : 0, \"TWENTY_TWO_ALIGHT_NUM\" : 2598, \"TWO_RIDE_NUM\" : 0, \"SEVEN_ALIGHT_NUM\" : 5566, \"THREE_ALIGHT_NUM\" : 0, \"ELEVEN_RIDE_NUM\" : 4649, \"ONE_ALIGHT_NUM\" : 1, \"NINETEEN_RIDE_NUM\" : 4287, \"MIDNIGHT_ALIGHT_NUM\" : 239, \"TWENTY_THREE_ALIGHT_NUM\" : 1208, \"FOUR_RIDE_NUM\" : 35, \"TWENTY_RIDE_NUM\" : 2653, \"THIRTEEN_RIDE_NUM\" : 6277, \"SIX_ALIGHT_NUM\" : 2273, \"ELEVEN_ALIGHT_NUM\" : 6264, \"TWENTY_ONE_ALIGHT_NUM\" : 2061, \"SEVENTEEN_ALIGHT_NUM\" : 4796, \"SIXTEEN_ALIGHT_NUM\" : 4245, \"EIGHT_ALIGHT_NUM\" : 13082, \"FOURTEEN_RIDE_NUM\" : 6827, \"SIXTEEN_RIDE_NUM\" : 7728, \"TWENTY_ONE_RIDE_NUM\" : 2313, \"FIFTEEN_ALIGHT_NUM\" : 5089, \"TWELVE_RIDE_NUM\" : 5669, \"SEVENTEEN_RIDE_NUM\" : 10802, \"MIDNIGHT_RIDE_NUM\" : 0, \"EIGHT_RIDE_NUM\" : 6334 }, { \"FOUR_ALIGHT_NUM\" : 0, \"USE_MON\" : \"202106\", \"LINE_NUM\" : \"2호선\", \"FIFTEEN_RIDE_NUM\" : 2844, \"TWENTY_TWO_RIDE_NUM\" : 489, \"WORK_DT\" : \"20210703\", \"FIVE_ALIGHT_NUM\" : 320, \"SUB_STA_NM\" : \"도림천\", \"FIVE_RIDE_NUM\" : 263, \"EIGHTEEN_ALIGHT_NUM\" : 2852, \"FOURTEEN_ALIGHT_NUM\" : 1815, \"SEVEN_RIDE_NUM\" : 3182, \"NINETEEN_ALIGHT_NUM\" : 2584, \"TWO_ALIGHT_NUM\" : 0, \"TEN_RIDE_NUM\" : 1836, \"TEN_ALIGHT_NUM\" : 1521, \"TWENTY_ALIGHT_NUM\" : 1506, \"EIGHTEEN_RIDE_NUM\" : 4158, \"TWELVE_ALIGHT_NUM\" : 1941, \"TWENTY_THREE_RIDE_NUM\" : 151, \"NINE_ALIGHT_NUM\" : 2308, \"THIRTEEN_ALIGHT_NUM\" : 1452, \"NINE_RIDE_NUM\" : 2138, \"ONE_RIDE_NUM\" : 0, \"SIX_RIDE_NUM\" : 1272, \"THREE_RIDE_NUM\" : 0, \"TWENTY_TWO_ALIGHT_NUM\" : 1445, \"TWO_RIDE_NUM\" : 0, \"SEVEN_ALIGHT_NUM\" : 4678, \"THREE_ALIGHT_NUM\" : 0, \"ELEVEN_RIDE_NUM\" : 1620, \"ONE_ALIGHT_NUM\" : 0, \"NINETEEN_RIDE_NUM\" : 1918, \"MIDNIGHT_ALIGHT_NUM\" : 50, \"TWENTY_THREE_ALIGHT_NUM\" : 669, \"FOUR_RIDE_NUM\" : 0, \"TWENTY_RIDE_NUM\" : 950, \"THIRTEEN_RIDE_NUM\" : 1670, \"SIX_ALIGHT_NUM\" : 833, \"ELEVEN_ALIGHT_NUM\" : 1305, \"TWENTY_ONE_ALIGHT_NUM\" : 1366, \"SEVENTEEN_ALIGHT_NUM\" : 2276, \"SIXTEEN_ALIGHT_NUM\" : 1761, \"EIGHT_ALIGHT_NUM\" : 6326, \"FOURTEEN_RIDE_NUM\" : 2297, \"SIXTEEN_RIDE_NUM\" : 3086, \"TWENTY_ONE_RIDE_NUM\" : 879, \"FIFTEEN_ALIGHT_NUM\" : 1503, \"TWELVE_RIDE_NUM\" : 2489, \"SEVENTEEN_RIDE_NUM\" : 2962, \"MIDNIGHT_RIDE_NUM\" : 3, \"EIGHT_RIDE_NUM\" : 3286 }, { \"FOUR_ALIGHT_NUM\" : 0, \"USE_MON\" : \"202106\", \"LINE_NUM\" : \"2호선\", \"FIFTEEN_RIDE_NUM\" : 7143, \"TWENTY_TWO_RIDE_NUM\" : 2234, \"WORK_DT\" : \"20210703\", \"FIVE_ALIGHT_NUM\" : 828, \"SUB_STA_NM\" : \"양천구청\", \"FIVE_RIDE_NUM\" : 4885, \"EIGHTEEN_ALIGHT_NUM\" : 27562, \"FOURTEEN_ALIGHT_NUM\" : 7472, \"SEVEN_RIDE_NUM\" : 32319, \"NINETEEN_ALIGHT_NUM\" : 24901, \"TWO_ALIGHT_NUM\" : 0, \"TEN_RIDE_NUM\" : 10062, \"TEN_ALIGHT_NUM\" : 4689, \"TWENTY_ALIGHT_NUM\" : 12956, \"EIGHTEEN_RIDE_NUM\" : 8840, \"TWELVE_ALIGHT_NUM\" : 6295, \"TWENTY_THREE_RIDE_NUM\" : 625, \"NINE_ALIGHT_NUM\" : 4846, \"THIRTEEN_ALIGHT_NUM\" : 7085, \"NINE_RIDE_NUM\" : 15185, \"ONE_RIDE_NUM\" : 0, \"SIX_RIDE_NUM\" : 11068, \"THREE_RIDE_NUM\" : 0, \"TWENTY_TWO_ALIGHT_NUM\" : 13535, \"TWO_RIDE_NUM\" : 0, \"SEVEN_ALIGHT_NUM\" : 5670, \"THREE_ALIGHT_NUM\" : 0, \"ELEVEN_RIDE_NUM\" : 8736, \"ONE_ALIGHT_NUM\" : 0, \"NINETEEN_RIDE_NUM\" : 3625, \"MIDNIGHT_ALIGHT_NUM\" : 505, \"TWENTY_THREE_ALIGHT_NUM\" : 7028, \"FOUR_RIDE_NUM\" : 11, \"TWENTY_RIDE_NUM\" : 2539, \"THIRTEEN_RIDE_NUM\" : 9136, \"SIX_ALIGHT_NUM\" : 2304, \"ELEVEN_ALIGHT_NUM\" : 4717, \"TWENTY_ONE_ALIGHT_NUM\" : 12620, \"SEVENTEEN_ALIGHT_NUM\" : 17023, \"SIXTEEN_ALIGHT_NUM\" : 11370, \"EIGHT_ALIGHT_NUM\" : 9747, \"FOURTEEN_RIDE_NUM\" : 7809, \"SIXTEEN_RIDE_NUM\" : 8069, \"TWENTY_ONE_RIDE_NUM\" : 2096, \"FIFTEEN_ALIGHT_NUM\" : 9104, \"TWELVE_RIDE_NUM\" : 9050, \"SEVENTEEN_RIDE_NUM\" : 8561, \"MIDNIGHT_RIDE_NUM\" : 3, \"EIGHT_RIDE_NUM\" : 29838 }, { \"FOUR_ALIGHT_NUM\" : 0, \"USE_MON\" : \"202106\", \"LINE_NUM\" : \"2호선\", \"FIFTEEN_RIDE_NUM\" : 10818, \"TWENTY_TWO_RIDE_NUM\" : 4010, \"WORK_DT\" : \"20210703\", \"FIVE_ALIGHT_NUM\" : 942, \"SUB_STA_NM\" : \"신정네거리\", \"FIVE_RIDE_NUM\" : 8271, \"EIGHTEEN_ALIGHT_NUM\" : 45804, \"FOURTEEN_ALIGHT_NUM\" : 11262, \"SEVEN_RIDE_NUM\" : 49959, \"NINETEEN_ALIGHT_NUM\" : 35779, \"TWO_ALIGHT_NUM\" : 0, \"TEN_RIDE_NUM\" : 15248, \"TEN_ALIGHT_NUM\" : 7309, \"TWENTY_ALIGHT_NUM\" : 19006, \"EIGHTEEN_RIDE_NUM\" : 11512, \"TWELVE_ALIGHT_NUM\" : 9404, \"TWENTY_THREE_RIDE_NUM\" : 816, \"NINE_ALIGHT_NUM\" : 7607, \"THIRTEEN_ALIGHT_NUM\" : 10937, \"NINE_RIDE_NUM\" : 23093, \"ONE_RIDE_NUM\" : 1, \"SIX_RIDE_NUM\" : 16971, \"THREE_RIDE_NUM\" : 0, \"TWENTY_TWO_ALIGHT_NUM\" : 19204, \"TWO_RIDE_NUM\" : 0, \"SEVEN_ALIGHT_NUM\" : 5256, \"THREE_ALIGHT_NUM\" : 0, \"ELEVEN_RIDE_NUM\" : 13415, \"ONE_ALIGHT_NUM\" : 0, \"NINETEEN_RIDE_NUM\" : 6827, \"MIDNIGHT_ALIGHT_NUM\" : 477, \"TWENTY_THREE_ALIGHT_NUM\" : 9131, \"FOUR_RIDE_NUM\" : 39, \"TWENTY_RIDE_NUM\" : 5052, \"THIRTEEN_RIDE_NUM\" : 12394, \"SIX_ALIGHT_NUM\" : 3727, \"ELEVEN_ALIGHT_NUM\" : 8764, \"TWENTY_ONE_ALIGHT_NUM\" : 16793, \"SEVENTEEN_ALIGHT_NUM\" : 26563, \"SIXTEEN_ALIGHT_NUM\" : 18315, \"EIGHT_ALIGHT_NUM\" : 11829, \"FOURTEEN_RIDE_NUM\" : 10835, \"SIXTEEN_RIDE_NUM\" : 12326, \"TWENTY_ONE_RIDE_NUM\" : 4296, \"FIFTEEN_ALIGHT_NUM\" : 14386, \"TWELVE_RIDE_NUM\" : 13330, \"SEVENTEEN_RIDE_NUM\" : 12545, \"MIDNIGHT_RIDE_NUM\" : 4, \"EIGHT_RIDE_NUM\" : 44209 } ], \"RESULT\" : { \"MESSAGE\" : \"정상 처리되었습니다\", \"CODE\" : \"INFO-000\" }, \"list_total_count\" : 608 } }\n",
      "{ \"_id\" : ObjectId(\"61137bf8f5e6e92365141901\"), \"CardSubwayTime\" : { \"row\" : [ { \"FOUR_ALIGHT_NUM\" : 0, \"USE_MON\" : \"202106\", \"LINE_NUM\" : \"2호선\", \"FIFTEEN_RIDE_NUM\" : 3985, \"TWENTY_TWO_RIDE_NUM\" : 898, \"WORK_DT\" : \"20210703\", \"FIVE_ALIGHT_NUM\" : 182, \"SUB_STA_NM\" : \"용두(동대문구청)\", \"FIVE_RIDE_NUM\" : 1176, \"EIGHTEEN_ALIGHT_NUM\" : 7446, \"FOURTEEN_ALIGHT_NUM\" : 3719, \"SEVEN_RIDE_NUM\" : 4701, \"NINETEEN_ALIGHT_NUM\" : 5263, \"TWO_ALIGHT_NUM\" : 0, \"TEN_RIDE_NUM\" : 3341, \"TEN_ALIGHT_NUM\" : 3068, \"TWENTY_ALIGHT_NUM\" : 2623, \"EIGHTEEN_RIDE_NUM\" : 5766, \"TWELVE_ALIGHT_NUM\" : 2804, \"TWENTY_THREE_RIDE_NUM\" : 191, \"NINE_ALIGHT_NUM\" : 3503, \"THIRTEEN_ALIGHT_NUM\" : 3399, \"NINE_RIDE_NUM\" : 4233, \"ONE_RIDE_NUM\" : 0, \"SIX_RIDE_NUM\" : 1555, \"THREE_RIDE_NUM\" : 0, \"TWENTY_TWO_ALIGHT_NUM\" : 2551, \"TWO_RIDE_NUM\" : 0, \"SEVEN_ALIGHT_NUM\" : 2285, \"THREE_ALIGHT_NUM\" : 0, \"ELEVEN_RIDE_NUM\" : 3674, \"ONE_ALIGHT_NUM\" : 0, \"NINETEEN_RIDE_NUM\" : 2417, \"MIDNIGHT_ALIGHT_NUM\" : 19, \"TWENTY_THREE_ALIGHT_NUM\" : 1244, \"FOUR_RIDE_NUM\" : 32, \"TWENTY_RIDE_NUM\" : 1462, \"THIRTEEN_RIDE_NUM\" : 3574, \"SIX_ALIGHT_NUM\" : 963, \"ELEVEN_ALIGHT_NUM\" : 3289, \"TWENTY_ONE_ALIGHT_NUM\" : 2797, \"SEVENTEEN_ALIGHT_NUM\" : 4285, \"SIXTEEN_ALIGHT_NUM\" : 3930, \"EIGHT_ALIGHT_NUM\" : 6409, \"FOURTEEN_RIDE_NUM\" : 3598, \"SIXTEEN_RIDE_NUM\" : 4119, \"TWENTY_ONE_RIDE_NUM\" : 1343, \"FIFTEEN_ALIGHT_NUM\" : 3952, \"TWELVE_RIDE_NUM\" : 3730, \"SEVENTEEN_RIDE_NUM\" : 4581, \"MIDNIGHT_RIDE_NUM\" : 0, \"EIGHT_RIDE_NUM\" : 8090 }, { \"FOUR_ALIGHT_NUM\" : 1, \"USE_MON\" : \"202106\", \"LINE_NUM\" : \"3호선\", \"FIFTEEN_RIDE_NUM\" : 4836, \"TWENTY_TWO_RIDE_NUM\" : 780, \"WORK_DT\" : \"20210703\", \"FIVE_ALIGHT_NUM\" : 1267, \"SUB_STA_NM\" : \"지축\", \"FIVE_RIDE_NUM\" : 1802, \"EIGHTEEN_ALIGHT_NUM\" : 15983, \"FOURTEEN_ALIGHT_NUM\" : 3855, \"SEVEN_RIDE_NUM\" : 19406, \"NINETEEN_ALIGHT_NUM\" : 12998, \"TWO_ALIGHT_NUM\" : 0, \"TEN_RIDE_NUM\" : 5715, \"TEN_ALIGHT_NUM\" : 2212, \"TWENTY_ALIGHT_NUM\" : 8426, \"EIGHTEEN_RIDE_NUM\" : 4380, \"TWELVE_ALIGHT_NUM\" : 3355, \"TWENTY_THREE_RIDE_NUM\" : 356, \"NINE_ALIGHT_NUM\" : 2374, \"THIRTEEN_ALIGHT_NUM\" : 3564, \"NINE_RIDE_NUM\" : 8601, \"ONE_RIDE_NUM\" : 0, \"SIX_RIDE_NUM\" : 7260, \"THREE_RIDE_NUM\" : 0, \"TWENTY_TWO_ALIGHT_NUM\" : 8480, \"TWO_RIDE_NUM\" : 0, \"SEVEN_ALIGHT_NUM\" : 3273, \"THREE_ALIGHT_NUM\" : 0, \"ELEVEN_RIDE_NUM\" : 4937, \"ONE_ALIGHT_NUM\" : 0, \"NINETEEN_RIDE_NUM\" : 2426, \"MIDNIGHT_ALIGHT_NUM\" : 0, \"TWENTY_THREE_ALIGHT_NUM\" : 2906, \"FOUR_RIDE_NUM\" : 5, \"TWENTY_RIDE_NUM\" : 1496, \"THIRTEEN_RIDE_NUM\" : 4704, \"SIX_ALIGHT_NUM\" : 4587, \"ELEVEN_ALIGHT_NUM\" : 2917, \"TWENTY_ONE_ALIGHT_NUM\" : 6881, \"SEVENTEEN_ALIGHT_NUM\" : 8174, \"SIXTEEN_ALIGHT_NUM\" : 6057, \"EIGHT_ALIGHT_NUM\" : 3662, \"FOURTEEN_RIDE_NUM\" : 3999, \"SIXTEEN_RIDE_NUM\" : 7011, \"TWENTY_ONE_RIDE_NUM\" : 1003, \"FIFTEEN_ALIGHT_NUM\" : 4539, \"TWELVE_RIDE_NUM\" : 4680, \"SEVENTEEN_RIDE_NUM\" : 6805, \"MIDNIGHT_RIDE_NUM\" : 0, \"EIGHT_RIDE_NUM\" : 18944 }, { \"FOUR_ALIGHT_NUM\" : 1, \"USE_MON\" : \"202106\", \"LINE_NUM\" : \"3호선\", \"FIFTEEN_RIDE_NUM\" : 28066, \"TWENTY_TWO_RIDE_NUM\" : 11075, \"WORK_DT\" : \"20210703\", \"FIVE_ALIGHT_NUM\" : 1416, \"SUB_STA_NM\" : \"구파발\", \"FIVE_RIDE_NUM\" : 9550, \"EIGHTEEN_ALIGHT_NUM\" : 66283, \"FOURTEEN_ALIGHT_NUM\" : 24767, \"SEVEN_RIDE_NUM\" : 83927, \"NINETEEN_ALIGHT_NUM\" : 58127, \"TWO_ALIGHT_NUM\" : 0, \"TEN_RIDE_NUM\" : 26352, \"TEN_ALIGHT_NUM\" : 24515, \"TWENTY_ALIGHT_NUM\" : 31524, \"EIGHTEEN_RIDE_NUM\" : 29399, \"TWELVE_ALIGHT_NUM\" : 22496, \"TWENTY_THREE_RIDE_NUM\" : 1787, \"NINE_ALIGHT_NUM\" : 25587, \"THIRTEEN_ALIGHT_NUM\" : 23742, \"NINE_RIDE_NUM\" : 39140, \"ONE_RIDE_NUM\" : 1, \"SIX_RIDE_NUM\" : 29979, \"THREE_RIDE_NUM\" : 0, \"TWENTY_TWO_ALIGHT_NUM\" : 28226, \"TWO_RIDE_NUM\" : 0, \"SEVEN_ALIGHT_NUM\" : 23740, \"THREE_ALIGHT_NUM\" : 0, \"ELEVEN_RIDE_NUM\" : 25618, \"ONE_ALIGHT_NUM\" : 8, \"NINETEEN_RIDE_NUM\" : 18030, \"MIDNIGHT_ALIGHT_NUM\" : 2247, \"TWENTY_THREE_ALIGHT_NUM\" : 17624, \"FOUR_RIDE_NUM\" : 160, \"TWENTY_RIDE_NUM\" : 14465, \"THIRTEEN_RIDE_NUM\" : 24588, \"SIX_ALIGHT_NUM\" : 10291, \"ELEVEN_ALIGHT_NUM\" : 20662, \"TWENTY_ONE_ALIGHT_NUM\" : 28599, \"SEVENTEEN_ALIGHT_NUM\" : 38803, \"SIXTEEN_ALIGHT_NUM\" : 29329, \"EIGHT_ALIGHT_NUM\" : 29048, \"FOURTEEN_RIDE_NUM\" : 24199, \"SIXTEEN_RIDE_NUM\" : 34684, \"TWENTY_ONE_RIDE_NUM\" : 12811, \"FIFTEEN_ALIGHT_NUM\" : 25040, \"TWELVE_RIDE_NUM\" : 26542, \"SEVENTEEN_RIDE_NUM\" : 35147, \"MIDNIGHT_RIDE_NUM\" : 9, \"EIGHT_RIDE_NUM\" : 78506 }, { \"FOUR_ALIGHT_NUM\" : 10, \"USE_MON\" : \"202106\", \"LINE_NUM\" : \"3호선\", \"FIFTEEN_RIDE_NUM\" : 46480, \"TWENTY_TWO_RIDE_NUM\" : 23052, \"WORK_DT\" : \"20210703\", \"FIVE_ALIGHT_NUM\" : 1735, \"SUB_STA_NM\" : \"연신내\", \"FIVE_RIDE_NUM\" : 26860, \"EIGHTEEN_ALIGHT_NUM\" : 131479, \"FOURTEEN_ALIGHT_NUM\" : 41108, \"SEVEN_RIDE_NUM\" : 131527, \"NINETEEN_ALIGHT_NUM\" : 118732, \"TWO_ALIGHT_NUM\" : 0, \"TEN_RIDE_NUM\" : 54844, \"TEN_ALIGHT_NUM\" : 33488, \"TWENTY_ALIGHT_NUM\" : 62232, \"EIGHTEEN_RIDE_NUM\" : 46317, \"TWELVE_ALIGHT_NUM\" : 36521, \"TWENTY_THREE_RIDE_NUM\" : 3785, \"NINE_ALIGHT_NUM\" : 34640, \"THIRTEEN_ALIGHT_NUM\" : 40119, \"NINE_RIDE_NUM\" : 85441, \"ONE_RIDE_NUM\" : 0, \"SIX_RIDE_NUM\" : 51882, \"THREE_RIDE_NUM\" : 0, \"TWENTY_TWO_ALIGHT_NUM\" : 60026, \"TWO_RIDE_NUM\" : 0, \"SEVEN_ALIGHT_NUM\" : 24692, \"THREE_ALIGHT_NUM\" : 0, \"ELEVEN_RIDE_NUM\" : 50185, \"ONE_ALIGHT_NUM\" : 0, \"NINETEEN_RIDE_NUM\" : 31844, \"MIDNIGHT_ALIGHT_NUM\" : 1823, \"TWENTY_THREE_ALIGHT_NUM\" : 32943, \"FOUR_RIDE_NUM\" : 296, \"TWENTY_RIDE_NUM\" : 25493, \"THIRTEEN_RIDE_NUM\" : 49774, \"SIX_ALIGHT_NUM\" : 11362, \"ELEVEN_ALIGHT_NUM\" : 35144, \"TWENTY_ONE_ALIGHT_NUM\" : 59101, \"SEVENTEEN_ALIGHT_NUM\" : 80640, \"SIXTEEN_ALIGHT_NUM\" : 61750, \"EIGHT_ALIGHT_NUM\" : 34384, \"FOURTEEN_RIDE_NUM\" : 46119, \"SIXTEEN_RIDE_NUM\" : 55618, \"TWENTY_ONE_RIDE_NUM\" : 26033, \"FIFTEEN_ALIGHT_NUM\" : 51861, \"TWELVE_RIDE_NUM\" : 52765, \"SEVENTEEN_RIDE_NUM\" : 49978, \"MIDNIGHT_RIDE_NUM\" : 1, \"EIGHT_RIDE_NUM\" : 156035 }, { \"FOUR_ALIGHT_NUM\" : 0, \"USE_MON\" : \"202106\", \"LINE_NUM\" : \"3호선\", \"FIFTEEN_RIDE_NUM\" : 23962, \"TWENTY_TWO_RIDE_NUM\" : 8105, \"WORK_DT\" : \"20210703\", \"FIVE_ALIGHT_NUM\" : 1100, \"SUB_STA_NM\" : \"불광\", \"FIVE_RIDE_NUM\" : 9265, \"EIGHTEEN_ALIGHT_NUM\" : 56061, \"FOURTEEN_ALIGHT_NUM\" : 25093, \"SEVEN_RIDE_NUM\" : 51513, \"NINETEEN_ALIGHT_NUM\" : 46305, \"TWO_ALIGHT_NUM\" : 0, \"TEN_RIDE_NUM\" : 23361, \"TEN_ALIGHT_NUM\" : 24288, \"TWENTY_ALIGHT_NUM\" : 26200, \"EIGHTEEN_RIDE_NUM\" : 29760, \"TWELVE_ALIGHT_NUM\" : 24188, \"TWENTY_THREE_RIDE_NUM\" : 1691, \"NINE_ALIGHT_NUM\" : 29822, \"THIRTEEN_ALIGHT_NUM\" : 25684, \"NINE_RIDE_NUM\" : 33507, \"ONE_RIDE_NUM\" : 0, \"SIX_RIDE_NUM\" : 19433, \"THREE_RIDE_NUM\" : 0, \"TWENTY_TWO_ALIGHT_NUM\" : 24407, \"TWO_RIDE_NUM\" : 0, \"SEVEN_ALIGHT_NUM\" : 10723, \"THREE_ALIGHT_NUM\" : 0, \"ELEVEN_RIDE_NUM\" : 21808, \"ONE_ALIGHT_NUM\" : 0, \"NINETEEN_RIDE_NUM\" : 16287, \"MIDNIGHT_ALIGHT_NUM\" : 300, \"TWENTY_THREE_ALIGHT_NUM\" : 11492, \"FOUR_RIDE_NUM\" : 27, \"TWENTY_RIDE_NUM\" : 12842, \"THIRTEEN_RIDE_NUM\" : 23201, \"SIX_ALIGHT_NUM\" : 5769, \"ELEVEN_ALIGHT_NUM\" : 22695, \"TWENTY_ONE_ALIGHT_NUM\" : 21929, \"SEVENTEEN_ALIGHT_NUM\" : 37436, \"SIXTEEN_ALIGHT_NUM\" : 30083, \"EIGHT_ALIGHT_NUM\" : 33290, \"FOURTEEN_RIDE_NUM\" : 23440, \"SIXTEEN_RIDE_NUM\" : 26173, \"TWENTY_ONE_RIDE_NUM\" : 11486, \"FIFTEEN_ALIGHT_NUM\" : 26909, \"TWELVE_RIDE_NUM\" : 22962, \"SEVENTEEN_RIDE_NUM\" : 27913, \"MIDNIGHT_RIDE_NUM\" : 3, \"EIGHT_RIDE_NUM\" : 60645 } ], \"RESULT\" : { \"MESSAGE\" : \"정상 처리되었습니다\", \"CODE\" : \"INFO-000\" }, \"list_total_count\" : 608 } }\n",
      "{ \"_id\" : ObjectId(\"61137bf8f5e6e92365141902\"), \"CardSubwayTime\" : { \"row\" : [ { \"FOUR_ALIGHT_NUM\" : 0, \"USE_MON\" : \"202106\", \"LINE_NUM\" : \"3호선\", \"FIFTEEN_RIDE_NUM\" : 14855, \"TWENTY_TWO_RIDE_NUM\" : 4583, \"WORK_DT\" : \"20210703\", \"FIVE_ALIGHT_NUM\" : 562, \"SUB_STA_NM\" : \"녹번\", \"FIVE_RIDE_NUM\" : 9870, \"EIGHTEEN_ALIGHT_NUM\" : 57007, \"FOURTEEN_ALIGHT_NUM\" : 13475, \"SEVEN_RIDE_NUM\" : 65972, \"NINETEEN_ALIGHT_NUM\" : 49507, \"TWO_ALIGHT_NUM\" : 0, \"TEN_RIDE_NUM\" : 23898, \"TEN_ALIGHT_NUM\" : 8957, \"TWENTY_ALIGHT_NUM\" : 27557, \"EIGHTEEN_RIDE_NUM\" : 19117, \"TWELVE_ALIGHT_NUM\" : 11369, \"TWENTY_THREE_RIDE_NUM\" : 1007, \"NINE_ALIGHT_NUM\" : 10325, \"THIRTEEN_ALIGHT_NUM\" : 11832, \"NINE_RIDE_NUM\" : 39600, \"ONE_RIDE_NUM\" : 0, \"SIX_RIDE_NUM\" : 24508, \"THREE_RIDE_NUM\" : 0, \"TWENTY_TWO_ALIGHT_NUM\" : 27563, \"TWO_RIDE_NUM\" : 0, \"SEVEN_ALIGHT_NUM\" : 7686, \"THREE_ALIGHT_NUM\" : 0, \"ELEVEN_RIDE_NUM\" : 19813, \"ONE_ALIGHT_NUM\" : 0, \"NINETEEN_RIDE_NUM\" : 9197, \"MIDNIGHT_ALIGHT_NUM\" : 35, \"TWENTY_THREE_ALIGHT_NUM\" : 12182, \"FOUR_RIDE_NUM\" : 21, \"TWENTY_RIDE_NUM\" : 6932, \"THIRTEEN_RIDE_NUM\" : 17620, \"SIX_ALIGHT_NUM\" : 4277, \"ELEVEN_ALIGHT_NUM\" : 9629, \"TWENTY_ONE_ALIGHT_NUM\" : 25422, \"SEVENTEEN_ALIGHT_NUM\" : 31536, \"SIXTEEN_ALIGHT_NUM\" : 23185, \"EIGHT_ALIGHT_NUM\" : 18520, \"FOURTEEN_RIDE_NUM\" : 15717, \"SIXTEEN_RIDE_NUM\" : 16051, \"TWENTY_ONE_RIDE_NUM\" : 5732, \"FIFTEEN_ALIGHT_NUM\" : 15477, \"TWELVE_RIDE_NUM\" : 19213, \"SEVENTEEN_RIDE_NUM\" : 16890, \"MIDNIGHT_RIDE_NUM\" : 0, \"EIGHT_RIDE_NUM\" : 73801 }, { \"FOUR_ALIGHT_NUM\" : 2, \"USE_MON\" : \"202106\", \"LINE_NUM\" : \"3호선\", \"FIFTEEN_RIDE_NUM\" : 22366, \"TWENTY_TWO_RIDE_NUM\" : 6711, \"WORK_DT\" : \"20210703\", \"FIVE_ALIGHT_NUM\" : 1279, \"SUB_STA_NM\" : \"홍제\", \"FIVE_RIDE_NUM\" : 9492, \"EIGHTEEN_ALIGHT_NUM\" : 58136, \"FOURTEEN_ALIGHT_NUM\" : 19610, \"SEVEN_RIDE_NUM\" : 62571, \"NINETEEN_ALIGHT_NUM\" : 48700, \"TWO_ALIGHT_NUM\" : 0, \"TEN_RIDE_NUM\" : 27635, \"TEN_ALIGHT_NUM\" : 16576, \"TWENTY_ALIGHT_NUM\" : 26937, \"EIGHTEEN_RIDE_NUM\" : 24874, \"TWELVE_ALIGHT_NUM\" : 17083, \"TWENTY_THREE_RIDE_NUM\" : 1367, \"NINE_ALIGHT_NUM\" : 17873, \"THIRTEEN_ALIGHT_NUM\" : 18339, \"NINE_RIDE_NUM\" : 38986, \"ONE_RIDE_NUM\" : 1, \"SIX_RIDE_NUM\" : 22780, \"THREE_RIDE_NUM\" : 0, \"TWENTY_TWO_ALIGHT_NUM\" : 25491, \"TWO_RIDE_NUM\" : 0, \"SEVEN_ALIGHT_NUM\" : 11612, \"THREE_ALIGHT_NUM\" : 0, \"ELEVEN_RIDE_NUM\" : 24546, \"ONE_ALIGHT_NUM\" : 1, \"NINETEEN_RIDE_NUM\" : 13147, \"MIDNIGHT_ALIGHT_NUM\" : 32, \"TWENTY_THREE_ALIGHT_NUM\" : 12187, \"FOUR_RIDE_NUM\" : 36, \"TWENTY_RIDE_NUM\" : 10440, \"THIRTEEN_RIDE_NUM\" : 23683, \"SIX_ALIGHT_NUM\" : 9431, \"ELEVEN_ALIGHT_NUM\" : 15237, \"TWENTY_ONE_ALIGHT_NUM\" : 25445, \"SEVENTEEN_ALIGHT_NUM\" : 36219, \"SIXTEEN_ALIGHT_NUM\" : 29343, \"EIGHT_ALIGHT_NUM\" : 23873, \"FOURTEEN_RIDE_NUM\" : 21898, \"SIXTEEN_RIDE_NUM\" : 24006, \"TWENTY_ONE_RIDE_NUM\" : 8573, \"FIFTEEN_ALIGHT_NUM\" : 23965, \"TWELVE_RIDE_NUM\" : 25846, \"SEVENTEEN_RIDE_NUM\" : 26057, \"MIDNIGHT_RIDE_NUM\" : 0, \"EIGHT_RIDE_NUM\" : 69383 }, { \"FOUR_ALIGHT_NUM\" : 1, \"USE_MON\" : \"202106\", \"LINE_NUM\" : \"3호선\", \"FIFTEEN_RIDE_NUM\" : 4184, \"TWENTY_TWO_RIDE_NUM\" : 1509, \"WORK_DT\" : \"20210703\", \"FIVE_ALIGHT_NUM\" : 307, \"SUB_STA_NM\" : \"무악재\", \"FIVE_RIDE_NUM\" : 1854, \"EIGHTEEN_ALIGHT_NUM\" : 14813, \"FOURTEEN_ALIGHT_NUM\" : 4197, \"SEVEN_RIDE_NUM\" : 14255, \"NINETEEN_ALIGHT_NUM\" : 12401, \"TWO_ALIGHT_NUM\" : 0, \"TEN_RIDE_NUM\" : 6319, \"TEN_ALIGHT_NUM\" : 3098, \"TWENTY_ALIGHT_NUM\" : 7011, \"EIGHTEEN_RIDE_NUM\" : 6490, \"TWELVE_ALIGHT_NUM\" : 3498, \"TWENTY_THREE_RIDE_NUM\" : 314, \"NINE_ALIGHT_NUM\" : 3265, \"THIRTEEN_ALIGHT_NUM\" : 4024, \"NINE_RIDE_NUM\" : 9508, \"ONE_RIDE_NUM\" : 0, \"SIX_RIDE_NUM\" : 5181, \"THREE_RIDE_NUM\" : 0, \"TWENTY_TWO_ALIGHT_NUM\" : 7341, \"TWO_RIDE_NUM\" : 0, \"SEVEN_ALIGHT_NUM\" : 3023, \"THREE_ALIGHT_NUM\" : 0, \"ELEVEN_RIDE_NUM\" : 5457, \"ONE_ALIGHT_NUM\" : 0, \"NINETEEN_RIDE_NUM\" : 2843, \"MIDNIGHT_ALIGHT_NUM\" : 0, \"TWENTY_THREE_ALIGHT_NUM\" : 3123, \"FOUR_RIDE_NUM\" : 11, \"TWENTY_RIDE_NUM\" : 2071, \"THIRTEEN_RIDE_NUM\" : 4983, \"SIX_ALIGHT_NUM\" : 2424, \"ELEVEN_ALIGHT_NUM\" : 3295, \"TWENTY_ONE_ALIGHT_NUM\" : 6665, \"SEVENTEEN_ALIGHT_NUM\" : 8435, \"SIXTEEN_ALIGHT_NUM\" : 6419, \"EIGHT_ALIGHT_NUM\" : 6015, \"FOURTEEN_RIDE_NUM\" : 4283, \"SIXTEEN_RIDE_NUM\" : 4973, \"TWENTY_ONE_RIDE_NUM\" : 1805, \"FIFTEEN_ALIGHT_NUM\" : 5383, \"TWELVE_RIDE_NUM\" : 5346, \"SEVENTEEN_RIDE_NUM\" : 5961, \"MIDNIGHT_RIDE_NUM\" : 0, \"EIGHT_RIDE_NUM\" : 16062 }, { \"FOUR_ALIGHT_NUM\" : 1, \"USE_MON\" : \"202106\", \"LINE_NUM\" : \"3호선\", \"FIFTEEN_RIDE_NUM\" : 12098, \"TWENTY_TWO_RIDE_NUM\" : 3608, \"WORK_DT\" : \"20210703\", \"FIVE_ALIGHT_NUM\" : 808, \"SUB_STA_NM\" : \"독립문\", \"FIVE_RIDE_NUM\" : 5139, \"EIGHTEEN_ALIGHT_NUM\" : 16472, \"FOURTEEN_ALIGHT_NUM\" : 9476, \"SEVEN_RIDE_NUM\" : 15733, \"NINETEEN_ALIGHT_NUM\" : 13308, \"TWO_ALIGHT_NUM\" : 0, \"TEN_RIDE_NUM\" : 11203, \"TEN_ALIGHT_NUM\" : 11860, \"TWENTY_ALIGHT_NUM\" : 7899, \"EIGHTEEN_RIDE_NUM\" : 16232, \"TWELVE_ALIGHT_NUM\" : 9066, \"TWENTY_THREE_RIDE_NUM\" : 677, \"NINE_ALIGHT_NUM\" : 13617, \"THIRTEEN_ALIGHT_NUM\" : 10746, \"NINE_RIDE_NUM\" : 13323, \"ONE_RIDE_NUM\" : 0, \"SIX_RIDE_NUM\" : 5527, \"THREE_RIDE_NUM\" : 0, \"TWENTY_TWO_ALIGHT_NUM\" : 8345, \"TWO_RIDE_NUM\" : 0, \"SEVEN_ALIGHT_NUM\" : 15261, \"THREE_ALIGHT_NUM\" : 0, \"ELEVEN_RIDE_NUM\" : 10611, \"ONE_ALIGHT_NUM\" : 1, \"NINETEEN_RIDE_NUM\" : 7662, \"MIDNIGHT_ALIGHT_NUM\" : 1890, \"TWENTY_THREE_ALIGHT_NUM\" : 3435, \"FOUR_RIDE_NUM\" : 104, \"TWENTY_RIDE_NUM\" : 5346, \"THIRTEEN_RIDE_NUM\" : 10968, \"SIX_ALIGHT_NUM\" : 6171, \"ELEVEN_ALIGHT_NUM\" : 9393, \"TWENTY_ONE_ALIGHT_NUM\" : 7244, \"SEVENTEEN_ALIGHT_NUM\" : 13118, \"SIXTEEN_ALIGHT_NUM\" : 10798, \"EIGHT_ALIGHT_NUM\" : 21078, \"FOURTEEN_RIDE_NUM\" : 11766, \"SIXTEEN_RIDE_NUM\" : 15729, \"TWENTY_ONE_RIDE_NUM\" : 4360, \"FIFTEEN_ALIGHT_NUM\" : 10140, \"TWELVE_RIDE_NUM\" : 11192, \"SEVENTEEN_RIDE_NUM\" : 14246, \"MIDNIGHT_RIDE_NUM\" : 2, \"EIGHT_RIDE_NUM\" : 18718 }, { \"FOUR_ALIGHT_NUM\" : 1, \"USE_MON\" : \"202106\", \"LINE_NUM\" : \"3호선\", \"FIFTEEN_RIDE_NUM\" : 32986, \"TWENTY_TWO_RIDE_NUM\" : 24043, \"WORK_DT\" : \"20210703\", \"FIVE_ALIGHT_NUM\" : 1654, \"SUB_STA_NM\" : \"경복궁(정부서울청사)\", \"FIVE_RIDE_NUM\" : 2676, \"EIGHTEEN_ALIGHT_NUM\" : 29893, \"FOURTEEN_ALIGHT_NUM\" : 26109, \"SEVEN_RIDE_NUM\" : 13573, \"NINETEEN_ALIGHT_NUM\" : 18649, \"TWO_ALIGHT_NUM\" : 0, \"TEN_RIDE_NUM\" : 13964, \"TEN_ALIGHT_NUM\" : 30611, \"TWENTY_ALIGHT_NUM\" : 9853, \"EIGHTEEN_RIDE_NUM\" : 93632, \"TWELVE_ALIGHT_NUM\" : 26928, \"TWENTY_THREE_RIDE_NUM\" : 2652, \"NINE_ALIGHT_NUM\" : 51467, \"THIRTEEN_ALIGHT_NUM\" : 28638, \"NINE_RIDE_NUM\" : 17921, \"ONE_RIDE_NUM\" : 0, \"SIX_RIDE_NUM\" : 5464, \"THREE_RIDE_NUM\" : 0, \"TWENTY_TWO_ALIGHT_NUM\" : 10001, \"TWO_RIDE_NUM\" : 0, \"SEVEN_ALIGHT_NUM\" : 42972, \"THREE_ALIGHT_NUM\" : 0, \"ELEVEN_RIDE_NUM\" : 16079, \"ONE_ALIGHT_NUM\" : 2, \"NINETEEN_RIDE_NUM\" : 37318, \"MIDNIGHT_ALIGHT_NUM\" : 127, \"TWENTY_THREE_ALIGHT_NUM\" : 4259, \"FOUR_RIDE_NUM\" : 33, \"TWENTY_RIDE_NUM\" : 29620, \"THIRTEEN_RIDE_NUM\" : 22618, \"SIX_ALIGHT_NUM\" : 14019, \"ELEVEN_ALIGHT_NUM\" : 28699, \"TWENTY_ONE_ALIGHT_NUM\" : 8749, \"SEVENTEEN_ALIGHT_NUM\" : 25005, \"SIXTEEN_ALIGHT_NUM\" : 23769, \"EIGHT_ALIGHT_NUM\" : 108110, \"FOURTEEN_RIDE_NUM\" : 27101, \"SIXTEEN_RIDE_NUM\" : 42530, \"TWENTY_ONE_RIDE_NUM\" : 33820, \"FIFTEEN_ALIGHT_NUM\" : 22810, \"TWELVE_RIDE_NUM\" : 19118, \"SEVENTEEN_RIDE_NUM\" : 59219, \"MIDNIGHT_RIDE_NUM\" : 6, \"EIGHT_RIDE_NUM\" : 19457 } ], \"RESULT\" : { \"MESSAGE\" : \"정상 처리되었습니다\", \"CODE\" : \"INFO-000\" }, \"list_total_count\" : 608 } }\n",
      "{ \"_id\" : ObjectId(\"61137bf8f5e6e92365141903\"), \"CardSubwayTime\" : { \"row\" : [ { \"FOUR_ALIGHT_NUM\" : 1, \"USE_MON\" : \"202106\", \"LINE_NUM\" : \"3호선\", \"FIFTEEN_RIDE_NUM\" : 36331, \"TWENTY_TWO_RIDE_NUM\" : 20379, \"WORK_DT\" : \"20210703\", \"FIVE_ALIGHT_NUM\" : 1503, \"SUB_STA_NM\" : \"안국\", \"FIVE_RIDE_NUM\" : 1619, \"EIGHTEEN_ALIGHT_NUM\" : 20547, \"FOURTEEN_ALIGHT_NUM\" : 28289, \"SEVEN_RIDE_NUM\" : 5742, \"NINETEEN_ALIGHT_NUM\" : 9996, \"TWO_ALIGHT_NUM\" : 0, \"TEN_RIDE_NUM\" : 8439, \"TEN_ALIGHT_NUM\" : 32836, \"TWENTY_ALIGHT_NUM\" : 4965, \"EIGHTEEN_RIDE_NUM\" : 100316, \"TWELVE_ALIGHT_NUM\" : 30988, \"TWENTY_THREE_RIDE_NUM\" : 2424, \"NINE_ALIGHT_NUM\" : 57095, \"THIRTEEN_ALIGHT_NUM\" : 32426, \"NINE_RIDE_NUM\" : 7139, \"ONE_RIDE_NUM\" : 0, \"SIX_RIDE_NUM\" : 2991, \"THREE_RIDE_NUM\" : 0, \"TWENTY_TWO_ALIGHT_NUM\" : 4518, \"TWO_RIDE_NUM\" : 0, \"SEVEN_ALIGHT_NUM\" : 91228, \"THREE_ALIGHT_NUM\" : 0, \"ELEVEN_RIDE_NUM\" : 12552, \"ONE_ALIGHT_NUM\" : 0, \"NINETEEN_RIDE_NUM\" : 40520, \"MIDNIGHT_ALIGHT_NUM\" : 23, \"TWENTY_THREE_ALIGHT_NUM\" : 1968, \"FOUR_RIDE_NUM\" : 21, \"TWENTY_RIDE_NUM\" : 31318, \"THIRTEEN_RIDE_NUM\" : 19805, \"SIX_ALIGHT_NUM\" : 20759, \"ELEVEN_ALIGHT_NUM\" : 33681, \"TWENTY_ONE_ALIGHT_NUM\" : 4275, \"SEVENTEEN_ALIGHT_NUM\" : 20608, \"SIXTEEN_ALIGHT_NUM\" : 21245, \"EIGHT_ALIGHT_NUM\" : 99061, \"FOURTEEN_RIDE_NUM\" : 25564, \"SIXTEEN_RIDE_NUM\" : 48897, \"TWENTY_ONE_RIDE_NUM\" : 30634, \"FIFTEEN_ALIGHT_NUM\" : 23922, \"TWELVE_RIDE_NUM\" : 18676, \"SEVENTEEN_RIDE_NUM\" : 91279, \"MIDNIGHT_RIDE_NUM\" : 2, \"EIGHT_RIDE_NUM\" : 8093 }, { \"FOUR_ALIGHT_NUM\" : 1, \"USE_MON\" : \"202106\", \"LINE_NUM\" : \"3호선\", \"FIFTEEN_RIDE_NUM\" : 15739, \"TWENTY_TWO_RIDE_NUM\" : 15924, \"WORK_DT\" : \"20210703\", \"FIVE_ALIGHT_NUM\" : 1062, \"SUB_STA_NM\" : \"종로3가\", \"FIVE_RIDE_NUM\" : 569, \"EIGHTEEN_ALIGHT_NUM\" : 14890, \"FOURTEEN_ALIGHT_NUM\" : 18898, \"SEVEN_RIDE_NUM\" : 1535, \"NINETEEN_ALIGHT_NUM\" : 7440, \"TWO_ALIGHT_NUM\" : 0, \"TEN_RIDE_NUM\" : 5130, \"TEN_ALIGHT_NUM\" : 29451, \"TWENTY_ALIGHT_NUM\" : 2807, \"EIGHTEEN_RIDE_NUM\" : 52193, \"TWELVE_ALIGHT_NUM\" : 21082, \"TWENTY_THREE_RIDE_NUM\" : 2388, \"NINE_ALIGHT_NUM\" : 45434, \"THIRTEEN_ALIGHT_NUM\" : 19443, \"NINE_RIDE_NUM\" : 3174, \"ONE_RIDE_NUM\" : 0, \"SIX_RIDE_NUM\" : 1084, \"THREE_RIDE_NUM\" : 0, \"TWENTY_TWO_ALIGHT_NUM\" : 1933, \"TWO_RIDE_NUM\" : 0, \"SEVEN_ALIGHT_NUM\" : 15536, \"THREE_ALIGHT_NUM\" : 0, \"ELEVEN_RIDE_NUM\" : 7771, \"ONE_ALIGHT_NUM\" : 0, \"NINETEEN_RIDE_NUM\" : 31410, \"MIDNIGHT_ALIGHT_NUM\" : 136, \"TWENTY_THREE_ALIGHT_NUM\" : 1056, \"FOUR_RIDE_NUM\" : 14, \"TWENTY_RIDE_NUM\" : 16336, \"THIRTEEN_RIDE_NUM\" : 10558, \"SIX_ALIGHT_NUM\" : 5900, \"ELEVEN_ALIGHT_NUM\" : 22386, \"TWENTY_ONE_ALIGHT_NUM\" : 2105, \"SEVENTEEN_ALIGHT_NUM\" : 15010, \"SIXTEEN_ALIGHT_NUM\" : 15209, \"EIGHT_ALIGHT_NUM\" : 45747, \"FOURTEEN_RIDE_NUM\" : 12370, \"SIXTEEN_RIDE_NUM\" : 18862, \"TWENTY_ONE_RIDE_NUM\" : 20520, \"FIFTEEN_ALIGHT_NUM\" : 17747, \"TWELVE_RIDE_NUM\" : 9346, \"SEVENTEEN_RIDE_NUM\" : 28569, \"MIDNIGHT_RIDE_NUM\" : 0, \"EIGHT_RIDE_NUM\" : 2012 }, { \"FOUR_ALIGHT_NUM\" : 0, \"USE_MON\" : \"202106\", \"LINE_NUM\" : \"3호선\", \"FIFTEEN_RIDE_NUM\" : 13545, \"TWENTY_TWO_RIDE_NUM\" : 18425, \"WORK_DT\" : \"20210703\", \"FIVE_ALIGHT_NUM\" : 901, \"SUB_STA_NM\" : \"을지로3가\", \"FIVE_RIDE_NUM\" : 624, \"EIGHTEEN_ALIGHT_NUM\" : 16139, \"FOURTEEN_ALIGHT_NUM\" : 10512, \"SEVEN_RIDE_NUM\" : 1847, \"NINETEEN_ALIGHT_NUM\" : 7866, \"TWO_ALIGHT_NUM\" : 0, \"TEN_RIDE_NUM\" : 4885, \"TEN_ALIGHT_NUM\" : 14996, \"TWENTY_ALIGHT_NUM\" : 2921, \"EIGHTEEN_RIDE_NUM\" : 64130, \"TWELVE_ALIGHT_NUM\" : 11867, \"TWENTY_THREE_RIDE_NUM\" : 2166, \"NINE_ALIGHT_NUM\" : 32215, \"THIRTEEN_ALIGHT_NUM\" : 12252, \"NINE_RIDE_NUM\" : 3832, \"ONE_RIDE_NUM\" : 0, \"SIX_RIDE_NUM\" : 974, \"THREE_RIDE_NUM\" : 0, \"TWENTY_TWO_ALIGHT_NUM\" : 1907, \"TWO_RIDE_NUM\" : 0, \"SEVEN_ALIGHT_NUM\" : 32198, \"THREE_ALIGHT_NUM\" : 0, \"ELEVEN_RIDE_NUM\" : 6814, \"ONE_ALIGHT_NUM\" : 1, \"NINETEEN_RIDE_NUM\" : 25589, \"MIDNIGHT_ALIGHT_NUM\" : 81, \"TWENTY_THREE_ALIGHT_NUM\" : 884, \"FOUR_RIDE_NUM\" : 3, \"TWENTY_RIDE_NUM\" : 16706, \"THIRTEEN_RIDE_NUM\" : 10506, \"SIX_ALIGHT_NUM\" : 9052, \"ELEVEN_ALIGHT_NUM\" : 12402, \"TWENTY_ONE_ALIGHT_NUM\" : 1951, \"SEVENTEEN_ALIGHT_NUM\" : 13771, \"SIXTEEN_ALIGHT_NUM\" : 10890, \"EIGHT_ALIGHT_NUM\" : 75007, \"FOURTEEN_RIDE_NUM\" : 12324, \"SIXTEEN_RIDE_NUM\" : 16982, \"TWENTY_ONE_RIDE_NUM\" : 19946, \"FIFTEEN_ALIGHT_NUM\" : 10538, \"TWELVE_RIDE_NUM\" : 8183, \"SEVENTEEN_RIDE_NUM\" : 36376, \"MIDNIGHT_RIDE_NUM\" : 2, \"EIGHT_RIDE_NUM\" : 3226 }, { \"FOUR_ALIGHT_NUM\" : 0, \"USE_MON\" : \"202106\", \"LINE_NUM\" : \"3호선\", \"FIFTEEN_RIDE_NUM\" : 1, \"TWENTY_TWO_RIDE_NUM\" : 1, \"WORK_DT\" : \"20210703\", \"FIVE_ALIGHT_NUM\" : 0, \"SUB_STA_NM\" : \"충무로\", \"FIVE_RIDE_NUM\" : 0, \"EIGHTEEN_ALIGHT_NUM\" : 0, \"FOURTEEN_ALIGHT_NUM\" : 0, \"SEVEN_RIDE_NUM\" : 0, \"NINETEEN_ALIGHT_NUM\" : 0, \"TWO_ALIGHT_NUM\" : 0, \"TEN_RIDE_NUM\" : 0, \"TEN_ALIGHT_NUM\" : 0, \"TWENTY_ALIGHT_NUM\" : 0, \"EIGHTEEN_RIDE_NUM\" : 9, \"TWELVE_ALIGHT_NUM\" : 0, \"TWENTY_THREE_RIDE_NUM\" : 1, \"NINE_ALIGHT_NUM\" : 0, \"THIRTEEN_ALIGHT_NUM\" : 0, \"NINE_RIDE_NUM\" : 2, \"ONE_RIDE_NUM\" : 0, \"SIX_RIDE_NUM\" : 0, \"THREE_RIDE_NUM\" : 0, \"TWENTY_TWO_ALIGHT_NUM\" : 0, \"TWO_RIDE_NUM\" : 0, \"SEVEN_ALIGHT_NUM\" : 0, \"THREE_ALIGHT_NUM\" : 0, \"ELEVEN_RIDE_NUM\" : 2, \"ONE_ALIGHT_NUM\" : 0, \"NINETEEN_RIDE_NUM\" : 0, \"MIDNIGHT_ALIGHT_NUM\" : 0, \"TWENTY_THREE_ALIGHT_NUM\" : 0, \"FOUR_RIDE_NUM\" : 0, \"TWENTY_RIDE_NUM\" : 2, \"THIRTEEN_RIDE_NUM\" : 0, \"SIX_ALIGHT_NUM\" : 0, \"ELEVEN_ALIGHT_NUM\" : 0, \"TWENTY_ONE_ALIGHT_NUM\" : 0, \"SEVENTEEN_ALIGHT_NUM\" : 0, \"SIXTEEN_ALIGHT_NUM\" : 0, \"EIGHT_ALIGHT_NUM\" : 0, \"FOURTEEN_RIDE_NUM\" : 1, \"SIXTEEN_RIDE_NUM\" : 3, \"TWENTY_ONE_RIDE_NUM\" : 3, \"FIFTEEN_ALIGHT_NUM\" : 0, \"TWELVE_RIDE_NUM\" : 1, \"SEVENTEEN_RIDE_NUM\" : 1, \"MIDNIGHT_RIDE_NUM\" : 0, \"EIGHT_RIDE_NUM\" : 1 }, { \"FOUR_ALIGHT_NUM\" : 1, \"USE_MON\" : \"202106\", \"LINE_NUM\" : \"3호선\", \"FIFTEEN_RIDE_NUM\" : 12042, \"TWENTY_TWO_RIDE_NUM\" : 10257, \"WORK_DT\" : \"20210703\", \"FIVE_ALIGHT_NUM\" : 1088, \"SUB_STA_NM\" : \"동대입구\", \"FIVE_RIDE_NUM\" : 1405, \"EIGHTEEN_ALIGHT_NUM\" : 10616, \"FOURTEEN_ALIGHT_NUM\" : 10019, \"SEVEN_RIDE_NUM\" : 5594, \"NINETEEN_ALIGHT_NUM\" : 6427, \"TWO_ALIGHT_NUM\" : 0, \"TEN_RIDE_NUM\" : 4728, \"TEN_ALIGHT_NUM\" : 14299, \"TWENTY_ALIGHT_NUM\" : 3599, \"EIGHTEEN_RIDE_NUM\" : 31751, \"TWELVE_ALIGHT_NUM\" : 11237, \"TWENTY_THREE_RIDE_NUM\" : 1839, \"NINE_ALIGHT_NUM\" : 25041, \"THIRTEEN_ALIGHT_NUM\" : 11382, \"NINE_RIDE_NUM\" : 5771, \"ONE_RIDE_NUM\" : 0, \"SIX_RIDE_NUM\" : 2433, \"THREE_RIDE_NUM\" : 0, \"TWENTY_TWO_ALIGHT_NUM\" : 4613, \"TWO_RIDE_NUM\" : 0, \"SEVEN_ALIGHT_NUM\" : 13634, \"THREE_ALIGHT_NUM\" : 0, \"ELEVEN_RIDE_NUM\" : 5626, \"ONE_ALIGHT_NUM\" : 0, \"NINETEEN_RIDE_NUM\" : 14449, \"MIDNIGHT_ALIGHT_NUM\" : 172, \"TWENTY_THREE_ALIGHT_NUM\" : 1817, \"FOUR_RIDE_NUM\" : 21, \"TWENTY_RIDE_NUM\" : 9872, \"THIRTEEN_RIDE_NUM\" : 8246, \"SIX_ALIGHT_NUM\" : 9641, \"ELEVEN_ALIGHT_NUM\" : 12062, \"TWENTY_ONE_ALIGHT_NUM\" : 4264, \"SEVENTEEN_ALIGHT_NUM\" : 9180, \"SIXTEEN_ALIGHT_NUM\" : 8540, \"EIGHT_ALIGHT_NUM\" : 46603, \"FOURTEEN_RIDE_NUM\" : 10357, \"SIXTEEN_RIDE_NUM\" : 15437, \"TWENTY_ONE_RIDE_NUM\" : 11356, \"FIFTEEN_ALIGHT_NUM\" : 7723, \"TWELVE_RIDE_NUM\" : 7209, \"SEVENTEEN_RIDE_NUM\" : 33460, \"MIDNIGHT_RIDE_NUM\" : 1, \"EIGHT_RIDE_NUM\" : 7247 } ], \"RESULT\" : { \"MESSAGE\" : \"정상 처리되었습니다\", \"CODE\" : \"INFO-000\" }, \"list_total_count\" : 608 } }\n",
      "{ \"_id\" : ObjectId(\"61137bf8f5e6e92365141904\"), \"CardSubwayTime\" : { \"row\" : [ { \"FOUR_ALIGHT_NUM\" : 12, \"USE_MON\" : \"202106\", \"LINE_NUM\" : \"3호선\", \"FIFTEEN_RIDE_NUM\" : 18164, \"TWENTY_TWO_RIDE_NUM\" : 12137, \"WORK_DT\" : \"20210703\", \"FIVE_ALIGHT_NUM\" : 965, \"SUB_STA_NM\" : \"약수\", \"FIVE_RIDE_NUM\" : 6058, \"EIGHTEEN_ALIGHT_NUM\" : 40029, \"FOURTEEN_ALIGHT_NUM\" : 15744, \"SEVEN_RIDE_NUM\" : 25202, \"NINETEEN_ALIGHT_NUM\" : 25921, \"TWO_ALIGHT_NUM\" : 0, \"TEN_RIDE_NUM\" : 17653, \"TEN_ALIGHT_NUM\" : 14339, \"TWENTY_ALIGHT_NUM\" : 16467, \"EIGHTEEN_RIDE_NUM\" : 32871, \"TWELVE_ALIGHT_NUM\" : 14492, \"TWENTY_THREE_RIDE_NUM\" : 2139, \"NINE_ALIGHT_NUM\" : 19856, \"THIRTEEN_ALIGHT_NUM\" : 14476, \"NINE_RIDE_NUM\" : 25359, \"ONE_RIDE_NUM\" : 0, \"SIX_RIDE_NUM\" : 10284, \"THREE_RIDE_NUM\" : 0, \"TWENTY_TWO_ALIGHT_NUM\" : 17491, \"TWO_RIDE_NUM\" : 0, \"SEVEN_ALIGHT_NUM\" : 15914, \"THREE_ALIGHT_NUM\" : 0, \"ELEVEN_RIDE_NUM\" : 16738, \"ONE_ALIGHT_NUM\" : 0, \"NINETEEN_RIDE_NUM\" : 16493, \"MIDNIGHT_ALIGHT_NUM\" : 1226, \"TWENTY_THREE_ALIGHT_NUM\" : 6136, \"FOUR_RIDE_NUM\" : 106, \"TWENTY_RIDE_NUM\" : 13576, \"THIRTEEN_RIDE_NUM\" : 17947, \"SIX_ALIGHT_NUM\" : 5871, \"ELEVEN_ALIGHT_NUM\" : 13652, \"TWENTY_ONE_ALIGHT_NUM\" : 15837, \"SEVENTEEN_ALIGHT_NUM\" : 26615, \"SIXTEEN_ALIGHT_NUM\" : 20975, \"EIGHT_ALIGHT_NUM\" : 34514, \"FOURTEEN_RIDE_NUM\" : 17145, \"SIXTEEN_RIDE_NUM\" : 21306, \"TWENTY_ONE_RIDE_NUM\" : 14410, \"FIFTEEN_ALIGHT_NUM\" : 17133, \"TWELVE_RIDE_NUM\" : 17958, \"SEVENTEEN_RIDE_NUM\" : 24329, \"MIDNIGHT_RIDE_NUM\" : 5, \"EIGHT_RIDE_NUM\" : 38141 }, { \"FOUR_ALIGHT_NUM\" : 20, \"USE_MON\" : \"202106\", \"LINE_NUM\" : \"3호선\", \"FIFTEEN_RIDE_NUM\" : 9583, \"TWENTY_TWO_RIDE_NUM\" : 4165, \"WORK_DT\" : \"20210703\", \"FIVE_ALIGHT_NUM\" : 570, \"SUB_STA_NM\" : \"금호\", \"FIVE_RIDE_NUM\" : 4620, \"EIGHTEEN_ALIGHT_NUM\" : 30386, \"FOURTEEN_ALIGHT_NUM\" : 9515, \"SEVEN_RIDE_NUM\" : 26544, \"NINETEEN_ALIGHT_NUM\" : 21080, \"TWO_ALIGHT_NUM\" : 0, \"TEN_RIDE_NUM\" : 13329, \"TEN_ALIGHT_NUM\" : 6219, \"TWENTY_ALIGHT_NUM\" : 14217, \"EIGHTEEN_RIDE_NUM\" : 11479, \"TWELVE_ALIGHT_NUM\" : 7725, \"TWENTY_THREE_RIDE_NUM\" : 901, \"NINE_ALIGHT_NUM\" : 6952, \"THIRTEEN_ALIGHT_NUM\" : 8935, \"NINE_RIDE_NUM\" : 20998, \"ONE_RIDE_NUM\" : 0, \"SIX_RIDE_NUM\" : 10025, \"THREE_RIDE_NUM\" : 0, \"TWENTY_TWO_ALIGHT_NUM\" : 15166, \"TWO_RIDE_NUM\" : 0, \"SEVEN_ALIGHT_NUM\" : 5153, \"THREE_ALIGHT_NUM\" : 0, \"ELEVEN_RIDE_NUM\" : 11315, \"ONE_ALIGHT_NUM\" : 1, \"NINETEEN_RIDE_NUM\" : 7063, \"MIDNIGHT_ALIGHT_NUM\" : 1, \"TWENTY_THREE_ALIGHT_NUM\" : 4700, \"FOUR_RIDE_NUM\" : 45, \"TWENTY_RIDE_NUM\" : 5478, \"THIRTEEN_RIDE_NUM\" : 11003, \"SIX_ALIGHT_NUM\" : 2841, \"ELEVEN_ALIGHT_NUM\" : 6811, \"TWENTY_ONE_ALIGHT_NUM\" : 12270, \"SEVENTEEN_ALIGHT_NUM\" : 19543, \"SIXTEEN_ALIGHT_NUM\" : 13366, \"EIGHT_ALIGHT_NUM\" : 9223, \"FOURTEEN_RIDE_NUM\" : 9678, \"SIXTEEN_RIDE_NUM\" : 10368, \"TWENTY_ONE_RIDE_NUM\" : 4806, \"FIFTEEN_ALIGHT_NUM\" : 11894, \"TWELVE_RIDE_NUM\" : 11474, \"SEVENTEEN_RIDE_NUM\" : 11493, \"MIDNIGHT_RIDE_NUM\" : 0, \"EIGHT_RIDE_NUM\" : 35292 }, { \"FOUR_ALIGHT_NUM\" : 19, \"USE_MON\" : \"202106\", \"LINE_NUM\" : \"3호선\", \"FIFTEEN_RIDE_NUM\" : 13681, \"TWENTY_TWO_RIDE_NUM\" : 6968, \"WORK_DT\" : \"20210703\", \"FIVE_ALIGHT_NUM\" : 949, \"SUB_STA_NM\" : \"옥수\", \"FIVE_RIDE_NUM\" : 2928, \"EIGHTEEN_ALIGHT_NUM\" : 33565, \"FOURTEEN_ALIGHT_NUM\" : 12510, \"SEVEN_RIDE_NUM\" : 22987, \"NINETEEN_ALIGHT_NUM\" : 25103, \"TWO_ALIGHT_NUM\" : 0, \"TEN_RIDE_NUM\" : 13559, \"TEN_ALIGHT_NUM\" : 8520, \"TWENTY_ALIGHT_NUM\" : 15335, \"EIGHTEEN_RIDE_NUM\" : 17596, \"TWELVE_ALIGHT_NUM\" : 10694, \"TWENTY_THREE_RIDE_NUM\" : 1668, \"NINE_ALIGHT_NUM\" : 10571, \"THIRTEEN_ALIGHT_NUM\" : 11867, \"NINE_RIDE_NUM\" : 19365, \"ONE_RIDE_NUM\" : 0, \"SIX_RIDE_NUM\" : 9181, \"THREE_RIDE_NUM\" : 0, \"TWENTY_TWO_ALIGHT_NUM\" : 16903, \"TWO_RIDE_NUM\" : 0, \"SEVEN_ALIGHT_NUM\" : 9073, \"THREE_ALIGHT_NUM\" : 0, \"ELEVEN_RIDE_NUM\" : 12415, \"ONE_ALIGHT_NUM\" : 1, \"NINETEEN_RIDE_NUM\" : 11145, \"MIDNIGHT_ALIGHT_NUM\" : 439, \"TWENTY_THREE_ALIGHT_NUM\" : 5526, \"FOUR_RIDE_NUM\" : 230, \"TWENTY_RIDE_NUM\" : 8746, \"THIRTEEN_RIDE_NUM\" : 13236, \"SIX_ALIGHT_NUM\" : 4604, \"ELEVEN_ALIGHT_NUM\" : 9416, \"TWENTY_ONE_ALIGHT_NUM\" : 14157, \"SEVENTEEN_ALIGHT_NUM\" : 22903, \"SIXTEEN_ALIGHT_NUM\" : 17273, \"EIGHT_ALIGHT_NUM\" : 14620, \"FOURTEEN_RIDE_NUM\" : 12656, \"SIXTEEN_RIDE_NUM\" : 15480, \"TWENTY_ONE_RIDE_NUM\" : 8386, \"FIFTEEN_ALIGHT_NUM\" : 14348, \"TWELVE_RIDE_NUM\" : 12449, \"SEVENTEEN_RIDE_NUM\" : 16947, \"MIDNIGHT_RIDE_NUM\" : 41, \"EIGHT_RIDE_NUM\" : 30149 }, { \"FOUR_ALIGHT_NUM\" : 2, \"USE_MON\" : \"202106\", \"LINE_NUM\" : \"3호선\", \"FIFTEEN_RIDE_NUM\" : 52092, \"TWENTY_TWO_RIDE_NUM\" : 45723, \"WORK_DT\" : \"20210703\", \"FIVE_ALIGHT_NUM\" : 1947, \"SUB_STA_NM\" : \"압구정\", \"FIVE_RIDE_NUM\" : 2868, \"EIGHTEEN_ALIGHT_NUM\" : 55607, \"FOURTEEN_ALIGHT_NUM\" : 45189, \"SEVEN_RIDE_NUM\" : 15287, \"NINETEEN_ALIGHT_NUM\" : 29386, \"TWO_ALIGHT_NUM\" : 1, \"TEN_RIDE_NUM\" : 21782, \"TEN_ALIGHT_NUM\" : 71472, \"TWENTY_ALIGHT_NUM\" : 13929, \"EIGHTEEN_RIDE_NUM\" : 132800, \"TWELVE_ALIGHT_NUM\" : 46377, \"TWENTY_THREE_RIDE_NUM\" : 6006, \"NINE_ALIGHT_NUM\" : 158426, \"THIRTEEN_ALIGHT_NUM\" : 50866, \"NINE_RIDE_NUM\" : 18159, \"ONE_RIDE_NUM\" : 0, \"SIX_RIDE_NUM\" : 8027, \"THREE_RIDE_NUM\" : 0, \"TWENTY_TWO_ALIGHT_NUM\" : 11372, \"TWO_RIDE_NUM\" : 1, \"SEVEN_ALIGHT_NUM\" : 45846, \"THREE_ALIGHT_NUM\" : 0, \"ELEVEN_RIDE_NUM\" : 28109, \"ONE_ALIGHT_NUM\" : 0, \"NINETEEN_RIDE_NUM\" : 93897, \"MIDNIGHT_ALIGHT_NUM\" : 924, \"TWENTY_THREE_ALIGHT_NUM\" : 3931, \"FOUR_RIDE_NUM\" : 38, \"TWENTY_RIDE_NUM\" : 72674, \"THIRTEEN_RIDE_NUM\" : 36606, \"SIX_ALIGHT_NUM\" : 22447, \"ELEVEN_ALIGHT_NUM\" : 53866, \"TWENTY_ONE_ALIGHT_NUM\" : 10872, \"SEVENTEEN_ALIGHT_NUM\" : 49466, \"SIXTEEN_ALIGHT_NUM\" : 42203, \"EIGHT_ALIGHT_NUM\" : 136321, \"FOURTEEN_RIDE_NUM\" : 42943, \"SIXTEEN_RIDE_NUM\" : 63631, \"TWENTY_ONE_RIDE_NUM\" : 59193, \"FIFTEEN_ALIGHT_NUM\" : 40996, \"TWELVE_RIDE_NUM\" : 33028, \"SEVENTEEN_RIDE_NUM\" : 87913, \"MIDNIGHT_RIDE_NUM\" : 9, \"EIGHT_RIDE_NUM\" : 22705 }, { \"FOUR_ALIGHT_NUM\" : 1, \"USE_MON\" : \"202106\", \"LINE_NUM\" : \"3호선\", \"FIFTEEN_RIDE_NUM\" : 45107, \"TWENTY_TWO_RIDE_NUM\" : 67993, \"WORK_DT\" : \"20210703\", \"FIVE_ALIGHT_NUM\" : 1552, \"SUB_STA_NM\" : \"신사\", \"FIVE_RIDE_NUM\" : 2710, \"EIGHTEEN_ALIGHT_NUM\" : 68505, \"FOURTEEN_ALIGHT_NUM\" : 45584, \"SEVEN_RIDE_NUM\" : 9945, \"NINETEEN_ALIGHT_NUM\" : 33318, \"TWO_ALIGHT_NUM\" : 0, \"TEN_RIDE_NUM\" : 16558, \"TEN_ALIGHT_NUM\" : 66632, \"TWENTY_ALIGHT_NUM\" : 12655, \"EIGHTEEN_RIDE_NUM\" : 134142, \"TWELVE_ALIGHT_NUM\" : 44390, \"TWENTY_THREE_RIDE_NUM\" : 6608, \"NINE_ALIGHT_NUM\" : 134907, \"THIRTEEN_ALIGHT_NUM\" : 48901, \"NINE_RIDE_NUM\" : 13786, \"ONE_RIDE_NUM\" : 0, \"SIX_RIDE_NUM\" : 5423, \"THREE_RIDE_NUM\" : 0, \"TWENTY_TWO_ALIGHT_NUM\" : 9820, \"TWO_RIDE_NUM\" : 0, \"SEVEN_ALIGHT_NUM\" : 43962, \"THREE_ALIGHT_NUM\" : 0, \"ELEVEN_RIDE_NUM\" : 22034, \"ONE_ALIGHT_NUM\" : 0, \"NINETEEN_RIDE_NUM\" : 89182, \"MIDNIGHT_ALIGHT_NUM\" : 145, \"TWENTY_THREE_ALIGHT_NUM\" : 3982, \"FOUR_RIDE_NUM\" : 26, \"TWENTY_RIDE_NUM\" : 58982, \"THIRTEEN_RIDE_NUM\" : 29624, \"SIX_ALIGHT_NUM\" : 20778, \"ELEVEN_ALIGHT_NUM\" : 45330, \"TWENTY_ONE_ALIGHT_NUM\" : 9537, \"SEVENTEEN_ALIGHT_NUM\" : 50416, \"SIXTEEN_ALIGHT_NUM\" : 44139, \"EIGHT_ALIGHT_NUM\" : 114805, \"FOURTEEN_RIDE_NUM\" : 36797, \"SIXTEEN_RIDE_NUM\" : 56248, \"TWENTY_ONE_RIDE_NUM\" : 77506, \"FIFTEEN_ALIGHT_NUM\" : 42725, \"TWELVE_RIDE_NUM\" : 25489, \"SEVENTEEN_RIDE_NUM\" : 85384, \"MIDNIGHT_RIDE_NUM\" : 0, \"EIGHT_RIDE_NUM\" : 17340 } ], \"RESULT\" : { \"MESSAGE\" : \"정상 처리되었습니다\", \"CODE\" : \"INFO-000\" }, \"list_total_count\" : 608 } }\n",
      "{ \"_id\" : ObjectId(\"61137bf8f5e6e92365141905\"), \"CardSubwayTime\" : { \"row\" : [ { \"FOUR_ALIGHT_NUM\" : 0, \"USE_MON\" : \"202106\", \"LINE_NUM\" : \"3호선\", \"FIFTEEN_RIDE_NUM\" : 6982, \"TWENTY_TWO_RIDE_NUM\" : 3844, \"WORK_DT\" : \"20210703\", \"FIVE_ALIGHT_NUM\" : 502, \"SUB_STA_NM\" : \"잠원\", \"FIVE_RIDE_NUM\" : 1084, \"EIGHTEEN_ALIGHT_NUM\" : 14217, \"FOURTEEN_ALIGHT_NUM\" : 5720, \"SEVEN_RIDE_NUM\" : 11793, \"NINETEEN_ALIGHT_NUM\" : 10229, \"TWO_ALIGHT_NUM\" : 0, \"TEN_RIDE_NUM\" : 6534, \"TEN_ALIGHT_NUM\" : 4637, \"TWENTY_ALIGHT_NUM\" : 5986, \"EIGHTEEN_RIDE_NUM\" : 9447, \"TWELVE_ALIGHT_NUM\" : 5482, \"TWENTY_THREE_RIDE_NUM\" : 721, \"NINE_ALIGHT_NUM\" : 6616, \"THIRTEEN_ALIGHT_NUM\" : 6412, \"NINE_RIDE_NUM\" : 9501, \"ONE_RIDE_NUM\" : 0, \"SIX_RIDE_NUM\" : 4634, \"THREE_RIDE_NUM\" : 0, \"TWENTY_TWO_ALIGHT_NUM\" : 7862, \"TWO_RIDE_NUM\" : 0, \"SEVEN_ALIGHT_NUM\" : 7533, \"THREE_ALIGHT_NUM\" : 0, \"ELEVEN_RIDE_NUM\" : 6044, \"ONE_ALIGHT_NUM\" : 1, \"NINETEEN_RIDE_NUM\" : 6089, \"MIDNIGHT_ALIGHT_NUM\" : 14, \"TWENTY_THREE_ALIGHT_NUM\" : 2375, \"FOUR_RIDE_NUM\" : 0, \"TWENTY_RIDE_NUM\" : 4478, \"THIRTEEN_RIDE_NUM\" : 7041, \"SIX_ALIGHT_NUM\" : 4704, \"ELEVEN_ALIGHT_NUM\" : 5122, \"TWENTY_ONE_ALIGHT_NUM\" : 6076, \"SEVENTEEN_ALIGHT_NUM\" : 9714, \"SIXTEEN_ALIGHT_NUM\" : 7137, \"EIGHT_ALIGHT_NUM\" : 10733, \"FOURTEEN_RIDE_NUM\" : 6457, \"SIXTEEN_RIDE_NUM\" : 8263, \"TWENTY_ONE_RIDE_NUM\" : 4548, \"FIFTEEN_ALIGHT_NUM\" : 6424, \"TWELVE_RIDE_NUM\" : 6550, \"SEVENTEEN_RIDE_NUM\" : 10427, \"MIDNIGHT_RIDE_NUM\" : 1, \"EIGHT_RIDE_NUM\" : 15300 }, { \"FOUR_ALIGHT_NUM\" : 0, \"USE_MON\" : \"202106\", \"LINE_NUM\" : \"3호선\", \"FIFTEEN_RIDE_NUM\" : 86982, \"TWENTY_TWO_RIDE_NUM\" : 46119, \"WORK_DT\" : \"20210703\", \"FIVE_ALIGHT_NUM\" : 3108, \"SUB_STA_NM\" : \"고속터미널\", \"FIVE_RIDE_NUM\" : 4576, \"EIGHTEEN_ALIGHT_NUM\" : 101120, \"FOURTEEN_ALIGHT_NUM\" : 80438, \"SEVEN_RIDE_NUM\" : 24162, \"NINETEEN_ALIGHT_NUM\" : 62898, \"TWO_ALIGHT_NUM\" : 0, \"TEN_RIDE_NUM\" : 42955, \"TEN_ALIGHT_NUM\" : 76773, \"TWENTY_ALIGHT_NUM\" : 37705, \"EIGHTEEN_RIDE_NUM\" : 120279, \"TWELVE_ALIGHT_NUM\" : 77685, \"TWENTY_THREE_RIDE_NUM\" : 12306, \"NINE_ALIGHT_NUM\" : 86598, \"THIRTEEN_ALIGHT_NUM\" : 79707, \"NINE_RIDE_NUM\" : 42361, \"ONE_RIDE_NUM\" : 0, \"SIX_RIDE_NUM\" : 6631, \"THREE_RIDE_NUM\" : 0, \"TWENTY_TWO_ALIGHT_NUM\" : 24404, \"TWO_RIDE_NUM\" : 0, \"SEVEN_ALIGHT_NUM\" : 43213, \"THREE_ALIGHT_NUM\" : 0, \"ELEVEN_RIDE_NUM\" : 52326, \"ONE_ALIGHT_NUM\" : 0, \"NINETEEN_RIDE_NUM\" : 96155, \"MIDNIGHT_ALIGHT_NUM\" : 266, \"TWENTY_THREE_ALIGHT_NUM\" : 8791, \"FOUR_RIDE_NUM\" : 126, \"TWENTY_RIDE_NUM\" : 108488, \"THIRTEEN_RIDE_NUM\" : 69888, \"SIX_ALIGHT_NUM\" : 29398, \"ELEVEN_ALIGHT_NUM\" : 83203, \"TWENTY_ONE_ALIGHT_NUM\" : 29538, \"SEVENTEEN_ALIGHT_NUM\" : 87740, \"SIXTEEN_ALIGHT_NUM\" : 81611, \"EIGHT_ALIGHT_NUM\" : 67635, \"FOURTEEN_RIDE_NUM\" : 79378, \"SIXTEEN_RIDE_NUM\" : 98372, \"TWENTY_ONE_RIDE_NUM\" : 69591, \"FIFTEEN_ALIGHT_NUM\" : 83251, \"TWELVE_RIDE_NUM\" : 64774, \"SEVENTEEN_RIDE_NUM\" : 113070, \"MIDNIGHT_RIDE_NUM\" : 7, \"EIGHT_RIDE_NUM\" : 39277 }, { \"FOUR_ALIGHT_NUM\" : 0, \"USE_MON\" : \"202106\", \"LINE_NUM\" : \"3호선\", \"FIFTEEN_RIDE_NUM\" : 20923, \"TWENTY_TWO_RIDE_NUM\" : 26415, \"WORK_DT\" : \"20210703\", \"FIVE_ALIGHT_NUM\" : 634, \"SUB_STA_NM\" : \"교대(법원.검찰청)\", \"FIVE_RIDE_NUM\" : 1231, \"EIGHTEEN_ALIGHT_NUM\" : 16388, \"FOURTEEN_ALIGHT_NUM\" : 9194, \"SEVEN_RIDE_NUM\" : 7468, \"NINETEEN_ALIGHT_NUM\" : 8558, \"TWO_ALIGHT_NUM\" : 0, \"TEN_RIDE_NUM\" : 10390, \"TEN_ALIGHT_NUM\" : 14755, \"TWENTY_ALIGHT_NUM\" : 3930, \"EIGHTEEN_RIDE_NUM\" : 65346, \"TWELVE_ALIGHT_NUM\" : 9656, \"TWENTY_THREE_RIDE_NUM\" : 2523, \"NINE_ALIGHT_NUM\" : 33501, \"THIRTEEN_ALIGHT_NUM\" : 10282, \"NINE_RIDE_NUM\" : 9620, \"ONE_RIDE_NUM\" : 0, \"SIX_RIDE_NUM\" : 3203, \"THREE_RIDE_NUM\" : 0, \"TWENTY_TWO_ALIGHT_NUM\" : 4031, \"TWO_RIDE_NUM\" : 0, \"SEVEN_ALIGHT_NUM\" : 20177, \"THREE_ALIGHT_NUM\" : 0, \"ELEVEN_RIDE_NUM\" : 13407, \"ONE_ALIGHT_NUM\" : 0, \"NINETEEN_RIDE_NUM\" : 26061, \"MIDNIGHT_ALIGHT_NUM\" : 15, \"TWENTY_THREE_ALIGHT_NUM\" : 1710, \"FOUR_RIDE_NUM\" : 8, \"TWENTY_RIDE_NUM\" : 20653, \"THIRTEEN_RIDE_NUM\" : 17728, \"SIX_ALIGHT_NUM\" : 6759, \"ELEVEN_ALIGHT_NUM\" : 9929, \"TWENTY_ONE_ALIGHT_NUM\" : 3397, \"SEVENTEEN_ALIGHT_NUM\" : 11947, \"SIXTEEN_ALIGHT_NUM\" : 9433, \"EIGHT_ALIGHT_NUM\" : 49033, \"FOURTEEN_RIDE_NUM\" : 19659, \"SIXTEEN_RIDE_NUM\" : 24431, \"TWENTY_ONE_RIDE_NUM\" : 24827, \"FIFTEEN_ALIGHT_NUM\" : 8856, \"TWELVE_RIDE_NUM\" : 14525, \"SEVENTEEN_RIDE_NUM\" : 39136, \"MIDNIGHT_RIDE_NUM\" : 0, \"EIGHT_RIDE_NUM\" : 12081 }, { \"FOUR_ALIGHT_NUM\" : 1, \"USE_MON\" : \"202106\", \"LINE_NUM\" : \"3호선\", \"FIFTEEN_RIDE_NUM\" : 43314, \"TWENTY_TWO_RIDE_NUM\" : 29892, \"WORK_DT\" : \"20210703\", \"FIVE_ALIGHT_NUM\" : 1376, \"SUB_STA_NM\" : \"남부터미널(예술의전당)\", \"FIVE_RIDE_NUM\" : 2639, \"EIGHTEEN_ALIGHT_NUM\" : 55159, \"FOURTEEN_ALIGHT_NUM\" : 41337, \"SEVEN_RIDE_NUM\" : 26512, \"NINETEEN_ALIGHT_NUM\" : 35946, \"TWO_ALIGHT_NUM\" : 0, \"TEN_RIDE_NUM\" : 28284, \"TEN_ALIGHT_NUM\" : 47306, \"TWENTY_ALIGHT_NUM\" : 21046, \"EIGHTEEN_RIDE_NUM\" : 136540, \"TWELVE_ALIGHT_NUM\" : 36232, \"TWENTY_THREE_RIDE_NUM\" : 4719, \"NINE_ALIGHT_NUM\" : 82361, \"THIRTEEN_ALIGHT_NUM\" : 41133, \"NINE_RIDE_NUM\" : 30612, \"ONE_RIDE_NUM\" : 0, \"SIX_RIDE_NUM\" : 8365, \"THREE_RIDE_NUM\" : 0, \"TWENTY_TWO_ALIGHT_NUM\" : 15521, \"TWO_RIDE_NUM\" : 0, \"SEVEN_ALIGHT_NUM\" : 57743, \"THREE_ALIGHT_NUM\" : 0, \"ELEVEN_RIDE_NUM\" : 32662, \"ONE_ALIGHT_NUM\" : 0, \"NINETEEN_RIDE_NUM\" : 60054, \"MIDNIGHT_ALIGHT_NUM\" : 68, \"TWENTY_THREE_ALIGHT_NUM\" : 6797, \"FOUR_RIDE_NUM\" : 18, \"TWENTY_RIDE_NUM\" : 40380, \"THIRTEEN_RIDE_NUM\" : 38290, \"SIX_ALIGHT_NUM\" : 23465, \"ELEVEN_ALIGHT_NUM\" : 35821, \"TWENTY_ONE_ALIGHT_NUM\" : 16709, \"SEVENTEEN_ALIGHT_NUM\" : 46155, \"SIXTEEN_ALIGHT_NUM\" : 40635, \"EIGHT_ALIGHT_NUM\" : 157354, \"FOURTEEN_RIDE_NUM\" : 38150, \"SIXTEEN_RIDE_NUM\" : 52711, \"TWENTY_ONE_RIDE_NUM\" : 38593, \"FIFTEEN_ALIGHT_NUM\" : 39897, \"TWELVE_RIDE_NUM\" : 36076, \"SEVENTEEN_RIDE_NUM\" : 87498, \"MIDNIGHT_RIDE_NUM\" : 4, \"EIGHT_RIDE_NUM\" : 38491 }, { \"FOUR_ALIGHT_NUM\" : 1, \"USE_MON\" : \"202106\", \"LINE_NUM\" : \"3호선\", \"FIFTEEN_RIDE_NUM\" : 50689, \"TWENTY_TWO_RIDE_NUM\" : 43243, \"WORK_DT\" : \"20210703\", \"FIVE_ALIGHT_NUM\" : 2677, \"SUB_STA_NM\" : \"양재(서초구청)\", \"FIVE_RIDE_NUM\" : 5336, \"EIGHTEEN_ALIGHT_NUM\" : 72407, \"FOURTEEN_ALIGHT_NUM\" : 37938, \"SEVEN_RIDE_NUM\" : 34852, \"NINETEEN_ALIGHT_NUM\" : 47470, \"TWO_ALIGHT_NUM\" : 0, \"TEN_RIDE_NUM\" : 28935, \"TEN_ALIGHT_NUM\" : 52522, \"TWENTY_ALIGHT_NUM\" : 27863, \"EIGHTEEN_RIDE_NUM\" : 203360, \"TWELVE_ALIGHT_NUM\" : 38288, \"TWENTY_THREE_RIDE_NUM\" : 4871, \"NINE_ALIGHT_NUM\" : 123266, \"THIRTEEN_ALIGHT_NUM\" : 43883, \"NINE_RIDE_NUM\" : 31897, \"ONE_RIDE_NUM\" : 0, \"SIX_RIDE_NUM\" : 13568, \"THREE_RIDE_NUM\" : 0, \"TWENTY_TWO_ALIGHT_NUM\" : 26314, \"TWO_RIDE_NUM\" : 0, \"SEVEN_ALIGHT_NUM\" : 107380, \"THREE_ALIGHT_NUM\" : 0, \"ELEVEN_RIDE_NUM\" : 31809, \"ONE_ALIGHT_NUM\" : 0, \"NINETEEN_RIDE_NUM\" : 86308, \"MIDNIGHT_ALIGHT_NUM\" : 843, \"TWENTY_THREE_ALIGHT_NUM\" : 10172, \"FOUR_RIDE_NUM\" : 34, \"TWENTY_RIDE_NUM\" : 56700, \"THIRTEEN_RIDE_NUM\" : 39330, \"SIX_ALIGHT_NUM\" : 41082, \"ELEVEN_ALIGHT_NUM\" : 41811, \"TWENTY_ONE_ALIGHT_NUM\" : 25367, \"SEVENTEEN_ALIGHT_NUM\" : 53212, \"SIXTEEN_ALIGHT_NUM\" : 41137, \"EIGHT_ALIGHT_NUM\" : 245673, \"FOURTEEN_RIDE_NUM\" : 42478, \"SIXTEEN_RIDE_NUM\" : 65331, \"TWENTY_ONE_RIDE_NUM\" : 56458, \"FIFTEEN_ALIGHT_NUM\" : 38718, \"TWELVE_RIDE_NUM\" : 34853, \"SEVENTEEN_RIDE_NUM\" : 120383, \"MIDNIGHT_RIDE_NUM\" : 1, \"EIGHT_RIDE_NUM\" : 44349 } ], \"RESULT\" : { \"MESSAGE\" : \"정상 처리되었습니다\", \"CODE\" : \"INFO-000\" }, \"list_total_count\" : 608 } }\n",
      "{ \"_id\" : ObjectId(\"61137bf8f5e6e92365141906\"), \"CardSubwayTime\" : { \"row\" : [ { \"FOUR_ALIGHT_NUM\" : 1, \"USE_MON\" : \"202106\", \"LINE_NUM\" : \"3호선\", \"FIFTEEN_RIDE_NUM\" : 16043, \"TWENTY_TWO_RIDE_NUM\" : 11520, \"WORK_DT\" : \"20210703\", \"FIVE_ALIGHT_NUM\" : 517, \"SUB_STA_NM\" : \"매봉\", \"FIVE_RIDE_NUM\" : 1556, \"EIGHTEEN_ALIGHT_NUM\" : 22573, \"FOURTEEN_ALIGHT_NUM\" : 10475, \"SEVEN_RIDE_NUM\" : 16412, \"NINETEEN_ALIGHT_NUM\" : 14976, \"TWO_ALIGHT_NUM\" : 0, \"TEN_RIDE_NUM\" : 10850, \"TEN_ALIGHT_NUM\" : 14040, \"TWENTY_ALIGHT_NUM\" : 8573, \"EIGHTEEN_RIDE_NUM\" : 65933, \"TWELVE_ALIGHT_NUM\" : 11273, \"TWENTY_THREE_RIDE_NUM\" : 1622, \"NINE_ALIGHT_NUM\" : 40561, \"THIRTEEN_ALIGHT_NUM\" : 11740, \"NINE_RIDE_NUM\" : 13328, \"ONE_RIDE_NUM\" : 0, \"SIX_RIDE_NUM\" : 6741, \"THREE_RIDE_NUM\" : 0, \"TWENTY_TWO_ALIGHT_NUM\" : 8873, \"TWO_RIDE_NUM\" : 0, \"SEVEN_ALIGHT_NUM\" : 23242, \"THREE_ALIGHT_NUM\" : 0, \"ELEVEN_RIDE_NUM\" : 10959, \"ONE_ALIGHT_NUM\" : 0, \"NINETEEN_RIDE_NUM\" : 22667, \"MIDNIGHT_ALIGHT_NUM\" : 306, \"TWENTY_THREE_ALIGHT_NUM\" : 3386, \"FOUR_RIDE_NUM\" : 7, \"TWENTY_RIDE_NUM\" : 14121, \"THIRTEEN_RIDE_NUM\" : 12818, \"SIX_ALIGHT_NUM\" : 9013, \"ELEVEN_ALIGHT_NUM\" : 12036, \"TWENTY_ONE_ALIGHT_NUM\" : 7401, \"SEVENTEEN_ALIGHT_NUM\" : 16342, \"SIXTEEN_ALIGHT_NUM\" : 12013, \"EIGHT_ALIGHT_NUM\" : 69143, \"FOURTEEN_RIDE_NUM\" : 14272, \"SIXTEEN_RIDE_NUM\" : 19252, \"TWENTY_ONE_RIDE_NUM\" : 16477, \"FIFTEEN_ALIGHT_NUM\" : 11231, \"TWELVE_RIDE_NUM\" : 11504, \"SEVENTEEN_RIDE_NUM\" : 35487, \"MIDNIGHT_RIDE_NUM\" : 4, \"EIGHT_RIDE_NUM\" : 19668 }, { \"FOUR_ALIGHT_NUM\" : 3, \"USE_MON\" : \"202106\", \"LINE_NUM\" : \"3호선\", \"FIFTEEN_RIDE_NUM\" : 8555, \"TWENTY_TWO_RIDE_NUM\" : 4714, \"WORK_DT\" : \"20210703\", \"FIVE_ALIGHT_NUM\" : 365, \"SUB_STA_NM\" : \"도곡\", \"FIVE_RIDE_NUM\" : 1054, \"EIGHTEEN_ALIGHT_NUM\" : 10401, \"FOURTEEN_ALIGHT_NUM\" : 5990, \"SEVEN_RIDE_NUM\" : 8900, \"NINETEEN_ALIGHT_NUM\" : 8671, \"TWO_ALIGHT_NUM\" : 0, \"TEN_RIDE_NUM\" : 5369, \"TEN_ALIGHT_NUM\" : 6983, \"TWENTY_ALIGHT_NUM\" : 4595, \"EIGHTEEN_RIDE_NUM\" : 17662, \"TWELVE_ALIGHT_NUM\" : 6181, \"TWENTY_THREE_RIDE_NUM\" : 761, \"NINE_ALIGHT_NUM\" : 15022, \"THIRTEEN_ALIGHT_NUM\" : 6744, \"NINE_RIDE_NUM\" : 6975, \"ONE_RIDE_NUM\" : 0, \"SIX_RIDE_NUM\" : 3847, \"THREE_RIDE_NUM\" : 0, \"TWENTY_TWO_ALIGHT_NUM\" : 5241, \"TWO_RIDE_NUM\" : 0, \"SEVEN_ALIGHT_NUM\" : 14122, \"THREE_ALIGHT_NUM\" : 0, \"ELEVEN_RIDE_NUM\" : 5588, \"ONE_ALIGHT_NUM\" : 0, \"NINETEEN_RIDE_NUM\" : 9191, \"MIDNIGHT_ALIGHT_NUM\" : 888, \"TWENTY_THREE_ALIGHT_NUM\" : 1680, \"FOUR_RIDE_NUM\" : 26, \"TWENTY_RIDE_NUM\" : 5799, \"THIRTEEN_RIDE_NUM\" : 6363, \"SIX_ALIGHT_NUM\" : 4707, \"ELEVEN_ALIGHT_NUM\" : 6057, \"TWENTY_ONE_ALIGHT_NUM\" : 4336, \"SEVENTEEN_ALIGHT_NUM\" : 7475, \"SIXTEEN_ALIGHT_NUM\" : 6170, \"EIGHT_ALIGHT_NUM\" : 22123, \"FOURTEEN_RIDE_NUM\" : 7004, \"SIXTEEN_RIDE_NUM\" : 11184, \"TWENTY_ONE_RIDE_NUM\" : 5248, \"FIFTEEN_ALIGHT_NUM\" : 6219, \"TWELVE_RIDE_NUM\" : 5942, \"SEVENTEEN_RIDE_NUM\" : 16068, \"MIDNIGHT_RIDE_NUM\" : 3, \"EIGHT_RIDE_NUM\" : 10871 }, { \"FOUR_ALIGHT_NUM\" : 0, \"USE_MON\" : \"202106\", \"LINE_NUM\" : \"3호선\", \"FIFTEEN_RIDE_NUM\" : 15859, \"TWENTY_TWO_RIDE_NUM\" : 27639, \"WORK_DT\" : \"20210703\", \"FIVE_ALIGHT_NUM\" : 729, \"SUB_STA_NM\" : \"대치\", \"FIVE_RIDE_NUM\" : 2481, \"EIGHTEEN_ALIGHT_NUM\" : 26815, \"FOURTEEN_ALIGHT_NUM\" : 15711, \"SEVEN_RIDE_NUM\" : 23835, \"NINETEEN_ALIGHT_NUM\" : 21263, \"TWO_ALIGHT_NUM\" : 0, \"TEN_RIDE_NUM\" : 10639, \"TEN_ALIGHT_NUM\" : 12364, \"TWENTY_ALIGHT_NUM\" : 11068, \"EIGHTEEN_RIDE_NUM\" : 26760, \"TWELVE_ALIGHT_NUM\" : 13594, \"TWENTY_THREE_RIDE_NUM\" : 2367, \"NINE_ALIGHT_NUM\" : 16957, \"THIRTEEN_ALIGHT_NUM\" : 16677, \"NINE_RIDE_NUM\" : 13091, \"ONE_RIDE_NUM\" : 0, \"SIX_RIDE_NUM\" : 10788, \"THREE_RIDE_NUM\" : 0, \"TWENTY_TWO_ALIGHT_NUM\" : 11399, \"TWO_RIDE_NUM\" : 0, \"SEVEN_ALIGHT_NUM\" : 18864, \"THREE_ALIGHT_NUM\" : 0, \"ELEVEN_RIDE_NUM\" : 10631, \"ONE_ALIGHT_NUM\" : 1, \"NINETEEN_RIDE_NUM\" : 17064, \"MIDNIGHT_ALIGHT_NUM\" : 23, \"TWENTY_THREE_ALIGHT_NUM\" : 4551, \"FOUR_RIDE_NUM\" : 8, \"TWENTY_RIDE_NUM\" : 12466, \"THIRTEEN_RIDE_NUM\" : 13094, \"SIX_ALIGHT_NUM\" : 7892, \"ELEVEN_ALIGHT_NUM\" : 11211, \"TWENTY_ONE_ALIGHT_NUM\" : 10328, \"SEVENTEEN_ALIGHT_NUM\" : 24607, \"SIXTEEN_ALIGHT_NUM\" : 20579, \"EIGHT_ALIGHT_NUM\" : 25552, \"FOURTEEN_RIDE_NUM\" : 13053, \"SIXTEEN_RIDE_NUM\" : 17106, \"TWENTY_ONE_RIDE_NUM\" : 15903, \"FIFTEEN_ALIGHT_NUM\" : 18507, \"TWELVE_RIDE_NUM\" : 12852, \"SEVENTEEN_RIDE_NUM\" : 23560, \"MIDNIGHT_RIDE_NUM\" : 1, \"EIGHT_RIDE_NUM\" : 22526 }, { \"FOUR_ALIGHT_NUM\" : 0, \"USE_MON\" : \"202106\", \"LINE_NUM\" : \"3호선\", \"FIFTEEN_RIDE_NUM\" : 4186, \"TWENTY_TWO_RIDE_NUM\" : 1145, \"WORK_DT\" : \"20210703\", \"FIVE_ALIGHT_NUM\" : 289, \"SUB_STA_NM\" : \"학여울\", \"FIVE_RIDE_NUM\" : 604, \"EIGHTEEN_ALIGHT_NUM\" : 4087, \"FOURTEEN_ALIGHT_NUM\" : 3311, \"SEVEN_RIDE_NUM\" : 3834, \"NINETEEN_ALIGHT_NUM\" : 3111, \"TWO_ALIGHT_NUM\" : 0, \"TEN_RIDE_NUM\" : 2111, \"TEN_ALIGHT_NUM\" : 3843, \"TWENTY_ALIGHT_NUM\" : 1942, \"EIGHTEEN_RIDE_NUM\" : 6885, \"TWELVE_ALIGHT_NUM\" : 2962, \"TWENTY_THREE_RIDE_NUM\" : 184, \"NINE_ALIGHT_NUM\" : 5167, \"THIRTEEN_ALIGHT_NUM\" : 3468, \"NINE_RIDE_NUM\" : 2412, \"ONE_RIDE_NUM\" : 0, \"SIX_RIDE_NUM\" : 1792, \"THREE_RIDE_NUM\" : 0, \"TWENTY_TWO_ALIGHT_NUM\" : 2190, \"TWO_RIDE_NUM\" : 0, \"SEVEN_ALIGHT_NUM\" : 3413, \"THREE_ALIGHT_NUM\" : 0, \"ELEVEN_RIDE_NUM\" : 2423, \"ONE_ALIGHT_NUM\" : 0, \"NINETEEN_RIDE_NUM\" : 2790, \"MIDNIGHT_ALIGHT_NUM\" : 3, \"TWENTY_THREE_ALIGHT_NUM\" : 863, \"FOUR_RIDE_NUM\" : 3, \"TWENTY_RIDE_NUM\" : 1722, \"THIRTEEN_RIDE_NUM\" : 3090, \"SIX_ALIGHT_NUM\" : 1671, \"ELEVEN_ALIGHT_NUM\" : 2653, \"TWENTY_ONE_ALIGHT_NUM\" : 1777, \"SEVENTEEN_ALIGHT_NUM\" : 3108, \"SIXTEEN_ALIGHT_NUM\" : 2719, \"EIGHT_ALIGHT_NUM\" : 7405, \"FOURTEEN_RIDE_NUM\" : 3276, \"SIXTEEN_RIDE_NUM\" : 4777, \"TWENTY_ONE_RIDE_NUM\" : 1570, \"FIFTEEN_ALIGHT_NUM\" : 3315, \"TWELVE_RIDE_NUM\" : 3322, \"SEVENTEEN_RIDE_NUM\" : 5381, \"MIDNIGHT_RIDE_NUM\" : 0, \"EIGHT_RIDE_NUM\" : 4017 }, { \"FOUR_ALIGHT_NUM\" : 0, \"USE_MON\" : \"202106\", \"LINE_NUM\" : \"3호선\", \"FIFTEEN_RIDE_NUM\" : 18946, \"TWENTY_TWO_RIDE_NUM\" : 4686, \"WORK_DT\" : \"20210703\", \"FIVE_ALIGHT_NUM\" : 1095, \"SUB_STA_NM\" : \"대청\", \"FIVE_RIDE_NUM\" : 3503, \"EIGHTEEN_ALIGHT_NUM\" : 24670, \"FOURTEEN_ALIGHT_NUM\" : 9756, \"SEVEN_RIDE_NUM\" : 26215, \"NINETEEN_ALIGHT_NUM\" : 21014, \"TWO_ALIGHT_NUM\" : 0, \"TEN_RIDE_NUM\" : 12417, \"TEN_ALIGHT_NUM\" : 7461, \"TWENTY_ALIGHT_NUM\" : 13316, \"EIGHTEEN_RIDE_NUM\" : 25893, \"TWELVE_ALIGHT_NUM\" : 8703, \"TWENTY_THREE_RIDE_NUM\" : 1045, \"NINE_ALIGHT_NUM\" : 11093, \"THIRTEEN_ALIGHT_NUM\" : 9466, \"NINE_RIDE_NUM\" : 16408, \"ONE_RIDE_NUM\" : 0, \"SIX_RIDE_NUM\" : 10292, \"THREE_RIDE_NUM\" : 0, \"TWENTY_TWO_ALIGHT_NUM\" : 15389, \"TWO_RIDE_NUM\" : 0, \"SEVEN_ALIGHT_NUM\" : 15424, \"THREE_ALIGHT_NUM\" : 0, \"ELEVEN_RIDE_NUM\" : 11723, \"ONE_ALIGHT_NUM\" : 0, \"NINETEEN_RIDE_NUM\" : 10226, \"MIDNIGHT_ALIGHT_NUM\" : 67, \"TWENTY_THREE_ALIGHT_NUM\" : 5804, \"FOUR_RIDE_NUM\" : 99, \"TWENTY_RIDE_NUM\" : 7080, \"THIRTEEN_RIDE_NUM\" : 12175, \"SIX_ALIGHT_NUM\" : 7091, \"ELEVEN_ALIGHT_NUM\" : 7472, \"TWENTY_ONE_ALIGHT_NUM\" : 12032, \"SEVENTEEN_ALIGHT_NUM\" : 16644, \"SIXTEEN_ALIGHT_NUM\" : 13245, \"EIGHT_ALIGHT_NUM\" : 26621, \"FOURTEEN_RIDE_NUM\" : 12792, \"SIXTEEN_RIDE_NUM\" : 18163, \"TWENTY_ONE_RIDE_NUM\" : 5975, \"FIFTEEN_ALIGHT_NUM\" : 12479, \"TWELVE_RIDE_NUM\" : 11422, \"SEVENTEEN_RIDE_NUM\" : 21348, \"MIDNIGHT_RIDE_NUM\" : 0, \"EIGHT_RIDE_NUM\" : 30006 } ], \"RESULT\" : { \"MESSAGE\" : \"정상 처리되었습니다\", \"CODE\" : \"INFO-000\" }, \"list_total_count\" : 608 } }\n",
      "{ \"_id\" : ObjectId(\"61137bf8f5e6e92365141907\"), \"CardSubwayTime\" : { \"row\" : [ { \"FOUR_ALIGHT_NUM\" : 0, \"USE_MON\" : \"202106\", \"LINE_NUM\" : \"3호선\", \"FIFTEEN_RIDE_NUM\" : 20161, \"TWENTY_TWO_RIDE_NUM\" : 3323, \"WORK_DT\" : \"20210703\", \"FIVE_ALIGHT_NUM\" : 1485, \"SUB_STA_NM\" : \"일원\", \"FIVE_RIDE_NUM\" : 2199, \"EIGHTEEN_ALIGHT_NUM\" : 17858, \"FOURTEEN_ALIGHT_NUM\" : 12073, \"SEVEN_RIDE_NUM\" : 22030, \"NINETEEN_ALIGHT_NUM\" : 15261, \"TWO_ALIGHT_NUM\" : 0, \"TEN_RIDE_NUM\" : 14127, \"TEN_ALIGHT_NUM\" : 15176, \"TWENTY_ALIGHT_NUM\" : 9798, \"EIGHTEEN_RIDE_NUM\" : 16842, \"TWELVE_ALIGHT_NUM\" : 12577, \"TWENTY_THREE_RIDE_NUM\" : 930, \"NINE_ALIGHT_NUM\" : 17447, \"THIRTEEN_ALIGHT_NUM\" : 14402, \"NINE_RIDE_NUM\" : 14518, \"ONE_RIDE_NUM\" : 0, \"SIX_RIDE_NUM\" : 8290, \"THREE_RIDE_NUM\" : 0, \"TWENTY_TWO_ALIGHT_NUM\" : 11137, \"TWO_RIDE_NUM\" : 0, \"SEVEN_ALIGHT_NUM\" : 29645, \"THREE_ALIGHT_NUM\" : 0, \"ELEVEN_RIDE_NUM\" : 14839, \"ONE_ALIGHT_NUM\" : 1, \"NINETEEN_RIDE_NUM\" : 8901, \"MIDNIGHT_ALIGHT_NUM\" : 49, \"TWENTY_THREE_ALIGHT_NUM\" : 3789, \"FOUR_RIDE_NUM\" : 1, \"TWENTY_RIDE_NUM\" : 5719, \"THIRTEEN_RIDE_NUM\" : 13218, \"SIX_ALIGHT_NUM\" : 10179, \"ELEVEN_ALIGHT_NUM\" : 10960, \"TWENTY_ONE_ALIGHT_NUM\" : 9329, \"SEVENTEEN_ALIGHT_NUM\" : 12657, \"SIXTEEN_ALIGHT_NUM\" : 10189, \"EIGHT_ALIGHT_NUM\" : 26488, \"FOURTEEN_RIDE_NUM\" : 14871, \"SIXTEEN_RIDE_NUM\" : 25695, \"TWENTY_ONE_RIDE_NUM\" : 3886, \"FIFTEEN_ALIGHT_NUM\" : 11876, \"TWELVE_RIDE_NUM\" : 14437, \"SEVENTEEN_RIDE_NUM\" : 32588, \"MIDNIGHT_RIDE_NUM\" : 0, \"EIGHT_RIDE_NUM\" : 20691 }, { \"FOUR_ALIGHT_NUM\" : 7, \"USE_MON\" : \"202106\", \"LINE_NUM\" : \"3호선\", \"FIFTEEN_RIDE_NUM\" : 28400, \"TWENTY_TWO_RIDE_NUM\" : 13250, \"WORK_DT\" : \"20210703\", \"FIVE_ALIGHT_NUM\" : 2139, \"SUB_STA_NM\" : \"수서\", \"FIVE_RIDE_NUM\" : 4574, \"EIGHTEEN_ALIGHT_NUM\" : 46185, \"FOURTEEN_ALIGHT_NUM\" : 20504, \"SEVEN_RIDE_NUM\" : 33590, \"NINETEEN_ALIGHT_NUM\" : 34378, \"TWO_ALIGHT_NUM\" : 0, \"TEN_RIDE_NUM\" : 24642, \"TEN_ALIGHT_NUM\" : 21538, \"TWENTY_ALIGHT_NUM\" : 22128, \"EIGHTEEN_RIDE_NUM\" : 49782, \"TWELVE_ALIGHT_NUM\" : 21215, \"TWENTY_THREE_RIDE_NUM\" : 3105, \"NINE_ALIGHT_NUM\" : 30952, \"THIRTEEN_ALIGHT_NUM\" : 20327, \"NINE_RIDE_NUM\" : 26435, \"ONE_RIDE_NUM\" : 0, \"SIX_RIDE_NUM\" : 12377, \"THREE_RIDE_NUM\" : 0, \"TWENTY_TWO_ALIGHT_NUM\" : 23059, \"TWO_RIDE_NUM\" : 0, \"SEVEN_ALIGHT_NUM\" : 34164, \"THREE_ALIGHT_NUM\" : 0, \"ELEVEN_RIDE_NUM\" : 20564, \"ONE_ALIGHT_NUM\" : 1, \"NINETEEN_RIDE_NUM\" : 22662, \"MIDNIGHT_ALIGHT_NUM\" : 597, \"TWENTY_THREE_ALIGHT_NUM\" : 7237, \"FOUR_RIDE_NUM\" : 263, \"TWENTY_RIDE_NUM\" : 21453, \"THIRTEEN_RIDE_NUM\" : 23423, \"SIX_ALIGHT_NUM\" : 16166, \"ELEVEN_ALIGHT_NUM\" : 16761, \"TWENTY_ONE_ALIGHT_NUM\" : 18843, \"SEVENTEEN_ALIGHT_NUM\" : 32517, \"SIXTEEN_ALIGHT_NUM\" : 26163, \"EIGHT_ALIGHT_NUM\" : 52367, \"FOURTEEN_RIDE_NUM\" : 19526, \"SIXTEEN_RIDE_NUM\" : 35533, \"TWENTY_ONE_RIDE_NUM\" : 14254, \"FIFTEEN_ALIGHT_NUM\" : 24222, \"TWELVE_RIDE_NUM\" : 26364, \"SEVENTEEN_RIDE_NUM\" : 40883, \"MIDNIGHT_RIDE_NUM\" : 2, \"EIGHT_RIDE_NUM\" : 41524 }, { \"FOUR_ALIGHT_NUM\" : 0, \"USE_MON\" : \"202106\", \"LINE_NUM\" : \"3호선\", \"FIFTEEN_RIDE_NUM\" : 12994, \"TWENTY_TWO_RIDE_NUM\" : 6333, \"WORK_DT\" : \"20210703\", \"FIVE_ALIGHT_NUM\" : 557, \"SUB_STA_NM\" : \"가락시장\", \"FIVE_RIDE_NUM\" : 2376, \"EIGHTEEN_ALIGHT_NUM\" : 22213, \"FOURTEEN_ALIGHT_NUM\" : 11350, \"SEVEN_RIDE_NUM\" : 19112, \"NINETEEN_ALIGHT_NUM\" : 16174, \"TWO_ALIGHT_NUM\" : 0, \"TEN_RIDE_NUM\" : 12294, \"TEN_ALIGHT_NUM\" : 10799, \"TWENTY_ALIGHT_NUM\" : 10442, \"EIGHTEEN_RIDE_NUM\" : 28707, \"TWELVE_ALIGHT_NUM\" : 10543, \"TWENTY_THREE_RIDE_NUM\" : 956, \"NINE_ALIGHT_NUM\" : 15353, \"THIRTEEN_ALIGHT_NUM\" : 11162, \"NINE_RIDE_NUM\" : 15181, \"ONE_RIDE_NUM\" : 0, \"SIX_RIDE_NUM\" : 6894, \"THREE_RIDE_NUM\" : 0, \"TWENTY_TWO_ALIGHT_NUM\" : 9362, \"TWO_RIDE_NUM\" : 0, \"SEVEN_ALIGHT_NUM\" : 11864, \"THREE_ALIGHT_NUM\" : 0, \"ELEVEN_RIDE_NUM\" : 12233, \"ONE_ALIGHT_NUM\" : 1, \"NINETEEN_RIDE_NUM\" : 11480, \"MIDNIGHT_ALIGHT_NUM\" : 875, \"TWENTY_THREE_ALIGHT_NUM\" : 3799, \"FOUR_RIDE_NUM\" : 17, \"TWENTY_RIDE_NUM\" : 8813, \"THIRTEEN_RIDE_NUM\" : 12190, \"SIX_ALIGHT_NUM\" : 5714, \"ELEVEN_ALIGHT_NUM\" : 9973, \"TWENTY_ONE_ALIGHT_NUM\" : 8726, \"SEVENTEEN_ALIGHT_NUM\" : 16084, \"SIXTEEN_ALIGHT_NUM\" : 13937, \"EIGHT_ALIGHT_NUM\" : 29922, \"FOURTEEN_RIDE_NUM\" : 11973, \"SIXTEEN_RIDE_NUM\" : 14984, \"TWENTY_ONE_RIDE_NUM\" : 8201, \"FIFTEEN_ALIGHT_NUM\" : 12719, \"TWELVE_RIDE_NUM\" : 11984, \"SEVENTEEN_RIDE_NUM\" : 19377, \"MIDNIGHT_RIDE_NUM\" : 1, \"EIGHT_RIDE_NUM\" : 21633 }, { \"FOUR_ALIGHT_NUM\" : 0, \"USE_MON\" : \"202106\", \"LINE_NUM\" : \"3호선\", \"FIFTEEN_RIDE_NUM\" : 9363, \"TWENTY_TWO_RIDE_NUM\" : 3488, \"WORK_DT\" : \"20210703\", \"FIVE_ALIGHT_NUM\" : 167, \"SUB_STA_NM\" : \"경찰병원\", \"FIVE_RIDE_NUM\" : 2424, \"EIGHTEEN_ALIGHT_NUM\" : 20331, \"FOURTEEN_ALIGHT_NUM\" : 7543, \"SEVEN_RIDE_NUM\" : 21952, \"NINETEEN_ALIGHT_NUM\" : 15703, \"TWO_ALIGHT_NUM\" : 0, \"TEN_RIDE_NUM\" : 9942, \"TEN_ALIGHT_NUM\" : 8352, \"TWENTY_ALIGHT_NUM\" : 9841, \"EIGHTEEN_RIDE_NUM\" : 20697, \"TWELVE_ALIGHT_NUM\" : 7223, \"TWENTY_THREE_RIDE_NUM\" : 472, \"NINE_ALIGHT_NUM\" : 13079, \"THIRTEEN_ALIGHT_NUM\" : 8588, \"NINE_RIDE_NUM\" : 13777, \"ONE_RIDE_NUM\" : 0, \"SIX_RIDE_NUM\" : 7266, \"THREE_RIDE_NUM\" : 0, \"TWENTY_TWO_ALIGHT_NUM\" : 8537, \"TWO_RIDE_NUM\" : 0, \"SEVEN_ALIGHT_NUM\" : 8480, \"THREE_ALIGHT_NUM\" : 0, \"ELEVEN_RIDE_NUM\" : 8944, \"ONE_ALIGHT_NUM\" : 0, \"NINETEEN_RIDE_NUM\" : 6583, \"MIDNIGHT_ALIGHT_NUM\" : 724, \"TWENTY_THREE_ALIGHT_NUM\" : 3716, \"FOUR_RIDE_NUM\" : 21, \"TWENTY_RIDE_NUM\" : 5121, \"THIRTEEN_RIDE_NUM\" : 8888, \"SIX_ALIGHT_NUM\" : 2898, \"ELEVEN_ALIGHT_NUM\" : 6430, \"TWENTY_ONE_ALIGHT_NUM\" : 7835, \"SEVENTEEN_ALIGHT_NUM\" : 12742, \"SIXTEEN_ALIGHT_NUM\" : 8802, \"EIGHT_ALIGHT_NUM\" : 30240, \"FOURTEEN_RIDE_NUM\" : 8833, \"SIXTEEN_RIDE_NUM\" : 9270, \"TWENTY_ONE_RIDE_NUM\" : 5042, \"FIFTEEN_ALIGHT_NUM\" : 8179, \"TWELVE_RIDE_NUM\" : 8218, \"SEVENTEEN_RIDE_NUM\" : 14572, \"MIDNIGHT_RIDE_NUM\" : 0, \"EIGHT_RIDE_NUM\" : 24585 }, { \"FOUR_ALIGHT_NUM\" : 0, \"USE_MON\" : \"202106\", \"LINE_NUM\" : \"3호선\", \"FIFTEEN_RIDE_NUM\" : 5621, \"TWENTY_TWO_RIDE_NUM\" : 2236, \"WORK_DT\" : \"20210703\", \"FIVE_ALIGHT_NUM\" : 5, \"SUB_STA_NM\" : \"오금\", \"FIVE_RIDE_NUM\" : 3856, \"EIGHTEEN_ALIGHT_NUM\" : 20015, \"FOURTEEN_ALIGHT_NUM\" : 5008, \"SEVEN_RIDE_NUM\" : 25306, \"NINETEEN_ALIGHT_NUM\" : 15212, \"TWO_ALIGHT_NUM\" : 0, \"TEN_RIDE_NUM\" : 8136, \"TEN_ALIGHT_NUM\" : 4318, \"TWENTY_ALIGHT_NUM\" : 9463, \"EIGHTEEN_RIDE_NUM\" : 11065, \"TWELVE_ALIGHT_NUM\" : 4864, \"TWENTY_THREE_RIDE_NUM\" : 399, \"NINE_ALIGHT_NUM\" : 5482, \"THIRTEEN_ALIGHT_NUM\" : 5415, \"NINE_RIDE_NUM\" : 14069, \"ONE_RIDE_NUM\" : 0, \"SIX_RIDE_NUM\" : 7728, \"THREE_RIDE_NUM\" : 0, \"TWENTY_TWO_ALIGHT_NUM\" : 10692, \"TWO_RIDE_NUM\" : 0, \"SEVEN_ALIGHT_NUM\" : 5494, \"THREE_ALIGHT_NUM\" : 0, \"ELEVEN_RIDE_NUM\" : 6763, \"ONE_ALIGHT_NUM\" : 0, \"NINETEEN_RIDE_NUM\" : 4663, \"MIDNIGHT_ALIGHT_NUM\" : 1085, \"TWENTY_THREE_ALIGHT_NUM\" : 4102, \"FOUR_RIDE_NUM\" : 5, \"TWENTY_RIDE_NUM\" : 3060, \"THIRTEEN_RIDE_NUM\" : 7090, \"SIX_ALIGHT_NUM\" : 2367, \"ELEVEN_ALIGHT_NUM\" : 3990, \"TWENTY_ONE_ALIGHT_NUM\" : 8387, \"SEVENTEEN_ALIGHT_NUM\" : 12301, \"SIXTEEN_ALIGHT_NUM\" : 8463, \"EIGHT_ALIGHT_NUM\" : 13070, \"FOURTEEN_RIDE_NUM\" : 5805, \"SIXTEEN_RIDE_NUM\" : 7343, \"TWENTY_ONE_RIDE_NUM\" : 2900, \"FIFTEEN_ALIGHT_NUM\" : 7291, \"TWELVE_RIDE_NUM\" : 7206, \"SEVENTEEN_RIDE_NUM\" : 9621, \"MIDNIGHT_RIDE_NUM\" : 1, \"EIGHT_RIDE_NUM\" : 28769 } ], \"RESULT\" : { \"MESSAGE\" : \"정상 처리되었습니다\", \"CODE\" : \"INFO-000\" }, \"list_total_count\" : 608 } }\n",
      "{ \"_id\" : ObjectId(\"61137bf8f5e6e92365141908\"), \"CardSubwayTime\" : { \"row\" : [ { \"FOUR_ALIGHT_NUM\" : 2, \"USE_MON\" : \"202106\", \"LINE_NUM\" : \"4호선\", \"FIFTEEN_RIDE_NUM\" : 41976, \"TWENTY_TWO_RIDE_NUM\" : 21941, \"WORK_DT\" : \"20210703\", \"FIVE_ALIGHT_NUM\" : 3189, \"SUB_STA_NM\" : \"수유(강북구청)\", \"FIVE_RIDE_NUM\" : 20175, \"EIGHTEEN_ALIGHT_NUM\" : 120945, \"FOURTEEN_ALIGHT_NUM\" : 38917, \"SEVEN_RIDE_NUM\" : 112544, \"NINETEEN_ALIGHT_NUM\" : 107258, \"TWO_ALIGHT_NUM\" : 0, \"TEN_RIDE_NUM\" : 49660, \"TEN_ALIGHT_NUM\" : 29079, \"TWENTY_ALIGHT_NUM\" : 61064, \"EIGHTEEN_RIDE_NUM\" : 57381, \"TWELVE_ALIGHT_NUM\" : 32699, \"TWENTY_THREE_RIDE_NUM\" : 5303, \"NINE_ALIGHT_NUM\" : 35887, \"THIRTEEN_ALIGHT_NUM\" : 36311, \"NINE_RIDE_NUM\" : 73327, \"ONE_RIDE_NUM\" : 0, \"SIX_RIDE_NUM\" : 46364, \"THREE_RIDE_NUM\" : 0, \"TWENTY_TWO_ALIGHT_NUM\" : 53867, \"TWO_RIDE_NUM\" : 0, \"SEVEN_ALIGHT_NUM\" : 20284, \"THREE_ALIGHT_NUM\" : 0, \"ELEVEN_RIDE_NUM\" : 44519, \"ONE_ALIGHT_NUM\" : 2, \"NINETEEN_RIDE_NUM\" : 32944, \"MIDNIGHT_ALIGHT_NUM\" : 93, \"TWENTY_THREE_ALIGHT_NUM\" : 30549, \"FOUR_RIDE_NUM\" : 79, \"TWENTY_RIDE_NUM\" : 25718, \"THIRTEEN_RIDE_NUM\" : 44637, \"SIX_ALIGHT_NUM\" : 12476, \"ELEVEN_ALIGHT_NUM\" : 29079, \"TWENTY_ONE_ALIGHT_NUM\" : 53950, \"SEVENTEEN_ALIGHT_NUM\" : 75523, \"SIXTEEN_ALIGHT_NUM\" : 59013, \"EIGHT_ALIGHT_NUM\" : 55754, \"FOURTEEN_RIDE_NUM\" : 41859, \"SIXTEEN_RIDE_NUM\" : 47604, \"TWENTY_ONE_RIDE_NUM\" : 24877, \"FIFTEEN_ALIGHT_NUM\" : 47323, \"TWELVE_RIDE_NUM\" : 45599, \"SEVENTEEN_RIDE_NUM\" : 52766, \"MIDNIGHT_RIDE_NUM\" : 4, \"EIGHT_RIDE_NUM\" : 125803 }, { \"FOUR_ALIGHT_NUM\" : 7, \"USE_MON\" : \"202106\", \"LINE_NUM\" : \"4호선\", \"FIFTEEN_RIDE_NUM\" : 19402, \"TWENTY_TWO_RIDE_NUM\" : 6154, \"WORK_DT\" : \"20210703\", \"FIVE_ALIGHT_NUM\" : 1378, \"SUB_STA_NM\" : \"미아(서울사이버대학)\", \"FIVE_RIDE_NUM\" : 10755, \"EIGHTEEN_ALIGHT_NUM\" : 46614, \"FOURTEEN_ALIGHT_NUM\" : 17242, \"SEVEN_RIDE_NUM\" : 48241, \"NINETEEN_ALIGHT_NUM\" : 38876, \"TWO_ALIGHT_NUM\" : 0, \"TEN_RIDE_NUM\" : 22139, \"TEN_ALIGHT_NUM\" : 14404, \"TWENTY_ALIGHT_NUM\" : 23111, \"EIGHTEEN_RIDE_NUM\" : 25592, \"TWELVE_ALIGHT_NUM\" : 14676, \"TWENTY_THREE_RIDE_NUM\" : 1574, \"NINE_ALIGHT_NUM\" : 16950, \"THIRTEEN_ALIGHT_NUM\" : 16254, \"NINE_RIDE_NUM\" : 31893, \"ONE_RIDE_NUM\" : 0, \"SIX_RIDE_NUM\" : 20781, \"THREE_RIDE_NUM\" : 0, \"TWENTY_TWO_ALIGHT_NUM\" : 20835, \"TWO_RIDE_NUM\" : 0, \"SEVEN_ALIGHT_NUM\" : 13112, \"THREE_ALIGHT_NUM\" : 0, \"ELEVEN_RIDE_NUM\" : 19388, \"ONE_ALIGHT_NUM\" : 0, \"NINETEEN_RIDE_NUM\" : 14975, \"MIDNIGHT_ALIGHT_NUM\" : 2, \"TWENTY_THREE_ALIGHT_NUM\" : 11807, \"FOUR_RIDE_NUM\" : 53, \"TWENTY_RIDE_NUM\" : 9590, \"THIRTEEN_RIDE_NUM\" : 19847, \"SIX_ALIGHT_NUM\" : 4893, \"ELEVEN_ALIGHT_NUM\" : 14347, \"TWENTY_ONE_ALIGHT_NUM\" : 21271, \"SEVENTEEN_ALIGHT_NUM\" : 30492, \"SIXTEEN_ALIGHT_NUM\" : 25552, \"EIGHT_ALIGHT_NUM\" : 30129, \"FOURTEEN_RIDE_NUM\" : 18722, \"SIXTEEN_RIDE_NUM\" : 21774, \"TWENTY_ONE_RIDE_NUM\" : 8085, \"FIFTEEN_ALIGHT_NUM\" : 21942, \"TWELVE_RIDE_NUM\" : 20675, \"SEVENTEEN_RIDE_NUM\" : 22559, \"MIDNIGHT_RIDE_NUM\" : 4, \"EIGHT_RIDE_NUM\" : 54460 }, { \"FOUR_ALIGHT_NUM\" : 0, \"USE_MON\" : \"202106\", \"LINE_NUM\" : \"4호선\", \"FIFTEEN_RIDE_NUM\" : 37824, \"TWENTY_TWO_RIDE_NUM\" : 14983, \"WORK_DT\" : \"20210703\", \"FIVE_ALIGHT_NUM\" : 2083, \"SUB_STA_NM\" : \"미아사거리\", \"FIVE_RIDE_NUM\" : 15244, \"EIGHTEEN_ALIGHT_NUM\" : 102007, \"FOURTEEN_ALIGHT_NUM\" : 34179, \"SEVEN_RIDE_NUM\" : 94224, \"NINETEEN_ALIGHT_NUM\" : 80500, \"TWO_ALIGHT_NUM\" : 0, \"TEN_RIDE_NUM\" : 39323, \"TEN_ALIGHT_NUM\" : 27185, \"TWENTY_ALIGHT_NUM\" : 45549, \"EIGHTEEN_RIDE_NUM\" : 41750, \"TWELVE_ALIGHT_NUM\" : 29372, \"TWENTY_THREE_RIDE_NUM\" : 3324, \"NINE_ALIGHT_NUM\" : 31052, \"THIRTEEN_ALIGHT_NUM\" : 31665, \"NINE_RIDE_NUM\" : 57993, \"ONE_RIDE_NUM\" : 0, \"SIX_RIDE_NUM\" : 36872, \"THREE_RIDE_NUM\" : 0, \"TWENTY_TWO_ALIGHT_NUM\" : 38376, \"TWO_RIDE_NUM\" : 0, \"SEVEN_ALIGHT_NUM\" : 19108, \"THREE_ALIGHT_NUM\" : 0, \"ELEVEN_RIDE_NUM\" : 35414, \"ONE_ALIGHT_NUM\" : 0, \"NINETEEN_RIDE_NUM\" : 28996, \"MIDNIGHT_ALIGHT_NUM\" : 0, \"TWENTY_THREE_ALIGHT_NUM\" : 19289, \"FOUR_RIDE_NUM\" : 57, \"TWENTY_RIDE_NUM\" : 28234, \"THIRTEEN_RIDE_NUM\" : 35874, \"SIX_ALIGHT_NUM\" : 8479, \"ELEVEN_ALIGHT_NUM\" : 26908, \"TWENTY_ONE_ALIGHT_NUM\" : 39700, \"SEVENTEEN_ALIGHT_NUM\" : 63740, \"SIXTEEN_ALIGHT_NUM\" : 48636, \"EIGHT_ALIGHT_NUM\" : 33524, \"FOURTEEN_RIDE_NUM\" : 34624, \"SIXTEEN_RIDE_NUM\" : 43090, \"TWENTY_ONE_RIDE_NUM\" : 18485, \"FIFTEEN_ALIGHT_NUM\" : 42632, \"TWELVE_RIDE_NUM\" : 36045, \"SEVENTEEN_RIDE_NUM\" : 40528, \"MIDNIGHT_RIDE_NUM\" : 1, \"EIGHT_RIDE_NUM\" : 105396 }, { \"FOUR_ALIGHT_NUM\" : 1, \"USE_MON\" : \"202106\", \"LINE_NUM\" : \"4호선\", \"FIFTEEN_RIDE_NUM\" : 22664, \"TWENTY_TWO_RIDE_NUM\" : 10709, \"WORK_DT\" : \"20210703\", \"FIVE_ALIGHT_NUM\" : 1984, \"SUB_STA_NM\" : \"길음\", \"FIVE_RIDE_NUM\" : 9665, \"EIGHTEEN_ALIGHT_NUM\" : 74042, \"FOURTEEN_ALIGHT_NUM\" : 21353, \"SEVEN_RIDE_NUM\" : 81216, \"NINETEEN_ALIGHT_NUM\" : 59578, \"TWO_ALIGHT_NUM\" : 0, \"TEN_RIDE_NUM\" : 28142, \"TEN_ALIGHT_NUM\" : 15982, \"TWENTY_ALIGHT_NUM\" : 34070, \"EIGHTEEN_RIDE_NUM\" : 27634, \"TWELVE_ALIGHT_NUM\" : 18924, \"TWENTY_THREE_RIDE_NUM\" : 2448, \"NINE_ALIGHT_NUM\" : 19353, \"THIRTEEN_ALIGHT_NUM\" : 20889, \"NINE_RIDE_NUM\" : 44040, \"ONE_RIDE_NUM\" : 0, \"SIX_RIDE_NUM\" : 29645, \"THREE_RIDE_NUM\" : 0, \"TWENTY_TWO_ALIGHT_NUM\" : 34845, \"TWO_RIDE_NUM\" : 0, \"SEVEN_ALIGHT_NUM\" : 12879, \"THREE_ALIGHT_NUM\" : 0, \"ELEVEN_RIDE_NUM\" : 23774, \"ONE_ALIGHT_NUM\" : 0, \"NINETEEN_RIDE_NUM\" : 16399, \"MIDNIGHT_ALIGHT_NUM\" : 0, \"TWENTY_THREE_ALIGHT_NUM\" : 15214, \"FOUR_RIDE_NUM\" : 10, \"TWENTY_RIDE_NUM\" : 12658, \"THIRTEEN_RIDE_NUM\" : 24360, \"SIX_ALIGHT_NUM\" : 8330, \"ELEVEN_ALIGHT_NUM\" : 16642, \"TWENTY_ONE_ALIGHT_NUM\" : 30987, \"SEVENTEEN_ALIGHT_NUM\" : 44325, \"SIXTEEN_ALIGHT_NUM\" : 32097, \"EIGHT_ALIGHT_NUM\" : 27010, \"FOURTEEN_RIDE_NUM\" : 22141, \"SIXTEEN_RIDE_NUM\" : 26027, \"TWENTY_ONE_RIDE_NUM\" : 10197, \"FIFTEEN_ALIGHT_NUM\" : 25637, \"TWELVE_RIDE_NUM\" : 25625, \"SEVENTEEN_RIDE_NUM\" : 29720, \"MIDNIGHT_RIDE_NUM\" : 0, \"EIGHT_RIDE_NUM\" : 85758 }, { \"FOUR_ALIGHT_NUM\" : 1, \"USE_MON\" : \"202106\", \"LINE_NUM\" : \"4호선\", \"FIFTEEN_RIDE_NUM\" : 28699, \"TWENTY_TWO_RIDE_NUM\" : 25813, \"WORK_DT\" : \"20210703\", \"FIVE_ALIGHT_NUM\" : 1617, \"SUB_STA_NM\" : \"성신여대입구(돈암)\", \"FIVE_RIDE_NUM\" : 5823, \"EIGHTEEN_ALIGHT_NUM\" : 63742, \"FOURTEEN_ALIGHT_NUM\" : 25368, \"SEVEN_RIDE_NUM\" : 45489, \"NINETEEN_ALIGHT_NUM\" : 48341, \"TWO_ALIGHT_NUM\" : 0, \"TEN_RIDE_NUM\" : 24720, \"TEN_ALIGHT_NUM\" : 20583, \"TWENTY_ALIGHT_NUM\" : 27585, \"EIGHTEEN_RIDE_NUM\" : 42049, \"TWELVE_ALIGHT_NUM\" : 23291, \"TWENTY_THREE_RIDE_NUM\" : 4683, \"NINE_ALIGHT_NUM\" : 24931, \"THIRTEEN_ALIGHT_NUM\" : 25506, \"NINE_RIDE_NUM\" : 33165, \"ONE_RIDE_NUM\" : 0, \"SIX_RIDE_NUM\" : 17876, \"THREE_RIDE_NUM\" : 0, \"TWENTY_TWO_ALIGHT_NUM\" : 28461, \"TWO_RIDE_NUM\" : 0, \"SEVEN_ALIGHT_NUM\" : 16221, \"THREE_ALIGHT_NUM\" : 0, \"ELEVEN_RIDE_NUM\" : 23410, \"ONE_ALIGHT_NUM\" : 0, \"NINETEEN_RIDE_NUM\" : 26151, \"MIDNIGHT_ALIGHT_NUM\" : 5, \"TWENTY_THREE_ALIGHT_NUM\" : 13281, \"FOUR_RIDE_NUM\" : 35, \"TWENTY_RIDE_NUM\" : 23329, \"THIRTEEN_RIDE_NUM\" : 26962, \"SIX_ALIGHT_NUM\" : 6147, \"ELEVEN_ALIGHT_NUM\" : 20602, \"TWENTY_ONE_ALIGHT_NUM\" : 25153, \"SEVENTEEN_ALIGHT_NUM\" : 43039, \"SIXTEEN_ALIGHT_NUM\" : 32319, \"EIGHT_ALIGHT_NUM\" : 32901, \"FOURTEEN_RIDE_NUM\" : 26602, \"SIXTEEN_RIDE_NUM\" : 33246, \"TWENTY_ONE_RIDE_NUM\" : 27719, \"FIFTEEN_ALIGHT_NUM\" : 27910, \"TWELVE_RIDE_NUM\" : 26635, \"SEVENTEEN_RIDE_NUM\" : 37061, \"MIDNIGHT_RIDE_NUM\" : 1, \"EIGHT_RIDE_NUM\" : 55001 } ], \"RESULT\" : { \"MESSAGE\" : \"정상 처리되었습니다\", \"CODE\" : \"INFO-000\" }, \"list_total_count\" : 608 } }\n",
      "Type \"it\" for more\n",
      "{ \"_id\" : ObjectId(\"61137bf7f5e6e923651418f5\"), \"CardSubwayTime\" : { \"row\" : [ { \"FOUR_ALIGHT_NUM\" : 17, \"USE_MON\" : \"202106\", \"LINE_NUM\" : \"1호선\", \"FIFTEEN_RIDE_NUM\" : 65767, \"TWENTY_TWO_RIDE_NUM\" : 44921, \"WORK_DT\" : \"20210703\", \"FIVE_ALIGHT_NUM\" : 6400, \"SUB_STA_NM\" : \"서울역\", \"FIVE_RIDE_NUM\" : 9008, \"EIGHTEEN_ALIGHT_NUM\" : 73978, \"FOURTEEN_ALIGHT_NUM\" : 49094, \"SEVEN_RIDE_NUM\" : 37253, \"NINETEEN_ALIGHT_NUM\" : 46769, \"TWO_ALIGHT_NUM\" : 0, \"TEN_RIDE_NUM\" : 42611, \"TEN_ALIGHT_NUM\" : 57710, \"TWENTY_ALIGHT_NUM\" : 30743, \"EIGHTEEN_RIDE_NUM\" : 184907, \"TWELVE_ALIGHT_NUM\" : 53317, \"TWENTY_THREE_RIDE_NUM\" : 11581, \"NINE_ALIGHT_NUM\" : 118679, \"THIRTEEN_ALIGHT_NUM\" : 53687, \"NINE_RIDE_NUM\" : 44619, \"ONE_RIDE_NUM\" : 0, \"SIX_RIDE_NUM\" : 12474, \"THREE_RIDE_NUM\" : 0, \"TWENTY_TWO_ALIGHT_NUM\" : 22829, \"TWO_RIDE_NUM\" : 0, \"SEVEN_ALIGHT_NUM\" : 91875, \"THREE_ALIGHT_NUM\" : 0, \"ELEVEN_RIDE_NUM\" : 49533, \"ONE_ALIGHT_NUM\" : 1, \"NINETEEN_RIDE_NUM\" : 87575, \"MIDNIGHT_ALIGHT_NUM\" : 637, \"TWENTY_THREE_ALIGHT_NUM\" : 8024, \"FOUR_RIDE_NUM\" : 654, \"TWENTY_RIDE_NUM\" : 59961, \"THIRTEEN_RIDE_NUM\" : 61171, \"SIX_ALIGHT_NUM\" : 37203, \"ELEVEN_ALIGHT_NUM\" : 50003, \"TWENTY_ONE_ALIGHT_NUM\" : 27435, \"SEVENTEEN_ALIGHT_NUM\" : 64693, \"SIXTEEN_ALIGHT_NUM\" : 53969, \"EIGHT_ALIGHT_NUM\" : 187805, \"FOURTEEN_RIDE_NUM\" : 53310, \"SIXTEEN_RIDE_NUM\" : 76249, \"TWENTY_ONE_RIDE_NUM\" : 65078, \"FIFTEEN_ALIGHT_NUM\" : 52788, \"TWELVE_RIDE_NUM\" : 59357, \"SEVENTEEN_RIDE_NUM\" : 122928, \"MIDNIGHT_RIDE_NUM\" : 30, \"EIGHT_RIDE_NUM\" : 59876 }, { \"FOUR_ALIGHT_NUM\" : 1, \"USE_MON\" : \"202106\", \"LINE_NUM\" : \"1호선\", \"FIFTEEN_RIDE_NUM\" : 28360, \"TWENTY_TWO_RIDE_NUM\" : 3405, \"WORK_DT\" : \"20210703\", \"FIVE_ALIGHT_NUM\" : 1100, \"SUB_STA_NM\" : \"동묘앞\", \"FIVE_RIDE_NUM\" : 3218, \"EIGHTEEN_ALIGHT_NUM\" : 10098, \"FOURTEEN_ALIGHT_NUM\" : 26643, \"SEVEN_RIDE_NUM\" : 5896, \"NINETEEN_ALIGHT_NUM\" : 6510, \"TWO_ALIGHT_NUM\" : 0, \"TEN_RIDE_NUM\" : 9687, \"TEN_ALIGHT_NUM\" : 19292, \"TWENTY_ALIGHT_NUM\" : 4409, \"EIGHTEEN_RIDE_NUM\" : 23606, \"TWELVE_ALIGHT_NUM\" : 26186, \"TWENTY_THREE_RIDE_NUM\" : 1035, \"NINE_ALIGHT_NUM\" : 17333, \"THIRTEEN_ALIGHT_NUM\" : 28141, \"NINE_RIDE_NUM\" : 8022, \"ONE_RIDE_NUM\" : 0, \"SIX_RIDE_NUM\" : 3422, \"THREE_RIDE_NUM\" : 0, \"TWENTY_TWO_ALIGHT_NUM\" : 5689, \"TWO_RIDE_NUM\" : 0, \"SEVEN_ALIGHT_NUM\" : 9703, \"THREE_ALIGHT_NUM\" : 0, \"ELEVEN_RIDE_NUM\" : 14091, \"ONE_ALIGHT_NUM\" : 0, \"NINETEEN_RIDE_NUM\" : 11006, \"MIDNIGHT_ALIGHT_NUM\" : 1348, \"TWENTY_THREE_ALIGHT_NUM\" : 2589, \"FOUR_RIDE_NUM\" : 51, \"TWENTY_RIDE_NUM\" : 6119, \"THIRTEEN_RIDE_NUM\" : 24776, \"SIX_ALIGHT_NUM\" : 4802, \"ELEVEN_ALIGHT_NUM\" : 24305, \"TWENTY_ONE_ALIGHT_NUM\" : 4265, \"SEVENTEEN_ALIGHT_NUM\" : 13759, \"SIXTEEN_ALIGHT_NUM\" : 17744, \"EIGHT_ALIGHT_NUM\" : 24921, \"FOURTEEN_RIDE_NUM\" : 27144, \"SIXTEEN_RIDE_NUM\" : 31119, \"TWENTY_ONE_RIDE_NUM\" : 5485, \"FIFTEEN_ALIGHT_NUM\" : 23213, \"TWELVE_RIDE_NUM\" : 20089, \"SEVENTEEN_RIDE_NUM\" : 27036, \"MIDNIGHT_RIDE_NUM\" : 4, \"EIGHT_RIDE_NUM\" : 9194 }, { \"FOUR_ALIGHT_NUM\" : 0, \"USE_MON\" : \"202106\", \"LINE_NUM\" : \"1호선\", \"FIFTEEN_RIDE_NUM\" : 30469, \"TWENTY_TWO_RIDE_NUM\" : 28501, \"WORK_DT\" : \"20210703\", \"FIVE_ALIGHT_NUM\" : 4340, \"SUB_STA_NM\" : \"시청\", \"FIVE_RIDE_NUM\" : 1881, \"EIGHTEEN_ALIGHT_NUM\" : 17805, \"FOURTEEN_ALIGHT_NUM\" : 20032, \"SEVEN_RIDE_NUM\" : 6280, \"NINETEEN_ALIGHT_NUM\" : 8139, \"TWO_ALIGHT_NUM\" : 0, \"TEN_RIDE_NUM\" : 9284, \"TEN_ALIGHT_NUM\" : 29250, \"TWENTY_ALIGHT_NUM\" : 4455, \"EIGHTEEN_RIDE_NUM\" : 135842, \"TWELVE_ALIGHT_NUM\" : 25037, \"TWENTY_THREE_RIDE_NUM\" : 4390, \"NINE_ALIGHT_NUM\" : 72853, \"THIRTEEN_ALIGHT_NUM\" : 24492, \"NINE_RIDE_NUM\" : 8117, \"ONE_RIDE_NUM\" : 0, \"SIX_RIDE_NUM\" : 2948, \"THREE_RIDE_NUM\" : 0, \"TWENTY_TWO_ALIGHT_NUM\" : 3686, \"TWO_RIDE_NUM\" : 0, \"SEVEN_ALIGHT_NUM\" : 62346, \"THREE_ALIGHT_NUM\" : 0, \"ELEVEN_RIDE_NUM\" : 14030, \"ONE_ALIGHT_NUM\" : 0, \"NINETEEN_RIDE_NUM\" : 46850, \"MIDNIGHT_ALIGHT_NUM\" : 92, \"TWENTY_THREE_ALIGHT_NUM\" : 1485, \"FOUR_RIDE_NUM\" : 37, \"TWENTY_RIDE_NUM\" : 38173, \"THIRTEEN_RIDE_NUM\" : 18849, \"SIX_ALIGHT_NUM\" : 21443, \"ELEVEN_ALIGHT_NUM\" : 27989, \"TWENTY_ONE_ALIGHT_NUM\" : 4234, \"SEVENTEEN_ALIGHT_NUM\" : 16611, \"SIXTEEN_ALIGHT_NUM\" : 15593, \"EIGHT_ALIGHT_NUM\" : 167991, \"FOURTEEN_RIDE_NUM\" : 23331, \"SIXTEEN_RIDE_NUM\" : 36116, \"TWENTY_ONE_RIDE_NUM\" : 39048, \"FIFTEEN_ALIGHT_NUM\" : 17869, \"TWELVE_RIDE_NUM\" : 15295, \"SEVENTEEN_RIDE_NUM\" : 66595, \"MIDNIGHT_RIDE_NUM\" : 3, \"EIGHT_RIDE_NUM\" : 7740 }, { \"FOUR_ALIGHT_NUM\" : 1, \"USE_MON\" : \"202106\", \"LINE_NUM\" : \"1호선\", \"FIFTEEN_RIDE_NUM\" : 49745, \"TWENTY_TWO_RIDE_NUM\" : 63653, \"WORK_DT\" : \"20210703\", \"FIVE_ALIGHT_NUM\" : 4354, \"SUB_STA_NM\" : \"종각\", \"FIVE_RIDE_NUM\" : 2314, \"EIGHTEEN_ALIGHT_NUM\" : 39621, \"FOURTEEN_ALIGHT_NUM\" : 33173, \"SEVEN_RIDE_NUM\" : 5479, \"NINETEEN_ALIGHT_NUM\" : 19163, \"TWO_ALIGHT_NUM\" : 0, \"TEN_RIDE_NUM\" : 14727, \"TEN_ALIGHT_NUM\" : 50878, \"TWENTY_ALIGHT_NUM\" : 7386, \"EIGHTEEN_RIDE_NUM\" : 192552, \"TWELVE_ALIGHT_NUM\" : 39830, \"TWENTY_THREE_RIDE_NUM\" : 8153, \"NINE_ALIGHT_NUM\" : 131420, \"THIRTEEN_ALIGHT_NUM\" : 40864, \"NINE_RIDE_NUM\" : 10625, \"ONE_RIDE_NUM\" : 0, \"SIX_RIDE_NUM\" : 2868, \"THREE_RIDE_NUM\" : 0, \"TWENTY_TWO_ALIGHT_NUM\" : 3763, \"TWO_RIDE_NUM\" : 0, \"SEVEN_ALIGHT_NUM\" : 96712, \"THREE_ALIGHT_NUM\" : 0, \"ELEVEN_RIDE_NUM\" : 23057, \"ONE_ALIGHT_NUM\" : 0, \"NINETEEN_RIDE_NUM\" : 78735, \"MIDNIGHT_ALIGHT_NUM\" : 135, \"TWENTY_THREE_ALIGHT_NUM\" : 1675, \"FOUR_RIDE_NUM\" : 127, \"TWENTY_RIDE_NUM\" : 64989, \"THIRTEEN_RIDE_NUM\" : 34538, \"SIX_ALIGHT_NUM\" : 23755, \"ELEVEN_ALIGHT_NUM\" : 44506, \"TWENTY_ONE_ALIGHT_NUM\" : 4790, \"SEVENTEEN_ALIGHT_NUM\" : 33365, \"SIXTEEN_ALIGHT_NUM\" : 29692, \"EIGHT_ALIGHT_NUM\" : 223459, \"FOURTEEN_RIDE_NUM\" : 40378, \"SIXTEEN_RIDE_NUM\" : 58664, \"TWENTY_ONE_RIDE_NUM\" : 81179, \"FIFTEEN_ALIGHT_NUM\" : 29610, \"TWELVE_RIDE_NUM\" : 27707, \"SEVENTEEN_RIDE_NUM\" : 114985, \"MIDNIGHT_RIDE_NUM\" : 21, \"EIGHT_RIDE_NUM\" : 8419 }, { \"FOUR_ALIGHT_NUM\" : 24, \"USE_MON\" : \"202106\", \"LINE_NUM\" : \"1호선\", \"FIFTEEN_RIDE_NUM\" : 53071, \"TWENTY_TWO_RIDE_NUM\" : 47756, \"WORK_DT\" : \"20210703\", \"FIVE_ALIGHT_NUM\" : 3388, \"SUB_STA_NM\" : \"종로3가\", \"FIVE_RIDE_NUM\" : 3227, \"EIGHTEEN_ALIGHT_NUM\" : 33315, \"FOURTEEN_ALIGHT_NUM\" : 46621, \"SEVEN_RIDE_NUM\" : 5108, \"NINETEEN_ALIGHT_NUM\" : 16571, \"TWO_ALIGHT_NUM\" : 0, \"TEN_RIDE_NUM\" : 18502, \"TEN_ALIGHT_NUM\" : 57312, \"TWENTY_ALIGHT_NUM\" : 6332, \"EIGHTEEN_RIDE_NUM\" : 94683, \"TWELVE_ALIGHT_NUM\" : 53678, \"TWENTY_THREE_RIDE_NUM\" : 6768, \"NINE_ALIGHT_NUM\" : 73336, \"THIRTEEN_ALIGHT_NUM\" : 51189, \"NINE_RIDE_NUM\" : 11673, \"ONE_RIDE_NUM\" : 0, \"SIX_RIDE_NUM\" : 3069, \"THREE_RIDE_NUM\" : 0, \"TWENTY_TWO_ALIGHT_NUM\" : 4591, \"TWO_RIDE_NUM\" : 0, \"SEVEN_ALIGHT_NUM\" : 25462, \"THREE_ALIGHT_NUM\" : 0, \"ELEVEN_RIDE_NUM\" : 29882, \"ONE_ALIGHT_NUM\" : 0, \"NINETEEN_RIDE_NUM\" : 55993, \"MIDNIGHT_ALIGHT_NUM\" : 413, \"TWENTY_THREE_ALIGHT_NUM\" : 2318, \"FOUR_RIDE_NUM\" : 191, \"TWENTY_RIDE_NUM\" : 41534, \"THIRTEEN_RIDE_NUM\" : 44050, \"SIX_ALIGHT_NUM\" : 13080, \"ELEVEN_ALIGHT_NUM\" : 55725, \"TWENTY_ONE_ALIGHT_NUM\" : 4938, \"SEVENTEEN_ALIGHT_NUM\" : 31234, \"SIXTEEN_ALIGHT_NUM\" : 34679, \"EIGHT_ALIGHT_NUM\" : 70639, \"FOURTEEN_RIDE_NUM\" : 47626, \"SIXTEEN_RIDE_NUM\" : 56955, \"TWENTY_ONE_RIDE_NUM\" : 51588, \"FIFTEEN_ALIGHT_NUM\" : 40250, \"TWELVE_RIDE_NUM\" : 37009, \"SEVENTEEN_RIDE_NUM\" : 68711, \"MIDNIGHT_RIDE_NUM\" : 25, \"EIGHT_RIDE_NUM\" : 7412 } ], \"RESULT\" : { \"MESSAGE\" : \"정상 처리되었습니다\", \"CODE\" : \"INFO-000\" }, \"list_total_count\" : 608 } }\n",
      "{ \"_id\" : ObjectId(\"61138535f5e6e925e93be22a\"), \"CardSubwayTime\" : { \"row\" : [ { \"FOUR_ALIGHT_NUM\" : 17, \"USE_MON\" : \"202106\", \"LINE_NUM\" : \"1호선\", \"FIFTEEN_RIDE_NUM\" : 65767, \"TWENTY_TWO_RIDE_NUM\" : 44921, \"WORK_DT\" : \"20210703\", \"FIVE_ALIGHT_NUM\" : 6400, \"SUB_STA_NM\" : \"서울역\", \"FIVE_RIDE_NUM\" : 9008, \"EIGHTEEN_ALIGHT_NUM\" : 73978, \"FOURTEEN_ALIGHT_NUM\" : 49094, \"SEVEN_RIDE_NUM\" : 37253, \"NINETEEN_ALIGHT_NUM\" : 46769, \"TWO_ALIGHT_NUM\" : 0, \"TEN_RIDE_NUM\" : 42611, \"TEN_ALIGHT_NUM\" : 57710, \"TWENTY_ALIGHT_NUM\" : 30743, \"EIGHTEEN_RIDE_NUM\" : 184907, \"TWELVE_ALIGHT_NUM\" : 53317, \"TWENTY_THREE_RIDE_NUM\" : 11581, \"NINE_ALIGHT_NUM\" : 118679, \"THIRTEEN_ALIGHT_NUM\" : 53687, \"NINE_RIDE_NUM\" : 44619, \"ONE_RIDE_NUM\" : 0, \"SIX_RIDE_NUM\" : 12474, \"THREE_RIDE_NUM\" : 0, \"TWENTY_TWO_ALIGHT_NUM\" : 22829, \"TWO_RIDE_NUM\" : 0, \"SEVEN_ALIGHT_NUM\" : 91875, \"THREE_ALIGHT_NUM\" : 0, \"ELEVEN_RIDE_NUM\" : 49533, \"ONE_ALIGHT_NUM\" : 1, \"NINETEEN_RIDE_NUM\" : 87575, \"MIDNIGHT_ALIGHT_NUM\" : 637, \"TWENTY_THREE_ALIGHT_NUM\" : 8024, \"FOUR_RIDE_NUM\" : 654, \"TWENTY_RIDE_NUM\" : 59961, \"THIRTEEN_RIDE_NUM\" : 61171, \"SIX_ALIGHT_NUM\" : 37203, \"ELEVEN_ALIGHT_NUM\" : 50003, \"TWENTY_ONE_ALIGHT_NUM\" : 27435, \"SEVENTEEN_ALIGHT_NUM\" : 64693, \"SIXTEEN_ALIGHT_NUM\" : 53969, \"EIGHT_ALIGHT_NUM\" : 187805, \"FOURTEEN_RIDE_NUM\" : 53310, \"SIXTEEN_RIDE_NUM\" : 76249, \"TWENTY_ONE_RIDE_NUM\" : 65078, \"FIFTEEN_ALIGHT_NUM\" : 52788, \"TWELVE_RIDE_NUM\" : 59357, \"SEVENTEEN_RIDE_NUM\" : 122928, \"MIDNIGHT_RIDE_NUM\" : 30, \"EIGHT_RIDE_NUM\" : 59876 }, { \"FOUR_ALIGHT_NUM\" : 1, \"USE_MON\" : \"202106\", \"LINE_NUM\" : \"1호선\", \"FIFTEEN_RIDE_NUM\" : 28360, \"TWENTY_TWO_RIDE_NUM\" : 3405, \"WORK_DT\" : \"20210703\", \"FIVE_ALIGHT_NUM\" : 1100, \"SUB_STA_NM\" : \"동묘앞\", \"FIVE_RIDE_NUM\" : 3218, \"EIGHTEEN_ALIGHT_NUM\" : 10098, \"FOURTEEN_ALIGHT_NUM\" : 26643, \"SEVEN_RIDE_NUM\" : 5896, \"NINETEEN_ALIGHT_NUM\" : 6510, \"TWO_ALIGHT_NUM\" : 0, \"TEN_RIDE_NUM\" : 9687, \"TEN_ALIGHT_NUM\" : 19292, \"TWENTY_ALIGHT_NUM\" : 4409, \"EIGHTEEN_RIDE_NUM\" : 23606, \"TWELVE_ALIGHT_NUM\" : 26186, \"TWENTY_THREE_RIDE_NUM\" : 1035, \"NINE_ALIGHT_NUM\" : 17333, \"THIRTEEN_ALIGHT_NUM\" : 28141, \"NINE_RIDE_NUM\" : 8022, \"ONE_RIDE_NUM\" : 0, \"SIX_RIDE_NUM\" : 3422, \"THREE_RIDE_NUM\" : 0, \"TWENTY_TWO_ALIGHT_NUM\" : 5689, \"TWO_RIDE_NUM\" : 0, \"SEVEN_ALIGHT_NUM\" : 9703, \"THREE_ALIGHT_NUM\" : 0, \"ELEVEN_RIDE_NUM\" : 14091, \"ONE_ALIGHT_NUM\" : 0, \"NINETEEN_RIDE_NUM\" : 11006, \"MIDNIGHT_ALIGHT_NUM\" : 1348, \"TWENTY_THREE_ALIGHT_NUM\" : 2589, \"FOUR_RIDE_NUM\" : 51, \"TWENTY_RIDE_NUM\" : 6119, \"THIRTEEN_RIDE_NUM\" : 24776, \"SIX_ALIGHT_NUM\" : 4802, \"ELEVEN_ALIGHT_NUM\" : 24305, \"TWENTY_ONE_ALIGHT_NUM\" : 4265, \"SEVENTEEN_ALIGHT_NUM\" : 13759, \"SIXTEEN_ALIGHT_NUM\" : 17744, \"EIGHT_ALIGHT_NUM\" : 24921, \"FOURTEEN_RIDE_NUM\" : 27144, \"SIXTEEN_RIDE_NUM\" : 31119, \"TWENTY_ONE_RIDE_NUM\" : 5485, \"FIFTEEN_ALIGHT_NUM\" : 23213, \"TWELVE_RIDE_NUM\" : 20089, \"SEVENTEEN_RIDE_NUM\" : 27036, \"MIDNIGHT_RIDE_NUM\" : 4, \"EIGHT_RIDE_NUM\" : 9194 }, { \"FOUR_ALIGHT_NUM\" : 0, \"USE_MON\" : \"202106\", \"LINE_NUM\" : \"1호선\", \"FIFTEEN_RIDE_NUM\" : 30469, \"TWENTY_TWO_RIDE_NUM\" : 28501, \"WORK_DT\" : \"20210703\", \"FIVE_ALIGHT_NUM\" : 4340, \"SUB_STA_NM\" : \"시청\", \"FIVE_RIDE_NUM\" : 1881, \"EIGHTEEN_ALIGHT_NUM\" : 17805, \"FOURTEEN_ALIGHT_NUM\" : 20032, \"SEVEN_RIDE_NUM\" : 6280, \"NINETEEN_ALIGHT_NUM\" : 8139, \"TWO_ALIGHT_NUM\" : 0, \"TEN_RIDE_NUM\" : 9284, \"TEN_ALIGHT_NUM\" : 29250, \"TWENTY_ALIGHT_NUM\" : 4455, \"EIGHTEEN_RIDE_NUM\" : 135842, \"TWELVE_ALIGHT_NUM\" : 25037, \"TWENTY_THREE_RIDE_NUM\" : 4390, \"NINE_ALIGHT_NUM\" : 72853, \"THIRTEEN_ALIGHT_NUM\" : 24492, \"NINE_RIDE_NUM\" : 8117, \"ONE_RIDE_NUM\" : 0, \"SIX_RIDE_NUM\" : 2948, \"THREE_RIDE_NUM\" : 0, \"TWENTY_TWO_ALIGHT_NUM\" : 3686, \"TWO_RIDE_NUM\" : 0, \"SEVEN_ALIGHT_NUM\" : 62346, \"THREE_ALIGHT_NUM\" : 0, \"ELEVEN_RIDE_NUM\" : 14030, \"ONE_ALIGHT_NUM\" : 0, \"NINETEEN_RIDE_NUM\" : 46850, \"MIDNIGHT_ALIGHT_NUM\" : 92, \"TWENTY_THREE_ALIGHT_NUM\" : 1485, \"FOUR_RIDE_NUM\" : 37, \"TWENTY_RIDE_NUM\" : 38173, \"THIRTEEN_RIDE_NUM\" : 18849, \"SIX_ALIGHT_NUM\" : 21443, \"ELEVEN_ALIGHT_NUM\" : 27989, \"TWENTY_ONE_ALIGHT_NUM\" : 4234, \"SEVENTEEN_ALIGHT_NUM\" : 16611, \"SIXTEEN_ALIGHT_NUM\" : 15593, \"EIGHT_ALIGHT_NUM\" : 167991, \"FOURTEEN_RIDE_NUM\" : 23331, \"SIXTEEN_RIDE_NUM\" : 36116, \"TWENTY_ONE_RIDE_NUM\" : 39048, \"FIFTEEN_ALIGHT_NUM\" : 17869, \"TWELVE_RIDE_NUM\" : 15295, \"SEVENTEEN_RIDE_NUM\" : 66595, \"MIDNIGHT_RIDE_NUM\" : 3, \"EIGHT_RIDE_NUM\" : 7740 }, { \"FOUR_ALIGHT_NUM\" : 1, \"USE_MON\" : \"202106\", \"LINE_NUM\" : \"1호선\", \"FIFTEEN_RIDE_NUM\" : 49745, \"TWENTY_TWO_RIDE_NUM\" : 63653, \"WORK_DT\" : \"20210703\", \"FIVE_ALIGHT_NUM\" : 4354, \"SUB_STA_NM\" : \"종각\", \"FIVE_RIDE_NUM\" : 2314, \"EIGHTEEN_ALIGHT_NUM\" : 39621, \"FOURTEEN_ALIGHT_NUM\" : 33173, \"SEVEN_RIDE_NUM\" : 5479, \"NINETEEN_ALIGHT_NUM\" : 19163, \"TWO_ALIGHT_NUM\" : 0, \"TEN_RIDE_NUM\" : 14727, \"TEN_ALIGHT_NUM\" : 50878, \"TWENTY_ALIGHT_NUM\" : 7386, \"EIGHTEEN_RIDE_NUM\" : 192552, \"TWELVE_ALIGHT_NUM\" : 39830, \"TWENTY_THREE_RIDE_NUM\" : 8153, \"NINE_ALIGHT_NUM\" : 131420, \"THIRTEEN_ALIGHT_NUM\" : 40864, \"NINE_RIDE_NUM\" : 10625, \"ONE_RIDE_NUM\" : 0, \"SIX_RIDE_NUM\" : 2868, \"THREE_RIDE_NUM\" : 0, \"TWENTY_TWO_ALIGHT_NUM\" : 3763, \"TWO_RIDE_NUM\" : 0, \"SEVEN_ALIGHT_NUM\" : 96712, \"THREE_ALIGHT_NUM\" : 0, \"ELEVEN_RIDE_NUM\" : 23057, \"ONE_ALIGHT_NUM\" : 0, \"NINETEEN_RIDE_NUM\" : 78735, \"MIDNIGHT_ALIGHT_NUM\" : 135, \"TWENTY_THREE_ALIGHT_NUM\" : 1675, \"FOUR_RIDE_NUM\" : 127, \"TWENTY_RIDE_NUM\" : 64989, \"THIRTEEN_RIDE_NUM\" : 34538, \"SIX_ALIGHT_NUM\" : 23755, \"ELEVEN_ALIGHT_NUM\" : 44506, \"TWENTY_ONE_ALIGHT_NUM\" : 4790, \"SEVENTEEN_ALIGHT_NUM\" : 33365, \"SIXTEEN_ALIGHT_NUM\" : 29692, \"EIGHT_ALIGHT_NUM\" : 223459, \"FOURTEEN_RIDE_NUM\" : 40378, \"SIXTEEN_RIDE_NUM\" : 58664, \"TWENTY_ONE_RIDE_NUM\" : 81179, \"FIFTEEN_ALIGHT_NUM\" : 29610, \"TWELVE_RIDE_NUM\" : 27707, \"SEVENTEEN_RIDE_NUM\" : 114985, \"MIDNIGHT_RIDE_NUM\" : 21, \"EIGHT_RIDE_NUM\" : 8419 }, { \"FOUR_ALIGHT_NUM\" : 24, \"USE_MON\" : \"202106\", \"LINE_NUM\" : \"1호선\", \"FIFTEEN_RIDE_NUM\" : 53071, \"TWENTY_TWO_RIDE_NUM\" : 47756, \"WORK_DT\" : \"20210703\", \"FIVE_ALIGHT_NUM\" : 3388, \"SUB_STA_NM\" : \"종로3가\", \"FIVE_RIDE_NUM\" : 3227, \"EIGHTEEN_ALIGHT_NUM\" : 33315, \"FOURTEEN_ALIGHT_NUM\" : 46621, \"SEVEN_RIDE_NUM\" : 5108, \"NINETEEN_ALIGHT_NUM\" : 16571, \"TWO_ALIGHT_NUM\" : 0, \"TEN_RIDE_NUM\" : 18502, \"TEN_ALIGHT_NUM\" : 57312, \"TWENTY_ALIGHT_NUM\" : 6332, \"EIGHTEEN_RIDE_NUM\" : 94683, \"TWELVE_ALIGHT_NUM\" : 53678, \"TWENTY_THREE_RIDE_NUM\" : 6768, \"NINE_ALIGHT_NUM\" : 73336, \"THIRTEEN_ALIGHT_NUM\" : 51189, \"NINE_RIDE_NUM\" : 11673, \"ONE_RIDE_NUM\" : 0, \"SIX_RIDE_NUM\" : 3069, \"THREE_RIDE_NUM\" : 0, \"TWENTY_TWO_ALIGHT_NUM\" : 4591, \"TWO_RIDE_NUM\" : 0, \"SEVEN_ALIGHT_NUM\" : 25462, \"THREE_ALIGHT_NUM\" : 0, \"ELEVEN_RIDE_NUM\" : 29882, \"ONE_ALIGHT_NUM\" : 0, \"NINETEEN_RIDE_NUM\" : 55993, \"MIDNIGHT_ALIGHT_NUM\" : 413, \"TWENTY_THREE_ALIGHT_NUM\" : 2318, \"FOUR_RIDE_NUM\" : 191, \"TWENTY_RIDE_NUM\" : 41534, \"THIRTEEN_RIDE_NUM\" : 44050, \"SIX_ALIGHT_NUM\" : 13080, \"ELEVEN_ALIGHT_NUM\" : 55725, \"TWENTY_ONE_ALIGHT_NUM\" : 4938, \"SEVENTEEN_ALIGHT_NUM\" : 31234, \"SIXTEEN_ALIGHT_NUM\" : 34679, \"EIGHT_ALIGHT_NUM\" : 70639, \"FOURTEEN_RIDE_NUM\" : 47626, \"SIXTEEN_RIDE_NUM\" : 56955, \"TWENTY_ONE_RIDE_NUM\" : 51588, \"FIFTEEN_ALIGHT_NUM\" : 40250, \"TWELVE_RIDE_NUM\" : 37009, \"SEVENTEEN_RIDE_NUM\" : 68711, \"MIDNIGHT_RIDE_NUM\" : 25, \"EIGHT_RIDE_NUM\" : 7412 } ], \"RESULT\" : { \"MESSAGE\" : \"정상 처리되었습니다\", \"CODE\" : \"INFO-000\" }, \"list_total_count\" : 608 } }\n",
      "bye\n"
     ]
    }
   ],
   "source": [
    "!mongo < src/ds_open_subwayTime_mongo.js"
   ]
  },
  {
   "cell_type": "markdown",
   "metadata": {
    "slideshow": {
     "slide_type": "slide"
    }
   },
   "source": [
    "## 문제 7: 버스 승하차 인원 월별 정류장별 인원\n",
    "\n",
    "서울버스 노선별, 정류장별 승하차인원을 수집할 수 있는 ```CardSubwayTimeNew API```가 있다.\n",
    "서울버스 대상 (서울시내, 서울광역, 서울마을)으로, 교통카드(선후불교통카드)를 이용하여\n",
    "매일 버스노선별로 각 정류장에 승/하차한 인원을 월별로 집계하고 있다.\n",
    "\n",
    "```CardSubwayTimeNew API``` 호출에 필요한 인자를 정리하면 다음과 같다.\n",
    "\n",
    "변수명 | 타입 | 설명 \n",
    "-----|-----|-----\n",
    "KEY | String | 발급받은 인증키\n",
    "TYPE | String | xml, xmlf, xls, json 데이터 형식\n",
    "SERVICE | String | 서비스명\n",
    "START_INDEX | Integer | 페이징 시작번호\n",
    "END_INDEX | Integer | 페이징 끝번호\n",
    "USE_MON | String | 사용월\tYYYYMM형식의 문자열\n",
    "BUS_ROUTE_NO | String(선택) |\t버스노선번호"
   ]
  },
  {
   "cell_type": "markdown",
   "metadata": {
    "slideshow": {
     "slide_type": "slide"
    }
   },
   "source": [
    "* 샘플URL\n",
    "\n",
    "조건 | 샘플URL\n",
    "-----|-----\n",
    "2015년 11월의 버스 정류장별 승하차인원 | http://openapi.seoul.go.kr:8088/(인증키)/xml/CardBusTimeNew/1/5/201511/\n",
    "2015년 11월의 7730 노선에 대한 승하차인원 | http://openapi.seoul.go.kr:8088/(인증키)/xml/CardBusTimeNew/1/5/201511/7730/"
   ]
  },
  {
   "cell_type": "markdown",
   "metadata": {
    "slideshow": {
     "slide_type": "subslide"
    }
   },
   "source": [
    "### 인증키\n"
   ]
  },
  {
   "cell_type": "code",
   "execution_count": 1,
   "metadata": {
    "collapsed": true,
    "jupyter": {
     "outputs_hidden": true
    }
   },
   "outputs": [],
   "source": [
    "import os\n",
    "from src import mylib\n",
    "\n",
    "keyPath=os.path.join(os.getcwd(), 'src', 'key.properties')\n",
    "key=mylib.getKey(keyPath)\n",
    "_key=str(key['dataseoul'])"
   ]
  },
  {
   "cell_type": "markdown",
   "metadata": {},
   "source": [
    "### url 호출"
   ]
  },
  {
   "cell_type": "code",
   "execution_count": null,
   "metadata": {
    "collapsed": true,
    "jupyter": {
     "outputs_hidden": true
    }
   },
   "outputs": [],
   "source": [
    "import requests\n",
    "import re\n",
    "busstopurl='http://openAPI.seoul.go.kr:8088/'+_key+'/xml/CardBusTimeNew/1/5/202107/7016'\n",
    "data=requests.get(busstopurl).text"
   ]
  },
  {
   "cell_type": "markdown",
   "metadata": {},
   "source": [
    "XML 형식으로 요청하였고, 태그는 건수, 요청결과코드, 노선 및 승하차인원 정보로 구성되어 있다.\n",
    "\n",
    "```\n",
    "<CardBusTimeNew>\n",
    "    <list_total_count>107</list_total_count>                  # 총데이터 건수\n",
    "    <RESULT>\n",
    "        <CODE>INFO-000</CODE>\n",
    "        <MESSAGE>정상 처리되었습니다</MESSAGE>                  # 요청결과 코드\n",
    "    </RESULT>\n",
    "    <row>\n",
    "        <USE_MON>202107</USE_MON>                             # 사용년월\n",
    "        <BUS_ROUTE_NO>7016</BUS_ROUTE_NO>                     # 노선번호\n",
    "        <BUS_ROUTE_NM>7016번(은평차고지~상명대)</BUS_ROUTE_NM>  # 노선명\n",
    "        <STND_BSST_ID>111000907</STND_BSST_ID>                 # 표준버스정류장ID \n",
    "        <BSST_ARS_NO>35331</BSST_ARS_NO>                       # 버스정류장ARS번호 \n",
    "        <BUS_STA_NM>은평공영차고지</BUS_STA_NM>                 # 역명\n",
    "        <MIDNIGHT_RIDE_NUM>0</MIDNIGHT_RIDE_NUM>               # 00시승차총승객수\n",
    "        <MIDNIGHT_ALIGHT_NUM>0</MIDNIGHT_ALIGHT_NUM>           # 00시하차총승객수\n",
    "        <ONE_RIDE_NUM>0</ONE_RIDE_NUM>                         # 1시승차총승객수\n",
    "        <ONE_ALIGHT_NUM>0</ONE_ALIGHT_NUM>                     # 1시하차총승객수\n",
    "        ...\n",
    "        <TWENTY_THREE_RIDE_NUM>0</TWENTY_THREE_RIDE_NUM>       # 23시승차총승객수\n",
    "        <TWENTY_THREE_ALIGHT_NUM>0</TWENTY_THREE_ALIGHT_NUM>   # 23시하차총승객수\n",
    "        <WORK_DT>20210803</WORK_DT>                            # 등록일자\n",
    "    </row>\n",
    "    <row>\n",
    "        ...\n",
    "    </row>\n",
    "    ...\n",
    "</CardBusTimeNew>\n",
    "```"
   ]
  },
  {
   "cell_type": "code",
   "execution_count": 5,
   "metadata": {},
   "outputs": [
    {
     "name": "stdout",
     "output_type": "stream",
     "text": [
      "<?xml version=\"1.0\" encoding=\"UTF-8\"?>\n",
      "<CardBusTimeNew>\n",
      "<list_total_count>107</list_total_count>\n",
      "<RESULT>\n",
      "<CODE>INFO-000</CODE>\n",
      "<MESSAGE>정상 처리되었습니다</MESSAGE>\n",
      "</RESULT>\n",
      "<row>\n",
      "<USE_MON>202107</USE_MON>\n",
      "<BUS_ROUTE_NO>7016</BUS_ROUTE_NO>\n",
      "<BUS_ROUTE_NM>7016번(은평차고지~상명대)</BUS_ROUTE_NM>\n",
      "<STND_BSST_ID>111000907</STND_BSST_ID>\n",
      "<BSST_ARS_NO>35331</BSST_ARS_NO>\n",
      "<BUS_STA_NM>은평공영차고지</BUS_STA_NM>\n",
      "<MIDNIGHT_RIDE_NUM>0</MIDNIGHT_RIDE_NUM>\n",
      "<MIDNIGHT_ALIGHT_NUM>0</MIDNIGHT_ALIGHT_NUM>\n",
      "<ONE_RIDE_NUM>0</ONE_RIDE_NUM>\n",
      "<ONE_ALIGHT_NUM>0</ONE_ALIGHT_NUM>\n",
      "<TWO_RIDE_NUM>0</TWO_RIDE_NUM>\n",
      "<TWO_ALIGHT_NUM>0</TWO_ALIGHT_NUM>\n",
      "<THREE_RIDE_NUM>0</THREE_RIDE_NUM>\n",
      "<THREE_ALIGHT_NUM>0</THREE_ALIGHT_NUM>\n",
      "<FOUR_RIDE_NUM>23</FOUR_RIDE_NUM>\n",
      "<FOUR_ALIGHT_NUM>1</FOUR_ALIGHT_NUM>\n",
      "<FIVE_RIDE_NUM>11</FIVE_RIDE_NUM>\n",
      "<FIVE_ALIGHT_NUM>0</FIVE_ALIGHT_NUM>\n",
      "<SIX_RIDE_NUM>28</SIX_RIDE_NUM>\n",
      "<SIX_ALIGHT_NUM>0</SIX_ALIGHT_NUM>\n",
      "<SEVEN_RIDE_NUM>119</SEVEN_RIDE_NUM>\n",
      "<SEVEN_ALIGHT_NUM>1</SEVEN_ALIGHT_NUM>\n",
      "<EIGHT_RIDE_NUM>85</EIGHT_RIDE_NUM>\n",
      "<EIGHT_ALIGHT_NUM>0</EIGHT_ALIGHT_NUM>\n",
      "<NINE_RIDE_NUM>53</NINE_RIDE_NUM>\n",
      "<NINE_ALIGHT_NUM>1</NINE_ALIGHT_NUM>\n",
      "<TEN_RIDE_NUM>23</TEN_RIDE_NUM>\n",
      "<TEN_ALIGHT_NUM>0</TEN_ALIGHT_NUM>\n",
      "<ELEVEN_RIDE_NUM>29</ELEVEN_RIDE_NUM>\n",
      "<ELEVEN_ALIGHT_NUM>0</ELEVEN_ALIGHT_NUM>\n",
      "<TWELVE_RIDE_NUM>28</TWELVE_RIDE_NUM>\n",
      "<TWELVE_ALIGHT_NUM>1</TWELVE_ALIGHT_NUM>\n",
      "<THIRTEEN_RIDE_NUM>18</THIRTEEN_RIDE_NUM>\n",
      "<THIRTEEN_ALIGHT_NUM>0</THIRTEEN_ALIGHT_NUM>\n",
      "<FOURTEEN_RIDE_NUM>26</FOURTEEN_RIDE_NUM>\n",
      "<FOURTEEN_ALIGHT_NUM>0</FOURTEEN_ALIGHT_NUM>\n",
      "<FIFTEEN_RIDE_NUM>26</FIFTEEN_RIDE_NUM>\n",
      "<FIFTEEN_ALIGHT_NUM>2</FIFTEEN_ALIGHT_NUM>\n",
      "<SIXTEEN_RIDE_NUM>31</SIXTEEN_RIDE_NUM>\n",
      "<SIXTEEN_ALIGHT_NUM>1</SIXTEEN_ALIGHT_NUM>\n",
      "<SEVENTEEN_RIDE_NUM>76</SEVENTEEN_RIDE_NUM>\n",
      "<SEVENTEEN_ALIGHT_NUM>1</SEVENTEEN_ALIGHT_NUM>\n",
      "<EIGHTEEN_RIDE_NUM>43</EIGHTEEN_RIDE_NUM>\n",
      "<EIGHTEEN_ALIGHT_NUM>3</EIGHTEEN_ALIGHT_NUM>\n",
      "<NINETEEN_RIDE_NUM>27</NINETEEN_RIDE_NUM>\n",
      "<NINETEEN_ALIGHT_NUM>2</NINETEEN_ALIGHT_NUM>\n",
      "<TWENTY_RIDE_NUM>12</TWENTY_RIDE_NUM>\n",
      "<TWENTY_ALIGHT_NUM>2</TWENTY_ALIGHT_NUM>\n",
      "<TWENTY_ONE_RIDE_NUM>10</TWENTY_ONE_RIDE_NUM>\n",
      "<TWENTY_ONE_ALIGHT_NUM>0</TWENTY_ONE_ALIGHT_NUM>\n",
      "<TWENTY_TWO_RIDE_NUM>12</TWENTY_TWO_RIDE_NUM>\n",
      "<TWENTY_TWO_ALIGHT_NUM>0</TWENTY_TWO_ALIGHT_NUM>\n",
      "<TWENTY_THREE_RIDE_NUM>0</TWENTY_THREE_RIDE_NUM>\n",
      "<TWENTY_THREE_ALIGHT_NUM>0</TWENTY_THREE_ALIGHT_NUM>\n",
      "<WORK_DT>20210803</WORK_DT>\n",
      "</row>\n",
      "<row>\n",
      "<USE_MON>202107</USE_MON>\n",
      "<BUS_ROUTE_NO>7016</BUS_ROUTE_NO>\n",
      "<BUS_ROUTE_NM>7016번(은평차고지~상명대)</BUS_ROUTE_NM>\n",
      "<STND_BSST_ID>113000182</STND_BSST_ID>\n",
      "<BSST_ARS_NO>14273</BSST_ARS_NO>\n",
      "<BUS_STA_NM>월드컵경기장북측</BUS_STA_NM>\n",
      "<MIDNIGHT_RIDE_NUM>0</MIDNIGHT_RIDE_NUM>\n",
      "<MIDNIGHT_ALIGHT_NUM>0</MIDNIGHT_ALIGHT_NUM>\n",
      "<ONE_RIDE_NUM>0</ONE_RIDE_NUM>\n",
      "<ONE_ALIGHT_NUM>0</ONE_ALIGHT_NUM>\n",
      "<TWO_RIDE_NUM>0</TWO_RIDE_NUM>\n",
      "<TWO_ALIGHT_NUM>0</TWO_ALIGHT_NUM>\n",
      "<THREE_RIDE_NUM>0</THREE_RIDE_NUM>\n",
      "<THREE_ALIGHT_NUM>0</THREE_ALIGHT_NUM>\n",
      "<FOUR_RIDE_NUM>29</FOUR_RIDE_NUM>\n",
      "<FOUR_ALIGHT_NUM>0</FOUR_ALIGHT_NUM>\n",
      "<FIVE_RIDE_NUM>3</FIVE_RIDE_NUM>\n",
      "<FIVE_ALIGHT_NUM>1</FIVE_ALIGHT_NUM>\n",
      "<SIX_RIDE_NUM>9</SIX_RIDE_NUM>\n",
      "<SIX_ALIGHT_NUM>6</SIX_ALIGHT_NUM>\n",
      "<SEVEN_RIDE_NUM>23</SEVEN_RIDE_NUM>\n",
      "<SEVEN_ALIGHT_NUM>75</SEVEN_ALIGHT_NUM>\n",
      "<EIGHT_RIDE_NUM>47</EIGHT_RIDE_NUM>\n",
      "<EIGHT_ALIGHT_NUM>125</EIGHT_ALIGHT_NUM>\n",
      "<NINE_RIDE_NUM>27</NINE_RIDE_NUM>\n",
      "<NINE_ALIGHT_NUM>35</NINE_ALIGHT_NUM>\n",
      "<TEN_RIDE_NUM>33</TEN_RIDE_NUM>\n",
      "<TEN_ALIGHT_NUM>33</TEN_ALIGHT_NUM>\n",
      "<ELEVEN_RIDE_NUM>19</ELEVEN_RIDE_NUM>\n",
      "<ELEVEN_ALIGHT_NUM>38</ELEVEN_ALIGHT_NUM>\n",
      "<TWELVE_RIDE_NUM>25</TWELVE_RIDE_NUM>\n",
      "<TWELVE_ALIGHT_NUM>29</TWELVE_ALIGHT_NUM>\n",
      "<THIRTEEN_RIDE_NUM>24</THIRTEEN_RIDE_NUM>\n",
      "<THIRTEEN_ALIGHT_NUM>48</THIRTEEN_ALIGHT_NUM>\n",
      "<FOURTEEN_RIDE_NUM>15</FOURTEEN_RIDE_NUM>\n",
      "<FOURTEEN_ALIGHT_NUM>61</FOURTEEN_ALIGHT_NUM>\n",
      "<FIFTEEN_RIDE_NUM>39</FIFTEEN_RIDE_NUM>\n",
      "<FIFTEEN_ALIGHT_NUM>44</FIFTEEN_ALIGHT_NUM>\n",
      "<SIXTEEN_RIDE_NUM>56</SIXTEEN_RIDE_NUM>\n",
      "<SIXTEEN_ALIGHT_NUM>56</SIXTEEN_ALIGHT_NUM>\n",
      "<SEVENTEEN_RIDE_NUM>49</SEVENTEEN_RIDE_NUM>\n",
      "<SEVENTEEN_ALIGHT_NUM>68</SEVENTEEN_ALIGHT_NUM>\n",
      "<EIGHTEEN_RIDE_NUM>69</EIGHTEEN_RIDE_NUM>\n",
      "<EIGHTEEN_ALIGHT_NUM>101</EIGHTEEN_ALIGHT_NUM>\n",
      "<NINETEEN_RIDE_NUM>58</NINETEEN_RIDE_NUM>\n",
      "<NINETEEN_ALIGHT_NUM>25</NINETEEN_ALIGHT_NUM>\n",
      "<TWENTY_RIDE_NUM>18</TWENTY_RIDE_NUM>\n",
      "<TWENTY_ALIGHT_NUM>33</TWENTY_ALIGHT_NUM>\n",
      "<TWENTY_ONE_RIDE_NUM>27</TWENTY_ONE_RIDE_NUM>\n",
      "<TWENTY_ONE_ALIGHT_NUM>25</TWENTY_ONE_ALIGHT_NUM>\n",
      "<TWENTY_TWO_RIDE_NUM>21</TWENTY_TWO_RIDE_NUM>\n",
      "<TWENTY_TWO_ALIGHT_NUM>21</TWENTY_TWO_ALIGHT_NUM>\n",
      "<TWENTY_THREE_RIDE_NUM>0</TWENTY_THREE_RIDE_NUM>\n",
      "<TWENTY_THREE_ALIGHT_NUM>0</TWENTY_THREE_ALIGHT_NUM>\n",
      "<WORK_DT>20210803</WORK_DT>\n",
      "</row>\n",
      "<row>\n",
      "<USE_MON>202107</USE_MON>\n",
      "<BUS_ROUTE_NO>7016</BUS_ROUTE_NO>\n",
      "<BUS_ROUTE_NM>7016번(은평차고지~상명대)</BUS_ROUTE_NM>\n",
      "<STND_BSST_ID>113000076</STND_BSST_ID>\n",
      "<BSST_ARS_NO>14167</BSST_ARS_NO>\n",
      "<BUS_STA_NM>상암초등학교</BUS_STA_NM>\n",
      "<MIDNIGHT_RIDE_NUM>3</MIDNIGHT_RIDE_NUM>\n",
      "<MIDNIGHT_ALIGHT_NUM>25</MIDNIGHT_ALIGHT_NUM>\n",
      "<ONE_RIDE_NUM>0</ONE_RIDE_NUM>\n",
      "<ONE_ALIGHT_NUM>0</ONE_ALIGHT_NUM>\n",
      "<TWO_RIDE_NUM>0</TWO_RIDE_NUM>\n",
      "<TWO_ALIGHT_NUM>0</TWO_ALIGHT_NUM>\n",
      "<THREE_RIDE_NUM>0</THREE_RIDE_NUM>\n",
      "<THREE_ALIGHT_NUM>0</THREE_ALIGHT_NUM>\n",
      "<FOUR_RIDE_NUM>0</FOUR_RIDE_NUM>\n",
      "<FOUR_ALIGHT_NUM>0</FOUR_ALIGHT_NUM>\n",
      "<FIVE_RIDE_NUM>0</FIVE_RIDE_NUM>\n",
      "<FIVE_ALIGHT_NUM>0</FIVE_ALIGHT_NUM>\n",
      "<SIX_RIDE_NUM>0</SIX_RIDE_NUM>\n",
      "<SIX_ALIGHT_NUM>7</SIX_ALIGHT_NUM>\n",
      "<SEVEN_RIDE_NUM>13</SEVEN_RIDE_NUM>\n",
      "<SEVEN_ALIGHT_NUM>192</SEVEN_ALIGHT_NUM>\n",
      "<EIGHT_RIDE_NUM>39</EIGHT_RIDE_NUM>\n",
      "<EIGHT_ALIGHT_NUM>763</EIGHT_ALIGHT_NUM>\n",
      "<NINE_RIDE_NUM>27</NINE_RIDE_NUM>\n",
      "<NINE_ALIGHT_NUM>435</NINE_ALIGHT_NUM>\n",
      "<TEN_RIDE_NUM>12</TEN_RIDE_NUM>\n",
      "<TEN_ALIGHT_NUM>282</TEN_ALIGHT_NUM>\n",
      "<ELEVEN_RIDE_NUM>26</ELEVEN_RIDE_NUM>\n",
      "<ELEVEN_ALIGHT_NUM>238</ELEVEN_ALIGHT_NUM>\n",
      "<TWELVE_RIDE_NUM>25</TWELVE_RIDE_NUM>\n",
      "<TWELVE_ALIGHT_NUM>212</TWELVE_ALIGHT_NUM>\n",
      "<THIRTEEN_RIDE_NUM>35</THIRTEEN_RIDE_NUM>\n",
      "<THIRTEEN_ALIGHT_NUM>182</THIRTEEN_ALIGHT_NUM>\n",
      "<FOURTEEN_RIDE_NUM>27</FOURTEEN_RIDE_NUM>\n",
      "<FOURTEEN_ALIGHT_NUM>227</FOURTEEN_ALIGHT_NUM>\n",
      "<FIFTEEN_RIDE_NUM>19</FIFTEEN_RIDE_NUM>\n",
      "<FIFTEEN_ALIGHT_NUM>246</FIFTEEN_ALIGHT_NUM>\n",
      "<SIXTEEN_RIDE_NUM>31</SIXTEEN_RIDE_NUM>\n",
      "<SIXTEEN_ALIGHT_NUM>214</SIXTEEN_ALIGHT_NUM>\n",
      "<SEVENTEEN_RIDE_NUM>18</SEVENTEEN_RIDE_NUM>\n",
      "<SEVENTEEN_ALIGHT_NUM>254</SEVENTEEN_ALIGHT_NUM>\n",
      "<EIGHTEEN_RIDE_NUM>30</EIGHTEEN_RIDE_NUM>\n",
      "<EIGHTEEN_ALIGHT_NUM>319</EIGHTEEN_ALIGHT_NUM>\n",
      "<NINETEEN_RIDE_NUM>23</NINETEEN_RIDE_NUM>\n",
      "<NINETEEN_ALIGHT_NUM>265</NINETEEN_ALIGHT_NUM>\n",
      "<TWENTY_RIDE_NUM>31</TWENTY_RIDE_NUM>\n",
      "<TWENTY_ALIGHT_NUM>189</TWENTY_ALIGHT_NUM>\n",
      "<TWENTY_ONE_RIDE_NUM>24</TWENTY_ONE_RIDE_NUM>\n",
      "<TWENTY_ONE_ALIGHT_NUM>127</TWENTY_ONE_ALIGHT_NUM>\n",
      "<TWENTY_TWO_RIDE_NUM>21</TWENTY_TWO_RIDE_NUM>\n",
      "<TWENTY_TWO_ALIGHT_NUM>158</TWENTY_TWO_ALIGHT_NUM>\n",
      "<TWENTY_THREE_RIDE_NUM>6</TWENTY_THREE_RIDE_NUM>\n",
      "<TWENTY_THREE_ALIGHT_NUM>70</TWENTY_THREE_ALIGHT_NUM>\n",
      "<WORK_DT>20210803</WORK_DT>\n",
      "</row>\n",
      "<row>\n",
      "<USE_MON>202107</USE_MON>\n",
      "<BUS_ROUTE_NO>7016</BUS_ROUTE_NO>\n",
      "<BUS_ROUTE_NM>7016번(은평차고지~상명대)</BUS_ROUTE_NM>\n",
      "<STND_BSST_ID>113000028</STND_BSST_ID>\n",
      "<BSST_ARS_NO>14118</BSST_ARS_NO>\n",
      "<BUS_STA_NM>월드컵파크2단지.에스플렉스센터</BUS_STA_NM>\n",
      "<MIDNIGHT_RIDE_NUM>1</MIDNIGHT_RIDE_NUM>\n",
      "<MIDNIGHT_ALIGHT_NUM>24</MIDNIGHT_ALIGHT_NUM>\n",
      "<ONE_RIDE_NUM>0</ONE_RIDE_NUM>\n",
      "<ONE_ALIGHT_NUM>0</ONE_ALIGHT_NUM>\n",
      "<TWO_RIDE_NUM>0</TWO_RIDE_NUM>\n",
      "<TWO_ALIGHT_NUM>0</TWO_ALIGHT_NUM>\n",
      "<THREE_RIDE_NUM>0</THREE_RIDE_NUM>\n",
      "<THREE_ALIGHT_NUM>0</THREE_ALIGHT_NUM>\n",
      "<FOUR_RIDE_NUM>0</FOUR_RIDE_NUM>\n",
      "<FOUR_ALIGHT_NUM>0</FOUR_ALIGHT_NUM>\n",
      "<FIVE_RIDE_NUM>0</FIVE_RIDE_NUM>\n",
      "<FIVE_ALIGHT_NUM>0</FIVE_ALIGHT_NUM>\n",
      "<SIX_RIDE_NUM>0</SIX_RIDE_NUM>\n",
      "<SIX_ALIGHT_NUM>18</SIX_ALIGHT_NUM>\n",
      "<SEVEN_RIDE_NUM>6</SEVEN_RIDE_NUM>\n",
      "<SEVEN_ALIGHT_NUM>576</SEVEN_ALIGHT_NUM>\n",
      "<EIGHT_RIDE_NUM>9</EIGHT_RIDE_NUM>\n",
      "<EIGHT_ALIGHT_NUM>2095</EIGHT_ALIGHT_NUM>\n",
      "<NINE_RIDE_NUM>5</NINE_RIDE_NUM>\n",
      "<NINE_ALIGHT_NUM>1215</NINE_ALIGHT_NUM>\n",
      "<TEN_RIDE_NUM>14</TEN_RIDE_NUM>\n",
      "<TEN_ALIGHT_NUM>522</TEN_ALIGHT_NUM>\n",
      "<ELEVEN_RIDE_NUM>13</ELEVEN_RIDE_NUM>\n",
      "<ELEVEN_ALIGHT_NUM>295</ELEVEN_ALIGHT_NUM>\n",
      "<TWELVE_RIDE_NUM>9</TWELVE_RIDE_NUM>\n",
      "<TWELVE_ALIGHT_NUM>275</TWELVE_ALIGHT_NUM>\n",
      "<THIRTEEN_RIDE_NUM>17</THIRTEEN_RIDE_NUM>\n",
      "<THIRTEEN_ALIGHT_NUM>297</THIRTEEN_ALIGHT_NUM>\n",
      "<FOURTEEN_RIDE_NUM>8</FOURTEEN_RIDE_NUM>\n",
      "<FOURTEEN_ALIGHT_NUM>261</FOURTEEN_ALIGHT_NUM>\n",
      "<FIFTEEN_RIDE_NUM>9</FIFTEEN_RIDE_NUM>\n",
      "<FIFTEEN_ALIGHT_NUM>257</FIFTEEN_ALIGHT_NUM>\n",
      "<SIXTEEN_RIDE_NUM>18</SIXTEEN_RIDE_NUM>\n",
      "<SIXTEEN_ALIGHT_NUM>220</SIXTEEN_ALIGHT_NUM>\n",
      "<SEVENTEEN_RIDE_NUM>22</SEVENTEEN_RIDE_NUM>\n",
      "<SEVENTEEN_ALIGHT_NUM>212</SEVENTEEN_ALIGHT_NUM>\n",
      "<EIGHTEEN_RIDE_NUM>85</EIGHTEEN_RIDE_NUM>\n",
      "<EIGHTEEN_ALIGHT_NUM>232</EIGHTEEN_ALIGHT_NUM>\n",
      "<NINETEEN_RIDE_NUM>30</NINETEEN_RIDE_NUM>\n",
      "<NINETEEN_ALIGHT_NUM>244</NINETEEN_ALIGHT_NUM>\n",
      "<TWENTY_RIDE_NUM>26</TWENTY_RIDE_NUM>\n",
      "<TWENTY_ALIGHT_NUM>150</TWENTY_ALIGHT_NUM>\n",
      "<TWENTY_ONE_RIDE_NUM>10</TWENTY_ONE_RIDE_NUM>\n",
      "<TWENTY_ONE_ALIGHT_NUM>139</TWENTY_ONE_ALIGHT_NUM>\n",
      "<TWENTY_TWO_RIDE_NUM>26</TWENTY_TWO_RIDE_NUM>\n",
      "<TWENTY_TWO_ALIGHT_NUM>168</TWENTY_TWO_ALIGHT_NUM>\n",
      "<TWENTY_THREE_RIDE_NUM>2</TWENTY_THREE_RIDE_NUM>\n",
      "<TWENTY_THREE_ALIGHT_NUM>70</TWENTY_THREE_ALIGHT_NUM>\n",
      "<WORK_DT>20210803</WORK_DT>\n",
      "</row>\n",
      "<row>\n",
      "<USE_MON>202107</USE_MON>\n",
      "<BUS_ROUTE_NO>7016</BUS_ROUTE_NO>\n",
      "<BUS_ROUTE_NM>7016번(은평차고지~상명대)</BUS_ROUTE_NM>\n",
      "<STND_BSST_ID>113000017</STND_BSST_ID>\n",
      "<BSST_ARS_NO>14107</BSST_ARS_NO>\n",
      "<BUS_STA_NM>월드컵파크3단지.난지천공원</BUS_STA_NM>\n",
      "<MIDNIGHT_RIDE_NUM>0</MIDNIGHT_RIDE_NUM>\n",
      "<MIDNIGHT_ALIGHT_NUM>27</MIDNIGHT_ALIGHT_NUM>\n",
      "<ONE_RIDE_NUM>0</ONE_RIDE_NUM>\n",
      "<ONE_ALIGHT_NUM>0</ONE_ALIGHT_NUM>\n",
      "<TWO_RIDE_NUM>0</TWO_RIDE_NUM>\n",
      "<TWO_ALIGHT_NUM>0</TWO_ALIGHT_NUM>\n",
      "<THREE_RIDE_NUM>0</THREE_RIDE_NUM>\n",
      "<THREE_ALIGHT_NUM>0</THREE_ALIGHT_NUM>\n",
      "<FOUR_RIDE_NUM>0</FOUR_RIDE_NUM>\n",
      "<FOUR_ALIGHT_NUM>0</FOUR_ALIGHT_NUM>\n",
      "<FIVE_RIDE_NUM>0</FIVE_RIDE_NUM>\n",
      "<FIVE_ALIGHT_NUM>0</FIVE_ALIGHT_NUM>\n",
      "<SIX_RIDE_NUM>1</SIX_RIDE_NUM>\n",
      "<SIX_ALIGHT_NUM>3</SIX_ALIGHT_NUM>\n",
      "<SEVEN_RIDE_NUM>2</SEVEN_RIDE_NUM>\n",
      "<SEVEN_ALIGHT_NUM>32</SEVEN_ALIGHT_NUM>\n",
      "<EIGHT_RIDE_NUM>9</EIGHT_RIDE_NUM>\n",
      "<EIGHT_ALIGHT_NUM>52</EIGHT_ALIGHT_NUM>\n",
      "<NINE_RIDE_NUM>7</NINE_RIDE_NUM>\n",
      "<NINE_ALIGHT_NUM>46</NINE_ALIGHT_NUM>\n",
      "<TEN_RIDE_NUM>5</TEN_RIDE_NUM>\n",
      "<TEN_ALIGHT_NUM>41</TEN_ALIGHT_NUM>\n",
      "<ELEVEN_RIDE_NUM>4</ELEVEN_RIDE_NUM>\n",
      "<ELEVEN_ALIGHT_NUM>56</ELEVEN_ALIGHT_NUM>\n",
      "<TWELVE_RIDE_NUM>8</TWELVE_RIDE_NUM>\n",
      "<TWELVE_ALIGHT_NUM>47</TWELVE_ALIGHT_NUM>\n",
      "<THIRTEEN_RIDE_NUM>10</THIRTEEN_RIDE_NUM>\n",
      "<THIRTEEN_ALIGHT_NUM>70</THIRTEEN_ALIGHT_NUM>\n",
      "<FOURTEEN_RIDE_NUM>10</FOURTEEN_RIDE_NUM>\n",
      "<FOURTEEN_ALIGHT_NUM>71</FOURTEEN_ALIGHT_NUM>\n",
      "<FIFTEEN_RIDE_NUM>11</FIFTEEN_RIDE_NUM>\n",
      "<FIFTEEN_ALIGHT_NUM>79</FIFTEEN_ALIGHT_NUM>\n",
      "<SIXTEEN_RIDE_NUM>8</SIXTEEN_RIDE_NUM>\n",
      "<SIXTEEN_ALIGHT_NUM>47</SIXTEEN_ALIGHT_NUM>\n",
      "<SEVENTEEN_RIDE_NUM>7</SEVENTEEN_RIDE_NUM>\n",
      "<SEVENTEEN_ALIGHT_NUM>64</SEVENTEEN_ALIGHT_NUM>\n",
      "<EIGHTEEN_RIDE_NUM>7</EIGHTEEN_RIDE_NUM>\n",
      "<EIGHTEEN_ALIGHT_NUM>79</EIGHTEEN_ALIGHT_NUM>\n",
      "<NINETEEN_RIDE_NUM>3</NINETEEN_RIDE_NUM>\n",
      "<NINETEEN_ALIGHT_NUM>82</NINETEEN_ALIGHT_NUM>\n",
      "<TWENTY_RIDE_NUM>3</TWENTY_RIDE_NUM>\n",
      "<TWENTY_ALIGHT_NUM>58</TWENTY_ALIGHT_NUM>\n",
      "<TWENTY_ONE_RIDE_NUM>2</TWENTY_ONE_RIDE_NUM>\n",
      "<TWENTY_ONE_ALIGHT_NUM>52</TWENTY_ONE_ALIGHT_NUM>\n",
      "<TWENTY_TWO_RIDE_NUM>2</TWENTY_TWO_RIDE_NUM>\n",
      "<TWENTY_TWO_ALIGHT_NUM>66</TWENTY_TWO_ALIGHT_NUM>\n",
      "<TWENTY_THREE_RIDE_NUM>0</TWENTY_THREE_RIDE_NUM>\n",
      "<TWENTY_THREE_ALIGHT_NUM>27</TWENTY_THREE_ALIGHT_NUM>\n",
      "<WORK_DT>20210803</WORK_DT>\n",
      "</row>\n",
      "</CardBusTimeNew>\n",
      "\n"
     ]
    }
   ],
   "source": [
    "print (data)"
   ]
  },
  {
   "cell_type": "markdown",
   "metadata": {},
   "source": [
    "### 정규식으로 XML 파싱\n",
    "\n",
    "XML 파싱을 통해, 원하는 결과를 추출할 수 있다.\n",
    "여기서는 정규식으로 해보자.\n",
    "<BUS_STA_NM>(.+?)</BUS_STA_NM>는 태그 안의 괄호안 패턴을 추출하게 된다."
   ]
  },
  {
   "cell_type": "code",
   "execution_count": 6,
   "metadata": {
    "slideshow": {
     "slide_type": "subslide"
    }
   },
   "outputs": [
    {
     "name": "stdout",
     "output_type": "stream",
     "text": [
      "은평공영차고지\n",
      "월드컵경기장북측\n",
      "상암초등학교\n",
      "월드컵파크2단지.에스플렉스센터\n",
      "월드컵파크3단지.난지천공원\n"
     ]
    }
   ],
   "source": [
    "import re\n",
    "p=re.compile('<BUS_STA_NM>(.+?)</BUS_STA_NM>')\n",
    "res=p.findall(data)\n",
    "for item in res:\n",
    "    print (item)"
   ]
  },
  {
   "cell_type": "markdown",
   "metadata": {},
   "source": [
    "```<.*_NUM>(\\d+)</.*_NUM>```는 _NUM 태그 안의 숫자 데이터를 추출하는 정규식이다."
   ]
  },
  {
   "cell_type": "code",
   "execution_count": 48,
   "metadata": {},
   "outputs": [
    {
     "name": "stdout",
     "output_type": "stream",
     "text": [
      "0, 0, 0, 0, 0, 0, 0, 0, 23, 1, 11, 0, 28, 0, 119, 1, 85, 0, 53, 1, 23, 0, 29, 0, 28, 1, 18, 0, 26, 0, 26, 2, 31, 1, 76, 1, 43, 3, 27, 2, 12, 2, 10, 0, 12, 0, 0, 0, 0, 0, 0, 0, 0, 0, 0, 0, 29, 0, 3, 1, 9, 6, 23, 75, 47, 125, 27, 35, 33, 33, 19, 38, 25, 29, 24, 48, 15, 61, 39, 44, 56, 56, 49, 68, 69, 101, 58, 25, 18, 33, 27, 25, 21, 21, 0, 0, 3, 25, 0, 0, 0, 0, 0, 0, 0, 0, 0, 0, 0, 7, 13, 192, 39, 763, 27, 435, 12, 282, 26, 238, 25, 212, 35, 182, 27, 227, 19, 246, 31, 214, 18, 254, 30, 319, 23, 265, 31, 189, 24, 127, 21, 158, 6, 70, 1, 24, 0, 0, 0, 0, 0, 0, 0, 0, 0, 0, 0, 18, 6, 576, 9, 2095, 5, 1215, 14, 522, 13, 295, 9, 275, 17, 297, 8, 261, 9, 257, 18, 220, 22, 212, 85, 232, 30, 244, 26, 150, 10, 139, 26, 168, 2, 70, 0, 27, 0, 0, 0, 0, 0, 0, 0, 0, 0, 0, 1, 3, 2, 32, 9, 52, 7, 46, 5, 41, 4, 56, 8, 47, 10, 70, 10, 71, 11, 79, 8, 47, 7, 64, 7, 79, 3, 82, 3, 58, 2, 52, 2, 66, 0, 27, "
     ]
    }
   ],
   "source": [
    "p=re.compile('<.*_NUM>(\\d+)</.*_NUM>')\n",
    "res=p.findall(data)\n",
    "#print(\" \".join(res))\n",
    "for item in res:\n",
    "    print (item, end=\", \") # connecting numbers with a comma"
   ]
  },
  {
   "cell_type": "markdown",
   "metadata": {
    "slideshow": {
     "slide_type": "subslide"
    }
   },
   "source": [
    "### 일괄실행"
   ]
  },
  {
   "cell_type": "code",
   "execution_count": 38,
   "metadata": {},
   "outputs": [
    {
     "name": "stdout",
     "output_type": "stream",
     "text": [
      "Overwriting src/ds_open_cardBusTime.py\n"
     ]
    }
   ],
   "source": [
    "%%writefile src/ds_open_cardBusTime.py\n",
    "# coding: utf-8\n",
    "import os\n",
    "import mylib # NOTE: do not use 'from src import mylib'\n",
    "import requests\n",
    "import re\n",
    "\n",
    "def doIt():\n",
    "    keyPath=os.path.join(os.getcwd(), 'src', 'key.properties')\n",
    "    key=mylib.getKey(keyPath)\n",
    "    _key=str(key['dataseoul'])\n",
    "\n",
    "    busstopurl='http://openAPI.seoul.go.kr:8088/'+_key+'/xml/CardBusTimeNew/1/5/202107/7016'\n",
    "    data=requests.get(busstopurl).text\n",
    "    p=re.compile('<BUS_STA_NM>(.+?)</BUS_STA_NM>')\n",
    "    res=p.findall(data)\n",
    "    for item in res:\n",
    "        print (item)\n",
    "\n",
    "    p=re.compile('<.*_NUM>(\\d+)</.*_NUM>')\n",
    "    res=p.findall(data)\n",
    "    print(\" \".join(res))\n",
    "if __name__ == \"__main__\":\n",
    "    doIt()\n"
   ]
  },
  {
   "cell_type": "code",
   "execution_count": 40,
   "metadata": {},
   "outputs": [
    {
     "name": "stdout",
     "output_type": "stream",
     "text": [
      "은평공영차고지\n",
      "월드컵경기장북측\n",
      "상암초등학교\n",
      "월드컵파크2단지.에스플렉스센터\n",
      "월드컵파크3단지.난지천공원\n",
      "0 0 0 0 0 0 0 0 23 1 11 0 28 0 119 1 85 0 53 1 23 0 29 0 28 1 18 0 26 0 26 2 31 1 76 1 43 3 27 2 12 2 10 0 12 0 0 0 0 0 0 0 0 0 0 0 29 0 3 1 9 6 23 75 47 125 27 35 33 33 19 38 25 29 24 48 15 61 39 44 56 56 49 68 69 101 58 25 18 33 27 25 21 21 0 0 3 25 0 0 0 0 0 0 0 0 0 0 0 7 13 192 39 763 27 435 12 282 26 238 25 212 35 182 27 227 19 246 31 214 18 254 30 319 23 265 31 189 24 127 21 158 6 70 1 24 0 0 0 0 0 0 0 0 0 0 0 18 6 576 9 2095 5 1215 14 522 13 295 9 275 17 297 8 261 9 257 18 220 22 212 85 232 30 244 26 150 10 139 26 168 2 70 0 27 0 0 0 0 0 0 0 0 0 0 1 3 2 32 9 52 7 46 5 41 4 56 8 47 10 70 10 71 11 79 8 47 7 64 7 79 3 82 3 58 2 52 2 66 0 27\n"
     ]
    }
   ],
   "source": [
    "!python3 src/ds_open_cardBusTime.py"
   ]
  },
  {
   "cell_type": "markdown",
   "metadata": {},
   "source": [
    "## 문제 8: 서울시 골목상권 분석\n",
    "\n",
    "어떤 곳에 입점을 할 경우, 배후 상권에 대해 알 필요가 있다.\n",
    "주변에 얼마나 많은 사람들이 다니는지,\n",
    "어떤 직장이 있는지,\n",
    "관련한 점포는 있는지가 궁금할 수 있다.\n",
    "이러한 골목상권에 대한 정보를 수집할 수 있다.\n",
    "제공하는 골목상권분석정보는:\n",
    "- 서울시 우리마을가게 상권분석서비스(상권-생활인구)\n",
    "- 서울시 우리마을가게 상권분석서비스(상권배후지-집객시설)\n",
    "- 서울시 우리마을가게 상권분석서비스(상권배후지-생활인구)\n",
    "- 서울시 우리마을가게 상권분석서비스(상권-집객시설)\n",
    "- 서울시 우리마을가게 상권분석서비스(상권배후지-상주인구)\n",
    "- 서울시 우리마을가게 상권분석서비스(상권_상주인구)\n",
    "- 서울시 우리마을가게 상권분석서비스(상권배후지-아파트)\n",
    "- 서울시 우리마을가게 상권분석서비스(상권배후지-점포)\n",
    "- 서울시 우리마을가게 상권분석서비스(상권-상권변화지표)\n",
    "- 서울시 우리마을가게 상권분석서비스(행정동별 상권변화지표)\n",
    "- 서울시 우리마을가게 상권분석서비스(상권-추정매출)\n",
    "- 서울시 우리마을가게 상권분석서비스(상권-직장인구)\n",
    "- 서울시 우리마을가게 상권분석서비스(상권배후지-소득소비)\n",
    "- 서울시 우리마을가게 상권분석서비스(상권배후지-직장인구)\n",
    "- 서울시 우리마을가게 상권분석서비스(자치구별 상권변화지표)\n",
    "- 서울시 우리마을가게 상권분석서비스(상권-아파트)\n",
    "- 서울시 우리마을가게 상권분석서비스(상권영역)\n",
    "- 서울시 우리마을가게 상권분석서비스(상권-점포)"
   ]
  },
  {
   "cell_type": "markdown",
   "metadata": {
    "slideshow": {
     "slide_type": "slide"
    }
   },
   "source": [
    "이 가운데 상권-생활인구를 알아보자.\n",
    "서비스명은 ```VwsmTrdarFlpopQq``` (서비스 개편 이전 ```InfoTrdarFlpop```)이다.\n",
    "\n",
    "* 샘플 url\n",
    "서울시 우리마을가게 상권분석서비스(상권-추정유동인구)\n",
    "http://openapi.seoul.go.kr:8088/(인증키)/xml/VwsmTrdarFlpopQq/1/5/\n",
    "\n",
    "* 요청인자\n",
    "\n",
    "변수명 | 타입 | 설명 \n",
    "-----|-----|-----\n",
    "KEY | String | 발급받은 인증키\n",
    "TYPE | String | xml, xmlf, xls, json 데이터 형식\n",
    "SERVICE | String | 서비스명 VwsmTrdarFlpopQq\n",
    "START_INDEX | Integer | 페이징 시작번호\n",
    "END_INDEX | Integer | 페이징 끝번호\n",
    "STDR_YY_CD | String(선택) | 기준년코드\tYYYY형식의 문자열\n",
    "TRDAR_SE_CD | String(선택) | 상권구분코드 'A','D','R','U'\n"
   ]
  },
  {
   "cell_type": "markdown",
   "metadata": {},
   "source": [
    "### 인증키"
   ]
  },
  {
   "cell_type": "code",
   "execution_count": 6,
   "metadata": {
    "collapsed": true,
    "jupyter": {
     "outputs_hidden": true
    }
   },
   "outputs": [],
   "source": [
    "import os\n",
    "from src import mylib # Ok: import src.mylib\n",
    "\n",
    "keyPath=os.path.join(os.getcwd(), 'src', 'key.properties')\n",
    "key=mylib.getKey(keyPath)\n",
    "# (1) make params with resource IDs\n",
    "KEY=key['dataseoul'] #'73725...847'"
   ]
  },
  {
   "cell_type": "markdown",
   "metadata": {},
   "source": [
    "### 요청인자"
   ]
  },
  {
   "cell_type": "code",
   "execution_count": 8,
   "metadata": {
    "collapsed": true,
    "jupyter": {
     "outputs_hidden": true
    }
   },
   "outputs": [],
   "source": [
    "import os\n",
    "\n",
    "TYPE='json'\n",
    "SERVICE='VwsmTrdarFlpopQq' #OLD: SERVICE='InfoTrdarFlpop'\n",
    "START_INDEX=str(1)\n",
    "END_INDEX=str(10)\n",
    "STDR_YM_CD=str(2017)\n",
    "params=os.path.join(KEY,TYPE,SERVICE,START_INDEX,END_INDEX,STDR_YM_CD) # '73725...847/json/VwsmTrdarFlpopQq/1/10/2017'"
   ]
  },
  {
   "cell_type": "markdown",
   "metadata": {},
   "source": [
    "### url"
   ]
  },
  {
   "cell_type": "code",
   "execution_count": 10,
   "metadata": {
    "collapsed": true,
    "jupyter": {
     "outputs_hidden": true
    }
   },
   "outputs": [],
   "source": [
    "import urllib.parse\n",
    "\n",
    "_url='http://openAPI.seoul.go.kr:8088/'\n",
    "url=urllib.parse.urljoin(_url,params)"
   ]
  },
  {
   "cell_type": "code",
   "execution_count": 11,
   "metadata": {},
   "outputs": [
    {
     "name": "stdout",
     "output_type": "stream",
     "text": [
      "http://openAPI.seoul.go.kr:8088/73725974496a736c34395757705847/json/VwsmTrdarFlpopQq/1/10/2017\n"
     ]
    }
   ],
   "source": [
    "print(url)"
   ]
  },
  {
   "cell_type": "markdown",
   "metadata": {},
   "source": [
    "### 상권 데이터"
   ]
  },
  {
   "cell_type": "code",
   "execution_count": 12,
   "metadata": {
    "collapsed": true,
    "jupyter": {
     "outputs_hidden": true
    }
   },
   "outputs": [],
   "source": [
    "import requests\n",
    "r=requests.get(url)\n",
    "trade=r.json()"
   ]
  },
  {
   "cell_type": "markdown",
   "metadata": {},
   "source": [
    "가져온 상권의 생활인구 정보를 살펴보자.\n",
    "기준 기간의 성별, 연령별로 나누어져 인구 수가 포함되어 있다.\n",
    "\n",
    "```\n",
    "{'VwsmTrdarFlpopQq':\n",
    "    {'list_total_count': 5980,\n",
    "        'RESULT': {'CODE': 'INFO-000', 'MESSAGE': '정상 처리되었습니다'},\n",
    "        'row': [{\n",
    "                'STDR_YY_CD': '2017',                   # 기준년코드\n",
    "                'STDR_QU_CD': '1',                      # 기준분기코드\n",
    "                'TRDAR_SE_CD': 'A',                     # 상권구분코드\n",
    "                'TRDAR_SE_CD_NM': '골목상권',            # 상권구분코드명\n",
    "                'TRDAR_CD': '1000665',                  # 상권코드\n",
    "                'TRDAR_CD_NM': '독산로78다길',           # 상권코드명\n",
    "                'TOT_FLPOP_CO': 126387.0,               # 총생활인구수\n",
    "                'ML_FLPOP_CO': 63047.0,                 # 남성생활인구수\n",
    "                'FML_FLPOP_CO': 63339.0,                # 여성생활인구수\n",
    "                'AGRDE_10_FLPOP_CO': 2360.0,            # 연령대 10 생활인구수\n",
    "                'AGRDE_20_FLPOP_CO': 22721.0,           # 연령대 20 생활인구수\n",
    "                ...\n",
    "                'FAG_60_ABOVE_SUNTM_6_FLPOP_CO': 31.0   # 여성연령대 60 이상 일요일시간대 6 생활인구수\n",
    "                }]\n",
    "    }\n",
    "}\n",
    "```"
   ]
  },
  {
   "cell_type": "code",
   "execution_count": 13,
   "metadata": {},
   "outputs": [
    {
     "name": "stdout",
     "output_type": "stream",
     "text": [
      "{'VwsmTrdarFlpopQq': {'list_total_count': 5980, 'RESULT': {'CODE': 'INFO-000', 'MESSAGE': '정상 처리되었습니다'}, 'row': [{'STDR_YY_CD': '2017', 'STDR_QU_CD': '1', 'TRDAR_SE_CD': 'A', 'TRDAR_SE_CD_NM': '골목상권', 'TRDAR_CD': '1000665', 'TRDAR_CD_NM': '독산로78다길', 'TOT_FLPOP_CO': 126387.0, 'ML_FLPOP_CO': 63047.0, 'FML_FLPOP_CO': 63339.0, 'AGRDE_10_FLPOP_CO': 2360.0, 'AGRDE_20_FLPOP_CO': 22721.0, 'AGRDE_30_FLPOP_CO': 25328.0, 'AGRDE_40_FLPOP_CO': 26198.0, 'AGRDE_50_FLPOP_CO': 33023.0, 'AGRDE_60_ABOVE_FLPOP_CO': 16758.0, 'TMZON_1_FLPOP_CO': 26892.0, 'TMZON_2_FLPOP_CO': 25546.0, 'TMZON_3_FLPOP_CO': 17125.0, 'TMZON_4_FLPOP_CO': 17830.0, 'TMZON_5_FLPOP_CO': 23849.0, 'TMZON_6_FLPOP_CO': 15144.0, 'MON_FLPOP_CO': 16632.0, 'TUES_FLPOP_CO': 15855.0, 'WED_FLPOP_CO': 18322.0, 'THUR_FLPOP_CO': 18346.0, 'FRI_FLPOP_CO': 17973.0, 'SAT_FLPOP_CO': 20161.0, 'SUN_FLPOP_CO': 19100.0, 'MAG_10_MONTM_1_FLPOP_CO': 0.0, 'MAG_10_MONTM_2_FLPOP_CO': 0.0, 'MAG_10_MONTM_3_FLPOP_CO': 0.0, 'MAG_10_MONTM_4_FLPOP_CO': 58.0, 'MAG_10_MONTM_5_FLPOP_CO': 171.0, 'MAG_10_MONTM_6_FLPOP_CO': 0.0, 'MAG_10_TUETM_1_FLPOP_CO': 0.0, 'MAG_10_TUETM_2_FLPOP_CO': 0.0, 'MAG_10_TUETM_3_FLPOP_CO': 0.0, 'MAG_10_TUETM_4_FLPOP_CO': 50.0, 'MAG_10_TUETM_5_FLPOP_CO': 93.0, 'MAG_10_TUETM_6_FLPOP_CO': 0.0, 'MAG_10_WEDTM_1_FLPOP_CO': 10.0, 'MAG_10_WEDTM_2_FLPOP_CO': 10.0, 'MAG_10_WEDTM_3_FLPOP_CO': 10.0, 'MAG_10_WEDTM_4_FLPOP_CO': 74.0, 'MAG_10_WEDTM_5_FLPOP_CO': 193.0, 'MAG_10_WEDTM_6_FLPOP_CO': 27.0, 'MAG_10_THUTM_1_FLPOP_CO': 0.0, 'MAG_10_THUTM_2_FLPOP_CO': 10.0, 'MAG_10_THUTM_3_FLPOP_CO': 30.0, 'MAG_10_THUTM_4_FLPOP_CO': 48.0, 'MAG_10_THUTM_5_FLPOP_CO': 165.0, 'MAG_10_THUTM_6_FLPOP_CO': 10.0, 'MAG_10_FRITM_1_FLPOP_CO': 0.0, 'MAG_10_FRITM_2_FLPOP_CO': 30.0, 'MAG_10_FRITM_3_FLPOP_CO': 18.0, 'MAG_10_FRITM_4_FLPOP_CO': 74.0, 'MAG_10_FRITM_5_FLPOP_CO': 174.0, 'MAG_10_FRITM_6_FLPOP_CO': 17.0, 'MAG_10_SATTM_1_FLPOP_CO': 0.0, 'MAG_10_SATTM_2_FLPOP_CO': 0.0, 'MAG_10_SATTM_3_FLPOP_CO': 18.0, 'MAG_10_SATTM_4_FLPOP_CO': 114.0, 'MAG_10_SATTM_5_FLPOP_CO': 152.0, 'MAG_10_SATTM_6_FLPOP_CO': 17.0, 'MAG_10_SUNTM_1_FLPOP_CO': 0.0, 'MAG_10_SUNTM_2_FLPOP_CO': 0.0, 'MAG_10_SUNTM_3_FLPOP_CO': 112.0, 'MAG_10_SUNTM_4_FLPOP_CO': 172.0, 'MAG_10_SUNTM_5_FLPOP_CO': 151.0, 'MAG_10_SUNTM_6_FLPOP_CO': 0.0, 'MAG_20_MONTM_1_FLPOP_CO': 545.0, 'MAG_20_MONTM_2_FLPOP_CO': 386.0, 'MAG_20_MONTM_3_FLPOP_CO': 209.0, 'MAG_20_MONTM_4_FLPOP_CO': 231.0, 'MAG_20_MONTM_5_FLPOP_CO': 345.0, 'MAG_20_MONTM_6_FLPOP_CO': 272.0, 'MAG_20_TUETM_1_FLPOP_CO': 381.0, 'MAG_20_TUETM_2_FLPOP_CO': 298.0, 'MAG_20_TUETM_3_FLPOP_CO': 146.0, 'MAG_20_TUETM_4_FLPOP_CO': 115.0, 'MAG_20_TUETM_5_FLPOP_CO': 299.0, 'MAG_20_TUETM_6_FLPOP_CO': 278.0, 'MAG_20_WEDTM_1_FLPOP_CO': 445.0, 'MAG_20_WEDTM_2_FLPOP_CO': 348.0, 'MAG_20_WEDTM_3_FLPOP_CO': 145.0, 'MAG_20_WEDTM_4_FLPOP_CO': 174.0, 'MAG_20_WEDTM_5_FLPOP_CO': 301.0, 'MAG_20_WEDTM_6_FLPOP_CO': 254.0, 'MAG_20_THUTM_1_FLPOP_CO': 442.0, 'MAG_20_THUTM_2_FLPOP_CO': 318.0, 'MAG_20_THUTM_3_FLPOP_CO': 134.0, 'MAG_20_THUTM_4_FLPOP_CO': 183.0, 'MAG_20_THUTM_5_FLPOP_CO': 364.0, 'MAG_20_THUTM_6_FLPOP_CO': 282.0, 'MAG_20_FRITM_1_FLPOP_CO': 460.0, 'MAG_20_FRITM_2_FLPOP_CO': 346.0, 'MAG_20_FRITM_3_FLPOP_CO': 171.0, 'MAG_20_FRITM_4_FLPOP_CO': 192.0, 'MAG_20_FRITM_5_FLPOP_CO': 315.0, 'MAG_20_FRITM_6_FLPOP_CO': 264.0, 'MAG_20_SATTM_1_FLPOP_CO': 397.0, 'MAG_20_SATTM_2_FLPOP_CO': 417.0, 'MAG_20_SATTM_3_FLPOP_CO': 296.0, 'MAG_20_SATTM_4_FLPOP_CO': 285.0, 'MAG_20_SATTM_5_FLPOP_CO': 390.0, 'MAG_20_SATTM_6_FLPOP_CO': 276.0, 'MAG_20_SUNTM_1_FLPOP_CO': 571.0, 'MAG_20_SUNTM_2_FLPOP_CO': 480.0, 'MAG_20_SUNTM_3_FLPOP_CO': 299.0, 'MAG_20_SUNTM_4_FLPOP_CO': 306.0, 'MAG_20_SUNTM_5_FLPOP_CO': 387.0, 'MAG_20_SUNTM_6_FLPOP_CO': 278.0, 'MAG_30_MONTM_1_FLPOP_CO': 483.0, 'MAG_30_MONTM_2_FLPOP_CO': 298.0, 'MAG_30_MONTM_3_FLPOP_CO': 183.0, 'MAG_30_MONTM_4_FLPOP_CO': 201.0, 'MAG_30_MONTM_5_FLPOP_CO': 336.0, 'MAG_30_MONTM_6_FLPOP_CO': 260.0, 'MAG_30_TUETM_1_FLPOP_CO': 512.0, 'MAG_30_TUETM_2_FLPOP_CO': 331.0, 'MAG_30_TUETM_3_FLPOP_CO': 172.0, 'MAG_30_TUETM_4_FLPOP_CO': 190.0, 'MAG_30_TUETM_5_FLPOP_CO': 310.0, 'MAG_30_TUETM_6_FLPOP_CO': 269.0, 'MAG_30_WEDTM_1_FLPOP_CO': 549.0, 'MAG_30_WEDTM_2_FLPOP_CO': 341.0, 'MAG_30_WEDTM_3_FLPOP_CO': 174.0, 'MAG_30_WEDTM_4_FLPOP_CO': 229.0, 'MAG_30_WEDTM_5_FLPOP_CO': 291.0, 'MAG_30_WEDTM_6_FLPOP_CO': 262.0, 'MAG_30_THUTM_1_FLPOP_CO': 527.0, 'MAG_30_THUTM_2_FLPOP_CO': 331.0, 'MAG_30_THUTM_3_FLPOP_CO': 176.0, 'MAG_30_THUTM_4_FLPOP_CO': 165.0, 'MAG_30_THUTM_5_FLPOP_CO': 347.0, 'MAG_30_THUTM_6_FLPOP_CO': 269.0, 'MAG_30_FRITM_1_FLPOP_CO': 493.0, 'MAG_30_FRITM_2_FLPOP_CO': 321.0, 'MAG_30_FRITM_3_FLPOP_CO': 201.0, 'MAG_30_FRITM_4_FLPOP_CO': 290.0, 'MAG_30_FRITM_5_FLPOP_CO': 415.0, 'MAG_30_FRITM_6_FLPOP_CO': 268.0, 'MAG_30_SATTM_1_FLPOP_CO': 554.0, 'MAG_30_SATTM_2_FLPOP_CO': 516.0, 'MAG_30_SATTM_3_FLPOP_CO': 324.0, 'MAG_30_SATTM_4_FLPOP_CO': 324.0, 'MAG_30_SATTM_5_FLPOP_CO': 438.0, 'MAG_30_SATTM_6_FLPOP_CO': 296.0, 'MAG_30_SUNTM_1_FLPOP_CO': 573.0, 'MAG_30_SUNTM_2_FLPOP_CO': 489.0, 'MAG_30_SUNTM_3_FLPOP_CO': 299.0, 'MAG_30_SUNTM_4_FLPOP_CO': 310.0, 'MAG_30_SUNTM_5_FLPOP_CO': 402.0, 'MAG_30_SUNTM_6_FLPOP_CO': 267.0, 'MAG_40_MONTM_1_FLPOP_CO': 326.0, 'MAG_40_MONTM_2_FLPOP_CO': 251.0, 'MAG_40_MONTM_3_FLPOP_CO': 209.0, 'MAG_40_MONTM_4_FLPOP_CO': 260.0, 'MAG_40_MONTM_5_FLPOP_CO': 335.0, 'MAG_40_MONTM_6_FLPOP_CO': 190.0, 'MAG_40_TUETM_1_FLPOP_CO': 221.0, 'MAG_40_TUETM_2_FLPOP_CO': 357.0, 'MAG_40_TUETM_3_FLPOP_CO': 181.0, 'MAG_40_TUETM_4_FLPOP_CO': 201.0, 'MAG_40_TUETM_5_FLPOP_CO': 298.0, 'MAG_40_TUETM_6_FLPOP_CO': 201.0, 'MAG_40_WEDTM_1_FLPOP_CO': 298.0, 'MAG_40_WEDTM_2_FLPOP_CO': 349.0, 'MAG_40_WEDTM_3_FLPOP_CO': 229.0, 'MAG_40_WEDTM_4_FLPOP_CO': 229.0, 'MAG_40_WEDTM_5_FLPOP_CO': 312.0, 'MAG_40_WEDTM_6_FLPOP_CO': 220.0, 'MAG_40_THUTM_1_FLPOP_CO': 340.0, 'MAG_40_THUTM_2_FLPOP_CO': 386.0, 'MAG_40_THUTM_3_FLPOP_CO': 229.0, 'MAG_40_THUTM_4_FLPOP_CO': 240.0, 'MAG_40_THUTM_5_FLPOP_CO': 322.0, 'MAG_40_THUTM_6_FLPOP_CO': 221.0, 'MAG_40_FRITM_1_FLPOP_CO': 300.0, 'MAG_40_FRITM_2_FLPOP_CO': 309.0, 'MAG_40_FRITM_3_FLPOP_CO': 190.0, 'MAG_40_FRITM_4_FLPOP_CO': 288.0, 'MAG_40_FRITM_5_FLPOP_CO': 386.0, 'MAG_40_FRITM_6_FLPOP_CO': 260.0, 'MAG_40_SATTM_1_FLPOP_CO': 380.0, 'MAG_40_SATTM_2_FLPOP_CO': 460.0, 'MAG_40_SATTM_3_FLPOP_CO': 346.0, 'MAG_40_SATTM_4_FLPOP_CO': 315.0, 'MAG_40_SATTM_5_FLPOP_CO': 459.0, 'MAG_40_SATTM_6_FLPOP_CO': 296.0, 'MAG_40_SUNTM_1_FLPOP_CO': 495.0, 'MAG_40_SUNTM_2_FLPOP_CO': 401.0, 'MAG_40_SUNTM_3_FLPOP_CO': 286.0, 'MAG_40_SUNTM_4_FLPOP_CO': 317.0, 'MAG_40_SUNTM_5_FLPOP_CO': 352.0, 'MAG_40_SUNTM_6_FLPOP_CO': 201.0, 'MAG_50_MONTM_1_FLPOP_CO': 457.0, 'MAG_50_MONTM_2_FLPOP_CO': 412.0, 'MAG_50_MONTM_3_FLPOP_CO': 231.0, 'MAG_50_MONTM_4_FLPOP_CO': 240.0, 'MAG_50_MONTM_5_FLPOP_CO': 345.0, 'MAG_50_MONTM_6_FLPOP_CO': 240.0, 'MAG_50_TUETM_1_FLPOP_CO': 457.0, 'MAG_50_TUETM_2_FLPOP_CO': 381.0, 'MAG_50_TUETM_3_FLPOP_CO': 278.0, 'MAG_50_TUETM_4_FLPOP_CO': 240.0, 'MAG_50_TUETM_5_FLPOP_CO': 305.0, 'MAG_50_TUETM_6_FLPOP_CO': 231.0, 'MAG_50_WEDTM_1_FLPOP_CO': 514.0, 'MAG_50_WEDTM_2_FLPOP_CO': 412.0, 'MAG_50_WEDTM_3_FLPOP_CO': 221.0, 'MAG_50_WEDTM_4_FLPOP_CO': 233.0, 'MAG_50_WEDTM_5_FLPOP_CO': 425.0, 'MAG_50_WEDTM_6_FLPOP_CO': 281.0, 'MAG_50_THUTM_1_FLPOP_CO': 514.0, 'MAG_50_THUTM_2_FLPOP_CO': 453.0, 'MAG_50_THUTM_3_FLPOP_CO': 262.0, 'MAG_50_THUTM_4_FLPOP_CO': 260.0, 'MAG_50_THUTM_5_FLPOP_CO': 406.0, 'MAG_50_THUTM_6_FLPOP_CO': 263.0, 'MAG_50_FRITM_1_FLPOP_CO': 457.0, 'MAG_50_FRITM_2_FLPOP_CO': 412.0, 'MAG_50_FRITM_3_FLPOP_CO': 231.0, 'MAG_50_FRITM_4_FLPOP_CO': 231.0, 'MAG_50_FRITM_5_FLPOP_CO': 326.0, 'MAG_50_FRITM_6_FLPOP_CO': 231.0, 'MAG_50_SATTM_1_FLPOP_CO': 456.0, 'MAG_50_SATTM_2_FLPOP_CO': 389.0, 'MAG_50_SATTM_3_FLPOP_CO': 245.0, 'MAG_50_SATTM_4_FLPOP_CO': 257.0, 'MAG_50_SATTM_5_FLPOP_CO': 419.0, 'MAG_50_SATTM_6_FLPOP_CO': 294.0, 'MAG_50_SUNTM_1_FLPOP_CO': 514.0, 'MAG_50_SUNTM_2_FLPOP_CO': 460.0, 'MAG_50_SUNTM_3_FLPOP_CO': 250.0, 'MAG_50_SUNTM_4_FLPOP_CO': 240.0, 'MAG_50_SUNTM_5_FLPOP_CO': 304.0, 'MAG_50_SUNTM_6_FLPOP_CO': 226.0, 'MAG_60_ABOVE_MONTM_1_FLPOP_CO': 153.0, 'MAG_60_ABOVE_MONTM_2_FLPOP_CO': 202.0, 'MAG_60_ABOVE_MONTM_3_FLPOP_CO': 165.0, 'MAG_60_ABOVE_MONTM_4_FLPOP_CO': 134.0, 'MAG_60_ABOVE_MONTM_5_FLPOP_CO': 153.0, 'MAG_60_ABOVE_MONTM_6_FLPOP_CO': 95.0, 'MAG_60_ABOVE_TUETM_1_FLPOP_CO': 153.0, 'MAG_60_ABOVE_TUETM_2_FLPOP_CO': 183.0, 'MAG_60_ABOVE_TUETM_3_FLPOP_CO': 165.0, 'MAG_60_ABOVE_TUETM_4_FLPOP_CO': 145.0, 'MAG_60_ABOVE_TUETM_5_FLPOP_CO': 153.0, 'MAG_60_ABOVE_TUETM_6_FLPOP_CO': 76.0, 'MAG_60_ABOVE_WEDTM_1_FLPOP_CO': 288.0, 'MAG_60_ABOVE_WEDTM_2_FLPOP_CO': 290.0, 'MAG_60_ABOVE_WEDTM_3_FLPOP_CO': 190.0, 'MAG_60_ABOVE_WEDTM_4_FLPOP_CO': 165.0, 'MAG_60_ABOVE_WEDTM_5_FLPOP_CO': 211.0, 'MAG_60_ABOVE_WEDTM_6_FLPOP_CO': 145.0, 'MAG_60_ABOVE_THUTM_1_FLPOP_CO': 289.0, 'MAG_60_ABOVE_THUTM_2_FLPOP_CO': 274.0, 'MAG_60_ABOVE_THUTM_3_FLPOP_CO': 184.0, 'MAG_60_ABOVE_THUTM_4_FLPOP_CO': 159.0, 'MAG_60_ABOVE_THUTM_5_FLPOP_CO': 204.0, 'MAG_60_ABOVE_THUTM_6_FLPOP_CO': 126.0, 'MAG_60_ABOVE_FRITM_1_FLPOP_CO': 231.0, 'MAG_60_ABOVE_FRITM_2_FLPOP_CO': 264.0, 'MAG_60_ABOVE_FRITM_3_FLPOP_CO': 165.0, 'MAG_60_ABOVE_FRITM_4_FLPOP_CO': 163.0, 'MAG_60_ABOVE_FRITM_5_FLPOP_CO': 172.0, 'MAG_60_ABOVE_FRITM_6_FLPOP_CO': 115.0, 'MAG_60_ABOVE_SATTM_1_FLPOP_CO': 227.0, 'MAG_60_ABOVE_SATTM_2_FLPOP_CO': 258.0, 'MAG_60_ABOVE_SATTM_3_FLPOP_CO': 144.0, 'MAG_60_ABOVE_SATTM_4_FLPOP_CO': 152.0, 'MAG_60_ABOVE_SATTM_5_FLPOP_CO': 226.0, 'MAG_60_ABOVE_SATTM_6_FLPOP_CO': 132.0, 'MAG_60_ABOVE_SUNTM_1_FLPOP_CO': 227.0, 'MAG_60_ABOVE_SUNTM_2_FLPOP_CO': 210.0, 'MAG_60_ABOVE_SUNTM_3_FLPOP_CO': 155.0, 'MAG_60_ABOVE_SUNTM_4_FLPOP_CO': 151.0, 'MAG_60_ABOVE_SUNTM_5_FLPOP_CO': 208.0, 'MAG_60_ABOVE_SUNTM_6_FLPOP_CO': 76.0, 'FAG_10_MONTM_1_FLPOP_CO': 0.0, 'FAG_10_MONTM_2_FLPOP_CO': 0.0, 'FAG_10_MONTM_3_FLPOP_CO': 0.0, 'FAG_10_MONTM_4_FLPOP_CO': 18.0, 'FAG_10_MONTM_5_FLPOP_CO': 18.0, 'FAG_10_MONTM_6_FLPOP_CO': 0.0, 'FAG_10_TUETM_1_FLPOP_CO': 0.0, 'FAG_10_TUETM_2_FLPOP_CO': 0.0, 'FAG_10_TUETM_3_FLPOP_CO': 0.0, 'FAG_10_TUETM_4_FLPOP_CO': 0.0, 'FAG_10_TUETM_5_FLPOP_CO': 30.0, 'FAG_10_TUETM_6_FLPOP_CO': 0.0, 'FAG_10_WEDTM_1_FLPOP_CO': 0.0, 'FAG_10_WEDTM_2_FLPOP_CO': 0.0, 'FAG_10_WEDTM_3_FLPOP_CO': 18.0, 'FAG_10_WEDTM_4_FLPOP_CO': 30.0, 'FAG_10_WEDTM_5_FLPOP_CO': 35.0, 'FAG_10_WEDTM_6_FLPOP_CO': 17.0, 'FAG_10_THUTM_1_FLPOP_CO': 0.0, 'FAG_10_THUTM_2_FLPOP_CO': 0.0, 'FAG_10_THUTM_3_FLPOP_CO': 10.0, 'FAG_10_THUTM_4_FLPOP_CO': 30.0, 'FAG_10_THUTM_5_FLPOP_CO': 30.0, 'FAG_10_THUTM_6_FLPOP_CO': 0.0, 'FAG_10_FRITM_1_FLPOP_CO': 0.0, 'FAG_10_FRITM_2_FLPOP_CO': 0.0, 'FAG_10_FRITM_3_FLPOP_CO': 0.0, 'FAG_10_FRITM_4_FLPOP_CO': 30.0, 'FAG_10_FRITM_5_FLPOP_CO': 18.0, 'FAG_10_FRITM_6_FLPOP_CO': 0.0, 'FAG_10_SATTM_1_FLPOP_CO': 0.0, 'FAG_10_SATTM_2_FLPOP_CO': 0.0, 'FAG_10_SATTM_3_FLPOP_CO': 0.0, 'FAG_10_SATTM_4_FLPOP_CO': 0.0, 'FAG_10_SATTM_5_FLPOP_CO': 0.0, 'FAG_10_SATTM_6_FLPOP_CO': 0.0, 'FAG_10_SUNTM_1_FLPOP_CO': 0.0, 'FAG_10_SUNTM_2_FLPOP_CO': 17.0, 'FAG_10_SUNTM_3_FLPOP_CO': 17.0, 'FAG_10_SUNTM_4_FLPOP_CO': 0.0, 'FAG_10_SUNTM_5_FLPOP_CO': 0.0, 'FAG_10_SUNTM_6_FLPOP_CO': 0.0, 'FAG_20_MONTM_1_FLPOP_CO': 346.0, 'FAG_20_MONTM_2_FLPOP_CO': 153.0, 'FAG_20_MONTM_3_FLPOP_CO': 105.0, 'FAG_20_MONTM_4_FLPOP_CO': 95.0, 'FAG_20_MONTM_5_FLPOP_CO': 194.0, 'FAG_20_MONTM_6_FLPOP_CO': 194.0, 'FAG_20_TUETM_1_FLPOP_CO': 240.0, 'FAG_20_TUETM_2_FLPOP_CO': 210.0, 'FAG_20_TUETM_3_FLPOP_CO': 95.0, 'FAG_20_TUETM_4_FLPOP_CO': 126.0, 'FAG_20_TUETM_5_FLPOP_CO': 174.0, 'FAG_20_TUETM_6_FLPOP_CO': 210.0, 'FAG_20_WEDTM_1_FLPOP_CO': 464.0, 'FAG_20_WEDTM_2_FLPOP_CO': 318.0, 'FAG_20_WEDTM_3_FLPOP_CO': 145.0, 'FAG_20_WEDTM_4_FLPOP_CO': 126.0, 'FAG_20_WEDTM_5_FLPOP_CO': 203.0, 'FAG_20_WEDTM_6_FLPOP_CO': 202.0, 'FAG_20_THUTM_1_FLPOP_CO': 416.0, 'FAG_20_THUTM_2_FLPOP_CO': 298.0, 'FAG_20_THUTM_3_FLPOP_CO': 134.0, 'FAG_20_THUTM_4_FLPOP_CO': 134.0, 'FAG_20_THUTM_5_FLPOP_CO': 213.0, 'FAG_20_THUTM_6_FLPOP_CO': 166.0, 'FAG_20_FRITM_1_FLPOP_CO': 454.0, 'FAG_20_FRITM_2_FLPOP_CO': 309.0, 'FAG_20_FRITM_3_FLPOP_CO': 153.0, 'FAG_20_FRITM_4_FLPOP_CO': 135.0, 'FAG_20_FRITM_5_FLPOP_CO': 220.0, 'FAG_20_FRITM_6_FLPOP_CO': 174.0, 'FAG_20_SATTM_1_FLPOP_CO': 399.0, 'FAG_20_SATTM_2_FLPOP_CO': 389.0, 'FAG_20_SATTM_3_FLPOP_CO': 266.0, 'FAG_20_SATTM_4_FLPOP_CO': 248.0, 'FAG_20_SATTM_5_FLPOP_CO': 266.0, 'FAG_20_SATTM_6_FLPOP_CO': 162.0, 'FAG_20_SUNTM_1_FLPOP_CO': 317.0, 'FAG_20_SUNTM_2_FLPOP_CO': 306.0, 'FAG_20_SUNTM_3_FLPOP_CO': 185.0, 'FAG_20_SUNTM_4_FLPOP_CO': 221.0, 'FAG_20_SUNTM_5_FLPOP_CO': 314.0, 'FAG_20_SUNTM_6_FLPOP_CO': 201.0, 'FAG_30_MONTM_1_FLPOP_CO': 250.0, 'FAG_30_MONTM_2_FLPOP_CO': 264.0, 'FAG_30_MONTM_3_FLPOP_CO': 194.0, 'FAG_30_MONTM_4_FLPOP_CO': 212.0, 'FAG_30_MONTM_5_FLPOP_CO': 316.0, 'FAG_30_MONTM_6_FLPOP_CO': 134.0, 'FAG_30_TUETM_1_FLPOP_CO': 231.0, 'FAG_30_TUETM_2_FLPOP_CO': 321.0, 'FAG_30_TUETM_3_FLPOP_CO': 157.0, 'FAG_30_TUETM_4_FLPOP_CO': 165.0, 'FAG_30_TUETM_5_FLPOP_CO': 280.0, 'FAG_30_TUETM_6_FLPOP_CO': 163.0, 'FAG_30_WEDTM_1_FLPOP_CO': 288.0, 'FAG_30_WEDTM_2_FLPOP_CO': 331.0, 'FAG_30_WEDTM_3_FLPOP_CO': 193.0, 'FAG_30_WEDTM_4_FLPOP_CO': 212.0, 'FAG_30_WEDTM_5_FLPOP_CO': 250.0, 'FAG_30_WEDTM_6_FLPOP_CO': 184.0, 'FAG_30_THUTM_1_FLPOP_CO': 288.0, 'FAG_30_THUTM_2_FLPOP_CO': 282.0, 'FAG_30_THUTM_3_FLPOP_CO': 193.0, 'FAG_30_THUTM_4_FLPOP_CO': 196.0, 'FAG_30_THUTM_5_FLPOP_CO': 330.0, 'FAG_30_THUTM_6_FLPOP_CO': 194.0, 'FAG_30_FRITM_1_FLPOP_CO': 250.0, 'FAG_30_FRITM_2_FLPOP_CO': 310.0, 'FAG_30_FRITM_3_FLPOP_CO': 250.0, 'FAG_30_FRITM_4_FLPOP_CO': 310.0, 'FAG_30_FRITM_5_FLPOP_CO': 339.0, 'FAG_30_FRITM_6_FLPOP_CO': 202.0, 'FAG_30_SATTM_1_FLPOP_CO': 377.0, 'FAG_30_SATTM_2_FLPOP_CO': 477.0, 'FAG_30_SATTM_3_FLPOP_CO': 315.0, 'FAG_30_SATTM_4_FLPOP_CO': 324.0, 'FAG_30_SATTM_5_FLPOP_CO': 408.0, 'FAG_30_SATTM_6_FLPOP_CO': 290.0, 'FAG_30_SUNTM_1_FLPOP_CO': 374.0, 'FAG_30_SUNTM_2_FLPOP_CO': 413.0, 'FAG_30_SUNTM_3_FLPOP_CO': 289.0, 'FAG_30_SUNTM_4_FLPOP_CO': 288.0, 'FAG_30_SUNTM_5_FLPOP_CO': 384.0, 'FAG_30_SUNTM_6_FLPOP_CO': 152.0, 'FAG_40_MONTM_1_FLPOP_CO': 439.0, 'FAG_40_MONTM_2_FLPOP_CO': 425.0, 'FAG_40_MONTM_3_FLPOP_CO': 250.0, 'FAG_40_MONTM_4_FLPOP_CO': 278.0, 'FAG_40_MONTM_5_FLPOP_CO': 385.0, 'FAG_40_MONTM_6_FLPOP_CO': 201.0, 'FAG_40_TUETM_1_FLPOP_CO': 381.0, 'FAG_40_TUETM_2_FLPOP_CO': 398.0, 'FAG_40_TUETM_3_FLPOP_CO': 229.0, 'FAG_40_TUETM_4_FLPOP_CO': 268.0, 'FAG_40_TUETM_5_FLPOP_CO': 385.0, 'FAG_40_TUETM_6_FLPOP_CO': 229.0, 'FAG_40_WEDTM_1_FLPOP_CO': 355.0, 'FAG_40_WEDTM_2_FLPOP_CO': 437.0, 'FAG_40_WEDTM_3_FLPOP_CO': 266.0, 'FAG_40_WEDTM_4_FLPOP_CO': 269.0, 'FAG_40_WEDTM_5_FLPOP_CO': 368.0, 'FAG_40_WEDTM_6_FLPOP_CO': 204.0, 'FAG_40_THUTM_1_FLPOP_CO': 405.0, 'FAG_40_THUTM_2_FLPOP_CO': 388.0, 'FAG_40_THUTM_3_FLPOP_CO': 230.0, 'FAG_40_THUTM_4_FLPOP_CO': 325.0, 'FAG_40_THUTM_5_FLPOP_CO': 390.0, 'FAG_40_THUTM_6_FLPOP_CO': 233.0, 'FAG_40_FRITM_1_FLPOP_CO': 288.0, 'FAG_40_FRITM_2_FLPOP_CO': 396.0, 'FAG_40_FRITM_3_FLPOP_CO': 268.0, 'FAG_40_FRITM_4_FLPOP_CO': 310.0, 'FAG_40_FRITM_5_FLPOP_CO': 375.0, 'FAG_40_FRITM_6_FLPOP_CO': 241.0, 'FAG_40_SATTM_1_FLPOP_CO': 416.0, 'FAG_40_SATTM_2_FLPOP_CO': 467.0, 'FAG_40_SATTM_3_FLPOP_CO': 335.0, 'FAG_40_SATTM_4_FLPOP_CO': 315.0, 'FAG_40_SATTM_5_FLPOP_CO': 389.0, 'FAG_40_SATTM_6_FLPOP_CO': 240.0, 'FAG_40_SUNTM_1_FLPOP_CO': 417.0, 'FAG_40_SUNTM_2_FLPOP_CO': 362.0, 'FAG_40_SUNTM_3_FLPOP_CO': 281.0, 'FAG_40_SUNTM_4_FLPOP_CO': 288.0, 'FAG_40_SUNTM_5_FLPOP_CO': 363.0, 'FAG_40_SUNTM_6_FLPOP_CO': 237.0, 'FAG_50_MONTM_1_FLPOP_CO': 526.0, 'FAG_50_MONTM_2_FLPOP_CO': 520.0, 'FAG_50_MONTM_3_FLPOP_CO': 397.0, 'FAG_50_MONTM_4_FLPOP_CO': 403.0, 'FAG_50_MONTM_5_FLPOP_CO': 449.0, 'FAG_50_MONTM_6_FLPOP_CO': 288.0, 'FAG_50_TUETM_1_FLPOP_CO': 578.0, 'FAG_50_TUETM_2_FLPOP_CO': 532.0, 'FAG_50_TUETM_3_FLPOP_CO': 429.0, 'FAG_50_TUETM_4_FLPOP_CO': 402.0, 'FAG_50_TUETM_5_FLPOP_CO': 500.0, 'FAG_50_TUETM_6_FLPOP_CO': 278.0, 'FAG_50_WEDTM_1_FLPOP_CO': 647.0, 'FAG_50_WEDTM_2_FLPOP_CO': 600.0, 'FAG_50_WEDTM_3_FLPOP_CO': 409.0, 'FAG_50_WEDTM_4_FLPOP_CO': 387.0, 'FAG_50_WEDTM_5_FLPOP_CO': 486.0, 'FAG_50_WEDTM_6_FLPOP_CO': 354.0, 'FAG_50_THUTM_1_FLPOP_CO': 643.0, 'FAG_50_THUTM_2_FLPOP_CO': 603.0, 'FAG_50_THUTM_3_FLPOP_CO': 418.0, 'FAG_50_THUTM_4_FLPOP_CO': 405.0, 'FAG_50_THUTM_5_FLPOP_CO': 526.0, 'FAG_50_THUTM_6_FLPOP_CO': 348.0, 'FAG_50_FRITM_1_FLPOP_CO': 578.0, 'FAG_50_FRITM_2_FLPOP_CO': 543.0, 'FAG_50_FRITM_3_FLPOP_CO': 405.0, 'FAG_50_FRITM_4_FLPOP_CO': 402.0, 'FAG_50_FRITM_5_FLPOP_CO': 444.0, 'FAG_50_FRITM_6_FLPOP_CO': 346.0, 'FAG_50_SATTM_1_FLPOP_CO': 571.0, 'FAG_50_SATTM_2_FLPOP_CO': 553.0, 'FAG_50_SATTM_3_FLPOP_CO': 377.0, 'FAG_50_SATTM_4_FLPOP_CO': 361.0, 'FAG_50_SATTM_5_FLPOP_CO': 475.0, 'FAG_50_SATTM_6_FLPOP_CO': 296.0, 'FAG_50_SUNTM_1_FLPOP_CO': 573.0, 'FAG_50_SUNTM_2_FLPOP_CO': 481.0, 'FAG_50_SUNTM_3_FLPOP_CO': 385.0, 'FAG_50_SUNTM_4_FLPOP_CO': 383.0, 'FAG_50_SUNTM_5_FLPOP_CO': 440.0, 'FAG_50_SUNTM_6_FLPOP_CO': 284.0, 'FAG_60_ABOVE_MONTM_1_FLPOP_CO': 126.0, 'FAG_60_ABOVE_MONTM_2_FLPOP_CO': 298.0, 'FAG_60_ABOVE_MONTM_3_FLPOP_CO': 281.0, 'FAG_60_ABOVE_MONTM_4_FLPOP_CO': 251.0, 'FAG_60_ABOVE_MONTM_5_FLPOP_CO': 172.0, 'FAG_60_ABOVE_MONTM_6_FLPOP_CO': 58.0, 'FAG_60_ABOVE_TUETM_1_FLPOP_CO': 0.0, 'FAG_60_ABOVE_TUETM_2_FLPOP_CO': 281.0, 'FAG_60_ABOVE_TUETM_3_FLPOP_CO': 353.0, 'FAG_60_ABOVE_TUETM_4_FLPOP_CO': 258.0, 'FAG_60_ABOVE_TUETM_5_FLPOP_CO': 222.0, 'FAG_60_ABOVE_TUETM_6_FLPOP_CO': 58.0, 'FAG_60_ABOVE_WEDTM_1_FLPOP_CO': 250.0, 'FAG_60_ABOVE_WEDTM_2_FLPOP_CO': 349.0, 'FAG_60_ABOVE_WEDTM_3_FLPOP_CO': 361.0, 'FAG_60_ABOVE_WEDTM_4_FLPOP_CO': 281.0, 'FAG_60_ABOVE_WEDTM_5_FLPOP_CO': 272.0, 'FAG_60_ABOVE_WEDTM_6_FLPOP_CO': 145.0, 'FAG_60_ABOVE_THUTM_1_FLPOP_CO': 193.0, 'FAG_60_ABOVE_THUTM_2_FLPOP_CO': 351.0, 'FAG_60_ABOVE_THUTM_3_FLPOP_CO': 348.0, 'FAG_60_ABOVE_THUTM_4_FLPOP_CO': 293.0, 'FAG_60_ABOVE_THUTM_5_FLPOP_CO': 243.0, 'FAG_60_ABOVE_THUTM_6_FLPOP_CO': 145.0, 'FAG_60_ABOVE_FRITM_1_FLPOP_CO': 192.0, 'FAG_60_ABOVE_FRITM_2_FLPOP_CO': 309.0, 'FAG_60_ABOVE_FRITM_3_FLPOP_CO': 327.0, 'FAG_60_ABOVE_FRITM_4_FLPOP_CO': 273.0, 'FAG_60_ABOVE_FRITM_5_FLPOP_CO': 220.0, 'FAG_60_ABOVE_FRITM_6_FLPOP_CO': 126.0, 'FAG_60_ABOVE_SATTM_1_FLPOP_CO': 227.0, 'FAG_60_ABOVE_SATTM_2_FLPOP_CO': 289.0, 'FAG_60_ABOVE_SATTM_3_FLPOP_CO': 190.0, 'FAG_60_ABOVE_SATTM_4_FLPOP_CO': 175.0, 'FAG_60_ABOVE_SATTM_5_FLPOP_CO': 190.0, 'FAG_60_ABOVE_SATTM_6_FLPOP_CO': 114.0, 'FAG_60_ABOVE_SUNTM_1_FLPOP_CO': 151.0, 'FAG_60_ABOVE_SUNTM_2_FLPOP_CO': 211.0, 'FAG_60_ABOVE_SUNTM_3_FLPOP_CO': 176.0, 'FAG_60_ABOVE_SUNTM_4_FLPOP_CO': 190.0, 'FAG_60_ABOVE_SUNTM_5_FLPOP_CO': 151.0, 'FAG_60_ABOVE_SUNTM_6_FLPOP_CO': 76.0}, {'STDR_YY_CD': '2017', 'STDR_QU_CD': '1', 'TRDAR_SE_CD': 'A', 'TRDAR_SE_CD_NM': '골목상권', 'TRDAR_CD': '1000684', 'TRDAR_CD_NM': '경인로77길', 'TOT_FLPOP_CO': 88535.0, 'ML_FLPOP_CO': 56169.0, 'FML_FLPOP_CO': 32361.0, 'AGRDE_10_FLPOP_CO': 434.0, 'AGRDE_20_FLPOP_CO': 16184.0, 'AGRDE_30_FLPOP_CO': 22543.0, 'AGRDE_40_FLPOP_CO': 20351.0, 'AGRDE_50_FLPOP_CO': 18677.0, 'AGRDE_60_ABOVE_FLPOP_CO': 10348.0, 'TMZON_1_FLPOP_CO': 5760.0, 'TMZON_2_FLPOP_CO': 17701.0, 'TMZON_3_FLPOP_CO': 20096.0, 'TMZON_4_FLPOP_CO': 19330.0, 'TMZON_5_FLPOP_CO': 19022.0, 'TMZON_6_FLPOP_CO': 6626.0, 'MON_FLPOP_CO': 13459.0, 'TUES_FLPOP_CO': 13978.0, 'WED_FLPOP_CO': 15560.0, 'THUR_FLPOP_CO': 15604.0, 'FRI_FLPOP_CO': 14299.0, 'SAT_FLPOP_CO': 9878.0, 'SUN_FLPOP_CO': 5756.0, 'MAG_10_MONTM_1_FLPOP_CO': 0.0, 'MAG_10_MONTM_2_FLPOP_CO': 6.0, 'MAG_10_MONTM_3_FLPOP_CO': 7.0, 'MAG_10_MONTM_4_FLPOP_CO': 1.0, 'MAG_10_MONTM_5_FLPOP_CO': 1.0, 'MAG_10_MONTM_6_FLPOP_CO': 0.0, 'MAG_10_TUETM_1_FLPOP_CO': 0.0, 'MAG_10_TUETM_2_FLPOP_CO': 7.0, 'MAG_10_TUETM_3_FLPOP_CO': 9.0, 'MAG_10_TUETM_4_FLPOP_CO': 1.0, 'MAG_10_TUETM_5_FLPOP_CO': 1.0, 'MAG_10_TUETM_6_FLPOP_CO': 1.0, 'MAG_10_WEDTM_1_FLPOP_CO': 0.0, 'MAG_10_WEDTM_2_FLPOP_CO': 6.0, 'MAG_10_WEDTM_3_FLPOP_CO': 9.0, 'MAG_10_WEDTM_4_FLPOP_CO': 1.0, 'MAG_10_WEDTM_5_FLPOP_CO': 1.0, 'MAG_10_WEDTM_6_FLPOP_CO': 1.0, 'MAG_10_THUTM_1_FLPOP_CO': 2.0, 'MAG_10_THUTM_2_FLPOP_CO': 6.0, 'MAG_10_THUTM_3_FLPOP_CO': 11.0, 'MAG_10_THUTM_4_FLPOP_CO': 1.0, 'MAG_10_THUTM_5_FLPOP_CO': 1.0, 'MAG_10_THUTM_6_FLPOP_CO': 0.0, 'MAG_10_FRITM_1_FLPOP_CO': 0.0, 'MAG_10_FRITM_2_FLPOP_CO': 6.0, 'MAG_10_FRITM_3_FLPOP_CO': 8.0, 'MAG_10_FRITM_4_FLPOP_CO': 1.0, 'MAG_10_FRITM_5_FLPOP_CO': 1.0, 'MAG_10_FRITM_6_FLPOP_CO': 0.0, 'MAG_10_SATTM_1_FLPOP_CO': 0.0, 'MAG_10_SATTM_2_FLPOP_CO': 0.0, 'MAG_10_SATTM_3_FLPOP_CO': 0.0, 'MAG_10_SATTM_4_FLPOP_CO': 1.0, 'MAG_10_SATTM_5_FLPOP_CO': 1.0, 'MAG_10_SATTM_6_FLPOP_CO': 0.0, 'MAG_10_SUNTM_1_FLPOP_CO': 0.0, 'MAG_10_SUNTM_2_FLPOP_CO': 0.0, 'MAG_10_SUNTM_3_FLPOP_CO': 3.0, 'MAG_10_SUNTM_4_FLPOP_CO': 1.0, 'MAG_10_SUNTM_5_FLPOP_CO': 2.0, 'MAG_10_SUNTM_6_FLPOP_CO': 0.0, 'MAG_20_MONTM_1_FLPOP_CO': 43.0, 'MAG_20_MONTM_2_FLPOP_CO': 220.0, 'MAG_20_MONTM_3_FLPOP_CO': 274.0, 'MAG_20_MONTM_4_FLPOP_CO': 268.0, 'MAG_20_MONTM_5_FLPOP_CO': 322.0, 'MAG_20_MONTM_6_FLPOP_CO': 82.0, 'MAG_20_TUETM_1_FLPOP_CO': 15.0, 'MAG_20_TUETM_2_FLPOP_CO': 227.0, 'MAG_20_TUETM_3_FLPOP_CO': 291.0, 'MAG_20_TUETM_4_FLPOP_CO': 287.0, 'MAG_20_TUETM_5_FLPOP_CO': 304.0, 'MAG_20_TUETM_6_FLPOP_CO': 87.0, 'MAG_20_WEDTM_1_FLPOP_CO': 64.0, 'MAG_20_WEDTM_2_FLPOP_CO': 263.0, 'MAG_20_WEDTM_3_FLPOP_CO': 315.0, 'MAG_20_WEDTM_4_FLPOP_CO': 307.0, 'MAG_20_WEDTM_5_FLPOP_CO': 337.0, 'MAG_20_WEDTM_6_FLPOP_CO': 107.0, 'MAG_20_THUTM_1_FLPOP_CO': 96.0, 'MAG_20_THUTM_2_FLPOP_CO': 272.0, 'MAG_20_THUTM_3_FLPOP_CO': 340.0, 'MAG_20_THUTM_4_FLPOP_CO': 296.0, 'MAG_20_THUTM_5_FLPOP_CO': 348.0, 'MAG_20_THUTM_6_FLPOP_CO': 88.0, 'MAG_20_FRITM_1_FLPOP_CO': 49.0, 'MAG_20_FRITM_2_FLPOP_CO': 213.0, 'MAG_20_FRITM_3_FLPOP_CO': 314.0, 'MAG_20_FRITM_4_FLPOP_CO': 278.0, 'MAG_20_FRITM_5_FLPOP_CO': 308.0, 'MAG_20_FRITM_6_FLPOP_CO': 136.0, 'MAG_20_SATTM_1_FLPOP_CO': 102.0, 'MAG_20_SATTM_2_FLPOP_CO': 136.0, 'MAG_20_SATTM_3_FLPOP_CO': 202.0, 'MAG_20_SATTM_4_FLPOP_CO': 197.0, 'MAG_20_SATTM_5_FLPOP_CO': 210.0, 'MAG_20_SATTM_6_FLPOP_CO': 89.0, 'MAG_20_SUNTM_1_FLPOP_CO': 62.0, 'MAG_20_SUNTM_2_FLPOP_CO': 92.0, 'MAG_20_SUNTM_3_FLPOP_CO': 127.0, 'MAG_20_SUNTM_4_FLPOP_CO': 172.0, 'MAG_20_SUNTM_5_FLPOP_CO': 106.0, 'MAG_20_SUNTM_6_FLPOP_CO': 58.0, 'MAG_30_MONTM_1_FLPOP_CO': 169.0, 'MAG_30_MONTM_2_FLPOP_CO': 381.0, 'MAG_30_MONTM_3_FLPOP_CO': 444.0, 'MAG_30_MONTM_4_FLPOP_CO': 435.0, 'MAG_30_MONTM_5_FLPOP_CO': 526.0, 'MAG_30_MONTM_6_FLPOP_CO': 200.0, 'MAG_30_TUETM_1_FLPOP_CO': 173.0, 'MAG_30_TUETM_2_FLPOP_CO': 431.0, 'MAG_30_TUETM_3_FLPOP_CO': 441.0, 'MAG_30_TUETM_4_FLPOP_CO': 471.0, 'MAG_30_TUETM_5_FLPOP_CO': 456.0, 'MAG_30_TUETM_6_FLPOP_CO': 196.0, 'MAG_30_WEDTM_1_FLPOP_CO': 230.0, 'MAG_30_WEDTM_2_FLPOP_CO': 455.0, 'MAG_30_WEDTM_3_FLPOP_CO': 475.0, 'MAG_30_WEDTM_4_FLPOP_CO': 511.0, 'MAG_30_WEDTM_5_FLPOP_CO': 525.0, 'MAG_30_WEDTM_6_FLPOP_CO': 254.0, 'MAG_30_THUTM_1_FLPOP_CO': 211.0, 'MAG_30_THUTM_2_FLPOP_CO': 470.0, 'MAG_30_THUTM_3_FLPOP_CO': 488.0, 'MAG_30_THUTM_4_FLPOP_CO': 527.0, 'MAG_30_THUTM_5_FLPOP_CO': 483.0, 'MAG_30_THUTM_6_FLPOP_CO': 250.0, 'MAG_30_FRITM_1_FLPOP_CO': 201.0, 'MAG_30_FRITM_2_FLPOP_CO': 410.0, 'MAG_30_FRITM_3_FLPOP_CO': 411.0, 'MAG_30_FRITM_4_FLPOP_CO': 455.0, 'MAG_30_FRITM_5_FLPOP_CO': 507.0, 'MAG_30_FRITM_6_FLPOP_CO': 234.0, 'MAG_30_SATTM_1_FLPOP_CO': 195.0, 'MAG_30_SATTM_2_FLPOP_CO': 328.0, 'MAG_30_SATTM_3_FLPOP_CO': 285.0, 'MAG_30_SATTM_4_FLPOP_CO': 299.0, 'MAG_30_SATTM_5_FLPOP_CO': 397.0, 'MAG_30_SATTM_6_FLPOP_CO': 161.0, 'MAG_30_SUNTM_1_FLPOP_CO': 226.0, 'MAG_30_SUNTM_2_FLPOP_CO': 275.0, 'MAG_30_SUNTM_3_FLPOP_CO': 217.0, 'MAG_30_SUNTM_4_FLPOP_CO': 232.0, 'MAG_30_SUNTM_5_FLPOP_CO': 260.0, 'MAG_30_SUNTM_6_FLPOP_CO': 144.0, 'MAG_40_MONTM_1_FLPOP_CO': 42.0, 'MAG_40_MONTM_2_FLPOP_CO': 480.0, 'MAG_40_MONTM_3_FLPOP_CO': 518.0, 'MAG_40_MONTM_4_FLPOP_CO': 468.0, 'MAG_40_MONTM_5_FLPOP_CO': 576.0, 'MAG_40_MONTM_6_FLPOP_CO': 146.0, 'MAG_40_TUETM_1_FLPOP_CO': 70.0, 'MAG_40_TUETM_2_FLPOP_CO': 519.0, 'MAG_40_TUETM_3_FLPOP_CO': 517.0, 'MAG_40_TUETM_4_FLPOP_CO': 498.0, 'MAG_40_TUETM_5_FLPOP_CO': 573.0, 'MAG_40_TUETM_6_FLPOP_CO': 163.0, 'MAG_40_WEDTM_1_FLPOP_CO': 113.0, 'MAG_40_WEDTM_2_FLPOP_CO': 552.0, 'MAG_40_WEDTM_3_FLPOP_CO': 523.0, 'MAG_40_WEDTM_4_FLPOP_CO': 545.0, 'MAG_40_WEDTM_5_FLPOP_CO': 615.0, 'MAG_40_WEDTM_6_FLPOP_CO': 175.0, 'MAG_40_THUTM_1_FLPOP_CO': 109.0, 'MAG_40_THUTM_2_FLPOP_CO': 524.0, 'MAG_40_THUTM_3_FLPOP_CO': 525.0, 'MAG_40_THUTM_4_FLPOP_CO': 514.0, 'MAG_40_THUTM_5_FLPOP_CO': 592.0, 'MAG_40_THUTM_6_FLPOP_CO': 147.0, 'MAG_40_FRITM_1_FLPOP_CO': 106.0, 'MAG_40_FRITM_2_FLPOP_CO': 480.0, 'MAG_40_FRITM_3_FLPOP_CO': 486.0, 'MAG_40_FRITM_4_FLPOP_CO': 441.0, 'MAG_40_FRITM_5_FLPOP_CO': 520.0, 'MAG_40_FRITM_6_FLPOP_CO': 165.0, 'MAG_40_SATTM_1_FLPOP_CO': 182.0, 'MAG_40_SATTM_2_FLPOP_CO': 327.0, 'MAG_40_SATTM_3_FLPOP_CO': 265.0, 'MAG_40_SATTM_4_FLPOP_CO': 260.0, 'MAG_40_SATTM_5_FLPOP_CO': 270.0, 'MAG_40_SATTM_6_FLPOP_CO': 146.0, 'MAG_40_SUNTM_1_FLPOP_CO': 100.0, 'MAG_40_SUNTM_2_FLPOP_CO': 149.0, 'MAG_40_SUNTM_3_FLPOP_CO': 167.0, 'MAG_40_SUNTM_4_FLPOP_CO': 178.0, 'MAG_40_SUNTM_5_FLPOP_CO': 125.0, 'MAG_40_SUNTM_6_FLPOP_CO': 49.0, 'MAG_50_MONTM_1_FLPOP_CO': 14.0, 'MAG_50_MONTM_2_FLPOP_CO': 330.0, 'MAG_50_MONTM_3_FLPOP_CO': 492.0, 'MAG_50_MONTM_4_FLPOP_CO': 418.0, 'MAG_50_MONTM_5_FLPOP_CO': 378.0, 'MAG_50_MONTM_6_FLPOP_CO': 74.0, 'MAG_50_TUETM_1_FLPOP_CO': 40.0, 'MAG_50_TUETM_2_FLPOP_CO': 360.0, 'MAG_50_TUETM_3_FLPOP_CO': 509.0, 'MAG_50_TUETM_4_FLPOP_CO': 473.0, 'MAG_50_TUETM_5_FLPOP_CO': 458.0, 'MAG_50_TUETM_6_FLPOP_CO': 103.0, 'MAG_50_WEDTM_1_FLPOP_CO': 64.0, 'MAG_50_WEDTM_2_FLPOP_CO': 388.0, 'MAG_50_WEDTM_3_FLPOP_CO': 546.0, 'MAG_50_WEDTM_4_FLPOP_CO': 503.0, 'MAG_50_WEDTM_5_FLPOP_CO': 477.0, 'MAG_50_WEDTM_6_FLPOP_CO': 152.0, 'MAG_50_THUTM_1_FLPOP_CO': 62.0, 'MAG_50_THUTM_2_FLPOP_CO': 400.0, 'MAG_50_THUTM_3_FLPOP_CO': 542.0, 'MAG_50_THUTM_4_FLPOP_CO': 528.0, 'MAG_50_THUTM_5_FLPOP_CO': 457.0, 'MAG_50_THUTM_6_FLPOP_CO': 129.0, 'MAG_50_FRITM_1_FLPOP_CO': 70.0, 'MAG_50_FRITM_2_FLPOP_CO': 374.0, 'MAG_50_FRITM_3_FLPOP_CO': 521.0, 'MAG_50_FRITM_4_FLPOP_CO': 449.0, 'MAG_50_FRITM_5_FLPOP_CO': 495.0, 'MAG_50_FRITM_6_FLPOP_CO': 157.0, 'MAG_50_SATTM_1_FLPOP_CO': 45.0, 'MAG_50_SATTM_2_FLPOP_CO': 282.0, 'MAG_50_SATTM_3_FLPOP_CO': 327.0, 'MAG_50_SATTM_4_FLPOP_CO': 324.0, 'MAG_50_SATTM_5_FLPOP_CO': 309.0, 'MAG_50_SATTM_6_FLPOP_CO': 111.0, 'MAG_50_SUNTM_1_FLPOP_CO': 45.0, 'MAG_50_SUNTM_2_FLPOP_CO': 143.0, 'MAG_50_SUNTM_3_FLPOP_CO': 179.0, 'MAG_50_SUNTM_4_FLPOP_CO': 178.0, 'MAG_50_SUNTM_5_FLPOP_CO': 85.0, 'MAG_50_SUNTM_6_FLPOP_CO': 30.0, 'MAG_60_ABOVE_MONTM_1_FLPOP_CO': 12.0, 'MAG_60_ABOVE_MONTM_2_FLPOP_CO': 291.0, 'MAG_60_ABOVE_MONTM_3_FLPOP_CO': 320.0, 'MAG_60_ABOVE_MONTM_4_FLPOP_CO': 277.0, 'MAG_60_ABOVE_MONTM_5_FLPOP_CO': 256.0, 'MAG_60_ABOVE_MONTM_6_FLPOP_CO': 64.0, 'MAG_60_ABOVE_TUETM_1_FLPOP_CO': 5.0, 'MAG_60_ABOVE_TUETM_2_FLPOP_CO': 250.0, 'MAG_60_ABOVE_TUETM_3_FLPOP_CO': 333.0, 'MAG_60_ABOVE_TUETM_4_FLPOP_CO': 257.0, 'MAG_60_ABOVE_TUETM_5_FLPOP_CO': 247.0, 'MAG_60_ABOVE_TUETM_6_FLPOP_CO': 73.0, 'MAG_60_ABOVE_WEDTM_1_FLPOP_CO': 50.0, 'MAG_60_ABOVE_WEDTM_2_FLPOP_CO': 362.0, 'MAG_60_ABOVE_WEDTM_3_FLPOP_CO': 362.0, 'MAG_60_ABOVE_WEDTM_4_FLPOP_CO': 305.0, 'MAG_60_ABOVE_WEDTM_5_FLPOP_CO': 255.0, 'MAG_60_ABOVE_WEDTM_6_FLPOP_CO': 73.0, 'MAG_60_ABOVE_THUTM_1_FLPOP_CO': 47.0, 'MAG_60_ABOVE_THUTM_2_FLPOP_CO': 330.0, 'MAG_60_ABOVE_THUTM_3_FLPOP_CO': 329.0, 'MAG_60_ABOVE_THUTM_4_FLPOP_CO': 309.0, 'MAG_60_ABOVE_THUTM_5_FLPOP_CO': 247.0, 'MAG_60_ABOVE_THUTM_6_FLPOP_CO': 84.0, 'MAG_60_ABOVE_FRITM_1_FLPOP_CO': 33.0, 'MAG_60_ABOVE_FRITM_2_FLPOP_CO': 302.0, 'MAG_60_ABOVE_FRITM_3_FLPOP_CO': 293.0, 'MAG_60_ABOVE_FRITM_4_FLPOP_CO': 294.0, 'MAG_60_ABOVE_FRITM_5_FLPOP_CO': 254.0, 'MAG_60_ABOVE_FRITM_6_FLPOP_CO': 80.0, 'MAG_60_ABOVE_SATTM_1_FLPOP_CO': 46.0, 'MAG_60_ABOVE_SATTM_2_FLPOP_CO': 232.0, 'MAG_60_ABOVE_SATTM_3_FLPOP_CO': 193.0, 'MAG_60_ABOVE_SATTM_4_FLPOP_CO': 185.0, 'MAG_60_ABOVE_SATTM_5_FLPOP_CO': 196.0, 'MAG_60_ABOVE_SATTM_6_FLPOP_CO': 41.0, 'MAG_60_ABOVE_SUNTM_1_FLPOP_CO': 26.0, 'MAG_60_ABOVE_SUNTM_2_FLPOP_CO': 84.0, 'MAG_60_ABOVE_SUNTM_3_FLPOP_CO': 74.0, 'MAG_60_ABOVE_SUNTM_4_FLPOP_CO': 63.0, 'MAG_60_ABOVE_SUNTM_5_FLPOP_CO': 54.0, 'MAG_60_ABOVE_SUNTM_6_FLPOP_CO': 24.0, 'FAG_10_MONTM_1_FLPOP_CO': 0.0, 'FAG_10_MONTM_2_FLPOP_CO': 7.0, 'FAG_10_MONTM_3_FLPOP_CO': 21.0, 'FAG_10_MONTM_4_FLPOP_CO': 1.0, 'FAG_10_MONTM_5_FLPOP_CO': 0.0, 'FAG_10_MONTM_6_FLPOP_CO': 0.0, 'FAG_10_TUETM_1_FLPOP_CO': 0.0, 'FAG_10_TUETM_2_FLPOP_CO': 8.0, 'FAG_10_TUETM_3_FLPOP_CO': 24.0, 'FAG_10_TUETM_4_FLPOP_CO': 1.0, 'FAG_10_TUETM_5_FLPOP_CO': 0.0, 'FAG_10_TUETM_6_FLPOP_CO': 0.0, 'FAG_10_WEDTM_1_FLPOP_CO': 0.0, 'FAG_10_WEDTM_2_FLPOP_CO': 8.0, 'FAG_10_WEDTM_3_FLPOP_CO': 13.0, 'FAG_10_WEDTM_4_FLPOP_CO': 0.0, 'FAG_10_WEDTM_5_FLPOP_CO': 0.0, 'FAG_10_WEDTM_6_FLPOP_CO': 0.0, 'FAG_10_THUTM_1_FLPOP_CO': 0.0, 'FAG_10_THUTM_2_FLPOP_CO': 8.0, 'FAG_10_THUTM_3_FLPOP_CO': 12.0, 'FAG_10_THUTM_4_FLPOP_CO': 0.0, 'FAG_10_THUTM_5_FLPOP_CO': 7.0, 'FAG_10_THUTM_6_FLPOP_CO': 0.0, 'FAG_10_FRITM_1_FLPOP_CO': 0.0, 'FAG_10_FRITM_2_FLPOP_CO': 6.0, 'FAG_10_FRITM_3_FLPOP_CO': 11.0, 'FAG_10_FRITM_4_FLPOP_CO': 0.0, 'FAG_10_FRITM_5_FLPOP_CO': 0.0, 'FAG_10_FRITM_6_FLPOP_CO': 0.0, 'FAG_10_SATTM_1_FLPOP_CO': 0.0, 'FAG_10_SATTM_2_FLPOP_CO': 2.0, 'FAG_10_SATTM_3_FLPOP_CO': 105.0, 'FAG_10_SATTM_4_FLPOP_CO': 75.0, 'FAG_10_SATTM_5_FLPOP_CO': 2.0, 'FAG_10_SATTM_6_FLPOP_CO': 0.0, 'FAG_10_SUNTM_1_FLPOP_CO': 0.0, 'FAG_10_SUNTM_2_FLPOP_CO': 0.0, 'FAG_10_SUNTM_3_FLPOP_CO': 2.0, 'FAG_10_SUNTM_4_FLPOP_CO': 1.0, 'FAG_10_SUNTM_5_FLPOP_CO': 0.0, 'FAG_10_SUNTM_6_FLPOP_CO': 0.0, 'FAG_20_MONTM_1_FLPOP_CO': 88.0, 'FAG_20_MONTM_2_FLPOP_CO': 248.0, 'FAG_20_MONTM_3_FLPOP_CO': 269.0, 'FAG_20_MONTM_4_FLPOP_CO': 274.0, 'FAG_20_MONTM_5_FLPOP_CO': 294.0, 'FAG_20_MONTM_6_FLPOP_CO': 87.0, 'FAG_20_TUETM_1_FLPOP_CO': 112.0, 'FAG_20_TUETM_2_FLPOP_CO': 254.0, 'FAG_20_TUETM_3_FLPOP_CO': 270.0, 'FAG_20_TUETM_4_FLPOP_CO': 280.0, 'FAG_20_TUETM_5_FLPOP_CO': 265.0, 'FAG_20_TUETM_6_FLPOP_CO': 91.0, 'FAG_20_WEDTM_1_FLPOP_CO': 111.0, 'FAG_20_WEDTM_2_FLPOP_CO': 285.0, 'FAG_20_WEDTM_3_FLPOP_CO': 301.0, 'FAG_20_WEDTM_4_FLPOP_CO': 303.0, 'FAG_20_WEDTM_5_FLPOP_CO': 272.0, 'FAG_20_WEDTM_6_FLPOP_CO': 95.0, 'FAG_20_THUTM_1_FLPOP_CO': 111.0, 'FAG_20_THUTM_2_FLPOP_CO': 274.0, 'FAG_20_THUTM_3_FLPOP_CO': 264.0, 'FAG_20_THUTM_4_FLPOP_CO': 279.0, 'FAG_20_THUTM_5_FLPOP_CO': 254.0, 'FAG_20_THUTM_6_FLPOP_CO': 113.0, 'FAG_20_FRITM_1_FLPOP_CO': 115.0, 'FAG_20_FRITM_2_FLPOP_CO': 264.0, 'FAG_20_FRITM_3_FLPOP_CO': 291.0, 'FAG_20_FRITM_4_FLPOP_CO': 282.0, 'FAG_20_FRITM_5_FLPOP_CO': 306.0, 'FAG_20_FRITM_6_FLPOP_CO': 128.0, 'FAG_20_SATTM_1_FLPOP_CO': 121.0, 'FAG_20_SATTM_2_FLPOP_CO': 123.0, 'FAG_20_SATTM_3_FLPOP_CO': 202.0, 'FAG_20_SATTM_4_FLPOP_CO': 214.0, 'FAG_20_SATTM_5_FLPOP_CO': 157.0, 'FAG_20_SATTM_6_FLPOP_CO': 65.0, 'FAG_20_SUNTM_1_FLPOP_CO': 113.0, 'FAG_20_SUNTM_2_FLPOP_CO': 96.0, 'FAG_20_SUNTM_3_FLPOP_CO': 118.0, 'FAG_20_SUNTM_4_FLPOP_CO': 157.0, 'FAG_20_SUNTM_5_FLPOP_CO': 95.0, 'FAG_20_SUNTM_6_FLPOP_CO': 57.0, 'FAG_30_MONTM_1_FLPOP_CO': 115.0, 'FAG_30_MONTM_2_FLPOP_CO': 238.0, 'FAG_30_MONTM_3_FLPOP_CO': 254.0, 'FAG_30_MONTM_4_FLPOP_CO': 250.0, 'FAG_30_MONTM_5_FLPOP_CO': 216.0, 'FAG_30_MONTM_6_FLPOP_CO': 104.0, 'FAG_30_TUETM_1_FLPOP_CO': 141.0, 'FAG_30_TUETM_2_FLPOP_CO': 251.0, 'FAG_30_TUETM_3_FLPOP_CO': 248.0, 'FAG_30_TUETM_4_FLPOP_CO': 249.0, 'FAG_30_TUETM_5_FLPOP_CO': 214.0, 'FAG_30_TUETM_6_FLPOP_CO': 96.0, 'FAG_30_WEDTM_1_FLPOP_CO': 203.0, 'FAG_30_WEDTM_2_FLPOP_CO': 261.0, 'FAG_30_WEDTM_3_FLPOP_CO': 263.0, 'FAG_30_WEDTM_4_FLPOP_CO': 268.0, 'FAG_30_WEDTM_5_FLPOP_CO': 325.0, 'FAG_30_WEDTM_6_FLPOP_CO': 127.0, 'FAG_30_THUTM_1_FLPOP_CO': 199.0, 'FAG_30_THUTM_2_FLPOP_CO': 290.0, 'FAG_30_THUTM_3_FLPOP_CO': 254.0, 'FAG_30_THUTM_4_FLPOP_CO': 254.0, 'FAG_30_THUTM_5_FLPOP_CO': 322.0, 'FAG_30_THUTM_6_FLPOP_CO': 156.0, 'FAG_30_FRITM_1_FLPOP_CO': 141.0, 'FAG_30_FRITM_2_FLPOP_CO': 236.0, 'FAG_30_FRITM_3_FLPOP_CO': 263.0, 'FAG_30_FRITM_4_FLPOP_CO': 264.0, 'FAG_30_FRITM_5_FLPOP_CO': 240.0, 'FAG_30_FRITM_6_FLPOP_CO': 123.0, 'FAG_30_SATTM_1_FLPOP_CO': 118.0, 'FAG_30_SATTM_2_FLPOP_CO': 165.0, 'FAG_30_SATTM_3_FLPOP_CO': 183.0, 'FAG_30_SATTM_4_FLPOP_CO': 150.0, 'FAG_30_SATTM_5_FLPOP_CO': 147.0, 'FAG_30_SATTM_6_FLPOP_CO': 104.0, 'FAG_30_SUNTM_1_FLPOP_CO': 157.0, 'FAG_30_SUNTM_2_FLPOP_CO': 134.0, 'FAG_30_SUNTM_3_FLPOP_CO': 98.0, 'FAG_30_SUNTM_4_FLPOP_CO': 109.0, 'FAG_30_SUNTM_5_FLPOP_CO': 109.0, 'FAG_30_SUNTM_6_FLPOP_CO': 66.0, 'FAG_40_MONTM_1_FLPOP_CO': 47.0, 'FAG_40_MONTM_2_FLPOP_CO': 184.0, 'FAG_40_MONTM_3_FLPOP_CO': 251.0, 'FAG_40_MONTM_4_FLPOP_CO': 252.0, 'FAG_40_MONTM_5_FLPOP_CO': 180.0, 'FAG_40_MONTM_6_FLPOP_CO': 55.0, 'FAG_40_TUETM_1_FLPOP_CO': 51.0, 'FAG_40_TUETM_2_FLPOP_CO': 169.0, 'FAG_40_TUETM_3_FLPOP_CO': 246.0, 'FAG_40_TUETM_4_FLPOP_CO': 245.0, 'FAG_40_TUETM_5_FLPOP_CO': 262.0, 'FAG_40_TUETM_6_FLPOP_CO': 72.0, 'FAG_40_WEDTM_1_FLPOP_CO': 89.0, 'FAG_40_WEDTM_2_FLPOP_CO': 222.0, 'FAG_40_WEDTM_3_FLPOP_CO': 249.0, 'FAG_40_WEDTM_4_FLPOP_CO': 252.0, 'FAG_40_WEDTM_5_FLPOP_CO': 212.0, 'FAG_40_WEDTM_6_FLPOP_CO': 56.0, 'FAG_40_THUTM_1_FLPOP_CO': 87.0, 'FAG_40_THUTM_2_FLPOP_CO': 223.0, 'FAG_40_THUTM_3_FLPOP_CO': 252.0, 'FAG_40_THUTM_4_FLPOP_CO': 256.0, 'FAG_40_THUTM_5_FLPOP_CO': 286.0, 'FAG_40_THUTM_6_FLPOP_CO': 104.0, 'FAG_40_FRITM_1_FLPOP_CO': 83.0, 'FAG_40_FRITM_2_FLPOP_CO': 205.0, 'FAG_40_FRITM_3_FLPOP_CO': 244.0, 'FAG_40_FRITM_4_FLPOP_CO': 246.0, 'FAG_40_FRITM_5_FLPOP_CO': 191.0, 'FAG_40_FRITM_6_FLPOP_CO': 88.0, 'FAG_40_SATTM_1_FLPOP_CO': 78.0, 'FAG_40_SATTM_2_FLPOP_CO': 150.0, 'FAG_40_SATTM_3_FLPOP_CO': 169.0, 'FAG_40_SATTM_4_FLPOP_CO': 124.0, 'FAG_40_SATTM_5_FLPOP_CO': 145.0, 'FAG_40_SATTM_6_FLPOP_CO': 50.0, 'FAG_40_SUNTM_1_FLPOP_CO': 54.0, 'FAG_40_SUNTM_2_FLPOP_CO': 54.0, 'FAG_40_SUNTM_3_FLPOP_CO': 52.0, 'FAG_40_SUNTM_4_FLPOP_CO': 77.0, 'FAG_40_SUNTM_5_FLPOP_CO': 73.0, 'FAG_40_SUNTM_6_FLPOP_CO': 38.0, 'FAG_50_MONTM_1_FLPOP_CO': 11.0, 'FAG_50_MONTM_2_FLPOP_CO': 192.0, 'FAG_50_MONTM_3_FLPOP_CO': 301.0, 'FAG_50_MONTM_4_FLPOP_CO': 242.0, 'FAG_50_MONTM_5_FLPOP_CO': 283.0, 'FAG_50_MONTM_6_FLPOP_CO': 70.0, 'FAG_50_TUETM_1_FLPOP_CO': 5.0, 'FAG_50_TUETM_2_FLPOP_CO': 196.0, 'FAG_50_TUETM_3_FLPOP_CO': 297.0, 'FAG_50_TUETM_4_FLPOP_CO': 250.0, 'FAG_50_TUETM_5_FLPOP_CO': 274.0, 'FAG_50_TUETM_6_FLPOP_CO': 62.0, 'FAG_50_WEDTM_1_FLPOP_CO': 46.0, 'FAG_50_WEDTM_2_FLPOP_CO': 226.0, 'FAG_50_WEDTM_3_FLPOP_CO': 240.0, 'FAG_50_WEDTM_4_FLPOP_CO': 219.0, 'FAG_50_WEDTM_5_FLPOP_CO': 279.0, 'FAG_50_WEDTM_6_FLPOP_CO': 82.0, 'FAG_50_THUTM_1_FLPOP_CO': 47.0, 'FAG_50_THUTM_2_FLPOP_CO': 256.0, 'FAG_50_THUTM_3_FLPOP_CO': 327.0, 'FAG_50_THUTM_4_FLPOP_CO': 255.0, 'FAG_50_THUTM_5_FLPOP_CO': 296.0, 'FAG_50_THUTM_6_FLPOP_CO': 92.0, 'FAG_50_FRITM_1_FLPOP_CO': 31.0, 'FAG_50_FRITM_2_FLPOP_CO': 243.0, 'FAG_50_FRITM_3_FLPOP_CO': 269.0, 'FAG_50_FRITM_4_FLPOP_CO': 238.0, 'FAG_50_FRITM_5_FLPOP_CO': 270.0, 'FAG_50_FRITM_6_FLPOP_CO': 82.0, 'FAG_50_SATTM_1_FLPOP_CO': 25.0, 'FAG_50_SATTM_2_FLPOP_CO': 112.0, 'FAG_50_SATTM_3_FLPOP_CO': 158.0, 'FAG_50_SATTM_4_FLPOP_CO': 208.0, 'FAG_50_SATTM_5_FLPOP_CO': 190.0, 'FAG_50_SATTM_6_FLPOP_CO': 47.0, 'FAG_50_SUNTM_1_FLPOP_CO': 5.0, 'FAG_50_SUNTM_2_FLPOP_CO': 45.0, 'FAG_50_SUNTM_3_FLPOP_CO': 63.0, 'FAG_50_SUNTM_4_FLPOP_CO': 81.0, 'FAG_50_SUNTM_5_FLPOP_CO': 26.0, 'FAG_50_SUNTM_6_FLPOP_CO': 23.0, 'FAG_60_ABOVE_MONTM_1_FLPOP_CO': 3.0, 'FAG_60_ABOVE_MONTM_2_FLPOP_CO': 112.0, 'FAG_60_ABOVE_MONTM_3_FLPOP_CO': 122.0, 'FAG_60_ABOVE_MONTM_4_FLPOP_CO': 121.0, 'FAG_60_ABOVE_MONTM_5_FLPOP_CO': 25.0, 'FAG_60_ABOVE_MONTM_6_FLPOP_CO': 3.0, 'FAG_60_ABOVE_TUETM_1_FLPOP_CO': 26.0, 'FAG_60_ABOVE_TUETM_2_FLPOP_CO': 129.0, 'FAG_60_ABOVE_TUETM_3_FLPOP_CO': 151.0, 'FAG_60_ABOVE_TUETM_4_FLPOP_CO': 162.0, 'FAG_60_ABOVE_TUETM_5_FLPOP_CO': 35.0, 'FAG_60_ABOVE_TUETM_6_FLPOP_CO': 2.0, 'FAG_60_ABOVE_WEDTM_1_FLPOP_CO': 58.0, 'FAG_60_ABOVE_WEDTM_2_FLPOP_CO': 138.0, 'FAG_60_ABOVE_WEDTM_3_FLPOP_CO': 163.0, 'FAG_60_ABOVE_WEDTM_4_FLPOP_CO': 155.0, 'FAG_60_ABOVE_WEDTM_5_FLPOP_CO': 107.0, 'FAG_60_ABOVE_WEDTM_6_FLPOP_CO': 4.0, 'FAG_60_ABOVE_THUTM_1_FLPOP_CO': 30.0, 'FAG_60_ABOVE_THUTM_2_FLPOP_CO': 142.0, 'FAG_60_ABOVE_THUTM_3_FLPOP_CO': 148.0, 'FAG_60_ABOVE_THUTM_4_FLPOP_CO': 171.0, 'FAG_60_ABOVE_THUTM_5_FLPOP_CO': 59.0, 'FAG_60_ABOVE_THUTM_6_FLPOP_CO': 9.0, 'FAG_60_ABOVE_FRITM_1_FLPOP_CO': 11.0, 'FAG_60_ABOVE_FRITM_2_FLPOP_CO': 103.0, 'FAG_60_ABOVE_FRITM_3_FLPOP_CO': 144.0, 'FAG_60_ABOVE_FRITM_4_FLPOP_CO': 96.0, 'FAG_60_ABOVE_FRITM_5_FLPOP_CO': 29.0, 'FAG_60_ABOVE_FRITM_6_FLPOP_CO': 4.0, 'FAG_60_ABOVE_SATTM_1_FLPOP_CO': 5.0, 'FAG_60_ABOVE_SATTM_2_FLPOP_CO': 49.0, 'FAG_60_ABOVE_SATTM_3_FLPOP_CO': 41.0, 'FAG_60_ABOVE_SATTM_4_FLPOP_CO': 36.0, 'FAG_60_ABOVE_SATTM_5_FLPOP_CO': 10.0, 'FAG_60_ABOVE_SATTM_6_FLPOP_CO': 12.0, 'FAG_60_ABOVE_SUNTM_1_FLPOP_CO': 6.0, 'FAG_60_ABOVE_SUNTM_2_FLPOP_CO': 36.0, 'FAG_60_ABOVE_SUNTM_3_FLPOP_CO': 58.0, 'FAG_60_ABOVE_SUNTM_4_FLPOP_CO': 13.0, 'FAG_60_ABOVE_SUNTM_5_FLPOP_CO': 25.0, 'FAG_60_ABOVE_SUNTM_6_FLPOP_CO': 2.0}, {'STDR_YY_CD': '2017', 'STDR_QU_CD': '1', 'TRDAR_SE_CD': 'R', 'TRDAR_SE_CD_NM': '전통시장', 'TRDAR_CD': '1001438', 'TRDAR_CD_NM': '우리시장', 'TOT_FLPOP_CO': 37397.0, 'ML_FLPOP_CO': 17333.0, 'FML_FLPOP_CO': 20064.0, 'AGRDE_10_FLPOP_CO': 798.0, 'AGRDE_20_FLPOP_CO': 6247.0, 'AGRDE_30_FLPOP_CO': 5522.0, 'AGRDE_40_FLPOP_CO': 8025.0, 'AGRDE_50_FLPOP_CO': 10047.0, 'AGRDE_60_ABOVE_FLPOP_CO': 6755.0, 'TMZON_1_FLPOP_CO': 7001.0, 'TMZON_2_FLPOP_CO': 6849.0, 'TMZON_3_FLPOP_CO': 5204.0, 'TMZON_4_FLPOP_CO': 5765.0, 'TMZON_5_FLPOP_CO': 8114.0, 'TMZON_6_FLPOP_CO': 4463.0, 'MON_FLPOP_CO': 4323.0, 'TUES_FLPOP_CO': 4024.0, 'WED_FLPOP_CO': 6391.0, 'THUR_FLPOP_CO': 6226.0, 'FRI_FLPOP_CO': 5038.0, 'SAT_FLPOP_CO': 6227.0, 'SUN_FLPOP_CO': 5167.0, 'MAG_10_MONTM_1_FLPOP_CO': 2.0, 'MAG_10_MONTM_2_FLPOP_CO': 0.0, 'MAG_10_MONTM_3_FLPOP_CO': 1.0, 'MAG_10_MONTM_4_FLPOP_CO': 11.0, 'MAG_10_MONTM_5_FLPOP_CO': 22.0, 'MAG_10_MONTM_6_FLPOP_CO': 9.0, 'MAG_10_TUETM_1_FLPOP_CO': 1.0, 'MAG_10_TUETM_2_FLPOP_CO': 1.0, 'MAG_10_TUETM_3_FLPOP_CO': 1.0, 'MAG_10_TUETM_4_FLPOP_CO': 6.0, 'MAG_10_TUETM_5_FLPOP_CO': 21.0, 'MAG_10_TUETM_6_FLPOP_CO': 6.0, 'MAG_10_WEDTM_1_FLPOP_CO': 23.0, 'MAG_10_WEDTM_2_FLPOP_CO': 11.0, 'MAG_10_WEDTM_3_FLPOP_CO': 24.0, 'MAG_10_WEDTM_4_FLPOP_CO': 21.0, 'MAG_10_WEDTM_5_FLPOP_CO': 26.0, 'MAG_10_WEDTM_6_FLPOP_CO': 22.0, 'MAG_10_THUTM_1_FLPOP_CO': 29.0, 'MAG_10_THUTM_2_FLPOP_CO': 20.0, 'MAG_10_THUTM_3_FLPOP_CO': 3.0, 'MAG_10_THUTM_4_FLPOP_CO': 13.0, 'MAG_10_THUTM_5_FLPOP_CO': 39.0, 'MAG_10_THUTM_6_FLPOP_CO': 20.0, 'MAG_10_FRITM_1_FLPOP_CO': 19.0, 'MAG_10_FRITM_2_FLPOP_CO': 10.0, 'MAG_10_FRITM_3_FLPOP_CO': 3.0, 'MAG_10_FRITM_4_FLPOP_CO': 18.0, 'MAG_10_FRITM_5_FLPOP_CO': 31.0, 'MAG_10_FRITM_6_FLPOP_CO': 10.0, 'MAG_10_SATTM_1_FLPOP_CO': 21.0, 'MAG_10_SATTM_2_FLPOP_CO': 19.0, 'MAG_10_SATTM_3_FLPOP_CO': 8.0, 'MAG_10_SATTM_4_FLPOP_CO': 9.0, 'MAG_10_SATTM_5_FLPOP_CO': 7.0, 'MAG_10_SATTM_6_FLPOP_CO': 10.0, 'MAG_10_SUNTM_1_FLPOP_CO': 5.0, 'MAG_10_SUNTM_2_FLPOP_CO': 5.0, 'MAG_10_SUNTM_3_FLPOP_CO': 6.0, 'MAG_10_SUNTM_4_FLPOP_CO': 21.0, 'MAG_10_SUNTM_5_FLPOP_CO': 12.0, 'MAG_10_SUNTM_6_FLPOP_CO': 4.0, 'MAG_20_MONTM_1_FLPOP_CO': 84.0, 'MAG_20_MONTM_2_FLPOP_CO': 85.0, 'MAG_20_MONTM_3_FLPOP_CO': 46.0, 'MAG_20_MONTM_4_FLPOP_CO': 30.0, 'MAG_20_MONTM_5_FLPOP_CO': 55.0, 'MAG_20_MONTM_6_FLPOP_CO': 77.0, 'MAG_20_TUETM_1_FLPOP_CO': 76.0, 'MAG_20_TUETM_2_FLPOP_CO': 50.0, 'MAG_20_TUETM_3_FLPOP_CO': 32.0, 'MAG_20_TUETM_4_FLPOP_CO': 31.0, 'MAG_20_TUETM_5_FLPOP_CO': 89.0, 'MAG_20_TUETM_6_FLPOP_CO': 72.0, 'MAG_20_WEDTM_1_FLPOP_CO': 128.0, 'MAG_20_WEDTM_2_FLPOP_CO': 93.0, 'MAG_20_WEDTM_3_FLPOP_CO': 54.0, 'MAG_20_WEDTM_4_FLPOP_CO': 48.0, 'MAG_20_WEDTM_5_FLPOP_CO': 94.0, 'MAG_20_WEDTM_6_FLPOP_CO': 68.0, 'MAG_20_THUTM_1_FLPOP_CO': 141.0, 'MAG_20_THUTM_2_FLPOP_CO': 102.0, 'MAG_20_THUTM_3_FLPOP_CO': 64.0, 'MAG_20_THUTM_4_FLPOP_CO': 58.0, 'MAG_20_THUTM_5_FLPOP_CO': 98.0, 'MAG_20_THUTM_6_FLPOP_CO': 72.0, 'MAG_20_FRITM_1_FLPOP_CO': 115.0, 'MAG_20_FRITM_2_FLPOP_CO': 99.0, 'MAG_20_FRITM_3_FLPOP_CO': 49.0, 'MAG_20_FRITM_4_FLPOP_CO': 34.0, 'MAG_20_FRITM_5_FLPOP_CO': 87.0, 'MAG_20_FRITM_6_FLPOP_CO': 68.0, 'MAG_20_SATTM_1_FLPOP_CO': 124.0, 'MAG_20_SATTM_2_FLPOP_CO': 101.0, 'MAG_20_SATTM_3_FLPOP_CO': 55.0, 'MAG_20_SATTM_4_FLPOP_CO': 74.0, 'MAG_20_SATTM_5_FLPOP_CO': 126.0, 'MAG_20_SATTM_6_FLPOP_CO': 83.0, 'MAG_20_SUNTM_1_FLPOP_CO': 122.0, 'MAG_20_SUNTM_2_FLPOP_CO': 126.0, 'MAG_20_SUNTM_3_FLPOP_CO': 56.0, 'MAG_20_SUNTM_4_FLPOP_CO': 77.0, 'MAG_20_SUNTM_5_FLPOP_CO': 99.0, 'MAG_20_SUNTM_6_FLPOP_CO': 63.0, 'MAG_30_MONTM_1_FLPOP_CO': 43.0, 'MAG_30_MONTM_2_FLPOP_CO': 59.0, 'MAG_30_MONTM_3_FLPOP_CO': 30.0, 'MAG_30_MONTM_4_FLPOP_CO': 37.0, 'MAG_30_MONTM_5_FLPOP_CO': 81.0, 'MAG_30_MONTM_6_FLPOP_CO': 34.0, 'MAG_30_TUETM_1_FLPOP_CO': 38.0, 'MAG_30_TUETM_2_FLPOP_CO': 42.0, 'MAG_30_TUETM_3_FLPOP_CO': 19.0, 'MAG_30_TUETM_4_FLPOP_CO': 21.0, 'MAG_30_TUETM_5_FLPOP_CO': 77.0, 'MAG_30_TUETM_6_FLPOP_CO': 35.0, 'MAG_30_WEDTM_1_FLPOP_CO': 106.0, 'MAG_30_WEDTM_2_FLPOP_CO': 102.0, 'MAG_30_WEDTM_3_FLPOP_CO': 41.0, 'MAG_30_WEDTM_4_FLPOP_CO': 49.0, 'MAG_30_WEDTM_5_FLPOP_CO': 89.0, 'MAG_30_WEDTM_6_FLPOP_CO': 57.0, 'MAG_30_THUTM_1_FLPOP_CO': 112.0, 'MAG_30_THUTM_2_FLPOP_CO': 73.0, 'MAG_30_THUTM_3_FLPOP_CO': 40.0, 'MAG_30_THUTM_4_FLPOP_CO': 43.0, 'MAG_30_THUTM_5_FLPOP_CO': 79.0, 'MAG_30_THUTM_6_FLPOP_CO': 62.0, 'MAG_30_FRITM_1_FLPOP_CO': 54.0, 'MAG_30_FRITM_2_FLPOP_CO': 49.0, 'MAG_30_FRITM_3_FLPOP_CO': 33.0, 'MAG_30_FRITM_4_FLPOP_CO': 51.0, 'MAG_30_FRITM_5_FLPOP_CO': 70.0, 'MAG_30_FRITM_6_FLPOP_CO': 40.0, 'MAG_30_SATTM_1_FLPOP_CO': 69.0, 'MAG_30_SATTM_2_FLPOP_CO': 99.0, 'MAG_30_SATTM_3_FLPOP_CO': 82.0, 'MAG_30_SATTM_4_FLPOP_CO': 115.0, 'MAG_30_SATTM_5_FLPOP_CO': 135.0, 'MAG_30_SATTM_6_FLPOP_CO': 51.0, 'MAG_30_SUNTM_1_FLPOP_CO': 116.0, 'MAG_30_SUNTM_2_FLPOP_CO': 105.0, 'MAG_30_SUNTM_3_FLPOP_CO': 67.0, 'MAG_30_SUNTM_4_FLPOP_CO': 72.0, 'MAG_30_SUNTM_5_FLPOP_CO': 67.0, 'MAG_30_SUNTM_6_FLPOP_CO': 40.0, 'MAG_40_MONTM_1_FLPOP_CO': 61.0, 'MAG_40_MONTM_2_FLPOP_CO': 55.0, 'MAG_40_MONTM_3_FLPOP_CO': 43.0, 'MAG_40_MONTM_4_FLPOP_CO': 63.0, 'MAG_40_MONTM_5_FLPOP_CO': 55.0, 'MAG_40_MONTM_6_FLPOP_CO': 39.0, 'MAG_40_TUETM_1_FLPOP_CO': 54.0, 'MAG_40_TUETM_2_FLPOP_CO': 46.0, 'MAG_40_TUETM_3_FLPOP_CO': 32.0, 'MAG_40_TUETM_4_FLPOP_CO': 47.0, 'MAG_40_TUETM_5_FLPOP_CO': 54.0, 'MAG_40_TUETM_6_FLPOP_CO': 37.0, 'MAG_40_WEDTM_1_FLPOP_CO': 108.0, 'MAG_40_WEDTM_2_FLPOP_CO': 93.0, 'MAG_40_WEDTM_3_FLPOP_CO': 81.0, 'MAG_40_WEDTM_4_FLPOP_CO': 96.0, 'MAG_40_WEDTM_5_FLPOP_CO': 103.0, 'MAG_40_WEDTM_6_FLPOP_CO': 73.0, 'MAG_40_THUTM_1_FLPOP_CO': 120.0, 'MAG_40_THUTM_2_FLPOP_CO': 80.0, 'MAG_40_THUTM_3_FLPOP_CO': 71.0, 'MAG_40_THUTM_4_FLPOP_CO': 53.0, 'MAG_40_THUTM_5_FLPOP_CO': 94.0, 'MAG_40_THUTM_6_FLPOP_CO': 58.0, 'MAG_40_FRITM_1_FLPOP_CO': 64.0, 'MAG_40_FRITM_2_FLPOP_CO': 53.0, 'MAG_40_FRITM_3_FLPOP_CO': 47.0, 'MAG_40_FRITM_4_FLPOP_CO': 82.0, 'MAG_40_FRITM_5_FLPOP_CO': 151.0, 'MAG_40_FRITM_6_FLPOP_CO': 90.0, 'MAG_40_SATTM_1_FLPOP_CO': 102.0, 'MAG_40_SATTM_2_FLPOP_CO': 129.0, 'MAG_40_SATTM_3_FLPOP_CO': 108.0, 'MAG_40_SATTM_4_FLPOP_CO': 124.0, 'MAG_40_SATTM_5_FLPOP_CO': 173.0, 'MAG_40_SATTM_6_FLPOP_CO': 111.0, 'MAG_40_SUNTM_1_FLPOP_CO': 112.0, 'MAG_40_SUNTM_2_FLPOP_CO': 66.0, 'MAG_40_SUNTM_3_FLPOP_CO': 96.0, 'MAG_40_SUNTM_4_FLPOP_CO': 109.0, 'MAG_40_SUNTM_5_FLPOP_CO': 106.0, 'MAG_40_SUNTM_6_FLPOP_CO': 52.0, 'MAG_50_MONTM_1_FLPOP_CO': 120.0, 'MAG_50_MONTM_2_FLPOP_CO': 79.0, 'MAG_50_MONTM_3_FLPOP_CO': 46.0, 'MAG_50_MONTM_4_FLPOP_CO': 66.0, 'MAG_50_MONTM_5_FLPOP_CO': 110.0, 'MAG_50_MONTM_6_FLPOP_CO': 50.0, 'MAG_50_TUETM_1_FLPOP_CO': 83.0, 'MAG_50_TUETM_2_FLPOP_CO': 112.0, 'MAG_50_TUETM_3_FLPOP_CO': 84.0, 'MAG_50_TUETM_4_FLPOP_CO': 80.0, 'MAG_50_TUETM_5_FLPOP_CO': 104.0, 'MAG_50_TUETM_6_FLPOP_CO': 61.0, 'MAG_50_WEDTM_1_FLPOP_CO': 169.0, 'MAG_50_WEDTM_2_FLPOP_CO': 145.0, 'MAG_50_WEDTM_3_FLPOP_CO': 104.0, 'MAG_50_WEDTM_4_FLPOP_CO': 97.0, 'MAG_50_WEDTM_5_FLPOP_CO': 149.0, 'MAG_50_WEDTM_6_FLPOP_CO': 94.0, 'MAG_50_THUTM_1_FLPOP_CO': 172.0, 'MAG_50_THUTM_2_FLPOP_CO': 123.0, 'MAG_50_THUTM_3_FLPOP_CO': 88.0, 'MAG_50_THUTM_4_FLPOP_CO': 92.0, 'MAG_50_THUTM_5_FLPOP_CO': 147.0, 'MAG_50_THUTM_6_FLPOP_CO': 96.0, 'MAG_50_FRITM_1_FLPOP_CO': 109.0, 'MAG_50_FRITM_2_FLPOP_CO': 112.0, 'MAG_50_FRITM_3_FLPOP_CO': 78.0, 'MAG_50_FRITM_4_FLPOP_CO': 90.0, 'MAG_50_FRITM_5_FLPOP_CO': 128.0, 'MAG_50_FRITM_6_FLPOP_CO': 84.0, 'MAG_50_SATTM_1_FLPOP_CO': 119.0, 'MAG_50_SATTM_2_FLPOP_CO': 146.0, 'MAG_50_SATTM_3_FLPOP_CO': 88.0, 'MAG_50_SATTM_4_FLPOP_CO': 104.0, 'MAG_50_SATTM_5_FLPOP_CO': 174.0, 'MAG_50_SATTM_6_FLPOP_CO': 64.0, 'MAG_50_SUNTM_1_FLPOP_CO': 116.0, 'MAG_50_SUNTM_2_FLPOP_CO': 77.0, 'MAG_50_SUNTM_3_FLPOP_CO': 78.0, 'MAG_50_SUNTM_4_FLPOP_CO': 111.0, 'MAG_50_SUNTM_5_FLPOP_CO': 128.0, 'MAG_50_SUNTM_6_FLPOP_CO': 61.0, 'MAG_60_ABOVE_MONTM_1_FLPOP_CO': 39.0, 'MAG_60_ABOVE_MONTM_2_FLPOP_CO': 102.0, 'MAG_60_ABOVE_MONTM_3_FLPOP_CO': 38.0, 'MAG_60_ABOVE_MONTM_4_FLPOP_CO': 64.0, 'MAG_60_ABOVE_MONTM_5_FLPOP_CO': 86.0, 'MAG_60_ABOVE_MONTM_6_FLPOP_CO': 36.0, 'MAG_60_ABOVE_TUETM_1_FLPOP_CO': 49.0, 'MAG_60_ABOVE_TUETM_2_FLPOP_CO': 79.0, 'MAG_60_ABOVE_TUETM_3_FLPOP_CO': 67.0, 'MAG_60_ABOVE_TUETM_4_FLPOP_CO': 65.0, 'MAG_60_ABOVE_TUETM_5_FLPOP_CO': 100.0, 'MAG_60_ABOVE_TUETM_6_FLPOP_CO': 27.0, 'MAG_60_ABOVE_WEDTM_1_FLPOP_CO': 108.0, 'MAG_60_ABOVE_WEDTM_2_FLPOP_CO': 109.0, 'MAG_60_ABOVE_WEDTM_3_FLPOP_CO': 81.0, 'MAG_60_ABOVE_WEDTM_4_FLPOP_CO': 81.0, 'MAG_60_ABOVE_WEDTM_5_FLPOP_CO': 123.0, 'MAG_60_ABOVE_WEDTM_6_FLPOP_CO': 62.0, 'MAG_60_ABOVE_THUTM_1_FLPOP_CO': 107.0, 'MAG_60_ABOVE_THUTM_2_FLPOP_CO': 110.0, 'MAG_60_ABOVE_THUTM_3_FLPOP_CO': 83.0, 'MAG_60_ABOVE_THUTM_4_FLPOP_CO': 81.0, 'MAG_60_ABOVE_THUTM_5_FLPOP_CO': 108.0, 'MAG_60_ABOVE_THUTM_6_FLPOP_CO': 50.0, 'MAG_60_ABOVE_FRITM_1_FLPOP_CO': 58.0, 'MAG_60_ABOVE_FRITM_2_FLPOP_CO': 85.0, 'MAG_60_ABOVE_FRITM_3_FLPOP_CO': 67.0, 'MAG_60_ABOVE_FRITM_4_FLPOP_CO': 61.0, 'MAG_60_ABOVE_FRITM_5_FLPOP_CO': 99.0, 'MAG_60_ABOVE_FRITM_6_FLPOP_CO': 43.0, 'MAG_60_ABOVE_SATTM_1_FLPOP_CO': 58.0, 'MAG_60_ABOVE_SATTM_2_FLPOP_CO': 102.0, 'MAG_60_ABOVE_SATTM_3_FLPOP_CO': 71.0, 'MAG_60_ABOVE_SATTM_4_FLPOP_CO': 87.0, 'MAG_60_ABOVE_SATTM_5_FLPOP_CO': 112.0, 'MAG_60_ABOVE_SATTM_6_FLPOP_CO': 30.0, 'MAG_60_ABOVE_SUNTM_1_FLPOP_CO': 39.0, 'MAG_60_ABOVE_SUNTM_2_FLPOP_CO': 56.0, 'MAG_60_ABOVE_SUNTM_3_FLPOP_CO': 65.0, 'MAG_60_ABOVE_SUNTM_4_FLPOP_CO': 86.0, 'MAG_60_ABOVE_SUNTM_5_FLPOP_CO': 76.0, 'MAG_60_ABOVE_SUNTM_6_FLPOP_CO': 22.0, 'FAG_10_MONTM_1_FLPOP_CO': 0.0, 'FAG_10_MONTM_2_FLPOP_CO': 0.0, 'FAG_10_MONTM_3_FLPOP_CO': 0.0, 'FAG_10_MONTM_4_FLPOP_CO': 1.0, 'FAG_10_MONTM_5_FLPOP_CO': 11.0, 'FAG_10_MONTM_6_FLPOP_CO': 5.0, 'FAG_10_TUETM_1_FLPOP_CO': 0.0, 'FAG_10_TUETM_2_FLPOP_CO': 0.0, 'FAG_10_TUETM_3_FLPOP_CO': 0.0, 'FAG_10_TUETM_4_FLPOP_CO': 5.0, 'FAG_10_TUETM_5_FLPOP_CO': 11.0, 'FAG_10_TUETM_6_FLPOP_CO': 0.0, 'FAG_10_WEDTM_1_FLPOP_CO': 23.0, 'FAG_10_WEDTM_2_FLPOP_CO': 15.0, 'FAG_10_WEDTM_3_FLPOP_CO': 11.0, 'FAG_10_WEDTM_4_FLPOP_CO': 13.0, 'FAG_10_WEDTM_5_FLPOP_CO': 15.0, 'FAG_10_WEDTM_6_FLPOP_CO': 13.0, 'FAG_10_THUTM_1_FLPOP_CO': 13.0, 'FAG_10_THUTM_2_FLPOP_CO': 11.0, 'FAG_10_THUTM_3_FLPOP_CO': 5.0, 'FAG_10_THUTM_4_FLPOP_CO': 8.0, 'FAG_10_THUTM_5_FLPOP_CO': 9.0, 'FAG_10_THUTM_6_FLPOP_CO': 5.0, 'FAG_10_FRITM_1_FLPOP_CO': 0.0, 'FAG_10_FRITM_2_FLPOP_CO': 0.0, 'FAG_10_FRITM_3_FLPOP_CO': 0.0, 'FAG_10_FRITM_4_FLPOP_CO': 5.0, 'FAG_10_FRITM_5_FLPOP_CO': 14.0, 'FAG_10_FRITM_6_FLPOP_CO': 0.0, 'FAG_10_SATTM_1_FLPOP_CO': 11.0, 'FAG_10_SATTM_2_FLPOP_CO': 9.0, 'FAG_10_SATTM_3_FLPOP_CO': 0.0, 'FAG_10_SATTM_4_FLPOP_CO': 6.0, 'FAG_10_SATTM_5_FLPOP_CO': 10.0, 'FAG_10_SATTM_6_FLPOP_CO': 0.0, 'FAG_10_SUNTM_1_FLPOP_CO': 0.0, 'FAG_10_SUNTM_2_FLPOP_CO': 0.0, 'FAG_10_SUNTM_3_FLPOP_CO': 0.0, 'FAG_10_SUNTM_4_FLPOP_CO': 13.0, 'FAG_10_SUNTM_5_FLPOP_CO': 4.0, 'FAG_10_SUNTM_6_FLPOP_CO': 0.0, 'FAG_20_MONTM_1_FLPOP_CO': 101.0, 'FAG_20_MONTM_2_FLPOP_CO': 61.0, 'FAG_20_MONTM_3_FLPOP_CO': 26.0, 'FAG_20_MONTM_4_FLPOP_CO': 24.0, 'FAG_20_MONTM_5_FLPOP_CO': 88.0, 'FAG_20_MONTM_6_FLPOP_CO': 76.0, 'FAG_20_TUETM_1_FLPOP_CO': 81.0, 'FAG_20_TUETM_2_FLPOP_CO': 52.0, 'FAG_20_TUETM_3_FLPOP_CO': 9.0, 'FAG_20_TUETM_4_FLPOP_CO': 7.0, 'FAG_20_TUETM_5_FLPOP_CO': 52.0, 'FAG_20_TUETM_6_FLPOP_CO': 75.0, 'FAG_20_WEDTM_1_FLPOP_CO': 119.0, 'FAG_20_WEDTM_2_FLPOP_CO': 94.0, 'FAG_20_WEDTM_3_FLPOP_CO': 49.0, 'FAG_20_WEDTM_4_FLPOP_CO': 39.0, 'FAG_20_WEDTM_5_FLPOP_CO': 93.0, 'FAG_20_WEDTM_6_FLPOP_CO': 85.0, 'FAG_20_THUTM_1_FLPOP_CO': 145.0, 'FAG_20_THUTM_2_FLPOP_CO': 91.0, 'FAG_20_THUTM_3_FLPOP_CO': 45.0, 'FAG_20_THUTM_4_FLPOP_CO': 32.0, 'FAG_20_THUTM_5_FLPOP_CO': 119.0, 'FAG_20_THUTM_6_FLPOP_CO': 78.0, 'FAG_20_FRITM_1_FLPOP_CO': 108.0, 'FAG_20_FRITM_2_FLPOP_CO': 65.0, 'FAG_20_FRITM_3_FLPOP_CO': 21.0, 'FAG_20_FRITM_4_FLPOP_CO': 17.0, 'FAG_20_FRITM_5_FLPOP_CO': 69.0, 'FAG_20_FRITM_6_FLPOP_CO': 71.0, 'FAG_20_SATTM_1_FLPOP_CO': 139.0, 'FAG_20_SATTM_2_FLPOP_CO': 102.0, 'FAG_20_SATTM_3_FLPOP_CO': 68.0, 'FAG_20_SATTM_4_FLPOP_CO': 31.0, 'FAG_20_SATTM_5_FLPOP_CO': 73.0, 'FAG_20_SATTM_6_FLPOP_CO': 66.0, 'FAG_20_SUNTM_1_FLPOP_CO': 148.0, 'FAG_20_SUNTM_2_FLPOP_CO': 108.0, 'FAG_20_SUNTM_3_FLPOP_CO': 50.0, 'FAG_20_SUNTM_4_FLPOP_CO': 55.0, 'FAG_20_SUNTM_5_FLPOP_CO': 74.0, 'FAG_20_SUNTM_6_FLPOP_CO': 55.0, 'FAG_30_MONTM_1_FLPOP_CO': 46.0, 'FAG_30_MONTM_2_FLPOP_CO': 55.0, 'FAG_30_MONTM_3_FLPOP_CO': 27.0, 'FAG_30_MONTM_4_FLPOP_CO': 45.0, 'FAG_30_MONTM_5_FLPOP_CO': 57.0, 'FAG_30_MONTM_6_FLPOP_CO': 42.0, 'FAG_30_TUETM_1_FLPOP_CO': 42.0, 'FAG_30_TUETM_2_FLPOP_CO': 43.0, 'FAG_30_TUETM_3_FLPOP_CO': 21.0, 'FAG_30_TUETM_4_FLPOP_CO': 45.0, 'FAG_30_TUETM_5_FLPOP_CO': 78.0, 'FAG_30_TUETM_6_FLPOP_CO': 37.0, 'FAG_30_WEDTM_1_FLPOP_CO': 112.0, 'FAG_30_WEDTM_2_FLPOP_CO': 99.0, 'FAG_30_WEDTM_3_FLPOP_CO': 63.0, 'FAG_30_WEDTM_4_FLPOP_CO': 62.0, 'FAG_30_WEDTM_5_FLPOP_CO': 76.0, 'FAG_30_WEDTM_6_FLPOP_CO': 60.0, 'FAG_30_THUTM_1_FLPOP_CO': 112.0, 'FAG_30_THUTM_2_FLPOP_CO': 83.0, 'FAG_30_THUTM_3_FLPOP_CO': 60.0, 'FAG_30_THUTM_4_FLPOP_CO': 69.0, 'FAG_30_THUTM_5_FLPOP_CO': 94.0, 'FAG_30_THUTM_6_FLPOP_CO': 72.0, 'FAG_30_FRITM_1_FLPOP_CO': 62.0, 'FAG_30_FRITM_2_FLPOP_CO': 70.0, 'FAG_30_FRITM_3_FLPOP_CO': 34.0, 'FAG_30_FRITM_4_FLPOP_CO': 53.0, 'FAG_30_FRITM_5_FLPOP_CO': 66.0, 'FAG_30_FRITM_6_FLPOP_CO': 40.0, 'FAG_30_SATTM_1_FLPOP_CO': 78.0, 'FAG_30_SATTM_2_FLPOP_CO': 85.0, 'FAG_30_SATTM_3_FLPOP_CO': 90.0, 'FAG_30_SATTM_4_FLPOP_CO': 107.0, 'FAG_30_SATTM_5_FLPOP_CO': 137.0, 'FAG_30_SATTM_6_FLPOP_CO': 59.0, 'FAG_30_SUNTM_1_FLPOP_CO': 101.0, 'FAG_30_SUNTM_2_FLPOP_CO': 99.0, 'FAG_30_SUNTM_3_FLPOP_CO': 64.0, 'FAG_30_SUNTM_4_FLPOP_CO': 45.0, 'FAG_30_SUNTM_5_FLPOP_CO': 101.0, 'FAG_30_SUNTM_6_FLPOP_CO': 49.0, 'FAG_40_MONTM_1_FLPOP_CO': 96.0, 'FAG_40_MONTM_2_FLPOP_CO': 89.0, 'FAG_40_MONTM_3_FLPOP_CO': 119.0, 'FAG_40_MONTM_4_FLPOP_CO': 120.0, 'FAG_40_MONTM_5_FLPOP_CO': 123.0, 'FAG_40_MONTM_6_FLPOP_CO': 44.0, 'FAG_40_TUETM_1_FLPOP_CO': 87.0, 'FAG_40_TUETM_2_FLPOP_CO': 91.0, 'FAG_40_TUETM_3_FLPOP_CO': 73.0, 'FAG_40_TUETM_4_FLPOP_CO': 80.0, 'FAG_40_TUETM_5_FLPOP_CO': 122.0, 'FAG_40_TUETM_6_FLPOP_CO': 56.0, 'FAG_40_WEDTM_1_FLPOP_CO': 151.0, 'FAG_40_WEDTM_2_FLPOP_CO': 164.0, 'FAG_40_WEDTM_3_FLPOP_CO': 133.0, 'FAG_40_WEDTM_4_FLPOP_CO': 135.0, 'FAG_40_WEDTM_5_FLPOP_CO': 151.0, 'FAG_40_WEDTM_6_FLPOP_CO': 71.0, 'FAG_40_THUTM_1_FLPOP_CO': 167.0, 'FAG_40_THUTM_2_FLPOP_CO': 147.0, 'FAG_40_THUTM_3_FLPOP_CO': 132.0, 'FAG_40_THUTM_4_FLPOP_CO': 132.0, 'FAG_40_THUTM_5_FLPOP_CO': 168.0, 'FAG_40_THUTM_6_FLPOP_CO': 62.0, 'FAG_40_FRITM_1_FLPOP_CO': 74.0, 'FAG_40_FRITM_2_FLPOP_CO': 85.0, 'FAG_40_FRITM_3_FLPOP_CO': 98.0, 'FAG_40_FRITM_4_FLPOP_CO': 136.0, 'FAG_40_FRITM_5_FLPOP_CO': 145.0, 'FAG_40_FRITM_6_FLPOP_CO': 64.0, 'FAG_40_SATTM_1_FLPOP_CO': 84.0, 'FAG_40_SATTM_2_FLPOP_CO': 124.0, 'FAG_40_SATTM_3_FLPOP_CO': 139.0, 'FAG_40_SATTM_4_FLPOP_CO': 134.0, 'FAG_40_SATTM_5_FLPOP_CO': 171.0, 'FAG_40_SATTM_6_FLPOP_CO': 75.0, 'FAG_40_SUNTM_1_FLPOP_CO': 105.0, 'FAG_40_SUNTM_2_FLPOP_CO': 114.0, 'FAG_40_SUNTM_3_FLPOP_CO': 94.0, 'FAG_40_SUNTM_4_FLPOP_CO': 107.0, 'FAG_40_SUNTM_5_FLPOP_CO': 134.0, 'FAG_40_SUNTM_6_FLPOP_CO': 39.0, 'FAG_50_MONTM_1_FLPOP_CO': 73.0, 'FAG_50_MONTM_2_FLPOP_CO': 126.0, 'FAG_50_MONTM_3_FLPOP_CO': 145.0, 'FAG_50_MONTM_4_FLPOP_CO': 134.0, 'FAG_50_MONTM_5_FLPOP_CO': 180.0, 'FAG_50_MONTM_6_FLPOP_CO': 49.0, 'FAG_50_TUETM_1_FLPOP_CO': 76.0, 'FAG_50_TUETM_2_FLPOP_CO': 120.0, 'FAG_50_TUETM_3_FLPOP_CO': 141.0, 'FAG_50_TUETM_4_FLPOP_CO': 136.0, 'FAG_50_TUETM_5_FLPOP_CO': 182.0, 'FAG_50_TUETM_6_FLPOP_CO': 79.0, 'FAG_50_WEDTM_1_FLPOP_CO': 140.0, 'FAG_50_WEDTM_2_FLPOP_CO': 185.0, 'FAG_50_WEDTM_3_FLPOP_CO': 156.0, 'FAG_50_WEDTM_4_FLPOP_CO': 155.0, 'FAG_50_WEDTM_5_FLPOP_CO': 211.0, 'FAG_50_WEDTM_6_FLPOP_CO': 117.0, 'FAG_50_THUTM_1_FLPOP_CO': 135.0, 'FAG_50_THUTM_2_FLPOP_CO': 173.0, 'FAG_50_THUTM_3_FLPOP_CO': 137.0, 'FAG_50_THUTM_4_FLPOP_CO': 154.0, 'FAG_50_THUTM_5_FLPOP_CO': 212.0, 'FAG_50_THUTM_6_FLPOP_CO': 109.0, 'FAG_50_FRITM_1_FLPOP_CO': 130.0, 'FAG_50_FRITM_2_FLPOP_CO': 181.0, 'FAG_50_FRITM_3_FLPOP_CO': 143.0, 'FAG_50_FRITM_4_FLPOP_CO': 146.0, 'FAG_50_FRITM_5_FLPOP_CO': 195.0, 'FAG_50_FRITM_6_FLPOP_CO': 111.0, 'FAG_50_SATTM_1_FLPOP_CO': 94.0, 'FAG_50_SATTM_2_FLPOP_CO': 139.0, 'FAG_50_SATTM_3_FLPOP_CO': 134.0, 'FAG_50_SATTM_4_FLPOP_CO': 138.0, 'FAG_50_SATTM_5_FLPOP_CO': 188.0, 'FAG_50_SATTM_6_FLPOP_CO': 126.0, 'FAG_50_SUNTM_1_FLPOP_CO': 80.0, 'FAG_50_SUNTM_2_FLPOP_CO': 116.0, 'FAG_50_SUNTM_3_FLPOP_CO': 119.0, 'FAG_50_SUNTM_4_FLPOP_CO': 133.0, 'FAG_50_SUNTM_5_FLPOP_CO': 168.0, 'FAG_50_SUNTM_6_FLPOP_CO': 42.0, 'FAG_60_ABOVE_MONTM_1_FLPOP_CO': 69.0, 'FAG_60_ABOVE_MONTM_2_FLPOP_CO': 97.0, 'FAG_60_ABOVE_MONTM_3_FLPOP_CO': 99.0, 'FAG_60_ABOVE_MONTM_4_FLPOP_CO': 99.0, 'FAG_60_ABOVE_MONTM_5_FLPOP_CO': 95.0, 'FAG_60_ABOVE_MONTM_6_FLPOP_CO': 47.0, 'FAG_60_ABOVE_TUETM_1_FLPOP_CO': 66.0, 'FAG_60_ABOVE_TUETM_2_FLPOP_CO': 57.0, 'FAG_60_ABOVE_TUETM_3_FLPOP_CO': 57.0, 'FAG_60_ABOVE_TUETM_4_FLPOP_CO': 94.0, 'FAG_60_ABOVE_TUETM_5_FLPOP_CO': 104.0, 'FAG_60_ABOVE_TUETM_6_FLPOP_CO': 46.0, 'FAG_60_ABOVE_WEDTM_1_FLPOP_CO': 129.0, 'FAG_60_ABOVE_WEDTM_2_FLPOP_CO': 123.0, 'FAG_60_ABOVE_WEDTM_3_FLPOP_CO': 105.0, 'FAG_60_ABOVE_WEDTM_4_FLPOP_CO': 105.0, 'FAG_60_ABOVE_WEDTM_5_FLPOP_CO': 122.0, 'FAG_60_ABOVE_WEDTM_6_FLPOP_CO': 69.0, 'FAG_60_ABOVE_THUTM_1_FLPOP_CO': 135.0, 'FAG_60_ABOVE_THUTM_2_FLPOP_CO': 107.0, 'FAG_60_ABOVE_THUTM_3_FLPOP_CO': 98.0, 'FAG_60_ABOVE_THUTM_4_FLPOP_CO': 119.0, 'FAG_60_ABOVE_THUTM_5_FLPOP_CO': 120.0, 'FAG_60_ABOVE_THUTM_6_FLPOP_CO': 66.0, 'FAG_60_ABOVE_FRITM_1_FLPOP_CO': 98.0, 'FAG_60_ABOVE_FRITM_2_FLPOP_CO': 95.0, 'FAG_60_ABOVE_FRITM_3_FLPOP_CO': 71.0, 'FAG_60_ABOVE_FRITM_4_FLPOP_CO': 94.0, 'FAG_60_ABOVE_FRITM_5_FLPOP_CO': 90.0, 'FAG_60_ABOVE_FRITM_6_FLPOP_CO': 47.0, 'FAG_60_ABOVE_SATTM_1_FLPOP_CO': 91.0, 'FAG_60_ABOVE_SATTM_2_FLPOP_CO': 87.0, 'FAG_60_ABOVE_SATTM_3_FLPOP_CO': 79.0, 'FAG_60_ABOVE_SATTM_4_FLPOP_CO': 87.0, 'FAG_60_ABOVE_SATTM_5_FLPOP_CO': 111.0, 'FAG_60_ABOVE_SATTM_6_FLPOP_CO': 63.0, 'FAG_60_ABOVE_SUNTM_1_FLPOP_CO': 96.0, 'FAG_60_ABOVE_SUNTM_2_FLPOP_CO': 84.0, 'FAG_60_ABOVE_SUNTM_3_FLPOP_CO': 52.0, 'FAG_60_ABOVE_SUNTM_4_FLPOP_CO': 76.0, 'FAG_60_ABOVE_SUNTM_5_FLPOP_CO': 86.0, 'FAG_60_ABOVE_SUNTM_6_FLPOP_CO': 46.0}, {'STDR_YY_CD': '2017', 'STDR_QU_CD': '3', 'TRDAR_SE_CD': 'A', 'TRDAR_SE_CD_NM': '골목상권', 'TRDAR_CD': '1000751', 'TRDAR_CD_NM': '사당로23나길', 'TOT_FLPOP_CO': 37872.0, 'ML_FLPOP_CO': 17695.0, 'FML_FLPOP_CO': 20176.0, 'AGRDE_10_FLPOP_CO': 839.0, 'AGRDE_20_FLPOP_CO': 2303.0, 'AGRDE_30_FLPOP_CO': 11255.0, 'AGRDE_40_FLPOP_CO': 7929.0, 'AGRDE_50_FLPOP_CO': 5737.0, 'AGRDE_60_ABOVE_FLPOP_CO': 9809.0, 'TMZON_1_FLPOP_CO': 6426.0, 'TMZON_2_FLPOP_CO': 10135.0, 'TMZON_3_FLPOP_CO': 6372.0, 'TMZON_4_FLPOP_CO': 5336.0, 'TMZON_5_FLPOP_CO': 6224.0, 'TMZON_6_FLPOP_CO': 3379.0, 'MON_FLPOP_CO': 5134.0, 'TUES_FLPOP_CO': 5482.0, 'WED_FLPOP_CO': 5381.0, 'THUR_FLPOP_CO': 5568.0, 'FRI_FLPOP_CO': 5356.0, 'SAT_FLPOP_CO': 5849.0, 'SUN_FLPOP_CO': 5104.0, 'MAG_10_MONTM_1_FLPOP_CO': 0.0, 'MAG_10_MONTM_2_FLPOP_CO': 0.0, 'MAG_10_MONTM_3_FLPOP_CO': 0.0, 'MAG_10_MONTM_4_FLPOP_CO': 6.0, 'MAG_10_MONTM_5_FLPOP_CO': 126.0, 'MAG_10_MONTM_6_FLPOP_CO': 1.0, 'MAG_10_TUETM_1_FLPOP_CO': 0.0, 'MAG_10_TUETM_2_FLPOP_CO': 1.0, 'MAG_10_TUETM_3_FLPOP_CO': 1.0, 'MAG_10_TUETM_4_FLPOP_CO': 4.0, 'MAG_10_TUETM_5_FLPOP_CO': 46.0, 'MAG_10_TUETM_6_FLPOP_CO': 3.0, 'MAG_10_WEDTM_1_FLPOP_CO': 0.0, 'MAG_10_WEDTM_2_FLPOP_CO': 0.0, 'MAG_10_WEDTM_3_FLPOP_CO': 3.0, 'MAG_10_WEDTM_4_FLPOP_CO': 11.0, 'MAG_10_WEDTM_5_FLPOP_CO': 95.0, 'MAG_10_WEDTM_6_FLPOP_CO': 2.0, 'MAG_10_THUTM_1_FLPOP_CO': 1.0, 'MAG_10_THUTM_2_FLPOP_CO': 0.0, 'MAG_10_THUTM_3_FLPOP_CO': 3.0, 'MAG_10_THUTM_4_FLPOP_CO': 13.0, 'MAG_10_THUTM_5_FLPOP_CO': 54.0, 'MAG_10_THUTM_6_FLPOP_CO': 3.0, 'MAG_10_FRITM_1_FLPOP_CO': 0.0, 'MAG_10_FRITM_2_FLPOP_CO': 0.0, 'MAG_10_FRITM_3_FLPOP_CO': 2.0, 'MAG_10_FRITM_4_FLPOP_CO': 4.0, 'MAG_10_FRITM_5_FLPOP_CO': 61.0, 'MAG_10_FRITM_6_FLPOP_CO': 1.0, 'MAG_10_SATTM_1_FLPOP_CO': 0.0, 'MAG_10_SATTM_2_FLPOP_CO': 0.0, 'MAG_10_SATTM_3_FLPOP_CO': 8.0, 'MAG_10_SATTM_4_FLPOP_CO': 4.0, 'MAG_10_SATTM_5_FLPOP_CO': 0.0, 'MAG_10_SATTM_6_FLPOP_CO': 0.0, 'MAG_10_SUNTM_1_FLPOP_CO': 0.0, 'MAG_10_SUNTM_2_FLPOP_CO': 0.0, 'MAG_10_SUNTM_3_FLPOP_CO': 1.0, 'MAG_10_SUNTM_4_FLPOP_CO': 7.0, 'MAG_10_SUNTM_5_FLPOP_CO': 1.0, 'MAG_10_SUNTM_6_FLPOP_CO': 0.0, 'MAG_20_MONTM_1_FLPOP_CO': 27.0, 'MAG_20_MONTM_2_FLPOP_CO': 24.0, 'MAG_20_MONTM_3_FLPOP_CO': 13.0, 'MAG_20_MONTM_4_FLPOP_CO': 11.0, 'MAG_20_MONTM_5_FLPOP_CO': 15.0, 'MAG_20_MONTM_6_FLPOP_CO': 11.0, 'MAG_20_TUETM_1_FLPOP_CO': 22.0, 'MAG_20_TUETM_2_FLPOP_CO': 24.0, 'MAG_20_TUETM_3_FLPOP_CO': 11.0, 'MAG_20_TUETM_4_FLPOP_CO': 10.0, 'MAG_20_TUETM_5_FLPOP_CO': 11.0, 'MAG_20_TUETM_6_FLPOP_CO': 13.0, 'MAG_20_WEDTM_1_FLPOP_CO': 20.0, 'MAG_20_WEDTM_2_FLPOP_CO': 19.0, 'MAG_20_WEDTM_3_FLPOP_CO': 10.0, 'MAG_20_WEDTM_4_FLPOP_CO': 11.0, 'MAG_20_WEDTM_5_FLPOP_CO': 10.0, 'MAG_20_WEDTM_6_FLPOP_CO': 14.0, 'MAG_20_THUTM_1_FLPOP_CO': 25.0, 'MAG_20_THUTM_2_FLPOP_CO': 27.0, 'MAG_20_THUTM_3_FLPOP_CO': 10.0, 'MAG_20_THUTM_4_FLPOP_CO': 10.0, 'MAG_20_THUTM_5_FLPOP_CO': 11.0, 'MAG_20_THUTM_6_FLPOP_CO': 9.0, 'MAG_20_FRITM_1_FLPOP_CO': 32.0, 'MAG_20_FRITM_2_FLPOP_CO': 27.0, 'MAG_20_FRITM_3_FLPOP_CO': 8.0, 'MAG_20_FRITM_4_FLPOP_CO': 7.0, 'MAG_20_FRITM_5_FLPOP_CO': 9.0, 'MAG_20_FRITM_6_FLPOP_CO': 10.0, 'MAG_20_SATTM_1_FLPOP_CO': 33.0, 'MAG_20_SATTM_2_FLPOP_CO': 45.0, 'MAG_20_SATTM_3_FLPOP_CO': 19.0, 'MAG_20_SATTM_4_FLPOP_CO': 13.0, 'MAG_20_SATTM_5_FLPOP_CO': 13.0, 'MAG_20_SATTM_6_FLPOP_CO': 7.0, 'MAG_20_SUNTM_1_FLPOP_CO': 35.0, 'MAG_20_SUNTM_2_FLPOP_CO': 37.0, 'MAG_20_SUNTM_3_FLPOP_CO': 14.0, 'MAG_20_SUNTM_4_FLPOP_CO': 12.0, 'MAG_20_SUNTM_5_FLPOP_CO': 15.0, 'MAG_20_SUNTM_6_FLPOP_CO': 13.0, 'MAG_30_MONTM_1_FLPOP_CO': 180.0, 'MAG_30_MONTM_2_FLPOP_CO': 109.0, 'MAG_30_MONTM_3_FLPOP_CO': 19.0, 'MAG_30_MONTM_4_FLPOP_CO': 17.0, 'MAG_30_MONTM_5_FLPOP_CO': 27.0, 'MAG_30_MONTM_6_FLPOP_CO': 71.0, 'MAG_30_TUETM_1_FLPOP_CO': 155.0, 'MAG_30_TUETM_2_FLPOP_CO': 127.0, 'MAG_30_TUETM_3_FLPOP_CO': 30.0, 'MAG_30_TUETM_4_FLPOP_CO': 18.0, 'MAG_30_TUETM_5_FLPOP_CO': 20.0, 'MAG_30_TUETM_6_FLPOP_CO': 44.0, 'MAG_30_WEDTM_1_FLPOP_CO': 105.0, 'MAG_30_WEDTM_2_FLPOP_CO': 119.0, 'MAG_30_WEDTM_3_FLPOP_CO': 21.0, 'MAG_30_WEDTM_4_FLPOP_CO': 16.0, 'MAG_30_WEDTM_5_FLPOP_CO': 37.0, 'MAG_30_WEDTM_6_FLPOP_CO': 82.0, 'MAG_30_THUTM_1_FLPOP_CO': 173.0, 'MAG_30_THUTM_2_FLPOP_CO': 135.0, 'MAG_30_THUTM_3_FLPOP_CO': 38.0, 'MAG_30_THUTM_4_FLPOP_CO': 23.0, 'MAG_30_THUTM_5_FLPOP_CO': 20.0, 'MAG_30_THUTM_6_FLPOP_CO': 80.0, 'MAG_30_FRITM_1_FLPOP_CO': 185.0, 'MAG_30_FRITM_2_FLPOP_CO': 135.0, 'MAG_30_FRITM_3_FLPOP_CO': 29.0, 'MAG_30_FRITM_4_FLPOP_CO': 38.0, 'MAG_30_FRITM_5_FLPOP_CO': 64.0, 'MAG_30_FRITM_6_FLPOP_CO': 67.0, 'MAG_30_SATTM_1_FLPOP_CO': 209.0, 'MAG_30_SATTM_2_FLPOP_CO': 215.0, 'MAG_30_SATTM_3_FLPOP_CO': 142.0, 'MAG_30_SATTM_4_FLPOP_CO': 125.0, 'MAG_30_SATTM_5_FLPOP_CO': 133.0, 'MAG_30_SATTM_6_FLPOP_CO': 76.0, 'MAG_30_SUNTM_1_FLPOP_CO': 171.0, 'MAG_30_SUNTM_2_FLPOP_CO': 225.0, 'MAG_30_SUNTM_3_FLPOP_CO': 79.0, 'MAG_30_SUNTM_4_FLPOP_CO': 99.0, 'MAG_30_SUNTM_5_FLPOP_CO': 181.0, 'MAG_30_SUNTM_6_FLPOP_CO': 97.0, 'MAG_40_MONTM_1_FLPOP_CO': 143.0, 'MAG_40_MONTM_2_FLPOP_CO': 196.0, 'MAG_40_MONTM_3_FLPOP_CO': 128.0, 'MAG_40_MONTM_4_FLPOP_CO': 71.0, 'MAG_40_MONTM_5_FLPOP_CO': 40.0, 'MAG_40_MONTM_6_FLPOP_CO': 46.0, 'MAG_40_TUETM_1_FLPOP_CO': 161.0, 'MAG_40_TUETM_2_FLPOP_CO': 190.0, 'MAG_40_TUETM_3_FLPOP_CO': 135.0, 'MAG_40_TUETM_4_FLPOP_CO': 112.0, 'MAG_40_TUETM_5_FLPOP_CO': 64.0, 'MAG_40_TUETM_6_FLPOP_CO': 82.0, 'MAG_40_WEDTM_1_FLPOP_CO': 105.0, 'MAG_40_WEDTM_2_FLPOP_CO': 220.0, 'MAG_40_WEDTM_3_FLPOP_CO': 140.0, 'MAG_40_WEDTM_4_FLPOP_CO': 75.0, 'MAG_40_WEDTM_5_FLPOP_CO': 79.0, 'MAG_40_WEDTM_6_FLPOP_CO': 89.0, 'MAG_40_THUTM_1_FLPOP_CO': 180.0, 'MAG_40_THUTM_2_FLPOP_CO': 226.0, 'MAG_40_THUTM_3_FLPOP_CO': 131.0, 'MAG_40_THUTM_4_FLPOP_CO': 84.0, 'MAG_40_THUTM_5_FLPOP_CO': 50.0, 'MAG_40_THUTM_6_FLPOP_CO': 61.0, 'MAG_40_FRITM_1_FLPOP_CO': 92.0, 'MAG_40_FRITM_2_FLPOP_CO': 161.0, 'MAG_40_FRITM_3_FLPOP_CO': 104.0, 'MAG_40_FRITM_4_FLPOP_CO': 50.0, 'MAG_40_FRITM_5_FLPOP_CO': 48.0, 'MAG_40_FRITM_6_FLPOP_CO': 85.0, 'MAG_40_SATTM_1_FLPOP_CO': 212.0, 'MAG_40_SATTM_2_FLPOP_CO': 262.0, 'MAG_40_SATTM_3_FLPOP_CO': 159.0, 'MAG_40_SATTM_4_FLPOP_CO': 150.0, 'MAG_40_SATTM_5_FLPOP_CO': 173.0, 'MAG_40_SATTM_6_FLPOP_CO': 124.0, 'MAG_40_SUNTM_1_FLPOP_CO': 194.0, 'MAG_40_SUNTM_2_FLPOP_CO': 220.0, 'MAG_40_SUNTM_3_FLPOP_CO': 153.0, 'MAG_40_SUNTM_4_FLPOP_CO': 146.0, 'MAG_40_SUNTM_5_FLPOP_CO': 188.0, 'MAG_40_SUNTM_6_FLPOP_CO': 119.0, 'MAG_50_MONTM_1_FLPOP_CO': 18.0, 'MAG_50_MONTM_2_FLPOP_CO': 182.0, 'MAG_50_MONTM_3_FLPOP_CO': 135.0, 'MAG_50_MONTM_4_FLPOP_CO': 58.0, 'MAG_50_MONTM_5_FLPOP_CO': 15.0, 'MAG_50_MONTM_6_FLPOP_CO': 3.0, 'MAG_50_TUETM_1_FLPOP_CO': 10.0, 'MAG_50_TUETM_2_FLPOP_CO': 192.0, 'MAG_50_TUETM_3_FLPOP_CO': 142.0, 'MAG_50_TUETM_4_FLPOP_CO': 69.0, 'MAG_50_TUETM_5_FLPOP_CO': 22.0, 'MAG_50_TUETM_6_FLPOP_CO': 4.0, 'MAG_50_WEDTM_1_FLPOP_CO': 11.0, 'MAG_50_WEDTM_2_FLPOP_CO': 199.0, 'MAG_50_WEDTM_3_FLPOP_CO': 142.0, 'MAG_50_WEDTM_4_FLPOP_CO': 68.0, 'MAG_50_WEDTM_5_FLPOP_CO': 23.0, 'MAG_50_WEDTM_6_FLPOP_CO': 4.0, 'MAG_50_THUTM_1_FLPOP_CO': 14.0, 'MAG_50_THUTM_2_FLPOP_CO': 231.0, 'MAG_50_THUTM_3_FLPOP_CO': 147.0, 'MAG_50_THUTM_4_FLPOP_CO': 69.0, 'MAG_50_THUTM_5_FLPOP_CO': 22.0, 'MAG_50_THUTM_6_FLPOP_CO': 4.0, 'MAG_50_FRITM_1_FLPOP_CO': 15.0, 'MAG_50_FRITM_2_FLPOP_CO': 194.0, 'MAG_50_FRITM_3_FLPOP_CO': 155.0, 'MAG_50_FRITM_4_FLPOP_CO': 73.0, 'MAG_50_FRITM_5_FLPOP_CO': 18.0, 'MAG_50_FRITM_6_FLPOP_CO': 7.0, 'MAG_50_SATTM_1_FLPOP_CO': 17.0, 'MAG_50_SATTM_2_FLPOP_CO': 228.0, 'MAG_50_SATTM_3_FLPOP_CO': 145.0, 'MAG_50_SATTM_4_FLPOP_CO': 70.0, 'MAG_50_SATTM_5_FLPOP_CO': 19.0, 'MAG_50_SATTM_6_FLPOP_CO': 5.0, 'MAG_50_SUNTM_1_FLPOP_CO': 13.0, 'MAG_50_SUNTM_2_FLPOP_CO': 41.0, 'MAG_50_SUNTM_3_FLPOP_CO': 19.0, 'MAG_50_SUNTM_4_FLPOP_CO': 10.0, 'MAG_50_SUNTM_5_FLPOP_CO': 10.0, 'MAG_50_SUNTM_6_FLPOP_CO': 7.0, 'MAG_60_ABOVE_MONTM_1_FLPOP_CO': 34.0, 'MAG_60_ABOVE_MONTM_2_FLPOP_CO': 211.0, 'MAG_60_ABOVE_MONTM_3_FLPOP_CO': 124.0, 'MAG_60_ABOVE_MONTM_4_FLPOP_CO': 128.0, 'MAG_60_ABOVE_MONTM_5_FLPOP_CO': 135.0, 'MAG_60_ABOVE_MONTM_6_FLPOP_CO': 39.0, 'MAG_60_ABOVE_TUETM_1_FLPOP_CO': 32.0, 'MAG_60_ABOVE_TUETM_2_FLPOP_CO': 225.0, 'MAG_60_ABOVE_TUETM_3_FLPOP_CO': 105.0, 'MAG_60_ABOVE_TUETM_4_FLPOP_CO': 85.0, 'MAG_60_ABOVE_TUETM_5_FLPOP_CO': 143.0, 'MAG_60_ABOVE_TUETM_6_FLPOP_CO': 22.0, 'MAG_60_ABOVE_WEDTM_1_FLPOP_CO': 35.0, 'MAG_60_ABOVE_WEDTM_2_FLPOP_CO': 236.0, 'MAG_60_ABOVE_WEDTM_3_FLPOP_CO': 117.0, 'MAG_60_ABOVE_WEDTM_4_FLPOP_CO': 111.0, 'MAG_60_ABOVE_WEDTM_5_FLPOP_CO': 109.0, 'MAG_60_ABOVE_WEDTM_6_FLPOP_CO': 20.0, 'MAG_60_ABOVE_THUTM_1_FLPOP_CO': 24.0, 'MAG_60_ABOVE_THUTM_2_FLPOP_CO': 228.0, 'MAG_60_ABOVE_THUTM_3_FLPOP_CO': 139.0, 'MAG_60_ABOVE_THUTM_4_FLPOP_CO': 129.0, 'MAG_60_ABOVE_THUTM_5_FLPOP_CO': 139.0, 'MAG_60_ABOVE_THUTM_6_FLPOP_CO': 33.0, 'MAG_60_ABOVE_FRITM_1_FLPOP_CO': 40.0, 'MAG_60_ABOVE_FRITM_2_FLPOP_CO': 252.0, 'MAG_60_ABOVE_FRITM_3_FLPOP_CO': 146.0, 'MAG_60_ABOVE_FRITM_4_FLPOP_CO': 140.0, 'MAG_60_ABOVE_FRITM_5_FLPOP_CO': 159.0, 'MAG_60_ABOVE_FRITM_6_FLPOP_CO': 48.0, 'MAG_60_ABOVE_SATTM_1_FLPOP_CO': 32.0, 'MAG_60_ABOVE_SATTM_2_FLPOP_CO': 151.0, 'MAG_60_ABOVE_SATTM_3_FLPOP_CO': 105.0, 'MAG_60_ABOVE_SATTM_4_FLPOP_CO': 80.0, 'MAG_60_ABOVE_SATTM_5_FLPOP_CO': 104.0, 'MAG_60_ABOVE_SATTM_6_FLPOP_CO': 48.0, 'MAG_60_ABOVE_SUNTM_1_FLPOP_CO': 31.0, 'MAG_60_ABOVE_SUNTM_2_FLPOP_CO': 135.0, 'MAG_60_ABOVE_SUNTM_3_FLPOP_CO': 100.0, 'MAG_60_ABOVE_SUNTM_4_FLPOP_CO': 29.0, 'MAG_60_ABOVE_SUNTM_5_FLPOP_CO': 69.0, 'MAG_60_ABOVE_SUNTM_6_FLPOP_CO': 24.0, 'FAG_10_MONTM_1_FLPOP_CO': 0.0, 'FAG_10_MONTM_2_FLPOP_CO': 4.0, 'FAG_10_MONTM_3_FLPOP_CO': 6.0, 'FAG_10_MONTM_4_FLPOP_CO': 7.0, 'FAG_10_MONTM_5_FLPOP_CO': 68.0, 'FAG_10_MONTM_6_FLPOP_CO': 1.0, 'FAG_10_TUETM_1_FLPOP_CO': 0.0, 'FAG_10_TUETM_2_FLPOP_CO': 4.0, 'FAG_10_TUETM_3_FLPOP_CO': 7.0, 'FAG_10_TUETM_4_FLPOP_CO': 7.0, 'FAG_10_TUETM_5_FLPOP_CO': 40.0, 'FAG_10_TUETM_6_FLPOP_CO': 1.0, 'FAG_10_WEDTM_1_FLPOP_CO': 0.0, 'FAG_10_WEDTM_2_FLPOP_CO': 4.0, 'FAG_10_WEDTM_3_FLPOP_CO': 22.0, 'FAG_10_WEDTM_4_FLPOP_CO': 31.0, 'FAG_10_WEDTM_5_FLPOP_CO': 67.0, 'FAG_10_WEDTM_6_FLPOP_CO': 1.0, 'FAG_10_THUTM_1_FLPOP_CO': 0.0, 'FAG_10_THUTM_2_FLPOP_CO': 4.0, 'FAG_10_THUTM_3_FLPOP_CO': 9.0, 'FAG_10_THUTM_4_FLPOP_CO': 6.0, 'FAG_10_THUTM_5_FLPOP_CO': 31.0, 'FAG_10_THUTM_6_FLPOP_CO': 2.0, 'FAG_10_FRITM_1_FLPOP_CO': 0.0, 'FAG_10_FRITM_2_FLPOP_CO': 5.0, 'FAG_10_FRITM_3_FLPOP_CO': 3.0, 'FAG_10_FRITM_4_FLPOP_CO': 11.0, 'FAG_10_FRITM_5_FLPOP_CO': 13.0, 'FAG_10_FRITM_6_FLPOP_CO': 1.0, 'FAG_10_SATTM_1_FLPOP_CO': 0.0, 'FAG_10_SATTM_2_FLPOP_CO': 0.0, 'FAG_10_SATTM_3_FLPOP_CO': 4.0, 'FAG_10_SATTM_4_FLPOP_CO': 3.0, 'FAG_10_SATTM_5_FLPOP_CO': 0.0, 'FAG_10_SATTM_6_FLPOP_CO': 0.0, 'FAG_10_SUNTM_1_FLPOP_CO': 0.0, 'FAG_10_SUNTM_2_FLPOP_CO': 0.0, 'FAG_10_SUNTM_3_FLPOP_CO': 0.0, 'FAG_10_SUNTM_4_FLPOP_CO': 1.0, 'FAG_10_SUNTM_5_FLPOP_CO': 0.0, 'FAG_10_SUNTM_6_FLPOP_CO': 0.0, 'FAG_20_MONTM_1_FLPOP_CO': 86.0, 'FAG_20_MONTM_2_FLPOP_CO': 48.0, 'FAG_20_MONTM_3_FLPOP_CO': 15.0, 'FAG_20_MONTM_4_FLPOP_CO': 11.0, 'FAG_20_MONTM_5_FLPOP_CO': 17.0, 'FAG_20_MONTM_6_FLPOP_CO': 29.0, 'FAG_20_TUETM_1_FLPOP_CO': 115.0, 'FAG_20_TUETM_2_FLPOP_CO': 41.0, 'FAG_20_TUETM_3_FLPOP_CO': 13.0, 'FAG_20_TUETM_4_FLPOP_CO': 19.0, 'FAG_20_TUETM_5_FLPOP_CO': 20.0, 'FAG_20_TUETM_6_FLPOP_CO': 23.0, 'FAG_20_WEDTM_1_FLPOP_CO': 82.0, 'FAG_20_WEDTM_2_FLPOP_CO': 36.0, 'FAG_20_WEDTM_3_FLPOP_CO': 12.0, 'FAG_20_WEDTM_4_FLPOP_CO': 15.0, 'FAG_20_WEDTM_5_FLPOP_CO': 16.0, 'FAG_20_WEDTM_6_FLPOP_CO': 36.0, 'FAG_20_THUTM_1_FLPOP_CO': 126.0, 'FAG_20_THUTM_2_FLPOP_CO': 63.0, 'FAG_20_THUTM_3_FLPOP_CO': 10.0, 'FAG_20_THUTM_4_FLPOP_CO': 12.0, 'FAG_20_THUTM_5_FLPOP_CO': 16.0, 'FAG_20_THUTM_6_FLPOP_CO': 31.0, 'FAG_20_FRITM_1_FLPOP_CO': 88.0, 'FAG_20_FRITM_2_FLPOP_CO': 47.0, 'FAG_20_FRITM_3_FLPOP_CO': 12.0, 'FAG_20_FRITM_4_FLPOP_CO': 9.0, 'FAG_20_FRITM_5_FLPOP_CO': 29.0, 'FAG_20_FRITM_6_FLPOP_CO': 22.0, 'FAG_20_SATTM_1_FLPOP_CO': 79.0, 'FAG_20_SATTM_2_FLPOP_CO': 62.0, 'FAG_20_SATTM_3_FLPOP_CO': 41.0, 'FAG_20_SATTM_4_FLPOP_CO': 18.0, 'FAG_20_SATTM_5_FLPOP_CO': 23.0, 'FAG_20_SATTM_6_FLPOP_CO': 18.0, 'FAG_20_SUNTM_1_FLPOP_CO': 83.0, 'FAG_20_SUNTM_2_FLPOP_CO': 62.0, 'FAG_20_SUNTM_3_FLPOP_CO': 23.0, 'FAG_20_SUNTM_4_FLPOP_CO': 18.0, 'FAG_20_SUNTM_5_FLPOP_CO': 29.0, 'FAG_20_SUNTM_6_FLPOP_CO': 25.0, 'FAG_30_MONTM_1_FLPOP_CO': 227.0, 'FAG_30_MONTM_2_FLPOP_CO': 196.0, 'FAG_30_MONTM_3_FLPOP_CO': 118.0, 'FAG_30_MONTM_4_FLPOP_CO': 99.0, 'FAG_30_MONTM_5_FLPOP_CO': 153.0, 'FAG_30_MONTM_6_FLPOP_CO': 125.0, 'FAG_30_TUETM_1_FLPOP_CO': 260.0, 'FAG_30_TUETM_2_FLPOP_CO': 208.0, 'FAG_30_TUETM_3_FLPOP_CO': 117.0, 'FAG_30_TUETM_4_FLPOP_CO': 132.0, 'FAG_30_TUETM_5_FLPOP_CO': 175.0, 'FAG_30_TUETM_6_FLPOP_CO': 130.0, 'FAG_30_WEDTM_1_FLPOP_CO': 278.0, 'FAG_30_WEDTM_2_FLPOP_CO': 206.0, 'FAG_30_WEDTM_3_FLPOP_CO': 122.0, 'FAG_30_WEDTM_4_FLPOP_CO': 125.0, 'FAG_30_WEDTM_5_FLPOP_CO': 183.0, 'FAG_30_WEDTM_6_FLPOP_CO': 123.0, 'FAG_30_THUTM_1_FLPOP_CO': 193.0, 'FAG_30_THUTM_2_FLPOP_CO': 204.0, 'FAG_30_THUTM_3_FLPOP_CO': 118.0, 'FAG_30_THUTM_4_FLPOP_CO': 135.0, 'FAG_30_THUTM_5_FLPOP_CO': 190.0, 'FAG_30_THUTM_6_FLPOP_CO': 127.0, 'FAG_30_FRITM_1_FLPOP_CO': 258.0, 'FAG_30_FRITM_2_FLPOP_CO': 205.0, 'FAG_30_FRITM_3_FLPOP_CO': 129.0, 'FAG_30_FRITM_4_FLPOP_CO': 121.0, 'FAG_30_FRITM_5_FLPOP_CO': 171.0, 'FAG_30_FRITM_6_FLPOP_CO': 146.0, 'FAG_30_SATTM_1_FLPOP_CO': 287.0, 'FAG_30_SATTM_2_FLPOP_CO': 247.0, 'FAG_30_SATTM_3_FLPOP_CO': 144.0, 'FAG_30_SATTM_4_FLPOP_CO': 154.0, 'FAG_30_SATTM_5_FLPOP_CO': 202.0, 'FAG_30_SATTM_6_FLPOP_CO': 131.0, 'FAG_30_SUNTM_1_FLPOP_CO': 282.0, 'FAG_30_SUNTM_2_FLPOP_CO': 245.0, 'FAG_30_SUNTM_3_FLPOP_CO': 148.0, 'FAG_30_SUNTM_4_FLPOP_CO': 154.0, 'FAG_30_SUNTM_5_FLPOP_CO': 213.0, 'FAG_30_SUNTM_6_FLPOP_CO': 149.0, 'FAG_40_MONTM_1_FLPOP_CO': 25.0, 'FAG_40_MONTM_2_FLPOP_CO': 126.0, 'FAG_40_MONTM_3_FLPOP_CO': 110.0, 'FAG_40_MONTM_4_FLPOP_CO': 76.0, 'FAG_40_MONTM_5_FLPOP_CO': 44.0, 'FAG_40_MONTM_6_FLPOP_CO': 8.0, 'FAG_40_TUETM_1_FLPOP_CO': 20.0, 'FAG_40_TUETM_2_FLPOP_CO': 128.0, 'FAG_40_TUETM_3_FLPOP_CO': 116.0, 'FAG_40_TUETM_4_FLPOP_CO': 87.0, 'FAG_40_TUETM_5_FLPOP_CO': 40.0, 'FAG_40_TUETM_6_FLPOP_CO': 11.0, 'FAG_40_WEDTM_1_FLPOP_CO': 24.0, 'FAG_40_WEDTM_2_FLPOP_CO': 114.0, 'FAG_40_WEDTM_3_FLPOP_CO': 117.0, 'FAG_40_WEDTM_4_FLPOP_CO': 115.0, 'FAG_40_WEDTM_5_FLPOP_CO': 34.0, 'FAG_40_WEDTM_6_FLPOP_CO': 7.0, 'FAG_40_THUTM_1_FLPOP_CO': 35.0, 'FAG_40_THUTM_2_FLPOP_CO': 133.0, 'FAG_40_THUTM_3_FLPOP_CO': 127.0, 'FAG_40_THUTM_4_FLPOP_CO': 80.0, 'FAG_40_THUTM_5_FLPOP_CO': 59.0, 'FAG_40_THUTM_6_FLPOP_CO': 9.0, 'FAG_40_FRITM_1_FLPOP_CO': 14.0, 'FAG_40_FRITM_2_FLPOP_CO': 99.0, 'FAG_40_FRITM_3_FLPOP_CO': 109.0, 'FAG_40_FRITM_4_FLPOP_CO': 84.0, 'FAG_40_FRITM_5_FLPOP_CO': 37.0, 'FAG_40_FRITM_6_FLPOP_CO': 11.0, 'FAG_40_SATTM_1_FLPOP_CO': 18.0, 'FAG_40_SATTM_2_FLPOP_CO': 104.0, 'FAG_40_SATTM_3_FLPOP_CO': 103.0, 'FAG_40_SATTM_4_FLPOP_CO': 78.0, 'FAG_40_SATTM_5_FLPOP_CO': 31.0, 'FAG_40_SATTM_6_FLPOP_CO': 10.0, 'FAG_40_SUNTM_1_FLPOP_CO': 26.0, 'FAG_40_SUNTM_2_FLPOP_CO': 34.0, 'FAG_40_SUNTM_3_FLPOP_CO': 23.0, 'FAG_40_SUNTM_4_FLPOP_CO': 22.0, 'FAG_40_SUNTM_5_FLPOP_CO': 22.0, 'FAG_40_SUNTM_6_FLPOP_CO': 10.0, 'FAG_50_MONTM_1_FLPOP_CO': 23.0, 'FAG_50_MONTM_2_FLPOP_CO': 69.0, 'FAG_50_MONTM_3_FLPOP_CO': 108.0, 'FAG_50_MONTM_4_FLPOP_CO': 105.0, 'FAG_50_MONTM_5_FLPOP_CO': 82.0, 'FAG_50_MONTM_6_FLPOP_CO': 22.0, 'FAG_50_TUETM_1_FLPOP_CO': 51.0, 'FAG_50_TUETM_2_FLPOP_CO': 124.0, 'FAG_50_TUETM_3_FLPOP_CO': 161.0, 'FAG_50_TUETM_4_FLPOP_CO': 135.0, 'FAG_50_TUETM_5_FLPOP_CO': 116.0, 'FAG_50_TUETM_6_FLPOP_CO': 21.0, 'FAG_50_WEDTM_1_FLPOP_CO': 37.0, 'FAG_50_WEDTM_2_FLPOP_CO': 71.0, 'FAG_50_WEDTM_3_FLPOP_CO': 108.0, 'FAG_50_WEDTM_4_FLPOP_CO': 92.0, 'FAG_50_WEDTM_5_FLPOP_CO': 80.0, 'FAG_50_WEDTM_6_FLPOP_CO': 25.0, 'FAG_50_THUTM_1_FLPOP_CO': 55.0, 'FAG_50_THUTM_2_FLPOP_CO': 116.0, 'FAG_50_THUTM_3_FLPOP_CO': 116.0, 'FAG_50_THUTM_4_FLPOP_CO': 102.0, 'FAG_50_THUTM_5_FLPOP_CO': 67.0, 'FAG_50_THUTM_6_FLPOP_CO': 29.0, 'FAG_50_FRITM_1_FLPOP_CO': 32.0, 'FAG_50_FRITM_2_FLPOP_CO': 98.0, 'FAG_50_FRITM_3_FLPOP_CO': 101.0, 'FAG_50_FRITM_4_FLPOP_CO': 83.0, 'FAG_50_FRITM_5_FLPOP_CO': 58.0, 'FAG_50_FRITM_6_FLPOP_CO': 16.0, 'FAG_50_SATTM_1_FLPOP_CO': 37.0, 'FAG_50_SATTM_2_FLPOP_CO': 95.0, 'FAG_50_SATTM_3_FLPOP_CO': 42.0, 'FAG_50_SATTM_4_FLPOP_CO': 45.0, 'FAG_50_SATTM_5_FLPOP_CO': 45.0, 'FAG_50_SATTM_6_FLPOP_CO': 39.0, 'FAG_50_SUNTM_1_FLPOP_CO': 56.0, 'FAG_50_SUNTM_2_FLPOP_CO': 102.0, 'FAG_50_SUNTM_3_FLPOP_CO': 82.0, 'FAG_50_SUNTM_4_FLPOP_CO': 17.0, 'FAG_50_SUNTM_5_FLPOP_CO': 26.0, 'FAG_50_SUNTM_6_FLPOP_CO': 19.0, 'FAG_60_ABOVE_MONTM_1_FLPOP_CO': 108.0, 'FAG_60_ABOVE_MONTM_2_FLPOP_CO': 205.0, 'FAG_60_ABOVE_MONTM_3_FLPOP_CO': 105.0, 'FAG_60_ABOVE_MONTM_4_FLPOP_CO': 94.0, 'FAG_60_ABOVE_MONTM_5_FLPOP_CO': 178.0, 'FAG_60_ABOVE_MONTM_6_FLPOP_CO': 72.0, 'FAG_60_ABOVE_TUETM_1_FLPOP_CO': 103.0, 'FAG_60_ABOVE_TUETM_2_FLPOP_CO': 205.0, 'FAG_60_ABOVE_TUETM_3_FLPOP_CO': 117.0, 'FAG_60_ABOVE_TUETM_4_FLPOP_CO': 122.0, 'FAG_60_ABOVE_TUETM_5_FLPOP_CO': 193.0, 'FAG_60_ABOVE_TUETM_6_FLPOP_CO': 90.0, 'FAG_60_ABOVE_WEDTM_1_FLPOP_CO': 114.0, 'FAG_60_ABOVE_WEDTM_2_FLPOP_CO': 225.0, 'FAG_60_ABOVE_WEDTM_3_FLPOP_CO': 101.0, 'FAG_60_ABOVE_WEDTM_4_FLPOP_CO': 132.0, 'FAG_60_ABOVE_WEDTM_5_FLPOP_CO': 200.0, 'FAG_60_ABOVE_WEDTM_6_FLPOP_CO': 67.0, 'FAG_60_ABOVE_THUTM_1_FLPOP_CO': 110.0, 'FAG_60_ABOVE_THUTM_2_FLPOP_CO': 201.0, 'FAG_60_ABOVE_THUTM_3_FLPOP_CO': 94.0, 'FAG_60_ABOVE_THUTM_4_FLPOP_CO': 125.0, 'FAG_60_ABOVE_THUTM_5_FLPOP_CO': 202.0, 'FAG_60_ABOVE_THUTM_6_FLPOP_CO': 74.0, 'FAG_60_ABOVE_FRITM_1_FLPOP_CO': 78.0, 'FAG_60_ABOVE_FRITM_2_FLPOP_CO': 228.0, 'FAG_60_ABOVE_FRITM_3_FLPOP_CO': 142.0, 'FAG_60_ABOVE_FRITM_4_FLPOP_CO': 153.0, 'FAG_60_ABOVE_FRITM_5_FLPOP_CO': 184.0, 'FAG_60_ABOVE_FRITM_6_FLPOP_CO': 98.0, 'FAG_60_ABOVE_SATTM_1_FLPOP_CO': 127.0, 'FAG_60_ABOVE_SATTM_2_FLPOP_CO': 140.0, 'FAG_60_ABOVE_SATTM_3_FLPOP_CO': 83.0, 'FAG_60_ABOVE_SATTM_4_FLPOP_CO': 112.0, 'FAG_60_ABOVE_SATTM_5_FLPOP_CO': 132.0, 'FAG_60_ABOVE_SATTM_6_FLPOP_CO': 62.0, 'FAG_60_ABOVE_SUNTM_1_FLPOP_CO': 108.0, 'FAG_60_ABOVE_SUNTM_2_FLPOP_CO': 177.0, 'FAG_60_ABOVE_SUNTM_3_FLPOP_CO': 93.0, 'FAG_60_ABOVE_SUNTM_4_FLPOP_CO': 123.0, 'FAG_60_ABOVE_SUNTM_5_FLPOP_CO': 157.0, 'FAG_60_ABOVE_SUNTM_6_FLPOP_CO': 73.0}, {'STDR_YY_CD': '2017', 'STDR_QU_CD': '3', 'TRDAR_SE_CD': 'R', 'TRDAR_SE_CD_NM': '전통시장', 'TRDAR_CD': '1001317', 'TRDAR_CD_NM': '청량리농수산물시장', 'TOT_FLPOP_CO': 16591.0, 'ML_FLPOP_CO': 8933.0, 'FML_FLPOP_CO': 7658.0, 'AGRDE_10_FLPOP_CO': 186.0, 'AGRDE_20_FLPOP_CO': 2310.0, 'AGRDE_30_FLPOP_CO': 2168.0, 'AGRDE_40_FLPOP_CO': 2654.0, 'AGRDE_50_FLPOP_CO': 3982.0, 'AGRDE_60_ABOVE_FLPOP_CO': 5290.0, 'TMZON_1_FLPOP_CO': 1628.0, 'TMZON_2_FLPOP_CO': 3348.0, 'TMZON_3_FLPOP_CO': 3641.0, 'TMZON_4_FLPOP_CO': 3754.0, 'TMZON_5_FLPOP_CO': 3140.0, 'TMZON_6_FLPOP_CO': 1080.0, 'MON_FLPOP_CO': 2388.0, 'TUES_FLPOP_CO': 2547.0, 'WED_FLPOP_CO': 2532.0, 'THUR_FLPOP_CO': 2377.0, 'FRI_FLPOP_CO': 2484.0, 'SAT_FLPOP_CO': 2259.0, 'SUN_FLPOP_CO': 2004.0, 'MAG_10_MONTM_1_FLPOP_CO': 0.0, 'MAG_10_MONTM_2_FLPOP_CO': 0.0, 'MAG_10_MONTM_3_FLPOP_CO': 1.0, 'MAG_10_MONTM_4_FLPOP_CO': 2.0, 'MAG_10_MONTM_5_FLPOP_CO': 2.0, 'MAG_10_MONTM_6_FLPOP_CO': 1.0, 'MAG_10_TUETM_1_FLPOP_CO': 0.0, 'MAG_10_TUETM_2_FLPOP_CO': 1.0, 'MAG_10_TUETM_3_FLPOP_CO': 2.0, 'MAG_10_TUETM_4_FLPOP_CO': 3.0, 'MAG_10_TUETM_5_FLPOP_CO': 3.0, 'MAG_10_TUETM_6_FLPOP_CO': 1.0, 'MAG_10_WEDTM_1_FLPOP_CO': 0.0, 'MAG_10_WEDTM_2_FLPOP_CO': 1.0, 'MAG_10_WEDTM_3_FLPOP_CO': 2.0, 'MAG_10_WEDTM_4_FLPOP_CO': 2.0, 'MAG_10_WEDTM_5_FLPOP_CO': 3.0, 'MAG_10_WEDTM_6_FLPOP_CO': 2.0, 'MAG_10_THUTM_1_FLPOP_CO': 0.0, 'MAG_10_THUTM_2_FLPOP_CO': 1.0, 'MAG_10_THUTM_3_FLPOP_CO': 2.0, 'MAG_10_THUTM_4_FLPOP_CO': 2.0, 'MAG_10_THUTM_5_FLPOP_CO': 3.0, 'MAG_10_THUTM_6_FLPOP_CO': 1.0, 'MAG_10_FRITM_1_FLPOP_CO': 0.0, 'MAG_10_FRITM_2_FLPOP_CO': 1.0, 'MAG_10_FRITM_3_FLPOP_CO': 2.0, 'MAG_10_FRITM_4_FLPOP_CO': 3.0, 'MAG_10_FRITM_5_FLPOP_CO': 4.0, 'MAG_10_FRITM_6_FLPOP_CO': 2.0, 'MAG_10_SATTM_1_FLPOP_CO': 0.0, 'MAG_10_SATTM_2_FLPOP_CO': 2.0, 'MAG_10_SATTM_3_FLPOP_CO': 3.0, 'MAG_10_SATTM_4_FLPOP_CO': 3.0, 'MAG_10_SATTM_5_FLPOP_CO': 3.0, 'MAG_10_SATTM_6_FLPOP_CO': 1.0, 'MAG_10_SUNTM_1_FLPOP_CO': 0.0, 'MAG_10_SUNTM_2_FLPOP_CO': 2.0, 'MAG_10_SUNTM_3_FLPOP_CO': 6.0, 'MAG_10_SUNTM_4_FLPOP_CO': 6.0, 'MAG_10_SUNTM_5_FLPOP_CO': 3.0, 'MAG_10_SUNTM_6_FLPOP_CO': 0.0, 'MAG_20_MONTM_1_FLPOP_CO': 22.0, 'MAG_20_MONTM_2_FLPOP_CO': 32.0, 'MAG_20_MONTM_3_FLPOP_CO': 28.0, 'MAG_20_MONTM_4_FLPOP_CO': 30.0, 'MAG_20_MONTM_5_FLPOP_CO': 32.0, 'MAG_20_MONTM_6_FLPOP_CO': 16.0, 'MAG_20_TUETM_1_FLPOP_CO': 22.0, 'MAG_20_TUETM_2_FLPOP_CO': 33.0, 'MAG_20_TUETM_3_FLPOP_CO': 28.0, 'MAG_20_TUETM_4_FLPOP_CO': 30.0, 'MAG_20_TUETM_5_FLPOP_CO': 38.0, 'MAG_20_TUETM_6_FLPOP_CO': 18.0, 'MAG_20_WEDTM_1_FLPOP_CO': 21.0, 'MAG_20_WEDTM_2_FLPOP_CO': 34.0, 'MAG_20_WEDTM_3_FLPOP_CO': 29.0, 'MAG_20_WEDTM_4_FLPOP_CO': 30.0, 'MAG_20_WEDTM_5_FLPOP_CO': 39.0, 'MAG_20_WEDTM_6_FLPOP_CO': 20.0, 'MAG_20_THUTM_1_FLPOP_CO': 20.0, 'MAG_20_THUTM_2_FLPOP_CO': 30.0, 'MAG_20_THUTM_3_FLPOP_CO': 28.0, 'MAG_20_THUTM_4_FLPOP_CO': 30.0, 'MAG_20_THUTM_5_FLPOP_CO': 36.0, 'MAG_20_THUTM_6_FLPOP_CO': 19.0, 'MAG_20_FRITM_1_FLPOP_CO': 21.0, 'MAG_20_FRITM_2_FLPOP_CO': 32.0, 'MAG_20_FRITM_3_FLPOP_CO': 30.0, 'MAG_20_FRITM_4_FLPOP_CO': 29.0, 'MAG_20_FRITM_5_FLPOP_CO': 36.0, 'MAG_20_FRITM_6_FLPOP_CO': 19.0, 'MAG_20_SATTM_1_FLPOP_CO': 21.0, 'MAG_20_SATTM_2_FLPOP_CO': 29.0, 'MAG_20_SATTM_3_FLPOP_CO': 24.0, 'MAG_20_SATTM_4_FLPOP_CO': 23.0, 'MAG_20_SATTM_5_FLPOP_CO': 29.0, 'MAG_20_SATTM_6_FLPOP_CO': 18.0, 'MAG_20_SUNTM_1_FLPOP_CO': 25.0, 'MAG_20_SUNTM_2_FLPOP_CO': 30.0, 'MAG_20_SUNTM_3_FLPOP_CO': 27.0, 'MAG_20_SUNTM_4_FLPOP_CO': 21.0, 'MAG_20_SUNTM_5_FLPOP_CO': 25.0, 'MAG_20_SUNTM_6_FLPOP_CO': 13.0, 'MAG_30_MONTM_1_FLPOP_CO': 20.0, 'MAG_30_MONTM_2_FLPOP_CO': 43.0, 'MAG_30_MONTM_3_FLPOP_CO': 37.0, 'MAG_30_MONTM_4_FLPOP_CO': 39.0, 'MAG_30_MONTM_5_FLPOP_CO': 36.0, 'MAG_30_MONTM_6_FLPOP_CO': 15.0, 'MAG_30_TUETM_1_FLPOP_CO': 23.0, 'MAG_30_TUETM_2_FLPOP_CO': 46.0, 'MAG_30_TUETM_3_FLPOP_CO': 41.0, 'MAG_30_TUETM_4_FLPOP_CO': 40.0, 'MAG_30_TUETM_5_FLPOP_CO': 39.0, 'MAG_30_TUETM_6_FLPOP_CO': 16.0, 'MAG_30_WEDTM_1_FLPOP_CO': 22.0, 'MAG_30_WEDTM_2_FLPOP_CO': 43.0, 'MAG_30_WEDTM_3_FLPOP_CO': 40.0, 'MAG_30_WEDTM_4_FLPOP_CO': 37.0, 'MAG_30_WEDTM_5_FLPOP_CO': 41.0, 'MAG_30_WEDTM_6_FLPOP_CO': 19.0, 'MAG_30_THUTM_1_FLPOP_CO': 23.0, 'MAG_30_THUTM_2_FLPOP_CO': 45.0, 'MAG_30_THUTM_3_FLPOP_CO': 38.0, 'MAG_30_THUTM_4_FLPOP_CO': 36.0, 'MAG_30_THUTM_5_FLPOP_CO': 36.0, 'MAG_30_THUTM_6_FLPOP_CO': 14.0, 'MAG_30_FRITM_1_FLPOP_CO': 22.0, 'MAG_30_FRITM_2_FLPOP_CO': 44.0, 'MAG_30_FRITM_3_FLPOP_CO': 37.0, 'MAG_30_FRITM_4_FLPOP_CO': 38.0, 'MAG_30_FRITM_5_FLPOP_CO': 39.0, 'MAG_30_FRITM_6_FLPOP_CO': 18.0, 'MAG_30_SATTM_1_FLPOP_CO': 21.0, 'MAG_30_SATTM_2_FLPOP_CO': 40.0, 'MAG_30_SATTM_3_FLPOP_CO': 32.0, 'MAG_30_SATTM_4_FLPOP_CO': 33.0, 'MAG_30_SATTM_5_FLPOP_CO': 30.0, 'MAG_30_SATTM_6_FLPOP_CO': 14.0, 'MAG_30_SUNTM_1_FLPOP_CO': 19.0, 'MAG_30_SUNTM_2_FLPOP_CO': 31.0, 'MAG_30_SUNTM_3_FLPOP_CO': 32.0, 'MAG_30_SUNTM_4_FLPOP_CO': 30.0, 'MAG_30_SUNTM_5_FLPOP_CO': 25.0, 'MAG_30_SUNTM_6_FLPOP_CO': 12.0, 'MAG_40_MONTM_1_FLPOP_CO': 27.0, 'MAG_40_MONTM_2_FLPOP_CO': 56.0, 'MAG_40_MONTM_3_FLPOP_CO': 49.0, 'MAG_40_MONTM_4_FLPOP_CO': 47.0, 'MAG_40_MONTM_5_FLPOP_CO': 42.0, 'MAG_40_MONTM_6_FLPOP_CO': 16.0, 'MAG_40_TUETM_1_FLPOP_CO': 30.0, 'MAG_40_TUETM_2_FLPOP_CO': 59.0, 'MAG_40_TUETM_3_FLPOP_CO': 51.0, 'MAG_40_TUETM_4_FLPOP_CO': 49.0, 'MAG_40_TUETM_5_FLPOP_CO': 46.0, 'MAG_40_TUETM_6_FLPOP_CO': 17.0, 'MAG_40_WEDTM_1_FLPOP_CO': 30.0, 'MAG_40_WEDTM_2_FLPOP_CO': 56.0, 'MAG_40_WEDTM_3_FLPOP_CO': 48.0, 'MAG_40_WEDTM_4_FLPOP_CO': 47.0, 'MAG_40_WEDTM_5_FLPOP_CO': 45.0, 'MAG_40_WEDTM_6_FLPOP_CO': 18.0, 'MAG_40_THUTM_1_FLPOP_CO': 28.0, 'MAG_40_THUTM_2_FLPOP_CO': 55.0, 'MAG_40_THUTM_3_FLPOP_CO': 47.0, 'MAG_40_THUTM_4_FLPOP_CO': 47.0, 'MAG_40_THUTM_5_FLPOP_CO': 42.0, 'MAG_40_THUTM_6_FLPOP_CO': 16.0, 'MAG_40_FRITM_1_FLPOP_CO': 29.0, 'MAG_40_FRITM_2_FLPOP_CO': 56.0, 'MAG_40_FRITM_3_FLPOP_CO': 47.0, 'MAG_40_FRITM_4_FLPOP_CO': 47.0, 'MAG_40_FRITM_5_FLPOP_CO': 43.0, 'MAG_40_FRITM_6_FLPOP_CO': 18.0, 'MAG_40_SATTM_1_FLPOP_CO': 31.0, 'MAG_40_SATTM_2_FLPOP_CO': 54.0, 'MAG_40_SATTM_3_FLPOP_CO': 45.0, 'MAG_40_SATTM_4_FLPOP_CO': 43.0, 'MAG_40_SATTM_5_FLPOP_CO': 37.0, 'MAG_40_SATTM_6_FLPOP_CO': 14.0, 'MAG_40_SUNTM_1_FLPOP_CO': 20.0, 'MAG_40_SUNTM_2_FLPOP_CO': 32.0, 'MAG_40_SUNTM_3_FLPOP_CO': 39.0, 'MAG_40_SUNTM_4_FLPOP_CO': 40.0, 'MAG_40_SUNTM_5_FLPOP_CO': 31.0, 'MAG_40_SUNTM_6_FLPOP_CO': 13.0, 'MAG_50_MONTM_1_FLPOP_CO': 37.0, 'MAG_50_MONTM_2_FLPOP_CO': 72.0, 'MAG_50_MONTM_3_FLPOP_CO': 60.0, 'MAG_50_MONTM_4_FLPOP_CO': 61.0, 'MAG_50_MONTM_5_FLPOP_CO': 58.0, 'MAG_50_MONTM_6_FLPOP_CO': 19.0, 'MAG_50_TUETM_1_FLPOP_CO': 38.0, 'MAG_50_TUETM_2_FLPOP_CO': 77.0, 'MAG_50_TUETM_3_FLPOP_CO': 60.0, 'MAG_50_TUETM_4_FLPOP_CO': 60.0, 'MAG_50_TUETM_5_FLPOP_CO': 63.0, 'MAG_50_TUETM_6_FLPOP_CO': 20.0, 'MAG_50_WEDTM_1_FLPOP_CO': 38.0, 'MAG_50_WEDTM_2_FLPOP_CO': 70.0, 'MAG_50_WEDTM_3_FLPOP_CO': 57.0, 'MAG_50_WEDTM_4_FLPOP_CO': 61.0, 'MAG_50_WEDTM_5_FLPOP_CO': 65.0, 'MAG_50_WEDTM_6_FLPOP_CO': 22.0, 'MAG_50_THUTM_1_FLPOP_CO': 38.0, 'MAG_50_THUTM_2_FLPOP_CO': 71.0, 'MAG_50_THUTM_3_FLPOP_CO': 54.0, 'MAG_50_THUTM_4_FLPOP_CO': 56.0, 'MAG_50_THUTM_5_FLPOP_CO': 61.0, 'MAG_50_THUTM_6_FLPOP_CO': 20.0, 'MAG_50_FRITM_1_FLPOP_CO': 38.0, 'MAG_50_FRITM_2_FLPOP_CO': 73.0, 'MAG_50_FRITM_3_FLPOP_CO': 57.0, 'MAG_50_FRITM_4_FLPOP_CO': 60.0, 'MAG_50_FRITM_5_FLPOP_CO': 61.0, 'MAG_50_FRITM_6_FLPOP_CO': 20.0, 'MAG_50_SATTM_1_FLPOP_CO': 36.0, 'MAG_50_SATTM_2_FLPOP_CO': 68.0, 'MAG_50_SATTM_3_FLPOP_CO': 53.0, 'MAG_50_SATTM_4_FLPOP_CO': 55.0, 'MAG_50_SATTM_5_FLPOP_CO': 54.0, 'MAG_50_SATTM_6_FLPOP_CO': 14.0, 'MAG_50_SUNTM_1_FLPOP_CO': 19.0, 'MAG_50_SUNTM_2_FLPOP_CO': 45.0, 'MAG_50_SUNTM_3_FLPOP_CO': 53.0, 'MAG_50_SUNTM_4_FLPOP_CO': 57.0, 'MAG_50_SUNTM_5_FLPOP_CO': 44.0, 'MAG_50_SUNTM_6_FLPOP_CO': 15.0, 'MAG_60_ABOVE_MONTM_1_FLPOP_CO': 39.0, 'MAG_60_ABOVE_MONTM_2_FLPOP_CO': 79.0, 'MAG_60_ABOVE_MONTM_3_FLPOP_CO': 98.0, 'MAG_60_ABOVE_MONTM_4_FLPOP_CO': 103.0, 'MAG_60_ABOVE_MONTM_5_FLPOP_CO': 72.0, 'MAG_60_ABOVE_MONTM_6_FLPOP_CO': 19.0, 'MAG_60_ABOVE_TUETM_1_FLPOP_CO': 41.0, 'MAG_60_ABOVE_TUETM_2_FLPOP_CO': 80.0, 'MAG_60_ABOVE_TUETM_3_FLPOP_CO': 98.0, 'MAG_60_ABOVE_TUETM_4_FLPOP_CO': 107.0, 'MAG_60_ABOVE_TUETM_5_FLPOP_CO': 78.0, 'MAG_60_ABOVE_TUETM_6_FLPOP_CO': 19.0, 'MAG_60_ABOVE_WEDTM_1_FLPOP_CO': 37.0, 'MAG_60_ABOVE_WEDTM_2_FLPOP_CO': 73.0, 'MAG_60_ABOVE_WEDTM_3_FLPOP_CO': 95.0, 'MAG_60_ABOVE_WEDTM_4_FLPOP_CO': 101.0, 'MAG_60_ABOVE_WEDTM_5_FLPOP_CO': 81.0, 'MAG_60_ABOVE_WEDTM_6_FLPOP_CO': 22.0, 'MAG_60_ABOVE_THUTM_1_FLPOP_CO': 38.0, 'MAG_60_ABOVE_THUTM_2_FLPOP_CO': 74.0, 'MAG_60_ABOVE_THUTM_3_FLPOP_CO': 90.0, 'MAG_60_ABOVE_THUTM_4_FLPOP_CO': 100.0, 'MAG_60_ABOVE_THUTM_5_FLPOP_CO': 73.0, 'MAG_60_ABOVE_THUTM_6_FLPOP_CO': 19.0, 'MAG_60_ABOVE_FRITM_1_FLPOP_CO': 40.0, 'MAG_60_ABOVE_FRITM_2_FLPOP_CO': 78.0, 'MAG_60_ABOVE_FRITM_3_FLPOP_CO': 91.0, 'MAG_60_ABOVE_FRITM_4_FLPOP_CO': 104.0, 'MAG_60_ABOVE_FRITM_5_FLPOP_CO': 80.0, 'MAG_60_ABOVE_FRITM_6_FLPOP_CO': 21.0, 'MAG_60_ABOVE_SATTM_1_FLPOP_CO': 37.0, 'MAG_60_ABOVE_SATTM_2_FLPOP_CO': 76.0, 'MAG_60_ABOVE_SATTM_3_FLPOP_CO': 91.0, 'MAG_60_ABOVE_SATTM_4_FLPOP_CO': 102.0, 'MAG_60_ABOVE_SATTM_5_FLPOP_CO': 70.0, 'MAG_60_ABOVE_SATTM_6_FLPOP_CO': 14.0, 'MAG_60_ABOVE_SUNTM_1_FLPOP_CO': 22.0, 'MAG_60_ABOVE_SUNTM_2_FLPOP_CO': 57.0, 'MAG_60_ABOVE_SUNTM_3_FLPOP_CO': 77.0, 'MAG_60_ABOVE_SUNTM_4_FLPOP_CO': 92.0, 'MAG_60_ABOVE_SUNTM_5_FLPOP_CO': 61.0, 'MAG_60_ABOVE_SUNTM_6_FLPOP_CO': 18.0, 'FAG_10_MONTM_1_FLPOP_CO': 0.0, 'FAG_10_MONTM_2_FLPOP_CO': 2.0, 'FAG_10_MONTM_3_FLPOP_CO': 3.0, 'FAG_10_MONTM_4_FLPOP_CO': 3.0, 'FAG_10_MONTM_5_FLPOP_CO': 3.0, 'FAG_10_MONTM_6_FLPOP_CO': 1.0, 'FAG_10_TUETM_1_FLPOP_CO': 1.0, 'FAG_10_TUETM_2_FLPOP_CO': 3.0, 'FAG_10_TUETM_3_FLPOP_CO': 3.0, 'FAG_10_TUETM_4_FLPOP_CO': 3.0, 'FAG_10_TUETM_5_FLPOP_CO': 4.0, 'FAG_10_TUETM_6_FLPOP_CO': 2.0, 'FAG_10_WEDTM_1_FLPOP_CO': 1.0, 'FAG_10_WEDTM_2_FLPOP_CO': 3.0, 'FAG_10_WEDTM_3_FLPOP_CO': 3.0, 'FAG_10_WEDTM_4_FLPOP_CO': 3.0, 'FAG_10_WEDTM_5_FLPOP_CO': 4.0, 'FAG_10_WEDTM_6_FLPOP_CO': 2.0, 'FAG_10_THUTM_1_FLPOP_CO': 0.0, 'FAG_10_THUTM_2_FLPOP_CO': 2.0, 'FAG_10_THUTM_3_FLPOP_CO': 2.0, 'FAG_10_THUTM_4_FLPOP_CO': 3.0, 'FAG_10_THUTM_5_FLPOP_CO': 4.0, 'FAG_10_THUTM_6_FLPOP_CO': 2.0, 'FAG_10_FRITM_1_FLPOP_CO': 0.0, 'FAG_10_FRITM_2_FLPOP_CO': 2.0, 'FAG_10_FRITM_3_FLPOP_CO': 3.0, 'FAG_10_FRITM_4_FLPOP_CO': 3.0, 'FAG_10_FRITM_5_FLPOP_CO': 4.0, 'FAG_10_FRITM_6_FLPOP_CO': 3.0, 'FAG_10_SATTM_1_FLPOP_CO': 0.0, 'FAG_10_SATTM_2_FLPOP_CO': 3.0, 'FAG_10_SATTM_3_FLPOP_CO': 4.0, 'FAG_10_SATTM_4_FLPOP_CO': 3.0, 'FAG_10_SATTM_5_FLPOP_CO': 4.0, 'FAG_10_SATTM_6_FLPOP_CO': 2.0, 'FAG_10_SUNTM_1_FLPOP_CO': 0.0, 'FAG_10_SUNTM_2_FLPOP_CO': 4.0, 'FAG_10_SUNTM_3_FLPOP_CO': 9.0, 'FAG_10_SUNTM_4_FLPOP_CO': 7.0, 'FAG_10_SUNTM_5_FLPOP_CO': 4.0, 'FAG_10_SUNTM_6_FLPOP_CO': 1.0, 'FAG_20_MONTM_1_FLPOP_CO': 22.0, 'FAG_20_MONTM_2_FLPOP_CO': 29.0, 'FAG_20_MONTM_3_FLPOP_CO': 27.0, 'FAG_20_MONTM_4_FLPOP_CO': 27.0, 'FAG_20_MONTM_5_FLPOP_CO': 37.0, 'FAG_20_MONTM_6_FLPOP_CO': 20.0, 'FAG_20_TUETM_1_FLPOP_CO': 25.0, 'FAG_20_TUETM_2_FLPOP_CO': 33.0, 'FAG_20_TUETM_3_FLPOP_CO': 29.0, 'FAG_20_TUETM_4_FLPOP_CO': 28.0, 'FAG_20_TUETM_5_FLPOP_CO': 41.0, 'FAG_20_TUETM_6_FLPOP_CO': 23.0, 'FAG_20_WEDTM_1_FLPOP_CO': 25.0, 'FAG_20_WEDTM_2_FLPOP_CO': 32.0, 'FAG_20_WEDTM_3_FLPOP_CO': 30.0, 'FAG_20_WEDTM_4_FLPOP_CO': 29.0, 'FAG_20_WEDTM_5_FLPOP_CO': 46.0, 'FAG_20_WEDTM_6_FLPOP_CO': 28.0, 'FAG_20_THUTM_1_FLPOP_CO': 22.0, 'FAG_20_THUTM_2_FLPOP_CO': 28.0, 'FAG_20_THUTM_3_FLPOP_CO': 27.0, 'FAG_20_THUTM_4_FLPOP_CO': 26.0, 'FAG_20_THUTM_5_FLPOP_CO': 40.0, 'FAG_20_THUTM_6_FLPOP_CO': 22.0, 'FAG_20_FRITM_1_FLPOP_CO': 25.0, 'FAG_20_FRITM_2_FLPOP_CO': 30.0, 'FAG_20_FRITM_3_FLPOP_CO': 28.0, 'FAG_20_FRITM_4_FLPOP_CO': 28.0, 'FAG_20_FRITM_5_FLPOP_CO': 39.0, 'FAG_20_FRITM_6_FLPOP_CO': 25.0, 'FAG_20_SATTM_1_FLPOP_CO': 23.0, 'FAG_20_SATTM_2_FLPOP_CO': 28.0, 'FAG_20_SATTM_3_FLPOP_CO': 25.0, 'FAG_20_SATTM_4_FLPOP_CO': 21.0, 'FAG_20_SATTM_5_FLPOP_CO': 33.0, 'FAG_20_SATTM_6_FLPOP_CO': 21.0, 'FAG_20_SUNTM_1_FLPOP_CO': 23.0, 'FAG_20_SUNTM_2_FLPOP_CO': 32.0, 'FAG_20_SUNTM_3_FLPOP_CO': 35.0, 'FAG_20_SUNTM_4_FLPOP_CO': 29.0, 'FAG_20_SUNTM_5_FLPOP_CO': 32.0, 'FAG_20_SUNTM_6_FLPOP_CO': 17.0, 'FAG_30_MONTM_1_FLPOP_CO': 12.0, 'FAG_30_MONTM_2_FLPOP_CO': 24.0, 'FAG_30_MONTM_3_FLPOP_CO': 26.0, 'FAG_30_MONTM_4_FLPOP_CO': 26.0, 'FAG_30_MONTM_5_FLPOP_CO': 22.0, 'FAG_30_MONTM_6_FLPOP_CO': 7.0, 'FAG_30_TUETM_1_FLPOP_CO': 12.0, 'FAG_30_TUETM_2_FLPOP_CO': 25.0, 'FAG_30_TUETM_3_FLPOP_CO': 30.0, 'FAG_30_TUETM_4_FLPOP_CO': 27.0, 'FAG_30_TUETM_5_FLPOP_CO': 23.0, 'FAG_30_TUETM_6_FLPOP_CO': 8.0, 'FAG_30_WEDTM_1_FLPOP_CO': 12.0, 'FAG_30_WEDTM_2_FLPOP_CO': 28.0, 'FAG_30_WEDTM_3_FLPOP_CO': 31.0, 'FAG_30_WEDTM_4_FLPOP_CO': 26.0, 'FAG_30_WEDTM_5_FLPOP_CO': 25.0, 'FAG_30_WEDTM_6_FLPOP_CO': 9.0, 'FAG_30_THUTM_1_FLPOP_CO': 13.0, 'FAG_30_THUTM_2_FLPOP_CO': 25.0, 'FAG_30_THUTM_3_FLPOP_CO': 28.0, 'FAG_30_THUTM_4_FLPOP_CO': 25.0, 'FAG_30_THUTM_5_FLPOP_CO': 23.0, 'FAG_30_THUTM_6_FLPOP_CO': 8.0, 'FAG_30_FRITM_1_FLPOP_CO': 12.0, 'FAG_30_FRITM_2_FLPOP_CO': 26.0, 'FAG_30_FRITM_3_FLPOP_CO': 28.0, 'FAG_30_FRITM_4_FLPOP_CO': 27.0, 'FAG_30_FRITM_5_FLPOP_CO': 24.0, 'FAG_30_FRITM_6_FLPOP_CO': 9.0, 'FAG_30_SATTM_1_FLPOP_CO': 14.0, 'FAG_30_SATTM_2_FLPOP_CO': 24.0, 'FAG_30_SATTM_3_FLPOP_CO': 25.0, 'FAG_30_SATTM_4_FLPOP_CO': 26.0, 'FAG_30_SATTM_5_FLPOP_CO': 23.0, 'FAG_30_SATTM_6_FLPOP_CO': 8.0, 'FAG_30_SUNTM_1_FLPOP_CO': 11.0, 'FAG_30_SUNTM_2_FLPOP_CO': 23.0, 'FAG_30_SUNTM_3_FLPOP_CO': 31.0, 'FAG_30_SUNTM_4_FLPOP_CO': 28.0, 'FAG_30_SUNTM_5_FLPOP_CO': 22.0, 'FAG_30_SUNTM_6_FLPOP_CO': 6.0, 'FAG_40_MONTM_1_FLPOP_CO': 9.0, 'FAG_40_MONTM_2_FLPOP_CO': 29.0, 'FAG_40_MONTM_3_FLPOP_CO': 39.0, 'FAG_40_MONTM_4_FLPOP_CO': 37.0, 'FAG_40_MONTM_5_FLPOP_CO': 29.0, 'FAG_40_MONTM_6_FLPOP_CO': 7.0, 'FAG_40_TUETM_1_FLPOP_CO': 10.0, 'FAG_40_TUETM_2_FLPOP_CO': 33.0, 'FAG_40_TUETM_3_FLPOP_CO': 42.0, 'FAG_40_TUETM_4_FLPOP_CO': 40.0, 'FAG_40_TUETM_5_FLPOP_CO': 31.0, 'FAG_40_TUETM_6_FLPOP_CO': 7.0, 'FAG_40_WEDTM_1_FLPOP_CO': 9.0, 'FAG_40_WEDTM_2_FLPOP_CO': 31.0, 'FAG_40_WEDTM_3_FLPOP_CO': 43.0, 'FAG_40_WEDTM_4_FLPOP_CO': 40.0, 'FAG_40_WEDTM_5_FLPOP_CO': 33.0, 'FAG_40_WEDTM_6_FLPOP_CO': 9.0, 'FAG_40_THUTM_1_FLPOP_CO': 10.0, 'FAG_40_THUTM_2_FLPOP_CO': 30.0, 'FAG_40_THUTM_3_FLPOP_CO': 38.0, 'FAG_40_THUTM_4_FLPOP_CO': 36.0, 'FAG_40_THUTM_5_FLPOP_CO': 30.0, 'FAG_40_THUTM_6_FLPOP_CO': 6.0, 'FAG_40_FRITM_1_FLPOP_CO': 9.0, 'FAG_40_FRITM_2_FLPOP_CO': 31.0, 'FAG_40_FRITM_3_FLPOP_CO': 40.0, 'FAG_40_FRITM_4_FLPOP_CO': 37.0, 'FAG_40_FRITM_5_FLPOP_CO': 33.0, 'FAG_40_FRITM_6_FLPOP_CO': 9.0, 'FAG_40_SATTM_1_FLPOP_CO': 9.0, 'FAG_40_SATTM_2_FLPOP_CO': 23.0, 'FAG_40_SATTM_3_FLPOP_CO': 32.0, 'FAG_40_SATTM_4_FLPOP_CO': 35.0, 'FAG_40_SATTM_5_FLPOP_CO': 28.0, 'FAG_40_SATTM_6_FLPOP_CO': 5.0, 'FAG_40_SUNTM_1_FLPOP_CO': 7.0, 'FAG_40_SUNTM_2_FLPOP_CO': 23.0, 'FAG_40_SUNTM_3_FLPOP_CO': 38.0, 'FAG_40_SUNTM_4_FLPOP_CO': 37.0, 'FAG_40_SUNTM_5_FLPOP_CO': 21.0, 'FAG_40_SUNTM_6_FLPOP_CO': 4.0, 'FAG_50_MONTM_1_FLPOP_CO': 21.0, 'FAG_50_MONTM_2_FLPOP_CO': 57.0, 'FAG_50_MONTM_3_FLPOP_CO': 67.0, 'FAG_50_MONTM_4_FLPOP_CO': 69.0, 'FAG_50_MONTM_5_FLPOP_CO': 51.0, 'FAG_50_MONTM_6_FLPOP_CO': 12.0, 'FAG_50_TUETM_1_FLPOP_CO': 21.0, 'FAG_50_TUETM_2_FLPOP_CO': 61.0, 'FAG_50_TUETM_3_FLPOP_CO': 71.0, 'FAG_50_TUETM_4_FLPOP_CO': 72.0, 'FAG_50_TUETM_5_FLPOP_CO': 55.0, 'FAG_50_TUETM_6_FLPOP_CO': 13.0, 'FAG_50_WEDTM_1_FLPOP_CO': 22.0, 'FAG_50_WEDTM_2_FLPOP_CO': 61.0, 'FAG_50_WEDTM_3_FLPOP_CO': 71.0, 'FAG_50_WEDTM_4_FLPOP_CO': 69.0, 'FAG_50_WEDTM_5_FLPOP_CO': 57.0, 'FAG_50_WEDTM_6_FLPOP_CO': 15.0, 'FAG_50_THUTM_1_FLPOP_CO': 21.0, 'FAG_50_THUTM_2_FLPOP_CO': 58.0, 'FAG_50_THUTM_3_FLPOP_CO': 64.0, 'FAG_50_THUTM_4_FLPOP_CO': 65.0, 'FAG_50_THUTM_5_FLPOP_CO': 52.0, 'FAG_50_THUTM_6_FLPOP_CO': 12.0, 'FAG_50_FRITM_1_FLPOP_CO': 22.0, 'FAG_50_FRITM_2_FLPOP_CO': 60.0, 'FAG_50_FRITM_3_FLPOP_CO': 67.0, 'FAG_50_FRITM_4_FLPOP_CO': 67.0, 'FAG_50_FRITM_5_FLPOP_CO': 56.0, 'FAG_50_FRITM_6_FLPOP_CO': 16.0, 'FAG_50_SATTM_1_FLPOP_CO': 23.0, 'FAG_50_SATTM_2_FLPOP_CO': 54.0, 'FAG_50_SATTM_3_FLPOP_CO': 60.0, 'FAG_50_SATTM_4_FLPOP_CO': 66.0, 'FAG_50_SATTM_5_FLPOP_CO': 53.0, 'FAG_50_SATTM_6_FLPOP_CO': 11.0, 'FAG_50_SUNTM_1_FLPOP_CO': 15.0, 'FAG_50_SUNTM_2_FLPOP_CO': 49.0, 'FAG_50_SUNTM_3_FLPOP_CO': 59.0, 'FAG_50_SUNTM_4_FLPOP_CO': 60.0, 'FAG_50_SUNTM_5_FLPOP_CO': 41.0, 'FAG_50_SUNTM_6_FLPOP_CO': 10.0, 'FAG_60_ABOVE_MONTM_1_FLPOP_CO': 24.0, 'FAG_60_ABOVE_MONTM_2_FLPOP_CO': 69.0, 'FAG_60_ABOVE_MONTM_3_FLPOP_CO': 96.0, 'FAG_60_ABOVE_MONTM_4_FLPOP_CO': 106.0, 'FAG_60_ABOVE_MONTM_5_FLPOP_CO': 54.0, 'FAG_60_ABOVE_MONTM_6_FLPOP_CO': 14.0, 'FAG_60_ABOVE_TUETM_1_FLPOP_CO': 26.0, 'FAG_60_ABOVE_TUETM_2_FLPOP_CO': 72.0, 'FAG_60_ABOVE_TUETM_3_FLPOP_CO': 103.0, 'FAG_60_ABOVE_TUETM_4_FLPOP_CO': 114.0, 'FAG_60_ABOVE_TUETM_5_FLPOP_CO': 61.0, 'FAG_60_ABOVE_TUETM_6_FLPOP_CO': 16.0, 'FAG_60_ABOVE_WEDTM_1_FLPOP_CO': 25.0, 'FAG_60_ABOVE_WEDTM_2_FLPOP_CO': 68.0, 'FAG_60_ABOVE_WEDTM_3_FLPOP_CO': 99.0, 'FAG_60_ABOVE_WEDTM_4_FLPOP_CO': 109.0, 'FAG_60_ABOVE_WEDTM_5_FLPOP_CO': 67.0, 'FAG_60_ABOVE_WEDTM_6_FLPOP_CO': 17.0, 'FAG_60_ABOVE_THUTM_1_FLPOP_CO': 26.0, 'FAG_60_ABOVE_THUTM_2_FLPOP_CO': 65.0, 'FAG_60_ABOVE_THUTM_3_FLPOP_CO': 90.0, 'FAG_60_ABOVE_THUTM_4_FLPOP_CO': 104.0, 'FAG_60_ABOVE_THUTM_5_FLPOP_CO': 60.0, 'FAG_60_ABOVE_THUTM_6_FLPOP_CO': 16.0, 'FAG_60_ABOVE_FRITM_1_FLPOP_CO': 27.0, 'FAG_60_ABOVE_FRITM_2_FLPOP_CO': 70.0, 'FAG_60_ABOVE_FRITM_3_FLPOP_CO': 96.0, 'FAG_60_ABOVE_FRITM_4_FLPOP_CO': 106.0, 'FAG_60_ABOVE_FRITM_5_FLPOP_CO': 63.0, 'FAG_60_ABOVE_FRITM_6_FLPOP_CO': 18.0, 'FAG_60_ABOVE_SATTM_1_FLPOP_CO': 26.0, 'FAG_60_ABOVE_SATTM_2_FLPOP_CO': 67.0, 'FAG_60_ABOVE_SATTM_3_FLPOP_CO': 93.0, 'FAG_60_ABOVE_SATTM_4_FLPOP_CO': 100.0, 'FAG_60_ABOVE_SATTM_5_FLPOP_CO': 53.0, 'FAG_60_ABOVE_SATTM_6_FLPOP_CO': 12.0, 'FAG_60_ABOVE_SUNTM_1_FLPOP_CO': 18.0, 'FAG_60_ABOVE_SUNTM_2_FLPOP_CO': 53.0, 'FAG_60_ABOVE_SUNTM_3_FLPOP_CO': 77.0, 'FAG_60_ABOVE_SUNTM_4_FLPOP_CO': 84.0, 'FAG_60_ABOVE_SUNTM_5_FLPOP_CO': 43.0, 'FAG_60_ABOVE_SUNTM_6_FLPOP_CO': 13.0}, {'STDR_YY_CD': '2017', 'STDR_QU_CD': '2', 'TRDAR_SE_CD': 'A', 'TRDAR_SE_CD_NM': '골목상권', 'TRDAR_CD': '1000428', 'TRDAR_CD_NM': '증산서길', 'TOT_FLPOP_CO': 63370.0, 'ML_FLPOP_CO': 32285.0, 'FML_FLPOP_CO': 31088.0, 'AGRDE_10_FLPOP_CO': 826.0, 'AGRDE_20_FLPOP_CO': 11288.0, 'AGRDE_30_FLPOP_CO': 13372.0, 'AGRDE_40_FLPOP_CO': 11202.0, 'AGRDE_50_FLPOP_CO': 14294.0, 'AGRDE_60_ABOVE_FLPOP_CO': 12390.0, 'TMZON_1_FLPOP_CO': 8492.0, 'TMZON_2_FLPOP_CO': 10080.0, 'TMZON_3_FLPOP_CO': 9676.0, 'TMZON_4_FLPOP_CO': 10176.0, 'TMZON_5_FLPOP_CO': 15875.0, 'TMZON_6_FLPOP_CO': 9074.0, 'MON_FLPOP_CO': 7984.0, 'TUES_FLPOP_CO': 8095.0, 'WED_FLPOP_CO': 7535.0, 'THUR_FLPOP_CO': 6677.0, 'FRI_FLPOP_CO': 12126.0, 'SAT_FLPOP_CO': 10471.0, 'SUN_FLPOP_CO': 10489.0, 'MAG_10_MONTM_1_FLPOP_CO': 6.0, 'MAG_10_MONTM_2_FLPOP_CO': 1.0, 'MAG_10_MONTM_3_FLPOP_CO': 0.0, 'MAG_10_MONTM_4_FLPOP_CO': 0.0, 'MAG_10_MONTM_5_FLPOP_CO': 0.0, 'MAG_10_MONTM_6_FLPOP_CO': 1.0, 'MAG_10_TUETM_1_FLPOP_CO': 0.0, 'MAG_10_TUETM_2_FLPOP_CO': 0.0, 'MAG_10_TUETM_3_FLPOP_CO': 0.0, 'MAG_10_TUETM_4_FLPOP_CO': 0.0, 'MAG_10_TUETM_5_FLPOP_CO': 1.0, 'MAG_10_TUETM_6_FLPOP_CO': 0.0, 'MAG_10_WEDTM_1_FLPOP_CO': 5.0, 'MAG_10_WEDTM_2_FLPOP_CO': 0.0, 'MAG_10_WEDTM_3_FLPOP_CO': 0.0, 'MAG_10_WEDTM_4_FLPOP_CO': 0.0, 'MAG_10_WEDTM_5_FLPOP_CO': 0.0, 'MAG_10_WEDTM_6_FLPOP_CO': 0.0, 'MAG_10_THUTM_1_FLPOP_CO': 0.0, 'MAG_10_THUTM_2_FLPOP_CO': 0.0, 'MAG_10_THUTM_3_FLPOP_CO': 0.0, 'MAG_10_THUTM_4_FLPOP_CO': 0.0, 'MAG_10_THUTM_5_FLPOP_CO': 0.0, 'MAG_10_THUTM_6_FLPOP_CO': 0.0, 'MAG_10_FRITM_1_FLPOP_CO': 50.0, 'MAG_10_FRITM_2_FLPOP_CO': 93.0, 'MAG_10_FRITM_3_FLPOP_CO': 60.0, 'MAG_10_FRITM_4_FLPOP_CO': 52.0, 'MAG_10_FRITM_5_FLPOP_CO': 81.0, 'MAG_10_FRITM_6_FLPOP_CO': 32.0, 'MAG_10_SATTM_1_FLPOP_CO': 32.0, 'MAG_10_SATTM_2_FLPOP_CO': 1.0, 'MAG_10_SATTM_3_FLPOP_CO': 1.0, 'MAG_10_SATTM_4_FLPOP_CO': 2.0, 'MAG_10_SATTM_5_FLPOP_CO': 8.0, 'MAG_10_SATTM_6_FLPOP_CO': 0.0, 'MAG_10_SUNTM_1_FLPOP_CO': 1.0, 'MAG_10_SUNTM_2_FLPOP_CO': 3.0, 'MAG_10_SUNTM_3_FLPOP_CO': 3.0, 'MAG_10_SUNTM_4_FLPOP_CO': 2.0, 'MAG_10_SUNTM_5_FLPOP_CO': 4.0, 'MAG_10_SUNTM_6_FLPOP_CO': 1.0, 'MAG_20_MONTM_1_FLPOP_CO': 114.0, 'MAG_20_MONTM_2_FLPOP_CO': 79.0, 'MAG_20_MONTM_3_FLPOP_CO': 52.0, 'MAG_20_MONTM_4_FLPOP_CO': 67.0, 'MAG_20_MONTM_5_FLPOP_CO': 122.0, 'MAG_20_MONTM_6_FLPOP_CO': 145.0, 'MAG_20_TUETM_1_FLPOP_CO': 118.0, 'MAG_20_TUETM_2_FLPOP_CO': 48.0, 'MAG_20_TUETM_3_FLPOP_CO': 78.0, 'MAG_20_TUETM_4_FLPOP_CO': 81.0, 'MAG_20_TUETM_5_FLPOP_CO': 141.0, 'MAG_20_TUETM_6_FLPOP_CO': 158.0, 'MAG_20_WEDTM_1_FLPOP_CO': 73.0, 'MAG_20_WEDTM_2_FLPOP_CO': 90.0, 'MAG_20_WEDTM_3_FLPOP_CO': 34.0, 'MAG_20_WEDTM_4_FLPOP_CO': 40.0, 'MAG_20_WEDTM_5_FLPOP_CO': 142.0, 'MAG_20_WEDTM_6_FLPOP_CO': 183.0, 'MAG_20_THUTM_1_FLPOP_CO': 36.0, 'MAG_20_THUTM_2_FLPOP_CO': 32.0, 'MAG_20_THUTM_3_FLPOP_CO': 27.0, 'MAG_20_THUTM_4_FLPOP_CO': 51.0, 'MAG_20_THUTM_5_FLPOP_CO': 135.0, 'MAG_20_THUTM_6_FLPOP_CO': 147.0, 'MAG_20_FRITM_1_FLPOP_CO': 181.0, 'MAG_20_FRITM_2_FLPOP_CO': 122.0, 'MAG_20_FRITM_3_FLPOP_CO': 125.0, 'MAG_20_FRITM_4_FLPOP_CO': 138.0, 'MAG_20_FRITM_5_FLPOP_CO': 170.0, 'MAG_20_FRITM_6_FLPOP_CO': 200.0, 'MAG_20_SATTM_1_FLPOP_CO': 302.0, 'MAG_20_SATTM_2_FLPOP_CO': 165.0, 'MAG_20_SATTM_3_FLPOP_CO': 65.0, 'MAG_20_SATTM_4_FLPOP_CO': 106.0, 'MAG_20_SATTM_5_FLPOP_CO': 138.0, 'MAG_20_SATTM_6_FLPOP_CO': 202.0, 'MAG_20_SUNTM_1_FLPOP_CO': 227.0, 'MAG_20_SUNTM_2_FLPOP_CO': 186.0, 'MAG_20_SUNTM_3_FLPOP_CO': 189.0, 'MAG_20_SUNTM_4_FLPOP_CO': 199.0, 'MAG_20_SUNTM_5_FLPOP_CO': 299.0, 'MAG_20_SUNTM_6_FLPOP_CO': 203.0, 'MAG_30_MONTM_1_FLPOP_CO': 43.0, 'MAG_30_MONTM_2_FLPOP_CO': 105.0, 'MAG_30_MONTM_3_FLPOP_CO': 182.0, 'MAG_30_MONTM_4_FLPOP_CO': 138.0, 'MAG_30_MONTM_5_FLPOP_CO': 227.0, 'MAG_30_MONTM_6_FLPOP_CO': 158.0, 'MAG_30_TUETM_1_FLPOP_CO': 136.0, 'MAG_30_TUETM_2_FLPOP_CO': 96.0, 'MAG_30_TUETM_3_FLPOP_CO': 131.0, 'MAG_30_TUETM_4_FLPOP_CO': 101.0, 'MAG_30_TUETM_5_FLPOP_CO': 284.0, 'MAG_30_TUETM_6_FLPOP_CO': 181.0, 'MAG_30_WEDTM_1_FLPOP_CO': 94.0, 'MAG_30_WEDTM_2_FLPOP_CO': 186.0, 'MAG_30_WEDTM_3_FLPOP_CO': 174.0, 'MAG_30_WEDTM_4_FLPOP_CO': 83.0, 'MAG_30_WEDTM_5_FLPOP_CO': 221.0, 'MAG_30_WEDTM_6_FLPOP_CO': 155.0, 'MAG_30_THUTM_1_FLPOP_CO': 46.0, 'MAG_30_THUTM_2_FLPOP_CO': 54.0, 'MAG_30_THUTM_3_FLPOP_CO': 142.0, 'MAG_30_THUTM_4_FLPOP_CO': 68.0, 'MAG_30_THUTM_5_FLPOP_CO': 240.0, 'MAG_30_THUTM_6_FLPOP_CO': 169.0, 'MAG_30_FRITM_1_FLPOP_CO': 218.0, 'MAG_30_FRITM_2_FLPOP_CO': 163.0, 'MAG_30_FRITM_3_FLPOP_CO': 211.0, 'MAG_30_FRITM_4_FLPOP_CO': 137.0, 'MAG_30_FRITM_5_FLPOP_CO': 279.0, 'MAG_30_FRITM_6_FLPOP_CO': 226.0, 'MAG_30_SATTM_1_FLPOP_CO': 271.0, 'MAG_30_SATTM_2_FLPOP_CO': 174.0, 'MAG_30_SATTM_3_FLPOP_CO': 178.0, 'MAG_30_SATTM_4_FLPOP_CO': 225.0, 'MAG_30_SATTM_5_FLPOP_CO': 272.0, 'MAG_30_SATTM_6_FLPOP_CO': 200.0, 'MAG_30_SUNTM_1_FLPOP_CO': 206.0, 'MAG_30_SUNTM_2_FLPOP_CO': 190.0, 'MAG_30_SUNTM_3_FLPOP_CO': 196.0, 'MAG_30_SUNTM_4_FLPOP_CO': 192.0, 'MAG_30_SUNTM_5_FLPOP_CO': 285.0, 'MAG_30_SUNTM_6_FLPOP_CO': 95.0, 'MAG_40_MONTM_1_FLPOP_CO': 30.0, 'MAG_40_MONTM_2_FLPOP_CO': 108.0, 'MAG_40_MONTM_3_FLPOP_CO': 82.0, 'MAG_40_MONTM_4_FLPOP_CO': 179.0, 'MAG_40_MONTM_5_FLPOP_CO': 248.0, 'MAG_40_MONTM_6_FLPOP_CO': 166.0, 'MAG_40_TUETM_1_FLPOP_CO': 3.0, 'MAG_40_TUETM_2_FLPOP_CO': 139.0, 'MAG_40_TUETM_3_FLPOP_CO': 168.0, 'MAG_40_TUETM_4_FLPOP_CO': 157.0, 'MAG_40_TUETM_5_FLPOP_CO': 187.0, 'MAG_40_TUETM_6_FLPOP_CO': 151.0, 'MAG_40_WEDTM_1_FLPOP_CO': 11.0, 'MAG_40_WEDTM_2_FLPOP_CO': 118.0, 'MAG_40_WEDTM_3_FLPOP_CO': 95.0, 'MAG_40_WEDTM_4_FLPOP_CO': 102.0, 'MAG_40_WEDTM_5_FLPOP_CO': 211.0, 'MAG_40_WEDTM_6_FLPOP_CO': 149.0, 'MAG_40_THUTM_1_FLPOP_CO': 8.0, 'MAG_40_THUTM_2_FLPOP_CO': 89.0, 'MAG_40_THUTM_3_FLPOP_CO': 127.0, 'MAG_40_THUTM_4_FLPOP_CO': 81.0, 'MAG_40_THUTM_5_FLPOP_CO': 181.0, 'MAG_40_THUTM_6_FLPOP_CO': 115.0, 'MAG_40_FRITM_1_FLPOP_CO': 189.0, 'MAG_40_FRITM_2_FLPOP_CO': 189.0, 'MAG_40_FRITM_3_FLPOP_CO': 191.0, 'MAG_40_FRITM_4_FLPOP_CO': 126.0, 'MAG_40_FRITM_5_FLPOP_CO': 285.0, 'MAG_40_FRITM_6_FLPOP_CO': 192.0, 'MAG_40_SATTM_1_FLPOP_CO': 106.0, 'MAG_40_SATTM_2_FLPOP_CO': 224.0, 'MAG_40_SATTM_3_FLPOP_CO': 197.0, 'MAG_40_SATTM_4_FLPOP_CO': 145.0, 'MAG_40_SATTM_5_FLPOP_CO': 264.0, 'MAG_40_SATTM_6_FLPOP_CO': 128.0, 'MAG_40_SUNTM_1_FLPOP_CO': 4.0, 'MAG_40_SUNTM_2_FLPOP_CO': 204.0, 'MAG_40_SUNTM_3_FLPOP_CO': 216.0, 'MAG_40_SUNTM_4_FLPOP_CO': 213.0, 'MAG_40_SUNTM_5_FLPOP_CO': 272.0, 'MAG_40_SUNTM_6_FLPOP_CO': 79.0, 'MAG_50_MONTM_1_FLPOP_CO': 102.0, 'MAG_50_MONTM_2_FLPOP_CO': 119.0, 'MAG_50_MONTM_3_FLPOP_CO': 147.0, 'MAG_50_MONTM_4_FLPOP_CO': 125.0, 'MAG_50_MONTM_5_FLPOP_CO': 281.0, 'MAG_50_MONTM_6_FLPOP_CO': 86.0, 'MAG_50_TUETM_1_FLPOP_CO': 35.0, 'MAG_50_TUETM_2_FLPOP_CO': 101.0, 'MAG_50_TUETM_3_FLPOP_CO': 143.0, 'MAG_50_TUETM_4_FLPOP_CO': 134.0, 'MAG_50_TUETM_5_FLPOP_CO': 281.0, 'MAG_50_TUETM_6_FLPOP_CO': 121.0, 'MAG_50_WEDTM_1_FLPOP_CO': 43.0, 'MAG_50_WEDTM_2_FLPOP_CO': 147.0, 'MAG_50_WEDTM_3_FLPOP_CO': 109.0, 'MAG_50_WEDTM_4_FLPOP_CO': 134.0, 'MAG_50_WEDTM_5_FLPOP_CO': 287.0, 'MAG_50_WEDTM_6_FLPOP_CO': 108.0, 'MAG_50_THUTM_1_FLPOP_CO': 20.0, 'MAG_50_THUTM_2_FLPOP_CO': 32.0, 'MAG_50_THUTM_3_FLPOP_CO': 72.0, 'MAG_50_THUTM_4_FLPOP_CO': 164.0, 'MAG_50_THUTM_5_FLPOP_CO': 256.0, 'MAG_50_THUTM_6_FLPOP_CO': 80.0, 'MAG_50_FRITM_1_FLPOP_CO': 198.0, 'MAG_50_FRITM_2_FLPOP_CO': 209.0, 'MAG_50_FRITM_3_FLPOP_CO': 117.0, 'MAG_50_FRITM_4_FLPOP_CO': 154.0, 'MAG_50_FRITM_5_FLPOP_CO': 316.0, 'MAG_50_FRITM_6_FLPOP_CO': 216.0, 'MAG_50_SATTM_1_FLPOP_CO': 134.0, 'MAG_50_SATTM_2_FLPOP_CO': 87.0, 'MAG_50_SATTM_3_FLPOP_CO': 157.0, 'MAG_50_SATTM_4_FLPOP_CO': 209.0, 'MAG_50_SATTM_5_FLPOP_CO': 289.0, 'MAG_50_SATTM_6_FLPOP_CO': 162.0, 'MAG_50_SUNTM_1_FLPOP_CO': 90.0, 'MAG_50_SUNTM_2_FLPOP_CO': 194.0, 'MAG_50_SUNTM_3_FLPOP_CO': 219.0, 'MAG_50_SUNTM_4_FLPOP_CO': 210.0, 'MAG_50_SUNTM_5_FLPOP_CO': 277.0, 'MAG_50_SUNTM_6_FLPOP_CO': 115.0, 'MAG_60_ABOVE_MONTM_1_FLPOP_CO': 137.0, 'MAG_60_ABOVE_MONTM_2_FLPOP_CO': 101.0, 'MAG_60_ABOVE_MONTM_3_FLPOP_CO': 160.0, 'MAG_60_ABOVE_MONTM_4_FLPOP_CO': 218.0, 'MAG_60_ABOVE_MONTM_5_FLPOP_CO': 286.0, 'MAG_60_ABOVE_MONTM_6_FLPOP_CO': 119.0, 'MAG_60_ABOVE_TUETM_1_FLPOP_CO': 84.0, 'MAG_60_ABOVE_TUETM_2_FLPOP_CO': 132.0, 'MAG_60_ABOVE_TUETM_3_FLPOP_CO': 137.0, 'MAG_60_ABOVE_TUETM_4_FLPOP_CO': 211.0, 'MAG_60_ABOVE_TUETM_5_FLPOP_CO': 246.0, 'MAG_60_ABOVE_TUETM_6_FLPOP_CO': 118.0, 'MAG_60_ABOVE_WEDTM_1_FLPOP_CO': 129.0, 'MAG_60_ABOVE_WEDTM_2_FLPOP_CO': 153.0, 'MAG_60_ABOVE_WEDTM_3_FLPOP_CO': 123.0, 'MAG_60_ABOVE_WEDTM_4_FLPOP_CO': 195.0, 'MAG_60_ABOVE_WEDTM_5_FLPOP_CO': 293.0, 'MAG_60_ABOVE_WEDTM_6_FLPOP_CO': 159.0, 'MAG_60_ABOVE_THUTM_1_FLPOP_CO': 72.0, 'MAG_60_ABOVE_THUTM_2_FLPOP_CO': 86.0, 'MAG_60_ABOVE_THUTM_3_FLPOP_CO': 171.0, 'MAG_60_ABOVE_THUTM_4_FLPOP_CO': 202.0, 'MAG_60_ABOVE_THUTM_5_FLPOP_CO': 217.0, 'MAG_60_ABOVE_THUTM_6_FLPOP_CO': 62.0, 'MAG_60_ABOVE_FRITM_1_FLPOP_CO': 186.0, 'MAG_60_ABOVE_FRITM_2_FLPOP_CO': 168.0, 'MAG_60_ABOVE_FRITM_3_FLPOP_CO': 176.0, 'MAG_60_ABOVE_FRITM_4_FLPOP_CO': 173.0, 'MAG_60_ABOVE_FRITM_5_FLPOP_CO': 260.0, 'MAG_60_ABOVE_FRITM_6_FLPOP_CO': 137.0, 'MAG_60_ABOVE_SATTM_1_FLPOP_CO': 178.0, 'MAG_60_ABOVE_SATTM_2_FLPOP_CO': 147.0, 'MAG_60_ABOVE_SATTM_3_FLPOP_CO': 122.0, 'MAG_60_ABOVE_SATTM_4_FLPOP_CO': 176.0, 'MAG_60_ABOVE_SATTM_5_FLPOP_CO': 282.0, 'MAG_60_ABOVE_SATTM_6_FLPOP_CO': 93.0, 'MAG_60_ABOVE_SUNTM_1_FLPOP_CO': 101.0, 'MAG_60_ABOVE_SUNTM_2_FLPOP_CO': 166.0, 'MAG_60_ABOVE_SUNTM_3_FLPOP_CO': 116.0, 'MAG_60_ABOVE_SUNTM_4_FLPOP_CO': 171.0, 'MAG_60_ABOVE_SUNTM_5_FLPOP_CO': 183.0, 'MAG_60_ABOVE_SUNTM_6_FLPOP_CO': 79.0, 'FAG_10_MONTM_1_FLPOP_CO': 2.0, 'FAG_10_MONTM_2_FLPOP_CO': 0.0, 'FAG_10_MONTM_3_FLPOP_CO': 0.0, 'FAG_10_MONTM_4_FLPOP_CO': 0.0, 'FAG_10_MONTM_5_FLPOP_CO': 0.0, 'FAG_10_MONTM_6_FLPOP_CO': 1.0, 'FAG_10_TUETM_1_FLPOP_CO': 2.0, 'FAG_10_TUETM_2_FLPOP_CO': 0.0, 'FAG_10_TUETM_3_FLPOP_CO': 0.0, 'FAG_10_TUETM_4_FLPOP_CO': 0.0, 'FAG_10_TUETM_5_FLPOP_CO': 0.0, 'FAG_10_TUETM_6_FLPOP_CO': 0.0, 'FAG_10_WEDTM_1_FLPOP_CO': 3.0, 'FAG_10_WEDTM_2_FLPOP_CO': 1.0, 'FAG_10_WEDTM_3_FLPOP_CO': 0.0, 'FAG_10_WEDTM_4_FLPOP_CO': 0.0, 'FAG_10_WEDTM_5_FLPOP_CO': 0.0, 'FAG_10_WEDTM_6_FLPOP_CO': 0.0, 'FAG_10_THUTM_1_FLPOP_CO': 1.0, 'FAG_10_THUTM_2_FLPOP_CO': 0.0, 'FAG_10_THUTM_3_FLPOP_CO': 0.0, 'FAG_10_THUTM_4_FLPOP_CO': 0.0, 'FAG_10_THUTM_5_FLPOP_CO': 0.0, 'FAG_10_THUTM_6_FLPOP_CO': 0.0, 'FAG_10_FRITM_1_FLPOP_CO': 48.0, 'FAG_10_FRITM_2_FLPOP_CO': 47.0, 'FAG_10_FRITM_3_FLPOP_CO': 26.0, 'FAG_10_FRITM_4_FLPOP_CO': 26.0, 'FAG_10_FRITM_5_FLPOP_CO': 75.0, 'FAG_10_FRITM_6_FLPOP_CO': 33.0, 'FAG_10_SATTM_1_FLPOP_CO': 34.0, 'FAG_10_SATTM_2_FLPOP_CO': 2.0, 'FAG_10_SATTM_3_FLPOP_CO': 0.0, 'FAG_10_SATTM_4_FLPOP_CO': 0.0, 'FAG_10_SATTM_5_FLPOP_CO': 0.0, 'FAG_10_SATTM_6_FLPOP_CO': 0.0, 'FAG_10_SUNTM_1_FLPOP_CO': 3.0, 'FAG_10_SUNTM_2_FLPOP_CO': 9.0, 'FAG_10_SUNTM_3_FLPOP_CO': 5.0, 'FAG_10_SUNTM_4_FLPOP_CO': 25.0, 'FAG_10_SUNTM_5_FLPOP_CO': 6.0, 'FAG_10_SUNTM_6_FLPOP_CO': 0.0, 'FAG_20_MONTM_1_FLPOP_CO': 174.0, 'FAG_20_MONTM_2_FLPOP_CO': 136.0, 'FAG_20_MONTM_3_FLPOP_CO': 86.0, 'FAG_20_MONTM_4_FLPOP_CO': 61.0, 'FAG_20_MONTM_5_FLPOP_CO': 175.0, 'FAG_20_MONTM_6_FLPOP_CO': 106.0, 'FAG_20_TUETM_1_FLPOP_CO': 155.0, 'FAG_20_TUETM_2_FLPOP_CO': 93.0, 'FAG_20_TUETM_3_FLPOP_CO': 55.0, 'FAG_20_TUETM_4_FLPOP_CO': 72.0, 'FAG_20_TUETM_5_FLPOP_CO': 186.0, 'FAG_20_TUETM_6_FLPOP_CO': 188.0, 'FAG_20_WEDTM_1_FLPOP_CO': 173.0, 'FAG_20_WEDTM_2_FLPOP_CO': 111.0, 'FAG_20_WEDTM_3_FLPOP_CO': 46.0, 'FAG_20_WEDTM_4_FLPOP_CO': 59.0, 'FAG_20_WEDTM_5_FLPOP_CO': 122.0, 'FAG_20_WEDTM_6_FLPOP_CO': 110.0, 'FAG_20_THUTM_1_FLPOP_CO': 102.0, 'FAG_20_THUTM_2_FLPOP_CO': 55.0, 'FAG_20_THUTM_3_FLPOP_CO': 74.0, 'FAG_20_THUTM_4_FLPOP_CO': 49.0, 'FAG_20_THUTM_5_FLPOP_CO': 179.0, 'FAG_20_THUTM_6_FLPOP_CO': 149.0, 'FAG_20_FRITM_1_FLPOP_CO': 227.0, 'FAG_20_FRITM_2_FLPOP_CO': 221.0, 'FAG_20_FRITM_3_FLPOP_CO': 130.0, 'FAG_20_FRITM_4_FLPOP_CO': 121.0, 'FAG_20_FRITM_5_FLPOP_CO': 263.0, 'FAG_20_FRITM_6_FLPOP_CO': 219.0, 'FAG_20_SATTM_1_FLPOP_CO': 227.0, 'FAG_20_SATTM_2_FLPOP_CO': 126.0, 'FAG_20_SATTM_3_FLPOP_CO': 115.0, 'FAG_20_SATTM_4_FLPOP_CO': 128.0, 'FAG_20_SATTM_5_FLPOP_CO': 205.0, 'FAG_20_SATTM_6_FLPOP_CO': 195.0, 'FAG_20_SUNTM_1_FLPOP_CO': 167.0, 'FAG_20_SUNTM_2_FLPOP_CO': 117.0, 'FAG_20_SUNTM_3_FLPOP_CO': 136.0, 'FAG_20_SUNTM_4_FLPOP_CO': 159.0, 'FAG_20_SUNTM_5_FLPOP_CO': 241.0, 'FAG_20_SUNTM_6_FLPOP_CO': 168.0, 'FAG_30_MONTM_1_FLPOP_CO': 138.0, 'FAG_30_MONTM_2_FLPOP_CO': 135.0, 'FAG_30_MONTM_3_FLPOP_CO': 124.0, 'FAG_30_MONTM_4_FLPOP_CO': 126.0, 'FAG_30_MONTM_5_FLPOP_CO': 178.0, 'FAG_30_MONTM_6_FLPOP_CO': 96.0, 'FAG_30_TUETM_1_FLPOP_CO': 144.0, 'FAG_30_TUETM_2_FLPOP_CO': 136.0, 'FAG_30_TUETM_3_FLPOP_CO': 97.0, 'FAG_30_TUETM_4_FLPOP_CO': 144.0, 'FAG_30_TUETM_5_FLPOP_CO': 164.0, 'FAG_30_TUETM_6_FLPOP_CO': 97.0, 'FAG_30_WEDTM_1_FLPOP_CO': 140.0, 'FAG_30_WEDTM_2_FLPOP_CO': 129.0, 'FAG_30_WEDTM_3_FLPOP_CO': 96.0, 'FAG_30_WEDTM_4_FLPOP_CO': 81.0, 'FAG_30_WEDTM_5_FLPOP_CO': 180.0, 'FAG_30_WEDTM_6_FLPOP_CO': 77.0, 'FAG_30_THUTM_1_FLPOP_CO': 101.0, 'FAG_30_THUTM_2_FLPOP_CO': 44.0, 'FAG_30_THUTM_3_FLPOP_CO': 112.0, 'FAG_30_THUTM_4_FLPOP_CO': 95.0, 'FAG_30_THUTM_5_FLPOP_CO': 194.0, 'FAG_30_THUTM_6_FLPOP_CO': 136.0, 'FAG_30_FRITM_1_FLPOP_CO': 210.0, 'FAG_30_FRITM_2_FLPOP_CO': 198.0, 'FAG_30_FRITM_3_FLPOP_CO': 127.0, 'FAG_30_FRITM_4_FLPOP_CO': 175.0, 'FAG_30_FRITM_5_FLPOP_CO': 276.0, 'FAG_30_FRITM_6_FLPOP_CO': 135.0, 'FAG_30_SATTM_1_FLPOP_CO': 184.0, 'FAG_30_SATTM_2_FLPOP_CO': 137.0, 'FAG_30_SATTM_3_FLPOP_CO': 177.0, 'FAG_30_SATTM_4_FLPOP_CO': 225.0, 'FAG_30_SATTM_5_FLPOP_CO': 275.0, 'FAG_30_SATTM_6_FLPOP_CO': 161.0, 'FAG_30_SUNTM_1_FLPOP_CO': 137.0, 'FAG_30_SUNTM_2_FLPOP_CO': 179.0, 'FAG_30_SUNTM_3_FLPOP_CO': 166.0, 'FAG_30_SUNTM_4_FLPOP_CO': 193.0, 'FAG_30_SUNTM_5_FLPOP_CO': 243.0, 'FAG_30_SUNTM_6_FLPOP_CO': 78.0, 'FAG_40_MONTM_1_FLPOP_CO': 16.0, 'FAG_40_MONTM_2_FLPOP_CO': 89.0, 'FAG_40_MONTM_3_FLPOP_CO': 99.0, 'FAG_40_MONTM_4_FLPOP_CO': 127.0, 'FAG_40_MONTM_5_FLPOP_CO': 211.0, 'FAG_40_MONTM_6_FLPOP_CO': 72.0, 'FAG_40_TUETM_1_FLPOP_CO': 128.0, 'FAG_40_TUETM_2_FLPOP_CO': 128.0, 'FAG_40_TUETM_3_FLPOP_CO': 106.0, 'FAG_40_TUETM_4_FLPOP_CO': 150.0, 'FAG_40_TUETM_5_FLPOP_CO': 130.0, 'FAG_40_TUETM_6_FLPOP_CO': 72.0, 'FAG_40_WEDTM_1_FLPOP_CO': 73.0, 'FAG_40_WEDTM_2_FLPOP_CO': 85.0, 'FAG_40_WEDTM_3_FLPOP_CO': 110.0, 'FAG_40_WEDTM_4_FLPOP_CO': 80.0, 'FAG_40_WEDTM_5_FLPOP_CO': 126.0, 'FAG_40_WEDTM_6_FLPOP_CO': 73.0, 'FAG_40_THUTM_1_FLPOP_CO': 48.0, 'FAG_40_THUTM_2_FLPOP_CO': 75.0, 'FAG_40_THUTM_3_FLPOP_CO': 122.0, 'FAG_40_THUTM_4_FLPOP_CO': 103.0, 'FAG_40_THUTM_5_FLPOP_CO': 134.0, 'FAG_40_THUTM_6_FLPOP_CO': 77.0, 'FAG_40_FRITM_1_FLPOP_CO': 206.0, 'FAG_40_FRITM_2_FLPOP_CO': 184.0, 'FAG_40_FRITM_3_FLPOP_CO': 142.0, 'FAG_40_FRITM_4_FLPOP_CO': 128.0, 'FAG_40_FRITM_5_FLPOP_CO': 257.0, 'FAG_40_FRITM_6_FLPOP_CO': 126.0, 'FAG_40_SATTM_1_FLPOP_CO': 122.0, 'FAG_40_SATTM_2_FLPOP_CO': 120.0, 'FAG_40_SATTM_3_FLPOP_CO': 94.0, 'FAG_40_SATTM_4_FLPOP_CO': 134.0, 'FAG_40_SATTM_5_FLPOP_CO': 201.0, 'FAG_40_SATTM_6_FLPOP_CO': 105.0, 'FAG_40_SUNTM_1_FLPOP_CO': 41.0, 'FAG_40_SUNTM_2_FLPOP_CO': 151.0, 'FAG_40_SUNTM_3_FLPOP_CO': 223.0, 'FAG_40_SUNTM_4_FLPOP_CO': 209.0, 'FAG_40_SUNTM_5_FLPOP_CO': 163.0, 'FAG_40_SUNTM_6_FLPOP_CO': 51.0, 'FAG_50_MONTM_1_FLPOP_CO': 88.0, 'FAG_50_MONTM_2_FLPOP_CO': 185.0, 'FAG_50_MONTM_3_FLPOP_CO': 161.0, 'FAG_50_MONTM_4_FLPOP_CO': 201.0, 'FAG_50_MONTM_5_FLPOP_CO': 286.0, 'FAG_50_MONTM_6_FLPOP_CO': 154.0, 'FAG_50_TUETM_1_FLPOP_CO': 142.0, 'FAG_50_TUETM_2_FLPOP_CO': 201.0, 'FAG_50_TUETM_3_FLPOP_CO': 122.0, 'FAG_50_TUETM_4_FLPOP_CO': 199.0, 'FAG_50_TUETM_5_FLPOP_CO': 251.0, 'FAG_50_TUETM_6_FLPOP_CO': 157.0, 'FAG_50_WEDTM_1_FLPOP_CO': 85.0, 'FAG_50_WEDTM_2_FLPOP_CO': 211.0, 'FAG_50_WEDTM_3_FLPOP_CO': 219.0, 'FAG_50_WEDTM_4_FLPOP_CO': 214.0, 'FAG_50_WEDTM_5_FLPOP_CO': 274.0, 'FAG_50_WEDTM_6_FLPOP_CO': 131.0, 'FAG_50_THUTM_1_FLPOP_CO': 33.0, 'FAG_50_THUTM_2_FLPOP_CO': 157.0, 'FAG_50_THUTM_3_FLPOP_CO': 190.0, 'FAG_50_THUTM_4_FLPOP_CO': 142.0, 'FAG_50_THUTM_5_FLPOP_CO': 256.0, 'FAG_50_THUTM_6_FLPOP_CO': 141.0, 'FAG_50_FRITM_1_FLPOP_CO': 234.0, 'FAG_50_FRITM_2_FLPOP_CO': 328.0, 'FAG_50_FRITM_3_FLPOP_CO': 195.0, 'FAG_50_FRITM_4_FLPOP_CO': 202.0, 'FAG_50_FRITM_5_FLPOP_CO': 321.0, 'FAG_50_FRITM_6_FLPOP_CO': 183.0, 'FAG_50_SATTM_1_FLPOP_CO': 169.0, 'FAG_50_SATTM_2_FLPOP_CO': 134.0, 'FAG_50_SATTM_3_FLPOP_CO': 204.0, 'FAG_50_SATTM_4_FLPOP_CO': 184.0, 'FAG_50_SATTM_5_FLPOP_CO': 276.0, 'FAG_50_SATTM_6_FLPOP_CO': 86.0, 'FAG_50_SUNTM_1_FLPOP_CO': 54.0, 'FAG_50_SUNTM_2_FLPOP_CO': 251.0, 'FAG_50_SUNTM_3_FLPOP_CO': 229.0, 'FAG_50_SUNTM_4_FLPOP_CO': 221.0, 'FAG_50_SUNTM_5_FLPOP_CO': 241.0, 'FAG_50_SUNTM_6_FLPOP_CO': 134.0, 'FAG_60_ABOVE_MONTM_1_FLPOP_CO': 74.0, 'FAG_60_ABOVE_MONTM_2_FLPOP_CO': 121.0, 'FAG_60_ABOVE_MONTM_3_FLPOP_CO': 89.0, 'FAG_60_ABOVE_MONTM_4_FLPOP_CO': 151.0, 'FAG_60_ABOVE_MONTM_5_FLPOP_CO': 160.0, 'FAG_60_ABOVE_MONTM_6_FLPOP_CO': 46.0, 'FAG_60_ABOVE_TUETM_1_FLPOP_CO': 13.0, 'FAG_60_ABOVE_TUETM_2_FLPOP_CO': 153.0, 'FAG_60_ABOVE_TUETM_3_FLPOP_CO': 128.0, 'FAG_60_ABOVE_TUETM_4_FLPOP_CO': 111.0, 'FAG_60_ABOVE_TUETM_5_FLPOP_CO': 198.0, 'FAG_60_ABOVE_TUETM_6_FLPOP_CO': 88.0, 'FAG_60_ABOVE_WEDTM_1_FLPOP_CO': 25.0, 'FAG_60_ABOVE_WEDTM_2_FLPOP_CO': 136.0, 'FAG_60_ABOVE_WEDTM_3_FLPOP_CO': 94.0, 'FAG_60_ABOVE_WEDTM_4_FLPOP_CO': 45.0, 'FAG_60_ABOVE_WEDTM_5_FLPOP_CO': 106.0, 'FAG_60_ABOVE_WEDTM_6_FLPOP_CO': 58.0, 'FAG_60_ABOVE_THUTM_1_FLPOP_CO': 38.0, 'FAG_60_ABOVE_THUTM_2_FLPOP_CO': 152.0, 'FAG_60_ABOVE_THUTM_3_FLPOP_CO': 141.0, 'FAG_60_ABOVE_THUTM_4_FLPOP_CO': 150.0, 'FAG_60_ABOVE_THUTM_5_FLPOP_CO': 196.0, 'FAG_60_ABOVE_THUTM_6_FLPOP_CO': 50.0, 'FAG_60_ABOVE_FRITM_1_FLPOP_CO': 184.0, 'FAG_60_ABOVE_FRITM_2_FLPOP_CO': 202.0, 'FAG_60_ABOVE_FRITM_3_FLPOP_CO': 162.0, 'FAG_60_ABOVE_FRITM_4_FLPOP_CO': 128.0, 'FAG_60_ABOVE_FRITM_5_FLPOP_CO': 233.0, 'FAG_60_ABOVE_FRITM_6_FLPOP_CO': 133.0, 'FAG_60_ABOVE_SATTM_1_FLPOP_CO': 173.0, 'FAG_60_ABOVE_SATTM_2_FLPOP_CO': 152.0, 'FAG_60_ABOVE_SATTM_3_FLPOP_CO': 144.0, 'FAG_60_ABOVE_SATTM_4_FLPOP_CO': 204.0, 'FAG_60_ABOVE_SATTM_5_FLPOP_CO': 244.0, 'FAG_60_ABOVE_SATTM_6_FLPOP_CO': 105.0, 'FAG_60_ABOVE_SUNTM_1_FLPOP_CO': 126.0, 'FAG_60_ABOVE_SUNTM_2_FLPOP_CO': 289.0, 'FAG_60_ABOVE_SUNTM_3_FLPOP_CO': 232.0, 'FAG_60_ABOVE_SUNTM_4_FLPOP_CO': 202.0, 'FAG_60_ABOVE_SUNTM_5_FLPOP_CO': 220.0, 'FAG_60_ABOVE_SUNTM_6_FLPOP_CO': 27.0}, {'STDR_YY_CD': '2017', 'STDR_QU_CD': '2', 'TRDAR_SE_CD': 'A', 'TRDAR_SE_CD_NM': '골목상권', 'TRDAR_CD': '1000645', 'TRDAR_CD_NM': '부일로11길', 'TOT_FLPOP_CO': 30997.0, 'ML_FLPOP_CO': 15035.0, 'FML_FLPOP_CO': 15963.0, 'AGRDE_10_FLPOP_CO': 7558.0, 'AGRDE_20_FLPOP_CO': 4139.0, 'AGRDE_30_FLPOP_CO': 6457.0, 'AGRDE_40_FLPOP_CO': 4796.0, 'AGRDE_50_FLPOP_CO': 4846.0, 'AGRDE_60_ABOVE_FLPOP_CO': 3199.0, 'TMZON_1_FLPOP_CO': 1854.0, 'TMZON_2_FLPOP_CO': 5803.0, 'TMZON_3_FLPOP_CO': 6900.0, 'TMZON_4_FLPOP_CO': 5766.0, 'TMZON_5_FLPOP_CO': 7261.0, 'TMZON_6_FLPOP_CO': 3420.0, 'MON_FLPOP_CO': 4304.0, 'TUES_FLPOP_CO': 3987.0, 'WED_FLPOP_CO': 5040.0, 'THUR_FLPOP_CO': 3967.0, 'FRI_FLPOP_CO': 4084.0, 'SAT_FLPOP_CO': 2735.0, 'SUN_FLPOP_CO': 6875.0, 'MAG_10_MONTM_1_FLPOP_CO': 0.0, 'MAG_10_MONTM_2_FLPOP_CO': 214.0, 'MAG_10_MONTM_3_FLPOP_CO': 197.0, 'MAG_10_MONTM_4_FLPOP_CO': 221.0, 'MAG_10_MONTM_5_FLPOP_CO': 245.0, 'MAG_10_MONTM_6_FLPOP_CO': 55.0, 'MAG_10_TUETM_1_FLPOP_CO': 0.0, 'MAG_10_TUETM_2_FLPOP_CO': 165.0, 'MAG_10_TUETM_3_FLPOP_CO': 156.0, 'MAG_10_TUETM_4_FLPOP_CO': 175.0, 'MAG_10_TUETM_5_FLPOP_CO': 228.0, 'MAG_10_TUETM_6_FLPOP_CO': 45.0, 'MAG_10_WEDTM_1_FLPOP_CO': 0.0, 'MAG_10_WEDTM_2_FLPOP_CO': 205.0, 'MAG_10_WEDTM_3_FLPOP_CO': 188.0, 'MAG_10_WEDTM_4_FLPOP_CO': 218.0, 'MAG_10_WEDTM_5_FLPOP_CO': 211.0, 'MAG_10_WEDTM_6_FLPOP_CO': 52.0, 'MAG_10_THUTM_1_FLPOP_CO': 2.0, 'MAG_10_THUTM_2_FLPOP_CO': 183.0, 'MAG_10_THUTM_3_FLPOP_CO': 155.0, 'MAG_10_THUTM_4_FLPOP_CO': 199.0, 'MAG_10_THUTM_5_FLPOP_CO': 249.0, 'MAG_10_THUTM_6_FLPOP_CO': 51.0, 'MAG_10_FRITM_1_FLPOP_CO': 0.0, 'MAG_10_FRITM_2_FLPOP_CO': 164.0, 'MAG_10_FRITM_3_FLPOP_CO': 159.0, 'MAG_10_FRITM_4_FLPOP_CO': 152.0, 'MAG_10_FRITM_5_FLPOP_CO': 168.0, 'MAG_10_FRITM_6_FLPOP_CO': 31.0, 'MAG_10_SATTM_1_FLPOP_CO': 0.0, 'MAG_10_SATTM_2_FLPOP_CO': 12.0, 'MAG_10_SATTM_3_FLPOP_CO': 25.0, 'MAG_10_SATTM_4_FLPOP_CO': 45.0, 'MAG_10_SATTM_5_FLPOP_CO': 30.0, 'MAG_10_SATTM_6_FLPOP_CO': 1.0, 'MAG_10_SUNTM_1_FLPOP_CO': 2.0, 'MAG_10_SUNTM_2_FLPOP_CO': 1.0, 'MAG_10_SUNTM_3_FLPOP_CO': 11.0, 'MAG_10_SUNTM_4_FLPOP_CO': 28.0, 'MAG_10_SUNTM_5_FLPOP_CO': 12.0, 'MAG_10_SUNTM_6_FLPOP_CO': 0.0, 'MAG_20_MONTM_1_FLPOP_CO': 100.0, 'MAG_20_MONTM_2_FLPOP_CO': 58.0, 'MAG_20_MONTM_3_FLPOP_CO': 44.0, 'MAG_20_MONTM_4_FLPOP_CO': 22.0, 'MAG_20_MONTM_5_FLPOP_CO': 50.0, 'MAG_20_MONTM_6_FLPOP_CO': 59.0, 'MAG_20_TUETM_1_FLPOP_CO': 83.0, 'MAG_20_TUETM_2_FLPOP_CO': 23.0, 'MAG_20_TUETM_3_FLPOP_CO': 23.0, 'MAG_20_TUETM_4_FLPOP_CO': 11.0, 'MAG_20_TUETM_5_FLPOP_CO': 59.0, 'MAG_20_TUETM_6_FLPOP_CO': 67.0, 'MAG_20_WEDTM_1_FLPOP_CO': 80.0, 'MAG_20_WEDTM_2_FLPOP_CO': 25.0, 'MAG_20_WEDTM_3_FLPOP_CO': 26.0, 'MAG_20_WEDTM_4_FLPOP_CO': 23.0, 'MAG_20_WEDTM_5_FLPOP_CO': 70.0, 'MAG_20_WEDTM_6_FLPOP_CO': 83.0, 'MAG_20_THUTM_1_FLPOP_CO': 98.0, 'MAG_20_THUTM_2_FLPOP_CO': 24.0, 'MAG_20_THUTM_3_FLPOP_CO': 13.0, 'MAG_20_THUTM_4_FLPOP_CO': 16.0, 'MAG_20_THUTM_5_FLPOP_CO': 42.0, 'MAG_20_THUTM_6_FLPOP_CO': 83.0, 'MAG_20_FRITM_1_FLPOP_CO': 91.0, 'MAG_20_FRITM_2_FLPOP_CO': 19.0, 'MAG_20_FRITM_3_FLPOP_CO': 16.0, 'MAG_20_FRITM_4_FLPOP_CO': 16.0, 'MAG_20_FRITM_5_FLPOP_CO': 55.0, 'MAG_20_FRITM_6_FLPOP_CO': 137.0, 'MAG_20_SATTM_1_FLPOP_CO': 162.0, 'MAG_20_SATTM_2_FLPOP_CO': 102.0, 'MAG_20_SATTM_3_FLPOP_CO': 74.0, 'MAG_20_SATTM_4_FLPOP_CO': 48.0, 'MAG_20_SATTM_5_FLPOP_CO': 83.0, 'MAG_20_SATTM_6_FLPOP_CO': 96.0, 'MAG_20_SUNTM_1_FLPOP_CO': 137.0, 'MAG_20_SUNTM_2_FLPOP_CO': 154.0, 'MAG_20_SUNTM_3_FLPOP_CO': 116.0, 'MAG_20_SUNTM_4_FLPOP_CO': 136.0, 'MAG_20_SUNTM_5_FLPOP_CO': 173.0, 'MAG_20_SUNTM_6_FLPOP_CO': 85.0, 'MAG_30_MONTM_1_FLPOP_CO': 95.0, 'MAG_30_MONTM_2_FLPOP_CO': 42.0, 'MAG_30_MONTM_3_FLPOP_CO': 12.0, 'MAG_30_MONTM_4_FLPOP_CO': 3.0, 'MAG_30_MONTM_5_FLPOP_CO': 48.0, 'MAG_30_MONTM_6_FLPOP_CO': 52.0, 'MAG_30_TUETM_1_FLPOP_CO': 49.0, 'MAG_30_TUETM_2_FLPOP_CO': 33.0, 'MAG_30_TUETM_3_FLPOP_CO': 12.0, 'MAG_30_TUETM_4_FLPOP_CO': 15.0, 'MAG_30_TUETM_5_FLPOP_CO': 45.0, 'MAG_30_TUETM_6_FLPOP_CO': 50.0, 'MAG_30_WEDTM_1_FLPOP_CO': 53.0, 'MAG_30_WEDTM_2_FLPOP_CO': 46.0, 'MAG_30_WEDTM_3_FLPOP_CO': 7.0, 'MAG_30_WEDTM_4_FLPOP_CO': 20.0, 'MAG_30_WEDTM_5_FLPOP_CO': 71.0, 'MAG_30_WEDTM_6_FLPOP_CO': 57.0, 'MAG_30_THUTM_1_FLPOP_CO': 29.0, 'MAG_30_THUTM_2_FLPOP_CO': 19.0, 'MAG_30_THUTM_3_FLPOP_CO': 9.0, 'MAG_30_THUTM_4_FLPOP_CO': 9.0, 'MAG_30_THUTM_5_FLPOP_CO': 41.0, 'MAG_30_THUTM_6_FLPOP_CO': 35.0, 'MAG_30_FRITM_1_FLPOP_CO': 25.0, 'MAG_30_FRITM_2_FLPOP_CO': 18.0, 'MAG_30_FRITM_3_FLPOP_CO': 15.0, 'MAG_30_FRITM_4_FLPOP_CO': 11.0, 'MAG_30_FRITM_5_FLPOP_CO': 53.0, 'MAG_30_FRITM_6_FLPOP_CO': 92.0, 'MAG_30_SATTM_1_FLPOP_CO': 97.0, 'MAG_30_SATTM_2_FLPOP_CO': 64.0, 'MAG_30_SATTM_3_FLPOP_CO': 74.0, 'MAG_30_SATTM_4_FLPOP_CO': 56.0, 'MAG_30_SATTM_5_FLPOP_CO': 149.0, 'MAG_30_SATTM_6_FLPOP_CO': 106.0, 'MAG_30_SUNTM_1_FLPOP_CO': 170.0, 'MAG_30_SUNTM_2_FLPOP_CO': 220.0, 'MAG_30_SUNTM_3_FLPOP_CO': 221.0, 'MAG_30_SUNTM_4_FLPOP_CO': 180.0, 'MAG_30_SUNTM_5_FLPOP_CO': 247.0, 'MAG_30_SUNTM_6_FLPOP_CO': 91.0, 'MAG_40_MONTM_1_FLPOP_CO': 15.0, 'MAG_40_MONTM_2_FLPOP_CO': 48.0, 'MAG_40_MONTM_3_FLPOP_CO': 38.0, 'MAG_40_MONTM_4_FLPOP_CO': 33.0, 'MAG_40_MONTM_5_FLPOP_CO': 41.0, 'MAG_40_MONTM_6_FLPOP_CO': 17.0, 'MAG_40_TUETM_1_FLPOP_CO': 10.0, 'MAG_40_TUETM_2_FLPOP_CO': 33.0, 'MAG_40_TUETM_3_FLPOP_CO': 20.0, 'MAG_40_TUETM_4_FLPOP_CO': 25.0, 'MAG_40_TUETM_5_FLPOP_CO': 48.0, 'MAG_40_TUETM_6_FLPOP_CO': 26.0, 'MAG_40_WEDTM_1_FLPOP_CO': 10.0, 'MAG_40_WEDTM_2_FLPOP_CO': 62.0, 'MAG_40_WEDTM_3_FLPOP_CO': 63.0, 'MAG_40_WEDTM_4_FLPOP_CO': 65.0, 'MAG_40_WEDTM_5_FLPOP_CO': 64.0, 'MAG_40_WEDTM_6_FLPOP_CO': 22.0, 'MAG_40_THUTM_1_FLPOP_CO': 5.0, 'MAG_40_THUTM_2_FLPOP_CO': 39.0, 'MAG_40_THUTM_3_FLPOP_CO': 53.0, 'MAG_40_THUTM_4_FLPOP_CO': 36.0, 'MAG_40_THUTM_5_FLPOP_CO': 50.0, 'MAG_40_THUTM_6_FLPOP_CO': 15.0, 'MAG_40_FRITM_1_FLPOP_CO': 9.0, 'MAG_40_FRITM_2_FLPOP_CO': 20.0, 'MAG_40_FRITM_3_FLPOP_CO': 55.0, 'MAG_40_FRITM_4_FLPOP_CO': 48.0, 'MAG_40_FRITM_5_FLPOP_CO': 47.0, 'MAG_40_FRITM_6_FLPOP_CO': 48.0, 'MAG_40_SATTM_1_FLPOP_CO': 17.0, 'MAG_40_SATTM_2_FLPOP_CO': 14.0, 'MAG_40_SATTM_3_FLPOP_CO': 28.0, 'MAG_40_SATTM_4_FLPOP_CO': 30.0, 'MAG_40_SATTM_5_FLPOP_CO': 92.0, 'MAG_40_SATTM_6_FLPOP_CO': 26.0, 'MAG_40_SUNTM_1_FLPOP_CO': 24.0, 'MAG_40_SUNTM_2_FLPOP_CO': 95.0, 'MAG_40_SUNTM_3_FLPOP_CO': 165.0, 'MAG_40_SUNTM_4_FLPOP_CO': 144.0, 'MAG_40_SUNTM_5_FLPOP_CO': 161.0, 'MAG_40_SUNTM_6_FLPOP_CO': 33.0, 'MAG_50_MONTM_1_FLPOP_CO': 22.0, 'MAG_50_MONTM_2_FLPOP_CO': 49.0, 'MAG_50_MONTM_3_FLPOP_CO': 54.0, 'MAG_50_MONTM_4_FLPOP_CO': 42.0, 'MAG_50_MONTM_5_FLPOP_CO': 43.0, 'MAG_50_MONTM_6_FLPOP_CO': 15.0, 'MAG_50_TUETM_1_FLPOP_CO': 24.0, 'MAG_50_TUETM_2_FLPOP_CO': 49.0, 'MAG_50_TUETM_3_FLPOP_CO': 67.0, 'MAG_50_TUETM_4_FLPOP_CO': 54.0, 'MAG_50_TUETM_5_FLPOP_CO': 71.0, 'MAG_50_TUETM_6_FLPOP_CO': 10.0, 'MAG_50_WEDTM_1_FLPOP_CO': 36.0, 'MAG_50_WEDTM_2_FLPOP_CO': 59.0, 'MAG_50_WEDTM_3_FLPOP_CO': 71.0, 'MAG_50_WEDTM_4_FLPOP_CO': 62.0, 'MAG_50_WEDTM_5_FLPOP_CO': 63.0, 'MAG_50_WEDTM_6_FLPOP_CO': 24.0, 'MAG_50_THUTM_1_FLPOP_CO': 8.0, 'MAG_50_THUTM_2_FLPOP_CO': 34.0, 'MAG_50_THUTM_3_FLPOP_CO': 45.0, 'MAG_50_THUTM_4_FLPOP_CO': 45.0, 'MAG_50_THUTM_5_FLPOP_CO': 50.0, 'MAG_50_THUTM_6_FLPOP_CO': 11.0, 'MAG_50_FRITM_1_FLPOP_CO': 31.0, 'MAG_50_FRITM_2_FLPOP_CO': 22.0, 'MAG_50_FRITM_3_FLPOP_CO': 58.0, 'MAG_50_FRITM_4_FLPOP_CO': 38.0, 'MAG_50_FRITM_5_FLPOP_CO': 34.0, 'MAG_50_FRITM_6_FLPOP_CO': 33.0, 'MAG_50_SATTM_1_FLPOP_CO': 8.0, 'MAG_50_SATTM_2_FLPOP_CO': 46.0, 'MAG_50_SATTM_3_FLPOP_CO': 34.0, 'MAG_50_SATTM_4_FLPOP_CO': 17.0, 'MAG_50_SATTM_5_FLPOP_CO': 39.0, 'MAG_50_SATTM_6_FLPOP_CO': 9.0, 'MAG_50_SUNTM_1_FLPOP_CO': 17.0, 'MAG_50_SUNTM_2_FLPOP_CO': 142.0, 'MAG_50_SUNTM_3_FLPOP_CO': 213.0, 'MAG_50_SUNTM_4_FLPOP_CO': 143.0, 'MAG_50_SUNTM_5_FLPOP_CO': 101.0, 'MAG_50_SUNTM_6_FLPOP_CO': 14.0, 'MAG_60_ABOVE_MONTM_1_FLPOP_CO': 11.0, 'MAG_60_ABOVE_MONTM_2_FLPOP_CO': 15.0, 'MAG_60_ABOVE_MONTM_3_FLPOP_CO': 27.0, 'MAG_60_ABOVE_MONTM_4_FLPOP_CO': 29.0, 'MAG_60_ABOVE_MONTM_5_FLPOP_CO': 25.0, 'MAG_60_ABOVE_MONTM_6_FLPOP_CO': 7.0, 'MAG_60_ABOVE_TUETM_1_FLPOP_CO': 0.0, 'MAG_60_ABOVE_TUETM_2_FLPOP_CO': 9.0, 'MAG_60_ABOVE_TUETM_3_FLPOP_CO': 33.0, 'MAG_60_ABOVE_TUETM_4_FLPOP_CO': 29.0, 'MAG_60_ABOVE_TUETM_5_FLPOP_CO': 48.0, 'MAG_60_ABOVE_TUETM_6_FLPOP_CO': 2.0, 'MAG_60_ABOVE_WEDTM_1_FLPOP_CO': 0.0, 'MAG_60_ABOVE_WEDTM_2_FLPOP_CO': 11.0, 'MAG_60_ABOVE_WEDTM_3_FLPOP_CO': 54.0, 'MAG_60_ABOVE_WEDTM_4_FLPOP_CO': 37.0, 'MAG_60_ABOVE_WEDTM_5_FLPOP_CO': 53.0, 'MAG_60_ABOVE_WEDTM_6_FLPOP_CO': 14.0, 'MAG_60_ABOVE_THUTM_1_FLPOP_CO': 0.0, 'MAG_60_ABOVE_THUTM_2_FLPOP_CO': 9.0, 'MAG_60_ABOVE_THUTM_3_FLPOP_CO': 41.0, 'MAG_60_ABOVE_THUTM_4_FLPOP_CO': 30.0, 'MAG_60_ABOVE_THUTM_5_FLPOP_CO': 39.0, 'MAG_60_ABOVE_THUTM_6_FLPOP_CO': 17.0, 'MAG_60_ABOVE_FRITM_1_FLPOP_CO': 0.0, 'MAG_60_ABOVE_FRITM_2_FLPOP_CO': 10.0, 'MAG_60_ABOVE_FRITM_3_FLPOP_CO': 45.0, 'MAG_60_ABOVE_FRITM_4_FLPOP_CO': 20.0, 'MAG_60_ABOVE_FRITM_5_FLPOP_CO': 46.0, 'MAG_60_ABOVE_FRITM_6_FLPOP_CO': 20.0, 'MAG_60_ABOVE_SATTM_1_FLPOP_CO': 0.0, 'MAG_60_ABOVE_SATTM_2_FLPOP_CO': 18.0, 'MAG_60_ABOVE_SATTM_3_FLPOP_CO': 22.0, 'MAG_60_ABOVE_SATTM_4_FLPOP_CO': 13.0, 'MAG_60_ABOVE_SATTM_5_FLPOP_CO': 22.0, 'MAG_60_ABOVE_SATTM_6_FLPOP_CO': 0.0, 'MAG_60_ABOVE_SUNTM_1_FLPOP_CO': 0.0, 'MAG_60_ABOVE_SUNTM_2_FLPOP_CO': 108.0, 'MAG_60_ABOVE_SUNTM_3_FLPOP_CO': 208.0, 'MAG_60_ABOVE_SUNTM_4_FLPOP_CO': 95.0, 'MAG_60_ABOVE_SUNTM_5_FLPOP_CO': 67.0, 'MAG_60_ABOVE_SUNTM_6_FLPOP_CO': 18.0, 'FAG_10_MONTM_1_FLPOP_CO': 0.0, 'FAG_10_MONTM_2_FLPOP_CO': 193.0, 'FAG_10_MONTM_3_FLPOP_CO': 163.0, 'FAG_10_MONTM_4_FLPOP_CO': 164.0, 'FAG_10_MONTM_5_FLPOP_CO': 125.0, 'FAG_10_MONTM_6_FLPOP_CO': 13.0, 'FAG_10_TUETM_1_FLPOP_CO': 8.0, 'FAG_10_TUETM_2_FLPOP_CO': 188.0, 'FAG_10_TUETM_3_FLPOP_CO': 152.0, 'FAG_10_TUETM_4_FLPOP_CO': 159.0, 'FAG_10_TUETM_5_FLPOP_CO': 123.0, 'FAG_10_TUETM_6_FLPOP_CO': 18.0, 'FAG_10_WEDTM_1_FLPOP_CO': 3.0, 'FAG_10_WEDTM_2_FLPOP_CO': 213.0, 'FAG_10_WEDTM_3_FLPOP_CO': 176.0, 'FAG_10_WEDTM_4_FLPOP_CO': 195.0, 'FAG_10_WEDTM_5_FLPOP_CO': 169.0, 'FAG_10_WEDTM_6_FLPOP_CO': 18.0, 'FAG_10_THUTM_1_FLPOP_CO': 0.0, 'FAG_10_THUTM_2_FLPOP_CO': 179.0, 'FAG_10_THUTM_3_FLPOP_CO': 145.0, 'FAG_10_THUTM_4_FLPOP_CO': 161.0, 'FAG_10_THUTM_5_FLPOP_CO': 123.0, 'FAG_10_THUTM_6_FLPOP_CO': 18.0, 'FAG_10_FRITM_1_FLPOP_CO': 3.0, 'FAG_10_FRITM_2_FLPOP_CO': 156.0, 'FAG_10_FRITM_3_FLPOP_CO': 147.0, 'FAG_10_FRITM_4_FLPOP_CO': 122.0, 'FAG_10_FRITM_5_FLPOP_CO': 86.0, 'FAG_10_FRITM_6_FLPOP_CO': 10.0, 'FAG_10_SATTM_1_FLPOP_CO': 0.0, 'FAG_10_SATTM_2_FLPOP_CO': 11.0, 'FAG_10_SATTM_3_FLPOP_CO': 13.0, 'FAG_10_SATTM_4_FLPOP_CO': 13.0, 'FAG_10_SATTM_5_FLPOP_CO': 2.0, 'FAG_10_SATTM_6_FLPOP_CO': 1.0, 'FAG_10_SUNTM_1_FLPOP_CO': 0.0, 'FAG_10_SUNTM_2_FLPOP_CO': 3.0, 'FAG_10_SUNTM_3_FLPOP_CO': 5.0, 'FAG_10_SUNTM_4_FLPOP_CO': 11.0, 'FAG_10_SUNTM_5_FLPOP_CO': 16.0, 'FAG_10_SUNTM_6_FLPOP_CO': 3.0, 'FAG_20_MONTM_1_FLPOP_CO': 24.0, 'FAG_20_MONTM_2_FLPOP_CO': 0.0, 'FAG_20_MONTM_3_FLPOP_CO': 3.0, 'FAG_20_MONTM_4_FLPOP_CO': 9.0, 'FAG_20_MONTM_5_FLPOP_CO': 26.0, 'FAG_20_MONTM_6_FLPOP_CO': 40.0, 'FAG_20_TUETM_1_FLPOP_CO': 14.0, 'FAG_20_TUETM_2_FLPOP_CO': 30.0, 'FAG_20_TUETM_3_FLPOP_CO': 19.0, 'FAG_20_TUETM_4_FLPOP_CO': 16.0, 'FAG_20_TUETM_5_FLPOP_CO': 28.0, 'FAG_20_TUETM_6_FLPOP_CO': 25.0, 'FAG_20_WEDTM_1_FLPOP_CO': 18.0, 'FAG_20_WEDTM_2_FLPOP_CO': 31.0, 'FAG_20_WEDTM_3_FLPOP_CO': 34.0, 'FAG_20_WEDTM_4_FLPOP_CO': 25.0, 'FAG_20_WEDTM_5_FLPOP_CO': 91.0, 'FAG_20_WEDTM_6_FLPOP_CO': 38.0, 'FAG_20_THUTM_1_FLPOP_CO': 2.0, 'FAG_20_THUTM_2_FLPOP_CO': 15.0, 'FAG_20_THUTM_3_FLPOP_CO': 14.0, 'FAG_20_THUTM_4_FLPOP_CO': 16.0, 'FAG_20_THUTM_5_FLPOP_CO': 30.0, 'FAG_20_THUTM_6_FLPOP_CO': 30.0, 'FAG_20_FRITM_1_FLPOP_CO': 23.0, 'FAG_20_FRITM_2_FLPOP_CO': 3.0, 'FAG_20_FRITM_3_FLPOP_CO': 12.0, 'FAG_20_FRITM_4_FLPOP_CO': 12.0, 'FAG_20_FRITM_5_FLPOP_CO': 49.0, 'FAG_20_FRITM_6_FLPOP_CO': 91.0, 'FAG_20_SATTM_1_FLPOP_CO': 29.0, 'FAG_20_SATTM_2_FLPOP_CO': 15.0, 'FAG_20_SATTM_3_FLPOP_CO': 6.0, 'FAG_20_SATTM_4_FLPOP_CO': 3.0, 'FAG_20_SATTM_5_FLPOP_CO': 34.0, 'FAG_20_SATTM_6_FLPOP_CO': 24.0, 'FAG_20_SUNTM_1_FLPOP_CO': 2.0, 'FAG_20_SUNTM_2_FLPOP_CO': 76.0, 'FAG_20_SUNTM_3_FLPOP_CO': 91.0, 'FAG_20_SUNTM_4_FLPOP_CO': 71.0, 'FAG_20_SUNTM_5_FLPOP_CO': 107.0, 'FAG_20_SUNTM_6_FLPOP_CO': 40.0, 'FAG_30_MONTM_1_FLPOP_CO': 6.0, 'FAG_30_MONTM_2_FLPOP_CO': 105.0, 'FAG_30_MONTM_3_FLPOP_CO': 112.0, 'FAG_30_MONTM_4_FLPOP_CO': 94.0, 'FAG_30_MONTM_5_FLPOP_CO': 83.0, 'FAG_30_MONTM_6_FLPOP_CO': 48.0, 'FAG_30_TUETM_1_FLPOP_CO': 5.0, 'FAG_30_TUETM_2_FLPOP_CO': 87.0, 'FAG_30_TUETM_3_FLPOP_CO': 128.0, 'FAG_30_TUETM_4_FLPOP_CO': 113.0, 'FAG_30_TUETM_5_FLPOP_CO': 109.0, 'FAG_30_TUETM_6_FLPOP_CO': 57.0, 'FAG_30_WEDTM_1_FLPOP_CO': 6.0, 'FAG_30_WEDTM_2_FLPOP_CO': 108.0, 'FAG_30_WEDTM_3_FLPOP_CO': 152.0, 'FAG_30_WEDTM_4_FLPOP_CO': 120.0, 'FAG_30_WEDTM_5_FLPOP_CO': 121.0, 'FAG_30_WEDTM_6_FLPOP_CO': 66.0, 'FAG_30_THUTM_1_FLPOP_CO': 5.0, 'FAG_30_THUTM_2_FLPOP_CO': 87.0, 'FAG_30_THUTM_3_FLPOP_CO': 123.0, 'FAG_30_THUTM_4_FLPOP_CO': 116.0, 'FAG_30_THUTM_5_FLPOP_CO': 91.0, 'FAG_30_THUTM_6_FLPOP_CO': 56.0, 'FAG_30_FRITM_1_FLPOP_CO': 11.0, 'FAG_30_FRITM_2_FLPOP_CO': 60.0, 'FAG_30_FRITM_3_FLPOP_CO': 123.0, 'FAG_30_FRITM_4_FLPOP_CO': 96.0, 'FAG_30_FRITM_5_FLPOP_CO': 113.0, 'FAG_30_FRITM_6_FLPOP_CO': 114.0, 'FAG_30_SATTM_1_FLPOP_CO': 30.0, 'FAG_30_SATTM_2_FLPOP_CO': 23.0, 'FAG_30_SATTM_3_FLPOP_CO': 49.0, 'FAG_30_SATTM_4_FLPOP_CO': 42.0, 'FAG_30_SATTM_5_FLPOP_CO': 132.0, 'FAG_30_SATTM_6_FLPOP_CO': 71.0, 'FAG_30_SUNTM_1_FLPOP_CO': 44.0, 'FAG_30_SUNTM_2_FLPOP_CO': 156.0, 'FAG_30_SUNTM_3_FLPOP_CO': 197.0, 'FAG_30_SUNTM_4_FLPOP_CO': 148.0, 'FAG_30_SUNTM_5_FLPOP_CO': 234.0, 'FAG_30_SUNTM_6_FLPOP_CO': 67.0, 'FAG_40_MONTM_1_FLPOP_CO': 4.0, 'FAG_40_MONTM_2_FLPOP_CO': 73.0, 'FAG_40_MONTM_3_FLPOP_CO': 83.0, 'FAG_40_MONTM_4_FLPOP_CO': 59.0, 'FAG_40_MONTM_5_FLPOP_CO': 88.0, 'FAG_40_MONTM_6_FLPOP_CO': 34.0, 'FAG_40_TUETM_1_FLPOP_CO': 4.0, 'FAG_40_TUETM_2_FLPOP_CO': 46.0, 'FAG_40_TUETM_3_FLPOP_CO': 69.0, 'FAG_40_TUETM_4_FLPOP_CO': 59.0, 'FAG_40_TUETM_5_FLPOP_CO': 114.0, 'FAG_40_TUETM_6_FLPOP_CO': 48.0, 'FAG_40_WEDTM_1_FLPOP_CO': 9.0, 'FAG_40_WEDTM_2_FLPOP_CO': 100.0, 'FAG_40_WEDTM_3_FLPOP_CO': 117.0, 'FAG_40_WEDTM_4_FLPOP_CO': 118.0, 'FAG_40_WEDTM_5_FLPOP_CO': 121.0, 'FAG_40_WEDTM_6_FLPOP_CO': 47.0, 'FAG_40_THUTM_1_FLPOP_CO': 3.0, 'FAG_40_THUTM_2_FLPOP_CO': 70.0, 'FAG_40_THUTM_3_FLPOP_CO': 87.0, 'FAG_40_THUTM_4_FLPOP_CO': 74.0, 'FAG_40_THUTM_5_FLPOP_CO': 122.0, 'FAG_40_THUTM_6_FLPOP_CO': 42.0, 'FAG_40_FRITM_1_FLPOP_CO': 4.0, 'FAG_40_FRITM_2_FLPOP_CO': 56.0, 'FAG_40_FRITM_3_FLPOP_CO': 73.0, 'FAG_40_FRITM_4_FLPOP_CO': 109.0, 'FAG_40_FRITM_5_FLPOP_CO': 86.0, 'FAG_40_FRITM_6_FLPOP_CO': 101.0, 'FAG_40_SATTM_1_FLPOP_CO': 11.0, 'FAG_40_SATTM_2_FLPOP_CO': 33.0, 'FAG_40_SATTM_3_FLPOP_CO': 33.0, 'FAG_40_SATTM_4_FLPOP_CO': 64.0, 'FAG_40_SATTM_5_FLPOP_CO': 81.0, 'FAG_40_SATTM_6_FLPOP_CO': 34.0, 'FAG_40_SUNTM_1_FLPOP_CO': 5.0, 'FAG_40_SUNTM_2_FLPOP_CO': 105.0, 'FAG_40_SUNTM_3_FLPOP_CO': 227.0, 'FAG_40_SUNTM_4_FLPOP_CO': 122.0, 'FAG_40_SUNTM_5_FLPOP_CO': 137.0, 'FAG_40_SUNTM_6_FLPOP_CO': 26.0, 'FAG_50_MONTM_1_FLPOP_CO': 6.0, 'FAG_50_MONTM_2_FLPOP_CO': 78.0, 'FAG_50_MONTM_3_FLPOP_CO': 101.0, 'FAG_50_MONTM_4_FLPOP_CO': 78.0, 'FAG_50_MONTM_5_FLPOP_CO': 101.0, 'FAG_50_MONTM_6_FLPOP_CO': 68.0, 'FAG_50_TUETM_1_FLPOP_CO': 2.0, 'FAG_50_TUETM_2_FLPOP_CO': 57.0, 'FAG_50_TUETM_3_FLPOP_CO': 79.0, 'FAG_50_TUETM_4_FLPOP_CO': 65.0, 'FAG_50_TUETM_5_FLPOP_CO': 90.0, 'FAG_50_TUETM_6_FLPOP_CO': 42.0, 'FAG_50_WEDTM_1_FLPOP_CO': 6.0, 'FAG_50_WEDTM_2_FLPOP_CO': 70.0, 'FAG_50_WEDTM_3_FLPOP_CO': 95.0, 'FAG_50_WEDTM_4_FLPOP_CO': 89.0, 'FAG_50_WEDTM_5_FLPOP_CO': 129.0, 'FAG_50_WEDTM_6_FLPOP_CO': 55.0, 'FAG_50_THUTM_1_FLPOP_CO': 2.0, 'FAG_50_THUTM_2_FLPOP_CO': 62.0, 'FAG_50_THUTM_3_FLPOP_CO': 77.0, 'FAG_50_THUTM_4_FLPOP_CO': 60.0, 'FAG_50_THUTM_5_FLPOP_CO': 95.0, 'FAG_50_THUTM_6_FLPOP_CO': 36.0, 'FAG_50_FRITM_1_FLPOP_CO': 0.0, 'FAG_50_FRITM_2_FLPOP_CO': 47.0, 'FAG_50_FRITM_3_FLPOP_CO': 75.0, 'FAG_50_FRITM_4_FLPOP_CO': 77.0, 'FAG_50_FRITM_5_FLPOP_CO': 74.0, 'FAG_50_FRITM_6_FLPOP_CO': 92.0, 'FAG_50_SATTM_1_FLPOP_CO': 15.0, 'FAG_50_SATTM_2_FLPOP_CO': 23.0, 'FAG_50_SATTM_3_FLPOP_CO': 44.0, 'FAG_50_SATTM_4_FLPOP_CO': 18.0, 'FAG_50_SATTM_5_FLPOP_CO': 60.0, 'FAG_50_SATTM_6_FLPOP_CO': 17.0, 'FAG_50_SUNTM_1_FLPOP_CO': 3.0, 'FAG_50_SUNTM_2_FLPOP_CO': 135.0, 'FAG_50_SUNTM_3_FLPOP_CO': 275.0, 'FAG_50_SUNTM_4_FLPOP_CO': 149.0, 'FAG_50_SUNTM_5_FLPOP_CO': 160.0, 'FAG_50_SUNTM_6_FLPOP_CO': 30.0, 'FAG_60_ABOVE_MONTM_1_FLPOP_CO': 0.0, 'FAG_60_ABOVE_MONTM_2_FLPOP_CO': 58.0, 'FAG_60_ABOVE_MONTM_3_FLPOP_CO': 96.0, 'FAG_60_ABOVE_MONTM_4_FLPOP_CO': 45.0, 'FAG_60_ABOVE_MONTM_5_FLPOP_CO': 47.0, 'FAG_60_ABOVE_MONTM_6_FLPOP_CO': 28.0, 'FAG_60_ABOVE_TUETM_1_FLPOP_CO': 5.0, 'FAG_60_ABOVE_TUETM_2_FLPOP_CO': 63.0, 'FAG_60_ABOVE_TUETM_3_FLPOP_CO': 78.0, 'FAG_60_ABOVE_TUETM_4_FLPOP_CO': 21.0, 'FAG_60_ABOVE_TUETM_5_FLPOP_CO': 55.0, 'FAG_60_ABOVE_TUETM_6_FLPOP_CO': 19.0, 'FAG_60_ABOVE_WEDTM_1_FLPOP_CO': 3.0, 'FAG_60_ABOVE_WEDTM_2_FLPOP_CO': 80.0, 'FAG_60_ABOVE_WEDTM_3_FLPOP_CO': 77.0, 'FAG_60_ABOVE_WEDTM_4_FLPOP_CO': 29.0, 'FAG_60_ABOVE_WEDTM_5_FLPOP_CO': 76.0, 'FAG_60_ABOVE_WEDTM_6_FLPOP_CO': 37.0, 'FAG_60_ABOVE_THUTM_1_FLPOP_CO': 1.0, 'FAG_60_ABOVE_THUTM_2_FLPOP_CO': 60.0, 'FAG_60_ABOVE_THUTM_3_FLPOP_CO': 80.0, 'FAG_60_ABOVE_THUTM_4_FLPOP_CO': 41.0, 'FAG_60_ABOVE_THUTM_5_FLPOP_CO': 41.0, 'FAG_60_ABOVE_THUTM_6_FLPOP_CO': 22.0, 'FAG_60_ABOVE_FRITM_1_FLPOP_CO': 0.0, 'FAG_60_ABOVE_FRITM_2_FLPOP_CO': 37.0, 'FAG_60_ABOVE_FRITM_3_FLPOP_CO': 85.0, 'FAG_60_ABOVE_FRITM_4_FLPOP_CO': 25.0, 'FAG_60_ABOVE_FRITM_5_FLPOP_CO': 32.0, 'FAG_60_ABOVE_FRITM_6_FLPOP_CO': 68.0, 'FAG_60_ABOVE_SATTM_1_FLPOP_CO': 2.0, 'FAG_60_ABOVE_SATTM_2_FLPOP_CO': 28.0, 'FAG_60_ABOVE_SATTM_3_FLPOP_CO': 52.0, 'FAG_60_ABOVE_SATTM_4_FLPOP_CO': 23.0, 'FAG_60_ABOVE_SATTM_5_FLPOP_CO': 25.0, 'FAG_60_ABOVE_SATTM_6_FLPOP_CO': 4.0, 'FAG_60_ABOVE_SUNTM_1_FLPOP_CO': 0.0, 'FAG_60_ABOVE_SUNTM_2_FLPOP_CO': 100.0, 'FAG_60_ABOVE_SUNTM_3_FLPOP_CO': 199.0, 'FAG_60_ABOVE_SUNTM_4_FLPOP_CO': 91.0, 'FAG_60_ABOVE_SUNTM_5_FLPOP_CO': 106.0, 'FAG_60_ABOVE_SUNTM_6_FLPOP_CO': 7.0}, {'STDR_YY_CD': '2017', 'STDR_QU_CD': '2', 'TRDAR_SE_CD': 'A', 'TRDAR_SE_CD_NM': '골목상권', 'TRDAR_CD': '1000663', 'TRDAR_CD_NM': '독산로64길', 'TOT_FLPOP_CO': 56797.0, 'ML_FLPOP_CO': 29467.0, 'FML_FLPOP_CO': 27329.0, 'AGRDE_10_FLPOP_CO': 2467.0, 'AGRDE_20_FLPOP_CO': 12187.0, 'AGRDE_30_FLPOP_CO': 11193.0, 'AGRDE_40_FLPOP_CO': 10414.0, 'AGRDE_50_FLPOP_CO': 13546.0, 'AGRDE_60_ABOVE_FLPOP_CO': 6990.0, 'TMZON_1_FLPOP_CO': 8334.0, 'TMZON_2_FLPOP_CO': 9015.0, 'TMZON_3_FLPOP_CO': 8396.0, 'TMZON_4_FLPOP_CO': 9574.0, 'TMZON_5_FLPOP_CO': 13609.0, 'TMZON_6_FLPOP_CO': 7871.0, 'MON_FLPOP_CO': 7534.0, 'TUES_FLPOP_CO': 7482.0, 'WED_FLPOP_CO': 7860.0, 'THUR_FLPOP_CO': 7711.0, 'FRI_FLPOP_CO': 7804.0, 'SAT_FLPOP_CO': 8913.0, 'SUN_FLPOP_CO': 9489.0, 'MAG_10_MONTM_1_FLPOP_CO': 0.0, 'MAG_10_MONTM_2_FLPOP_CO': 0.0, 'MAG_10_MONTM_3_FLPOP_CO': 0.0, 'MAG_10_MONTM_4_FLPOP_CO': 35.0, 'MAG_10_MONTM_5_FLPOP_CO': 104.0, 'MAG_10_MONTM_6_FLPOP_CO': 6.0, 'MAG_10_TUETM_1_FLPOP_CO': 0.0, 'MAG_10_TUETM_2_FLPOP_CO': 0.0, 'MAG_10_TUETM_3_FLPOP_CO': 0.0, 'MAG_10_TUETM_4_FLPOP_CO': 31.0, 'MAG_10_TUETM_5_FLPOP_CO': 88.0, 'MAG_10_TUETM_6_FLPOP_CO': 2.0, 'MAG_10_WEDTM_1_FLPOP_CO': 0.0, 'MAG_10_WEDTM_2_FLPOP_CO': 0.0, 'MAG_10_WEDTM_3_FLPOP_CO': 0.0, 'MAG_10_WEDTM_4_FLPOP_CO': 60.0, 'MAG_10_WEDTM_5_FLPOP_CO': 145.0, 'MAG_10_WEDTM_6_FLPOP_CO': 17.0, 'MAG_10_THUTM_1_FLPOP_CO': 0.0, 'MAG_10_THUTM_2_FLPOP_CO': 0.0, 'MAG_10_THUTM_3_FLPOP_CO': 0.0, 'MAG_10_THUTM_4_FLPOP_CO': 13.0, 'MAG_10_THUTM_5_FLPOP_CO': 99.0, 'MAG_10_THUTM_6_FLPOP_CO': 27.0, 'MAG_10_FRITM_1_FLPOP_CO': 0.0, 'MAG_10_FRITM_2_FLPOP_CO': 0.0, 'MAG_10_FRITM_3_FLPOP_CO': 0.0, 'MAG_10_FRITM_4_FLPOP_CO': 68.0, 'MAG_10_FRITM_5_FLPOP_CO': 147.0, 'MAG_10_FRITM_6_FLPOP_CO': 47.0, 'MAG_10_SATTM_1_FLPOP_CO': 0.0, 'MAG_10_SATTM_2_FLPOP_CO': 3.0, 'MAG_10_SATTM_3_FLPOP_CO': 31.0, 'MAG_10_SATTM_4_FLPOP_CO': 106.0, 'MAG_10_SATTM_5_FLPOP_CO': 136.0, 'MAG_10_SATTM_6_FLPOP_CO': 58.0, 'MAG_10_SUNTM_1_FLPOP_CO': 3.0, 'MAG_10_SUNTM_2_FLPOP_CO': 5.0, 'MAG_10_SUNTM_3_FLPOP_CO': 17.0, 'MAG_10_SUNTM_4_FLPOP_CO': 112.0, 'MAG_10_SUNTM_5_FLPOP_CO': 129.0, 'MAG_10_SUNTM_6_FLPOP_CO': 16.0, 'MAG_20_MONTM_1_FLPOP_CO': 262.0, 'MAG_20_MONTM_2_FLPOP_CO': 186.0, 'MAG_20_MONTM_3_FLPOP_CO': 113.0, 'MAG_20_MONTM_4_FLPOP_CO': 131.0, 'MAG_20_MONTM_5_FLPOP_CO': 182.0, 'MAG_20_MONTM_6_FLPOP_CO': 138.0, 'MAG_20_TUETM_1_FLPOP_CO': 217.0, 'MAG_20_TUETM_2_FLPOP_CO': 150.0, 'MAG_20_TUETM_3_FLPOP_CO': 120.0, 'MAG_20_TUETM_4_FLPOP_CO': 131.0, 'MAG_20_TUETM_5_FLPOP_CO': 189.0, 'MAG_20_TUETM_6_FLPOP_CO': 151.0, 'MAG_20_WEDTM_1_FLPOP_CO': 225.0, 'MAG_20_WEDTM_2_FLPOP_CO': 113.0, 'MAG_20_WEDTM_3_FLPOP_CO': 111.0, 'MAG_20_WEDTM_4_FLPOP_CO': 122.0, 'MAG_20_WEDTM_5_FLPOP_CO': 182.0, 'MAG_20_WEDTM_6_FLPOP_CO': 148.0, 'MAG_20_THUTM_1_FLPOP_CO': 224.0, 'MAG_20_THUTM_2_FLPOP_CO': 115.0, 'MAG_20_THUTM_3_FLPOP_CO': 94.0, 'MAG_20_THUTM_4_FLPOP_CO': 125.0, 'MAG_20_THUTM_5_FLPOP_CO': 182.0, 'MAG_20_THUTM_6_FLPOP_CO': 134.0, 'MAG_20_FRITM_1_FLPOP_CO': 237.0, 'MAG_20_FRITM_2_FLPOP_CO': 180.0, 'MAG_20_FRITM_3_FLPOP_CO': 117.0, 'MAG_20_FRITM_4_FLPOP_CO': 134.0, 'MAG_20_FRITM_5_FLPOP_CO': 191.0, 'MAG_20_FRITM_6_FLPOP_CO': 155.0, 'MAG_20_SATTM_1_FLPOP_CO': 258.0, 'MAG_20_SATTM_2_FLPOP_CO': 207.0, 'MAG_20_SATTM_3_FLPOP_CO': 129.0, 'MAG_20_SATTM_4_FLPOP_CO': 141.0, 'MAG_20_SATTM_5_FLPOP_CO': 223.0, 'MAG_20_SATTM_6_FLPOP_CO': 197.0, 'MAG_20_SUNTM_1_FLPOP_CO': 298.0, 'MAG_20_SUNTM_2_FLPOP_CO': 270.0, 'MAG_20_SUNTM_3_FLPOP_CO': 181.0, 'MAG_20_SUNTM_4_FLPOP_CO': 163.0, 'MAG_20_SUNTM_5_FLPOP_CO': 248.0, 'MAG_20_SUNTM_6_FLPOP_CO': 147.0, 'MAG_30_MONTM_1_FLPOP_CO': 194.0, 'MAG_30_MONTM_2_FLPOP_CO': 142.0, 'MAG_30_MONTM_3_FLPOP_CO': 92.0, 'MAG_30_MONTM_4_FLPOP_CO': 105.0, 'MAG_30_MONTM_5_FLPOP_CO': 182.0, 'MAG_30_MONTM_6_FLPOP_CO': 126.0, 'MAG_30_TUETM_1_FLPOP_CO': 190.0, 'MAG_30_TUETM_2_FLPOP_CO': 136.0, 'MAG_30_TUETM_3_FLPOP_CO': 94.0, 'MAG_30_TUETM_4_FLPOP_CO': 122.0, 'MAG_30_TUETM_5_FLPOP_CO': 180.0, 'MAG_30_TUETM_6_FLPOP_CO': 133.0, 'MAG_30_WEDTM_1_FLPOP_CO': 206.0, 'MAG_30_WEDTM_2_FLPOP_CO': 171.0, 'MAG_30_WEDTM_3_FLPOP_CO': 94.0, 'MAG_30_WEDTM_4_FLPOP_CO': 101.0, 'MAG_30_WEDTM_5_FLPOP_CO': 197.0, 'MAG_30_WEDTM_6_FLPOP_CO': 127.0, 'MAG_30_THUTM_1_FLPOP_CO': 149.0, 'MAG_30_THUTM_2_FLPOP_CO': 134.0, 'MAG_30_THUTM_3_FLPOP_CO': 125.0, 'MAG_30_THUTM_4_FLPOP_CO': 132.0, 'MAG_30_THUTM_5_FLPOP_CO': 182.0, 'MAG_30_THUTM_6_FLPOP_CO': 134.0, 'MAG_30_FRITM_1_FLPOP_CO': 168.0, 'MAG_30_FRITM_2_FLPOP_CO': 138.0, 'MAG_30_FRITM_3_FLPOP_CO': 106.0, 'MAG_30_FRITM_4_FLPOP_CO': 138.0, 'MAG_30_FRITM_5_FLPOP_CO': 183.0, 'MAG_30_FRITM_6_FLPOP_CO': 133.0, 'MAG_30_SATTM_1_FLPOP_CO': 228.0, 'MAG_30_SATTM_2_FLPOP_CO': 232.0, 'MAG_30_SATTM_3_FLPOP_CO': 143.0, 'MAG_30_SATTM_4_FLPOP_CO': 141.0, 'MAG_30_SATTM_5_FLPOP_CO': 213.0, 'MAG_30_SATTM_6_FLPOP_CO': 142.0, 'MAG_30_SUNTM_1_FLPOP_CO': 254.0, 'MAG_30_SUNTM_2_FLPOP_CO': 231.0, 'MAG_30_SUNTM_3_FLPOP_CO': 162.0, 'MAG_30_SUNTM_4_FLPOP_CO': 167.0, 'MAG_30_SUNTM_5_FLPOP_CO': 206.0, 'MAG_30_SUNTM_6_FLPOP_CO': 128.0, 'MAG_40_MONTM_1_FLPOP_CO': 86.0, 'MAG_40_MONTM_2_FLPOP_CO': 79.0, 'MAG_40_MONTM_3_FLPOP_CO': 91.0, 'MAG_40_MONTM_4_FLPOP_CO': 50.0, 'MAG_40_MONTM_5_FLPOP_CO': 164.0, 'MAG_40_MONTM_6_FLPOP_CO': 105.0, 'MAG_40_TUETM_1_FLPOP_CO': 113.0, 'MAG_40_TUETM_2_FLPOP_CO': 141.0, 'MAG_40_TUETM_3_FLPOP_CO': 99.0, 'MAG_40_TUETM_4_FLPOP_CO': 111.0, 'MAG_40_TUETM_5_FLPOP_CO': 165.0, 'MAG_40_TUETM_6_FLPOP_CO': 119.0, 'MAG_40_WEDTM_1_FLPOP_CO': 100.0, 'MAG_40_WEDTM_2_FLPOP_CO': 94.0, 'MAG_40_WEDTM_3_FLPOP_CO': 72.0, 'MAG_40_WEDTM_4_FLPOP_CO': 72.0, 'MAG_40_WEDTM_5_FLPOP_CO': 164.0, 'MAG_40_WEDTM_6_FLPOP_CO': 111.0, 'MAG_40_THUTM_1_FLPOP_CO': 77.0, 'MAG_40_THUTM_2_FLPOP_CO': 75.0, 'MAG_40_THUTM_3_FLPOP_CO': 112.0, 'MAG_40_THUTM_4_FLPOP_CO': 124.0, 'MAG_40_THUTM_5_FLPOP_CO': 142.0, 'MAG_40_THUTM_6_FLPOP_CO': 86.0, 'MAG_40_FRITM_1_FLPOP_CO': 102.0, 'MAG_40_FRITM_2_FLPOP_CO': 63.0, 'MAG_40_FRITM_3_FLPOP_CO': 86.0, 'MAG_40_FRITM_4_FLPOP_CO': 84.0, 'MAG_40_FRITM_5_FLPOP_CO': 164.0, 'MAG_40_FRITM_6_FLPOP_CO': 99.0, 'MAG_40_SATTM_1_FLPOP_CO': 104.0, 'MAG_40_SATTM_2_FLPOP_CO': 108.0, 'MAG_40_SATTM_3_FLPOP_CO': 111.0, 'MAG_40_SATTM_4_FLPOP_CO': 134.0, 'MAG_40_SATTM_5_FLPOP_CO': 182.0, 'MAG_40_SATTM_6_FLPOP_CO': 129.0, 'MAG_40_SUNTM_1_FLPOP_CO': 127.0, 'MAG_40_SUNTM_2_FLPOP_CO': 128.0, 'MAG_40_SUNTM_3_FLPOP_CO': 139.0, 'MAG_40_SUNTM_4_FLPOP_CO': 152.0, 'MAG_40_SUNTM_5_FLPOP_CO': 187.0, 'MAG_40_SUNTM_6_FLPOP_CO': 87.0, 'MAG_50_MONTM_1_FLPOP_CO': 100.0, 'MAG_50_MONTM_2_FLPOP_CO': 160.0, 'MAG_50_MONTM_3_FLPOP_CO': 146.0, 'MAG_50_MONTM_4_FLPOP_CO': 136.0, 'MAG_50_MONTM_5_FLPOP_CO': 201.0, 'MAG_50_MONTM_6_FLPOP_CO': 130.0, 'MAG_50_TUETM_1_FLPOP_CO': 83.0, 'MAG_50_TUETM_2_FLPOP_CO': 171.0, 'MAG_50_TUETM_3_FLPOP_CO': 149.0, 'MAG_50_TUETM_4_FLPOP_CO': 148.0, 'MAG_50_TUETM_5_FLPOP_CO': 217.0, 'MAG_50_TUETM_6_FLPOP_CO': 135.0, 'MAG_50_WEDTM_1_FLPOP_CO': 84.0, 'MAG_50_WEDTM_2_FLPOP_CO': 127.0, 'MAG_50_WEDTM_3_FLPOP_CO': 135.0, 'MAG_50_WEDTM_4_FLPOP_CO': 137.0, 'MAG_50_WEDTM_5_FLPOP_CO': 207.0, 'MAG_50_WEDTM_6_FLPOP_CO': 123.0, 'MAG_50_THUTM_1_FLPOP_CO': 82.0, 'MAG_50_THUTM_2_FLPOP_CO': 137.0, 'MAG_50_THUTM_3_FLPOP_CO': 149.0, 'MAG_50_THUTM_4_FLPOP_CO': 159.0, 'MAG_50_THUTM_5_FLPOP_CO': 198.0, 'MAG_50_THUTM_6_FLPOP_CO': 142.0, 'MAG_50_FRITM_1_FLPOP_CO': 74.0, 'MAG_50_FRITM_2_FLPOP_CO': 115.0, 'MAG_50_FRITM_3_FLPOP_CO': 148.0, 'MAG_50_FRITM_4_FLPOP_CO': 140.0, 'MAG_50_FRITM_5_FLPOP_CO': 197.0, 'MAG_50_FRITM_6_FLPOP_CO': 162.0, 'MAG_50_SATTM_1_FLPOP_CO': 113.0, 'MAG_50_SATTM_2_FLPOP_CO': 135.0, 'MAG_50_SATTM_3_FLPOP_CO': 141.0, 'MAG_50_SATTM_4_FLPOP_CO': 131.0, 'MAG_50_SATTM_5_FLPOP_CO': 207.0, 'MAG_50_SATTM_6_FLPOP_CO': 158.0, 'MAG_50_SUNTM_1_FLPOP_CO': 152.0, 'MAG_50_SUNTM_2_FLPOP_CO': 188.0, 'MAG_50_SUNTM_3_FLPOP_CO': 154.0, 'MAG_50_SUNTM_4_FLPOP_CO': 155.0, 'MAG_50_SUNTM_5_FLPOP_CO': 210.0, 'MAG_50_SUNTM_6_FLPOP_CO': 124.0, 'MAG_60_ABOVE_MONTM_1_FLPOP_CO': 71.0, 'MAG_60_ABOVE_MONTM_2_FLPOP_CO': 85.0, 'MAG_60_ABOVE_MONTM_3_FLPOP_CO': 73.0, 'MAG_60_ABOVE_MONTM_4_FLPOP_CO': 79.0, 'MAG_60_ABOVE_MONTM_5_FLPOP_CO': 76.0, 'MAG_60_ABOVE_MONTM_6_FLPOP_CO': 46.0, 'MAG_60_ABOVE_TUETM_1_FLPOP_CO': 59.0, 'MAG_60_ABOVE_TUETM_2_FLPOP_CO': 75.0, 'MAG_60_ABOVE_TUETM_3_FLPOP_CO': 65.0, 'MAG_60_ABOVE_TUETM_4_FLPOP_CO': 74.0, 'MAG_60_ABOVE_TUETM_5_FLPOP_CO': 81.0, 'MAG_60_ABOVE_TUETM_6_FLPOP_CO': 44.0, 'MAG_60_ABOVE_WEDTM_1_FLPOP_CO': 83.0, 'MAG_60_ABOVE_WEDTM_2_FLPOP_CO': 83.0, 'MAG_60_ABOVE_WEDTM_3_FLPOP_CO': 95.0, 'MAG_60_ABOVE_WEDTM_4_FLPOP_CO': 117.0, 'MAG_60_ABOVE_WEDTM_5_FLPOP_CO': 103.0, 'MAG_60_ABOVE_WEDTM_6_FLPOP_CO': 48.0, 'MAG_60_ABOVE_THUTM_1_FLPOP_CO': 62.0, 'MAG_60_ABOVE_THUTM_2_FLPOP_CO': 63.0, 'MAG_60_ABOVE_THUTM_3_FLPOP_CO': 88.0, 'MAG_60_ABOVE_THUTM_4_FLPOP_CO': 110.0, 'MAG_60_ABOVE_THUTM_5_FLPOP_CO': 114.0, 'MAG_60_ABOVE_THUTM_6_FLPOP_CO': 43.0, 'MAG_60_ABOVE_FRITM_1_FLPOP_CO': 68.0, 'MAG_60_ABOVE_FRITM_2_FLPOP_CO': 58.0, 'MAG_60_ABOVE_FRITM_3_FLPOP_CO': 72.0, 'MAG_60_ABOVE_FRITM_4_FLPOP_CO': 112.0, 'MAG_60_ABOVE_FRITM_5_FLPOP_CO': 114.0, 'MAG_60_ABOVE_FRITM_6_FLPOP_CO': 50.0, 'MAG_60_ABOVE_SATTM_1_FLPOP_CO': 75.0, 'MAG_60_ABOVE_SATTM_2_FLPOP_CO': 88.0, 'MAG_60_ABOVE_SATTM_3_FLPOP_CO': 92.0, 'MAG_60_ABOVE_SATTM_4_FLPOP_CO': 59.0, 'MAG_60_ABOVE_SATTM_5_FLPOP_CO': 96.0, 'MAG_60_ABOVE_SATTM_6_FLPOP_CO': 53.0, 'MAG_60_ABOVE_SUNTM_1_FLPOP_CO': 103.0, 'MAG_60_ABOVE_SUNTM_2_FLPOP_CO': 94.0, 'MAG_60_ABOVE_SUNTM_3_FLPOP_CO': 68.0, 'MAG_60_ABOVE_SUNTM_4_FLPOP_CO': 104.0, 'MAG_60_ABOVE_SUNTM_5_FLPOP_CO': 113.0, 'MAG_60_ABOVE_SUNTM_6_FLPOP_CO': 48.0, 'FAG_10_MONTM_1_FLPOP_CO': 0.0, 'FAG_10_MONTM_2_FLPOP_CO': 1.0, 'FAG_10_MONTM_3_FLPOP_CO': 3.0, 'FAG_10_MONTM_4_FLPOP_CO': 42.0, 'FAG_10_MONTM_5_FLPOP_CO': 83.0, 'FAG_10_MONTM_6_FLPOP_CO': 0.0, 'FAG_10_TUETM_1_FLPOP_CO': 0.0, 'FAG_10_TUETM_2_FLPOP_CO': 0.0, 'FAG_10_TUETM_3_FLPOP_CO': 0.0, 'FAG_10_TUETM_4_FLPOP_CO': 34.0, 'FAG_10_TUETM_5_FLPOP_CO': 67.0, 'FAG_10_TUETM_6_FLPOP_CO': 15.0, 'FAG_10_WEDTM_1_FLPOP_CO': 0.0, 'FAG_10_WEDTM_2_FLPOP_CO': 1.0, 'FAG_10_WEDTM_3_FLPOP_CO': 9.0, 'FAG_10_WEDTM_4_FLPOP_CO': 53.0, 'FAG_10_WEDTM_5_FLPOP_CO': 90.0, 'FAG_10_WEDTM_6_FLPOP_CO': 11.0, 'FAG_10_THUTM_1_FLPOP_CO': 0.0, 'FAG_10_THUTM_2_FLPOP_CO': 2.0, 'FAG_10_THUTM_3_FLPOP_CO': 2.0, 'FAG_10_THUTM_4_FLPOP_CO': 64.0, 'FAG_10_THUTM_5_FLPOP_CO': 45.0, 'FAG_10_THUTM_6_FLPOP_CO': 18.0, 'FAG_10_FRITM_1_FLPOP_CO': 0.0, 'FAG_10_FRITM_2_FLPOP_CO': 2.0, 'FAG_10_FRITM_3_FLPOP_CO': 4.0, 'FAG_10_FRITM_4_FLPOP_CO': 86.0, 'FAG_10_FRITM_5_FLPOP_CO': 94.0, 'FAG_10_FRITM_6_FLPOP_CO': 24.0, 'FAG_10_SATTM_1_FLPOP_CO': 0.0, 'FAG_10_SATTM_2_FLPOP_CO': 1.0, 'FAG_10_SATTM_3_FLPOP_CO': 9.0, 'FAG_10_SATTM_4_FLPOP_CO': 18.0, 'FAG_10_SATTM_5_FLPOP_CO': 34.0, 'FAG_10_SATTM_6_FLPOP_CO': 8.0, 'FAG_10_SUNTM_1_FLPOP_CO': 0.0, 'FAG_10_SUNTM_2_FLPOP_CO': 2.0, 'FAG_10_SUNTM_3_FLPOP_CO': 28.0, 'FAG_10_SUNTM_4_FLPOP_CO': 38.0, 'FAG_10_SUNTM_5_FLPOP_CO': 53.0, 'FAG_10_SUNTM_6_FLPOP_CO': 11.0, 'FAG_20_MONTM_1_FLPOP_CO': 81.0, 'FAG_20_MONTM_2_FLPOP_CO': 53.0, 'FAG_20_MONTM_3_FLPOP_CO': 46.0, 'FAG_20_MONTM_4_FLPOP_CO': 33.0, 'FAG_20_MONTM_5_FLPOP_CO': 161.0, 'FAG_20_MONTM_6_FLPOP_CO': 138.0, 'FAG_20_TUETM_1_FLPOP_CO': 79.0, 'FAG_20_TUETM_2_FLPOP_CO': 66.0, 'FAG_20_TUETM_3_FLPOP_CO': 55.0, 'FAG_20_TUETM_4_FLPOP_CO': 45.0, 'FAG_20_TUETM_5_FLPOP_CO': 168.0, 'FAG_20_TUETM_6_FLPOP_CO': 127.0, 'FAG_20_WEDTM_1_FLPOP_CO': 76.0, 'FAG_20_WEDTM_2_FLPOP_CO': 83.0, 'FAG_20_WEDTM_3_FLPOP_CO': 43.0, 'FAG_20_WEDTM_4_FLPOP_CO': 74.0, 'FAG_20_WEDTM_5_FLPOP_CO': 173.0, 'FAG_20_WEDTM_6_FLPOP_CO': 130.0, 'FAG_20_THUTM_1_FLPOP_CO': 105.0, 'FAG_20_THUTM_2_FLPOP_CO': 82.0, 'FAG_20_THUTM_3_FLPOP_CO': 82.0, 'FAG_20_THUTM_4_FLPOP_CO': 85.0, 'FAG_20_THUTM_5_FLPOP_CO': 168.0, 'FAG_20_THUTM_6_FLPOP_CO': 127.0, 'FAG_20_FRITM_1_FLPOP_CO': 72.0, 'FAG_20_FRITM_2_FLPOP_CO': 55.0, 'FAG_20_FRITM_3_FLPOP_CO': 51.0, 'FAG_20_FRITM_4_FLPOP_CO': 101.0, 'FAG_20_FRITM_5_FLPOP_CO': 175.0, 'FAG_20_FRITM_6_FLPOP_CO': 138.0, 'FAG_20_SATTM_1_FLPOP_CO': 193.0, 'FAG_20_SATTM_2_FLPOP_CO': 201.0, 'FAG_20_SATTM_3_FLPOP_CO': 139.0, 'FAG_20_SATTM_4_FLPOP_CO': 134.0, 'FAG_20_SATTM_5_FLPOP_CO': 192.0, 'FAG_20_SATTM_6_FLPOP_CO': 150.0, 'FAG_20_SUNTM_1_FLPOP_CO': 231.0, 'FAG_20_SUNTM_2_FLPOP_CO': 209.0, 'FAG_20_SUNTM_3_FLPOP_CO': 162.0, 'FAG_20_SUNTM_4_FLPOP_CO': 144.0, 'FAG_20_SUNTM_5_FLPOP_CO': 195.0, 'FAG_20_SUNTM_6_FLPOP_CO': 139.0, 'FAG_30_MONTM_1_FLPOP_CO': 53.0, 'FAG_30_MONTM_2_FLPOP_CO': 110.0, 'FAG_30_MONTM_3_FLPOP_CO': 127.0, 'FAG_30_MONTM_4_FLPOP_CO': 129.0, 'FAG_30_MONTM_5_FLPOP_CO': 141.0, 'FAG_30_MONTM_6_FLPOP_CO': 58.0, 'FAG_30_TUETM_1_FLPOP_CO': 71.0, 'FAG_30_TUETM_2_FLPOP_CO': 71.0, 'FAG_30_TUETM_3_FLPOP_CO': 116.0, 'FAG_30_TUETM_4_FLPOP_CO': 131.0, 'FAG_30_TUETM_5_FLPOP_CO': 143.0, 'FAG_30_TUETM_6_FLPOP_CO': 60.0, 'FAG_30_WEDTM_1_FLPOP_CO': 78.0, 'FAG_30_WEDTM_2_FLPOP_CO': 102.0, 'FAG_30_WEDTM_3_FLPOP_CO': 121.0, 'FAG_30_WEDTM_4_FLPOP_CO': 131.0, 'FAG_30_WEDTM_5_FLPOP_CO': 164.0, 'FAG_30_WEDTM_6_FLPOP_CO': 63.0, 'FAG_30_THUTM_1_FLPOP_CO': 65.0, 'FAG_30_THUTM_2_FLPOP_CO': 102.0, 'FAG_30_THUTM_3_FLPOP_CO': 119.0, 'FAG_30_THUTM_4_FLPOP_CO': 129.0, 'FAG_30_THUTM_5_FLPOP_CO': 164.0, 'FAG_30_THUTM_6_FLPOP_CO': 92.0, 'FAG_30_FRITM_1_FLPOP_CO': 58.0, 'FAG_30_FRITM_2_FLPOP_CO': 64.0, 'FAG_30_FRITM_3_FLPOP_CO': 110.0, 'FAG_30_FRITM_4_FLPOP_CO': 124.0, 'FAG_30_FRITM_5_FLPOP_CO': 141.0, 'FAG_30_FRITM_6_FLPOP_CO': 89.0, 'FAG_30_SATTM_1_FLPOP_CO': 98.0, 'FAG_30_SATTM_2_FLPOP_CO': 106.0, 'FAG_30_SATTM_3_FLPOP_CO': 104.0, 'FAG_30_SATTM_4_FLPOP_CO': 119.0, 'FAG_30_SATTM_5_FLPOP_CO': 186.0, 'FAG_30_SATTM_6_FLPOP_CO': 117.0, 'FAG_30_SUNTM_1_FLPOP_CO': 107.0, 'FAG_30_SUNTM_2_FLPOP_CO': 143.0, 'FAG_30_SUNTM_3_FLPOP_CO': 159.0, 'FAG_30_SUNTM_4_FLPOP_CO': 139.0, 'FAG_30_SUNTM_5_FLPOP_CO': 170.0, 'FAG_30_SUNTM_6_FLPOP_CO': 66.0, 'FAG_40_MONTM_1_FLPOP_CO': 89.0, 'FAG_40_MONTM_2_FLPOP_CO': 123.0, 'FAG_40_MONTM_3_FLPOP_CO': 138.0, 'FAG_40_MONTM_4_FLPOP_CO': 135.0, 'FAG_40_MONTM_5_FLPOP_CO': 187.0, 'FAG_40_MONTM_6_FLPOP_CO': 122.0, 'FAG_40_TUETM_1_FLPOP_CO': 98.0, 'FAG_40_TUETM_2_FLPOP_CO': 112.0, 'FAG_40_TUETM_3_FLPOP_CO': 135.0, 'FAG_40_TUETM_4_FLPOP_CO': 135.0, 'FAG_40_TUETM_5_FLPOP_CO': 182.0, 'FAG_40_TUETM_6_FLPOP_CO': 108.0, 'FAG_40_WEDTM_1_FLPOP_CO': 97.0, 'FAG_40_WEDTM_2_FLPOP_CO': 161.0, 'FAG_40_WEDTM_3_FLPOP_CO': 139.0, 'FAG_40_WEDTM_4_FLPOP_CO': 142.0, 'FAG_40_WEDTM_5_FLPOP_CO': 204.0, 'FAG_40_WEDTM_6_FLPOP_CO': 124.0, 'FAG_40_THUTM_1_FLPOP_CO': 78.0, 'FAG_40_THUTM_2_FLPOP_CO': 133.0, 'FAG_40_THUTM_3_FLPOP_CO': 143.0, 'FAG_40_THUTM_4_FLPOP_CO': 145.0, 'FAG_40_THUTM_5_FLPOP_CO': 189.0, 'FAG_40_THUTM_6_FLPOP_CO': 125.0, 'FAG_40_FRITM_1_FLPOP_CO': 96.0, 'FAG_40_FRITM_2_FLPOP_CO': 117.0, 'FAG_40_FRITM_3_FLPOP_CO': 130.0, 'FAG_40_FRITM_4_FLPOP_CO': 136.0, 'FAG_40_FRITM_5_FLPOP_CO': 193.0, 'FAG_40_FRITM_6_FLPOP_CO': 131.0, 'FAG_40_SATTM_1_FLPOP_CO': 118.0, 'FAG_40_SATTM_2_FLPOP_CO': 108.0, 'FAG_40_SATTM_3_FLPOP_CO': 129.0, 'FAG_40_SATTM_4_FLPOP_CO': 139.0, 'FAG_40_SATTM_5_FLPOP_CO': 182.0, 'FAG_40_SATTM_6_FLPOP_CO': 137.0, 'FAG_40_SUNTM_1_FLPOP_CO': 103.0, 'FAG_40_SUNTM_2_FLPOP_CO': 141.0, 'FAG_40_SUNTM_3_FLPOP_CO': 147.0, 'FAG_40_SUNTM_4_FLPOP_CO': 150.0, 'FAG_40_SUNTM_5_FLPOP_CO': 196.0, 'FAG_40_SUNTM_6_FLPOP_CO': 95.0, 'FAG_50_MONTM_1_FLPOP_CO': 154.0, 'FAG_50_MONTM_2_FLPOP_CO': 218.0, 'FAG_50_MONTM_3_FLPOP_CO': 143.0, 'FAG_50_MONTM_4_FLPOP_CO': 157.0, 'FAG_50_MONTM_5_FLPOP_CO': 223.0, 'FAG_50_MONTM_6_FLPOP_CO': 142.0, 'FAG_50_TUETM_1_FLPOP_CO': 112.0, 'FAG_50_TUETM_2_FLPOP_CO': 173.0, 'FAG_50_TUETM_3_FLPOP_CO': 148.0, 'FAG_50_TUETM_4_FLPOP_CO': 168.0, 'FAG_50_TUETM_5_FLPOP_CO': 246.0, 'FAG_50_TUETM_6_FLPOP_CO': 136.0, 'FAG_50_WEDTM_1_FLPOP_CO': 135.0, 'FAG_50_WEDTM_2_FLPOP_CO': 201.0, 'FAG_50_WEDTM_3_FLPOP_CO': 162.0, 'FAG_50_WEDTM_4_FLPOP_CO': 181.0, 'FAG_50_WEDTM_5_FLPOP_CO': 261.0, 'FAG_50_WEDTM_6_FLPOP_CO': 152.0, 'FAG_50_THUTM_1_FLPOP_CO': 172.0, 'FAG_50_THUTM_2_FLPOP_CO': 185.0, 'FAG_50_THUTM_3_FLPOP_CO': 147.0, 'FAG_50_THUTM_4_FLPOP_CO': 188.0, 'FAG_50_THUTM_5_FLPOP_CO': 248.0, 'FAG_50_THUTM_6_FLPOP_CO': 133.0, 'FAG_50_FRITM_1_FLPOP_CO': 143.0, 'FAG_50_FRITM_2_FLPOP_CO': 166.0, 'FAG_50_FRITM_3_FLPOP_CO': 144.0, 'FAG_50_FRITM_4_FLPOP_CO': 171.0, 'FAG_50_FRITM_5_FLPOP_CO': 256.0, 'FAG_50_FRITM_6_FLPOP_CO': 141.0, 'FAG_50_SATTM_1_FLPOP_CO': 165.0, 'FAG_50_SATTM_2_FLPOP_CO': 211.0, 'FAG_50_SATTM_3_FLPOP_CO': 150.0, 'FAG_50_SATTM_4_FLPOP_CO': 158.0, 'FAG_50_SATTM_5_FLPOP_CO': 225.0, 'FAG_50_SATTM_6_FLPOP_CO': 158.0, 'FAG_50_SUNTM_1_FLPOP_CO': 187.0, 'FAG_50_SUNTM_2_FLPOP_CO': 231.0, 'FAG_50_SUNTM_3_FLPOP_CO': 184.0, 'FAG_50_SUNTM_4_FLPOP_CO': 175.0, 'FAG_50_SUNTM_5_FLPOP_CO': 219.0, 'FAG_50_SUNTM_6_FLPOP_CO': 133.0, 'FAG_60_ABOVE_MONTM_1_FLPOP_CO': 31.0, 'FAG_60_ABOVE_MONTM_2_FLPOP_CO': 103.0, 'FAG_60_ABOVE_MONTM_3_FLPOP_CO': 132.0, 'FAG_60_ABOVE_MONTM_4_FLPOP_CO': 131.0, 'FAG_60_ABOVE_MONTM_5_FLPOP_CO': 126.0, 'FAG_60_ABOVE_MONTM_6_FLPOP_CO': 43.0, 'FAG_60_ABOVE_TUETM_1_FLPOP_CO': 26.0, 'FAG_60_ABOVE_TUETM_2_FLPOP_CO': 68.0, 'FAG_60_ABOVE_TUETM_3_FLPOP_CO': 114.0, 'FAG_60_ABOVE_TUETM_4_FLPOP_CO': 132.0, 'FAG_60_ABOVE_TUETM_5_FLPOP_CO': 134.0, 'FAG_60_ABOVE_TUETM_6_FLPOP_CO': 39.0, 'FAG_60_ABOVE_WEDTM_1_FLPOP_CO': 38.0, 'FAG_60_ABOVE_WEDTM_2_FLPOP_CO': 99.0, 'FAG_60_ABOVE_WEDTM_3_FLPOP_CO': 108.0, 'FAG_60_ABOVE_WEDTM_4_FLPOP_CO': 113.0, 'FAG_60_ABOVE_WEDTM_5_FLPOP_CO': 115.0, 'FAG_60_ABOVE_WEDTM_6_FLPOP_CO': 47.0, 'FAG_60_ABOVE_THUTM_1_FLPOP_CO': 31.0, 'FAG_60_ABOVE_THUTM_2_FLPOP_CO': 90.0, 'FAG_60_ABOVE_THUTM_3_FLPOP_CO': 126.0, 'FAG_60_ABOVE_THUTM_4_FLPOP_CO': 137.0, 'FAG_60_ABOVE_THUTM_5_FLPOP_CO': 144.0, 'FAG_60_ABOVE_THUTM_6_FLPOP_CO': 23.0, 'FAG_60_ABOVE_FRITM_1_FLPOP_CO': 23.0, 'FAG_60_ABOVE_FRITM_2_FLPOP_CO': 93.0, 'FAG_60_ABOVE_FRITM_3_FLPOP_CO': 129.0, 'FAG_60_ABOVE_FRITM_4_FLPOP_CO': 133.0, 'FAG_60_ABOVE_FRITM_5_FLPOP_CO': 145.0, 'FAG_60_ABOVE_FRITM_6_FLPOP_CO': 46.0, 'FAG_60_ABOVE_SATTM_1_FLPOP_CO': 30.0, 'FAG_60_ABOVE_SATTM_2_FLPOP_CO': 98.0, 'FAG_60_ABOVE_SATTM_3_FLPOP_CO': 117.0, 'FAG_60_ABOVE_SATTM_4_FLPOP_CO': 112.0, 'FAG_60_ABOVE_SATTM_5_FLPOP_CO': 142.0, 'FAG_60_ABOVE_SATTM_6_FLPOP_CO': 23.0, 'FAG_60_ABOVE_SUNTM_1_FLPOP_CO': 28.0, 'FAG_60_ABOVE_SUNTM_2_FLPOP_CO': 62.0, 'FAG_60_ABOVE_SUNTM_3_FLPOP_CO': 132.0, 'FAG_60_ABOVE_SUNTM_4_FLPOP_CO': 118.0, 'FAG_60_ABOVE_SUNTM_5_FLPOP_CO': 105.0, 'FAG_60_ABOVE_SUNTM_6_FLPOP_CO': 27.0}, {'STDR_YY_CD': '2017', 'STDR_QU_CD': '2', 'TRDAR_SE_CD': 'R', 'TRDAR_SE_CD_NM': '전통시장', 'TRDAR_CD': '1001297', 'TRDAR_CD_NM': '뚝도시장', 'TOT_FLPOP_CO': 36458.0, 'ML_FLPOP_CO': 21109.0, 'FML_FLPOP_CO': 15350.0, 'AGRDE_10_FLPOP_CO': 1559.0, 'AGRDE_20_FLPOP_CO': 8289.0, 'AGRDE_30_FLPOP_CO': 7876.0, 'AGRDE_40_FLPOP_CO': 6993.0, 'AGRDE_50_FLPOP_CO': 7444.0, 'AGRDE_60_ABOVE_FLPOP_CO': 4298.0, 'TMZON_1_FLPOP_CO': 4700.0, 'TMZON_2_FLPOP_CO': 6273.0, 'TMZON_3_FLPOP_CO': 6497.0, 'TMZON_4_FLPOP_CO': 5847.0, 'TMZON_5_FLPOP_CO': 8507.0, 'TMZON_6_FLPOP_CO': 4631.0, 'MON_FLPOP_CO': 5257.0, 'TUES_FLPOP_CO': 5338.0, 'WED_FLPOP_CO': 5370.0, 'THUR_FLPOP_CO': 5367.0, 'FRI_FLPOP_CO': 5433.0, 'SAT_FLPOP_CO': 4891.0, 'SUN_FLPOP_CO': 4804.0, 'MAG_10_MONTM_1_FLPOP_CO': 0.0, 'MAG_10_MONTM_2_FLPOP_CO': 48.0, 'MAG_10_MONTM_3_FLPOP_CO': 43.0, 'MAG_10_MONTM_4_FLPOP_CO': 60.0, 'MAG_10_MONTM_5_FLPOP_CO': 43.0, 'MAG_10_MONTM_6_FLPOP_CO': 16.0, 'MAG_10_TUETM_1_FLPOP_CO': 0.0, 'MAG_10_TUETM_2_FLPOP_CO': 37.0, 'MAG_10_TUETM_3_FLPOP_CO': 40.0, 'MAG_10_TUETM_4_FLPOP_CO': 58.0, 'MAG_10_TUETM_5_FLPOP_CO': 44.0, 'MAG_10_TUETM_6_FLPOP_CO': 16.0, 'MAG_10_WEDTM_1_FLPOP_CO': 0.0, 'MAG_10_WEDTM_2_FLPOP_CO': 49.0, 'MAG_10_WEDTM_3_FLPOP_CO': 44.0, 'MAG_10_WEDTM_4_FLPOP_CO': 58.0, 'MAG_10_WEDTM_5_FLPOP_CO': 44.0, 'MAG_10_WEDTM_6_FLPOP_CO': 11.0, 'MAG_10_THUTM_1_FLPOP_CO': 0.0, 'MAG_10_THUTM_2_FLPOP_CO': 40.0, 'MAG_10_THUTM_3_FLPOP_CO': 42.0, 'MAG_10_THUTM_4_FLPOP_CO': 44.0, 'MAG_10_THUTM_5_FLPOP_CO': 48.0, 'MAG_10_THUTM_6_FLPOP_CO': 18.0, 'MAG_10_FRITM_1_FLPOP_CO': 0.0, 'MAG_10_FRITM_2_FLPOP_CO': 36.0, 'MAG_10_FRITM_3_FLPOP_CO': 43.0, 'MAG_10_FRITM_4_FLPOP_CO': 52.0, 'MAG_10_FRITM_5_FLPOP_CO': 43.0, 'MAG_10_FRITM_6_FLPOP_CO': 19.0, 'MAG_10_SATTM_1_FLPOP_CO': 14.0, 'MAG_10_SATTM_2_FLPOP_CO': 1.0, 'MAG_10_SATTM_3_FLPOP_CO': 26.0, 'MAG_10_SATTM_4_FLPOP_CO': 30.0, 'MAG_10_SATTM_5_FLPOP_CO': 41.0, 'MAG_10_SATTM_6_FLPOP_CO': 22.0, 'MAG_10_SUNTM_1_FLPOP_CO': 25.0, 'MAG_10_SUNTM_2_FLPOP_CO': 9.0, 'MAG_10_SUNTM_3_FLPOP_CO': 29.0, 'MAG_10_SUNTM_4_FLPOP_CO': 32.0, 'MAG_10_SUNTM_5_FLPOP_CO': 41.0, 'MAG_10_SUNTM_6_FLPOP_CO': 13.0, 'MAG_20_MONTM_1_FLPOP_CO': 77.0, 'MAG_20_MONTM_2_FLPOP_CO': 99.0, 'MAG_20_MONTM_3_FLPOP_CO': 98.0, 'MAG_20_MONTM_4_FLPOP_CO': 82.0, 'MAG_20_MONTM_5_FLPOP_CO': 134.0, 'MAG_20_MONTM_6_FLPOP_CO': 92.0, 'MAG_20_TUETM_1_FLPOP_CO': 108.0, 'MAG_20_TUETM_2_FLPOP_CO': 98.0, 'MAG_20_TUETM_3_FLPOP_CO': 96.0, 'MAG_20_TUETM_4_FLPOP_CO': 81.0, 'MAG_20_TUETM_5_FLPOP_CO': 128.0, 'MAG_20_TUETM_6_FLPOP_CO': 93.0, 'MAG_20_WEDTM_1_FLPOP_CO': 101.0, 'MAG_20_WEDTM_2_FLPOP_CO': 103.0, 'MAG_20_WEDTM_3_FLPOP_CO': 97.0, 'MAG_20_WEDTM_4_FLPOP_CO': 77.0, 'MAG_20_WEDTM_5_FLPOP_CO': 126.0, 'MAG_20_WEDTM_6_FLPOP_CO': 94.0, 'MAG_20_THUTM_1_FLPOP_CO': 89.0, 'MAG_20_THUTM_2_FLPOP_CO': 99.0, 'MAG_20_THUTM_3_FLPOP_CO': 103.0, 'MAG_20_THUTM_4_FLPOP_CO': 78.0, 'MAG_20_THUTM_5_FLPOP_CO': 133.0, 'MAG_20_THUTM_6_FLPOP_CO': 87.0, 'MAG_20_FRITM_1_FLPOP_CO': 99.0, 'MAG_20_FRITM_2_FLPOP_CO': 96.0, 'MAG_20_FRITM_3_FLPOP_CO': 99.0, 'MAG_20_FRITM_4_FLPOP_CO': 84.0, 'MAG_20_FRITM_5_FLPOP_CO': 144.0, 'MAG_20_FRITM_6_FLPOP_CO': 111.0, 'MAG_20_SATTM_1_FLPOP_CO': 127.0, 'MAG_20_SATTM_2_FLPOP_CO': 102.0, 'MAG_20_SATTM_3_FLPOP_CO': 73.0, 'MAG_20_SATTM_4_FLPOP_CO': 87.0, 'MAG_20_SATTM_5_FLPOP_CO': 143.0, 'MAG_20_SATTM_6_FLPOP_CO': 99.0, 'MAG_20_SUNTM_1_FLPOP_CO': 132.0, 'MAG_20_SUNTM_2_FLPOP_CO': 100.0, 'MAG_20_SUNTM_3_FLPOP_CO': 90.0, 'MAG_20_SUNTM_4_FLPOP_CO': 107.0, 'MAG_20_SUNTM_5_FLPOP_CO': 135.0, 'MAG_20_SUNTM_6_FLPOP_CO': 84.0, 'MAG_30_MONTM_1_FLPOP_CO': 85.0, 'MAG_30_MONTM_2_FLPOP_CO': 113.0, 'MAG_30_MONTM_3_FLPOP_CO': 128.0, 'MAG_30_MONTM_4_FLPOP_CO': 85.0, 'MAG_30_MONTM_5_FLPOP_CO': 162.0, 'MAG_30_MONTM_6_FLPOP_CO': 92.0, 'MAG_30_TUETM_1_FLPOP_CO': 95.0, 'MAG_30_TUETM_2_FLPOP_CO': 108.0, 'MAG_30_TUETM_3_FLPOP_CO': 134.0, 'MAG_30_TUETM_4_FLPOP_CO': 94.0, 'MAG_30_TUETM_5_FLPOP_CO': 154.0, 'MAG_30_TUETM_6_FLPOP_CO': 91.0, 'MAG_30_WEDTM_1_FLPOP_CO': 79.0, 'MAG_30_WEDTM_2_FLPOP_CO': 109.0, 'MAG_30_WEDTM_3_FLPOP_CO': 133.0, 'MAG_30_WEDTM_4_FLPOP_CO': 93.0, 'MAG_30_WEDTM_5_FLPOP_CO': 165.0, 'MAG_30_WEDTM_6_FLPOP_CO': 98.0, 'MAG_30_THUTM_1_FLPOP_CO': 83.0, 'MAG_30_THUTM_2_FLPOP_CO': 105.0, 'MAG_30_THUTM_3_FLPOP_CO': 137.0, 'MAG_30_THUTM_4_FLPOP_CO': 94.0, 'MAG_30_THUTM_5_FLPOP_CO': 158.0, 'MAG_30_THUTM_6_FLPOP_CO': 92.0, 'MAG_30_FRITM_1_FLPOP_CO': 93.0, 'MAG_30_FRITM_2_FLPOP_CO': 100.0, 'MAG_30_FRITM_3_FLPOP_CO': 137.0, 'MAG_30_FRITM_4_FLPOP_CO': 93.0, 'MAG_30_FRITM_5_FLPOP_CO': 156.0, 'MAG_30_FRITM_6_FLPOP_CO': 106.0, 'MAG_30_SATTM_1_FLPOP_CO': 102.0, 'MAG_30_SATTM_2_FLPOP_CO': 91.0, 'MAG_30_SATTM_3_FLPOP_CO': 76.0, 'MAG_30_SATTM_4_FLPOP_CO': 77.0, 'MAG_30_SATTM_5_FLPOP_CO': 121.0, 'MAG_30_SATTM_6_FLPOP_CO': 83.0, 'MAG_30_SUNTM_1_FLPOP_CO': 98.0, 'MAG_30_SUNTM_2_FLPOP_CO': 91.0, 'MAG_30_SUNTM_3_FLPOP_CO': 73.0, 'MAG_30_SUNTM_4_FLPOP_CO': 76.0, 'MAG_30_SUNTM_5_FLPOP_CO': 109.0, 'MAG_30_SUNTM_6_FLPOP_CO': 70.0, 'MAG_40_MONTM_1_FLPOP_CO': 77.0, 'MAG_40_MONTM_2_FLPOP_CO': 105.0, 'MAG_40_MONTM_3_FLPOP_CO': 123.0, 'MAG_40_MONTM_4_FLPOP_CO': 89.0, 'MAG_40_MONTM_5_FLPOP_CO': 160.0, 'MAG_40_MONTM_6_FLPOP_CO': 79.0, 'MAG_40_TUETM_1_FLPOP_CO': 85.0, 'MAG_40_TUETM_2_FLPOP_CO': 108.0, 'MAG_40_TUETM_3_FLPOP_CO': 128.0, 'MAG_40_TUETM_4_FLPOP_CO': 96.0, 'MAG_40_TUETM_5_FLPOP_CO': 149.0, 'MAG_40_TUETM_6_FLPOP_CO': 78.0, 'MAG_40_WEDTM_1_FLPOP_CO': 90.0, 'MAG_40_WEDTM_2_FLPOP_CO': 110.0, 'MAG_40_WEDTM_3_FLPOP_CO': 131.0, 'MAG_40_WEDTM_4_FLPOP_CO': 94.0, 'MAG_40_WEDTM_5_FLPOP_CO': 151.0, 'MAG_40_WEDTM_6_FLPOP_CO': 86.0, 'MAG_40_THUTM_1_FLPOP_CO': 77.0, 'MAG_40_THUTM_2_FLPOP_CO': 106.0, 'MAG_40_THUTM_3_FLPOP_CO': 133.0, 'MAG_40_THUTM_4_FLPOP_CO': 89.0, 'MAG_40_THUTM_5_FLPOP_CO': 146.0, 'MAG_40_THUTM_6_FLPOP_CO': 84.0, 'MAG_40_FRITM_1_FLPOP_CO': 73.0, 'MAG_40_FRITM_2_FLPOP_CO': 97.0, 'MAG_40_FRITM_3_FLPOP_CO': 127.0, 'MAG_40_FRITM_4_FLPOP_CO': 90.0, 'MAG_40_FRITM_5_FLPOP_CO': 159.0, 'MAG_40_FRITM_6_FLPOP_CO': 93.0, 'MAG_40_SATTM_1_FLPOP_CO': 91.0, 'MAG_40_SATTM_2_FLPOP_CO': 94.0, 'MAG_40_SATTM_3_FLPOP_CO': 73.0, 'MAG_40_SATTM_4_FLPOP_CO': 73.0, 'MAG_40_SATTM_5_FLPOP_CO': 120.0, 'MAG_40_SATTM_6_FLPOP_CO': 77.0, 'MAG_40_SUNTM_1_FLPOP_CO': 98.0, 'MAG_40_SUNTM_2_FLPOP_CO': 96.0, 'MAG_40_SUNTM_3_FLPOP_CO': 70.0, 'MAG_40_SUNTM_4_FLPOP_CO': 72.0, 'MAG_40_SUNTM_5_FLPOP_CO': 110.0, 'MAG_40_SUNTM_6_FLPOP_CO': 60.0, 'MAG_50_MONTM_1_FLPOP_CO': 82.0, 'MAG_50_MONTM_2_FLPOP_CO': 113.0, 'MAG_50_MONTM_3_FLPOP_CO': 108.0, 'MAG_50_MONTM_4_FLPOP_CO': 94.0, 'MAG_50_MONTM_5_FLPOP_CO': 163.0, 'MAG_50_MONTM_6_FLPOP_CO': 76.0, 'MAG_50_TUETM_1_FLPOP_CO': 86.0, 'MAG_50_TUETM_2_FLPOP_CO': 112.0, 'MAG_50_TUETM_3_FLPOP_CO': 105.0, 'MAG_50_TUETM_4_FLPOP_CO': 101.0, 'MAG_50_TUETM_5_FLPOP_CO': 165.0, 'MAG_50_TUETM_6_FLPOP_CO': 78.0, 'MAG_50_WEDTM_1_FLPOP_CO': 93.0, 'MAG_50_WEDTM_2_FLPOP_CO': 114.0, 'MAG_50_WEDTM_3_FLPOP_CO': 106.0, 'MAG_50_WEDTM_4_FLPOP_CO': 95.0, 'MAG_50_WEDTM_5_FLPOP_CO': 170.0, 'MAG_50_WEDTM_6_FLPOP_CO': 81.0, 'MAG_50_THUTM_1_FLPOP_CO': 96.0, 'MAG_50_THUTM_2_FLPOP_CO': 117.0, 'MAG_50_THUTM_3_FLPOP_CO': 108.0, 'MAG_50_THUTM_4_FLPOP_CO': 96.0, 'MAG_50_THUTM_5_FLPOP_CO': 175.0, 'MAG_50_THUTM_6_FLPOP_CO': 81.0, 'MAG_50_FRITM_1_FLPOP_CO': 99.0, 'MAG_50_FRITM_2_FLPOP_CO': 108.0, 'MAG_50_FRITM_3_FLPOP_CO': 116.0, 'MAG_50_FRITM_4_FLPOP_CO': 99.0, 'MAG_50_FRITM_5_FLPOP_CO': 174.0, 'MAG_50_FRITM_6_FLPOP_CO': 98.0, 'MAG_50_SATTM_1_FLPOP_CO': 104.0, 'MAG_50_SATTM_2_FLPOP_CO': 105.0, 'MAG_50_SATTM_3_FLPOP_CO': 77.0, 'MAG_50_SATTM_4_FLPOP_CO': 78.0, 'MAG_50_SATTM_5_FLPOP_CO': 152.0, 'MAG_50_SATTM_6_FLPOP_CO': 77.0, 'MAG_50_SUNTM_1_FLPOP_CO': 110.0, 'MAG_50_SUNTM_2_FLPOP_CO': 104.0, 'MAG_50_SUNTM_3_FLPOP_CO': 78.0, 'MAG_50_SUNTM_4_FLPOP_CO': 76.0, 'MAG_50_SUNTM_5_FLPOP_CO': 133.0, 'MAG_50_SUNTM_6_FLPOP_CO': 64.0, 'MAG_60_ABOVE_MONTM_1_FLPOP_CO': 19.0, 'MAG_60_ABOVE_MONTM_2_FLPOP_CO': 77.0, 'MAG_60_ABOVE_MONTM_3_FLPOP_CO': 69.0, 'MAG_60_ABOVE_MONTM_4_FLPOP_CO': 68.0, 'MAG_60_ABOVE_MONTM_5_FLPOP_CO': 91.0, 'MAG_60_ABOVE_MONTM_6_FLPOP_CO': 25.0, 'MAG_60_ABOVE_TUETM_1_FLPOP_CO': 16.0, 'MAG_60_ABOVE_TUETM_2_FLPOP_CO': 72.0, 'MAG_60_ABOVE_TUETM_3_FLPOP_CO': 72.0, 'MAG_60_ABOVE_TUETM_4_FLPOP_CO': 69.0, 'MAG_60_ABOVE_TUETM_5_FLPOP_CO': 87.0, 'MAG_60_ABOVE_TUETM_6_FLPOP_CO': 37.0, 'MAG_60_ABOVE_WEDTM_1_FLPOP_CO': 22.0, 'MAG_60_ABOVE_WEDTM_2_FLPOP_CO': 73.0, 'MAG_60_ABOVE_WEDTM_3_FLPOP_CO': 70.0, 'MAG_60_ABOVE_WEDTM_4_FLPOP_CO': 67.0, 'MAG_60_ABOVE_WEDTM_5_FLPOP_CO': 88.0, 'MAG_60_ABOVE_WEDTM_6_FLPOP_CO': 37.0, 'MAG_60_ABOVE_THUTM_1_FLPOP_CO': 25.0, 'MAG_60_ABOVE_THUTM_2_FLPOP_CO': 70.0, 'MAG_60_ABOVE_THUTM_3_FLPOP_CO': 69.0, 'MAG_60_ABOVE_THUTM_4_FLPOP_CO': 67.0, 'MAG_60_ABOVE_THUTM_5_FLPOP_CO': 89.0, 'MAG_60_ABOVE_THUTM_6_FLPOP_CO': 31.0, 'MAG_60_ABOVE_FRITM_1_FLPOP_CO': 16.0, 'MAG_60_ABOVE_FRITM_2_FLPOP_CO': 75.0, 'MAG_60_ABOVE_FRITM_3_FLPOP_CO': 69.0, 'MAG_60_ABOVE_FRITM_4_FLPOP_CO': 65.0, 'MAG_60_ABOVE_FRITM_5_FLPOP_CO': 89.0, 'MAG_60_ABOVE_FRITM_6_FLPOP_CO': 35.0, 'MAG_60_ABOVE_SATTM_1_FLPOP_CO': 23.0, 'MAG_60_ABOVE_SATTM_2_FLPOP_CO': 67.0, 'MAG_60_ABOVE_SATTM_3_FLPOP_CO': 63.0, 'MAG_60_ABOVE_SATTM_4_FLPOP_CO': 62.0, 'MAG_60_ABOVE_SATTM_5_FLPOP_CO': 88.0, 'MAG_60_ABOVE_SATTM_6_FLPOP_CO': 38.0, 'MAG_60_ABOVE_SUNTM_1_FLPOP_CO': 25.0, 'MAG_60_ABOVE_SUNTM_2_FLPOP_CO': 58.0, 'MAG_60_ABOVE_SUNTM_3_FLPOP_CO': 53.0, 'MAG_60_ABOVE_SUNTM_4_FLPOP_CO': 62.0, 'MAG_60_ABOVE_SUNTM_5_FLPOP_CO': 77.0, 'MAG_60_ABOVE_SUNTM_6_FLPOP_CO': 24.0, 'FAG_10_MONTM_1_FLPOP_CO': 0.0, 'FAG_10_MONTM_2_FLPOP_CO': 12.0, 'FAG_10_MONTM_3_FLPOP_CO': 11.0, 'FAG_10_MONTM_4_FLPOP_CO': 18.0, 'FAG_10_MONTM_5_FLPOP_CO': 0.0, 'FAG_10_MONTM_6_FLPOP_CO': 0.0, 'FAG_10_TUETM_1_FLPOP_CO': 0.0, 'FAG_10_TUETM_2_FLPOP_CO': 12.0, 'FAG_10_TUETM_3_FLPOP_CO': 17.0, 'FAG_10_TUETM_4_FLPOP_CO': 9.0, 'FAG_10_TUETM_5_FLPOP_CO': 6.0, 'FAG_10_TUETM_6_FLPOP_CO': 0.0, 'FAG_10_WEDTM_1_FLPOP_CO': 0.0, 'FAG_10_WEDTM_2_FLPOP_CO': 26.0, 'FAG_10_WEDTM_3_FLPOP_CO': 19.0, 'FAG_10_WEDTM_4_FLPOP_CO': 15.0, 'FAG_10_WEDTM_5_FLPOP_CO': 0.0, 'FAG_10_WEDTM_6_FLPOP_CO': 0.0, 'FAG_10_THUTM_1_FLPOP_CO': 0.0, 'FAG_10_THUTM_2_FLPOP_CO': 14.0, 'FAG_10_THUTM_3_FLPOP_CO': 14.0, 'FAG_10_THUTM_4_FLPOP_CO': 24.0, 'FAG_10_THUTM_5_FLPOP_CO': 2.0, 'FAG_10_THUTM_6_FLPOP_CO': 0.0, 'FAG_10_FRITM_1_FLPOP_CO': 0.0, 'FAG_10_FRITM_2_FLPOP_CO': 9.0, 'FAG_10_FRITM_3_FLPOP_CO': 14.0, 'FAG_10_FRITM_4_FLPOP_CO': 20.0, 'FAG_10_FRITM_5_FLPOP_CO': 2.0, 'FAG_10_FRITM_6_FLPOP_CO': 1.0, 'FAG_10_SATTM_1_FLPOP_CO': 0.0, 'FAG_10_SATTM_2_FLPOP_CO': 0.0, 'FAG_10_SATTM_3_FLPOP_CO': 1.0, 'FAG_10_SATTM_4_FLPOP_CO': 1.0, 'FAG_10_SATTM_5_FLPOP_CO': 2.0, 'FAG_10_SATTM_6_FLPOP_CO': 1.0, 'FAG_10_SUNTM_1_FLPOP_CO': 0.0, 'FAG_10_SUNTM_2_FLPOP_CO': 12.0, 'FAG_10_SUNTM_3_FLPOP_CO': 7.0, 'FAG_10_SUNTM_4_FLPOP_CO': 4.0, 'FAG_10_SUNTM_5_FLPOP_CO': 3.0, 'FAG_10_SUNTM_6_FLPOP_CO': 0.0, 'FAG_20_MONTM_1_FLPOP_CO': 117.0, 'FAG_20_MONTM_2_FLPOP_CO': 95.0, 'FAG_20_MONTM_3_FLPOP_CO': 93.0, 'FAG_20_MONTM_4_FLPOP_CO': 74.0, 'FAG_20_MONTM_5_FLPOP_CO': 113.0, 'FAG_20_MONTM_6_FLPOP_CO': 69.0, 'FAG_20_TUETM_1_FLPOP_CO': 119.0, 'FAG_20_TUETM_2_FLPOP_CO': 91.0, 'FAG_20_TUETM_3_FLPOP_CO': 109.0, 'FAG_20_TUETM_4_FLPOP_CO': 75.0, 'FAG_20_TUETM_5_FLPOP_CO': 123.0, 'FAG_20_TUETM_6_FLPOP_CO': 74.0, 'FAG_20_WEDTM_1_FLPOP_CO': 91.0, 'FAG_20_WEDTM_2_FLPOP_CO': 95.0, 'FAG_20_WEDTM_3_FLPOP_CO': 111.0, 'FAG_20_WEDTM_4_FLPOP_CO': 80.0, 'FAG_20_WEDTM_5_FLPOP_CO': 118.0, 'FAG_20_WEDTM_6_FLPOP_CO': 71.0, 'FAG_20_THUTM_1_FLPOP_CO': 113.0, 'FAG_20_THUTM_2_FLPOP_CO': 96.0, 'FAG_20_THUTM_3_FLPOP_CO': 115.0, 'FAG_20_THUTM_4_FLPOP_CO': 79.0, 'FAG_20_THUTM_5_FLPOP_CO': 119.0, 'FAG_20_THUTM_6_FLPOP_CO': 72.0, 'FAG_20_FRITM_1_FLPOP_CO': 112.0, 'FAG_20_FRITM_2_FLPOP_CO': 95.0, 'FAG_20_FRITM_3_FLPOP_CO': 113.0, 'FAG_20_FRITM_4_FLPOP_CO': 72.0, 'FAG_20_FRITM_5_FLPOP_CO': 118.0, 'FAG_20_FRITM_6_FLPOP_CO': 72.0, 'FAG_20_SATTM_1_FLPOP_CO': 123.0, 'FAG_20_SATTM_2_FLPOP_CO': 99.0, 'FAG_20_SATTM_3_FLPOP_CO': 68.0, 'FAG_20_SATTM_4_FLPOP_CO': 85.0, 'FAG_20_SATTM_5_FLPOP_CO': 116.0, 'FAG_20_SATTM_6_FLPOP_CO': 71.0, 'FAG_20_SUNTM_1_FLPOP_CO': 117.0, 'FAG_20_SUNTM_2_FLPOP_CO': 104.0, 'FAG_20_SUNTM_3_FLPOP_CO': 75.0, 'FAG_20_SUNTM_4_FLPOP_CO': 81.0, 'FAG_20_SUNTM_5_FLPOP_CO': 109.0, 'FAG_20_SUNTM_6_FLPOP_CO': 63.0, 'FAG_30_MONTM_1_FLPOP_CO': 77.0, 'FAG_30_MONTM_2_FLPOP_CO': 90.0, 'FAG_30_MONTM_3_FLPOP_CO': 90.0, 'FAG_30_MONTM_4_FLPOP_CO': 71.0, 'FAG_30_MONTM_5_FLPOP_CO': 101.0, 'FAG_30_MONTM_6_FLPOP_CO': 59.0, 'FAG_30_TUETM_1_FLPOP_CO': 79.0, 'FAG_30_TUETM_2_FLPOP_CO': 87.0, 'FAG_30_TUETM_3_FLPOP_CO': 92.0, 'FAG_30_TUETM_4_FLPOP_CO': 74.0, 'FAG_30_TUETM_5_FLPOP_CO': 106.0, 'FAG_30_TUETM_6_FLPOP_CO': 63.0, 'FAG_30_WEDTM_1_FLPOP_CO': 77.0, 'FAG_30_WEDTM_2_FLPOP_CO': 92.0, 'FAG_30_WEDTM_3_FLPOP_CO': 96.0, 'FAG_30_WEDTM_4_FLPOP_CO': 73.0, 'FAG_30_WEDTM_5_FLPOP_CO': 102.0, 'FAG_30_WEDTM_6_FLPOP_CO': 61.0, 'FAG_30_THUTM_1_FLPOP_CO': 55.0, 'FAG_30_THUTM_2_FLPOP_CO': 81.0, 'FAG_30_THUTM_3_FLPOP_CO': 100.0, 'FAG_30_THUTM_4_FLPOP_CO': 76.0, 'FAG_30_THUTM_5_FLPOP_CO': 103.0, 'FAG_30_THUTM_6_FLPOP_CO': 65.0, 'FAG_30_FRITM_1_FLPOP_CO': 66.0, 'FAG_30_FRITM_2_FLPOP_CO': 84.0, 'FAG_30_FRITM_3_FLPOP_CO': 99.0, 'FAG_30_FRITM_4_FLPOP_CO': 75.0, 'FAG_30_FRITM_5_FLPOP_CO': 112.0, 'FAG_30_FRITM_6_FLPOP_CO': 72.0, 'FAG_30_SATTM_1_FLPOP_CO': 79.0, 'FAG_30_SATTM_2_FLPOP_CO': 75.0, 'FAG_30_SATTM_3_FLPOP_CO': 72.0, 'FAG_30_SATTM_4_FLPOP_CO': 78.0, 'FAG_30_SATTM_5_FLPOP_CO': 106.0, 'FAG_30_SATTM_6_FLPOP_CO': 70.0, 'FAG_30_SUNTM_1_FLPOP_CO': 101.0, 'FAG_30_SUNTM_2_FLPOP_CO': 91.0, 'FAG_30_SUNTM_3_FLPOP_CO': 67.0, 'FAG_30_SUNTM_4_FLPOP_CO': 71.0, 'FAG_30_SUNTM_5_FLPOP_CO': 94.0, 'FAG_30_SUNTM_6_FLPOP_CO': 59.0, 'FAG_40_MONTM_1_FLPOP_CO': 31.0, 'FAG_40_MONTM_2_FLPOP_CO': 64.0, 'FAG_40_MONTM_3_FLPOP_CO': 72.0, 'FAG_40_MONTM_4_FLPOP_CO': 71.0, 'FAG_40_MONTM_5_FLPOP_CO': 93.0, 'FAG_40_MONTM_6_FLPOP_CO': 59.0, 'FAG_40_TUETM_1_FLPOP_CO': 20.0, 'FAG_40_TUETM_2_FLPOP_CO': 54.0, 'FAG_40_TUETM_3_FLPOP_CO': 71.0, 'FAG_40_TUETM_4_FLPOP_CO': 70.0, 'FAG_40_TUETM_5_FLPOP_CO': 92.0, 'FAG_40_TUETM_6_FLPOP_CO': 59.0, 'FAG_40_WEDTM_1_FLPOP_CO': 25.0, 'FAG_40_WEDTM_2_FLPOP_CO': 58.0, 'FAG_40_WEDTM_3_FLPOP_CO': 74.0, 'FAG_40_WEDTM_4_FLPOP_CO': 70.0, 'FAG_40_WEDTM_5_FLPOP_CO': 95.0, 'FAG_40_WEDTM_6_FLPOP_CO': 66.0, 'FAG_40_THUTM_1_FLPOP_CO': 53.0, 'FAG_40_THUTM_2_FLPOP_CO': 68.0, 'FAG_40_THUTM_3_FLPOP_CO': 76.0, 'FAG_40_THUTM_4_FLPOP_CO': 69.0, 'FAG_40_THUTM_5_FLPOP_CO': 93.0, 'FAG_40_THUTM_6_FLPOP_CO': 60.0, 'FAG_40_FRITM_1_FLPOP_CO': 42.0, 'FAG_40_FRITM_2_FLPOP_CO': 64.0, 'FAG_40_FRITM_3_FLPOP_CO': 74.0, 'FAG_40_FRITM_4_FLPOP_CO': 71.0, 'FAG_40_FRITM_5_FLPOP_CO': 96.0, 'FAG_40_FRITM_6_FLPOP_CO': 67.0, 'FAG_40_SATTM_1_FLPOP_CO': 40.0, 'FAG_40_SATTM_2_FLPOP_CO': 58.0, 'FAG_40_SATTM_3_FLPOP_CO': 63.0, 'FAG_40_SATTM_4_FLPOP_CO': 68.0, 'FAG_40_SATTM_5_FLPOP_CO': 94.0, 'FAG_40_SATTM_6_FLPOP_CO': 62.0, 'FAG_40_SUNTM_1_FLPOP_CO': 58.0, 'FAG_40_SUNTM_2_FLPOP_CO': 63.0, 'FAG_40_SUNTM_3_FLPOP_CO': 63.0, 'FAG_40_SUNTM_4_FLPOP_CO': 68.0, 'FAG_40_SUNTM_5_FLPOP_CO': 89.0, 'FAG_40_SUNTM_6_FLPOP_CO': 49.0, 'FAG_50_MONTM_1_FLPOP_CO': 26.0, 'FAG_50_MONTM_2_FLPOP_CO': 78.0, 'FAG_50_MONTM_3_FLPOP_CO': 74.0, 'FAG_50_MONTM_4_FLPOP_CO': 78.0, 'FAG_50_MONTM_5_FLPOP_CO': 102.0, 'FAG_50_MONTM_6_FLPOP_CO': 54.0, 'FAG_50_TUETM_1_FLPOP_CO': 25.0, 'FAG_50_TUETM_2_FLPOP_CO': 89.0, 'FAG_50_TUETM_3_FLPOP_CO': 73.0, 'FAG_50_TUETM_4_FLPOP_CO': 77.0, 'FAG_50_TUETM_5_FLPOP_CO': 107.0, 'FAG_50_TUETM_6_FLPOP_CO': 63.0, 'FAG_50_WEDTM_1_FLPOP_CO': 24.0, 'FAG_50_WEDTM_2_FLPOP_CO': 76.0, 'FAG_50_WEDTM_3_FLPOP_CO': 78.0, 'FAG_50_WEDTM_4_FLPOP_CO': 77.0, 'FAG_50_WEDTM_5_FLPOP_CO': 104.0, 'FAG_50_WEDTM_6_FLPOP_CO': 54.0, 'FAG_50_THUTM_1_FLPOP_CO': 32.0, 'FAG_50_THUTM_2_FLPOP_CO': 77.0, 'FAG_50_THUTM_3_FLPOP_CO': 74.0, 'FAG_50_THUTM_4_FLPOP_CO': 78.0, 'FAG_50_THUTM_5_FLPOP_CO': 117.0, 'FAG_50_THUTM_6_FLPOP_CO': 59.0, 'FAG_50_FRITM_1_FLPOP_CO': 24.0, 'FAG_50_FRITM_2_FLPOP_CO': 71.0, 'FAG_50_FRITM_3_FLPOP_CO': 79.0, 'FAG_50_FRITM_4_FLPOP_CO': 76.0, 'FAG_50_FRITM_5_FLPOP_CO': 110.0, 'FAG_50_FRITM_6_FLPOP_CO': 62.0, 'FAG_50_SATTM_1_FLPOP_CO': 48.0, 'FAG_50_SATTM_2_FLPOP_CO': 72.0, 'FAG_50_SATTM_3_FLPOP_CO': 70.0, 'FAG_50_SATTM_4_FLPOP_CO': 71.0, 'FAG_50_SATTM_5_FLPOP_CO': 101.0, 'FAG_50_SATTM_6_FLPOP_CO': 62.0, 'FAG_50_SUNTM_1_FLPOP_CO': 81.0, 'FAG_50_SUNTM_2_FLPOP_CO': 83.0, 'FAG_50_SUNTM_3_FLPOP_CO': 66.0, 'FAG_50_SUNTM_4_FLPOP_CO': 67.0, 'FAG_50_SUNTM_5_FLPOP_CO': 90.0, 'FAG_50_SUNTM_6_FLPOP_CO': 52.0, 'FAG_60_ABOVE_MONTM_1_FLPOP_CO': 8.0, 'FAG_60_ABOVE_MONTM_2_FLPOP_CO': 46.0, 'FAG_60_ABOVE_MONTM_3_FLPOP_CO': 62.0, 'FAG_60_ABOVE_MONTM_4_FLPOP_CO': 68.0, 'FAG_60_ABOVE_MONTM_5_FLPOP_CO': 84.0, 'FAG_60_ABOVE_MONTM_6_FLPOP_CO': 22.0, 'FAG_60_ABOVE_TUETM_1_FLPOP_CO': 6.0, 'FAG_60_ABOVE_TUETM_2_FLPOP_CO': 54.0, 'FAG_60_ABOVE_TUETM_3_FLPOP_CO': 64.0, 'FAG_60_ABOVE_TUETM_4_FLPOP_CO': 69.0, 'FAG_60_ABOVE_TUETM_5_FLPOP_CO': 80.0, 'FAG_60_ABOVE_TUETM_6_FLPOP_CO': 16.0, 'FAG_60_ABOVE_WEDTM_1_FLPOP_CO': 3.0, 'FAG_60_ABOVE_WEDTM_2_FLPOP_CO': 54.0, 'FAG_60_ABOVE_WEDTM_3_FLPOP_CO': 62.0, 'FAG_60_ABOVE_WEDTM_4_FLPOP_CO': 68.0, 'FAG_60_ABOVE_WEDTM_5_FLPOP_CO': 83.0, 'FAG_60_ABOVE_WEDTM_6_FLPOP_CO': 13.0, 'FAG_60_ABOVE_THUTM_1_FLPOP_CO': 2.0, 'FAG_60_ABOVE_THUTM_2_FLPOP_CO': 51.0, 'FAG_60_ABOVE_THUTM_3_FLPOP_CO': 63.0, 'FAG_60_ABOVE_THUTM_4_FLPOP_CO': 68.0, 'FAG_60_ABOVE_THUTM_5_FLPOP_CO': 77.0, 'FAG_60_ABOVE_THUTM_6_FLPOP_CO': 20.0, 'FAG_60_ABOVE_FRITM_1_FLPOP_CO': 1.0, 'FAG_60_ABOVE_FRITM_2_FLPOP_CO': 37.0, 'FAG_60_ABOVE_FRITM_3_FLPOP_CO': 60.0, 'FAG_60_ABOVE_FRITM_4_FLPOP_CO': 69.0, 'FAG_60_ABOVE_FRITM_5_FLPOP_CO': 85.0, 'FAG_60_ABOVE_FRITM_6_FLPOP_CO': 20.0, 'FAG_60_ABOVE_SATTM_1_FLPOP_CO': 4.0, 'FAG_60_ABOVE_SATTM_2_FLPOP_CO': 46.0, 'FAG_60_ABOVE_SATTM_3_FLPOP_CO': 57.0, 'FAG_60_ABOVE_SATTM_4_FLPOP_CO': 53.0, 'FAG_60_ABOVE_SATTM_5_FLPOP_CO': 82.0, 'FAG_60_ABOVE_SATTM_6_FLPOP_CO': 17.0, 'FAG_60_ABOVE_SUNTM_1_FLPOP_CO': 2.0, 'FAG_60_ABOVE_SUNTM_2_FLPOP_CO': 39.0, 'FAG_60_ABOVE_SUNTM_3_FLPOP_CO': 55.0, 'FAG_60_ABOVE_SUNTM_4_FLPOP_CO': 52.0, 'FAG_60_ABOVE_SUNTM_5_FLPOP_CO': 72.0, 'FAG_60_ABOVE_SUNTM_6_FLPOP_CO': 11.0}, {'STDR_YY_CD': '2017', 'STDR_QU_CD': '2', 'TRDAR_SE_CD': 'R', 'TRDAR_SE_CD_NM': '전통시장', 'TRDAR_CD': '1001420', 'TRDAR_CD_NM': '고척근린시장', 'TOT_FLPOP_CO': 50021.0, 'ML_FLPOP_CO': 26396.0, 'FML_FLPOP_CO': 23626.0, 'AGRDE_10_FLPOP_CO': 4064.0, 'AGRDE_20_FLPOP_CO': 9872.0, 'AGRDE_30_FLPOP_CO': 9976.0, 'AGRDE_40_FLPOP_CO': 9818.0, 'AGRDE_50_FLPOP_CO': 8978.0, 'AGRDE_60_ABOVE_FLPOP_CO': 7310.0, 'TMZON_1_FLPOP_CO': 6238.0, 'TMZON_2_FLPOP_CO': 6426.0, 'TMZON_3_FLPOP_CO': 7881.0, 'TMZON_4_FLPOP_CO': 8582.0, 'TMZON_5_FLPOP_CO': 13420.0, 'TMZON_6_FLPOP_CO': 7474.0, 'MON_FLPOP_CO': 6897.0, 'TUES_FLPOP_CO': 6774.0, 'WED_FLPOP_CO': 6867.0, 'THUR_FLPOP_CO': 6649.0, 'FRI_FLPOP_CO': 6991.0, 'SAT_FLPOP_CO': 7827.0, 'SUN_FLPOP_CO': 8015.0, 'MAG_10_MONTM_1_FLPOP_CO': 2.0, 'MAG_10_MONTM_2_FLPOP_CO': 0.0, 'MAG_10_MONTM_3_FLPOP_CO': 3.0, 'MAG_10_MONTM_4_FLPOP_CO': 61.0, 'MAG_10_MONTM_5_FLPOP_CO': 158.0, 'MAG_10_MONTM_6_FLPOP_CO': 66.0, 'MAG_10_TUETM_1_FLPOP_CO': 5.0, 'MAG_10_TUETM_2_FLPOP_CO': 0.0, 'MAG_10_TUETM_3_FLPOP_CO': 8.0, 'MAG_10_TUETM_4_FLPOP_CO': 54.0, 'MAG_10_TUETM_5_FLPOP_CO': 146.0, 'MAG_10_TUETM_6_FLPOP_CO': 58.0, 'MAG_10_WEDTM_1_FLPOP_CO': 0.0, 'MAG_10_WEDTM_2_FLPOP_CO': 0.0, 'MAG_10_WEDTM_3_FLPOP_CO': 0.0, 'MAG_10_WEDTM_4_FLPOP_CO': 58.0, 'MAG_10_WEDTM_5_FLPOP_CO': 160.0, 'MAG_10_WEDTM_6_FLPOP_CO': 67.0, 'MAG_10_THUTM_1_FLPOP_CO': 2.0, 'MAG_10_THUTM_2_FLPOP_CO': 0.0, 'MAG_10_THUTM_3_FLPOP_CO': 0.0, 'MAG_10_THUTM_4_FLPOP_CO': 40.0, 'MAG_10_THUTM_5_FLPOP_CO': 152.0, 'MAG_10_THUTM_6_FLPOP_CO': 73.0, 'MAG_10_FRITM_1_FLPOP_CO': 3.0, 'MAG_10_FRITM_2_FLPOP_CO': 0.0, 'MAG_10_FRITM_3_FLPOP_CO': 12.0, 'MAG_10_FRITM_4_FLPOP_CO': 76.0, 'MAG_10_FRITM_5_FLPOP_CO': 169.0, 'MAG_10_FRITM_6_FLPOP_CO': 71.0, 'MAG_10_SATTM_1_FLPOP_CO': 13.0, 'MAG_10_SATTM_2_FLPOP_CO': 8.0, 'MAG_10_SATTM_3_FLPOP_CO': 99.0, 'MAG_10_SATTM_4_FLPOP_CO': 109.0, 'MAG_10_SATTM_5_FLPOP_CO': 142.0, 'MAG_10_SATTM_6_FLPOP_CO': 68.0, 'MAG_10_SUNTM_1_FLPOP_CO': 11.0, 'MAG_10_SUNTM_2_FLPOP_CO': 15.0, 'MAG_10_SUNTM_3_FLPOP_CO': 104.0, 'MAG_10_SUNTM_4_FLPOP_CO': 109.0, 'MAG_10_SUNTM_5_FLPOP_CO': 140.0, 'MAG_10_SUNTM_6_FLPOP_CO': 47.0, 'MAG_20_MONTM_1_FLPOP_CO': 199.0, 'MAG_20_MONTM_2_FLPOP_CO': 36.0, 'MAG_20_MONTM_3_FLPOP_CO': 92.0, 'MAG_20_MONTM_4_FLPOP_CO': 100.0, 'MAG_20_MONTM_5_FLPOP_CO': 176.0, 'MAG_20_MONTM_6_FLPOP_CO': 173.0, 'MAG_20_TUETM_1_FLPOP_CO': 190.0, 'MAG_20_TUETM_2_FLPOP_CO': 39.0, 'MAG_20_TUETM_3_FLPOP_CO': 94.0, 'MAG_20_TUETM_4_FLPOP_CO': 96.0, 'MAG_20_TUETM_5_FLPOP_CO': 167.0, 'MAG_20_TUETM_6_FLPOP_CO': 156.0, 'MAG_20_WEDTM_1_FLPOP_CO': 168.0, 'MAG_20_WEDTM_2_FLPOP_CO': 22.0, 'MAG_20_WEDTM_3_FLPOP_CO': 85.0, 'MAG_20_WEDTM_4_FLPOP_CO': 103.0, 'MAG_20_WEDTM_5_FLPOP_CO': 175.0, 'MAG_20_WEDTM_6_FLPOP_CO': 147.0, 'MAG_20_THUTM_1_FLPOP_CO': 176.0, 'MAG_20_THUTM_2_FLPOP_CO': 22.0, 'MAG_20_THUTM_3_FLPOP_CO': 78.0, 'MAG_20_THUTM_4_FLPOP_CO': 99.0, 'MAG_20_THUTM_5_FLPOP_CO': 179.0, 'MAG_20_THUTM_6_FLPOP_CO': 157.0, 'MAG_20_FRITM_1_FLPOP_CO': 168.0, 'MAG_20_FRITM_2_FLPOP_CO': 32.0, 'MAG_20_FRITM_3_FLPOP_CO': 94.0, 'MAG_20_FRITM_4_FLPOP_CO': 106.0, 'MAG_20_FRITM_5_FLPOP_CO': 189.0, 'MAG_20_FRITM_6_FLPOP_CO': 192.0, 'MAG_20_SATTM_1_FLPOP_CO': 228.0, 'MAG_20_SATTM_2_FLPOP_CO': 135.0, 'MAG_20_SATTM_3_FLPOP_CO': 105.0, 'MAG_20_SATTM_4_FLPOP_CO': 122.0, 'MAG_20_SATTM_5_FLPOP_CO': 261.0, 'MAG_20_SATTM_6_FLPOP_CO': 202.0, 'MAG_20_SUNTM_1_FLPOP_CO': 259.0, 'MAG_20_SUNTM_2_FLPOP_CO': 159.0, 'MAG_20_SUNTM_3_FLPOP_CO': 109.0, 'MAG_20_SUNTM_4_FLPOP_CO': 123.0, 'MAG_20_SUNTM_5_FLPOP_CO': 259.0, 'MAG_20_SUNTM_6_FLPOP_CO': 174.0, 'MAG_30_MONTM_1_FLPOP_CO': 172.0, 'MAG_30_MONTM_2_FLPOP_CO': 113.0, 'MAG_30_MONTM_3_FLPOP_CO': 101.0, 'MAG_30_MONTM_4_FLPOP_CO': 99.0, 'MAG_30_MONTM_5_FLPOP_CO': 155.0, 'MAG_30_MONTM_6_FLPOP_CO': 110.0, 'MAG_30_TUETM_1_FLPOP_CO': 158.0, 'MAG_30_TUETM_2_FLPOP_CO': 118.0, 'MAG_30_TUETM_3_FLPOP_CO': 105.0, 'MAG_30_TUETM_4_FLPOP_CO': 104.0, 'MAG_30_TUETM_5_FLPOP_CO': 162.0, 'MAG_30_TUETM_6_FLPOP_CO': 123.0, 'MAG_30_WEDTM_1_FLPOP_CO': 130.0, 'MAG_30_WEDTM_2_FLPOP_CO': 106.0, 'MAG_30_WEDTM_3_FLPOP_CO': 101.0, 'MAG_30_WEDTM_4_FLPOP_CO': 105.0, 'MAG_30_WEDTM_5_FLPOP_CO': 158.0, 'MAG_30_WEDTM_6_FLPOP_CO': 120.0, 'MAG_30_THUTM_1_FLPOP_CO': 150.0, 'MAG_30_THUTM_2_FLPOP_CO': 118.0, 'MAG_30_THUTM_3_FLPOP_CO': 104.0, 'MAG_30_THUTM_4_FLPOP_CO': 110.0, 'MAG_30_THUTM_5_FLPOP_CO': 163.0, 'MAG_30_THUTM_6_FLPOP_CO': 110.0, 'MAG_30_FRITM_1_FLPOP_CO': 160.0, 'MAG_30_FRITM_2_FLPOP_CO': 140.0, 'MAG_30_FRITM_3_FLPOP_CO': 106.0, 'MAG_30_FRITM_4_FLPOP_CO': 106.0, 'MAG_30_FRITM_5_FLPOP_CO': 173.0, 'MAG_30_FRITM_6_FLPOP_CO': 137.0, 'MAG_30_SATTM_1_FLPOP_CO': 199.0, 'MAG_30_SATTM_2_FLPOP_CO': 143.0, 'MAG_30_SATTM_3_FLPOP_CO': 109.0, 'MAG_30_SATTM_4_FLPOP_CO': 109.0, 'MAG_30_SATTM_5_FLPOP_CO': 182.0, 'MAG_30_SATTM_6_FLPOP_CO': 125.0, 'MAG_30_SUNTM_1_FLPOP_CO': 201.0, 'MAG_30_SUNTM_2_FLPOP_CO': 172.0, 'MAG_30_SUNTM_3_FLPOP_CO': 141.0, 'MAG_30_SUNTM_4_FLPOP_CO': 124.0, 'MAG_30_SUNTM_5_FLPOP_CO': 199.0, 'MAG_30_SUNTM_6_FLPOP_CO': 118.0, 'MAG_40_MONTM_1_FLPOP_CO': 109.0, 'MAG_40_MONTM_2_FLPOP_CO': 102.0, 'MAG_40_MONTM_3_FLPOP_CO': 114.0, 'MAG_40_MONTM_4_FLPOP_CO': 112.0, 'MAG_40_MONTM_5_FLPOP_CO': 168.0, 'MAG_40_MONTM_6_FLPOP_CO': 105.0, 'MAG_40_TUETM_1_FLPOP_CO': 104.0, 'MAG_40_TUETM_2_FLPOP_CO': 102.0, 'MAG_40_TUETM_3_FLPOP_CO': 107.0, 'MAG_40_TUETM_4_FLPOP_CO': 110.0, 'MAG_40_TUETM_5_FLPOP_CO': 153.0, 'MAG_40_TUETM_6_FLPOP_CO': 105.0, 'MAG_40_WEDTM_1_FLPOP_CO': 85.0, 'MAG_40_WEDTM_2_FLPOP_CO': 83.0, 'MAG_40_WEDTM_3_FLPOP_CO': 110.0, 'MAG_40_WEDTM_4_FLPOP_CO': 106.0, 'MAG_40_WEDTM_5_FLPOP_CO': 164.0, 'MAG_40_WEDTM_6_FLPOP_CO': 105.0, 'MAG_40_THUTM_1_FLPOP_CO': 105.0, 'MAG_40_THUTM_2_FLPOP_CO': 76.0, 'MAG_40_THUTM_3_FLPOP_CO': 113.0, 'MAG_40_THUTM_4_FLPOP_CO': 110.0, 'MAG_40_THUTM_5_FLPOP_CO': 159.0, 'MAG_40_THUTM_6_FLPOP_CO': 107.0, 'MAG_40_FRITM_1_FLPOP_CO': 126.0, 'MAG_40_FRITM_2_FLPOP_CO': 85.0, 'MAG_40_FRITM_3_FLPOP_CO': 113.0, 'MAG_40_FRITM_4_FLPOP_CO': 103.0, 'MAG_40_FRITM_5_FLPOP_CO': 162.0, 'MAG_40_FRITM_6_FLPOP_CO': 109.0, 'MAG_40_SATTM_1_FLPOP_CO': 142.0, 'MAG_40_SATTM_2_FLPOP_CO': 130.0, 'MAG_40_SATTM_3_FLPOP_CO': 108.0, 'MAG_40_SATTM_4_FLPOP_CO': 111.0, 'MAG_40_SATTM_5_FLPOP_CO': 206.0, 'MAG_40_SATTM_6_FLPOP_CO': 120.0, 'MAG_40_SUNTM_1_FLPOP_CO': 164.0, 'MAG_40_SUNTM_2_FLPOP_CO': 139.0, 'MAG_40_SUNTM_3_FLPOP_CO': 126.0, 'MAG_40_SUNTM_4_FLPOP_CO': 123.0, 'MAG_40_SUNTM_5_FLPOP_CO': 172.0, 'MAG_40_SUNTM_6_FLPOP_CO': 98.0, 'MAG_50_MONTM_1_FLPOP_CO': 39.0, 'MAG_50_MONTM_2_FLPOP_CO': 58.0, 'MAG_50_MONTM_3_FLPOP_CO': 104.0, 'MAG_50_MONTM_4_FLPOP_CO': 101.0, 'MAG_50_MONTM_5_FLPOP_CO': 154.0, 'MAG_50_MONTM_6_FLPOP_CO': 91.0, 'MAG_50_TUETM_1_FLPOP_CO': 50.0, 'MAG_50_TUETM_2_FLPOP_CO': 80.0, 'MAG_50_TUETM_3_FLPOP_CO': 98.0, 'MAG_50_TUETM_4_FLPOP_CO': 101.0, 'MAG_50_TUETM_5_FLPOP_CO': 152.0, 'MAG_50_TUETM_6_FLPOP_CO': 94.0, 'MAG_50_WEDTM_1_FLPOP_CO': 46.0, 'MAG_50_WEDTM_2_FLPOP_CO': 73.0, 'MAG_50_WEDTM_3_FLPOP_CO': 99.0, 'MAG_50_WEDTM_4_FLPOP_CO': 103.0, 'MAG_50_WEDTM_5_FLPOP_CO': 161.0, 'MAG_50_WEDTM_6_FLPOP_CO': 90.0, 'MAG_50_THUTM_1_FLPOP_CO': 32.0, 'MAG_50_THUTM_2_FLPOP_CO': 51.0, 'MAG_50_THUTM_3_FLPOP_CO': 105.0, 'MAG_50_THUTM_4_FLPOP_CO': 104.0, 'MAG_50_THUTM_5_FLPOP_CO': 165.0, 'MAG_50_THUTM_6_FLPOP_CO': 93.0, 'MAG_50_FRITM_1_FLPOP_CO': 29.0, 'MAG_50_FRITM_2_FLPOP_CO': 34.0, 'MAG_50_FRITM_3_FLPOP_CO': 99.0, 'MAG_50_FRITM_4_FLPOP_CO': 99.0, 'MAG_50_FRITM_5_FLPOP_CO': 152.0, 'MAG_50_FRITM_6_FLPOP_CO': 113.0, 'MAG_50_SATTM_1_FLPOP_CO': 15.0, 'MAG_50_SATTM_2_FLPOP_CO': 71.0, 'MAG_50_SATTM_3_FLPOP_CO': 98.0, 'MAG_50_SATTM_4_FLPOP_CO': 103.0, 'MAG_50_SATTM_5_FLPOP_CO': 184.0, 'MAG_50_SATTM_6_FLPOP_CO': 105.0, 'MAG_50_SUNTM_1_FLPOP_CO': 59.0, 'MAG_50_SUNTM_2_FLPOP_CO': 117.0, 'MAG_50_SUNTM_3_FLPOP_CO': 130.0, 'MAG_50_SUNTM_4_FLPOP_CO': 131.0, 'MAG_50_SUNTM_5_FLPOP_CO': 174.0, 'MAG_50_SUNTM_6_FLPOP_CO': 104.0, 'MAG_60_ABOVE_MONTM_1_FLPOP_CO': 17.0, 'MAG_60_ABOVE_MONTM_2_FLPOP_CO': 105.0, 'MAG_60_ABOVE_MONTM_3_FLPOP_CO': 106.0, 'MAG_60_ABOVE_MONTM_4_FLPOP_CO': 106.0, 'MAG_60_ABOVE_MONTM_5_FLPOP_CO': 139.0, 'MAG_60_ABOVE_MONTM_6_FLPOP_CO': 39.0, 'MAG_60_ABOVE_TUETM_1_FLPOP_CO': 16.0, 'MAG_60_ABOVE_TUETM_2_FLPOP_CO': 78.0, 'MAG_60_ABOVE_TUETM_3_FLPOP_CO': 105.0, 'MAG_60_ABOVE_TUETM_4_FLPOP_CO': 105.0, 'MAG_60_ABOVE_TUETM_5_FLPOP_CO': 136.0, 'MAG_60_ABOVE_TUETM_6_FLPOP_CO': 34.0, 'MAG_60_ABOVE_WEDTM_1_FLPOP_CO': 29.0, 'MAG_60_ABOVE_WEDTM_2_FLPOP_CO': 116.0, 'MAG_60_ABOVE_WEDTM_3_FLPOP_CO': 105.0, 'MAG_60_ABOVE_WEDTM_4_FLPOP_CO': 105.0, 'MAG_60_ABOVE_WEDTM_5_FLPOP_CO': 144.0, 'MAG_60_ABOVE_WEDTM_6_FLPOP_CO': 40.0, 'MAG_60_ABOVE_THUTM_1_FLPOP_CO': 16.0, 'MAG_60_ABOVE_THUTM_2_FLPOP_CO': 78.0, 'MAG_60_ABOVE_THUTM_3_FLPOP_CO': 111.0, 'MAG_60_ABOVE_THUTM_4_FLPOP_CO': 101.0, 'MAG_60_ABOVE_THUTM_5_FLPOP_CO': 134.0, 'MAG_60_ABOVE_THUTM_6_FLPOP_CO': 39.0, 'MAG_60_ABOVE_FRITM_1_FLPOP_CO': 12.0, 'MAG_60_ABOVE_FRITM_2_FLPOP_CO': 80.0, 'MAG_60_ABOVE_FRITM_3_FLPOP_CO': 105.0, 'MAG_60_ABOVE_FRITM_4_FLPOP_CO': 108.0, 'MAG_60_ABOVE_FRITM_5_FLPOP_CO': 143.0, 'MAG_60_ABOVE_FRITM_6_FLPOP_CO': 42.0, 'MAG_60_ABOVE_SATTM_1_FLPOP_CO': 13.0, 'MAG_60_ABOVE_SATTM_2_FLPOP_CO': 86.0, 'MAG_60_ABOVE_SATTM_3_FLPOP_CO': 112.0, 'MAG_60_ABOVE_SATTM_4_FLPOP_CO': 105.0, 'MAG_60_ABOVE_SATTM_5_FLPOP_CO': 144.0, 'MAG_60_ABOVE_SATTM_6_FLPOP_CO': 53.0, 'MAG_60_ABOVE_SUNTM_1_FLPOP_CO': 20.0, 'MAG_60_ABOVE_SUNTM_2_FLPOP_CO': 85.0, 'MAG_60_ABOVE_SUNTM_3_FLPOP_CO': 119.0, 'MAG_60_ABOVE_SUNTM_4_FLPOP_CO': 108.0, 'MAG_60_ABOVE_SUNTM_5_FLPOP_CO': 135.0, 'MAG_60_ABOVE_SUNTM_6_FLPOP_CO': 46.0, 'FAG_10_MONTM_1_FLPOP_CO': 0.0, 'FAG_10_MONTM_2_FLPOP_CO': 0.0, 'FAG_10_MONTM_3_FLPOP_CO': 0.0, 'FAG_10_MONTM_4_FLPOP_CO': 49.0, 'FAG_10_MONTM_5_FLPOP_CO': 149.0, 'FAG_10_MONTM_6_FLPOP_CO': 54.0, 'FAG_10_TUETM_1_FLPOP_CO': 0.0, 'FAG_10_TUETM_2_FLPOP_CO': 0.0, 'FAG_10_TUETM_3_FLPOP_CO': 0.0, 'FAG_10_TUETM_4_FLPOP_CO': 36.0, 'FAG_10_TUETM_5_FLPOP_CO': 143.0, 'FAG_10_TUETM_6_FLPOP_CO': 36.0, 'FAG_10_WEDTM_1_FLPOP_CO': 3.0, 'FAG_10_WEDTM_2_FLPOP_CO': 0.0, 'FAG_10_WEDTM_3_FLPOP_CO': 0.0, 'FAG_10_WEDTM_4_FLPOP_CO': 39.0, 'FAG_10_WEDTM_5_FLPOP_CO': 148.0, 'FAG_10_WEDTM_6_FLPOP_CO': 53.0, 'FAG_10_THUTM_1_FLPOP_CO': 0.0, 'FAG_10_THUTM_2_FLPOP_CO': 0.0, 'FAG_10_THUTM_3_FLPOP_CO': 0.0, 'FAG_10_THUTM_4_FLPOP_CO': 34.0, 'FAG_10_THUTM_5_FLPOP_CO': 143.0, 'FAG_10_THUTM_6_FLPOP_CO': 46.0, 'FAG_10_FRITM_1_FLPOP_CO': 2.0, 'FAG_10_FRITM_2_FLPOP_CO': 0.0, 'FAG_10_FRITM_3_FLPOP_CO': 0.0, 'FAG_10_FRITM_4_FLPOP_CO': 32.0, 'FAG_10_FRITM_5_FLPOP_CO': 144.0, 'FAG_10_FRITM_6_FLPOP_CO': 60.0, 'FAG_10_SATTM_1_FLPOP_CO': 4.0, 'FAG_10_SATTM_2_FLPOP_CO': 13.0, 'FAG_10_SATTM_3_FLPOP_CO': 85.0, 'FAG_10_SATTM_4_FLPOP_CO': 92.0, 'FAG_10_SATTM_5_FLPOP_CO': 103.0, 'FAG_10_SATTM_6_FLPOP_CO': 27.0, 'FAG_10_SUNTM_1_FLPOP_CO': 2.0, 'FAG_10_SUNTM_2_FLPOP_CO': 10.0, 'FAG_10_SUNTM_3_FLPOP_CO': 66.0, 'FAG_10_SUNTM_4_FLPOP_CO': 88.0, 'FAG_10_SUNTM_5_FLPOP_CO': 86.0, 'FAG_10_SUNTM_6_FLPOP_CO': 8.0, 'FAG_20_MONTM_1_FLPOP_CO': 69.0, 'FAG_20_MONTM_2_FLPOP_CO': 41.0, 'FAG_20_MONTM_3_FLPOP_CO': 49.0, 'FAG_20_MONTM_4_FLPOP_CO': 85.0, 'FAG_20_MONTM_5_FLPOP_CO': 158.0, 'FAG_20_MONTM_6_FLPOP_CO': 115.0, 'FAG_20_TUETM_1_FLPOP_CO': 100.0, 'FAG_20_TUETM_2_FLPOP_CO': 52.0, 'FAG_20_TUETM_3_FLPOP_CO': 71.0, 'FAG_20_TUETM_4_FLPOP_CO': 95.0, 'FAG_20_TUETM_5_FLPOP_CO': 141.0, 'FAG_20_TUETM_6_FLPOP_CO': 110.0, 'FAG_20_WEDTM_1_FLPOP_CO': 74.0, 'FAG_20_WEDTM_2_FLPOP_CO': 48.0, 'FAG_20_WEDTM_3_FLPOP_CO': 74.0, 'FAG_20_WEDTM_4_FLPOP_CO': 93.0, 'FAG_20_WEDTM_5_FLPOP_CO': 144.0, 'FAG_20_WEDTM_6_FLPOP_CO': 106.0, 'FAG_20_THUTM_1_FLPOP_CO': 88.0, 'FAG_20_THUTM_2_FLPOP_CO': 42.0, 'FAG_20_THUTM_3_FLPOP_CO': 72.0, 'FAG_20_THUTM_4_FLPOP_CO': 69.0, 'FAG_20_THUTM_5_FLPOP_CO': 140.0, 'FAG_20_THUTM_6_FLPOP_CO': 110.0, 'FAG_20_FRITM_1_FLPOP_CO': 87.0, 'FAG_20_FRITM_2_FLPOP_CO': 28.0, 'FAG_20_FRITM_3_FLPOP_CO': 59.0, 'FAG_20_FRITM_4_FLPOP_CO': 96.0, 'FAG_20_FRITM_5_FLPOP_CO': 141.0, 'FAG_20_FRITM_6_FLPOP_CO': 119.0, 'FAG_20_SATTM_1_FLPOP_CO': 119.0, 'FAG_20_SATTM_2_FLPOP_CO': 115.0, 'FAG_20_SATTM_3_FLPOP_CO': 104.0, 'FAG_20_SATTM_4_FLPOP_CO': 104.0, 'FAG_20_SATTM_5_FLPOP_CO': 142.0, 'FAG_20_SATTM_6_FLPOP_CO': 107.0, 'FAG_20_SUNTM_1_FLPOP_CO': 138.0, 'FAG_20_SUNTM_2_FLPOP_CO': 78.0, 'FAG_20_SUNTM_3_FLPOP_CO': 104.0, 'FAG_20_SUNTM_4_FLPOP_CO': 103.0, 'FAG_20_SUNTM_5_FLPOP_CO': 143.0, 'FAG_20_SUNTM_6_FLPOP_CO': 101.0, 'FAG_30_MONTM_1_FLPOP_CO': 31.0, 'FAG_30_MONTM_2_FLPOP_CO': 110.0, 'FAG_30_MONTM_3_FLPOP_CO': 112.0, 'FAG_30_MONTM_4_FLPOP_CO': 110.0, 'FAG_30_MONTM_5_FLPOP_CO': 152.0, 'FAG_30_MONTM_6_FLPOP_CO': 93.0, 'FAG_30_TUETM_1_FLPOP_CO': 62.0, 'FAG_30_TUETM_2_FLPOP_CO': 102.0, 'FAG_30_TUETM_3_FLPOP_CO': 108.0, 'FAG_30_TUETM_4_FLPOP_CO': 110.0, 'FAG_30_TUETM_5_FLPOP_CO': 147.0, 'FAG_30_TUETM_6_FLPOP_CO': 82.0, 'FAG_30_WEDTM_1_FLPOP_CO': 78.0, 'FAG_30_WEDTM_2_FLPOP_CO': 103.0, 'FAG_30_WEDTM_3_FLPOP_CO': 105.0, 'FAG_30_WEDTM_4_FLPOP_CO': 110.0, 'FAG_30_WEDTM_5_FLPOP_CO': 150.0, 'FAG_30_WEDTM_6_FLPOP_CO': 87.0, 'FAG_30_THUTM_1_FLPOP_CO': 61.0, 'FAG_30_THUTM_2_FLPOP_CO': 94.0, 'FAG_30_THUTM_3_FLPOP_CO': 106.0, 'FAG_30_THUTM_4_FLPOP_CO': 110.0, 'FAG_30_THUTM_5_FLPOP_CO': 149.0, 'FAG_30_THUTM_6_FLPOP_CO': 83.0, 'FAG_30_FRITM_1_FLPOP_CO': 69.0, 'FAG_30_FRITM_2_FLPOP_CO': 84.0, 'FAG_30_FRITM_3_FLPOP_CO': 108.0, 'FAG_30_FRITM_4_FLPOP_CO': 112.0, 'FAG_30_FRITM_5_FLPOP_CO': 152.0, 'FAG_30_FRITM_6_FLPOP_CO': 101.0, 'FAG_30_SATTM_1_FLPOP_CO': 74.0, 'FAG_30_SATTM_2_FLPOP_CO': 91.0, 'FAG_30_SATTM_3_FLPOP_CO': 108.0, 'FAG_30_SATTM_4_FLPOP_CO': 107.0, 'FAG_30_SATTM_5_FLPOP_CO': 151.0, 'FAG_30_SATTM_6_FLPOP_CO': 91.0, 'FAG_30_SUNTM_1_FLPOP_CO': 82.0, 'FAG_30_SUNTM_2_FLPOP_CO': 98.0, 'FAG_30_SUNTM_3_FLPOP_CO': 123.0, 'FAG_30_SUNTM_4_FLPOP_CO': 109.0, 'FAG_30_SUNTM_5_FLPOP_CO': 149.0, 'FAG_30_SUNTM_6_FLPOP_CO': 86.0, 'FAG_40_MONTM_1_FLPOP_CO': 51.0, 'FAG_40_MONTM_2_FLPOP_CO': 83.0, 'FAG_40_MONTM_3_FLPOP_CO': 113.0, 'FAG_40_MONTM_4_FLPOP_CO': 113.0, 'FAG_40_MONTM_5_FLPOP_CO': 160.0, 'FAG_40_MONTM_6_FLPOP_CO': 92.0, 'FAG_40_TUETM_1_FLPOP_CO': 87.0, 'FAG_40_TUETM_2_FLPOP_CO': 105.0, 'FAG_40_TUETM_3_FLPOP_CO': 110.0, 'FAG_40_TUETM_4_FLPOP_CO': 115.0, 'FAG_40_TUETM_5_FLPOP_CO': 162.0, 'FAG_40_TUETM_6_FLPOP_CO': 97.0, 'FAG_40_WEDTM_1_FLPOP_CO': 82.0, 'FAG_40_WEDTM_2_FLPOP_CO': 100.0, 'FAG_40_WEDTM_3_FLPOP_CO': 112.0, 'FAG_40_WEDTM_4_FLPOP_CO': 115.0, 'FAG_40_WEDTM_5_FLPOP_CO': 188.0, 'FAG_40_WEDTM_6_FLPOP_CO': 111.0, 'FAG_40_THUTM_1_FLPOP_CO': 73.0, 'FAG_40_THUTM_2_FLPOP_CO': 92.0, 'FAG_40_THUTM_3_FLPOP_CO': 110.0, 'FAG_40_THUTM_4_FLPOP_CO': 113.0, 'FAG_40_THUTM_5_FLPOP_CO': 162.0, 'FAG_40_THUTM_6_FLPOP_CO': 110.0, 'FAG_40_FRITM_1_FLPOP_CO': 80.0, 'FAG_40_FRITM_2_FLPOP_CO': 89.0, 'FAG_40_FRITM_3_FLPOP_CO': 111.0, 'FAG_40_FRITM_4_FLPOP_CO': 114.0, 'FAG_40_FRITM_5_FLPOP_CO': 195.0, 'FAG_40_FRITM_6_FLPOP_CO': 121.0, 'FAG_40_SATTM_1_FLPOP_CO': 89.0, 'FAG_40_SATTM_2_FLPOP_CO': 103.0, 'FAG_40_SATTM_3_FLPOP_CO': 123.0, 'FAG_40_SATTM_4_FLPOP_CO': 114.0, 'FAG_40_SATTM_5_FLPOP_CO': 197.0, 'FAG_40_SATTM_6_FLPOP_CO': 103.0, 'FAG_40_SUNTM_1_FLPOP_CO': 67.0, 'FAG_40_SUNTM_2_FLPOP_CO': 105.0, 'FAG_40_SUNTM_3_FLPOP_CO': 125.0, 'FAG_40_SUNTM_4_FLPOP_CO': 132.0, 'FAG_40_SUNTM_5_FLPOP_CO': 170.0, 'FAG_40_SUNTM_6_FLPOP_CO': 87.0, 'FAG_50_MONTM_1_FLPOP_CO': 86.0, 'FAG_50_MONTM_2_FLPOP_CO': 118.0, 'FAG_50_MONTM_3_FLPOP_CO': 122.0, 'FAG_50_MONTM_4_FLPOP_CO': 151.0, 'FAG_50_MONTM_5_FLPOP_CO': 188.0, 'FAG_50_MONTM_6_FLPOP_CO': 85.0, 'FAG_50_TUETM_1_FLPOP_CO': 76.0, 'FAG_50_TUETM_2_FLPOP_CO': 105.0, 'FAG_50_TUETM_3_FLPOP_CO': 113.0, 'FAG_50_TUETM_4_FLPOP_CO': 125.0, 'FAG_50_TUETM_5_FLPOP_CO': 172.0, 'FAG_50_TUETM_6_FLPOP_CO': 70.0, 'FAG_50_WEDTM_1_FLPOP_CO': 82.0, 'FAG_50_WEDTM_2_FLPOP_CO': 99.0, 'FAG_50_WEDTM_3_FLPOP_CO': 130.0, 'FAG_50_WEDTM_4_FLPOP_CO': 128.0, 'FAG_50_WEDTM_5_FLPOP_CO': 214.0, 'FAG_50_WEDTM_6_FLPOP_CO': 87.0, 'FAG_50_THUTM_1_FLPOP_CO': 81.0, 'FAG_50_THUTM_2_FLPOP_CO': 101.0, 'FAG_50_THUTM_3_FLPOP_CO': 134.0, 'FAG_50_THUTM_4_FLPOP_CO': 132.0, 'FAG_50_THUTM_5_FLPOP_CO': 171.0, 'FAG_50_THUTM_6_FLPOP_CO': 70.0, 'FAG_50_FRITM_1_FLPOP_CO': 70.0, 'FAG_50_FRITM_2_FLPOP_CO': 88.0, 'FAG_50_FRITM_3_FLPOP_CO': 130.0, 'FAG_50_FRITM_4_FLPOP_CO': 131.0, 'FAG_50_FRITM_5_FLPOP_CO': 186.0, 'FAG_50_FRITM_6_FLPOP_CO': 94.0, 'FAG_50_SATTM_1_FLPOP_CO': 65.0, 'FAG_50_SATTM_2_FLPOP_CO': 103.0, 'FAG_50_SATTM_3_FLPOP_CO': 120.0, 'FAG_50_SATTM_4_FLPOP_CO': 120.0, 'FAG_50_SATTM_5_FLPOP_CO': 182.0, 'FAG_50_SATTM_6_FLPOP_CO': 97.0, 'FAG_50_SUNTM_1_FLPOP_CO': 81.0, 'FAG_50_SUNTM_2_FLPOP_CO': 129.0, 'FAG_50_SUNTM_3_FLPOP_CO': 133.0, 'FAG_50_SUNTM_4_FLPOP_CO': 123.0, 'FAG_50_SUNTM_5_FLPOP_CO': 154.0, 'FAG_50_SUNTM_6_FLPOP_CO': 76.0, 'FAG_60_ABOVE_MONTM_1_FLPOP_CO': 26.0, 'FAG_60_ABOVE_MONTM_2_FLPOP_CO': 100.0, 'FAG_60_ABOVE_MONTM_3_FLPOP_CO': 137.0, 'FAG_60_ABOVE_MONTM_4_FLPOP_CO': 142.0, 'FAG_60_ABOVE_MONTM_5_FLPOP_CO': 140.0, 'FAG_60_ABOVE_MONTM_6_FLPOP_CO': 37.0, 'FAG_60_ABOVE_TUETM_1_FLPOP_CO': 30.0, 'FAG_60_ABOVE_TUETM_2_FLPOP_CO': 110.0, 'FAG_60_ABOVE_TUETM_3_FLPOP_CO': 117.0, 'FAG_60_ABOVE_TUETM_4_FLPOP_CO': 113.0, 'FAG_60_ABOVE_TUETM_5_FLPOP_CO': 132.0, 'FAG_60_ABOVE_TUETM_6_FLPOP_CO': 30.0, 'FAG_60_ABOVE_WEDTM_1_FLPOP_CO': 36.0, 'FAG_60_ABOVE_WEDTM_2_FLPOP_CO': 109.0, 'FAG_60_ABOVE_WEDTM_3_FLPOP_CO': 115.0, 'FAG_60_ABOVE_WEDTM_4_FLPOP_CO': 112.0, 'FAG_60_ABOVE_WEDTM_5_FLPOP_CO': 143.0, 'FAG_60_ABOVE_WEDTM_6_FLPOP_CO': 30.0, 'FAG_60_ABOVE_THUTM_1_FLPOP_CO': 24.0, 'FAG_60_ABOVE_THUTM_2_FLPOP_CO': 93.0, 'FAG_60_ABOVE_THUTM_3_FLPOP_CO': 114.0, 'FAG_60_ABOVE_THUTM_4_FLPOP_CO': 114.0, 'FAG_60_ABOVE_THUTM_5_FLPOP_CO': 144.0, 'FAG_60_ABOVE_THUTM_6_FLPOP_CO': 31.0, 'FAG_60_ABOVE_FRITM_1_FLPOP_CO': 29.0, 'FAG_60_ABOVE_FRITM_2_FLPOP_CO': 94.0, 'FAG_60_ABOVE_FRITM_3_FLPOP_CO': 117.0, 'FAG_60_ABOVE_FRITM_4_FLPOP_CO': 114.0, 'FAG_60_ABOVE_FRITM_5_FLPOP_CO': 147.0, 'FAG_60_ABOVE_FRITM_6_FLPOP_CO': 54.0, 'FAG_60_ABOVE_SATTM_1_FLPOP_CO': 10.0, 'FAG_60_ABOVE_SATTM_2_FLPOP_CO': 74.0, 'FAG_60_ABOVE_SATTM_3_FLPOP_CO': 115.0, 'FAG_60_ABOVE_SATTM_4_FLPOP_CO': 115.0, 'FAG_60_ABOVE_SATTM_5_FLPOP_CO': 139.0, 'FAG_60_ABOVE_SATTM_6_FLPOP_CO': 56.0, 'FAG_60_ABOVE_SUNTM_1_FLPOP_CO': 50.0, 'FAG_60_ABOVE_SUNTM_2_FLPOP_CO': 120.0, 'FAG_60_ABOVE_SUNTM_3_FLPOP_CO': 105.0, 'FAG_60_ABOVE_SUNTM_4_FLPOP_CO': 109.0, 'FAG_60_ABOVE_SUNTM_5_FLPOP_CO': 133.0, 'FAG_60_ABOVE_SUNTM_6_FLPOP_CO': 31.0}]}}\n"
     ]
    }
   ],
   "source": [
    "print (trade)"
   ]
  },
  {
   "cell_type": "markdown",
   "metadata": {},
   "source": [
    "위 항목 가운데 'TRDAR_CD', 'TRDAR_CD_NM', 'TOT_FLPOP_CO', 'ML_FLPOP_CO', 'FML_FLPOP_CO'만 선택하여 출력해보자."
   ]
  },
  {
   "cell_type": "code",
   "execution_count": 6,
   "metadata": {
    "scrolled": true
   },
   "outputs": [
    {
     "name": "stdout",
     "output_type": "stream",
     "text": [
      "1000665 독산로78다길 126387.0 63047.0 63339.0\n",
      "1000684 경인로77길 88535.0 56169.0 32361.0\n",
      "1001438 우리시장 37397.0 17333.0 20064.0\n",
      "1000751 사당로23나길 37872.0 17695.0 20176.0\n",
      "1001317 청량리농수산물시장 16591.0 8933.0 7658.0\n",
      "1000428 증산서길 63370.0 32285.0 31088.0\n",
      "1000645 부일로11길 30997.0 15035.0 15963.0\n",
      "1000663 독산로64길 56797.0 29467.0 27329.0\n",
      "1001297 뚝도시장 36458.0 21109.0 15350.0\n",
      "1001420 고척근린시장 50021.0 26396.0 23626.0\n"
     ]
    }
   ],
   "source": [
    "for e in trade['VwsmTrdarFlpopQq']['row']:\n",
    "    print (e['TRDAR_CD'], e['TRDAR_CD_NM'], e['TOT_FLPOP_CO'], e['ML_FLPOP_CO'], e['FML_FLPOP_CO'])"
   ]
  },
  {
   "cell_type": "markdown",
   "metadata": {},
   "source": [
    "### 프로그램"
   ]
  },
  {
   "cell_type": "code",
   "execution_count": 70,
   "metadata": {},
   "outputs": [
    {
     "name": "stdout",
     "output_type": "stream",
     "text": [
      "Overwriting src/ds_open_trade_json.py\n"
     ]
    }
   ],
   "source": [
    "%%writefile src/ds_open_trade_json.py\n",
    "#!/usr/bin/env python\n",
    "# coding: utf-8\n",
    "import os\n",
    "import requests\n",
    "import urllib\n",
    "import mylib\n",
    "\n",
    "def doIt():\n",
    "    keyPath=os.path.join(os.getcwd(), 'src', 'key.properties')\n",
    "    key=mylib.getKey(keyPath)\n",
    "    # (1) make params with resource IDs\n",
    "    KEY=key['dataseoul']\n",
    "    TYPE='json'\n",
    "    SERVICE='VwsmTrdarFlpopQq'\n",
    "    START_INDEX=str(1)\n",
    "    END_INDEX=str(10)\n",
    "    STDR_YM_CD=str(2017)\n",
    "    params=os.path.join(KEY,TYPE,SERVICE,START_INDEX,END_INDEX,STDR_YM_CD)\n",
    "    # (2) make a full url\n",
    "    _url='http://openAPI.seoul.go.kr:8088'\n",
    "    #url=urllib.parse.urljoin(_url,params)\n",
    "    url=\"/\".join([_url,params])\n",
    "    # (3) get data\n",
    "    r=requests.get(url)\n",
    "    trade=r.json()\n",
    "    for e in trade['VwsmTrdarFlpopQq']['row']:\n",
    "        #print(e['TRDAR_CD_NM'])\n",
    "        print (e['TRDAR_CD'], e['TRDAR_CD_NM'], e['TOT_FLPOP_CO'], e['ML_FLPOP_CO'], e['FML_FLPOP_CO'])\n",
    "    #for e in stations['SearchSTNBySubwayLineService']['row']:\n",
    "        #print e['STATION_CD'], e['STATION_NM'], e['FR_CODE'], e['LINE_NUM']\n",
    "\n",
    "if __name__ == \"__main__\":\n",
    "    doIt()"
   ]
  },
  {
   "cell_type": "code",
   "execution_count": 71,
   "metadata": {},
   "outputs": [
    {
     "name": "stdout",
     "output_type": "stream",
     "text": [
      "1000665 독산로78다길 126387.0 63047.0 63339.0\n",
      "1000684 경인로77길 88535.0 56169.0 32361.0\n",
      "1001438 우리시장 37397.0 17333.0 20064.0\n",
      "1000751 사당로23나길 37872.0 17695.0 20176.0\n",
      "1001317 청량리농수산물시장 16591.0 8933.0 7658.0\n",
      "1000428 증산서길 63370.0 32285.0 31088.0\n",
      "1000645 부일로11길 30997.0 15035.0 15963.0\n",
      "1000663 독산로64길 56797.0 29467.0 27329.0\n",
      "1001297 뚝도시장 36458.0 21109.0 15350.0\n",
      "1001420 고척근린시장 50021.0 26396.0 23626.0\n"
     ]
    }
   ],
   "source": [
    "!python3 src/ds_open_trade_json.py"
   ]
  },
  {
   "cell_type": "markdown",
   "metadata": {
    "slideshow": {
     "slide_type": "slide"
    }
   },
   "source": [
    "## 문제 9: 공공데이터포털 서울시 구별 교통사고 사망자 수\n",
    "\n",
    "공공데이터포털에서 '도로교통공단_사망교통사고정보서비스'를 검색해보자. 사망교통사고 ```AccidentDeath API```를 사용해서 교통사고 사망자 수를 구해보자.\n",
    "이 데이터는 1년에 1회 갱신되는, 년별 집계를 한다.\n",
    "사망교통사고 API는 다음 2가지가 있다.\n",
    "- ```getRestTrafficAccidentDeath``` 사망교통사고정보 Rest 조회\n",
    "- ```getWMSTrafficAccidentDeath``` 사망교통사고정보 WMS 조회 (PNG 이미지를 조회)\n",
    "\n",
    "```AccidentDeath API``` 호출에 필요한 인자는 다음과 같다.\n",
    "\n",
    "변수명 | 설명 \n",
    "-----|-----\n",
    "serviceKey | 공공데이터포털에서 발급받은 인증키\n",
    "searchYear | 조회하려는 연도 (예: 2019)\n",
    "siDo | 법정동 시도코드\n",
    "guGun | 법정동 시군구코드\n",
    "type | 결과형식 (xml, json)\n",
    "numOfRows | 한 페이지 결과 수 (Default: 10)\n",
    "pageNo | 페이지 번호 (Default: 1)"
   ]
  },
  {
   "cell_type": "markdown",
   "metadata": {
    "slideshow": {
     "slide_type": "slide"
    }
   },
   "source": [
    "* '사망교통사고정보서비스' 서비스 예:\n",
    "\n",
    "http://apis.data.go.kr/B552061/AccidentDeath/오퍼레이션명?servicekey=서비스키&searchYear=연도코드&siDo=법정동시도코드&guGun=법정동시군구코드&numOfRows=20&pageNo=1 형식으로 만들어준다.\n",
    "\n",
    "* 예제 url은:\n",
    "\n",
    "http://apis.data.go.kr/B552061/AccidentDeath/getRestTrafficAccidentDeath?servicekey=서비스키&searchYear=2020&siDo=1100&guGun=1116&numOfRows=20&pageNo=1"
   ]
  },
  {
   "cell_type": "markdown",
   "metadata": {},
   "source": [
    "### 인증키\n",
    "\n",
    "공공데이터포털에서 발급받은 인증키가 있어야 한다. 1시간이 지나야 사용할 수 있다고 공지해 놓고 있다. 개발 계정 신청이 승인 되었을 경우 인증키를 발급받을수 있다. 또한 해당 API에 대한 활용신청이 완료되어야 한다."
   ]
  },
  {
   "cell_type": "code",
   "execution_count": 21,
   "metadata": {
    "collapsed": true,
    "jupyter": {
     "outputs_hidden": true
    }
   },
   "outputs": [],
   "source": [
    "import os\n",
    "from src import mylib\n",
    "keyPath=os.path.join(os.getcwd(), 'src', 'key.properties')\n",
    "key=mylib.getKey(keyPath)"
   ]
  },
  {
   "cell_type": "markdown",
   "metadata": {},
   "source": [
    "### API"
   ]
  },
  {
   "cell_type": "code",
   "execution_count": 24,
   "metadata": {
    "slideshow": {
     "slide_type": "subslide"
    }
   },
   "outputs": [
    {
     "name": "stdout",
     "output_type": "stream",
     "text": [
      "AccidentDeath/getRestTrafficAccidentDeath\n"
     ]
    }
   ],
   "source": [
    "import os\n",
    "SERVICE='AccidentDeath'\n",
    "OPERATION_NAME='getRestTrafficAccidentDeath'\n",
    "params1=os.path.join(SERVICE,OPERATION_NAME)\n",
    "print (params1)"
   ]
  },
  {
   "cell_type": "markdown",
   "metadata": {},
   "source": [
    "### 인자\n",
    "\n",
    "utf-8을 사용한다. 키에는 인코딩 없이는 넘길 수 없는 문자들이 포함될 수 있어서, UTF-8 인코딩 필요하다.\n",
    "urllib.urlencode()를 사용할 경우, 키에 포함된 '%'문자와 같은 특수문자를 주의한다."
   ]
  },
  {
   "cell_type": "code",
   "execution_count": 25,
   "metadata": {
    "scrolled": true,
    "slideshow": {
     "slide_type": "subslide"
    }
   },
   "outputs": [
    {
     "name": "stdout",
     "output_type": "stream",
     "text": [
      "searchYear=2020&siDo=1100&guGun=1116&numOfRows=20&pageNo=1\n"
     ]
    }
   ],
   "source": [
    "import urllib\n",
    "_d=dict()\n",
    "_d['searchYear']='2020'\n",
    "_d['siDo']='1100' #서울특별시\n",
    "_d['guGun']='1116'\n",
    "_d['numOfRows']='20'\n",
    "_d['pageNo']='1'\n",
    "#params2=urllib.urlencode(_d)\n",
    "#params2=urllib.parse.urlencode(_d).encode(\"utf-8\")\n",
    "params2=urllib.parse.urlencode(_d)\n",
    "print (params2)"
   ]
  },
  {
   "cell_type": "markdown",
   "metadata": {
    "slideshow": {
     "slide_type": "subslide"
    }
   },
   "source": [
    "### url\n",
    "\n",
    "* urlencode()에 넣지 않고 별도로 param을 만든다."
   ]
  },
  {
   "cell_type": "code",
   "execution_count": 22,
   "metadata": {},
   "outputs": [],
   "source": [
    "params=params1+'?'+'serviceKey='+key['gokr']+'&'+params2\n",
    "#print params"
   ]
  },
  {
   "cell_type": "markdown",
   "metadata": {},
   "source": [
    "* service key는 '%'와 같이 encoding문제가 발생할 수 있는 문자를 가지고 있다.\n",
    "아래에 만들어진 url을 클릭하면, 웹페이지가 열리면서 결과가 출력된다."
   ]
  },
  {
   "cell_type": "code",
   "execution_count": 23,
   "metadata": {
    "slideshow": {
     "slide_type": "subslide"
    }
   },
   "outputs": [
    {
     "name": "stdout",
     "output_type": "stream",
     "text": [
      "http://apis.data.go.kr/B552061/AccidentDeath/getRestTrafficAccidentDeath?serviceKey=8Bx4C1%2Bbogiu3i0M5k7aqOf%2BTA5yCWK%2BFDI7nTSJ0oAhDj1NC5CtbI1TMgFmnpuZxJ9LBoCScqBhuw5sul2tmQ%3D%3D&searchYear=2020&siDo=1100&guGun=1116&numOfRows=20&pageNo=1\n"
     ]
    }
   ],
   "source": [
    "import urllib\n",
    "_url='http://apis.data.go.kr/B552061/'\n",
    "url=urllib.parse.urljoin(_url,params)\n",
    "print (url)"
   ]
  },
  {
   "cell_type": "markdown",
   "metadata": {},
   "source": [
    "### 데이터 가져오기"
   ]
  },
  {
   "cell_type": "code",
   "execution_count": 26,
   "metadata": {
    "slideshow": {
     "slide_type": "subslide"
    }
   },
   "outputs": [],
   "source": [
    "import requests\n",
    "\n",
    "data=requests.get(url).text\n",
    "#print data"
   ]
  },
  {
   "cell_type": "markdown",
   "metadata": {},
   "source": [
    "* 출력\n",
    "    * 년월일, 사망자수, 위도, 경도\n",
    "```\n",
    "<response>\n",
    "    <header>\n",
    "        <resultCode>00</resultCode>                  # 결과코드\n",
    "        <resultMsg>NORMAL_CODE</resultMsg>           # 결과메시지\n",
    "    </header>\n",
    "    <body>\n",
    "        <items>\n",
    "            <item>\n",
    "                <acc_year>2020</acc_year>             # 사고년도\n",
    "                <occrrnc_dt>2020010105</occrrnc_dt>   # 발생월일시\n",
    "                <dght_cd>2</dght_cd>                  # 주야구분코드\n",
    "                <occrrnc_day_cd>4</occrrnc_day_cd>    # 발생요일코드\n",
    "                <dth_dnv_cnt>1</dth_dnv_cnt>          # 사망자수\n",
    "                <injpsn_cnt>1</injpsn_cnt>            # 부상자수\n",
    "                <se_dnv_cnt>0</se_dnv_cnt>            # 중상자수\n",
    "                <sl_dnv_cnt>0</sl_dnv_cnt>            # 경상자수\n",
    "                <wnd_dnv_cnt>0</wnd_dnv_cnt>          # 부상신고자수\n",
    "                ...\n",
    "                <occrrnc_lc_x_crd>959928  </occrrnc_lc_x_crd> # 발생위치X좌표\n",
    "                <occrrnc_lc_y_crd>1943154 </occrrnc_lc_y_crd> # 발생위치X좌표\n",
    "                <lo_crd>127.04672718</lo_crd>                 # 경도좌표\n",
    "                <la_crd>37.48676083</la_crd>                  # 위도좌표\n",
    "            </item>\n",
    "            <item>\n",
    "            ...\n",
    "            </item>\n",
    "            ...\n",
    "         </items>\n",
    "         <totalCount>17</totalCount>\n",
    "         <numOfRows>17</numOfRows>\n",
    "         <pageNo>1</pageNo>\n",
    "    </body>\n",
    "</response>\n",
    "```"
   ]
  },
  {
   "cell_type": "code",
   "execution_count": 29,
   "metadata": {},
   "outputs": [
    {
     "name": "stdout",
     "output_type": "stream",
     "text": [
      "<response>\n",
      "    <header>\n",
      "        <resultCode>00</resultCode>\n",
      "        <resultMsg>NORMAL_CODE</resultMsg>\n",
      "    </header>\n",
      "    <body>\n",
      "        <items>\n",
      "            <item>\n",
      "                <acc_year>2020</acc_year>\n",
      "                <occrrnc_dt>2020010105</occrrnc_dt>\n",
      "                <dght_cd>2</dght_cd>\n",
      "                <occrrnc_day_cd>4</occrrnc_day_cd>\n",
      "                <dth_dnv_cnt>1</dth_dnv_cnt>\n",
      "                <injpsn_cnt>1</injpsn_cnt>\n",
      "                <se_dnv_cnt>0</se_dnv_cnt>\n",
      "                <sl_dnv_cnt>0</sl_dnv_cnt>\n",
      "                <wnd_dnv_cnt>0</wnd_dnv_cnt>\n",
      "                <occrrnc_lc_sido_cd>1100</occrrnc_lc_sido_cd>\n",
      "                <occrrnc_lc_sgg_cd>1116</occrrnc_lc_sgg_cd>\n",
      "                <acc_ty_lclas_cd>01</acc_ty_lclas_cd>\n",
      "                <acc_ty_mlsfc_cd>12</acc_ty_mlsfc_cd>\n",
      "                <acc_ty_cd>02</acc_ty_cd>\n",
      "                <aslt_vtr_cd>05 </aslt_vtr_cd>\n",
      "                <road_frm_lclas_cd>01</road_frm_lclas_cd>\n",
      "                <road_frm_cd>05</road_frm_cd>\n",
      "                <wrngdo_isrty_vhcty_lclas_cd>01</wrngdo_isrty_vhcty_lclas_cd>\n",
      "                <dmge_isrty_vhcty_lclas_cd>12</dmge_isrty_vhcty_lclas_cd>\n",
      "                <occrrnc_lc_x_crd>959928  </occrrnc_lc_x_crd>\n",
      "                <occrrnc_lc_y_crd>1943154 </occrrnc_lc_y_crd>\n",
      "                <lo_crd>127.04672718</lo_crd>\n",
      "                <la_crd>37.48676083</la_crd>\n",
      "            </item>\n",
      "            <item>\n",
      "                <acc_year>2020</acc_year>\n",
      "                <occrrnc_dt>2020011004</occrrnc_dt>\n",
      "                <dght_cd>2</dght_cd>\n",
      "                <occrrnc_day_cd>6</occrrnc_day_cd>\n",
      "                <dth_dnv_cnt>1</dth_dnv_cnt>\n",
      "                <injpsn_cnt>1</injpsn_cnt>\n",
      "                <se_dnv_cnt>0</se_dnv_cnt>\n",
      "                <sl_dnv_cnt>0</sl_dnv_cnt>\n",
      "                <wnd_dnv_cnt>0</wnd_dnv_cnt>\n",
      "                <occrrnc_lc_sido_cd>1100</occrrnc_lc_sido_cd>\n",
      "                <occrrnc_lc_sgg_cd>1116</occrrnc_lc_sgg_cd>\n",
      "                <acc_ty_lclas_cd>01</acc_ty_lclas_cd>\n",
      "                <acc_ty_mlsfc_cd>11</acc_ty_mlsfc_cd>\n",
      "                <acc_ty_cd>01</acc_ty_cd>\n",
      "                <aslt_vtr_cd>05 </aslt_vtr_cd>\n",
      "                <road_frm_lclas_cd>01</road_frm_lclas_cd>\n",
      "                <road_frm_cd>05</road_frm_cd>\n",
      "                <wrngdo_isrty_vhcty_lclas_cd>03</wrngdo_isrty_vhcty_lclas_cd>\n",
      "                <dmge_isrty_vhcty_lclas_cd>12</dmge_isrty_vhcty_lclas_cd>\n",
      "                <occrrnc_lc_x_crd>964658  </occrrnc_lc_x_crd>\n",
      "                <occrrnc_lc_y_crd>1943332 </occrrnc_lc_y_crd>\n",
      "                <lo_crd>127.10031827</lo_crd>\n",
      "                <la_crd>37.48847939</la_crd>\n",
      "            </item>\n",
      "            <item>\n",
      "                <acc_year>2020</acc_year>\n",
      "                <occrrnc_dt>2020011711</occrrnc_dt>\n",
      "                <dght_cd>1</dght_cd>\n",
      "                <occrrnc_day_cd>6</occrrnc_day_cd>\n",
      "                <dth_dnv_cnt>1</dth_dnv_cnt>\n",
      "                <injpsn_cnt>2</injpsn_cnt>\n",
      "                <se_dnv_cnt>0</se_dnv_cnt>\n",
      "                <sl_dnv_cnt>1</sl_dnv_cnt>\n",
      "                <wnd_dnv_cnt>0</wnd_dnv_cnt>\n",
      "                <occrrnc_lc_sido_cd>1100</occrrnc_lc_sido_cd>\n",
      "                <occrrnc_lc_sgg_cd>1116</occrrnc_lc_sgg_cd>\n",
      "                <acc_ty_lclas_cd>01</acc_ty_lclas_cd>\n",
      "                <acc_ty_mlsfc_cd>11</acc_ty_mlsfc_cd>\n",
      "                <acc_ty_cd>01</acc_ty_cd>\n",
      "                <aslt_vtr_cd>03 </aslt_vtr_cd>\n",
      "                <road_frm_lclas_cd>02</road_frm_lclas_cd>\n",
      "                <road_frm_cd>07</road_frm_cd>\n",
      "                <wrngdo_isrty_vhcty_lclas_cd>05</wrngdo_isrty_vhcty_lclas_cd>\n",
      "                <dmge_isrty_vhcty_lclas_cd>12</dmge_isrty_vhcty_lclas_cd>\n",
      "                <occrrnc_lc_x_crd>961578  </occrrnc_lc_x_crd>\n",
      "                <occrrnc_lc_y_crd>1945139 </occrrnc_lc_y_crd>\n",
      "                <lo_crd>127.06521512</lo_crd>\n",
      "                <la_crd>37.50480795</la_crd>\n",
      "            </item>\n",
      "            <item>\n",
      "                <acc_year>2020</acc_year>\n",
      "                <occrrnc_dt>2020021120</occrrnc_dt>\n",
      "                <dght_cd>2</dght_cd>\n",
      "                <occrrnc_day_cd>3</occrrnc_day_cd>\n",
      "                <dth_dnv_cnt>1</dth_dnv_cnt>\n",
      "                <injpsn_cnt>1</injpsn_cnt>\n",
      "                <se_dnv_cnt>0</se_dnv_cnt>\n",
      "                <sl_dnv_cnt>0</sl_dnv_cnt>\n",
      "                <wnd_dnv_cnt>0</wnd_dnv_cnt>\n",
      "                <occrrnc_lc_sido_cd>1100</occrrnc_lc_sido_cd>\n",
      "                <occrrnc_lc_sgg_cd>1116</occrrnc_lc_sgg_cd>\n",
      "                <acc_ty_lclas_cd>02</acc_ty_lclas_cd>\n",
      "                <acc_ty_mlsfc_cd>21</acc_ty_mlsfc_cd>\n",
      "                <acc_ty_cd>21</acc_ty_cd>\n",
      "                <aslt_vtr_cd>05 </aslt_vtr_cd>\n",
      "                <road_frm_lclas_cd>02</road_frm_lclas_cd>\n",
      "                <road_frm_cd>06</road_frm_cd>\n",
      "                <wrngdo_isrty_vhcty_lclas_cd>01</wrngdo_isrty_vhcty_lclas_cd>\n",
      "                <dmge_isrty_vhcty_lclas_cd>05</dmge_isrty_vhcty_lclas_cd>\n",
      "                <occrrnc_lc_x_crd>958317  </occrrnc_lc_x_crd>\n",
      "                <occrrnc_lc_y_crd>1947708 </occrrnc_lc_y_crd>\n",
      "                <lo_crd>127.02845745</lo_crd>\n",
      "                <la_crd>37.52752443</la_crd>\n",
      "            </item>\n",
      "            <item>\n",
      "                <acc_year>2020</acc_year>\n",
      "                <occrrnc_dt>2020021500</occrrnc_dt>\n",
      "                <dght_cd>2</dght_cd>\n",
      "                <occrrnc_day_cd>7</occrrnc_day_cd>\n",
      "                <dth_dnv_cnt>1</dth_dnv_cnt>\n",
      "                <injpsn_cnt>2</injpsn_cnt>\n",
      "                <se_dnv_cnt>0</se_dnv_cnt>\n",
      "                <sl_dnv_cnt>1</sl_dnv_cnt>\n",
      "                <wnd_dnv_cnt>0</wnd_dnv_cnt>\n",
      "                <occrrnc_lc_sido_cd>1100</occrrnc_lc_sido_cd>\n",
      "                <occrrnc_lc_sgg_cd>1116</occrrnc_lc_sgg_cd>\n",
      "                <acc_ty_lclas_cd>01</acc_ty_lclas_cd>\n",
      "                <acc_ty_mlsfc_cd>11</acc_ty_mlsfc_cd>\n",
      "                <acc_ty_cd>01</acc_ty_cd>\n",
      "                <aslt_vtr_cd>05 </aslt_vtr_cd>\n",
      "                <road_frm_lclas_cd>01</road_frm_lclas_cd>\n",
      "                <road_frm_cd>05</road_frm_cd>\n",
      "                <wrngdo_isrty_vhcty_lclas_cd>05</wrngdo_isrty_vhcty_lclas_cd>\n",
      "                <dmge_isrty_vhcty_lclas_cd>12</dmge_isrty_vhcty_lclas_cd>\n",
      "                <occrrnc_lc_x_crd>960501  </occrrnc_lc_x_crd>\n",
      "                <occrrnc_lc_y_crd>1947375 </occrrnc_lc_y_crd>\n",
      "                <lo_crd>127.05270573</lo_crd>\n",
      "                <la_crd>37.52479842</la_crd>\n",
      "            </item>\n",
      "            <item>\n",
      "                <acc_year>2020</acc_year>\n",
      "                <occrrnc_dt>2020032815</occrrnc_dt>\n",
      "                <dght_cd>1</dght_cd>\n",
      "                <occrrnc_day_cd>7</occrrnc_day_cd>\n",
      "                <dth_dnv_cnt>1</dth_dnv_cnt>\n",
      "                <injpsn_cnt>1</injpsn_cnt>\n",
      "                <se_dnv_cnt>0</se_dnv_cnt>\n",
      "                <sl_dnv_cnt>0</sl_dnv_cnt>\n",
      "                <wnd_dnv_cnt>0</wnd_dnv_cnt>\n",
      "                <occrrnc_lc_sido_cd>1100</occrrnc_lc_sido_cd>\n",
      "                <occrrnc_lc_sgg_cd>1116</occrrnc_lc_sgg_cd>\n",
      "                <acc_ty_lclas_cd>02</acc_ty_lclas_cd>\n",
      "                <acc_ty_mlsfc_cd>24</acc_ty_mlsfc_cd>\n",
      "                <acc_ty_cd>25</acc_ty_cd>\n",
      "                <aslt_vtr_cd>03 </aslt_vtr_cd>\n",
      "                <road_frm_lclas_cd>02</road_frm_lclas_cd>\n",
      "                <road_frm_cd>06</road_frm_cd>\n",
      "                <wrngdo_isrty_vhcty_lclas_cd>05</wrngdo_isrty_vhcty_lclas_cd>\n",
      "                <dmge_isrty_vhcty_lclas_cd>01</dmge_isrty_vhcty_lclas_cd>\n",
      "                <occrrnc_lc_x_crd>959690  </occrrnc_lc_x_crd>\n",
      "                <occrrnc_lc_y_crd>1945762 </occrrnc_lc_y_crd>\n",
      "                <lo_crd>127.04389218</lo_crd>\n",
      "                <la_crd>37.51025737</la_crd>\n",
      "            </item>\n",
      "            <item>\n",
      "                <acc_year>2020</acc_year>\n",
      "                <occrrnc_dt>2020040420</occrrnc_dt>\n",
      "                <dght_cd>2</dght_cd>\n",
      "                <occrrnc_day_cd>7</occrrnc_day_cd>\n",
      "                <dth_dnv_cnt>1</dth_dnv_cnt>\n",
      "                <injpsn_cnt>1</injpsn_cnt>\n",
      "                <se_dnv_cnt>0</se_dnv_cnt>\n",
      "                <sl_dnv_cnt>0</sl_dnv_cnt>\n",
      "                <wnd_dnv_cnt>0</wnd_dnv_cnt>\n",
      "                <occrrnc_lc_sido_cd>1100</occrrnc_lc_sido_cd>\n",
      "                <occrrnc_lc_sgg_cd>1116</occrrnc_lc_sgg_cd>\n",
      "                <acc_ty_lclas_cd>02</acc_ty_lclas_cd>\n",
      "                <acc_ty_mlsfc_cd>24</acc_ty_mlsfc_cd>\n",
      "                <acc_ty_cd>25</acc_ty_cd>\n",
      "                <aslt_vtr_cd>99 </aslt_vtr_cd>\n",
      "                <road_frm_lclas_cd>05</road_frm_lclas_cd>\n",
      "                <road_frm_cd>98</road_frm_cd>\n",
      "                <wrngdo_isrty_vhcty_lclas_cd>01</wrngdo_isrty_vhcty_lclas_cd>\n",
      "                <dmge_isrty_vhcty_lclas_cd>05</dmge_isrty_vhcty_lclas_cd>\n",
      "                <occrrnc_lc_x_crd>960129  </occrrnc_lc_x_crd>\n",
      "                <occrrnc_lc_y_crd>1947002 </occrrnc_lc_y_crd>\n",
      "                <lo_crd>127.04873239</lo_crd>\n",
      "                <la_crd>37.52158529</la_crd>\n",
      "            </item>\n",
      "            <item>\n",
      "                <acc_year>2020</acc_year>\n",
      "                <occrrnc_dt>2020042622</occrrnc_dt>\n",
      "                <dght_cd>2</dght_cd>\n",
      "                <occrrnc_day_cd>1</occrrnc_day_cd>\n",
      "                <dth_dnv_cnt>1</dth_dnv_cnt>\n",
      "                <injpsn_cnt>1</injpsn_cnt>\n",
      "                <se_dnv_cnt>0</se_dnv_cnt>\n",
      "                <sl_dnv_cnt>0</sl_dnv_cnt>\n",
      "                <wnd_dnv_cnt>0</wnd_dnv_cnt>\n",
      "                <occrrnc_lc_sido_cd>1100</occrrnc_lc_sido_cd>\n",
      "                <occrrnc_lc_sgg_cd>1116</occrrnc_lc_sgg_cd>\n",
      "                <acc_ty_lclas_cd>03</acc_ty_lclas_cd>\n",
      "                <acc_ty_mlsfc_cd>35</acc_ty_mlsfc_cd>\n",
      "                <acc_ty_cd>37</acc_ty_cd>\n",
      "                <aslt_vtr_cd>05 </aslt_vtr_cd>\n",
      "                <road_frm_lclas_cd>01</road_frm_lclas_cd>\n",
      "                <road_frm_cd>05</road_frm_cd>\n",
      "                <wrngdo_isrty_vhcty_lclas_cd>05</wrngdo_isrty_vhcty_lclas_cd>\n",
      "                <dmge_isrty_vhcty_lclas_cd>##</dmge_isrty_vhcty_lclas_cd>\n",
      "                <occrrnc_lc_x_crd>958652  </occrrnc_lc_x_crd>\n",
      "                <occrrnc_lc_y_crd>1946973 </occrrnc_lc_y_crd>\n",
      "                <lo_crd>127.03187031</lo_crd>\n",
      "                <la_crd>37.52090403</la_crd>\n",
      "            </item>\n",
      "            <item>\n",
      "                <acc_year>2020</acc_year>\n",
      "                <occrrnc_dt>2020042905</occrrnc_dt>\n",
      "                <dght_cd>2</dght_cd>\n",
      "                <occrrnc_day_cd>4</occrrnc_day_cd>\n",
      "                <dth_dnv_cnt>1</dth_dnv_cnt>\n",
      "                <injpsn_cnt>3</injpsn_cnt>\n",
      "                <se_dnv_cnt>1</se_dnv_cnt>\n",
      "                <sl_dnv_cnt>1</sl_dnv_cnt>\n",
      "                <wnd_dnv_cnt>0</wnd_dnv_cnt>\n",
      "                <occrrnc_lc_sido_cd>1100</occrrnc_lc_sido_cd>\n",
      "                <occrrnc_lc_sgg_cd>1116</occrrnc_lc_sgg_cd>\n",
      "                <acc_ty_lclas_cd>02</acc_ty_lclas_cd>\n",
      "                <acc_ty_mlsfc_cd>22</acc_ty_mlsfc_cd>\n",
      "                <acc_ty_cd>22</acc_ty_cd>\n",
      "                <aslt_vtr_cd>03 </aslt_vtr_cd>\n",
      "                <road_frm_lclas_cd>02</road_frm_lclas_cd>\n",
      "                <road_frm_cd>06</road_frm_cd>\n",
      "                <wrngdo_isrty_vhcty_lclas_cd>01</wrngdo_isrty_vhcty_lclas_cd>\n",
      "                <dmge_isrty_vhcty_lclas_cd>01</dmge_isrty_vhcty_lclas_cd>\n",
      "                <occrrnc_lc_x_crd>957714  </occrrnc_lc_x_crd>\n",
      "                <occrrnc_lc_y_crd>1945882 </occrrnc_lc_y_crd>\n",
      "                <lo_crd>127.02147347</lo_crd>\n",
      "                <la_crd>37.51120884</la_crd>\n",
      "            </item>\n",
      "            <item>\n",
      "                <acc_year>2020</acc_year>\n",
      "                <occrrnc_dt>2020050923</occrrnc_dt>\n",
      "                <dght_cd>2</dght_cd>\n",
      "                <occrrnc_day_cd>7</occrrnc_day_cd>\n",
      "                <dth_dnv_cnt>1</dth_dnv_cnt>\n",
      "                <injpsn_cnt>1</injpsn_cnt>\n",
      "                <se_dnv_cnt>0</se_dnv_cnt>\n",
      "                <sl_dnv_cnt>0</sl_dnv_cnt>\n",
      "                <wnd_dnv_cnt>0</wnd_dnv_cnt>\n",
      "                <occrrnc_lc_sido_cd>1100</occrrnc_lc_sido_cd>\n",
      "                <occrrnc_lc_sgg_cd>1116</occrrnc_lc_sgg_cd>\n",
      "                <acc_ty_lclas_cd>01</acc_ty_lclas_cd>\n",
      "                <acc_ty_mlsfc_cd>13</acc_ty_mlsfc_cd>\n",
      "                <acc_ty_cd>03</acc_ty_cd>\n",
      "                <aslt_vtr_cd>05 </aslt_vtr_cd>\n",
      "                <road_frm_lclas_cd>01</road_frm_lclas_cd>\n",
      "                <road_frm_cd>05</road_frm_cd>\n",
      "                <wrngdo_isrty_vhcty_lclas_cd>01</wrngdo_isrty_vhcty_lclas_cd>\n",
      "                <dmge_isrty_vhcty_lclas_cd>12</dmge_isrty_vhcty_lclas_cd>\n",
      "                <occrrnc_lc_x_crd>960380  </occrrnc_lc_x_crd>\n",
      "                <occrrnc_lc_y_crd>1947550 </occrrnc_lc_y_crd>\n",
      "                <lo_crd>127.05163019</lo_crd>\n",
      "                <la_crd>37.52637982</la_crd>\n",
      "            </item>\n",
      "            <item>\n",
      "                <acc_year>2020</acc_year>\n",
      "                <occrrnc_dt>2020051814</occrrnc_dt>\n",
      "                <dght_cd>1</dght_cd>\n",
      "                <occrrnc_day_cd>2</occrrnc_day_cd>\n",
      "                <dth_dnv_cnt>1</dth_dnv_cnt>\n",
      "                <injpsn_cnt>1</injpsn_cnt>\n",
      "                <se_dnv_cnt>0</se_dnv_cnt>\n",
      "                <sl_dnv_cnt>0</sl_dnv_cnt>\n",
      "                <wnd_dnv_cnt>0</wnd_dnv_cnt>\n",
      "                <occrrnc_lc_sido_cd>1100</occrrnc_lc_sido_cd>\n",
      "                <occrrnc_lc_sgg_cd>1116</occrrnc_lc_sgg_cd>\n",
      "                <acc_ty_lclas_cd>02</acc_ty_lclas_cd>\n",
      "                <acc_ty_mlsfc_cd>22</acc_ty_mlsfc_cd>\n",
      "                <acc_ty_cd>22</acc_ty_cd>\n",
      "                <aslt_vtr_cd>04 </aslt_vtr_cd>\n",
      "                <road_frm_lclas_cd>01</road_frm_lclas_cd>\n",
      "                <road_frm_cd>05</road_frm_cd>\n",
      "                <wrngdo_isrty_vhcty_lclas_cd>05</wrngdo_isrty_vhcty_lclas_cd>\n",
      "                <dmge_isrty_vhcty_lclas_cd>01</dmge_isrty_vhcty_lclas_cd>\n",
      "                <occrrnc_lc_x_crd>965158  </occrrnc_lc_x_crd>\n",
      "                <occrrnc_lc_y_crd>1942078 </occrrnc_lc_y_crd>\n",
      "                <lo_crd>127.10595422</lo_crd>\n",
      "                <la_crd>37.47718981</la_crd>\n",
      "            </item>\n",
      "            <item>\n",
      "                <acc_year>2020</acc_year>\n",
      "                <occrrnc_dt>2020052723</occrrnc_dt>\n",
      "                <dght_cd>2</dght_cd>\n",
      "                <occrrnc_day_cd>4</occrrnc_day_cd>\n",
      "                <dth_dnv_cnt>1</dth_dnv_cnt>\n",
      "                <injpsn_cnt>1</injpsn_cnt>\n",
      "                <se_dnv_cnt>0</se_dnv_cnt>\n",
      "                <sl_dnv_cnt>0</sl_dnv_cnt>\n",
      "                <wnd_dnv_cnt>0</wnd_dnv_cnt>\n",
      "                <occrrnc_lc_sido_cd>1100</occrrnc_lc_sido_cd>\n",
      "                <occrrnc_lc_sgg_cd>1116</occrrnc_lc_sgg_cd>\n",
      "                <acc_ty_lclas_cd>03</acc_ty_lclas_cd>\n",
      "                <acc_ty_mlsfc_cd>35</acc_ty_mlsfc_cd>\n",
      "                <acc_ty_cd>37</acc_ty_cd>\n",
      "                <aslt_vtr_cd>05 </aslt_vtr_cd>\n",
      "                <road_frm_lclas_cd>01</road_frm_lclas_cd>\n",
      "                <road_frm_cd>05</road_frm_cd>\n",
      "                <wrngdo_isrty_vhcty_lclas_cd>05</wrngdo_isrty_vhcty_lclas_cd>\n",
      "                <dmge_isrty_vhcty_lclas_cd>##</dmge_isrty_vhcty_lclas_cd>\n",
      "                <occrrnc_lc_x_crd>960679  </occrrnc_lc_x_crd>\n",
      "                <occrrnc_lc_y_crd>1947507 </occrrnc_lc_y_crd>\n",
      "                <lo_crd>127.05472561</lo_crd>\n",
      "                <la_crd>37.52559834</la_crd>\n",
      "            </item>\n",
      "            <item>\n",
      "                <acc_year>2020</acc_year>\n",
      "                <occrrnc_dt>2020083118</occrrnc_dt>\n",
      "                <dght_cd>2</dght_cd>\n",
      "                <occrrnc_day_cd>2</occrrnc_day_cd>\n",
      "                <dth_dnv_cnt>1</dth_dnv_cnt>\n",
      "                <injpsn_cnt>2</injpsn_cnt>\n",
      "                <se_dnv_cnt>0</se_dnv_cnt>\n",
      "                <sl_dnv_cnt>1</sl_dnv_cnt>\n",
      "                <wnd_dnv_cnt>0</wnd_dnv_cnt>\n",
      "                <occrrnc_lc_sido_cd>1100</occrrnc_lc_sido_cd>\n",
      "                <occrrnc_lc_sgg_cd>1116</occrrnc_lc_sgg_cd>\n",
      "                <acc_ty_lclas_cd>02</acc_ty_lclas_cd>\n",
      "                <acc_ty_mlsfc_cd>24</acc_ty_mlsfc_cd>\n",
      "                <acc_ty_cd>25</acc_ty_cd>\n",
      "                <aslt_vtr_cd>04 </aslt_vtr_cd>\n",
      "                <road_frm_lclas_cd>05</road_frm_lclas_cd>\n",
      "                <road_frm_cd>98</road_frm_cd>\n",
      "                <wrngdo_isrty_vhcty_lclas_cd>05</wrngdo_isrty_vhcty_lclas_cd>\n",
      "                <dmge_isrty_vhcty_lclas_cd>01</dmge_isrty_vhcty_lclas_cd>\n",
      "                <occrrnc_lc_x_crd>964449  </occrrnc_lc_x_crd>\n",
      "                <occrrnc_lc_y_crd>1943651 </occrrnc_lc_y_crd>\n",
      "                <lo_crd>127.09776295</lo_crd>\n",
      "                <la_crd>37.49143349</la_crd>\n",
      "            </item>\n",
      "            <item>\n",
      "                <acc_year>2020</acc_year>\n",
      "                <occrrnc_dt>2020100802</occrrnc_dt>\n",
      "                <dght_cd>2</dght_cd>\n",
      "                <occrrnc_day_cd>5</occrrnc_day_cd>\n",
      "                <dth_dnv_cnt>1</dth_dnv_cnt>\n",
      "                <injpsn_cnt>1</injpsn_cnt>\n",
      "                <se_dnv_cnt>0</se_dnv_cnt>\n",
      "                <sl_dnv_cnt>0</sl_dnv_cnt>\n",
      "                <wnd_dnv_cnt>0</wnd_dnv_cnt>\n",
      "                <occrrnc_lc_sido_cd>1100</occrrnc_lc_sido_cd>\n",
      "                <occrrnc_lc_sgg_cd>1116</occrrnc_lc_sgg_cd>\n",
      "                <acc_ty_lclas_cd>02</acc_ty_lclas_cd>\n",
      "                <acc_ty_mlsfc_cd>23</acc_ty_mlsfc_cd>\n",
      "                <acc_ty_cd>23</acc_ty_cd>\n",
      "                <aslt_vtr_cd>05 </aslt_vtr_cd>\n",
      "                <road_frm_lclas_cd>01</road_frm_lclas_cd>\n",
      "                <road_frm_cd>05</road_frm_cd>\n",
      "                <wrngdo_isrty_vhcty_lclas_cd>03</wrngdo_isrty_vhcty_lclas_cd>\n",
      "                <dmge_isrty_vhcty_lclas_cd>03</dmge_isrty_vhcty_lclas_cd>\n",
      "                <occrrnc_lc_x_crd>957512  </occrrnc_lc_x_crd>\n",
      "                <occrrnc_lc_y_crd>1947551 </occrrnc_lc_y_crd>\n",
      "                <lo_crd>127.01914343</lo_crd>\n",
      "                <la_crd>37.5262403</la_crd>\n",
      "            </item>\n",
      "            <item>\n",
      "                <acc_year>2020</acc_year>\n",
      "                <occrrnc_dt>2020102523</occrrnc_dt>\n",
      "                <dght_cd>2</dght_cd>\n",
      "                <occrrnc_day_cd>1</occrrnc_day_cd>\n",
      "                <dth_dnv_cnt>1</dth_dnv_cnt>\n",
      "                <injpsn_cnt>1</injpsn_cnt>\n",
      "                <se_dnv_cnt>0</se_dnv_cnt>\n",
      "                <sl_dnv_cnt>0</sl_dnv_cnt>\n",
      "                <wnd_dnv_cnt>0</wnd_dnv_cnt>\n",
      "                <occrrnc_lc_sido_cd>1100</occrrnc_lc_sido_cd>\n",
      "                <occrrnc_lc_sgg_cd>1116</occrrnc_lc_sgg_cd>\n",
      "                <acc_ty_lclas_cd>01</acc_ty_lclas_cd>\n",
      "                <acc_ty_mlsfc_cd>15</acc_ty_mlsfc_cd>\n",
      "                <acc_ty_cd>05</acc_ty_cd>\n",
      "                <aslt_vtr_cd>07 </aslt_vtr_cd>\n",
      "                <road_frm_lclas_cd>01</road_frm_lclas_cd>\n",
      "                <road_frm_cd>05</road_frm_cd>\n",
      "                <wrngdo_isrty_vhcty_lclas_cd>03</wrngdo_isrty_vhcty_lclas_cd>\n",
      "                <dmge_isrty_vhcty_lclas_cd>12</dmge_isrty_vhcty_lclas_cd>\n",
      "                <occrrnc_lc_x_crd>964600  </occrrnc_lc_x_crd>\n",
      "                <occrrnc_lc_y_crd>1943793 </occrrnc_lc_y_crd>\n",
      "                <lo_crd>127.09946791</lo_crd>\n",
      "                <la_crd>37.49266334</la_crd>\n",
      "            </item>\n",
      "            <item>\n",
      "                <acc_year>2020</acc_year>\n",
      "                <occrrnc_dt>2020110623</occrrnc_dt>\n",
      "                <dght_cd>2</dght_cd>\n",
      "                <occrrnc_day_cd>6</occrrnc_day_cd>\n",
      "                <dth_dnv_cnt>1</dth_dnv_cnt>\n",
      "                <injpsn_cnt>1</injpsn_cnt>\n",
      "                <se_dnv_cnt>0</se_dnv_cnt>\n",
      "                <sl_dnv_cnt>0</sl_dnv_cnt>\n",
      "                <wnd_dnv_cnt>0</wnd_dnv_cnt>\n",
      "                <occrrnc_lc_sido_cd>1100</occrrnc_lc_sido_cd>\n",
      "                <occrrnc_lc_sgg_cd>1116</occrrnc_lc_sgg_cd>\n",
      "                <acc_ty_lclas_cd>01</acc_ty_lclas_cd>\n",
      "                <acc_ty_mlsfc_cd>11</acc_ty_mlsfc_cd>\n",
      "                <acc_ty_cd>01</acc_ty_cd>\n",
      "                <aslt_vtr_cd>05 </aslt_vtr_cd>\n",
      "                <road_frm_lclas_cd>01</road_frm_lclas_cd>\n",
      "                <road_frm_cd>05</road_frm_cd>\n",
      "                <wrngdo_isrty_vhcty_lclas_cd>01</wrngdo_isrty_vhcty_lclas_cd>\n",
      "                <dmge_isrty_vhcty_lclas_cd>12</dmge_isrty_vhcty_lclas_cd>\n",
      "                <occrrnc_lc_x_crd>959516  </occrrnc_lc_x_crd>\n",
      "                <occrrnc_lc_y_crd>1942841 </occrrnc_lc_y_crd>\n",
      "                <lo_crd>127.04218391</lo_crd>\n",
      "                <la_crd>37.48371023</la_crd>\n",
      "            </item>\n",
      "            <item>\n",
      "                <acc_year>2020</acc_year>\n",
      "                <occrrnc_dt>2020111613</occrrnc_dt>\n",
      "                <dght_cd>1</dght_cd>\n",
      "                <occrrnc_day_cd>2</occrrnc_day_cd>\n",
      "                <dth_dnv_cnt>1</dth_dnv_cnt>\n",
      "                <injpsn_cnt>1</injpsn_cnt>\n",
      "                <se_dnv_cnt>0</se_dnv_cnt>\n",
      "                <sl_dnv_cnt>0</sl_dnv_cnt>\n",
      "                <wnd_dnv_cnt>0</wnd_dnv_cnt>\n",
      "                <occrrnc_lc_sido_cd>1100</occrrnc_lc_sido_cd>\n",
      "                <occrrnc_lc_sgg_cd>1116</occrrnc_lc_sgg_cd>\n",
      "                <acc_ty_lclas_cd>01</acc_ty_lclas_cd>\n",
      "                <acc_ty_mlsfc_cd>12</acc_ty_mlsfc_cd>\n",
      "                <acc_ty_cd>02</acc_ty_cd>\n",
      "                <aslt_vtr_cd>05 </aslt_vtr_cd>\n",
      "                <road_frm_lclas_cd>01</road_frm_lclas_cd>\n",
      "                <road_frm_cd>05</road_frm_cd>\n",
      "                <wrngdo_isrty_vhcty_lclas_cd>10</wrngdo_isrty_vhcty_lclas_cd>\n",
      "                <dmge_isrty_vhcty_lclas_cd>12</dmge_isrty_vhcty_lclas_cd>\n",
      "                <occrrnc_lc_x_crd>960743  </occrrnc_lc_x_crd>\n",
      "                <occrrnc_lc_y_crd>1941805 </occrrnc_lc_y_crd>\n",
      "                <lo_crd>127.05601771</lo_crd>\n",
      "                <la_crd>37.47463673</la_crd>\n",
      "            </item>\n",
      "        </items>\n",
      "        <totalCount>17</totalCount>\n",
      "        <numOfRows>17</numOfRows>\n",
      "        <pageNo>1</pageNo>\n",
      "    </body>\n",
      "</response>\n",
      "\n"
     ]
    }
   ],
   "source": [
    "print (data)"
   ]
  },
  {
   "cell_type": "markdown",
   "metadata": {},
   "source": [
    "## 문제 10: 공공데이터포털 대기 오염 정보\n",
    "\n",
    "공공데이터포털에서 대기오염을 검색하면 ```한국환경공단_에어코리아_대기오염정보```를 찾을 수 있다.\n",
    "이 API를 사용하려면, ```한국환경공단_에어코리아_대기오염정보``` 항목을 선택하여 활용신청'한다."
   ]
  },
  {
   "cell_type": "markdown",
   "metadata": {},
   "source": [
    "변수명 | 설명 \n",
    "-----|-----\n",
    "serviceKey | 공공데이터포털에서 발급받은 인증키\n",
    "returnType (선택) | 데이터표출방식, xml 또는 json\n",
    "numOfRows (선택) | 한 페이지 결과 수 (Default: 10)\n",
    "pageNo (선택) | 페이지 번호 (Default: 1)\n",
    "searchDate (선택) | 조회날짜 (예: 2020-11-14)\n",
    "InformCode (선택) | 통보코드검색 (PM10, PM25, O3) (예: PM10)"
   ]
  },
  {
   "cell_type": "markdown",
   "metadata": {
    "slideshow": {
     "slide_type": "slide"
    }
   },
   "source": [
    "* 예제 (사이트 미리보기)\n",
    "\n",
    "http://apis.data.go.kr/B552584/ArpltnInforInqireSvc/getMinuDustFrcstDspth?serviceKey=서비스키&searchDate=2021-08-10"
   ]
  },
  {
   "cell_type": "markdown",
   "metadata": {},
   "source": [
    "### 인증키"
   ]
  },
  {
   "cell_type": "code",
   "execution_count": 3,
   "metadata": {
    "collapsed": true,
    "jupyter": {
     "outputs_hidden": true
    }
   },
   "outputs": [],
   "source": [
    "import os\n",
    "from src import mylib\n",
    "keyPath=os.path.join(os.getcwd(), 'src', 'key.properties')\n",
    "key=mylib.getKey(keyPath)"
   ]
  },
  {
   "cell_type": "markdown",
   "metadata": {
    "slideshow": {
     "slide_type": "subslide"
    }
   },
   "source": [
    "### 요청인자\n",
    "\n",
    "서비스명, 오퍼레이션명, 요청인자를 묶어 경로를 만든다."
   ]
  },
  {
   "cell_type": "code",
   "execution_count": 4,
   "metadata": {
    "collapsed": true,
    "jupyter": {
     "outputs_hidden": true
    }
   },
   "outputs": [],
   "source": [
    "import os\n",
    "SERVICE='ArpltnInforInqireSvc'\n",
    "OPERATION_NAME='getMinuDustFrcstDspth'\n",
    "params1=os.path.join(SERVICE,OPERATION_NAME)"
   ]
  },
  {
   "cell_type": "code",
   "execution_count": 5,
   "metadata": {
    "scrolled": true
   },
   "outputs": [
    {
     "name": "stdout",
     "output_type": "stream",
     "text": [
      "ArpltnInforInqireSvc/getMinuDustFrcstDspth\n"
     ]
    }
   ],
   "source": [
    "print (params1)"
   ]
  },
  {
   "cell_type": "code",
   "execution_count": 6,
   "metadata": {
    "collapsed": true,
    "jupyter": {
     "outputs_hidden": true
    }
   },
   "outputs": [],
   "source": [
    "import urllib\n",
    "_d=dict()\n",
    "\n",
    "#_d['stationName']='종로구'\n",
    "_d['searchDate']='2021-08-10'\n",
    "params2 = urllib.parse.urlencode(_d)"
   ]
  },
  {
   "cell_type": "code",
   "execution_count": 7,
   "metadata": {
    "slideshow": {
     "slide_type": "subslide"
    }
   },
   "outputs": [
    {
     "name": "stdout",
     "output_type": "stream",
     "text": [
      "searchDate=2021-08-10\n"
     ]
    }
   ],
   "source": [
    "print (params2)"
   ]
  },
  {
   "cell_type": "markdown",
   "metadata": {
    "slideshow": {
     "slide_type": "subslide"
    }
   },
   "source": [
    "### url\n",
    "\n",
    "serviceKey에 대문자 섞임 (위와 다름)"
   ]
  },
  {
   "cell_type": "code",
   "execution_count": 8,
   "metadata": {
    "scrolled": true
   },
   "outputs": [],
   "source": [
    "params=params1+'?'+'serviceKey='+key['gokr']+'&'+params2\n",
    "#print params"
   ]
  },
  {
   "cell_type": "code",
   "execution_count": 9,
   "metadata": {
    "collapsed": true,
    "jupyter": {
     "outputs_hidden": true
    }
   },
   "outputs": [],
   "source": [
    "import urllib\n",
    "#OLD: _url='http://openapi.airkorea.or.kr/openapi/services/rest/ArpltnInforInqireSvc'\n",
    "_url='http://apis.data.go.kr/B552584'"
   ]
  },
  {
   "cell_type": "code",
   "execution_count": 10,
   "metadata": {},
   "outputs": [
    {
     "name": "stdout",
     "output_type": "stream",
     "text": [
      "http://apis.data.go.kr/B552584\n"
     ]
    }
   ],
   "source": [
    "print(_url)"
   ]
  },
  {
   "cell_type": "code",
   "execution_count": 11,
   "metadata": {
    "collapsed": true,
    "jupyter": {
     "outputs_hidden": true
    }
   },
   "outputs": [],
   "source": [
    "url=\"/\".join([_url,params])"
   ]
  },
  {
   "cell_type": "markdown",
   "metadata": {},
   "source": [
    "아래를 클릭하면 결과가 나오는지 확인해보자."
   ]
  },
  {
   "cell_type": "code",
   "execution_count": 12,
   "metadata": {
    "slideshow": {
     "slide_type": "subslide"
    }
   },
   "outputs": [
    {
     "name": "stdout",
     "output_type": "stream",
     "text": [
      "http://apis.data.go.kr/B552584/ArpltnInforInqireSvc/getMinuDustFrcstDspth?serviceKey=8Bx4C1%2Bbogiu3i0M5k7aqOf%2BTA5yCWK%2BFDI7nTSJ0oAhDj1NC5CtbI1TMgFmnpuZxJ9LBoCScqBhuw5sul2tmQ%3D%3D&searchDate=2021-08-10\n"
     ]
    }
   ],
   "source": [
    "print (url)"
   ]
  },
  {
   "cell_type": "markdown",
   "metadata": {},
   "source": [
    "### url 요청"
   ]
  },
  {
   "cell_type": "code",
   "execution_count": 13,
   "metadata": {
    "collapsed": true,
    "jupyter": {
     "outputs_hidden": true
    }
   },
   "outputs": [],
   "source": [
    "import requests\n",
    "\n",
    "data=requests.get(url).text"
   ]
  },
  {
   "cell_type": "markdown",
   "metadata": {},
   "source": [
    "* 결과 예\n",
    "```\n",
    "<response>\n",
    "  <header>\n",
    "    <resultCode>00</resultCode>\n",
    "    <resultMsg>NORMAL_CODE</resultMsg>\n",
    "  </header>\n",
    "  <body>\n",
    "    <items>\n",
    "      <item>\n",
    "        <imageUrl4>https://www.airkorea.or.kr/file/proxyImage?fileName=2021/08/10/AQFv1_15h.20210810.KNU_09_01.PM2P5.1hsp.2021081021.png</imageUrl4>              # 시간대별 예측모델 결과사진\n",
    "        <informCode>PM10</informCode>                                                               # 통보코드\n",
    "        ...\n",
    "        <actionKnack/>                                                                              # 행동요령\n",
    "        <informCause>○ [미세먼지] 원활한 대기 확산과 강수의 영향으로 대기 상태가 청정할 것으로 예상됩니다.</informCause> # 발생원인\n",
    "        <informOverall>○ [미세먼지] 전 권역이 &apos;좋음&apos;으로 예상됩니다.</informOverall>                        # 예보개황\n",
    "        <informData>2021-08-10</informData>                                                                        # 예측통보시간\n",
    "        <informGrade>서울 : 좋음,제주 : 좋음,전남 : 좋음,전북 : 좋음,광주 : 좋음,...,인천 : 좋음</informGrade>         # 예보등급\n",
    "        <dataTime>2021-08-10 23시 발표</dataTime>                                                                   # 통보시간\n",
    "      </item>\n",
    "```"
   ]
  },
  {
   "cell_type": "code",
   "execution_count": 14,
   "metadata": {
    "scrolled": true,
    "slideshow": {
     "slide_type": "subslide"
    }
   },
   "outputs": [
    {
     "name": "stdout",
     "output_type": "stream",
     "text": [
      "<?xml version=\"1.0\" encoding=\"UTF-8\"?>\n",
      "<response>\n",
      "  <header>\n",
      "    <resultCode>00</resultCode>\n",
      "    <resultMsg>NORMAL_CODE</resultMsg>\n",
      "  </header>\n",
      "  <body>\n",
      "    <items>\n",
      "      <item>\n",
      "        <imageUrl4>https://www.airkorea.or.kr/file/proxyImage?fileName=2021/08/10/AQFv1_15h.20210810.KNU_09_01.PM2P5.1hsp.2021081021.png</imageUrl4>\n",
      "        <informCode>PM10</informCode>\n",
      "        <imageUrl5>https://www.airkorea.or.kr/file/proxyImage?fileName=2021/08/10/AQFv1_15h.20210810.KNU_09_01.PM2P5.1hsp.2021081103.png</imageUrl5>\n",
      "        <imageUrl6>https://www.airkorea.or.kr/file/proxyImage?fileName=2021/08/10/AQFv1_15h.20210810.KNU_09_01.PM2P5.1hsp.2021081109.png</imageUrl6>\n",
      "        <actionKnack/>\n",
      "        <informCause>○ [미세먼지] 원활한 대기 확산과 강수의 영향으로 대기 상태가 청정할 것으로 예상됩니다.</informCause>\n",
      "        <informOverall>○ [미세먼지] 전 권역이 &apos;좋음&apos;으로 예상됩니다.</informOverall>\n",
      "        <informData>2021-08-10</informData>\n",
      "        <informGrade>서울 : 좋음,제주 : 좋음,전남 : 좋음,전북 : 좋음,광주 : 좋음,경남 : 좋음,경북 : 좋음,울산 : 좋음,대구 : 좋음,부산 : 좋음,충남 : 좋음,충북 : 좋음,세종 : 좋음,대전 : 좋음,영동 : 좋음,영서 : 좋음,경기남부 : 좋음,경기북부 : 좋음,인천 : 좋음</informGrade>\n",
      "        <dataTime>2021-08-10 23시 발표</dataTime>\n",
      "        <imageUrl3>https://www.airkorea.or.kr/file/proxyImage?fileName=2021/08/10/AQFv1_15h.20210810.KNU_09_01.PM10.1hsp.2021081109.png</imageUrl3>\n",
      "        <imageUrl2>https://www.airkorea.or.kr/file/proxyImage?fileName=2021/08/10/AQFv1_15h.20210810.KNU_09_01.PM10.1hsp.2021081103.png</imageUrl2>\n",
      "        <imageUrl1>https://www.airkorea.or.kr/file/proxyImage?fileName=2021/08/10/AQFv1_15h.20210810.KNU_09_01.PM10.1hsp.2021081021.png</imageUrl1>\n",
      "      </item>\n",
      "      <item>\n",
      "        <imageUrl4>https://www.airkorea.or.kr/file/proxyImage?fileName=2021/08/10/AQFv1_15h.20210810.KNU_09_01.PM2P5.1hsp.2021081021.png</imageUrl4>\n",
      "        <informCode>PM10</informCode>\n",
      "        <imageUrl5>https://www.airkorea.or.kr/file/proxyImage?fileName=2021/08/10/AQFv1_15h.20210810.KNU_09_01.PM2P5.1hsp.2021081103.png</imageUrl5>\n",
      "        <imageUrl6>https://www.airkorea.or.kr/file/proxyImage?fileName=2021/08/10/AQFv1_15h.20210810.KNU_09_01.PM2P5.1hsp.2021081109.png</imageUrl6>\n",
      "        <actionKnack/>\n",
      "        <informCause>○ [미세먼지] 원활한 대기 확산으로 대기 상태가 대체로 청정할 것으로 예상됩니다.</informCause>\n",
      "        <informOverall>○ [미세먼지] 전 권역이 &apos;좋음&apos;∼&apos;보통&apos;으로 예상됩니다.</informOverall>\n",
      "        <informData>2021-08-11</informData>\n",
      "        <informGrade>서울 : 좋음,제주 : 좋음,전남 : 좋음,전북 : 좋음,광주 : 좋음,경남 : 좋음,경북 : 좋음,울산 : 좋음,대구 : 좋음,부산 : 좋음,충남 : 좋음,충북 : 좋음,세종 : 좋음,대전 : 좋음,영동 : 좋음,영서 : 좋음,경기남부 : 좋음,경기북부 : 좋음,인천 : 좋음</informGrade>\n",
      "        <dataTime>2021-08-10 23시 발표</dataTime>\n",
      "        <imageUrl3>https://www.airkorea.or.kr/file/proxyImage?fileName=2021/08/10/AQFv1_15h.20210810.KNU_09_01.PM10.1hsp.2021081109.png</imageUrl3>\n",
      "        <imageUrl2>https://www.airkorea.or.kr/file/proxyImage?fileName=2021/08/10/AQFv1_15h.20210810.KNU_09_01.PM10.1hsp.2021081103.png</imageUrl2>\n",
      "        <imageUrl1>https://www.airkorea.or.kr/file/proxyImage?fileName=2021/08/10/AQFv1_15h.20210810.KNU_09_01.PM10.1hsp.2021081021.png</imageUrl1>\n",
      "      </item>\n",
      "      <item>\n",
      "        <imageUrl4>https://www.airkorea.or.kr/file/proxyImage?fileName=2021/08/10/AQFv1_15h.20210810.KNU_09_01.PM2P5.1hsp.2021081121.png</imageUrl4>\n",
      "        <informCode>PM10</informCode>\n",
      "        <imageUrl5>https://www.airkorea.or.kr/file/proxyImage?fileName=2021/08/10/AQFv1_15h.20210810.KNU_09_01.PM2P5.1hsp.2021081203.png</imageUrl5>\n",
      "        <imageUrl6>https://www.airkorea.or.kr/file/proxyImage?fileName=2021/08/10/AQFv1_15h.20210810.KNU_09_01.PM2P5.1hsp.2021081209.png</imageUrl6>\n",
      "        <actionKnack/>\n",
      "        <informCause>○ [미세먼지] 원활한 대기 확산으로 대기 상태가 대체로 청정할 것으로 예상됩니다.</informCause>\n",
      "        <informOverall>○ [미세먼지] 전 권역이 &apos;좋음&apos;∼&apos;보통&apos;으로 예상됩니다.</informOverall>\n",
      "        <informData>2021-08-12</informData>\n",
      "        <informGrade>서울 : 좋음,제주 : 좋음,전남 : 좋음,전북 : 좋음,광주 : 좋음,경남 : 좋음,경북 : 좋음,울산 : 좋음,대구 : 좋음,부산 : 좋음,충남 : 좋음,충북 : 좋음,세종 : 좋음,대전 : 좋음,영동 : 좋음,영서 : 좋음,경기남부 : 보통,경기북부 : 좋음,인천 : 좋음</informGrade>\n",
      "        <dataTime>2021-08-10 23시 발표</dataTime>\n",
      "        <imageUrl3>https://www.airkorea.or.kr/file/proxyImage?fileName=2021/08/10/AQFv1_15h.20210810.KNU_09_01.PM10.1hsp.2021081209.png</imageUrl3>\n",
      "        <imageUrl2>https://www.airkorea.or.kr/file/proxyImage?fileName=2021/08/10/AQFv1_15h.20210810.KNU_09_01.PM10.1hsp.2021081203.png</imageUrl2>\n",
      "        <imageUrl1>https://www.airkorea.or.kr/file/proxyImage?fileName=2021/08/10/AQFv1_15h.20210810.KNU_09_01.PM10.1hsp.2021081121.png</imageUrl1>\n",
      "      </item>\n",
      "      <item>\n",
      "        <imageUrl4>https://www.airkorea.or.kr/file/proxyImage?fileName=2021/08/10/AQFv1_15h.20210810.KNU_09_01.PM2P5.1hsp.2021081021.png</imageUrl4>\n",
      "        <informCode>PM25</informCode>\n",
      "        <imageUrl5>https://www.airkorea.or.kr/file/proxyImage?fileName=2021/08/10/AQFv1_15h.20210810.KNU_09_01.PM2P5.1hsp.2021081103.png</imageUrl5>\n",
      "        <imageUrl6>https://www.airkorea.or.kr/file/proxyImage?fileName=2021/08/10/AQFv1_15h.20210810.KNU_09_01.PM2P5.1hsp.2021081109.png</imageUrl6>\n",
      "        <actionKnack/>\n",
      "        <informCause>○ [미세먼지] 원활한 대기 확산과 강수의 영향으로 대기 상태가 청정할 것으로 예상됩니다.</informCause>\n",
      "        <informOverall>○ [미세먼지] 전 권역이 &apos;좋음&apos;으로 예상됩니다.</informOverall>\n",
      "        <informData>2021-08-10</informData>\n",
      "        <informGrade>서울 : 좋음,제주 : 좋음,전남 : 좋음,전북 : 좋음,광주 : 좋음,경남 : 좋음,경북 : 좋음,울산 : 좋음,대구 : 좋음,부산 : 좋음,충남 : 좋음,충북 : 좋음,세종 : 좋음,대전 : 좋음,영동 : 좋음,영서 : 좋음,경기남부 : 좋음,경기북부 : 좋음,인천 : 좋음</informGrade>\n",
      "        <dataTime>2021-08-10 23시 발표</dataTime>\n",
      "        <imageUrl3>https://www.airkorea.or.kr/file/proxyImage?fileName=2021/08/10/AQFv1_15h.20210810.KNU_09_01.PM10.1hsp.2021081109.png</imageUrl3>\n",
      "        <imageUrl2>https://www.airkorea.or.kr/file/proxyImage?fileName=2021/08/10/AQFv1_15h.20210810.KNU_09_01.PM10.1hsp.2021081103.png</imageUrl2>\n",
      "        <imageUrl1>https://www.airkorea.or.kr/file/proxyImage?fileName=2021/08/10/AQFv1_15h.20210810.KNU_09_01.PM10.1hsp.2021081021.png</imageUrl1>\n",
      "      </item>\n",
      "      <item>\n",
      "        <imageUrl4>https://www.airkorea.or.kr/file/proxyImage?fileName=2021/08/10/AQFv1_15h.20210810.KNU_09_01.PM2P5.1hsp.2021081021.png</imageUrl4>\n",
      "        <informCode>PM25</informCode>\n",
      "        <imageUrl5>https://www.airkorea.or.kr/file/proxyImage?fileName=2021/08/10/AQFv1_15h.20210810.KNU_09_01.PM2P5.1hsp.2021081103.png</imageUrl5>\n",
      "        <imageUrl6>https://www.airkorea.or.kr/file/proxyImage?fileName=2021/08/10/AQFv1_15h.20210810.KNU_09_01.PM2P5.1hsp.2021081109.png</imageUrl6>\n",
      "        <actionKnack/>\n",
      "        <informCause>○ [미세먼지] 원활한 대기 확산으로 대기 상태가 대체로 청정할 것으로 예상됩니다.</informCause>\n",
      "        <informOverall>○ [미세먼지] 전 권역이 &apos;좋음&apos;∼&apos;보통&apos;으로 예상됩니다.</informOverall>\n",
      "        <informData>2021-08-11</informData>\n",
      "        <informGrade>서울 : 보통,제주 : 좋음,전남 : 좋음,전북 : 좋음,광주 : 좋음,경남 : 좋음,경북 : 좋음,울산 : 좋음,대구 : 보통,부산 : 좋음,충남 : 보통,충북 : 좋음,세종 : 좋음,대전 : 좋음,영동 : 좋음,영서 : 좋음,경기남부 : 보통,경기북부 : 보통,인천 : 보통</informGrade>\n",
      "        <dataTime>2021-08-10 23시 발표</dataTime>\n",
      "        <imageUrl3>https://www.airkorea.or.kr/file/proxyImage?fileName=2021/08/10/AQFv1_15h.20210810.KNU_09_01.PM10.1hsp.2021081109.png</imageUrl3>\n",
      "        <imageUrl2/>\n",
      "        <imageUrl1>https://www.airkorea.or.kr/file/proxyImage?fileName=2021/08/10/AQFv1_15h.20210810.KNU_09_01.PM10.1hsp.2021081021.png</imageUrl1>\n",
      "      </item>\n",
      "      <item>\n",
      "        <imageUrl4>https://www.airkorea.or.kr/file/proxyImage?fileName=2021/08/10/AQFv1_15h.20210810.KNU_09_01.PM2P5.1hsp.2021081121.png</imageUrl4>\n",
      "        <informCode>PM25</informCode>\n",
      "        <imageUrl5>https://www.airkorea.or.kr/file/proxyImage?fileName=2021/08/10/AQFv1_15h.20210810.KNU_09_01.PM2P5.1hsp.2021081203.png</imageUrl5>\n",
      "        <imageUrl6>https://www.airkorea.or.kr/file/proxyImage?fileName=2021/08/10/AQFv1_15h.20210810.KNU_09_01.PM2P5.1hsp.2021081209.png</imageUrl6>\n",
      "        <actionKnack/>\n",
      "        <informCause>○ [미세먼지] 원활한 대기 확산으로 대기 상태가 대체로 청정할 것으로 예상됩니다.</informCause>\n",
      "        <informOverall>○ [미세먼지] 전 권역이 &apos;좋음&apos;∼&apos;보통&apos;으로 예상됩니다.</informOverall>\n",
      "        <informData>2021-08-12</informData>\n",
      "        <informGrade>서울 : 보통,제주 : 좋음,전남 : 좋음,전북 : 좋음,광주 : 좋음,경남 : 좋음,경북 : 좋음,울산 : 좋음,대구 : 좋음,부산 : 좋음,충남 : 보통,충북 : 좋음,세종 : 좋음,대전 : 좋음,영동 : 좋음,영서 : 좋음,경기남부 : 보통,경기북부 : 보통,인천 : 보통</informGrade>\n",
      "        <dataTime>2021-08-10 23시 발표</dataTime>\n",
      "        <imageUrl3>https://www.airkorea.or.kr/file/proxyImage?fileName=2021/08/10/AQFv1_15h.20210810.KNU_09_01.PM10.1hsp.2021081209.png</imageUrl3>\n",
      "        <imageUrl2>https://www.airkorea.or.kr/file/proxyImage?fileName=2021/08/10/AQFv1_15h.20210810.KNU_09_01.PM10.1hsp.2021081203.png</imageUrl2>\n",
      "        <imageUrl1>https://www.airkorea.or.kr/file/proxyImage?fileName=2021/08/10/AQFv1_15h.20210810.KNU_09_01.PM10.1hsp.2021081121.png</imageUrl1>\n",
      "      </item>\n",
      "      <item>\n",
      "        <imageUrl4/>\n",
      "        <informCode>O3</informCode>\n",
      "        <imageUrl5>https://www.airkorea.or.kr/file/proxyImage?fileName=2021/08/10/AQFv1_15h.20210810.KNU_09_01.O3.1hsp.2021081206.png</imageUrl5>\n",
      "        <imageUrl6/>\n",
      "        <actionKnack/>\n",
      "        <informCause>○ [오존] 대기오염물질의 광화학 반응에 의한 오존 생성과 이동으로 대부분 중서부지역과 대부분 남부지역은 오후에 일시적으로 농도가 높을 것으로 예상됩니다.</informCause>\n",
      "        <informOverall>○ [오존] 수도권·충남·전남·영남권은 &apos;나쁨&apos;, 그 밖의 권역은 &apos;보통&apos;으로 예상됩니다.</informOverall>\n",
      "        <informData>2021-08-11</informData>\n",
      "        <informGrade>서울 : 나쁨,제주 : 보통,전남 : 나쁨,전북 : 보통,광주 : 보통,경남 : 나쁨,경북 : 나쁨,울산 : 나쁨,대구 : 나쁨,부산 : 나쁨,충남 : 나쁨,충북 : 보통,세종 : 보통,대전 : 보통,영동 : 보통,영서 : 보통,경기남부 : 나쁨,경기북부 : 나쁨,인천 : 나쁨</informGrade>\n",
      "        <dataTime>2021-08-10 23시 발표</dataTime>\n",
      "        <imageUrl3/>\n",
      "        <imageUrl2/>\n",
      "        <imageUrl1/>\n",
      "      </item>\n",
      "      <item>\n",
      "        <imageUrl4>https://www.airkorea.or.kr/file/proxyImage?fileName=2021/08/10/AQFv1_09h.20210810.KNU_09_01.PM2P5.1hsp.2021081021.png</imageUrl4>\n",
      "        <informCode>PM10</informCode>\n",
      "        <imageUrl5>https://www.airkorea.or.kr/file/proxyImage?fileName=2021/08/10/AQFv1_09h.20210810.KNU_09_01.PM2P5.1hsp.2021081103.png</imageUrl5>\n",
      "        <imageUrl6>https://www.airkorea.or.kr/file/proxyImage?fileName=2021/08/10/AQFv1_09h.20210810.KNU_09_01.PM2P5.1hsp.2021081109.png</imageUrl6>\n",
      "        <actionKnack/>\n",
      "        <informCause>○ [미세먼지] 원활한 대기 확산과 강수의 영향으로 대기 상태가 청정할 것으로 예상됩니다.</informCause>\n",
      "        <informOverall>○ [미세먼지] 전 권역이 &apos;좋음&apos;으로 예상됩니다.</informOverall>\n",
      "        <informData>2021-08-10</informData>\n",
      "        <informGrade>서울 : 좋음,제주 : 좋음,전남 : 좋음,전북 : 좋음,광주 : 좋음,경남 : 좋음,경북 : 좋음,울산 : 좋음,대구 : 좋음,부산 : 좋음,충남 : 좋음,충북 : 좋음,세종 : 좋음,대전 : 좋음,영동 : 좋음,영서 : 좋음,경기남부 : 좋음,경기북부 : 좋음,인천 : 좋음</informGrade>\n",
      "        <dataTime>2021-08-10 17시 발표</dataTime>\n",
      "        <imageUrl3>https://www.airkorea.or.kr/file/proxyImage?fileName=2021/08/10/AQFv1_09h.20210810.KNU_09_01.PM10.1hsp.2021081109.png</imageUrl3>\n",
      "        <imageUrl2>https://www.airkorea.or.kr/file/proxyImage?fileName=2021/08/10/AQFv1_09h.20210810.KNU_09_01.PM10.1hsp.2021081103.png</imageUrl2>\n",
      "        <imageUrl1>https://www.airkorea.or.kr/file/proxyImage?fileName=2021/08/10/AQFv1_09h.20210810.KNU_09_01.PM10.1hsp.2021081021.png</imageUrl1>\n",
      "      </item>\n",
      "      <item>\n",
      "        <imageUrl4>https://www.airkorea.or.kr/file/proxyImage?fileName=2021/08/10/AQFv1_09h.20210810.KNU_09_01.PM2P5.1hsp.2021081021.png</imageUrl4>\n",
      "        <informCode>PM10</informCode>\n",
      "        <imageUrl5>https://www.airkorea.or.kr/file/proxyImage?fileName=2021/08/10/AQFv1_09h.20210810.KNU_09_01.PM2P5.1hsp.2021081103.png</imageUrl5>\n",
      "        <imageUrl6>https://www.airkorea.or.kr/file/proxyImage?fileName=2021/08/10/AQFv1_09h.20210810.KNU_09_01.PM2P5.1hsp.2021081109.png</imageUrl6>\n",
      "        <actionKnack/>\n",
      "        <informCause>○ [미세먼지] 원활한 대기 확산으로 대기 상태가 대체로 청정할 것으로 예상됩니다.</informCause>\n",
      "        <informOverall>○ [미세먼지] 전 권역이 &apos;좋음&apos;∼&apos;보통&apos;으로 예상됩니다.</informOverall>\n",
      "        <informData>2021-08-11</informData>\n",
      "        <informGrade>서울 : 좋음,제주 : 좋음,전남 : 좋음,전북 : 좋음,광주 : 좋음,경남 : 좋음,경북 : 좋음,울산 : 좋음,대구 : 좋음,부산 : 좋음,충남 : 좋음,충북 : 좋음,세종 : 좋음,대전 : 좋음,영동 : 좋음,영서 : 좋음,경기남부 : 좋음,경기북부 : 좋음,인천 : 좋음</informGrade>\n",
      "        <dataTime>2021-08-10 17시 발표</dataTime>\n",
      "        <imageUrl3>https://www.airkorea.or.kr/file/proxyImage?fileName=2021/08/10/AQFv1_09h.20210810.KNU_09_01.PM10.1hsp.2021081109.png</imageUrl3>\n",
      "        <imageUrl2>https://www.airkorea.or.kr/file/proxyImage?fileName=2021/08/10/AQFv1_09h.20210810.KNU_09_01.PM10.1hsp.2021081103.png</imageUrl2>\n",
      "        <imageUrl1>https://www.airkorea.or.kr/file/proxyImage?fileName=2021/08/10/AQFv1_09h.20210810.KNU_09_01.PM10.1hsp.2021081021.png</imageUrl1>\n",
      "      </item>\n",
      "      <item>\n",
      "        <imageUrl4>https://www.airkorea.or.kr/file/proxyImage?fileName=2021/08/10/AQFv1_09h.20210810.KNU_09_01.PM2P5.1hsp.2021081121.png</imageUrl4>\n",
      "        <informCode>PM10</informCode>\n",
      "        <imageUrl5>https://www.airkorea.or.kr/file/proxyImage?fileName=2021/08/10/AQFv1_09h.20210810.KNU_09_01.PM2P5.1hsp.2021081203.png</imageUrl5>\n",
      "        <imageUrl6>https://www.airkorea.or.kr/file/proxyImage?fileName=2021/08/10/AQFv1_09h.20210810.KNU_09_01.PM2P5.1hsp.2021081209.png</imageUrl6>\n",
      "        <actionKnack/>\n",
      "        <informCause>○ [미세먼지] 원활한 대기 확산으로 대기 상태가 대체로 청정할 것으로 예상됩니다.</informCause>\n",
      "        <informOverall>○ [미세먼지] 전 권역이 &apos;좋음&apos;∼&apos;보통&apos;으로 예상됩니다.</informOverall>\n",
      "        <informData>2021-08-12</informData>\n",
      "        <informGrade>서울 : 좋음,제주 : 좋음,전남 : 좋음,전북 : 좋음,광주 : 좋음,경남 : 좋음,경북 : 좋음,울산 : 좋음,대구 : 좋음,부산 : 좋음,충남 : 좋음,충북 : 좋음,세종 : 좋음,대전 : 좋음,영동 : 좋음,영서 : 좋음,경기남부 : 보통,경기북부 : 좋음,인천 : 좋음</informGrade>\n",
      "        <dataTime>2021-08-10 17시 발표</dataTime>\n",
      "        <imageUrl3>https://www.airkorea.or.kr/file/proxyImage?fileName=2021/08/10/AQFv1_09h.20210810.KNU_09_01.PM10.1hsp.2021081209.png</imageUrl3>\n",
      "        <imageUrl2>https://www.airkorea.or.kr/file/proxyImage?fileName=2021/08/10/AQFv1_09h.20210810.KNU_09_01.PM10.1hsp.2021081203.png</imageUrl2>\n",
      "        <imageUrl1>https://www.airkorea.or.kr/file/proxyImage?fileName=2021/08/10/AQFv1_09h.20210810.KNU_09_01.PM10.1hsp.2021081121.png</imageUrl1>\n",
      "      </item>\n",
      "      <item>\n",
      "        <imageUrl4>https://www.airkorea.or.kr/file/proxyImage?fileName=2021/08/10/AQFv1_09h.20210810.KNU_09_01.PM2P5.1hsp.2021081021.png</imageUrl4>\n",
      "        <informCode>PM25</informCode>\n",
      "        <imageUrl5>https://www.airkorea.or.kr/file/proxyImage?fileName=2021/08/10/AQFv1_09h.20210810.KNU_09_01.PM2P5.1hsp.2021081103.png</imageUrl5>\n",
      "        <imageUrl6>https://www.airkorea.or.kr/file/proxyImage?fileName=2021/08/10/AQFv1_09h.20210810.KNU_09_01.PM2P5.1hsp.2021081109.png</imageUrl6>\n",
      "        <actionKnack/>\n",
      "        <informCause>○ [미세먼지] 원활한 대기 확산과 강수의 영향으로 대기 상태가 청정할 것으로 예상됩니다.</informCause>\n",
      "        <informOverall>○ [미세먼지] 전 권역이 &apos;좋음&apos;으로 예상됩니다.</informOverall>\n",
      "        <informData>2021-08-10</informData>\n",
      "        <informGrade>서울 : 좋음,제주 : 좋음,전남 : 좋음,전북 : 좋음,광주 : 좋음,경남 : 좋음,경북 : 좋음,울산 : 좋음,대구 : 좋음,부산 : 좋음,충남 : 좋음,충북 : 좋음,세종 : 좋음,대전 : 좋음,영동 : 좋음,영서 : 좋음,경기남부 : 좋음,경기북부 : 좋음,인천 : 좋음</informGrade>\n",
      "        <dataTime>2021-08-10 17시 발표</dataTime>\n",
      "        <imageUrl3>https://www.airkorea.or.kr/file/proxyImage?fileName=2021/08/10/AQFv1_09h.20210810.KNU_09_01.PM10.1hsp.2021081109.png</imageUrl3>\n",
      "        <imageUrl2>https://www.airkorea.or.kr/file/proxyImage?fileName=2021/08/10/AQFv1_09h.20210810.KNU_09_01.PM10.1hsp.2021081103.png</imageUrl2>\n",
      "        <imageUrl1>https://www.airkorea.or.kr/file/proxyImage?fileName=2021/08/10/AQFv1_09h.20210810.KNU_09_01.PM10.1hsp.2021081021.png</imageUrl1>\n",
      "      </item>\n",
      "      <item>\n",
      "        <imageUrl4>https://www.airkorea.or.kr/file/proxyImage?fileName=2021/08/10/AQFv1_09h.20210810.KNU_09_01.PM2P5.1hsp.2021081021.png</imageUrl4>\n",
      "        <informCode>PM25</informCode>\n",
      "        <imageUrl5>https://www.airkorea.or.kr/file/proxyImage?fileName=2021/08/10/AQFv1_09h.20210810.KNU_09_01.PM2P5.1hsp.2021081103.png</imageUrl5>\n",
      "        <imageUrl6>https://www.airkorea.or.kr/file/proxyImage?fileName=2021/08/10/AQFv1_09h.20210810.KNU_09_01.PM2P5.1hsp.2021081109.png</imageUrl6>\n",
      "        <actionKnack/>\n",
      "        <informCause>○ [미세먼지] 원활한 대기 확산으로 대기 상태가 대체로 청정할 것으로 예상됩니다.</informCause>\n",
      "        <informOverall>○ [미세먼지] 전 권역이 &apos;좋음&apos;∼&apos;보통&apos;으로 예상됩니다.</informOverall>\n",
      "        <informData>2021-08-11</informData>\n",
      "        <informGrade>서울 : 보통,제주 : 좋음,전남 : 좋음,전북 : 좋음,광주 : 좋음,경남 : 좋음,경북 : 좋음,울산 : 좋음,대구 : 보통,부산 : 좋음,충남 : 좋음,충북 : 좋음,세종 : 좋음,대전 : 좋음,영동 : 좋음,영서 : 좋음,경기남부 : 보통,경기북부 : 보통,인천 : 보통</informGrade>\n",
      "        <dataTime>2021-08-10 17시 발표</dataTime>\n",
      "        <imageUrl3>https://www.airkorea.or.kr/file/proxyImage?fileName=2021/08/10/AQFv1_09h.20210810.KNU_09_01.PM10.1hsp.2021081109.png</imageUrl3>\n",
      "        <imageUrl2/>\n",
      "        <imageUrl1>https://www.airkorea.or.kr/file/proxyImage?fileName=2021/08/10/AQFv1_09h.20210810.KNU_09_01.PM10.1hsp.2021081021.png</imageUrl1>\n",
      "      </item>\n",
      "      <item>\n",
      "        <imageUrl4>https://www.airkorea.or.kr/file/proxyImage?fileName=2021/08/10/AQFv1_09h.20210810.KNU_09_01.PM2P5.1hsp.2021081121.png</imageUrl4>\n",
      "        <informCode>PM25</informCode>\n",
      "        <imageUrl5>https://www.airkorea.or.kr/file/proxyImage?fileName=2021/08/10/AQFv1_09h.20210810.KNU_09_01.PM2P5.1hsp.2021081203.png</imageUrl5>\n",
      "        <imageUrl6>https://www.airkorea.or.kr/file/proxyImage?fileName=2021/08/10/AQFv1_09h.20210810.KNU_09_01.PM2P5.1hsp.2021081209.png</imageUrl6>\n",
      "        <actionKnack/>\n",
      "        <informCause>○ [미세먼지] 원활한 대기 확산으로 대기 상태가 대체로 청정할 것으로 예상됩니다.</informCause>\n",
      "        <informOverall>○ [미세먼지] 전 권역이 &apos;좋음&apos;∼&apos;보통&apos;으로 예상됩니다.</informOverall>\n",
      "        <informData>2021-08-12</informData>\n",
      "        <informGrade>서울 : 보통,제주 : 좋음,전남 : 좋음,전북 : 좋음,광주 : 좋음,경남 : 좋음,경북 : 좋음,울산 : 좋음,대구 : 좋음,부산 : 좋음,충남 : 보통,충북 : 좋음,세종 : 좋음,대전 : 좋음,영동 : 좋음,영서 : 좋음,경기남부 : 보통,경기북부 : 보통,인천 : 보통</informGrade>\n",
      "        <dataTime>2021-08-10 17시 발표</dataTime>\n",
      "        <imageUrl3>https://www.airkorea.or.kr/file/proxyImage?fileName=2021/08/10/AQFv1_09h.20210810.KNU_09_01.PM10.1hsp.2021081209.png</imageUrl3>\n",
      "        <imageUrl2>https://www.airkorea.or.kr/file/proxyImage?fileName=2021/08/10/AQFv1_09h.20210810.KNU_09_01.PM10.1hsp.2021081203.png</imageUrl2>\n",
      "        <imageUrl1>https://www.airkorea.or.kr/file/proxyImage?fileName=2021/08/10/AQFv1_09h.20210810.KNU_09_01.PM10.1hsp.2021081121.png</imageUrl1>\n",
      "      </item>\n",
      "      <item>\n",
      "        <imageUrl4/>\n",
      "        <informCode>O3</informCode>\n",
      "        <imageUrl5>https://www.airkorea.or.kr/file/proxyImage?fileName=2021/08/10/AQFv1_09h.20210810.KNU_09_01.O3.1hsp.2021081206.png</imageUrl5>\n",
      "        <imageUrl6/>\n",
      "        <actionKnack/>\n",
      "        <informCause>○ [오존] 대기오염물질의 광화학 반응에 의한 오존 생성과 이동으로 대부분 중서부지역과 대부분 남부지역은 오후에 일시적으로 농도가 높을 것으로 예상됩니다.</informCause>\n",
      "        <informOverall>○ [오존] 수도권·충남·전남·영남권은 &apos;나쁨&apos;, 그 밖의 권역은 &apos;보통&apos;으로 예상됩니다.</informOverall>\n",
      "        <informData>2021-08-11</informData>\n",
      "        <informGrade>서울 : 나쁨,제주 : 보통,전남 : 나쁨,전북 : 보통,광주 : 보통,경남 : 나쁨,경북 : 나쁨,울산 : 나쁨,대구 : 나쁨,부산 : 나쁨,충남 : 나쁨,충북 : 보통,세종 : 보통,대전 : 보통,영동 : 보통,영서 : 보통,경기남부 : 나쁨,경기북부 : 나쁨,인천 : 나쁨</informGrade>\n",
      "        <dataTime>2021-08-10 17시 발표</dataTime>\n",
      "        <imageUrl3/>\n",
      "        <imageUrl2/>\n",
      "        <imageUrl1/>\n",
      "      </item>\n",
      "      <item>\n",
      "        <imageUrl4>https://www.airkorea.or.kr/file/proxyImage?fileName=2021/08/10/AQFv4_03h.20210810.KNU_09_01.PM2P5.1hsp.2021081003.png</imageUrl4>\n",
      "        <informCode>PM10</informCode>\n",
      "        <imageUrl5>https://www.airkorea.or.kr/file/proxyImage?fileName=2021/08/10/AQFv4_03h.20210810.KNU_09_01.PM2P5.1hsp.2021081009.png</imageUrl5>\n",
      "        <imageUrl6>https://www.airkorea.or.kr/file/proxyImage?fileName=2021/08/10/AQFv4_03h.20210810.KNU_09_01.PM2P5.1hsp.2021081015.png</imageUrl6>\n",
      "        <actionKnack/>\n",
      "        <informCause>○ [미세먼지] 원활한 대기 확산과 강수의 영향으로 대기 상태가 대체로 청정할 것으로 예상됩니다.</informCause>\n",
      "        <informOverall>○ [미세먼지] 전 권역이 &apos;좋음&apos;∼&apos;보통&apos;으로 예상됩니다.</informOverall>\n",
      "        <informData>2021-08-10</informData>\n",
      "        <informGrade>서울 : 좋음,제주 : 좋음,전남 : 좋음,전북 : 좋음,광주 : 좋음,경남 : 좋음,경북 : 좋음,울산 : 좋음,대구 : 좋음,부산 : 좋음,충남 : 좋음,충북 : 좋음,세종 : 좋음,대전 : 좋음,영동 : 좋음,영서 : 좋음,경기남부 : 좋음,경기북부 : 좋음,인천 : 좋음</informGrade>\n",
      "        <dataTime>2021-08-10 11시 발표</dataTime>\n",
      "        <imageUrl3>https://www.airkorea.or.kr/file/proxyImage?fileName=2021/08/10/AQFv4_03h.20210810.KNU_09_01.PM10.1hsp.2021081015.png</imageUrl3>\n",
      "        <imageUrl2>https://www.airkorea.or.kr/file/proxyImage?fileName=2021/08/10/AQFv4_03h.20210810.KNU_09_01.PM10.1hsp.2021081009.png</imageUrl2>\n",
      "        <imageUrl1>https://www.airkorea.or.kr/file/proxyImage?fileName=2021/08/10/AQFv4_03h.20210810.KNU_09_01.PM10.1hsp.2021081003.png</imageUrl1>\n",
      "      </item>\n",
      "      <item>\n",
      "        <imageUrl4/>\n",
      "        <informCode>PM10</informCode>\n",
      "        <imageUrl5/>\n",
      "        <imageUrl6/>\n",
      "        <actionKnack/>\n",
      "        <informCause>○ [미세먼지] 원활한 대기 확산으로 대기 상태가 대체로 청정할 것으로 예상됩니다.</informCause>\n",
      "        <informOverall>○ [미세먼지] 전 권역이 &apos;좋음&apos;∼&apos;보통&apos;으로 예상됩니다.</informOverall>\n",
      "        <informData>2021-08-11</informData>\n",
      "        <informGrade>서울 : 좋음,제주 : 좋음,전남 : 좋음,전북 : 좋음,광주 : 좋음,경남 : 좋음,경북 : 좋음,울산 : 좋음,대구 : 좋음,부산 : 좋음,충남 : 좋음,충북 : 좋음,세종 : 좋음,대전 : 좋음,영동 : 좋음,영서 : 좋음,경기남부 : 좋음,경기북부 : 좋음,인천 : 보통</informGrade>\n",
      "        <dataTime>2021-08-10 11시 발표</dataTime>\n",
      "        <imageUrl3/>\n",
      "        <imageUrl2/>\n",
      "        <imageUrl1/>\n",
      "      </item>\n",
      "      <item>\n",
      "        <imageUrl4>https://www.airkorea.or.kr/file/proxyImage?fileName=2021/08/10/AQFv4_03h.20210810.KNU_09_01.PM2P5.1hsp.2021081003.png</imageUrl4>\n",
      "        <informCode>PM25</informCode>\n",
      "        <imageUrl5>https://www.airkorea.or.kr/file/proxyImage?fileName=2021/08/10/AQFv4_03h.20210810.KNU_09_01.PM2P5.1hsp.2021081009.png</imageUrl5>\n",
      "        <imageUrl6>https://www.airkorea.or.kr/file/proxyImage?fileName=2021/08/10/AQFv4_03h.20210810.KNU_09_01.PM2P5.1hsp.2021081015.png</imageUrl6>\n",
      "        <actionKnack/>\n",
      "        <informCause>○ [미세먼지] 원활한 대기 확산과 강수의 영향으로 대기 상태가 대체로 청정할 것으로 예상됩니다.</informCause>\n",
      "        <informOverall>○ [미세먼지] 전 권역이 &apos;좋음&apos;∼&apos;보통&apos;으로 예상됩니다.</informOverall>\n",
      "        <informData>2021-08-10</informData>\n",
      "        <informGrade>서울 : 좋음,제주 : 좋음,전남 : 좋음,전북 : 좋음,광주 : 좋음,경남 : 좋음,경북 : 좋음,울산 : 좋음,대구 : 좋음,부산 : 좋음,충남 : 보통,충북 : 좋음,세종 : 좋음,대전 : 좋음,영동 : 좋음,영서 : 좋음,경기남부 : 좋음,경기북부 : 좋음,인천 : 보통</informGrade>\n",
      "        <dataTime>2021-08-10 11시 발표</dataTime>\n",
      "        <imageUrl3>https://www.airkorea.or.kr/file/proxyImage?fileName=2021/08/10/AQFv4_03h.20210810.KNU_09_01.PM10.1hsp.2021081015.png</imageUrl3>\n",
      "        <imageUrl2>https://www.airkorea.or.kr/file/proxyImage?fileName=2021/08/10/AQFv4_03h.20210810.KNU_09_01.PM10.1hsp.2021081009.png</imageUrl2>\n",
      "        <imageUrl1>https://www.airkorea.or.kr/file/proxyImage?fileName=2021/08/10/AQFv4_03h.20210810.KNU_09_01.PM10.1hsp.2021081003.png</imageUrl1>\n",
      "      </item>\n",
      "      <item>\n",
      "        <imageUrl4/>\n",
      "        <informCode>PM25</informCode>\n",
      "        <imageUrl5/>\n",
      "        <imageUrl6/>\n",
      "        <actionKnack/>\n",
      "        <informCause>○ [미세먼지] 원활한 대기 확산으로 대기 상태가 대체로 청정할 것으로 예상됩니다.</informCause>\n",
      "        <informOverall>○ [미세먼지] 전 권역이 &apos;좋음&apos;∼&apos;보통&apos;으로 예상됩니다.</informOverall>\n",
      "        <informData>2021-08-11</informData>\n",
      "        <informGrade>서울 : 보통,제주 : 좋음,전남 : 좋음,전북 : 좋음,광주 : 좋음,경남 : 좋음,경북 : 좋음,울산 : 좋음,대구 : 좋음,부산 : 좋음,충남 : 보통,충북 : 좋음,세종 : 좋음,대전 : 좋음,영동 : 좋음,영서 : 좋음,경기남부 : 보통,경기북부 : 보통,인천 : 보통</informGrade>\n",
      "        <dataTime>2021-08-10 11시 발표</dataTime>\n",
      "        <imageUrl3/>\n",
      "        <imageUrl2/>\n",
      "        <imageUrl1/>\n",
      "      </item>\n",
      "      <item>\n",
      "        <imageUrl4>https://www.airkorea.or.kr/file/proxyImage?fileName=2021/08/10/AQFv4_03h.20210810.KNU_09_01.O3.1hsp.2021081103.png</imageUrl4>\n",
      "        <informCode>O3</informCode>\n",
      "        <imageUrl5>https://www.airkorea.or.kr/file/proxyImage?fileName=2021/08/10/AQFv4_03h.20210810.KNU_09_01.O3.1hsp.2021081106.png</imageUrl5>\n",
      "        <imageUrl6>https://www.airkorea.or.kr/file/proxyImage?fileName=2021/08/10/AQFv4_03h.20210810.KNU_09_01.O3.1hsp.2021081109.png</imageUrl6>\n",
      "        <actionKnack/>\n",
      "        <informCause>○ [오존] 대기오염물질의 광화학 반응에 의한 오존 생성과 이동으로 일부 서쪽지역과 일부 영남지역은 오후에 일시적으로 농도가 높을 것으로 예상됩니다.</informCause>\n",
      "        <informOverall>○ [오존] 인천·경기남부·충남·전남·경북은 &apos;나쁨&apos;, 그 밖의 권역은 &apos;보통&apos;으로 예상됩니다.</informOverall>\n",
      "        <informData>2021-08-10</informData>\n",
      "        <informGrade>서울 : 보통,제주 : 보통,전남 : 나쁨,전북 : 보통,광주 : 보통,경남 : 보통,경북 : 나쁨,울산 : 보통,대구 : 보통,부산 : 보통,충남 : 나쁨,충북 : 보통,세종 : 보통,대전 : 보통,영동 : 보통,영서 : 보통,경기남부 : 나쁨,경기북부 : 보통,인천 : 나쁨</informGrade>\n",
      "        <dataTime>2021-08-10 11시 발표</dataTime>\n",
      "        <imageUrl3>https://www.airkorea.or.kr/file/proxyImage?fileName=2021/08/10/AQFv4_03h.20210810.KNU_09_01.O3.1hsp.2021081009.png</imageUrl3>\n",
      "        <imageUrl2>https://www.airkorea.or.kr/file/proxyImage?fileName=2021/08/10/AQFv4_03h.20210810.KNU_09_01.O3.1hsp.2021081006.png</imageUrl2>\n",
      "        <imageUrl1>https://www.airkorea.or.kr/file/proxyImage?fileName=2021/08/10/AQFv4_03h.20210810.KNU_09_01.O3.1hsp.2021081003.png</imageUrl1>\n",
      "      </item>\n",
      "      <item>\n",
      "        <imageUrl4>https://www.airkorea.or.kr/file/proxyImage?fileName=2021/08/10/AQFv1_21h.20210809.KNU_09_01.PM2P5.1hsp.2021081000.png</imageUrl4>\n",
      "        <informCode>PM10</informCode>\n",
      "        <imageUrl5>https://www.airkorea.or.kr/file/proxyImage?fileName=2021/08/10/AQFv1_21h.20210809.KNU_09_01.PM2P5.1hsp.2021081006.png</imageUrl5>\n",
      "        <imageUrl6>https://www.airkorea.or.kr/file/proxyImage?fileName=2021/08/10/AQFv1_21h.20210809.KNU_09_01.PM2P5.1hsp.2021081012.png</imageUrl6>\n",
      "        <actionKnack/>\n",
      "        <informCause>○ [미세먼지] 원활한 대기 확산과 강수의 영향으로 대기 상태가 대체로 청정할 것으로 예상됩니다.</informCause>\n",
      "        <informOverall>○ [미세먼지] 전 권역이 &apos;좋음&apos;∼&apos;보통&apos;으로 예상됩니다.</informOverall>\n",
      "        <informData>2021-08-10</informData>\n",
      "        <informGrade>서울 : 좋음,제주 : 좋음,전남 : 좋음,전북 : 좋음,광주 : 좋음,경남 : 좋음,경북 : 좋음,울산 : 좋음,대구 : 좋음,부산 : 좋음,충남 : 좋음,충북 : 좋음,세종 : 좋음,대전 : 좋음,영동 : 좋음,영서 : 좋음,경기남부 : 좋음,경기북부 : 좋음,인천 : 좋음</informGrade>\n",
      "        <dataTime>2021-08-10 05시 발표</dataTime>\n",
      "        <imageUrl3>https://www.airkorea.or.kr/file/proxyImage?fileName=2021/08/10/AQFv1_21h.20210809.KNU_09_01.PM10.1hsp.2021081012.png</imageUrl3>\n",
      "        <imageUrl2>https://www.airkorea.or.kr/file/proxyImage?fileName=2021/08/10/AQFv1_21h.20210809.KNU_09_01.PM10.1hsp.2021081006.png</imageUrl2>\n",
      "        <imageUrl1>https://www.airkorea.or.kr/file/proxyImage?fileName=2021/08/10/AQFv1_21h.20210809.KNU_09_01.PM10.1hsp.2021081000.png</imageUrl1>\n",
      "      </item>\n",
      "      <item>\n",
      "        <imageUrl4/>\n",
      "        <informCode>PM10</informCode>\n",
      "        <imageUrl5/>\n",
      "        <imageUrl6/>\n",
      "        <actionKnack/>\n",
      "        <informCause>○ [미세먼지] 원활한 대기 확산으로 대기 상태가 대체로 청정할 것으로 예상됩니다.</informCause>\n",
      "        <informOverall>○ [미세먼지] 전 권역이 &apos;좋음&apos;∼&apos;보통&apos;으로 예상됩니다.</informOverall>\n",
      "        <informData>2021-08-11</informData>\n",
      "        <informGrade>서울 : 좋음,제주 : 좋음,전남 : 좋음,전북 : 좋음,광주 : 좋음,경남 : 좋음,경북 : 좋음,울산 : 좋음,대구 : 좋음,부산 : 좋음,충남 : 좋음,충북 : 좋음,세종 : 좋음,대전 : 좋음,영동 : 좋음,영서 : 좋음,경기남부 : 좋음,경기북부 : 좋음,인천 : 보통</informGrade>\n",
      "        <dataTime>2021-08-10 05시 발표</dataTime>\n",
      "        <imageUrl3/>\n",
      "        <imageUrl2/>\n",
      "        <imageUrl1/>\n",
      "      </item>\n",
      "      <item>\n",
      "        <imageUrl4>https://www.airkorea.or.kr/file/proxyImage?fileName=2021/08/10/AQFv1_21h.20210809.KNU_09_01.PM2P5.1hsp.2021081000.png</imageUrl4>\n",
      "        <informCode>PM25</informCode>\n",
      "        <imageUrl5>https://www.airkorea.or.kr/file/proxyImage?fileName=2021/08/10/AQFv1_21h.20210809.KNU_09_01.PM2P5.1hsp.2021081006.png</imageUrl5>\n",
      "        <imageUrl6>https://www.airkorea.or.kr/file/proxyImage?fileName=2021/08/10/AQFv1_21h.20210809.KNU_09_01.PM2P5.1hsp.2021081012.png</imageUrl6>\n",
      "        <actionKnack/>\n",
      "        <informCause>○ [미세먼지] 원활한 대기 확산과 강수의 영향으로 대기 상태가 대체로 청정할 것으로 예상됩니다.</informCause>\n",
      "        <informOverall>○ [미세먼지] 전 권역이 &apos;좋음&apos;∼&apos;보통&apos;으로 예상됩니다.</informOverall>\n",
      "        <informData>2021-08-10</informData>\n",
      "        <informGrade>서울 : 좋음,제주 : 좋음,전남 : 좋음,전북 : 보통,광주 : 좋음,경남 : 좋음,경북 : 좋음,울산 : 좋음,대구 : 좋음,부산 : 좋음,충남 : 보통,충북 : 좋음,세종 : 좋음,대전 : 좋음,영동 : 좋음,영서 : 좋음,경기남부 : 좋음,경기북부 : 좋음,인천 : 보통</informGrade>\n",
      "        <dataTime>2021-08-10 05시 발표</dataTime>\n",
      "        <imageUrl3>https://www.airkorea.or.kr/file/proxyImage?fileName=2021/08/10/AQFv1_21h.20210809.KNU_09_01.PM10.1hsp.2021081012.png</imageUrl3>\n",
      "        <imageUrl2>https://www.airkorea.or.kr/file/proxyImage?fileName=2021/08/10/AQFv1_21h.20210809.KNU_09_01.PM10.1hsp.2021081006.png</imageUrl2>\n",
      "        <imageUrl1>https://www.airkorea.or.kr/file/proxyImage?fileName=2021/08/10/AQFv1_21h.20210809.KNU_09_01.PM10.1hsp.2021081000.png</imageUrl1>\n",
      "      </item>\n",
      "      <item>\n",
      "        <imageUrl4/>\n",
      "        <informCode>PM25</informCode>\n",
      "        <imageUrl5/>\n",
      "        <imageUrl6/>\n",
      "        <actionKnack/>\n",
      "        <informCause>○ [미세먼지] 원활한 대기 확산으로 대기 상태가 대체로 청정할 것으로 예상됩니다.</informCause>\n",
      "        <informOverall>○ [미세먼지] 전 권역이 &apos;좋음&apos;∼&apos;보통&apos;으로 예상됩니다.</informOverall>\n",
      "        <informData>2021-08-11</informData>\n",
      "        <informGrade>서울 : 보통,제주 : 좋음,전남 : 좋음,전북 : 좋음,광주 : 좋음,경남 : 좋음,경북 : 좋음,울산 : 좋음,대구 : 좋음,부산 : 좋음,충남 : 보통,충북 : 좋음,세종 : 좋음,대전 : 좋음,영동 : 좋음,영서 : 좋음,경기남부 : 보통,경기북부 : 보통,인천 : 보통</informGrade>\n",
      "        <dataTime>2021-08-10 05시 발표</dataTime>\n",
      "        <imageUrl3/>\n",
      "        <imageUrl2/>\n",
      "        <imageUrl1/>\n",
      "      </item>\n",
      "      <item>\n",
      "        <imageUrl4>https://www.airkorea.or.kr/file/proxyImage?fileName=2021/08/10/AQFv1_21h.20210809.KNU_09_01.O3.1hsp.2021081103.png</imageUrl4>\n",
      "        <informCode>O3</informCode>\n",
      "        <imageUrl5>https://www.airkorea.or.kr/file/proxyImage?fileName=2021/08/10/AQFv1_21h.20210809.KNU_09_01.O3.1hsp.2021081106.png</imageUrl5>\n",
      "        <imageUrl6>https://www.airkorea.or.kr/file/proxyImage?fileName=2021/08/10/AQFv1_21h.20210809.KNU_09_01.O3.1hsp.2021081109.png</imageUrl6>\n",
      "        <actionKnack/>\n",
      "        <informCause>○ [오존] 대기오염물질의 광화학 반응에 의한 오존 생성과 이동으로 일부 서쪽지역과 일부 영남지역은 오후에 일시적으로 농도가 높을 것으로 예상됩니다.</informCause>\n",
      "        <informOverall>○ [오존] 인천·경기남부·충남·전남·경북은 &apos;나쁨&apos;, 그 밖의 권역은 &apos;보통&apos;으로 예상됩니다.</informOverall>\n",
      "        <informData>2021-08-10</informData>\n",
      "        <informGrade>서울 : 보통,제주 : 보통,전남 : 나쁨,전북 : 보통,광주 : 보통,경남 : 보통,경북 : 나쁨,울산 : 보통,대구 : 보통,부산 : 보통,충남 : 나쁨,충북 : 보통,세종 : 보통,대전 : 보통,영동 : 보통,영서 : 보통,경기남부 : 나쁨,경기북부 : 보통,인천 : 나쁨</informGrade>\n",
      "        <dataTime>2021-08-10 05시 발표</dataTime>\n",
      "        <imageUrl3>https://www.airkorea.or.kr/file/proxyImage?fileName=2021/08/10/AQFv1_21h.20210809.KNU_09_01.O3.1hsp.2021081009.png</imageUrl3>\n",
      "        <imageUrl2>https://www.airkorea.or.kr/file/proxyImage?fileName=2021/08/10/AQFv1_21h.20210809.KNU_09_01.O3.1hsp.2021081006.png</imageUrl2>\n",
      "        <imageUrl1>https://www.airkorea.or.kr/file/proxyImage?fileName=2021/08/10/AQFv1_21h.20210809.KNU_09_01.O3.1hsp.2021081003.png</imageUrl1>\n",
      "      </item>\n",
      "    </items>\n",
      "    <numOfRows>10</numOfRows>\n",
      "    <pageNo>1</pageNo>\n",
      "    <totalCount>24</totalCount>\n",
      "  </body>\n",
      "</response>\n"
     ]
    }
   ],
   "source": [
    "print (data)"
   ]
  },
  {
   "cell_type": "markdown",
   "metadata": {},
   "source": [
    "### 일괄실행"
   ]
  },
  {
   "cell_type": "code",
   "execution_count": 17,
   "metadata": {
    "slideshow": {
     "slide_type": "-"
    }
   },
   "outputs": [
    {
     "name": "stdout",
     "output_type": "stream",
     "text": [
      "Overwriting src/ds_open_gokr_ex.py\n"
     ]
    }
   ],
   "source": [
    "%%writefile src/ds_open_gokr_ex.py\n",
    "#!/usr/bin/env python\n",
    "# coding: utf-8\n",
    "import os\n",
    "import requests\n",
    "import urllib\n",
    "import mylib\n",
    "\n",
    "def doIt():\n",
    "    # (1) key\n",
    "    keyPath=os.path.join(os.getcwd(), 'src', 'key.properties')\n",
    "    key=mylib.getKey(keyPath)\n",
    "    keygokr=key['gokr'] # keygokr='8Bx4C1%2B...'\n",
    "    # (2) service + operation\n",
    "    SERVICE='ArpltnInforInqireSvc'\n",
    "    OPERATION_NAME='getMinuDustFrcstDspth'\n",
    "    params1=os.path.join(SERVICE,OPERATION_NAME)\n",
    "    # (3) query params encoding\n",
    "    _d=dict()\n",
    "    _d['searchDate']='2021-08-10'\n",
    "    params2 = urllib.parse.urlencode(_d)\n",
    "    # (4) make a full url\n",
    "    params=params1+'?'+'serviceKey='+keygokr+'&'+params2\n",
    "    #OLD: _url='http://openapi.airkorea.or.kr/openapi/services/rest/ArpltnInforInqireSvc'\n",
    "    _url='http://apis.data.go.kr/B552584'\n",
    "    #url=urllib.parse.urljoin(_url,params)\n",
    "    url=\"/\".join([_url,params])\n",
    "    # (5) get data\n",
    "    data=requests.get(url).text\n",
    "    print (data)\n",
    "\n",
    "if __name__ == \"__main__\":\n",
    "    doIt()"
   ]
  },
  {
   "cell_type": "markdown",
   "metadata": {},
   "source": [
    "* 공공데이터 포털 go.kr의 '대기오염정보 조회 서비스'"
   ]
  },
  {
   "cell_type": "code",
   "execution_count": 18,
   "metadata": {
    "slideshow": {
     "slide_type": "subslide"
    }
   },
   "outputs": [
    {
     "name": "stdout",
     "output_type": "stream",
     "text": [
      "<?xml version=\"1.0\" encoding=\"UTF-8\"?>\n",
      "<response>\n",
      "  <header>\n",
      "    <resultCode>00</resultCode>\n",
      "    <resultMsg>NORMAL_CODE</resultMsg>\n",
      "  </header>\n",
      "  <body>\n",
      "    <items>\n",
      "      <item>\n",
      "        <imageUrl4>https://www.airkorea.or.kr/file/proxyImage?fileName=2021/08/10/AQFv1_15h.20210810.KNU_09_01.PM2P5.1hsp.2021081021.png</imageUrl4>\n",
      "        <informCode>PM10</informCode>\n",
      "        <imageUrl5>https://www.airkorea.or.kr/file/proxyImage?fileName=2021/08/10/AQFv1_15h.20210810.KNU_09_01.PM2P5.1hsp.2021081103.png</imageUrl5>\n",
      "        <imageUrl6>https://www.airkorea.or.kr/file/proxyImage?fileName=2021/08/10/AQFv1_15h.20210810.KNU_09_01.PM2P5.1hsp.2021081109.png</imageUrl6>\n",
      "        <actionKnack/>\n",
      "        <informCause>○ [미세먼지] 원활한 대기 확산과 강수의 영향으로 대기 상태가 청정할 것으로 예상됩니다.</informCause>\n",
      "        <informOverall>○ [미세먼지] 전 권역이 &apos;좋음&apos;으로 예상됩니다.</informOverall>\n",
      "        <informData>2021-08-10</informData>\n",
      "        <informGrade>서울 : 좋음,제주 : 좋음,전남 : 좋음,전북 : 좋음,광주 : 좋음,경남 : 좋음,경북 : 좋음,울산 : 좋음,대구 : 좋음,부산 : 좋음,충남 : 좋음,충북 : 좋음,세종 : 좋음,대전 : 좋음,영동 : 좋음,영서 : 좋음,경기남부 : 좋음,경기북부 : 좋음,인천 : 좋음</informGrade>\n",
      "        <dataTime>2021-08-10 23시 발표</dataTime>\n",
      "        <imageUrl3>https://www.airkorea.or.kr/file/proxyImage?fileName=2021/08/10/AQFv1_15h.20210810.KNU_09_01.PM10.1hsp.2021081109.png</imageUrl3>\n",
      "        <imageUrl2>https://www.airkorea.or.kr/file/proxyImage?fileName=2021/08/10/AQFv1_15h.20210810.KNU_09_01.PM10.1hsp.2021081103.png</imageUrl2>\n",
      "        <imageUrl1>https://www.airkorea.or.kr/file/proxyImage?fileName=2021/08/10/AQFv1_15h.20210810.KNU_09_01.PM10.1hsp.2021081021.png</imageUrl1>\n",
      "      </item>\n",
      "      <item>\n",
      "        <imageUrl4>https://www.airkorea.or.kr/file/proxyImage?fileName=2021/08/10/AQFv1_15h.20210810.KNU_09_01.PM2P5.1hsp.2021081021.png</imageUrl4>\n",
      "        <informCode>PM10</informCode>\n",
      "        <imageUrl5>https://www.airkorea.or.kr/file/proxyImage?fileName=2021/08/10/AQFv1_15h.20210810.KNU_09_01.PM2P5.1hsp.2021081103.png</imageUrl5>\n",
      "        <imageUrl6>https://www.airkorea.or.kr/file/proxyImage?fileName=2021/08/10/AQFv1_15h.20210810.KNU_09_01.PM2P5.1hsp.2021081109.png</imageUrl6>\n",
      "        <actionKnack/>\n",
      "        <informCause>○ [미세먼지] 원활한 대기 확산으로 대기 상태가 대체로 청정할 것으로 예상됩니다.</informCause>\n",
      "        <informOverall>○ [미세먼지] 전 권역이 &apos;좋음&apos;∼&apos;보통&apos;으로 예상됩니다.</informOverall>\n",
      "        <informData>2021-08-11</informData>\n",
      "        <informGrade>서울 : 좋음,제주 : 좋음,전남 : 좋음,전북 : 좋음,광주 : 좋음,경남 : 좋음,경북 : 좋음,울산 : 좋음,대구 : 좋음,부산 : 좋음,충남 : 좋음,충북 : 좋음,세종 : 좋음,대전 : 좋음,영동 : 좋음,영서 : 좋음,경기남부 : 좋음,경기북부 : 좋음,인천 : 좋음</informGrade>\n",
      "        <dataTime>2021-08-10 23시 발표</dataTime>\n",
      "        <imageUrl3>https://www.airkorea.or.kr/file/proxyImage?fileName=2021/08/10/AQFv1_15h.20210810.KNU_09_01.PM10.1hsp.2021081109.png</imageUrl3>\n",
      "        <imageUrl2>https://www.airkorea.or.kr/file/proxyImage?fileName=2021/08/10/AQFv1_15h.20210810.KNU_09_01.PM10.1hsp.2021081103.png</imageUrl2>\n",
      "        <imageUrl1>https://www.airkorea.or.kr/file/proxyImage?fileName=2021/08/10/AQFv1_15h.20210810.KNU_09_01.PM10.1hsp.2021081021.png</imageUrl1>\n",
      "      </item>\n",
      "      <item>\n",
      "        <imageUrl4>https://www.airkorea.or.kr/file/proxyImage?fileName=2021/08/10/AQFv1_15h.20210810.KNU_09_01.PM2P5.1hsp.2021081121.png</imageUrl4>\n",
      "        <informCode>PM10</informCode>\n",
      "        <imageUrl5>https://www.airkorea.or.kr/file/proxyImage?fileName=2021/08/10/AQFv1_15h.20210810.KNU_09_01.PM2P5.1hsp.2021081203.png</imageUrl5>\n",
      "        <imageUrl6>https://www.airkorea.or.kr/file/proxyImage?fileName=2021/08/10/AQFv1_15h.20210810.KNU_09_01.PM2P5.1hsp.2021081209.png</imageUrl6>\n",
      "        <actionKnack/>\n",
      "        <informCause>○ [미세먼지] 원활한 대기 확산으로 대기 상태가 대체로 청정할 것으로 예상됩니다.</informCause>\n",
      "        <informOverall>○ [미세먼지] 전 권역이 &apos;좋음&apos;∼&apos;보통&apos;으로 예상됩니다.</informOverall>\n",
      "        <informData>2021-08-12</informData>\n",
      "        <informGrade>서울 : 좋음,제주 : 좋음,전남 : 좋음,전북 : 좋음,광주 : 좋음,경남 : 좋음,경북 : 좋음,울산 : 좋음,대구 : 좋음,부산 : 좋음,충남 : 좋음,충북 : 좋음,세종 : 좋음,대전 : 좋음,영동 : 좋음,영서 : 좋음,경기남부 : 보통,경기북부 : 좋음,인천 : 좋음</informGrade>\n",
      "        <dataTime>2021-08-10 23시 발표</dataTime>\n",
      "        <imageUrl3>https://www.airkorea.or.kr/file/proxyImage?fileName=2021/08/10/AQFv1_15h.20210810.KNU_09_01.PM10.1hsp.2021081209.png</imageUrl3>\n",
      "        <imageUrl2>https://www.airkorea.or.kr/file/proxyImage?fileName=2021/08/10/AQFv1_15h.20210810.KNU_09_01.PM10.1hsp.2021081203.png</imageUrl2>\n",
      "        <imageUrl1>https://www.airkorea.or.kr/file/proxyImage?fileName=2021/08/10/AQFv1_15h.20210810.KNU_09_01.PM10.1hsp.2021081121.png</imageUrl1>\n",
      "      </item>\n",
      "      <item>\n",
      "        <imageUrl4>https://www.airkorea.or.kr/file/proxyImage?fileName=2021/08/10/AQFv1_15h.20210810.KNU_09_01.PM2P5.1hsp.2021081021.png</imageUrl4>\n",
      "        <informCode>PM25</informCode>\n",
      "        <imageUrl5>https://www.airkorea.or.kr/file/proxyImage?fileName=2021/08/10/AQFv1_15h.20210810.KNU_09_01.PM2P5.1hsp.2021081103.png</imageUrl5>\n",
      "        <imageUrl6>https://www.airkorea.or.kr/file/proxyImage?fileName=2021/08/10/AQFv1_15h.20210810.KNU_09_01.PM2P5.1hsp.2021081109.png</imageUrl6>\n",
      "        <actionKnack/>\n",
      "        <informCause>○ [미세먼지] 원활한 대기 확산과 강수의 영향으로 대기 상태가 청정할 것으로 예상됩니다.</informCause>\n",
      "        <informOverall>○ [미세먼지] 전 권역이 &apos;좋음&apos;으로 예상됩니다.</informOverall>\n",
      "        <informData>2021-08-10</informData>\n",
      "        <informGrade>서울 : 좋음,제주 : 좋음,전남 : 좋음,전북 : 좋음,광주 : 좋음,경남 : 좋음,경북 : 좋음,울산 : 좋음,대구 : 좋음,부산 : 좋음,충남 : 좋음,충북 : 좋음,세종 : 좋음,대전 : 좋음,영동 : 좋음,영서 : 좋음,경기남부 : 좋음,경기북부 : 좋음,인천 : 좋음</informGrade>\n",
      "        <dataTime>2021-08-10 23시 발표</dataTime>\n",
      "        <imageUrl3>https://www.airkorea.or.kr/file/proxyImage?fileName=2021/08/10/AQFv1_15h.20210810.KNU_09_01.PM10.1hsp.2021081109.png</imageUrl3>\n",
      "        <imageUrl2>https://www.airkorea.or.kr/file/proxyImage?fileName=2021/08/10/AQFv1_15h.20210810.KNU_09_01.PM10.1hsp.2021081103.png</imageUrl2>\n",
      "        <imageUrl1>https://www.airkorea.or.kr/file/proxyImage?fileName=2021/08/10/AQFv1_15h.20210810.KNU_09_01.PM10.1hsp.2021081021.png</imageUrl1>\n",
      "      </item>\n",
      "      <item>\n",
      "        <imageUrl4>https://www.airkorea.or.kr/file/proxyImage?fileName=2021/08/10/AQFv1_15h.20210810.KNU_09_01.PM2P5.1hsp.2021081021.png</imageUrl4>\n",
      "        <informCode>PM25</informCode>\n",
      "        <imageUrl5>https://www.airkorea.or.kr/file/proxyImage?fileName=2021/08/10/AQFv1_15h.20210810.KNU_09_01.PM2P5.1hsp.2021081103.png</imageUrl5>\n",
      "        <imageUrl6>https://www.airkorea.or.kr/file/proxyImage?fileName=2021/08/10/AQFv1_15h.20210810.KNU_09_01.PM2P5.1hsp.2021081109.png</imageUrl6>\n",
      "        <actionKnack/>\n",
      "        <informCause>○ [미세먼지] 원활한 대기 확산으로 대기 상태가 대체로 청정할 것으로 예상됩니다.</informCause>\n",
      "        <informOverall>○ [미세먼지] 전 권역이 &apos;좋음&apos;∼&apos;보통&apos;으로 예상됩니다.</informOverall>\n",
      "        <informData>2021-08-11</informData>\n",
      "        <informGrade>서울 : 보통,제주 : 좋음,전남 : 좋음,전북 : 좋음,광주 : 좋음,경남 : 좋음,경북 : 좋음,울산 : 좋음,대구 : 보통,부산 : 좋음,충남 : 보통,충북 : 좋음,세종 : 좋음,대전 : 좋음,영동 : 좋음,영서 : 좋음,경기남부 : 보통,경기북부 : 보통,인천 : 보통</informGrade>\n",
      "        <dataTime>2021-08-10 23시 발표</dataTime>\n",
      "        <imageUrl3>https://www.airkorea.or.kr/file/proxyImage?fileName=2021/08/10/AQFv1_15h.20210810.KNU_09_01.PM10.1hsp.2021081109.png</imageUrl3>\n",
      "        <imageUrl2/>\n",
      "        <imageUrl1>https://www.airkorea.or.kr/file/proxyImage?fileName=2021/08/10/AQFv1_15h.20210810.KNU_09_01.PM10.1hsp.2021081021.png</imageUrl1>\n",
      "      </item>\n",
      "      <item>\n",
      "        <imageUrl4>https://www.airkorea.or.kr/file/proxyImage?fileName=2021/08/10/AQFv1_15h.20210810.KNU_09_01.PM2P5.1hsp.2021081121.png</imageUrl4>\n",
      "        <informCode>PM25</informCode>\n",
      "        <imageUrl5>https://www.airkorea.or.kr/file/proxyImage?fileName=2021/08/10/AQFv1_15h.20210810.KNU_09_01.PM2P5.1hsp.2021081203.png</imageUrl5>\n",
      "        <imageUrl6>https://www.airkorea.or.kr/file/proxyImage?fileName=2021/08/10/AQFv1_15h.20210810.KNU_09_01.PM2P5.1hsp.2021081209.png</imageUrl6>\n",
      "        <actionKnack/>\n",
      "        <informCause>○ [미세먼지] 원활한 대기 확산으로 대기 상태가 대체로 청정할 것으로 예상됩니다.</informCause>\n",
      "        <informOverall>○ [미세먼지] 전 권역이 &apos;좋음&apos;∼&apos;보통&apos;으로 예상됩니다.</informOverall>\n",
      "        <informData>2021-08-12</informData>\n",
      "        <informGrade>서울 : 보통,제주 : 좋음,전남 : 좋음,전북 : 좋음,광주 : 좋음,경남 : 좋음,경북 : 좋음,울산 : 좋음,대구 : 좋음,부산 : 좋음,충남 : 보통,충북 : 좋음,세종 : 좋음,대전 : 좋음,영동 : 좋음,영서 : 좋음,경기남부 : 보통,경기북부 : 보통,인천 : 보통</informGrade>\n",
      "        <dataTime>2021-08-10 23시 발표</dataTime>\n",
      "        <imageUrl3>https://www.airkorea.or.kr/file/proxyImage?fileName=2021/08/10/AQFv1_15h.20210810.KNU_09_01.PM10.1hsp.2021081209.png</imageUrl3>\n",
      "        <imageUrl2>https://www.airkorea.or.kr/file/proxyImage?fileName=2021/08/10/AQFv1_15h.20210810.KNU_09_01.PM10.1hsp.2021081203.png</imageUrl2>\n",
      "        <imageUrl1>https://www.airkorea.or.kr/file/proxyImage?fileName=2021/08/10/AQFv1_15h.20210810.KNU_09_01.PM10.1hsp.2021081121.png</imageUrl1>\n",
      "      </item>\n",
      "      <item>\n",
      "        <imageUrl4/>\n",
      "        <informCode>O3</informCode>\n",
      "        <imageUrl5>https://www.airkorea.or.kr/file/proxyImage?fileName=2021/08/10/AQFv1_15h.20210810.KNU_09_01.O3.1hsp.2021081206.png</imageUrl5>\n",
      "        <imageUrl6/>\n",
      "        <actionKnack/>\n",
      "        <informCause>○ [오존] 대기오염물질의 광화학 반응에 의한 오존 생성과 이동으로 대부분 중서부지역과 대부분 남부지역은 오후에 일시적으로 농도가 높을 것으로 예상됩니다.</informCause>\n",
      "        <informOverall>○ [오존] 수도권·충남·전남·영남권은 &apos;나쁨&apos;, 그 밖의 권역은 &apos;보통&apos;으로 예상됩니다.</informOverall>\n",
      "        <informData>2021-08-11</informData>\n",
      "        <informGrade>서울 : 나쁨,제주 : 보통,전남 : 나쁨,전북 : 보통,광주 : 보통,경남 : 나쁨,경북 : 나쁨,울산 : 나쁨,대구 : 나쁨,부산 : 나쁨,충남 : 나쁨,충북 : 보통,세종 : 보통,대전 : 보통,영동 : 보통,영서 : 보통,경기남부 : 나쁨,경기북부 : 나쁨,인천 : 나쁨</informGrade>\n",
      "        <dataTime>2021-08-10 23시 발표</dataTime>\n",
      "        <imageUrl3/>\n",
      "        <imageUrl2/>\n",
      "        <imageUrl1/>\n",
      "      </item>\n",
      "      <item>\n",
      "        <imageUrl4>https://www.airkorea.or.kr/file/proxyImage?fileName=2021/08/10/AQFv1_09h.20210810.KNU_09_01.PM2P5.1hsp.2021081021.png</imageUrl4>\n",
      "        <informCode>PM10</informCode>\n",
      "        <imageUrl5>https://www.airkorea.or.kr/file/proxyImage?fileName=2021/08/10/AQFv1_09h.20210810.KNU_09_01.PM2P5.1hsp.2021081103.png</imageUrl5>\n",
      "        <imageUrl6>https://www.airkorea.or.kr/file/proxyImage?fileName=2021/08/10/AQFv1_09h.20210810.KNU_09_01.PM2P5.1hsp.2021081109.png</imageUrl6>\n",
      "        <actionKnack/>\n",
      "        <informCause>○ [미세먼지] 원활한 대기 확산과 강수의 영향으로 대기 상태가 청정할 것으로 예상됩니다.</informCause>\n",
      "        <informOverall>○ [미세먼지] 전 권역이 &apos;좋음&apos;으로 예상됩니다.</informOverall>\n",
      "        <informData>2021-08-10</informData>\n",
      "        <informGrade>서울 : 좋음,제주 : 좋음,전남 : 좋음,전북 : 좋음,광주 : 좋음,경남 : 좋음,경북 : 좋음,울산 : 좋음,대구 : 좋음,부산 : 좋음,충남 : 좋음,충북 : 좋음,세종 : 좋음,대전 : 좋음,영동 : 좋음,영서 : 좋음,경기남부 : 좋음,경기북부 : 좋음,인천 : 좋음</informGrade>\n",
      "        <dataTime>2021-08-10 17시 발표</dataTime>\n",
      "        <imageUrl3>https://www.airkorea.or.kr/file/proxyImage?fileName=2021/08/10/AQFv1_09h.20210810.KNU_09_01.PM10.1hsp.2021081109.png</imageUrl3>\n",
      "        <imageUrl2>https://www.airkorea.or.kr/file/proxyImage?fileName=2021/08/10/AQFv1_09h.20210810.KNU_09_01.PM10.1hsp.2021081103.png</imageUrl2>\n",
      "        <imageUrl1>https://www.airkorea.or.kr/file/proxyImage?fileName=2021/08/10/AQFv1_09h.20210810.KNU_09_01.PM10.1hsp.2021081021.png</imageUrl1>\n",
      "      </item>\n",
      "      <item>\n",
      "        <imageUrl4>https://www.airkorea.or.kr/file/proxyImage?fileName=2021/08/10/AQFv1_09h.20210810.KNU_09_01.PM2P5.1hsp.2021081021.png</imageUrl4>\n",
      "        <informCode>PM10</informCode>\n",
      "        <imageUrl5>https://www.airkorea.or.kr/file/proxyImage?fileName=2021/08/10/AQFv1_09h.20210810.KNU_09_01.PM2P5.1hsp.2021081103.png</imageUrl5>\n",
      "        <imageUrl6>https://www.airkorea.or.kr/file/proxyImage?fileName=2021/08/10/AQFv1_09h.20210810.KNU_09_01.PM2P5.1hsp.2021081109.png</imageUrl6>\n",
      "        <actionKnack/>\n",
      "        <informCause>○ [미세먼지] 원활한 대기 확산으로 대기 상태가 대체로 청정할 것으로 예상됩니다.</informCause>\n",
      "        <informOverall>○ [미세먼지] 전 권역이 &apos;좋음&apos;∼&apos;보통&apos;으로 예상됩니다.</informOverall>\n",
      "        <informData>2021-08-11</informData>\n",
      "        <informGrade>서울 : 좋음,제주 : 좋음,전남 : 좋음,전북 : 좋음,광주 : 좋음,경남 : 좋음,경북 : 좋음,울산 : 좋음,대구 : 좋음,부산 : 좋음,충남 : 좋음,충북 : 좋음,세종 : 좋음,대전 : 좋음,영동 : 좋음,영서 : 좋음,경기남부 : 좋음,경기북부 : 좋음,인천 : 좋음</informGrade>\n",
      "        <dataTime>2021-08-10 17시 발표</dataTime>\n",
      "        <imageUrl3>https://www.airkorea.or.kr/file/proxyImage?fileName=2021/08/10/AQFv1_09h.20210810.KNU_09_01.PM10.1hsp.2021081109.png</imageUrl3>\n",
      "        <imageUrl2>https://www.airkorea.or.kr/file/proxyImage?fileName=2021/08/10/AQFv1_09h.20210810.KNU_09_01.PM10.1hsp.2021081103.png</imageUrl2>\n",
      "        <imageUrl1>https://www.airkorea.or.kr/file/proxyImage?fileName=2021/08/10/AQFv1_09h.20210810.KNU_09_01.PM10.1hsp.2021081021.png</imageUrl1>\n",
      "      </item>\n",
      "      <item>\n",
      "        <imageUrl4>https://www.airkorea.or.kr/file/proxyImage?fileName=2021/08/10/AQFv1_09h.20210810.KNU_09_01.PM2P5.1hsp.2021081121.png</imageUrl4>\n",
      "        <informCode>PM10</informCode>\n",
      "        <imageUrl5>https://www.airkorea.or.kr/file/proxyImage?fileName=2021/08/10/AQFv1_09h.20210810.KNU_09_01.PM2P5.1hsp.2021081203.png</imageUrl5>\n",
      "        <imageUrl6>https://www.airkorea.or.kr/file/proxyImage?fileName=2021/08/10/AQFv1_09h.20210810.KNU_09_01.PM2P5.1hsp.2021081209.png</imageUrl6>\n",
      "        <actionKnack/>\n",
      "        <informCause>○ [미세먼지] 원활한 대기 확산으로 대기 상태가 대체로 청정할 것으로 예상됩니다.</informCause>\n",
      "        <informOverall>○ [미세먼지] 전 권역이 &apos;좋음&apos;∼&apos;보통&apos;으로 예상됩니다.</informOverall>\n",
      "        <informData>2021-08-12</informData>\n",
      "        <informGrade>서울 : 좋음,제주 : 좋음,전남 : 좋음,전북 : 좋음,광주 : 좋음,경남 : 좋음,경북 : 좋음,울산 : 좋음,대구 : 좋음,부산 : 좋음,충남 : 좋음,충북 : 좋음,세종 : 좋음,대전 : 좋음,영동 : 좋음,영서 : 좋음,경기남부 : 보통,경기북부 : 좋음,인천 : 좋음</informGrade>\n",
      "        <dataTime>2021-08-10 17시 발표</dataTime>\n",
      "        <imageUrl3>https://www.airkorea.or.kr/file/proxyImage?fileName=2021/08/10/AQFv1_09h.20210810.KNU_09_01.PM10.1hsp.2021081209.png</imageUrl3>\n",
      "        <imageUrl2>https://www.airkorea.or.kr/file/proxyImage?fileName=2021/08/10/AQFv1_09h.20210810.KNU_09_01.PM10.1hsp.2021081203.png</imageUrl2>\n",
      "        <imageUrl1>https://www.airkorea.or.kr/file/proxyImage?fileName=2021/08/10/AQFv1_09h.20210810.KNU_09_01.PM10.1hsp.2021081121.png</imageUrl1>\n",
      "      </item>\n",
      "      <item>\n",
      "        <imageUrl4>https://www.airkorea.or.kr/file/proxyImage?fileName=2021/08/10/AQFv1_09h.20210810.KNU_09_01.PM2P5.1hsp.2021081021.png</imageUrl4>\n",
      "        <informCode>PM25</informCode>\n",
      "        <imageUrl5>https://www.airkorea.or.kr/file/proxyImage?fileName=2021/08/10/AQFv1_09h.20210810.KNU_09_01.PM2P5.1hsp.2021081103.png</imageUrl5>\n",
      "        <imageUrl6>https://www.airkorea.or.kr/file/proxyImage?fileName=2021/08/10/AQFv1_09h.20210810.KNU_09_01.PM2P5.1hsp.2021081109.png</imageUrl6>\n",
      "        <actionKnack/>\n",
      "        <informCause>○ [미세먼지] 원활한 대기 확산과 강수의 영향으로 대기 상태가 청정할 것으로 예상됩니다.</informCause>\n",
      "        <informOverall>○ [미세먼지] 전 권역이 &apos;좋음&apos;으로 예상됩니다.</informOverall>\n",
      "        <informData>2021-08-10</informData>\n",
      "        <informGrade>서울 : 좋음,제주 : 좋음,전남 : 좋음,전북 : 좋음,광주 : 좋음,경남 : 좋음,경북 : 좋음,울산 : 좋음,대구 : 좋음,부산 : 좋음,충남 : 좋음,충북 : 좋음,세종 : 좋음,대전 : 좋음,영동 : 좋음,영서 : 좋음,경기남부 : 좋음,경기북부 : 좋음,인천 : 좋음</informGrade>\n",
      "        <dataTime>2021-08-10 17시 발표</dataTime>\n",
      "        <imageUrl3>https://www.airkorea.or.kr/file/proxyImage?fileName=2021/08/10/AQFv1_09h.20210810.KNU_09_01.PM10.1hsp.2021081109.png</imageUrl3>\n",
      "        <imageUrl2>https://www.airkorea.or.kr/file/proxyImage?fileName=2021/08/10/AQFv1_09h.20210810.KNU_09_01.PM10.1hsp.2021081103.png</imageUrl2>\n",
      "        <imageUrl1>https://www.airkorea.or.kr/file/proxyImage?fileName=2021/08/10/AQFv1_09h.20210810.KNU_09_01.PM10.1hsp.2021081021.png</imageUrl1>\n",
      "      </item>\n",
      "      <item>\n",
      "        <imageUrl4>https://www.airkorea.or.kr/file/proxyImage?fileName=2021/08/10/AQFv1_09h.20210810.KNU_09_01.PM2P5.1hsp.2021081021.png</imageUrl4>\n",
      "        <informCode>PM25</informCode>\n",
      "        <imageUrl5>https://www.airkorea.or.kr/file/proxyImage?fileName=2021/08/10/AQFv1_09h.20210810.KNU_09_01.PM2P5.1hsp.2021081103.png</imageUrl5>\n",
      "        <imageUrl6>https://www.airkorea.or.kr/file/proxyImage?fileName=2021/08/10/AQFv1_09h.20210810.KNU_09_01.PM2P5.1hsp.2021081109.png</imageUrl6>\n",
      "        <actionKnack/>\n",
      "        <informCause>○ [미세먼지] 원활한 대기 확산으로 대기 상태가 대체로 청정할 것으로 예상됩니다.</informCause>\n",
      "        <informOverall>○ [미세먼지] 전 권역이 &apos;좋음&apos;∼&apos;보통&apos;으로 예상됩니다.</informOverall>\n",
      "        <informData>2021-08-11</informData>\n",
      "        <informGrade>서울 : 보통,제주 : 좋음,전남 : 좋음,전북 : 좋음,광주 : 좋음,경남 : 좋음,경북 : 좋음,울산 : 좋음,대구 : 보통,부산 : 좋음,충남 : 좋음,충북 : 좋음,세종 : 좋음,대전 : 좋음,영동 : 좋음,영서 : 좋음,경기남부 : 보통,경기북부 : 보통,인천 : 보통</informGrade>\n",
      "        <dataTime>2021-08-10 17시 발표</dataTime>\n",
      "        <imageUrl3>https://www.airkorea.or.kr/file/proxyImage?fileName=2021/08/10/AQFv1_09h.20210810.KNU_09_01.PM10.1hsp.2021081109.png</imageUrl3>\n",
      "        <imageUrl2/>\n",
      "        <imageUrl1>https://www.airkorea.or.kr/file/proxyImage?fileName=2021/08/10/AQFv1_09h.20210810.KNU_09_01.PM10.1hsp.2021081021.png</imageUrl1>\n",
      "      </item>\n",
      "      <item>\n",
      "        <imageUrl4>https://www.airkorea.or.kr/file/proxyImage?fileName=2021/08/10/AQFv1_09h.20210810.KNU_09_01.PM2P5.1hsp.2021081121.png</imageUrl4>\n",
      "        <informCode>PM25</informCode>\n",
      "        <imageUrl5>https://www.airkorea.or.kr/file/proxyImage?fileName=2021/08/10/AQFv1_09h.20210810.KNU_09_01.PM2P5.1hsp.2021081203.png</imageUrl5>\n",
      "        <imageUrl6>https://www.airkorea.or.kr/file/proxyImage?fileName=2021/08/10/AQFv1_09h.20210810.KNU_09_01.PM2P5.1hsp.2021081209.png</imageUrl6>\n",
      "        <actionKnack/>\n",
      "        <informCause>○ [미세먼지] 원활한 대기 확산으로 대기 상태가 대체로 청정할 것으로 예상됩니다.</informCause>\n",
      "        <informOverall>○ [미세먼지] 전 권역이 &apos;좋음&apos;∼&apos;보통&apos;으로 예상됩니다.</informOverall>\n",
      "        <informData>2021-08-12</informData>\n",
      "        <informGrade>서울 : 보통,제주 : 좋음,전남 : 좋음,전북 : 좋음,광주 : 좋음,경남 : 좋음,경북 : 좋음,울산 : 좋음,대구 : 좋음,부산 : 좋음,충남 : 보통,충북 : 좋음,세종 : 좋음,대전 : 좋음,영동 : 좋음,영서 : 좋음,경기남부 : 보통,경기북부 : 보통,인천 : 보통</informGrade>\n",
      "        <dataTime>2021-08-10 17시 발표</dataTime>\n",
      "        <imageUrl3>https://www.airkorea.or.kr/file/proxyImage?fileName=2021/08/10/AQFv1_09h.20210810.KNU_09_01.PM10.1hsp.2021081209.png</imageUrl3>\n",
      "        <imageUrl2>https://www.airkorea.or.kr/file/proxyImage?fileName=2021/08/10/AQFv1_09h.20210810.KNU_09_01.PM10.1hsp.2021081203.png</imageUrl2>\n",
      "        <imageUrl1>https://www.airkorea.or.kr/file/proxyImage?fileName=2021/08/10/AQFv1_09h.20210810.KNU_09_01.PM10.1hsp.2021081121.png</imageUrl1>\n",
      "      </item>\n",
      "      <item>\n",
      "        <imageUrl4/>\n",
      "        <informCode>O3</informCode>\n",
      "        <imageUrl5>https://www.airkorea.or.kr/file/proxyImage?fileName=2021/08/10/AQFv1_09h.20210810.KNU_09_01.O3.1hsp.2021081206.png</imageUrl5>\n",
      "        <imageUrl6/>\n",
      "        <actionKnack/>\n",
      "        <informCause>○ [오존] 대기오염물질의 광화학 반응에 의한 오존 생성과 이동으로 대부분 중서부지역과 대부분 남부지역은 오후에 일시적으로 농도가 높을 것으로 예상됩니다.</informCause>\n",
      "        <informOverall>○ [오존] 수도권·충남·전남·영남권은 &apos;나쁨&apos;, 그 밖의 권역은 &apos;보통&apos;으로 예상됩니다.</informOverall>\n",
      "        <informData>2021-08-11</informData>\n",
      "        <informGrade>서울 : 나쁨,제주 : 보통,전남 : 나쁨,전북 : 보통,광주 : 보통,경남 : 나쁨,경북 : 나쁨,울산 : 나쁨,대구 : 나쁨,부산 : 나쁨,충남 : 나쁨,충북 : 보통,세종 : 보통,대전 : 보통,영동 : 보통,영서 : 보통,경기남부 : 나쁨,경기북부 : 나쁨,인천 : 나쁨</informGrade>\n",
      "        <dataTime>2021-08-10 17시 발표</dataTime>\n",
      "        <imageUrl3/>\n",
      "        <imageUrl2/>\n",
      "        <imageUrl1/>\n",
      "      </item>\n",
      "      <item>\n",
      "        <imageUrl4>https://www.airkorea.or.kr/file/proxyImage?fileName=2021/08/10/AQFv4_03h.20210810.KNU_09_01.PM2P5.1hsp.2021081003.png</imageUrl4>\n",
      "        <informCode>PM10</informCode>\n",
      "        <imageUrl5>https://www.airkorea.or.kr/file/proxyImage?fileName=2021/08/10/AQFv4_03h.20210810.KNU_09_01.PM2P5.1hsp.2021081009.png</imageUrl5>\n",
      "        <imageUrl6>https://www.airkorea.or.kr/file/proxyImage?fileName=2021/08/10/AQFv4_03h.20210810.KNU_09_01.PM2P5.1hsp.2021081015.png</imageUrl6>\n",
      "        <actionKnack/>\n",
      "        <informCause>○ [미세먼지] 원활한 대기 확산과 강수의 영향으로 대기 상태가 대체로 청정할 것으로 예상됩니다.</informCause>\n",
      "        <informOverall>○ [미세먼지] 전 권역이 &apos;좋음&apos;∼&apos;보통&apos;으로 예상됩니다.</informOverall>\n",
      "        <informData>2021-08-10</informData>\n",
      "        <informGrade>서울 : 좋음,제주 : 좋음,전남 : 좋음,전북 : 좋음,광주 : 좋음,경남 : 좋음,경북 : 좋음,울산 : 좋음,대구 : 좋음,부산 : 좋음,충남 : 좋음,충북 : 좋음,세종 : 좋음,대전 : 좋음,영동 : 좋음,영서 : 좋음,경기남부 : 좋음,경기북부 : 좋음,인천 : 좋음</informGrade>\n",
      "        <dataTime>2021-08-10 11시 발표</dataTime>\n",
      "        <imageUrl3>https://www.airkorea.or.kr/file/proxyImage?fileName=2021/08/10/AQFv4_03h.20210810.KNU_09_01.PM10.1hsp.2021081015.png</imageUrl3>\n",
      "        <imageUrl2>https://www.airkorea.or.kr/file/proxyImage?fileName=2021/08/10/AQFv4_03h.20210810.KNU_09_01.PM10.1hsp.2021081009.png</imageUrl2>\n",
      "        <imageUrl1>https://www.airkorea.or.kr/file/proxyImage?fileName=2021/08/10/AQFv4_03h.20210810.KNU_09_01.PM10.1hsp.2021081003.png</imageUrl1>\n",
      "      </item>\n",
      "      <item>\n",
      "        <imageUrl4/>\n",
      "        <informCode>PM10</informCode>\n",
      "        <imageUrl5/>\n",
      "        <imageUrl6/>\n",
      "        <actionKnack/>\n",
      "        <informCause>○ [미세먼지] 원활한 대기 확산으로 대기 상태가 대체로 청정할 것으로 예상됩니다.</informCause>\n",
      "        <informOverall>○ [미세먼지] 전 권역이 &apos;좋음&apos;∼&apos;보통&apos;으로 예상됩니다.</informOverall>\n",
      "        <informData>2021-08-11</informData>\n",
      "        <informGrade>서울 : 좋음,제주 : 좋음,전남 : 좋음,전북 : 좋음,광주 : 좋음,경남 : 좋음,경북 : 좋음,울산 : 좋음,대구 : 좋음,부산 : 좋음,충남 : 좋음,충북 : 좋음,세종 : 좋음,대전 : 좋음,영동 : 좋음,영서 : 좋음,경기남부 : 좋음,경기북부 : 좋음,인천 : 보통</informGrade>\n",
      "        <dataTime>2021-08-10 11시 발표</dataTime>\n",
      "        <imageUrl3/>\n",
      "        <imageUrl2/>\n",
      "        <imageUrl1/>\n",
      "      </item>\n",
      "      <item>\n",
      "        <imageUrl4>https://www.airkorea.or.kr/file/proxyImage?fileName=2021/08/10/AQFv4_03h.20210810.KNU_09_01.PM2P5.1hsp.2021081003.png</imageUrl4>\n",
      "        <informCode>PM25</informCode>\n",
      "        <imageUrl5>https://www.airkorea.or.kr/file/proxyImage?fileName=2021/08/10/AQFv4_03h.20210810.KNU_09_01.PM2P5.1hsp.2021081009.png</imageUrl5>\n",
      "        <imageUrl6>https://www.airkorea.or.kr/file/proxyImage?fileName=2021/08/10/AQFv4_03h.20210810.KNU_09_01.PM2P5.1hsp.2021081015.png</imageUrl6>\n",
      "        <actionKnack/>\n",
      "        <informCause>○ [미세먼지] 원활한 대기 확산과 강수의 영향으로 대기 상태가 대체로 청정할 것으로 예상됩니다.</informCause>\n",
      "        <informOverall>○ [미세먼지] 전 권역이 &apos;좋음&apos;∼&apos;보통&apos;으로 예상됩니다.</informOverall>\n",
      "        <informData>2021-08-10</informData>\n",
      "        <informGrade>서울 : 좋음,제주 : 좋음,전남 : 좋음,전북 : 좋음,광주 : 좋음,경남 : 좋음,경북 : 좋음,울산 : 좋음,대구 : 좋음,부산 : 좋음,충남 : 보통,충북 : 좋음,세종 : 좋음,대전 : 좋음,영동 : 좋음,영서 : 좋음,경기남부 : 좋음,경기북부 : 좋음,인천 : 보통</informGrade>\n",
      "        <dataTime>2021-08-10 11시 발표</dataTime>\n",
      "        <imageUrl3>https://www.airkorea.or.kr/file/proxyImage?fileName=2021/08/10/AQFv4_03h.20210810.KNU_09_01.PM10.1hsp.2021081015.png</imageUrl3>\n",
      "        <imageUrl2>https://www.airkorea.or.kr/file/proxyImage?fileName=2021/08/10/AQFv4_03h.20210810.KNU_09_01.PM10.1hsp.2021081009.png</imageUrl2>\n",
      "        <imageUrl1>https://www.airkorea.or.kr/file/proxyImage?fileName=2021/08/10/AQFv4_03h.20210810.KNU_09_01.PM10.1hsp.2021081003.png</imageUrl1>\n",
      "      </item>\n",
      "      <item>\n",
      "        <imageUrl4/>\n",
      "        <informCode>PM25</informCode>\n",
      "        <imageUrl5/>\n",
      "        <imageUrl6/>\n",
      "        <actionKnack/>\n",
      "        <informCause>○ [미세먼지] 원활한 대기 확산으로 대기 상태가 대체로 청정할 것으로 예상됩니다.</informCause>\n",
      "        <informOverall>○ [미세먼지] 전 권역이 &apos;좋음&apos;∼&apos;보통&apos;으로 예상됩니다.</informOverall>\n",
      "        <informData>2021-08-11</informData>\n",
      "        <informGrade>서울 : 보통,제주 : 좋음,전남 : 좋음,전북 : 좋음,광주 : 좋음,경남 : 좋음,경북 : 좋음,울산 : 좋음,대구 : 좋음,부산 : 좋음,충남 : 보통,충북 : 좋음,세종 : 좋음,대전 : 좋음,영동 : 좋음,영서 : 좋음,경기남부 : 보통,경기북부 : 보통,인천 : 보통</informGrade>\n",
      "        <dataTime>2021-08-10 11시 발표</dataTime>\n",
      "        <imageUrl3/>\n",
      "        <imageUrl2/>\n",
      "        <imageUrl1/>\n",
      "      </item>\n",
      "      <item>\n",
      "        <imageUrl4>https://www.airkorea.or.kr/file/proxyImage?fileName=2021/08/10/AQFv4_03h.20210810.KNU_09_01.O3.1hsp.2021081103.png</imageUrl4>\n",
      "        <informCode>O3</informCode>\n",
      "        <imageUrl5>https://www.airkorea.or.kr/file/proxyImage?fileName=2021/08/10/AQFv4_03h.20210810.KNU_09_01.O3.1hsp.2021081106.png</imageUrl5>\n",
      "        <imageUrl6>https://www.airkorea.or.kr/file/proxyImage?fileName=2021/08/10/AQFv4_03h.20210810.KNU_09_01.O3.1hsp.2021081109.png</imageUrl6>\n",
      "        <actionKnack/>\n",
      "        <informCause>○ [오존] 대기오염물질의 광화학 반응에 의한 오존 생성과 이동으로 일부 서쪽지역과 일부 영남지역은 오후에 일시적으로 농도가 높을 것으로 예상됩니다.</informCause>\n",
      "        <informOverall>○ [오존] 인천·경기남부·충남·전남·경북은 &apos;나쁨&apos;, 그 밖의 권역은 &apos;보통&apos;으로 예상됩니다.</informOverall>\n",
      "        <informData>2021-08-10</informData>\n",
      "        <informGrade>서울 : 보통,제주 : 보통,전남 : 나쁨,전북 : 보통,광주 : 보통,경남 : 보통,경북 : 나쁨,울산 : 보통,대구 : 보통,부산 : 보통,충남 : 나쁨,충북 : 보통,세종 : 보통,대전 : 보통,영동 : 보통,영서 : 보통,경기남부 : 나쁨,경기북부 : 보통,인천 : 나쁨</informGrade>\n",
      "        <dataTime>2021-08-10 11시 발표</dataTime>\n",
      "        <imageUrl3>https://www.airkorea.or.kr/file/proxyImage?fileName=2021/08/10/AQFv4_03h.20210810.KNU_09_01.O3.1hsp.2021081009.png</imageUrl3>\n",
      "        <imageUrl2>https://www.airkorea.or.kr/file/proxyImage?fileName=2021/08/10/AQFv4_03h.20210810.KNU_09_01.O3.1hsp.2021081006.png</imageUrl2>\n",
      "        <imageUrl1>https://www.airkorea.or.kr/file/proxyImage?fileName=2021/08/10/AQFv4_03h.20210810.KNU_09_01.O3.1hsp.2021081003.png</imageUrl1>\n",
      "      </item>\n",
      "      <item>\n",
      "        <imageUrl4>https://www.airkorea.or.kr/file/proxyImage?fileName=2021/08/10/AQFv1_21h.20210809.KNU_09_01.PM2P5.1hsp.2021081000.png</imageUrl4>\n",
      "        <informCode>PM10</informCode>\n",
      "        <imageUrl5>https://www.airkorea.or.kr/file/proxyImage?fileName=2021/08/10/AQFv1_21h.20210809.KNU_09_01.PM2P5.1hsp.2021081006.png</imageUrl5>\n",
      "        <imageUrl6>https://www.airkorea.or.kr/file/proxyImage?fileName=2021/08/10/AQFv1_21h.20210809.KNU_09_01.PM2P5.1hsp.2021081012.png</imageUrl6>\n",
      "        <actionKnack/>\n",
      "        <informCause>○ [미세먼지] 원활한 대기 확산과 강수의 영향으로 대기 상태가 대체로 청정할 것으로 예상됩니다.</informCause>\n",
      "        <informOverall>○ [미세먼지] 전 권역이 &apos;좋음&apos;∼&apos;보통&apos;으로 예상됩니다.</informOverall>\n",
      "        <informData>2021-08-10</informData>\n",
      "        <informGrade>서울 : 좋음,제주 : 좋음,전남 : 좋음,전북 : 좋음,광주 : 좋음,경남 : 좋음,경북 : 좋음,울산 : 좋음,대구 : 좋음,부산 : 좋음,충남 : 좋음,충북 : 좋음,세종 : 좋음,대전 : 좋음,영동 : 좋음,영서 : 좋음,경기남부 : 좋음,경기북부 : 좋음,인천 : 좋음</informGrade>\n",
      "        <dataTime>2021-08-10 05시 발표</dataTime>\n",
      "        <imageUrl3>https://www.airkorea.or.kr/file/proxyImage?fileName=2021/08/10/AQFv1_21h.20210809.KNU_09_01.PM10.1hsp.2021081012.png</imageUrl3>\n",
      "        <imageUrl2>https://www.airkorea.or.kr/file/proxyImage?fileName=2021/08/10/AQFv1_21h.20210809.KNU_09_01.PM10.1hsp.2021081006.png</imageUrl2>\n",
      "        <imageUrl1>https://www.airkorea.or.kr/file/proxyImage?fileName=2021/08/10/AQFv1_21h.20210809.KNU_09_01.PM10.1hsp.2021081000.png</imageUrl1>\n",
      "      </item>\n",
      "      <item>\n",
      "        <imageUrl4/>\n",
      "        <informCode>PM10</informCode>\n",
      "        <imageUrl5/>\n",
      "        <imageUrl6/>\n",
      "        <actionKnack/>\n",
      "        <informCause>○ [미세먼지] 원활한 대기 확산으로 대기 상태가 대체로 청정할 것으로 예상됩니다.</informCause>\n",
      "        <informOverall>○ [미세먼지] 전 권역이 &apos;좋음&apos;∼&apos;보통&apos;으로 예상됩니다.</informOverall>\n",
      "        <informData>2021-08-11</informData>\n",
      "        <informGrade>서울 : 좋음,제주 : 좋음,전남 : 좋음,전북 : 좋음,광주 : 좋음,경남 : 좋음,경북 : 좋음,울산 : 좋음,대구 : 좋음,부산 : 좋음,충남 : 좋음,충북 : 좋음,세종 : 좋음,대전 : 좋음,영동 : 좋음,영서 : 좋음,경기남부 : 좋음,경기북부 : 좋음,인천 : 보통</informGrade>\n",
      "        <dataTime>2021-08-10 05시 발표</dataTime>\n",
      "        <imageUrl3/>\n",
      "        <imageUrl2/>\n",
      "        <imageUrl1/>\n",
      "      </item>\n",
      "      <item>\n",
      "        <imageUrl4>https://www.airkorea.or.kr/file/proxyImage?fileName=2021/08/10/AQFv1_21h.20210809.KNU_09_01.PM2P5.1hsp.2021081000.png</imageUrl4>\n",
      "        <informCode>PM25</informCode>\n",
      "        <imageUrl5>https://www.airkorea.or.kr/file/proxyImage?fileName=2021/08/10/AQFv1_21h.20210809.KNU_09_01.PM2P5.1hsp.2021081006.png</imageUrl5>\n",
      "        <imageUrl6>https://www.airkorea.or.kr/file/proxyImage?fileName=2021/08/10/AQFv1_21h.20210809.KNU_09_01.PM2P5.1hsp.2021081012.png</imageUrl6>\n",
      "        <actionKnack/>\n",
      "        <informCause>○ [미세먼지] 원활한 대기 확산과 강수의 영향으로 대기 상태가 대체로 청정할 것으로 예상됩니다.</informCause>\n",
      "        <informOverall>○ [미세먼지] 전 권역이 &apos;좋음&apos;∼&apos;보통&apos;으로 예상됩니다.</informOverall>\n",
      "        <informData>2021-08-10</informData>\n",
      "        <informGrade>서울 : 좋음,제주 : 좋음,전남 : 좋음,전북 : 보통,광주 : 좋음,경남 : 좋음,경북 : 좋음,울산 : 좋음,대구 : 좋음,부산 : 좋음,충남 : 보통,충북 : 좋음,세종 : 좋음,대전 : 좋음,영동 : 좋음,영서 : 좋음,경기남부 : 좋음,경기북부 : 좋음,인천 : 보통</informGrade>\n",
      "        <dataTime>2021-08-10 05시 발표</dataTime>\n",
      "        <imageUrl3>https://www.airkorea.or.kr/file/proxyImage?fileName=2021/08/10/AQFv1_21h.20210809.KNU_09_01.PM10.1hsp.2021081012.png</imageUrl3>\n",
      "        <imageUrl2>https://www.airkorea.or.kr/file/proxyImage?fileName=2021/08/10/AQFv1_21h.20210809.KNU_09_01.PM10.1hsp.2021081006.png</imageUrl2>\n",
      "        <imageUrl1>https://www.airkorea.or.kr/file/proxyImage?fileName=2021/08/10/AQFv1_21h.20210809.KNU_09_01.PM10.1hsp.2021081000.png</imageUrl1>\n",
      "      </item>\n",
      "      <item>\n",
      "        <imageUrl4/>\n",
      "        <informCode>PM25</informCode>\n",
      "        <imageUrl5/>\n",
      "        <imageUrl6/>\n",
      "        <actionKnack/>\n",
      "        <informCause>○ [미세먼지] 원활한 대기 확산으로 대기 상태가 대체로 청정할 것으로 예상됩니다.</informCause>\n",
      "        <informOverall>○ [미세먼지] 전 권역이 &apos;좋음&apos;∼&apos;보통&apos;으로 예상됩니다.</informOverall>\n",
      "        <informData>2021-08-11</informData>\n",
      "        <informGrade>서울 : 보통,제주 : 좋음,전남 : 좋음,전북 : 좋음,광주 : 좋음,경남 : 좋음,경북 : 좋음,울산 : 좋음,대구 : 좋음,부산 : 좋음,충남 : 보통,충북 : 좋음,세종 : 좋음,대전 : 좋음,영동 : 좋음,영서 : 좋음,경기남부 : 보통,경기북부 : 보통,인천 : 보통</informGrade>\n",
      "        <dataTime>2021-08-10 05시 발표</dataTime>\n",
      "        <imageUrl3/>\n",
      "        <imageUrl2/>\n",
      "        <imageUrl1/>\n",
      "      </item>\n",
      "      <item>\n",
      "        <imageUrl4>https://www.airkorea.or.kr/file/proxyImage?fileName=2021/08/10/AQFv1_21h.20210809.KNU_09_01.O3.1hsp.2021081103.png</imageUrl4>\n",
      "        <informCode>O3</informCode>\n",
      "        <imageUrl5>https://www.airkorea.or.kr/file/proxyImage?fileName=2021/08/10/AQFv1_21h.20210809.KNU_09_01.O3.1hsp.2021081106.png</imageUrl5>\n",
      "        <imageUrl6>https://www.airkorea.or.kr/file/proxyImage?fileName=2021/08/10/AQFv1_21h.20210809.KNU_09_01.O3.1hsp.2021081109.png</imageUrl6>\n",
      "        <actionKnack/>\n",
      "        <informCause>○ [오존] 대기오염물질의 광화학 반응에 의한 오존 생성과 이동으로 일부 서쪽지역과 일부 영남지역은 오후에 일시적으로 농도가 높을 것으로 예상됩니다.</informCause>\n",
      "        <informOverall>○ [오존] 인천·경기남부·충남·전남·경북은 &apos;나쁨&apos;, 그 밖의 권역은 &apos;보통&apos;으로 예상됩니다.</informOverall>\n",
      "        <informData>2021-08-10</informData>\n",
      "        <informGrade>서울 : 보통,제주 : 보통,전남 : 나쁨,전북 : 보통,광주 : 보통,경남 : 보통,경북 : 나쁨,울산 : 보통,대구 : 보통,부산 : 보통,충남 : 나쁨,충북 : 보통,세종 : 보통,대전 : 보통,영동 : 보통,영서 : 보통,경기남부 : 나쁨,경기북부 : 보통,인천 : 나쁨</informGrade>\n",
      "        <dataTime>2021-08-10 05시 발표</dataTime>\n",
      "        <imageUrl3>https://www.airkorea.or.kr/file/proxyImage?fileName=2021/08/10/AQFv1_21h.20210809.KNU_09_01.O3.1hsp.2021081009.png</imageUrl3>\n",
      "        <imageUrl2>https://www.airkorea.or.kr/file/proxyImage?fileName=2021/08/10/AQFv1_21h.20210809.KNU_09_01.O3.1hsp.2021081006.png</imageUrl2>\n",
      "        <imageUrl1>https://www.airkorea.or.kr/file/proxyImage?fileName=2021/08/10/AQFv1_21h.20210809.KNU_09_01.O3.1hsp.2021081003.png</imageUrl1>\n",
      "      </item>\n",
      "    </items>\n",
      "    <numOfRows>10</numOfRows>\n",
      "    <pageNo>1</pageNo>\n",
      "    <totalCount>24</totalCount>\n",
      "  </body>\n",
      "</response>\n"
     ]
    }
   ],
   "source": [
    "!python3 src/ds_open_gokr_ex.py"
   ]
  },
  {
   "cell_type": "markdown",
   "metadata": {},
   "source": [
    "## 문제 11: 공공데이터포털 서울특별시교육청 공공도서관 소장도서정보\n",
    "\n",
    "'서울특별시교육청 공공도서관 소장도서'로 검색하면 API를 찾을 수 있다.\n",
    "이 API는 서울특별시교육청 공공도서관 및 평생학습관의 소장도서 정보 (표제, 저자, 발행자, 발행년, 청구기호, 소장위치, ISBN 등)를 조회할 수 있다.\n",
    "검색어는 '파이썬'으로 20건만 하고, 그 결과는 파일에 저장한다.\n",
    "파일 내용을 확인하기 위해, type명령어로 내용을 출력하세요.\n",
    "\n",
    "url은 http://openapi-lib.sen.go.kr, 인자는 다음과 같이 구성한다.\n",
    "\n",
    "변수명 | 설명 \n",
    "-----|-----\n",
    "serviceKey | 공공데이터포털에서 발급받은 인증키\n",
    "title | 도서제목검색어\n",
    "manageCd | 도서관코드 (MA (강남도서관)..MU (종로도서관))\n",
    "numOfRows | 한 페이지 결과 수 (Default: 10)\n",
    "pageNo | 페이지 번호 (Default: 1)"
   ]
  },
  {
   "cell_type": "markdown",
   "metadata": {
    "slideshow": {
     "slide_type": "subslide"
    }
   },
   "source": [
    "* 샘플URL은 아래와 같다. <...>자리에 키(utf-8)를 넣어야 한다.\n",
    "\n",
    "```\n",
    "http://openapi-lib.sen.go.kr/openapi/service/lib/openApi?serviceKey=<...>&manageCd=MA&numOfRows=5&pageNo=2&title=%EB%8F%84%EB%91%91\n",
    "```"
   ]
  },
  {
   "cell_type": "markdown",
   "metadata": {},
   "source": [
    "### 인증키\n",
    "\n",
    "자신의 인증키를 읽어 온다."
   ]
  },
  {
   "cell_type": "code",
   "execution_count": 19,
   "metadata": {},
   "outputs": [],
   "source": [
    "import os\n",
    "import src.mylib\n",
    "\n",
    "keyPath=os.path.join(os.getcwd(), 'src', 'key.properties')\n",
    "key=src.mylib.getKey(keyPath)\n",
    "#print key['gokr']"
   ]
  },
  {
   "cell_type": "markdown",
   "metadata": {
    "slideshow": {
     "slide_type": "subslide"
    }
   },
   "source": [
    "### 요청인자\n",
    "\n",
    "title에서는 그대로 한글을 사용하였다. 한글 '도둑'이 url encoding되었다."
   ]
  },
  {
   "cell_type": "code",
   "execution_count": 21,
   "metadata": {
    "collapsed": true,
    "jupyter": {
     "outputs_hidden": true
    }
   },
   "outputs": [],
   "source": [
    "import urllib\n",
    "\n",
    "_d=dict()\n",
    "_d['title']='도둑'\n",
    "_d['manageCd']='MA'\n",
    "_d['numOfRows']='5'\n",
    "_d['pageNo']='2'\n",
    "params2 = urllib.parse.urlencode(_d)"
   ]
  },
  {
   "cell_type": "markdown",
   "metadata": {},
   "source": [
    "한글이 인터넷 인코딩되어서 ```%```가 섞여있다."
   ]
  },
  {
   "cell_type": "code",
   "execution_count": 22,
   "metadata": {},
   "outputs": [
    {
     "name": "stdout",
     "output_type": "stream",
     "text": [
      "title=%EB%8F%84%EB%91%91&manageCd=MA&numOfRows=5&pageNo=2\n"
     ]
    }
   ],
   "source": [
    "print (params2)"
   ]
  },
  {
   "cell_type": "code",
   "execution_count": 23,
   "metadata": {
    "scrolled": true
   },
   "outputs": [],
   "source": [
    "params='?'+'serviceKey='+key['gokr']+'&'+params2\n",
    "#print params"
   ]
  },
  {
   "cell_type": "markdown",
   "metadata": {
    "slideshow": {
     "slide_type": "subslide"
    }
   },
   "source": [
    "### url\n",
    "\n",
    "서비스, 오퍼레이션은 별도로 지정하지 않는다.\n",
    "```\n",
    "SERVICE=''\n",
    "OPERATION_NAME=''\n",
    "```"
   ]
  },
  {
   "cell_type": "code",
   "execution_count": 24,
   "metadata": {
    "collapsed": true,
    "jupyter": {
     "outputs_hidden": true
    }
   },
   "outputs": [],
   "source": [
    "import urllib\n",
    "_url = 'http://openapi-lib.sen.go.kr/openapi/service/lib/openApi'\n",
    "url=urllib.parse.urljoin(_url,params)"
   ]
  },
  {
   "cell_type": "code",
   "execution_count": 25,
   "metadata": {
    "scrolled": true,
    "slideshow": {
     "slide_type": "subslide"
    }
   },
   "outputs": [
    {
     "name": "stdout",
     "output_type": "stream",
     "text": [
      "http://openapi-lib.sen.go.kr/openapi/service/lib/openApi?serviceKey=8Bx4C1%2Bbogiu3i0M5k7aqOf%2BTA5yCWK%2BFDI7nTSJ0oAhDj1NC5CtbI1TMgFmnpuZxJ9LBoCScqBhuw5sul2tmQ%3D%3D&title=%EB%8F%84%EB%91%91&manageCd=MA&numOfRows=5&pageNo=2\n"
     ]
    }
   ],
   "source": [
    "print (url)"
   ]
  },
  {
   "cell_type": "markdown",
   "metadata": {
    "slideshow": {
     "slide_type": "subslide"
    }
   },
   "source": [
    "### url 요청\n",
    "\n",
    "* 사이트 샘플코드 참조\n",
    "```\n",
    "request = Request(url + queryParams)\n",
    "request.get_method = lambda: 'GET'\n",
    "response_body = urlopen(request).read()\n",
    "print(response_body)\n",
    "```"
   ]
  },
  {
   "cell_type": "code",
   "execution_count": 26,
   "metadata": {
    "scrolled": true
   },
   "outputs": [],
   "source": [
    "import requests\n",
    "\n",
    "data=requests.get(url).text\n",
    "#print data"
   ]
  },
  {
   "cell_type": "markdown",
   "metadata": {},
   "source": [
    "결과는 다음과 같다.\n",
    "```\n",
    "<response>\n",
    "    <header>\n",
    "        <resultCode>00</resultCode>\n",
    "        <resultMsg>NORMAL SERVICE.</resultMsg>\n",
    "    </header>\n",
    "    <body>\n",
    "        <items>\n",
    "            <item>\n",
    "                <appendixYn>N</appendixYn>                       # 부록유무\n",
    "                <author>송아주 글;한상언 그림</author>             # 저작자\n",
    "                <bookKey>5388757197</bookKey>                    # 책 레코드키\n",
    "                <callNo>유 813.5-ㅅ566ㄷ</callNo>                 # 청구기호\n",
    "                <controlNo>JMO201800117</controlNo>              # 제어번호\n",
    "                <isbn>9791195339785</isbn>                       # 낱권ISBN\n",
    "                <libName>강남도서관</libName>                     # 소장도서관(이름)\n",
    "                <manageCode>MA</manageCode>                      # 소장도서관(관리구분)\n",
    "                <pubYear>2018</pubYear>                          # 발행년도\n",
    "                <publisher>도토리나무</publisher>                 # 발행자\n",
    "                <regNo>JUA000066397</regNo>                      # 등록번호\n",
    "                <rnum>6</rnum>                                   # 결과순번\n",
    "                <shelfLocName>[강남]1층 도담놀이터</shelfLocName>  # 소장자료실명\n",
    "                <speciesKey>5388757195</speciesKey>              # 총 레코드키\n",
    "                <title>도둑 떼와 꾀 많은 꼬마</title>              # 표제\n",
    "            </item>\n",
    "            <item>...</item>\n",
    "            <item>...</item>\n",
    "            <item>...</item>\n",
    "            <item>...</item>\n",
    "        </items>\n",
    "        <numOfRows>5</numOfRows>\n",
    "        <pageNo>2</pageNo>\n",
    "        <totalCount>171</totalCount>\n",
    "    </body>\n",
    "</response>\n",
    "```"
   ]
  },
  {
   "cell_type": "code",
   "execution_count": 48,
   "metadata": {},
   "outputs": [
    {
     "name": "stdout",
     "output_type": "stream",
     "text": [
      "<?xml version=\"1.0\" encoding=\"UTF-8\" standalone=\"yes\"?><response><header><resultCode>00</resultCode><resultMsg>NORMAL SERVICE.</resultMsg></header><body><items><item><appendixYn>N</appendixYn><author>송아주 글;한상언 그림</author><bookKey>5388757197</bookKey><callNo>유 813.5-ㅅ566ㄷ</callNo><controlNo>JMO201800117</controlNo><isbn>9791195339785</isbn><libName>강남도서관</libName><manageCode>MA</manageCode><pubYear>2018</pubYear><publisher>도토리나무</publisher><regNo>JUA000066397</regNo><rnum>6</rnum><shelfLocName>[강남]1층 도담놀이터</shelfLocName><speciesKey>5388757195</speciesKey><title>도둑 떼와 꾀 많은 꼬마</title></item><item><appendixYn>N</appendixYn><author>최용주 지음</author><bookKey>5210340360</bookKey><callNo>199.5-ㅊ574ㄱ</callNo><controlNo>KMO201304671</controlNo><isbn>9788960652866</isbn><libName>강남도서관</libName><manageCode>MA</manageCode><pubYear>2013</pubYear><publisher>공감</publisher><regNo>EMA000223336</regNo><rnum>7</rnum><shelfLocName>[강남]4서고(종합실직원문의)</shelfLocName><speciesKey>5210340357</speciesKey><title>가슴청년, 희망을 도둑맞지 마라  : 청년실업 시대, 인생 이모작 시대 자신의 성공 노하우로 방향을 제시하는 느림보 멘토, 최용주 교수의 인생 코칭</title></item><item><appendixYn>N</appendixYn><author>아르노 알메라 글;프레데릭 브나글리아 그림;하정희 옮김</author><bookKey>5108622464</bookKey><callNo>아 808.91-ㅅ116ㄱ-1-13</callNo><controlNo>JMO201000978</controlNo><isbn>9788934933618</isbn><libName>강남도서관</libName><manageCode>MA</manageCode><pubYear>2009</pubYear><publisher>주니어김영사 :김영사</publisher><regNo>JUA000039670</regNo><rnum>8</rnum><shelfLocName>[강남]1층 어린이실</shelfLocName><speciesKey>5108622461</speciesKey><title>명랑 공주와 상냥한 도둑</title><vol>1-13</vol></item><item><appendixYn>N</appendixYn><author>아르노 알메라 글;프레데릭 브나글리아 그림;하정희 옮김</author><bookKey>5108622465</bookKey><callNo>아 808.91-ㅅ116ㄱ-1-13=2</callNo><controlNo>JMO201000978</controlNo><isbn>9788934933618</isbn><libName>강남도서관</libName><manageCode>MA</manageCode><pubYear>2009</pubYear><publisher>주니어김영사 :김영사</publisher><regNo>JUA000039671</regNo><rnum>9</rnum><shelfLocName>[강남]1층 어린이실</shelfLocName><speciesKey>5108622461</speciesKey><title>명랑 공주와 상냥한 도둑</title><vol>1-13</vol></item><item><appendixYn>N</appendixYn><author>니나 파워 지음 ;김성준 옮김</author><bookKey>5397797826</bookKey><callNo>337.2-ㅍ21ㄷ</callNo><controlNo>KMO201802222</controlNo><isbn>9791196007362</isbn><libName>강남도서관</libName><manageCode>MA</manageCode><pubYear>2018</pubYear><publisher>에디투스</publisher><regNo>EMA000259099</regNo><rnum>10</rnum><shelfLocName>[강남]4층 종합자료실</shelfLocName><speciesKey>5397797824</speciesKey><title>도둑맞은 페미니즘  : 일차원적 여성</title></item></items><numOfRows>5</numOfRows><pageNo>2</pageNo><totalCount>171</totalCount></body></response>\n"
     ]
    }
   ],
   "source": [
    "print (data)"
   ]
  },
  {
   "cell_type": "markdown",
   "metadata": {
    "slideshow": {
     "slide_type": "subslide"
    }
   },
   "source": [
    "* 일괄 실행하기\n",
    "    * main을 넣어주고, 함수구조로 만들어 준다.\n",
    "    * 첫 줄에 'coding: utf-8'을 지정한다.\n",
    "    * 검색어가 한글이 포함되어 있다.\n",
    "    * 주의: import src.mylib은 상대경로이므로 mylib으로 수정한다.\n"
   ]
  },
  {
   "cell_type": "code",
   "execution_count": 18,
   "metadata": {},
   "outputs": [
    {
     "name": "stdout",
     "output_type": "stream",
     "text": [
      "Overwriting src/ds_open_library.py\n"
     ]
    }
   ],
   "source": [
    "%%writefile src/ds_open_library.py\n",
    "# coding: utf-8\n",
    "import os\n",
    "import urllib\n",
    "import requests\n",
    "import mylib\n",
    "\n",
    "def saveFile(_fname,_data):\n",
    "    fp=open(_fname,'a')\n",
    "    fp.write(_data+\"\\n\")\n",
    "\n",
    "def doIt():\n",
    "    _d=dict()\n",
    "    _d['title']='파이썬'       # 도둑 \n",
    "    _d['manageCd']='MA'\n",
    "    _d['numOfRows']='20'       # 5\n",
    "    _d['pageNo']='2'\n",
    "    params2 = urllib.parse.urlencode(_d)\n",
    "\n",
    "    keyPath=os.path.join(os.getcwd(), 'src', 'key.properties')\n",
    "    key=mylib.getKey(keyPath)\n",
    "    params='?'+'serviceKey='+key['gokr']+'&'+params2\n",
    "\n",
    "    _url = 'http://openapi-lib.sen.go.kr/openapi/service/lib/openApi'\n",
    "    url=urllib.parse.urljoin(_url,params)\n",
    "    data=requests.get(url).text\n",
    "    print (data[:500])\n",
    "    _fname='src/ds_open_library_xml.txt'\n",
    "    saveFile(_fname, data)\n",
    "\n",
    "if __name__ == \"__main__\":\n",
    "    doIt()\n"
   ]
  },
  {
   "cell_type": "code",
   "execution_count": 19,
   "metadata": {
    "slideshow": {
     "slide_type": "subslide"
    }
   },
   "outputs": [
    {
     "name": "stdout",
     "output_type": "stream",
     "text": [
      "<?xml version=\"1.0\" encoding=\"UTF-8\" standalone=\"yes\"?><response><header><resultCode>00</resultCode><resultMsg>NORMAL SERVICE.</resultMsg></header><body><items><item><appendixYn>N</appendixYn><author>드미트리 지노비에프 지음;황준식 옮김</author><bookKey>5361612424</bookKey><callNo>005.7-ㅈ912ㅁ</callNo><controlNo>KMO201704602</controlNo><isbn>9791160502152</isbn><libName>강남도서관</libName><manageCode>MA</manageCode><pubYear>2017</pubYear><publisher>길벗</publisher><regNo>EMA000255335</regNo><rnum>21</rnum><shelfLocNam\n"
     ]
    }
   ],
   "source": [
    "!python3 src/ds_open_library.py"
   ]
  },
  {
   "cell_type": "code",
   "execution_count": 20,
   "metadata": {
    "scrolled": true,
    "slideshow": {
     "slide_type": "subslide"
    }
   },
   "outputs": [
    {
     "name": "stdout",
     "output_type": "stream",
     "text": [
      "src/ds_open_library_xml.txt\n"
     ]
    }
   ],
   "source": [
    "!ls src/ds_open_library*.txt"
   ]
  },
  {
   "cell_type": "code",
   "execution_count": 21,
   "metadata": {},
   "outputs": [
    {
     "name": "stdout",
     "output_type": "stream",
     "text": [
      "<?xml version=\"1.0\" encoding=\"UTF-8\" standalone=\"yes\"?><response><header><resultCode>00</resultCode><resultMsg>NORMAL SERVICE.</resultMsg></header><body><items><item><appendixYn>N</appendixYn><author>드미트리 지노비에프 지음;황준식 옮김</author><bookKey>5361612424</bookKey><callNo>005.7-ㅈ912ㅁ</callNo><controlNo>KMO201704602</controlNo><isbn>9791160502152</isbn><libName>강남도서관</libName><manageCode>MA</manageCode><pubYear>2017</pubYear><publisher>길벗</publisher><regNo>EMA000255335</regNo><rnum>21</rnum><shelfLocName>[강남]4층 종합자료실</shelfLocName><speciesKey>5361612422</speciesKey><title>모두의 데이터 과학 with 파이썬 : 즐거운 프로그래밍 경험</title></item><item><appendixYn>N</appendixYn><author>안드레아스 뮐러,세라 가이도 지음;박해선 옮김</author><bookKey>5360192099</bookKey><callNo>004.73-ㅁ756ㅍ</callNo><controlNo>KMO201704546</controlNo><isbn>9788968483394</isbn><libName>강남도서관</libName><manageCode>MA</manageCode><pubYear>2017</pubYear><publisher>한빛미디어</publisher><regNo>EMA000255291</regNo><rnum>22</rnum><shelfLocName>[강남]4층 종합자료실</shelfLocName><speciesKey>5360192097</speciesKey><title>파이썬 라이브러리를 활용한 머신러닝  : 사이킷런 핵심 개발자가 쓴 머신러닝과 데이터 과학 실무서</title></item><item><appendixYn>N</appendixYn><author>바스티앙 스야딘,루카 마싸론,알베르토 보스체티 지음 ;이미정 옮김</author><bookKey>5369403780</bookKey><callNo>004.73-ㅇ732ㅍ</callNo><controlNo>KMO201706121</controlNo><isbn>9791161750224</isbn><libName>강남도서관</libName><manageCode>MA</manageCode><pubYear>2017</pubYear><publisher>에이콘</publisher><regNo>EMA000256134</regNo><rnum>23</rnum><shelfLocName>[강남]4층 종합자료실</shelfLocName><speciesKey>5369403778</speciesKey><title>파이썬으로 배우는 대규모 머신 러닝  : 대규모 데이터 분석과 처리를 위한 다양한 머신 러닝 기법 활용</title></item><item><appendixYn>N</appendixYn><author>나카쿠키 켄지 지음,심효섭 지음</author><bookKey>5374183556</bookKey><callNo>005.133-ㄴ43ㅇ</callNo><controlNo>KMO201706884</controlNo><isbn>9791188621026</isbn><libName>강남도서관</libName><manageCode>MA</manageCode><pubYear>2017</pubYear><publisher>제이펍</publisher><regNo>EMA000256911</regNo><rnum>24</rnum><shelfLocName>[강남]4층 종합자료실</shelfLocName><speciesKey>5374183554</speciesKey><title>엔지니어를 위한 파이썬</title></item><item><appendixYn>N</appendixYn><author>토마스 드라바스,데니 리 지음 ;이진기 옮김</author><bookKey>5371359092</bookKey><callNo>005.76-ㄷ93ㅍ</callNo><controlNo>KMO201706486</controlNo><isbn>9791161750705</isbn><libName>강남도서관</libName><manageCode>MA</manageCode><pubYear>2017</pubYear><publisher>에이콘출판</publisher><regNo>EMA000256669</regNo><rnum>25</rnum><shelfLocName>[강남]4층 종합자료실</shelfLocName><speciesKey>5371359090</speciesKey><title>PySpark 배우기  : 파이썬과 스파크 2.0으로 대용량 처리 애플리케이션 다루기</title></item><item><appendixYn>N</appendixYn><author>김태영 지음</author><bookKey>5370777918</bookKey><callNo>004.73-ㄱ968ㅍ</callNo><controlNo>KMO201706197</controlNo><isbn>9788960882133</isbn><libName>강남도서관</libName><manageCode>MA</manageCode><pubYear>2017</pubYear><publisher>디지털북스</publisher><regNo>EMA000256194</regNo><rnum>26</rnum><shelfLocName>[강남]4층 종합자료실</shelfLocName><speciesKey>5370777916</speciesKey><title>(블록과 함께 하는) 파이썬 딥러닝 케라스</title></item><item><appendixYn>N</appendixYn><author>존 M. 젤 지음 ;심효섭 옮김</author><bookKey>5372472062</bookKey><callNo>005.133-ㅈ568ㅍ</callNo><controlNo>KMO201706611</controlNo><isbn>9788966264087</isbn><libName>강남도서관</libName><manageCode>MA</manageCode><pubYear>2017</pubYear><publisher>인사이트</publisher><regNo>EMA000256690</regNo><rnum>27</rnum><shelfLocName>[강남]4층 종합자료실</shelfLocName><speciesKey>5372472060</speciesKey><title>파이썬으로 시작하는 컴퓨터 과학 입문</title></item><item><appendixYn>N</appendixYn><author>천인국 지음</author><bookKey>5374839211</bookKey><callNo>005.133-ㅊ252ㄷ</callNo><controlNo>KMO201707511</controlNo><isbn>9788970508931</isbn><libName>강남도서관</libName><manageCode>MA</manageCode><pubYear>2017</pubYear><publisher>생능출판</publisher><regNo>EMA000256582</regNo><rnum>28</rnum><shelfLocName>[강남]4층 종합자료실</shelfLocName><speciesKey>5374839209</speciesKey><title>두근두근 파이썬  : 쉽고! 재밌고! 흥미로운 코딩 맛!</title></item><item><appendixYn>N</appendixYn><author>지은이: 스티븐 로트 ;옮긴이: 오현석</author><bookKey>5343805938</bookKey><callNo>005.133-ㄹ652ㅎ</callNo><controlNo>KMO201702298</controlNo><isbn>9788960779761</isbn><libName>강남도서관</libName><manageCode>MA</manageCode><pubYear>2017</pubYear><publisher>에이콘출판</publisher><regNo>EMA000251595</regNo><rnum>29</rnum><shelfLocName>[강남]4층 종합자료실</shelfLocName><speciesKey>5343805936</speciesKey><title>함수형 파이썬 프로그래밍  : 파이썬으로 배우는 쉬운 함수형 프로그래밍</title></item><item><appendixYn>N</appendixYn><author>지은이: 사이토 고키 ;옮긴이: 개앞맵시</author><bookKey>5347841888</bookKey><callNo>004.73-ㅅ156ㅁ</callNo><controlNo>KMO201701856</controlNo><isbn>9788968484636</isbn><libName>강남도서관</libName><manageCode>MA</manageCode><pubYear>2017</pubYear><publisher>한빛미디어</publisher><regNo>EMA000251440</regNo><rnum>30</rnum><shelfLocName>[강남]4층 종합자료실</shelfLocName><speciesKey>5347841885</speciesKey><title>밑바닥부터 시작하는 딥러닝  : 파이썬으로 익히는 딥러닝 이론과 구현</title></item><item><appendixYn>N</appendixYn><author>에릭 마테스 지음 ;한선용 옮김</author><bookKey>5351678690</bookKey><callNo>005.133-ㅁ342ㄴ</callNo><controlNo>KMO201705626</controlNo><isbn>9788968483561</isbn><libName>강남도서관</libName><manageCode>MA</manageCode><pubYear>2017</pubYear><publisher>한빛미디어</publisher><regNo>EMA000253988</regNo><rnum>31</rnum><shelfLocName>[강남]4층 종합자료실</shelfLocName><speciesKey>5351678688</speciesKey><title>나의 첫 파이썬  : 설치부터 시작하는 가장 쉬운 입문서</title></item><item><appendixYn>N</appendixYn><author>아메드 셰리프 지음 ;오지혜,이현진,허혜정 옮김</author><bookKey>5351679189</bookKey><callNo>325.27-ㅅ414ㅅ</callNo><controlNo>KMO201705608</controlNo><isbn>9788960779426</isbn><libName>강남도서관</libName><manageCode>MA</manageCode><pubYear>2017</pubYear><publisher>에이콘</publisher><regNo>EMA000253969</regNo><rnum>32</rnum><shelfLocName>[강남]4층 종합자료실</shelfLocName><speciesKey>5351679187</speciesKey><title>손에 잡히는 실전 비즈니스 인텔리전스  : power bi, 엑셀, d3.js, r, 파이썬, qlik, tableau, microsoft SQL server 툴을 활용한 비즈니스 데이터 활용법</title></item><item><appendixYn>N</appendixYn><author>스티븐 로트 지음</author><bookKey>5344619442</bookKey><callNo>005.113-ㄹ652ㄱ</callNo><controlNo>KMO201700912</controlNo><isbn>9788960779754</isbn><libName>강남도서관</libName><manageCode>MA</manageCode><pubYear>2017</pubYear><publisher>에이콘출판</publisher><regNo>EMA000250683</regNo><rnum>33</rnum><shelfLocName>[강남]4층 종합자료실</shelfLocName><speciesKey>5344619440</speciesKey><title>객체지향 파이썬 프로그래밍 : 파이썬 고급 기능으로 강력한 애플리케이션 개발</title></item><item><appendixYn>N</appendixYn><author>프라틱 조쉬 지음;남기혁,윤여찬 옮김</author><bookKey>5353681738</bookKey><callNo>005.11-ㅍ82파</callNo><controlNo>KMO201702937</controlNo><isbn>9788960778665</isbn><libName>강남도서관</libName><manageCode>MA</manageCode><pubYear>2017</pubYear><publisher>에이콘출판</publisher><regNo>EMA000253467</regNo><rnum>34</rnum><shelfLocName>[강남]4층 종합자료실</shelfLocName><speciesKey>5353681736</speciesKey><title>파이썬으로 배우는 인공지능 : 현실 세계와 지능적으로 상호 작용하는 인공지능 애플리케이션 만들기</title></item><item><appendixYn>N</appendixYn><author>키르시 라만 지음;정기연;안진규;허혜정 옮김</author><bookKey>5353681836</bookKey><callNo>005.133-ㄹ144ㅍ</callNo><controlNo>KMO201702960</controlNo><isbn>9788960776852</isbn><libName>강남도서관</libName><manageCode>MA</manageCode><pubYear>2017</pubYear><publisher>PACKT:에이콘출판주식회사</publisher><regNo>EMA000253490</regNo><rnum>35</rnum><shelfLocName>[강남]4층 종합자료실</shelfLocName><speciesKey>5353681834</speciesKey><title>파이썬 데이터 시각화 마스터</title></item><item><appendixYn>N</appendixYn><author>김주현 지음</author><bookKey>5339551075</bookKey><callNo>005.13-ㄱ934ㅍ</callNo><controlNo>KMO201700986</controlNo><isbn>9788997924271</isbn><libName>강남도서관</libName><manageCode>MA</manageCode><pubYear>2016</pubYear><publisher>로드북</publisher><regNo>EMA000250705</regNo><rnum>36</rnum><shelfLocName>[강남]4층 종합자료실</shelfLocName><speciesKey>5339551069</speciesKey><title>파이썬의 神  : 프로그래밍 언어를 배운다는 것</title></item><item><appendixYn>N</appendixYn><author>지은이: 조훈,김종숙</author><bookKey>5349619990</bookKey><callNo>005.133-ㅈ712ㅍ</callNo><controlNo>KMO201701976</controlNo><isbn>9791158390532</isbn><libName>강남도서관</libName><manageCode>MA</manageCode><pubYear>2017</pubYear><publisher>위키북스</publisher><regNo>EMA000251557</regNo><rnum>37</rnum><shelfLocName>[강남]4층 종합자료실</shelfLocName><speciesKey>5349619988</speciesKey><title>파이썬 실무 프로그래밍  : 시스템/네트워크 관리자를 위한</title></item><item><appendixYn>N</appendixYn><author>이승찬 지음</author><bookKey>5353944151</bookKey><callNo>005.1-ㅇ785ㅁ</callNo><controlNo>KMO201706969</controlNo><isbn>9791160501728</isbn><libName>강남도서관</libName><manageCode>MA</manageCode><pubYear>2017</pubYear><publisher>길벗</publisher><regNo>EMA000254739</regNo><rnum>38</rnum><shelfLocName>[강남]4층 종합자료실</shelfLocName><speciesKey>5353944149</speciesKey><title>모두의 알고리즘  = Algorithms for everyone  : with 파이썬  : 컴퓨팅 사고를 위한 기초 알고리즘</title></item><item><appendixYn>N</appendixYn><author>조대표 지음</author><bookKey>5353944580</bookKey><callNo>005.133-ㅈ592ㅇ</callNo><controlNo>KMO201706967</controlNo><isbn>9791158390631</isbn><libName>강남도서관</libName><manageCode>MA</manageCode><pubYear>2017</pubYear><publisher>위키북스</publisher><regNo>EMA000254737</regNo><rnum>39</rnum><shelfLocName>[강남]4층 종합자료실</shelfLocName><speciesKey>5353944578</speciesKey><title>(파이썬으로 배우는) 알고리즘 트레이딩  : 내 손으로 만드는 자동 주식 거래 시스템</title></item><item><appendixYn>N</appendixYn><author>미샤 고렐릭;이안 오스발트 지음;김영근;오현석 옮김</author><bookKey>5319229672</bookKey><callNo>005.133-ㄱ337ㄱ</callNo><controlNo>KMO201605442</controlNo><isbn>9788968484995</isbn><libName>강남도서관</libName><manageCode>MA</manageCode><pubYear>2016</pubYear><publisher>한빛미디어</publisher><regNo>EMA000247401</regNo><rnum>40</rnum><shelfLocName>[강남]4층 종합자료실</shelfLocName><speciesKey>5319229670</speciesKey><title>고성능 파이썬 : 파이썬 성능 잠재력을 끌어내는 실용적인 개발 전략서</title></item></items><numOfRows>20</numOfRows><pageNo>2</pageNo><totalCount>165</totalCount></body></response>\n",
      "<?xml version=\"1.0\" encoding=\"UTF-8\" standalone=\"yes\"?><response><header><resultCode>00</resultCode><resultMsg>NORMAL SERVICE.</resultMsg></header><body><items><item><appendixYn>N</appendixYn><author>드미트리 지노비에프 지음;황준식 옮김</author><bookKey>5361612424</bookKey><callNo>005.7-ㅈ912ㅁ</callNo><controlNo>KMO201704602</controlNo><isbn>9791160502152</isbn><libName>강남도서관</libName><manageCode>MA</manageCode><pubYear>2017</pubYear><publisher>길벗</publisher><regNo>EMA000255335</regNo><rnum>21</rnum><shelfLocName>[강남]4층 종합자료실</shelfLocName><speciesKey>5361612422</speciesKey><title>모두의 데이터 과학 with 파이썬 : 즐거운 프로그래밍 경험</title></item><item><appendixYn>N</appendixYn><author>안드레아스 뮐러,세라 가이도 지음;박해선 옮김</author><bookKey>5360192099</bookKey><callNo>004.73-ㅁ756ㅍ</callNo><controlNo>KMO201704546</controlNo><isbn>9788968483394</isbn><libName>강남도서관</libName><manageCode>MA</manageCode><pubYear>2017</pubYear><publisher>한빛미디어</publisher><regNo>EMA000255291</regNo><rnum>22</rnum><shelfLocName>[강남]4층 종합자료실</shelfLocName><speciesKey>5360192097</speciesKey><title>파이썬 라이브러리를 활용한 머신러닝  : 사이킷런 핵심 개발자가 쓴 머신러닝과 데이터 과학 실무서</title></item><item><appendixYn>N</appendixYn><author>바스티앙 스야딘,루카 마싸론,알베르토 보스체티 지음 ;이미정 옮김</author><bookKey>5369403780</bookKey><callNo>004.73-ㅇ732ㅍ</callNo><controlNo>KMO201706121</controlNo><isbn>9791161750224</isbn><libName>강남도서관</libName><manageCode>MA</manageCode><pubYear>2017</pubYear><publisher>에이콘</publisher><regNo>EMA000256134</regNo><rnum>23</rnum><shelfLocName>[강남]4층 종합자료실</shelfLocName><speciesKey>5369403778</speciesKey><title>파이썬으로 배우는 대규모 머신 러닝  : 대규모 데이터 분석과 처리를 위한 다양한 머신 러닝 기법 활용</title></item><item><appendixYn>N</appendixYn><author>나카쿠키 켄지 지음,심효섭 지음</author><bookKey>5374183556</bookKey><callNo>005.133-ㄴ43ㅇ</callNo><controlNo>KMO201706884</controlNo><isbn>9791188621026</isbn><libName>강남도서관</libName><manageCode>MA</manageCode><pubYear>2017</pubYear><publisher>제이펍</publisher><regNo>EMA000256911</regNo><rnum>24</rnum><shelfLocName>[강남]4층 종합자료실</shelfLocName><speciesKey>5374183554</speciesKey><title>엔지니어를 위한 파이썬</title></item><item><appendixYn>N</appendixYn><author>토마스 드라바스,데니 리 지음 ;이진기 옮김</author><bookKey>5371359092</bookKey><callNo>005.76-ㄷ93ㅍ</callNo><controlNo>KMO201706486</controlNo><isbn>9791161750705</isbn><libName>강남도서관</libName><manageCode>MA</manageCode><pubYear>2017</pubYear><publisher>에이콘출판</publisher><regNo>EMA000256669</regNo><rnum>25</rnum><shelfLocName>[강남]4층 종합자료실</shelfLocName><speciesKey>5371359090</speciesKey><title>PySpark 배우기  : 파이썬과 스파크 2.0으로 대용량 처리 애플리케이션 다루기</title></item><item><appendixYn>N</appendixYn><author>김태영 지음</author><bookKey>5370777918</bookKey><callNo>004.73-ㄱ968ㅍ</callNo><controlNo>KMO201706197</controlNo><isbn>9788960882133</isbn><libName>강남도서관</libName><manageCode>MA</manageCode><pubYear>2017</pubYear><publisher>디지털북스</publisher><regNo>EMA000256194</regNo><rnum>26</rnum><shelfLocName>[강남]4층 종합자료실</shelfLocName><speciesKey>5370777916</speciesKey><title>(블록과 함께 하는) 파이썬 딥러닝 케라스</title></item><item><appendixYn>N</appendixYn><author>존 M. 젤 지음 ;심효섭 옮김</author><bookKey>5372472062</bookKey><callNo>005.133-ㅈ568ㅍ</callNo><controlNo>KMO201706611</controlNo><isbn>9788966264087</isbn><libName>강남도서관</libName><manageCode>MA</manageCode><pubYear>2017</pubYear><publisher>인사이트</publisher><regNo>EMA000256690</regNo><rnum>27</rnum><shelfLocName>[강남]4층 종합자료실</shelfLocName><speciesKey>5372472060</speciesKey><title>파이썬으로 시작하는 컴퓨터 과학 입문</title></item><item><appendixYn>N</appendixYn><author>천인국 지음</author><bookKey>5374839211</bookKey><callNo>005.133-ㅊ252ㄷ</callNo><controlNo>KMO201707511</controlNo><isbn>9788970508931</isbn><libName>강남도서관</libName><manageCode>MA</manageCode><pubYear>2017</pubYear><publisher>생능출판</publisher><regNo>EMA000256582</regNo><rnum>28</rnum><shelfLocName>[강남]4층 종합자료실</shelfLocName><speciesKey>5374839209</speciesKey><title>두근두근 파이썬  : 쉽고! 재밌고! 흥미로운 코딩 맛!</title></item><item><appendixYn>N</appendixYn><author>지은이: 스티븐 로트 ;옮긴이: 오현석</author><bookKey>5343805938</bookKey><callNo>005.133-ㄹ652ㅎ</callNo><controlNo>KMO201702298</controlNo><isbn>9788960779761</isbn><libName>강남도서관</libName><manageCode>MA</manageCode><pubYear>2017</pubYear><publisher>에이콘출판</publisher><regNo>EMA000251595</regNo><rnum>29</rnum><shelfLocName>[강남]4층 종합자료실</shelfLocName><speciesKey>5343805936</speciesKey><title>함수형 파이썬 프로그래밍  : 파이썬으로 배우는 쉬운 함수형 프로그래밍</title></item><item><appendixYn>N</appendixYn><author>지은이: 사이토 고키 ;옮긴이: 개앞맵시</author><bookKey>5347841888</bookKey><callNo>004.73-ㅅ156ㅁ</callNo><controlNo>KMO201701856</controlNo><isbn>9788968484636</isbn><libName>강남도서관</libName><manageCode>MA</manageCode><pubYear>2017</pubYear><publisher>한빛미디어</publisher><regNo>EMA000251440</regNo><rnum>30</rnum><shelfLocName>[강남]4층 종합자료실</shelfLocName><speciesKey>5347841885</speciesKey><title>밑바닥부터 시작하는 딥러닝  : 파이썬으로 익히는 딥러닝 이론과 구현</title></item><item><appendixYn>N</appendixYn><author>에릭 마테스 지음 ;한선용 옮김</author><bookKey>5351678690</bookKey><callNo>005.133-ㅁ342ㄴ</callNo><controlNo>KMO201705626</controlNo><isbn>9788968483561</isbn><libName>강남도서관</libName><manageCode>MA</manageCode><pubYear>2017</pubYear><publisher>한빛미디어</publisher><regNo>EMA000253988</regNo><rnum>31</rnum><shelfLocName>[강남]4층 종합자료실</shelfLocName><speciesKey>5351678688</speciesKey><title>나의 첫 파이썬  : 설치부터 시작하는 가장 쉬운 입문서</title></item><item><appendixYn>N</appendixYn><author>아메드 셰리프 지음 ;오지혜,이현진,허혜정 옮김</author><bookKey>5351679189</bookKey><callNo>325.27-ㅅ414ㅅ</callNo><controlNo>KMO201705608</controlNo><isbn>9788960779426</isbn><libName>강남도서관</libName><manageCode>MA</manageCode><pubYear>2017</pubYear><publisher>에이콘</publisher><regNo>EMA000253969</regNo><rnum>32</rnum><shelfLocName>[강남]4층 종합자료실</shelfLocName><speciesKey>5351679187</speciesKey><title>손에 잡히는 실전 비즈니스 인텔리전스  : power bi, 엑셀, d3.js, r, 파이썬, qlik, tableau, microsoft SQL server 툴을 활용한 비즈니스 데이터 활용법</title></item><item><appendixYn>N</appendixYn><author>스티븐 로트 지음</author><bookKey>5344619442</bookKey><callNo>005.113-ㄹ652ㄱ</callNo><controlNo>KMO201700912</controlNo><isbn>9788960779754</isbn><libName>강남도서관</libName><manageCode>MA</manageCode><pubYear>2017</pubYear><publisher>에이콘출판</publisher><regNo>EMA000250683</regNo><rnum>33</rnum><shelfLocName>[강남]4층 종합자료실</shelfLocName><speciesKey>5344619440</speciesKey><title>객체지향 파이썬 프로그래밍 : 파이썬 고급 기능으로 강력한 애플리케이션 개발</title></item><item><appendixYn>N</appendixYn><author>프라틱 조쉬 지음;남기혁,윤여찬 옮김</author><bookKey>5353681738</bookKey><callNo>005.11-ㅍ82파</callNo><controlNo>KMO201702937</controlNo><isbn>9788960778665</isbn><libName>강남도서관</libName><manageCode>MA</manageCode><pubYear>2017</pubYear><publisher>에이콘출판</publisher><regNo>EMA000253467</regNo><rnum>34</rnum><shelfLocName>[강남]4층 종합자료실</shelfLocName><speciesKey>5353681736</speciesKey><title>파이썬으로 배우는 인공지능 : 현실 세계와 지능적으로 상호 작용하는 인공지능 애플리케이션 만들기</title></item><item><appendixYn>N</appendixYn><author>키르시 라만 지음;정기연;안진규;허혜정 옮김</author><bookKey>5353681836</bookKey><callNo>005.133-ㄹ144ㅍ</callNo><controlNo>KMO201702960</controlNo><isbn>9788960776852</isbn><libName>강남도서관</libName><manageCode>MA</manageCode><pubYear>2017</pubYear><publisher>PACKT:에이콘출판주식회사</publisher><regNo>EMA000253490</regNo><rnum>35</rnum><shelfLocName>[강남]4층 종합자료실</shelfLocName><speciesKey>5353681834</speciesKey><title>파이썬 데이터 시각화 마스터</title></item><item><appendixYn>N</appendixYn><author>김주현 지음</author><bookKey>5339551075</bookKey><callNo>005.13-ㄱ934ㅍ</callNo><controlNo>KMO201700986</controlNo><isbn>9788997924271</isbn><libName>강남도서관</libName><manageCode>MA</manageCode><pubYear>2016</pubYear><publisher>로드북</publisher><regNo>EMA000250705</regNo><rnum>36</rnum><shelfLocName>[강남]4층 종합자료실</shelfLocName><speciesKey>5339551069</speciesKey><title>파이썬의 神  : 프로그래밍 언어를 배운다는 것</title></item><item><appendixYn>N</appendixYn><author>지은이: 조훈,김종숙</author><bookKey>5349619990</bookKey><callNo>005.133-ㅈ712ㅍ</callNo><controlNo>KMO201701976</controlNo><isbn>9791158390532</isbn><libName>강남도서관</libName><manageCode>MA</manageCode><pubYear>2017</pubYear><publisher>위키북스</publisher><regNo>EMA000251557</regNo><rnum>37</rnum><shelfLocName>[강남]4층 종합자료실</shelfLocName><speciesKey>5349619988</speciesKey><title>파이썬 실무 프로그래밍  : 시스템/네트워크 관리자를 위한</title></item><item><appendixYn>N</appendixYn><author>이승찬 지음</author><bookKey>5353944151</bookKey><callNo>005.1-ㅇ785ㅁ</callNo><controlNo>KMO201706969</controlNo><isbn>9791160501728</isbn><libName>강남도서관</libName><manageCode>MA</manageCode><pubYear>2017</pubYear><publisher>길벗</publisher><regNo>EMA000254739</regNo><rnum>38</rnum><shelfLocName>[강남]4층 종합자료실</shelfLocName><speciesKey>5353944149</speciesKey><title>모두의 알고리즘  = Algorithms for everyone  : with 파이썬  : 컴퓨팅 사고를 위한 기초 알고리즘</title></item><item><appendixYn>N</appendixYn><author>조대표 지음</author><bookKey>5353944580</bookKey><callNo>005.133-ㅈ592ㅇ</callNo><controlNo>KMO201706967</controlNo><isbn>9791158390631</isbn><libName>강남도서관</libName><manageCode>MA</manageCode><pubYear>2017</pubYear><publisher>위키북스</publisher><regNo>EMA000254737</regNo><rnum>39</rnum><shelfLocName>[강남]4층 종합자료실</shelfLocName><speciesKey>5353944578</speciesKey><title>(파이썬으로 배우는) 알고리즘 트레이딩  : 내 손으로 만드는 자동 주식 거래 시스템</title></item><item><appendixYn>N</appendixYn><author>미샤 고렐릭;이안 오스발트 지음;김영근;오현석 옮김</author><bookKey>5319229672</bookKey><callNo>005.133-ㄱ337ㄱ</callNo><controlNo>KMO201605442</controlNo><isbn>9788968484995</isbn><libName>강남도서관</libName><manageCode>MA</manageCode><pubYear>2016</pubYear><publisher>한빛미디어</publisher><regNo>EMA000247401</regNo><rnum>40</rnum><shelfLocName>[강남]4층 종합자료실</shelfLocName><speciesKey>5319229670</speciesKey><title>고성능 파이썬 : 파이썬 성능 잠재력을 끌어내는 실용적인 개발 전략서</title></item></items><numOfRows>20</numOfRows><pageNo>2</pageNo><totalCount>165</totalCount></body></response>\n"
     ]
    }
   ],
   "source": [
    "!cat src/ds_open_library_xml.txt"
   ]
  },
  {
   "cell_type": "markdown",
   "metadata": {
    "slideshow": {
     "slide_type": "slide"
    }
   },
   "source": [
    "## 연습문제 1: 주식 데이터 읽기\n",
    "\n",
    "* Pandas 인터넷에서 데이터를 읽어서 DataFrame으로 만든다. 라이브러리를 설치하려면:\n",
    "\n",
    "```\n",
    "pip install pandas-datareader\n",
    "```\n",
    "\n",
    "Pandas datareader는 인터넷에 제공되는 다음과 같은 경제관련 출처로부터 데이터를 읽어서 dataframe을 생성해준다.\n",
    "\n",
    "- Tiingo - historical end-of-day prices on equities, mutual funds and ETFs, 인증키 필요\n",
    "- IEX - 과거 주가 데이터, 인증키 필요 (os.environ[\"IEX_API_KEY\"] 설정) \n",
    "- Alpha - 실시간 equities and forex, 인증키 필요\n",
    "- Quotes - 실시간 stock quotes, market hours 개장 중에만 사용가능\n",
    "- Forex - 환율, 인증키 필요 (os.environ['ALPHAVANTAGE_API_KEY'] 설정) \n",
    "- Sector Performance - 에너지, 부동산, 헬스케어 등 산업군 지표, 인증키 필요 (os.environ['ALPHAVANTAGE_API_KEY'] 설정) \n",
    "- Econdb - 경제 시계열\n",
    "- Enigma - 공공데이터\n",
    "- Quandl -  Quandl에서 제공하는 일일 주가, ET, 인증키 필요 (os.environ['QUANDL_API_KEY'] 설정)\n",
    "- FRED -  프랑스 농업관련 데이터\n",
    "- Word Bank - 세계 은행 GDP 관련 데이터\n",
    "- OECD - OECD 각 국 경제 데이터\n",
    "- Nasdaq - 거래종목\n",
    "- Stooq - Stooq에서 제공하는 주식관련 데이터\n",
    "- MOEX - Moscow Exchange (MOEX) \n",
    "- Naver Finance - 네이버에서 제공하는 KOSPI, KOSDAQ 데이터\n",
    "- Yahoo Finance 야후에서 제공하는 주식, 배당금 데이터"
   ]
  },
  {
   "cell_type": "markdown",
   "metadata": {},
   "source": [
    "### World Bank\n",
    "\n",
    " \n",
    "GDP per capita in constant 2010 U.S. dollars.\n"
   ]
  },
  {
   "cell_type": "code",
   "execution_count": 6,
   "metadata": {},
   "outputs": [
    {
     "name": "stdout",
     "output_type": "stream",
     "text": [
      "                    NY.GDP.PCAP.KD\n",
      "country       year                \n",
      "Canada        2008    48611.791806\n",
      "              2007    48650.855933\n",
      "              2006    45968.244184\n",
      "              2005    44577.993393\n",
      "Mexico        2008     9587.636253\n",
      "              2007     9622.047869\n",
      "              2006     9547.333393\n",
      "              2005     9270.656892\n",
      "United States 2008    49319.478865\n",
      "              2007    49856.281490\n",
      "              2006    49405.767297\n",
      "              2005    48499.812376\n"
     ]
    }
   ],
   "source": [
    "from pandas_datareader import wb\n",
    "matches = wb.search('gdp.*capita.*const')\n",
    "    \n",
    "dat = wb.download(indicator='NY.GDP.PCAP.KD', country=['US', 'CA', 'MX'], start=2005, end=2008)\n",
    "\n",
    "print(dat)"
   ]
  },
  {
   "cell_type": "markdown",
   "metadata": {},
   "source": [
    "### Econdb"
   ]
  },
  {
   "cell_type": "code",
   "execution_count": 16,
   "metadata": {},
   "outputs": [],
   "source": [
    "import pandas_datareader.data as web"
   ]
  },
  {
   "cell_type": "code",
   "execution_count": 10,
   "metadata": {},
   "outputs": [
    {
     "data": {
      "text/html": [
       "<div>\n",
       "<style scoped>\n",
       "    .dataframe tbody tr th:only-of-type {\n",
       "        vertical-align: middle;\n",
       "    }\n",
       "\n",
       "    .dataframe tbody tr th {\n",
       "        vertical-align: top;\n",
       "    }\n",
       "\n",
       "    .dataframe thead tr th {\n",
       "        text-align: left;\n",
       "    }\n",
       "\n",
       "    .dataframe thead tr:last-of-type th {\n",
       "        text-align: right;\n",
       "    }\n",
       "</style>\n",
       "<table border=\"1\" class=\"dataframe\">\n",
       "  <thead>\n",
       "    <tr>\n",
       "      <th>TableName</th>\n",
       "      <th>T10106</th>\n",
       "    </tr>\n",
       "    <tr>\n",
       "      <th>SeriesCode</th>\n",
       "      <th>A191RX</th>\n",
       "    </tr>\n",
       "    <tr>\n",
       "      <th>Table</th>\n",
       "      <th>Table 1.1.6. Real Gross Domestic Product, Chained Dollars (A) (Q)</th>\n",
       "    </tr>\n",
       "    <tr>\n",
       "      <th>Series description</th>\n",
       "      <th>Gross domestic product</th>\n",
       "    </tr>\n",
       "    <tr>\n",
       "      <th>CL_UNIT</th>\n",
       "      <th>Level</th>\n",
       "    </tr>\n",
       "    <tr>\n",
       "      <th>CL_FREQ</th>\n",
       "      <th>Q</th>\n",
       "    </tr>\n",
       "    <tr>\n",
       "      <th>Note</th>\n",
       "      <th>Table 1.1.6. Real Gross Domestic Product, Chained Dollars [Billions of chained (2012) dollars] - LastRevised: July 29, 2021</th>\n",
       "    </tr>\n",
       "    <tr>\n",
       "      <th>TIME_PERIOD</th>\n",
       "      <th></th>\n",
       "    </tr>\n",
       "  </thead>\n",
       "  <tbody>\n",
       "    <tr>\n",
       "      <th>2016-10-01</th>\n",
       "      <td>17812560</td>\n",
       "    </tr>\n",
       "    <tr>\n",
       "      <th>2017-01-01</th>\n",
       "      <td>17896624</td>\n",
       "    </tr>\n",
       "    <tr>\n",
       "      <th>2017-04-01</th>\n",
       "      <td>17996802</td>\n",
       "    </tr>\n",
       "    <tr>\n",
       "      <th>2017-07-01</th>\n",
       "      <td>18126226</td>\n",
       "    </tr>\n",
       "    <tr>\n",
       "      <th>2017-10-01</th>\n",
       "      <td>18296684</td>\n",
       "    </tr>\n",
       "  </tbody>\n",
       "</table>\n",
       "</div>"
      ],
      "text/plain": [
       "TableName                                                                                                                               T10106\n",
       "SeriesCode                                                                                                                              A191RX\n",
       "Table                                                                        Table 1.1.6. Real Gross Domestic Product, Chained Dollars (A) (Q)\n",
       "Series description                                                                                                      Gross domestic product\n",
       "CL_UNIT                                                                                                                                  Level\n",
       "CL_FREQ                                                                                                                                      Q\n",
       "Note               Table 1.1.6. Real Gross Domestic Product, Chained Dollars [Billions of chained (2012) dollars] - LastRevised: July 29, 2021\n",
       "TIME_PERIOD                                                                                                                                   \n",
       "2016-10-01                                                   17812560                                                                         \n",
       "2017-01-01                                                   17896624                                                                         \n",
       "2017-04-01                                                   17996802                                                                         \n",
       "2017-07-01                                                   18126226                                                                         \n",
       "2017-10-01                                                   18296684                                                                         "
      ]
     },
     "execution_count": 10,
     "metadata": {},
     "output_type": "execute_result"
    }
   ],
   "source": [
    "f = web.DataReader('ticker=RGDPUS', 'econdb')\n",
    "f.head()"
   ]
  },
  {
   "cell_type": "code",
   "execution_count": 12,
   "metadata": {
    "scrolled": true
   },
   "outputs": [
    {
     "data": {
      "text/html": [
       "<div>\n",
       "<style scoped>\n",
       "    .dataframe tbody tr th:only-of-type {\n",
       "        vertical-align: middle;\n",
       "    }\n",
       "\n",
       "    .dataframe tbody tr th {\n",
       "        vertical-align: top;\n",
       "    }\n",
       "\n",
       "    .dataframe thead tr th {\n",
       "        text-align: left;\n",
       "    }\n",
       "\n",
       "    .dataframe thead tr:last-of-type th {\n",
       "        text-align: right;\n",
       "    }\n",
       "</style>\n",
       "<table border=\"1\" class=\"dataframe\">\n",
       "  <thead>\n",
       "    <tr>\n",
       "      <th>Frequency</th>\n",
       "      <th colspan=\"21\" halign=\"left\">Quarterly</th>\n",
       "    </tr>\n",
       "    <tr>\n",
       "      <th>Unit of measure</th>\n",
       "      <th colspan=\"21\" halign=\"left\">Chain linked volumes (2010), million units of national currency</th>\n",
       "    </tr>\n",
       "    <tr>\n",
       "      <th>Seasonal adjustment</th>\n",
       "      <th colspan=\"21\" halign=\"left\">Seasonally and calendar adjusted data</th>\n",
       "    </tr>\n",
       "    <tr>\n",
       "      <th>National accounts indicator (ESA10)</th>\n",
       "      <th colspan=\"21\" halign=\"left\">Gross domestic product at market prices</th>\n",
       "    </tr>\n",
       "    <tr>\n",
       "      <th>Geopolitical entity (reporting)</th>\n",
       "      <th>Austria</th>\n",
       "      <th>Belgium</th>\n",
       "      <th>Bulgaria</th>\n",
       "      <th>Croatia</th>\n",
       "      <th>Cyprus</th>\n",
       "      <th>Czechia</th>\n",
       "      <th>Denmark</th>\n",
       "      <th>Estonia</th>\n",
       "      <th>Finland</th>\n",
       "      <th>France</th>\n",
       "      <th>...</th>\n",
       "      <th>Portugal</th>\n",
       "      <th>United Kingdom</th>\n",
       "      <th>Romania</th>\n",
       "      <th>Serbia</th>\n",
       "      <th>Slovakia</th>\n",
       "      <th>Slovenia</th>\n",
       "      <th>Spain</th>\n",
       "      <th>Sweden</th>\n",
       "      <th>Switzerland</th>\n",
       "      <th>Turkey</th>\n",
       "    </tr>\n",
       "    <tr>\n",
       "      <th>TIME_PERIOD</th>\n",
       "      <th></th>\n",
       "      <th></th>\n",
       "      <th></th>\n",
       "      <th></th>\n",
       "      <th></th>\n",
       "      <th></th>\n",
       "      <th></th>\n",
       "      <th></th>\n",
       "      <th></th>\n",
       "      <th></th>\n",
       "      <th></th>\n",
       "      <th></th>\n",
       "      <th></th>\n",
       "      <th></th>\n",
       "      <th></th>\n",
       "      <th></th>\n",
       "      <th></th>\n",
       "      <th></th>\n",
       "      <th></th>\n",
       "      <th></th>\n",
       "      <th></th>\n",
       "    </tr>\n",
       "  </thead>\n",
       "  <tbody>\n",
       "    <tr>\n",
       "      <th>2018-07-01</th>\n",
       "      <td>83630</td>\n",
       "      <td>101515</td>\n",
       "      <td>22596</td>\n",
       "      <td>90197</td>\n",
       "      <td>5283</td>\n",
       "      <td>1213483</td>\n",
       "      <td>524168</td>\n",
       "      <td>4966</td>\n",
       "      <td>50622</td>\n",
       "      <td>554045</td>\n",
       "      <td>...</td>\n",
       "      <td>46923</td>\n",
       "      <td>466655.0</td>\n",
       "      <td>179253</td>\n",
       "      <td>938190</td>\n",
       "      <td>21224</td>\n",
       "      <td>10566</td>\n",
       "      <td>291916</td>\n",
       "      <td>1059422</td>\n",
       "      <td>184089</td>\n",
       "      <td>469429</td>\n",
       "    </tr>\n",
       "    <tr>\n",
       "      <th>2018-10-01</th>\n",
       "      <td>84341</td>\n",
       "      <td>102405</td>\n",
       "      <td>22792</td>\n",
       "      <td>90651</td>\n",
       "      <td>5284</td>\n",
       "      <td>1221954</td>\n",
       "      <td>526786</td>\n",
       "      <td>5028</td>\n",
       "      <td>50705</td>\n",
       "      <td>557810</td>\n",
       "      <td>...</td>\n",
       "      <td>47118</td>\n",
       "      <td>467433.0</td>\n",
       "      <td>180261</td>\n",
       "      <td>940799</td>\n",
       "      <td>21328</td>\n",
       "      <td>10712</td>\n",
       "      <td>293534</td>\n",
       "      <td>1073686</td>\n",
       "      <td>184448</td>\n",
       "      <td>455395</td>\n",
       "    </tr>\n",
       "    <tr>\n",
       "      <th>2019-01-01</th>\n",
       "      <td>85016</td>\n",
       "      <td>102597</td>\n",
       "      <td>23078</td>\n",
       "      <td>91738</td>\n",
       "      <td>5361</td>\n",
       "      <td>1232838</td>\n",
       "      <td>530665</td>\n",
       "      <td>5152</td>\n",
       "      <td>51042</td>\n",
       "      <td>561438</td>\n",
       "      <td>...</td>\n",
       "      <td>47494</td>\n",
       "      <td>470015.0</td>\n",
       "      <td>183264</td>\n",
       "      <td>948498</td>\n",
       "      <td>21496</td>\n",
       "      <td>10754</td>\n",
       "      <td>295067</td>\n",
       "      <td>1078460</td>\n",
       "      <td>184718</td>\n",
       "      <td>463064</td>\n",
       "    </tr>\n",
       "    <tr>\n",
       "      <th>2019-04-01</th>\n",
       "      <td>84746</td>\n",
       "      <td>102928</td>\n",
       "      <td>23214</td>\n",
       "      <td>91951</td>\n",
       "      <td>5392</td>\n",
       "      <td>1242528</td>\n",
       "      <td>533197</td>\n",
       "      <td>5172</td>\n",
       "      <td>51528</td>\n",
       "      <td>564421</td>\n",
       "      <td>...</td>\n",
       "      <td>47792</td>\n",
       "      <td>470666.0</td>\n",
       "      <td>184526</td>\n",
       "      <td>963387</td>\n",
       "      <td>21565</td>\n",
       "      <td>10761</td>\n",
       "      <td>296182</td>\n",
       "      <td>1082532</td>\n",
       "      <td>185393</td>\n",
       "      <td>472645</td>\n",
       "    </tr>\n",
       "    <tr>\n",
       "      <th>2019-07-01</th>\n",
       "      <td>85008</td>\n",
       "      <td>103444</td>\n",
       "      <td>23346</td>\n",
       "      <td>92587</td>\n",
       "      <td>5413</td>\n",
       "      <td>1249343</td>\n",
       "      <td>535179</td>\n",
       "      <td>5201</td>\n",
       "      <td>51502</td>\n",
       "      <td>565218</td>\n",
       "      <td>...</td>\n",
       "      <td>48020</td>\n",
       "      <td>473006.0</td>\n",
       "      <td>185310</td>\n",
       "      <td>984083</td>\n",
       "      <td>21650</td>\n",
       "      <td>10850</td>\n",
       "      <td>297230</td>\n",
       "      <td>1088051</td>\n",
       "      <td>186412</td>\n",
       "      <td>474547</td>\n",
       "    </tr>\n",
       "    <tr>\n",
       "      <th>2019-10-01</th>\n",
       "      <td>84552</td>\n",
       "      <td>104051</td>\n",
       "      <td>23496</td>\n",
       "      <td>93048</td>\n",
       "      <td>5466</td>\n",
       "      <td>1257203</td>\n",
       "      <td>535574</td>\n",
       "      <td>5228</td>\n",
       "      <td>51305</td>\n",
       "      <td>563058</td>\n",
       "      <td>...</td>\n",
       "      <td>48366</td>\n",
       "      <td>473088.0</td>\n",
       "      <td>187019</td>\n",
       "      <td>1003046</td>\n",
       "      <td>21786</td>\n",
       "      <td>10988</td>\n",
       "      <td>298463</td>\n",
       "      <td>1088909</td>\n",
       "      <td>187170</td>\n",
       "      <td>484072</td>\n",
       "    </tr>\n",
       "    <tr>\n",
       "      <th>2020-01-01</th>\n",
       "      <td>82360</td>\n",
       "      <td>100568</td>\n",
       "      <td>23600</td>\n",
       "      <td>92503</td>\n",
       "      <td>5420</td>\n",
       "      <td>1214806</td>\n",
       "      <td>531709</td>\n",
       "      <td>5147</td>\n",
       "      <td>51055</td>\n",
       "      <td>530510</td>\n",
       "      <td>...</td>\n",
       "      <td>46450</td>\n",
       "      <td>458805.0</td>\n",
       "      <td>188392</td>\n",
       "      <td>995086</td>\n",
       "      <td>20780</td>\n",
       "      <td>10378</td>\n",
       "      <td>282442</td>\n",
       "      <td>1079218</td>\n",
       "      <td>184076</td>\n",
       "      <td>484547</td>\n",
       "    </tr>\n",
       "    <tr>\n",
       "      <th>2020-04-01</th>\n",
       "      <td>73598</td>\n",
       "      <td>88568</td>\n",
       "      <td>21224</td>\n",
       "      <td>78530</td>\n",
       "      <td>4718</td>\n",
       "      <td>1106569</td>\n",
       "      <td>497973</td>\n",
       "      <td>4884</td>\n",
       "      <td>47930</td>\n",
       "      <td>458866</td>\n",
       "      <td>...</td>\n",
       "      <td>39963</td>\n",
       "      <td>372766.0</td>\n",
       "      <td>166116</td>\n",
       "      <td>903752</td>\n",
       "      <td>19216</td>\n",
       "      <td>9353</td>\n",
       "      <td>232205</td>\n",
       "      <td>994848</td>\n",
       "      <td>171473</td>\n",
       "      <td>431363</td>\n",
       "    </tr>\n",
       "    <tr>\n",
       "      <th>2020-07-01</th>\n",
       "      <td>82132</td>\n",
       "      <td>98998</td>\n",
       "      <td>22133</td>\n",
       "      <td>83201</td>\n",
       "      <td>5166</td>\n",
       "      <td>1181291</td>\n",
       "      <td>528098</td>\n",
       "      <td>5018</td>\n",
       "      <td>50102</td>\n",
       "      <td>545110</td>\n",
       "      <td>...</td>\n",
       "      <td>45328</td>\n",
       "      <td>432422.0</td>\n",
       "      <td>175199</td>\n",
       "      <td>969686</td>\n",
       "      <td>21110</td>\n",
       "      <td>10533</td>\n",
       "      <td>271802</td>\n",
       "      <td>1068924</td>\n",
       "      <td>183868</td>\n",
       "      <td>500111</td>\n",
       "    </tr>\n",
       "    <tr>\n",
       "      <th>2020-10-01</th>\n",
       "      <td>79549</td>\n",
       "      <td>98932</td>\n",
       "      <td>22610</td>\n",
       "      <td>86640</td>\n",
       "      <td>5224</td>\n",
       "      <td>1189999</td>\n",
       "      <td>532818</td>\n",
       "      <td>5159</td>\n",
       "      <td>50341</td>\n",
       "      <td>539575</td>\n",
       "      <td>...</td>\n",
       "      <td>45415</td>\n",
       "      <td>NaN</td>\n",
       "      <td>183265</td>\n",
       "      <td>992324</td>\n",
       "      <td>21278</td>\n",
       "      <td>10466</td>\n",
       "      <td>271840</td>\n",
       "      <td>1068798</td>\n",
       "      <td>184025</td>\n",
       "      <td>508484</td>\n",
       "    </tr>\n",
       "    <tr>\n",
       "      <th>2021-01-01</th>\n",
       "      <td>78676</td>\n",
       "      <td>100034</td>\n",
       "      <td>23178</td>\n",
       "      <td>91658</td>\n",
       "      <td>5331</td>\n",
       "      <td>1185873</td>\n",
       "      <td>527556</td>\n",
       "      <td>5405</td>\n",
       "      <td>50361</td>\n",
       "      <td>539556</td>\n",
       "      <td>...</td>\n",
       "      <td>43970</td>\n",
       "      <td>NaN</td>\n",
       "      <td>188494</td>\n",
       "      <td>1011501</td>\n",
       "      <td>20848</td>\n",
       "      <td>10617</td>\n",
       "      <td>270656</td>\n",
       "      <td>1077826</td>\n",
       "      <td>183077</td>\n",
       "      <td>517230</td>\n",
       "    </tr>\n",
       "  </tbody>\n",
       "</table>\n",
       "<p>11 rows × 33 columns</p>\n",
       "</div>"
      ],
      "text/plain": [
       "Frequency                                                                                 Quarterly  \\\n",
       "Unit of measure                     Chain linked volumes (2010), million units of national currency   \n",
       "Seasonal adjustment                                           Seasonally and calendar adjusted data   \n",
       "National accounts indicator (ESA10)                         Gross domestic product at market prices   \n",
       "Geopolitical entity (reporting)                                                             Austria   \n",
       "TIME_PERIOD                                                                                           \n",
       "2018-07-01                                                                       83630                \n",
       "2018-10-01                                                                       84341                \n",
       "2019-01-01                                                                       85016                \n",
       "2019-04-01                                                                       84746                \n",
       "2019-07-01                                                                       85008                \n",
       "2019-10-01                                                                       84552                \n",
       "2020-01-01                                                                       82360                \n",
       "2020-04-01                                                                       73598                \n",
       "2020-07-01                                                                       82132                \n",
       "2020-10-01                                                                       79549                \n",
       "2021-01-01                                                                       78676                \n",
       "\n",
       "Frequency                                                                     \\\n",
       "Unit of measure                                                                \n",
       "Seasonal adjustment                                                            \n",
       "National accounts indicator (ESA10)                                            \n",
       "Geopolitical entity (reporting)     Belgium Bulgaria Croatia Cyprus  Czechia   \n",
       "TIME_PERIOD                                                                    \n",
       "2018-07-01                           101515    22596   90197   5283  1213483   \n",
       "2018-10-01                           102405    22792   90651   5284  1221954   \n",
       "2019-01-01                           102597    23078   91738   5361  1232838   \n",
       "2019-04-01                           102928    23214   91951   5392  1242528   \n",
       "2019-07-01                           103444    23346   92587   5413  1249343   \n",
       "2019-10-01                           104051    23496   93048   5466  1257203   \n",
       "2020-01-01                           100568    23600   92503   5420  1214806   \n",
       "2020-04-01                            88568    21224   78530   4718  1106569   \n",
       "2020-07-01                            98998    22133   83201   5166  1181291   \n",
       "2020-10-01                            98932    22610   86640   5224  1189999   \n",
       "2021-01-01                           100034    23178   91658   5331  1185873   \n",
       "\n",
       "Frequency                                                            ...  \\\n",
       "Unit of measure                                                      ...   \n",
       "Seasonal adjustment                                                  ...   \n",
       "National accounts indicator (ESA10)                                  ...   \n",
       "Geopolitical entity (reporting)     Denmark Estonia Finland  France  ...   \n",
       "TIME_PERIOD                                                          ...   \n",
       "2018-07-01                           524168    4966   50622  554045  ...   \n",
       "2018-10-01                           526786    5028   50705  557810  ...   \n",
       "2019-01-01                           530665    5152   51042  561438  ...   \n",
       "2019-04-01                           533197    5172   51528  564421  ...   \n",
       "2019-07-01                           535179    5201   51502  565218  ...   \n",
       "2019-10-01                           535574    5228   51305  563058  ...   \n",
       "2020-01-01                           531709    5147   51055  530510  ...   \n",
       "2020-04-01                           497973    4884   47930  458866  ...   \n",
       "2020-07-01                           528098    5018   50102  545110  ...   \n",
       "2020-10-01                           532818    5159   50341  539575  ...   \n",
       "2021-01-01                           527556    5405   50361  539556  ...   \n",
       "\n",
       "Frequency                                                                     \\\n",
       "Unit of measure                                                                \n",
       "Seasonal adjustment                                                            \n",
       "National accounts indicator (ESA10)                                            \n",
       "Geopolitical entity (reporting)     Portugal United Kingdom Romania   Serbia   \n",
       "TIME_PERIOD                                                                    \n",
       "2018-07-01                             46923       466655.0  179253   938190   \n",
       "2018-10-01                             47118       467433.0  180261   940799   \n",
       "2019-01-01                             47494       470015.0  183264   948498   \n",
       "2019-04-01                             47792       470666.0  184526   963387   \n",
       "2019-07-01                             48020       473006.0  185310   984083   \n",
       "2019-10-01                             48366       473088.0  187019  1003046   \n",
       "2020-01-01                             46450       458805.0  188392   995086   \n",
       "2020-04-01                             39963       372766.0  166116   903752   \n",
       "2020-07-01                             45328       432422.0  175199   969686   \n",
       "2020-10-01                             45415            NaN  183265   992324   \n",
       "2021-01-01                             43970            NaN  188494  1011501   \n",
       "\n",
       "Frequency                                                               \\\n",
       "Unit of measure                                                          \n",
       "Seasonal adjustment                                                      \n",
       "National accounts indicator (ESA10)                                      \n",
       "Geopolitical entity (reporting)     Slovakia Slovenia   Spain   Sweden   \n",
       "TIME_PERIOD                                                              \n",
       "2018-07-01                             21224    10566  291916  1059422   \n",
       "2018-10-01                             21328    10712  293534  1073686   \n",
       "2019-01-01                             21496    10754  295067  1078460   \n",
       "2019-04-01                             21565    10761  296182  1082532   \n",
       "2019-07-01                             21650    10850  297230  1088051   \n",
       "2019-10-01                             21786    10988  298463  1088909   \n",
       "2020-01-01                             20780    10378  282442  1079218   \n",
       "2020-04-01                             19216     9353  232205   994848   \n",
       "2020-07-01                             21110    10533  271802  1068924   \n",
       "2020-10-01                             21278    10466  271840  1068798   \n",
       "2021-01-01                             20848    10617  270656  1077826   \n",
       "\n",
       "Frequency                                                \n",
       "Unit of measure                                          \n",
       "Seasonal adjustment                                      \n",
       "National accounts indicator (ESA10)                      \n",
       "Geopolitical entity (reporting)     Switzerland  Turkey  \n",
       "TIME_PERIOD                                              \n",
       "2018-07-01                               184089  469429  \n",
       "2018-10-01                               184448  455395  \n",
       "2019-01-01                               184718  463064  \n",
       "2019-04-01                               185393  472645  \n",
       "2019-07-01                               186412  474547  \n",
       "2019-10-01                               187170  484072  \n",
       "2020-01-01                               184076  484547  \n",
       "2020-04-01                               171473  431363  \n",
       "2020-07-01                               183868  500111  \n",
       "2020-10-01                               184025  508484  \n",
       "2021-01-01                               183077  517230  \n",
       "\n",
       "[11 rows x 33 columns]"
      ]
     },
     "execution_count": 12,
     "metadata": {},
     "output_type": "execute_result"
    }
   ],
   "source": [
    "df = web.DataReader('dataset=NAMQ_10_GDP&v=Geopolitical entity (reporting)&h=TIME&from=2018-05-01&to=2021-01-01&GEO=[AL,AT,BE,BA,BG,HR,CY,CZ,DK,EE,EA19,FI,FR,DE,EL,HU,IS,IE,IT,XK,LV,LT,LU,MT,ME,NL,MK,NO,PL,PT,RO,RS,SK,SI,ES,SE,CH,TR,UK]&NA_ITEM=[B1GQ]&S_ADJ=[SCA]&UNIT=[CLV10_MNAC]', 'econdb')\n",
    "df"
   ]
  },
  {
   "cell_type": "markdown",
   "metadata": {},
   "source": [
    "#### OECD"
   ]
  },
  {
   "cell_type": "code",
   "execution_count": 26,
   "metadata": {
    "scrolled": true
   },
   "outputs": [],
   "source": [
    "#import pandas_datareader as pdr\n",
    "#matches = web.wb.search('gdp.*capita.*const')\n",
    "df=web.DataReader('TUD','oecd')"
   ]
  },
  {
   "cell_type": "code",
   "execution_count": 29,
   "metadata": {},
   "outputs": [
    {
     "data": {
      "text/html": [
       "<div>\n",
       "<style scoped>\n",
       "    .dataframe tbody tr th:only-of-type {\n",
       "        vertical-align: middle;\n",
       "    }\n",
       "\n",
       "    .dataframe tbody tr th {\n",
       "        vertical-align: top;\n",
       "    }\n",
       "\n",
       "    .dataframe thead tr th {\n",
       "        text-align: left;\n",
       "    }\n",
       "\n",
       "    .dataframe thead tr:last-of-type th {\n",
       "        text-align: right;\n",
       "    }\n",
       "</style>\n",
       "<table border=\"1\" class=\"dataframe\">\n",
       "  <thead>\n",
       "    <tr>\n",
       "      <th>Country</th>\n",
       "      <th>Japan</th>\n",
       "      <th>Korea</th>\n",
       "      <th>United States</th>\n",
       "    </tr>\n",
       "    <tr>\n",
       "      <th>Frequency</th>\n",
       "      <th>Annual</th>\n",
       "      <th>Annual</th>\n",
       "      <th>Annual</th>\n",
       "    </tr>\n",
       "    <tr>\n",
       "      <th>Measure</th>\n",
       "      <th>Percentage of employees</th>\n",
       "      <th>Percentage of employees</th>\n",
       "      <th>Percentage of employees</th>\n",
       "    </tr>\n",
       "    <tr>\n",
       "      <th>Time</th>\n",
       "      <th></th>\n",
       "      <th></th>\n",
       "      <th></th>\n",
       "    </tr>\n",
       "  </thead>\n",
       "  <tbody>\n",
       "    <tr>\n",
       "      <th>2017-01-01</th>\n",
       "      <td>17.500000</td>\n",
       "      <td>10.0</td>\n",
       "      <td>10.6</td>\n",
       "    </tr>\n",
       "    <tr>\n",
       "      <th>2018-01-01</th>\n",
       "      <td>17.200001</td>\n",
       "      <td>10.5</td>\n",
       "      <td>10.3</td>\n",
       "    </tr>\n",
       "    <tr>\n",
       "      <th>2019-01-01</th>\n",
       "      <td>16.799999</td>\n",
       "      <td>NaN</td>\n",
       "      <td>9.9</td>\n",
       "    </tr>\n",
       "    <tr>\n",
       "      <th>2020-01-01</th>\n",
       "      <td>NaN</td>\n",
       "      <td>NaN</td>\n",
       "      <td>10.3</td>\n",
       "    </tr>\n",
       "  </tbody>\n",
       "</table>\n",
       "</div>"
      ],
      "text/plain": [
       "Country                      Japan                   Korea  \\\n",
       "Frequency                   Annual                  Annual   \n",
       "Measure    Percentage of employees Percentage of employees   \n",
       "Time                                                         \n",
       "2017-01-01               17.500000                    10.0   \n",
       "2018-01-01               17.200001                    10.5   \n",
       "2019-01-01               16.799999                     NaN   \n",
       "2020-01-01                     NaN                     NaN   \n",
       "\n",
       "Country              United States  \n",
       "Frequency                   Annual  \n",
       "Measure    Percentage of employees  \n",
       "Time                                \n",
       "2017-01-01                    10.6  \n",
       "2018-01-01                    10.3  \n",
       "2019-01-01                     9.9  \n",
       "2020-01-01                    10.3  "
      ]
     },
     "execution_count": 29,
     "metadata": {},
     "output_type": "execute_result"
    }
   ],
   "source": [
    "df[['Japan', 'Korea', 'United States']]"
   ]
  },
  {
   "cell_type": "code",
   "execution_count": 2,
   "metadata": {},
   "outputs": [
    {
     "name": "stdout",
     "output_type": "stream",
     "text": [
      "5 Industry Portfolios\n",
      "---------------------\n",
      "\n",
      "This file was created by CMPT_IND_RETS using the 202106 CRSP database. It contains value- and equal-weighted returns for 5 industry portfolios. The portfolios are constructed at the end of June. The annual returns are from January to December. Missing data are indicated by -99.99 or -999. Copyright 2021 Kenneth R. French\n",
      "\n",
      "  0 : Average Value Weighted Returns -- Monthly (59 rows x 5 cols)\n",
      "  1 : Average Equal Weighted Returns -- Monthly (59 rows x 5 cols)\n",
      "  2 : Average Value Weighted Returns -- Annual (5 rows x 5 cols)\n",
      "  3 : Average Equal Weighted Returns -- Annual (5 rows x 5 cols)\n",
      "  4 : Number of Firms in Portfolios (59 rows x 5 cols)\n",
      "  5 : Average Firm Size (59 rows x 5 cols)\n",
      "  6 : Sum of BE / Sum of ME (5 rows x 5 cols)\n",
      "  7 : Value-Weighted Average of BE/ME (5 rows x 5 cols)\n"
     ]
    }
   ],
   "source": []
  },
  {
   "cell_type": "markdown",
   "metadata": {},
   "source": [
    "### Naver\n",
    "\n",
    "\n",
    "네이버 증권에서 제공하는 국내 지수 및 종목, 해외 지수 및 종목, 환율, 원자재, 금리 등의 모든 정보는 각 콘텐츠 제공사와의 유료 계약에 의해 서비스됩니다.\n",
    "\n",
    "네이버 증권은 해당 서비스 내에서만 정보를 제공할 수 있으며, 제3자에게 재배포하는 것은 금지되어 있습니다.\n",
    "\n",
    "\n",
    "\n",
    "네이버에서 KOSPI, KOSDAQ 데이터를 제공한다.\n",
    "삼성전자 005930\n",
    "* 데이터는 DataFrame으로 읽어 들여서 행,열의 형식을 가진다.\n",
    "\n",
    "조회할 시작일과 종료일을 설정했으니 DataReader 함수를 이용해 데이터를 조회해 봅시다. 조회할 종 목인 GS의 종목코드는 '078930'입니다. 따라서 다음과 같이 DataReader 함수의 인자를 입력합니다.\n",
    "\n",
    "DataReader 함수의 첫 번째 인자로는 조회할 종목에 대한 정보를 넣고, 두 번째 인자로는 데이터를 가져올 소스(야후)에 대한 정보를 입력했습니다. 세 번째와 네 번째 인자에는 조회 기간의 시작일과 종료일을 입력합니다."
   ]
  },
  {
   "cell_type": "code",
   "execution_count": 11,
   "metadata": {
    "collapsed": true,
    "jupyter": {
     "outputs_hidden": true
    }
   },
   "outputs": [],
   "source": [
    "import datetime\n",
    "\n",
    "start = datetime.datetime(2021,8,10)\n",
    "end = datetime.datetime(2021,8,13)\n",
    "\n",
    "sseNaver = web.DataReader('005930', 'naver', start='2021-08-10', end='2021-08-13')"
   ]
  },
  {
   "cell_type": "code",
   "execution_count": 12,
   "metadata": {},
   "outputs": [
    {
     "data": {
      "text/html": [
       "<div>\n",
       "<style scoped>\n",
       "    .dataframe tbody tr th:only-of-type {\n",
       "        vertical-align: middle;\n",
       "    }\n",
       "\n",
       "    .dataframe tbody tr th {\n",
       "        vertical-align: top;\n",
       "    }\n",
       "\n",
       "    .dataframe thead th {\n",
       "        text-align: right;\n",
       "    }\n",
       "</style>\n",
       "<table border=\"1\" class=\"dataframe\">\n",
       "  <thead>\n",
       "    <tr style=\"text-align: right;\">\n",
       "      <th></th>\n",
       "      <th>Open</th>\n",
       "      <th>High</th>\n",
       "      <th>Low</th>\n",
       "      <th>Close</th>\n",
       "      <th>Volume</th>\n",
       "    </tr>\n",
       "    <tr>\n",
       "      <th>Date</th>\n",
       "      <th></th>\n",
       "      <th></th>\n",
       "      <th></th>\n",
       "      <th></th>\n",
       "      <th></th>\n",
       "    </tr>\n",
       "  </thead>\n",
       "  <tbody>\n",
       "    <tr>\n",
       "      <th>2021-08-10</th>\n",
       "      <td>82300</td>\n",
       "      <td>82400</td>\n",
       "      <td>80100</td>\n",
       "      <td>80200</td>\n",
       "      <td>20362639</td>\n",
       "    </tr>\n",
       "    <tr>\n",
       "      <th>2021-08-11</th>\n",
       "      <td>79600</td>\n",
       "      <td>79800</td>\n",
       "      <td>78500</td>\n",
       "      <td>78500</td>\n",
       "      <td>30241137</td>\n",
       "    </tr>\n",
       "    <tr>\n",
       "      <th>2021-08-12</th>\n",
       "      <td>77100</td>\n",
       "      <td>78200</td>\n",
       "      <td>76900</td>\n",
       "      <td>77000</td>\n",
       "      <td>42365223</td>\n",
       "    </tr>\n",
       "    <tr>\n",
       "      <th>2021-08-13</th>\n",
       "      <td>75800</td>\n",
       "      <td>76000</td>\n",
       "      <td>74100</td>\n",
       "      <td>74400</td>\n",
       "      <td>60795942</td>\n",
       "    </tr>\n",
       "  </tbody>\n",
       "</table>\n",
       "</div>"
      ],
      "text/plain": [
       "             Open   High    Low  Close    Volume\n",
       "Date                                            \n",
       "2021-08-10  82300  82400  80100  80200  20362639\n",
       "2021-08-11  79600  79800  78500  78500  30241137\n",
       "2021-08-12  77100  78200  76900  77000  42365223\n",
       "2021-08-13  75800  76000  74100  74400  60795942"
      ]
     },
     "execution_count": 12,
     "metadata": {},
     "output_type": "execute_result"
    }
   ],
   "source": [
    "sseNaver"
   ]
  },
  {
   "cell_type": "code",
   "execution_count": null,
   "metadata": {
    "collapsed": true,
    "jupyter": {
     "outputs_hidden": true
    }
   },
   "outputs": [],
   "source": []
  },
  {
   "cell_type": "code",
   "execution_count": null,
   "metadata": {
    "collapsed": true,
    "jupyter": {
     "outputs_hidden": true
    }
   },
   "outputs": [],
   "source": []
  },
  {
   "cell_type": "code",
   "execution_count": null,
   "metadata": {
    "collapsed": true,
    "jupyter": {
     "outputs_hidden": true
    }
   },
   "outputs": [],
   "source": []
  },
  {
   "cell_type": "code",
   "execution_count": null,
   "metadata": {
    "collapsed": true,
    "jupyter": {
     "outputs_hidden": true
    }
   },
   "outputs": [],
   "source": []
  },
  {
   "cell_type": "code",
   "execution_count": 4,
   "metadata": {},
   "outputs": [],
   "source": [
    "import requests\n",
    "url=\"https://finance.naver.com/api/sise/etfItemList.nhn\"\n",
    "etf=requests.get(url).text"
   ]
  },
  {
   "cell_type": "code",
   "execution_count": 9,
   "metadata": {},
   "outputs": [],
   "source": [
    "import json\n",
    "jetf=json.loads(etf)"
   ]
  },
  {
   "cell_type": "markdown",
   "metadata": {},
   "source": [
    "json 데이터를 살펴보면, ['result']['etfItemList'] 인덱스를 사용하면 데이터를 조회할 수 있다.\n",
    "```\n",
    "{'resultCode': 'success',\n",
    " 'result': {'etfItemList': [\n",
    "    {'itemcode': '069500',\n",
    "        'etfTabCode': 1,\n",
    "        'itemname': 'KODEX 200',\n",
    "        'nowVal': 41630,\n",
    "        'risefall': '5',\n",
    "        'changeVal': -715,\n",
    "        'changeRate': -1.69,\n",
    "        'nav': 41665.0,\n",
    "        'threeMonthEarnRate': 0.0432,\n",
    "        'quant': 5942133,\n",
    "        'amonut': 247565,\n",
    "        'marketSum': 46188},\n",
    "     {'itemcode': '252670', ...}\n",
    "    ]}\n",
    "}\n",
    "```"
   ]
  },
  {
   "cell_type": "code",
   "execution_count": 12,
   "metadata": {},
   "outputs": [
    {
     "data": {
      "text/html": [
       "<div>\n",
       "<style scoped>\n",
       "    .dataframe tbody tr th:only-of-type {\n",
       "        vertical-align: middle;\n",
       "    }\n",
       "\n",
       "    .dataframe tbody tr th {\n",
       "        vertical-align: top;\n",
       "    }\n",
       "\n",
       "    .dataframe thead th {\n",
       "        text-align: right;\n",
       "    }\n",
       "</style>\n",
       "<table border=\"1\" class=\"dataframe\">\n",
       "  <thead>\n",
       "    <tr style=\"text-align: right;\">\n",
       "      <th></th>\n",
       "      <th>itemcode</th>\n",
       "      <th>etfTabCode</th>\n",
       "      <th>itemname</th>\n",
       "      <th>nowVal</th>\n",
       "      <th>risefall</th>\n",
       "      <th>changeVal</th>\n",
       "      <th>changeRate</th>\n",
       "      <th>nav</th>\n",
       "      <th>threeMonthEarnRate</th>\n",
       "      <th>quant</th>\n",
       "      <th>amonut</th>\n",
       "      <th>marketSum</th>\n",
       "    </tr>\n",
       "  </thead>\n",
       "  <tbody>\n",
       "    <tr>\n",
       "      <th>0</th>\n",
       "      <td>069500</td>\n",
       "      <td>1</td>\n",
       "      <td>KODEX 200</td>\n",
       "      <td>41630</td>\n",
       "      <td>5</td>\n",
       "      <td>-715</td>\n",
       "      <td>-1.69</td>\n",
       "      <td>41665.0</td>\n",
       "      <td>0.0432</td>\n",
       "      <td>5942133</td>\n",
       "      <td>247565</td>\n",
       "      <td>46188</td>\n",
       "    </tr>\n",
       "    <tr>\n",
       "      <th>1</th>\n",
       "      <td>252670</td>\n",
       "      <td>3</td>\n",
       "      <td>KODEX 200선물인버스2X</td>\n",
       "      <td>2045</td>\n",
       "      <td>2</td>\n",
       "      <td>70</td>\n",
       "      <td>3.54</td>\n",
       "      <td>2044.0</td>\n",
       "      <td>-1.4458</td>\n",
       "      <td>235569206</td>\n",
       "      <td>478859</td>\n",
       "      <td>23391</td>\n",
       "    </tr>\n",
       "    <tr>\n",
       "      <th>2</th>\n",
       "      <td>102110</td>\n",
       "      <td>1</td>\n",
       "      <td>TIGER 200</td>\n",
       "      <td>41660</td>\n",
       "      <td>5</td>\n",
       "      <td>-680</td>\n",
       "      <td>-1.61</td>\n",
       "      <td>41689.0</td>\n",
       "      <td>0.0672</td>\n",
       "      <td>532749</td>\n",
       "      <td>22200</td>\n",
       "      <td>22809</td>\n",
       "    </tr>\n",
       "    <tr>\n",
       "      <th>3</th>\n",
       "      <td>153130</td>\n",
       "      <td>6</td>\n",
       "      <td>KODEX 단기채권</td>\n",
       "      <td>102855</td>\n",
       "      <td>3</td>\n",
       "      <td>0</td>\n",
       "      <td>0.00</td>\n",
       "      <td>102859.0</td>\n",
       "      <td>0.0048</td>\n",
       "      <td>29693</td>\n",
       "      <td>3054</td>\n",
       "      <td>22608</td>\n",
       "    </tr>\n",
       "    <tr>\n",
       "      <th>4</th>\n",
       "      <td>102780</td>\n",
       "      <td>2</td>\n",
       "      <td>KODEX 삼성그룹</td>\n",
       "      <td>10590</td>\n",
       "      <td>5</td>\n",
       "      <td>-150</td>\n",
       "      <td>-1.40</td>\n",
       "      <td>10621.0</td>\n",
       "      <td>8.8946</td>\n",
       "      <td>328922</td>\n",
       "      <td>3491</td>\n",
       "      <td>18141</td>\n",
       "    </tr>\n",
       "    <tr>\n",
       "      <th>...</th>\n",
       "      <td>...</td>\n",
       "      <td>...</td>\n",
       "      <td>...</td>\n",
       "      <td>...</td>\n",
       "      <td>...</td>\n",
       "      <td>...</td>\n",
       "      <td>...</td>\n",
       "      <td>...</td>\n",
       "      <td>...</td>\n",
       "      <td>...</td>\n",
       "      <td>...</td>\n",
       "      <td>...</td>\n",
       "    </tr>\n",
       "    <tr>\n",
       "      <th>495</th>\n",
       "      <td>267500</td>\n",
       "      <td>4</td>\n",
       "      <td>KBSTAR 미국장기국채선물인버스2X(합성 H)</td>\n",
       "      <td>5940</td>\n",
       "      <td>2</td>\n",
       "      <td>5</td>\n",
       "      <td>0.08</td>\n",
       "      <td>NaN</td>\n",
       "      <td>-12.0000</td>\n",
       "      <td>6543</td>\n",
       "      <td>38</td>\n",
       "      <td>27</td>\n",
       "    </tr>\n",
       "    <tr>\n",
       "      <th>496</th>\n",
       "      <td>287330</td>\n",
       "      <td>2</td>\n",
       "      <td>KBSTAR 200생활소비재</td>\n",
       "      <td>8675</td>\n",
       "      <td>5</td>\n",
       "      <td>-10</td>\n",
       "      <td>-0.12</td>\n",
       "      <td>8676.0</td>\n",
       "      <td>-5.4496</td>\n",
       "      <td>1804</td>\n",
       "      <td>15</td>\n",
       "      <td>21</td>\n",
       "    </tr>\n",
       "    <tr>\n",
       "      <th>497</th>\n",
       "      <td>334700</td>\n",
       "      <td>5</td>\n",
       "      <td>KBSTAR 팔라듐선물인버스(H)</td>\n",
       "      <td>4540</td>\n",
       "      <td>2</td>\n",
       "      <td>80</td>\n",
       "      <td>1.79</td>\n",
       "      <td>NaN</td>\n",
       "      <td>6.1988</td>\n",
       "      <td>2618</td>\n",
       "      <td>11</td>\n",
       "      <td>18</td>\n",
       "    </tr>\n",
       "    <tr>\n",
       "      <th>498</th>\n",
       "      <td>287310</td>\n",
       "      <td>2</td>\n",
       "      <td>KBSTAR 200경기소비재</td>\n",
       "      <td>11610</td>\n",
       "      <td>5</td>\n",
       "      <td>-180</td>\n",
       "      <td>-1.53</td>\n",
       "      <td>11654.0</td>\n",
       "      <td>-1.1915</td>\n",
       "      <td>582</td>\n",
       "      <td>6</td>\n",
       "      <td>16</td>\n",
       "    </tr>\n",
       "    <tr>\n",
       "      <th>499</th>\n",
       "      <td>287320</td>\n",
       "      <td>2</td>\n",
       "      <td>KBSTAR 200산업재</td>\n",
       "      <td>12840</td>\n",
       "      <td>5</td>\n",
       "      <td>-215</td>\n",
       "      <td>-1.65</td>\n",
       "      <td>12832.0</td>\n",
       "      <td>-0.7345</td>\n",
       "      <td>59</td>\n",
       "      <td>0</td>\n",
       "      <td>15</td>\n",
       "    </tr>\n",
       "  </tbody>\n",
       "</table>\n",
       "<p>500 rows × 12 columns</p>\n",
       "</div>"
      ],
      "text/plain": [
       "    itemcode  etfTabCode                    itemname  nowVal risefall  \\\n",
       "0     069500           1                   KODEX 200   41630        5   \n",
       "1     252670           3            KODEX 200선물인버스2X    2045        2   \n",
       "2     102110           1                   TIGER 200   41660        5   \n",
       "3     153130           6                  KODEX 단기채권  102855        3   \n",
       "4     102780           2                  KODEX 삼성그룹   10590        5   \n",
       "..       ...         ...                         ...     ...      ...   \n",
       "495   267500           4  KBSTAR 미국장기국채선물인버스2X(합성 H)    5940        2   \n",
       "496   287330           2             KBSTAR 200생활소비재    8675        5   \n",
       "497   334700           5          KBSTAR 팔라듐선물인버스(H)    4540        2   \n",
       "498   287310           2             KBSTAR 200경기소비재   11610        5   \n",
       "499   287320           2               KBSTAR 200산업재   12840        5   \n",
       "\n",
       "     changeVal  changeRate       nav  threeMonthEarnRate      quant  amonut  \\\n",
       "0         -715       -1.69   41665.0              0.0432    5942133  247565   \n",
       "1           70        3.54    2044.0             -1.4458  235569206  478859   \n",
       "2         -680       -1.61   41689.0              0.0672     532749   22200   \n",
       "3            0        0.00  102859.0              0.0048      29693    3054   \n",
       "4         -150       -1.40   10621.0              8.8946     328922    3491   \n",
       "..         ...         ...       ...                 ...        ...     ...   \n",
       "495          5        0.08       NaN            -12.0000       6543      38   \n",
       "496        -10       -0.12    8676.0             -5.4496       1804      15   \n",
       "497         80        1.79       NaN              6.1988       2618      11   \n",
       "498       -180       -1.53   11654.0             -1.1915        582       6   \n",
       "499       -215       -1.65   12832.0             -0.7345         59       0   \n",
       "\n",
       "     marketSum  \n",
       "0        46188  \n",
       "1        23391  \n",
       "2        22809  \n",
       "3        22608  \n",
       "4        18141  \n",
       "..         ...  \n",
       "495         27  \n",
       "496         21  \n",
       "497         18  \n",
       "498         16  \n",
       "499         15  \n",
       "\n",
       "[500 rows x 12 columns]"
      ]
     },
     "execution_count": 12,
     "metadata": {},
     "output_type": "execute_result"
    }
   ],
   "source": [
    "import pandas as pd\n",
    "pd.json_normalize(jetf['result']['etfItemList'])"
   ]
  },
  {
   "cell_type": "markdown",
   "metadata": {},
   "source": [
    "### Yahoo\n"
   ]
  },
  {
   "cell_type": "code",
   "execution_count": 23,
   "metadata": {
    "collapsed": true,
    "jupyter": {
     "outputs_hidden": true
    }
   },
   "outputs": [],
   "source": [
    "sseYahoo = web.DataReader(\"005930.KS\", \"yahoo\", start='2021-08-10', end='2021-08-13')"
   ]
  },
  {
   "cell_type": "code",
   "execution_count": 24,
   "metadata": {
    "scrolled": true
   },
   "outputs": [
    {
     "data": {
      "text/html": [
       "<div>\n",
       "<style scoped>\n",
       "    .dataframe tbody tr th:only-of-type {\n",
       "        vertical-align: middle;\n",
       "    }\n",
       "\n",
       "    .dataframe tbody tr th {\n",
       "        vertical-align: top;\n",
       "    }\n",
       "\n",
       "    .dataframe thead th {\n",
       "        text-align: right;\n",
       "    }\n",
       "</style>\n",
       "<table border=\"1\" class=\"dataframe\">\n",
       "  <thead>\n",
       "    <tr style=\"text-align: right;\">\n",
       "      <th></th>\n",
       "      <th>High</th>\n",
       "      <th>Low</th>\n",
       "      <th>Open</th>\n",
       "      <th>Close</th>\n",
       "      <th>Volume</th>\n",
       "      <th>Adj Close</th>\n",
       "    </tr>\n",
       "    <tr>\n",
       "      <th>Date</th>\n",
       "      <th></th>\n",
       "      <th></th>\n",
       "      <th></th>\n",
       "      <th></th>\n",
       "      <th></th>\n",
       "      <th></th>\n",
       "    </tr>\n",
       "  </thead>\n",
       "  <tbody>\n",
       "    <tr>\n",
       "      <th>2021-08-10</th>\n",
       "      <td>82400</td>\n",
       "      <td>80100</td>\n",
       "      <td>82300</td>\n",
       "      <td>80200</td>\n",
       "      <td>20362639</td>\n",
       "      <td>80200</td>\n",
       "    </tr>\n",
       "    <tr>\n",
       "      <th>2021-08-11</th>\n",
       "      <td>79800</td>\n",
       "      <td>78500</td>\n",
       "      <td>79600</td>\n",
       "      <td>78500</td>\n",
       "      <td>30241137</td>\n",
       "      <td>78500</td>\n",
       "    </tr>\n",
       "    <tr>\n",
       "      <th>2021-08-12</th>\n",
       "      <td>78200</td>\n",
       "      <td>76900</td>\n",
       "      <td>77100</td>\n",
       "      <td>77000</td>\n",
       "      <td>42365223</td>\n",
       "      <td>77000</td>\n",
       "    </tr>\n",
       "    <tr>\n",
       "      <th>2021-08-13</th>\n",
       "      <td>76000</td>\n",
       "      <td>74100</td>\n",
       "      <td>75800</td>\n",
       "      <td>74400</td>\n",
       "      <td>61270643</td>\n",
       "      <td>74400</td>\n",
       "    </tr>\n",
       "  </tbody>\n",
       "</table>\n",
       "</div>"
      ],
      "text/plain": [
       "             High    Low   Open  Close    Volume  Adj Close\n",
       "Date                                                       \n",
       "2021-08-10  82400  80100  82300  80200  20362639      80200\n",
       "2021-08-11  79800  78500  79600  78500  30241137      78500\n",
       "2021-08-12  78200  76900  77100  77000  42365223      77000\n",
       "2021-08-13  76000  74100  75800  74400  61270643      74400"
      ]
     },
     "execution_count": 24,
     "metadata": {},
     "output_type": "execute_result"
    }
   ],
   "source": [
    "sseYahoo"
   ]
  },
  {
   "cell_type": "code",
   "execution_count": 27,
   "metadata": {},
   "outputs": [
    {
     "data": {
      "text/plain": [
       "Index(['High', 'Low', 'Open', 'Close', 'Volume', 'Adj Close'], dtype='object')"
      ]
     },
     "execution_count": 27,
     "metadata": {},
     "output_type": "execute_result"
    }
   ],
   "source": [
    "sseYahoo.columns"
   ]
  },
  {
   "cell_type": "code",
   "execution_count": 25,
   "metadata": {},
   "outputs": [
    {
     "data": {
      "text/plain": [
       "Date\n",
       "2021-08-10    80200\n",
       "2021-08-11    78500\n",
       "2021-08-12    77000\n",
       "2021-08-13    74400\n",
       "Name: Close, dtype: int64"
      ]
     },
     "execution_count": 25,
     "metadata": {},
     "output_type": "execute_result"
    }
   ],
   "source": [
    "sseYahoo.Close"
   ]
  },
  {
   "cell_type": "code",
   "execution_count": 34,
   "metadata": {},
   "outputs": [
    {
     "data": {
      "text/plain": [
       "<AxesSubplot:xlabel='Date'>"
      ]
     },
     "execution_count": 34,
     "metadata": {},
     "output_type": "execute_result"
    },
    {
     "data": {
      "image/png": "[encoded data removed]",
      "text/plain": [
       "<Figure size 432x288 with 1 Axes>"
      ]
     },
     "metadata": {
      "needs_background": "light"
     },
     "output_type": "display_data"
    }
   ],
   "source": [
    "sseYahoo['Close'].plot()"
   ]
  },
  {
   "cell_type": "code",
   "execution_count": 38,
   "metadata": {},
   "outputs": [
    {
     "data": {
      "text/plain": [
       "<AxesSubplot:xlabel='Date'>"
      ]
     },
     "execution_count": 38,
     "metadata": {},
     "output_type": "execute_result"
    },
    {
     "data": {
      "image/png": "[encoded data removed]",
      "text/plain": [
       "<Figure size 432x288 with 1 Axes>"
      ]
     },
     "metadata": {
      "needs_background": "light"
     },
     "output_type": "display_data"
    }
   ],
   "source": [
    "sseYahoo[['Open','Close']].plot()"
   ]
  },
  {
   "cell_type": "code",
   "execution_count": null,
   "metadata": {
    "collapsed": true,
    "jupyter": {
     "outputs_hidden": true
    }
   },
   "outputs": [],
   "source": []
  },
  {
   "cell_type": "code",
   "execution_count": null,
   "metadata": {
    "collapsed": true,
    "jupyter": {
     "outputs_hidden": true
    }
   },
   "outputs": [],
   "source": []
  },
  {
   "cell_type": "code",
   "execution_count": 5,
   "metadata": {},
   "outputs": [
    {
     "data": {
      "text/html": [
       "<div>\n",
       "<style scoped>\n",
       "    .dataframe tbody tr th:only-of-type {\n",
       "        vertical-align: middle;\n",
       "    }\n",
       "\n",
       "    .dataframe tbody tr th {\n",
       "        vertical-align: top;\n",
       "    }\n",
       "\n",
       "    .dataframe thead th {\n",
       "        text-align: right;\n",
       "    }\n",
       "</style>\n",
       "<table border=\"1\" class=\"dataframe\">\n",
       "  <thead>\n",
       "    <tr style=\"text-align: right;\">\n",
       "      <th></th>\n",
       "      <th>High</th>\n",
       "      <th>Low</th>\n",
       "      <th>Open</th>\n",
       "      <th>Close</th>\n",
       "      <th>Volume</th>\n",
       "      <th>Adj Close</th>\n",
       "    </tr>\n",
       "    <tr>\n",
       "      <th>Date</th>\n",
       "      <th></th>\n",
       "      <th></th>\n",
       "      <th></th>\n",
       "      <th></th>\n",
       "      <th></th>\n",
       "      <th></th>\n",
       "    </tr>\n",
       "  </thead>\n",
       "  <tbody>\n",
       "    <tr>\n",
       "      <th>2021-08-09</th>\n",
       "      <td>104.269997</td>\n",
       "      <td>102.029999</td>\n",
       "      <td>103.559998</td>\n",
       "      <td>103.709999</td>\n",
       "      <td>7954700</td>\n",
       "      <td>103.709999</td>\n",
       "    </tr>\n",
       "    <tr>\n",
       "      <th>2021-08-10</th>\n",
       "      <td>106.330002</td>\n",
       "      <td>103.199997</td>\n",
       "      <td>103.809998</td>\n",
       "      <td>106.080002</td>\n",
       "      <td>8054900</td>\n",
       "      <td>106.080002</td>\n",
       "    </tr>\n",
       "    <tr>\n",
       "      <th>2021-08-11</th>\n",
       "      <td>106.209999</td>\n",
       "      <td>103.820000</td>\n",
       "      <td>106.209999</td>\n",
       "      <td>106.040001</td>\n",
       "      <td>8303700</td>\n",
       "      <td>106.040001</td>\n",
       "    </tr>\n",
       "    <tr>\n",
       "      <th>2021-08-12</th>\n",
       "      <td>107.230003</td>\n",
       "      <td>105.239998</td>\n",
       "      <td>106.190002</td>\n",
       "      <td>106.519997</td>\n",
       "      <td>6400300</td>\n",
       "      <td>106.519997</td>\n",
       "    </tr>\n",
       "    <tr>\n",
       "      <th>2021-08-13</th>\n",
       "      <td>106.620003</td>\n",
       "      <td>104.580002</td>\n",
       "      <td>106.500000</td>\n",
       "      <td>104.919998</td>\n",
       "      <td>5515753</td>\n",
       "      <td>104.919998</td>\n",
       "    </tr>\n",
       "  </tbody>\n",
       "</table>\n",
       "</div>"
      ],
      "text/plain": [
       "                  High         Low        Open       Close   Volume  \\\n",
       "Date                                                                  \n",
       "2021-08-09  104.269997  102.029999  103.559998  103.709999  7954700   \n",
       "2021-08-10  106.330002  103.199997  103.809998  106.080002  8054900   \n",
       "2021-08-11  106.209999  103.820000  106.209999  106.040001  8303700   \n",
       "2021-08-12  107.230003  105.239998  106.190002  106.519997  6400300   \n",
       "2021-08-13  106.620003  104.580002  106.500000  104.919998  5515753   \n",
       "\n",
       "             Adj Close  \n",
       "Date                    \n",
       "2021-08-09  103.709999  \n",
       "2021-08-10  106.080002  \n",
       "2021-08-11  106.040001  \n",
       "2021-08-12  106.519997  \n",
       "2021-08-13  104.919998  "
      ]
     },
     "execution_count": 5,
     "metadata": {},
     "output_type": "execute_result"
    }
   ],
   "source": [
    "df = web.DataReader('GE', 'yahoo',  start='2021-08-10', end='2021-08-13')\n",
    "df"
   ]
  },
  {
   "cell_type": "code",
   "execution_count": null,
   "metadata": {
    "collapsed": true,
    "jupyter": {
     "outputs_hidden": true
    }
   },
   "outputs": [],
   "source": [
    "df = web.DataReader(stock, data_source='yahoo', start=start)"
   ]
  },
  {
   "cell_type": "markdown",
   "metadata": {},
   "source": [
    "* web.get_data_google() 또는 "
   ]
  },
  {
   "cell_type": "markdown",
   "metadata": {},
   "source": [
    "* 전체를 읽을 수도 있고, 특정 행은 인덱스ix로 읽을 수 있다.\n",
    "* 오래된 데이터는 읽어오지 못하고 있다.\n",
    "* DataFrame의 Series인 Open에서 5행을 읽어보자."
   ]
  },
  {
   "cell_type": "code",
   "execution_count": 46,
   "metadata": {},
   "outputs": [
    {
     "data": {
      "text/plain": [
       "Open       83100\n",
       "High       83400\n",
       "Low        81600\n",
       "Close      82500\n",
       "Volume    188825\n",
       "Name: 2016-11-17 00:00:00, dtype: float64"
      ]
     },
     "execution_count": 46,
     "metadata": {},
     "output_type": "execute_result"
    }
   ],
   "source": [
    "soil.ix['2016-11-17']"
   ]
  },
  {
   "cell_type": "code",
   "execution_count": 49,
   "metadata": {},
   "outputs": [
    {
     "name": "stdout",
     "output_type": "stream",
     "text": [
      "<class 'pandas.core.series.Series'>\n"
     ]
    }
   ],
   "source": [
    "print type(soil.Open)"
   ]
  },
  {
   "cell_type": "code",
   "execution_count": null,
   "metadata": {
    "collapsed": true,
    "jupyter": {
     "outputs_hidden": true
    }
   },
   "outputs": [],
   "source": [
    "soil.ix"
   ]
  },
  {
   "cell_type": "code",
   "execution_count": 44,
   "metadata": {
    "scrolled": true,
    "slideshow": {
     "slide_type": "subslide"
    }
   },
   "outputs": [
    {
     "name": "stdout",
     "output_type": "stream",
     "text": [
      "Date\n",
      "2016-11-17    83100\n",
      "2016-11-18    82400\n",
      "2016-11-21    82200\n",
      "2016-11-22    84400\n",
      "2016-11-23    85800\n",
      "Name: Open, dtype: float64\n"
     ]
    }
   ],
   "source": [
    "print soil.Open[0:5]"
   ]
  },
  {
   "cell_type": "code",
   "execution_count": 50,
   "metadata": {
    "scrolled": true,
    "slideshow": {
     "slide_type": "subslide"
    }
   },
   "outputs": [
    {
     "name": "stdout",
     "output_type": "stream",
     "text": [
      "Open      148000\n",
      "High      148500\n",
      "Low       144500\n",
      "Close     145500\n",
      "Volume     57958\n",
      "Name: 2016-11-18 00:00:00, dtype: float64\n"
     ]
    }
   ],
   "source": [
    "ncsoft = web.DataReader('KRX:036570', data_source='google', start='01/01/2015', end='09/02/2015')\n",
    "sds = web.DataReader('KRX:018260', data_source='google', start='11/01/2015', end='11/10/2015')\n",
    "\n",
    "print sds.ix[1]"
   ]
  },
  {
   "cell_type": "markdown",
   "metadata": {},
   "source": [
    "* Pandas data reader가 아닌 requests 라이브러리를 사용해서 읽을 수 있다."
   ]
  },
  {
   "cell_type": "markdown",
   "metadata": {},
   "source": [
    "import pandas\n",
    "import requests\n",
    "import io\n",
    "\n",
    "stock = 'GOOG'\n",
    "startdate = 'Jul 08, 2017'\n",
    "enddate = 'Aug 08, 2017'\n",
    "\n",
    "rooturl = 'http://www.google.com/finance/historical?q='\n",
    "query = stock + '&startdate=' + startdate +'&enddate=' + enddate + '&output=csv'\n",
    "\n",
    "url = rooturl + query\n",
    "response = requests.get(url)\n",
    "df = pandas.read_csv(io.StringIO(response.content.decode('utf-8')))"
   ]
  },
  {
   "cell_type": "code",
   "execution_count": 53,
   "metadata": {},
   "outputs": [
    {
     "name": "stdout",
     "output_type": "stream",
     "text": [
      "﻿Date     15-Nov-17\n",
      "Open        1019.21\n",
      "High        1024.09\n",
      "Low         1015.42\n",
      "Close       1020.91\n",
      "Volume       853992\n",
      "Name: 0, dtype: object\n"
     ]
    }
   ],
   "source": [
    "print df.ix[0]"
   ]
  },
  {
   "cell_type": "code",
   "execution_count": null,
   "metadata": {},
   "outputs": [],
   "source": []
  },
  {
   "cell_type": "markdown",
   "metadata": {},
   "source": [
    "# 연습문제 2: 서울시 우리마을가게 상권분석서비스(상권-아파트)\n",
    "\n",
    "서울시 열린데이터에서 검색을 하면 '서울시 우리마을가게 상권분석서비스(상권-아파트)'가 있다.\n",
    "(https://data.seoul.go.kr/dataList/OA-15566/S/1/datasetView.do?tab=A)\n",
    "OpenAPI를 통해서 2021년 최근 100개 데이터를 수집하자.\n",
    "\n",
    "* 샘플 url 2017년서울시 골목상권 프로파일링 정보(상권-아파트)\n",
    "http://openapi.seoul.go.kr:8088/(인증키)/xml/InfoTrdarAptQq/1/5/2017\n",
    "\n",
    "* 1) 프로그램으로 url을 만들어 출력하세요. 그 url을 클릭하면 데이터가 출력 되어야 한다.\n",
    "* 2) 전체 데이터 중 1건만 출력.\n",
    "* 3) 다음 항목을 100개 정렬해서 출력.\n",
    "\n",
    "```\n",
    "\tTRDAR_SE_CD_NM\t상권_구분_코드_명\n",
    "\tAPT_HSMP_CO\t아파트_단지_수\n",
    "\tPC_6_HDMIL_ABOVE_HSHLD_CO\t아파트_가격_6_억_이상_세대_수\n",
    "\tAVRG_MKTC\t아파트_평균_시가\n",
    "\tTRDAR_CD_NM\t상권_코드_명\n",
    "```"
   ]
  },
  {
   "cell_type": "code",
   "execution_count": 21,
   "metadata": {},
   "outputs": [
    {
     "ename": "SyntaxError",
     "evalue": "invalid syntax (<ipython-input-21-707c24dad3b3>, line 1)",
     "output_type": "error",
     "traceback": [
      "\u001b[0;36m  File \u001b[0;32m\"<ipython-input-21-707c24dad3b3>\"\u001b[0;36m, line \u001b[0;32m1\u001b[0m\n\u001b[0;31m    1   STDR_YY_CD\t기준_년_코드\u001b[0m\n\u001b[0m                 ^\u001b[0m\n\u001b[0;31mSyntaxError\u001b[0m\u001b[0;31m:\u001b[0m invalid syntax\n"
     ]
    }
   ],
   "source": [
    "1   STDR_YY_CD\t기준_년_코드\n",
    "2\tTRDAR_SE_CD\t상권_구분_코드\n",
    "3\tTRDAR_SE_CD_NM\t상권_구분_코드_명\n",
    "4\tAPT_HSMP_CO\t아파트_단지_수\n",
    "5\tAE_66_SQMT_BELO_HSHLD_CO\t아파트_면적_66_제곱미터_미만_세대_수\n",
    "6\tAE_66_SQMT_HSHLD_CO\t아파트_면적_66_제곱미터_세대_수\n",
    "7\tAE_99_SQMT_HSHLD_CO\t아파트_면적_99_제곱미터_세대_수\n",
    "8\tAE_132_SQMT_HSHLD_CO\t아파트_면적_132_제곱미터_세대_수\n",
    "9\tAE_165_SQMT_HSHLD_CO\t아파트_면적_165_제곱미터_세대_수\n",
    "10\tPC_1_HDMIL_BELO_HSHLD_CO\t아파트_가격_1_억_미만_세대_수\n",
    "11\tPC_1_HDMIL_HSHLD_CO\t아파트_가격_1_억_세대_수\n",
    "12\tPC_2_HDMIL_HSHLD_CO\t아파트_가격_2_억_세대_수\n",
    "13\tPC_3_HDMIL_HSHLD_CO\t아파트_가격_3_억_세대_수\n",
    "14\tPC_4_HDMIL_HSHLD_CO\t아파트_가격_4_억_세대_수\n",
    "15\tPC_5_HDMIL_HSHLD_CO\t아파트_가격_5_억_세대_수\n",
    "16\tPC_6_HDMIL_ABOVE_HSHLD_CO\t아파트_가격_6_억_이상_세대_수\n",
    "17\tAVRG_AE\t아파트_평균_면적\n",
    "18\tAVRG_MKTC\t아파트_평균_시가\n",
    "19\tSTDR_QU_CD\t기준_분기_코드\n",
    "20\tTRDAR_CD\t상권_코드\n",
    "21\tTRDAR_CD_NM\t상권_코드_명"
   ]
  },
  {
   "cell_type": "code",
   "execution_count": 22,
   "metadata": {},
   "outputs": [
    {
     "name": "stdout",
     "output_type": "stream",
     "text": [
      "Overwriting src/ds_open_tradeApt_json.py\n"
     ]
    }
   ],
   "source": [
    "%%writefile src/ds_open_tradeApt_json.py\n",
    "#!/usr/bin/env python\n",
    "# coding: utf-8\n",
    "import os\n",
    "import requests\n",
    "import urllib\n",
    "import mylib\n",
    "\n",
    "def doIt():\n",
    "    keyPath=os.path.join(os.getcwd(), 'src', 'key.properties')\n",
    "    key=mylib.getKey(keyPath)\n",
    "    # (1) make params with resource IDs\n",
    "    KEY=key['dataseoul']\n",
    "    TYPE='json'\n",
    "    SERVICE='InfoTrdarAptQq'\n",
    "    START_INDEX=str(1)\n",
    "    END_INDEX=str(100)\n",
    "    STDR_YM_CD=str(2021)\n",
    "    params=os.path.join(KEY,TYPE,SERVICE,START_INDEX,END_INDEX,STDR_YM_CD)\n",
    "    # (2) make a full url\n",
    "    _url='http://openAPI.seoul.go.kr:8088'\n",
    "    #url=urllib.parse.urljoin(_url,params)\n",
    "    url=\"/\".join([_url,params])\n",
    "    print(\"- url:\", url)\n",
    "    # (3) get data\n",
    "    r=requests.get(url)\n",
    "    apt=r.json()\n",
    "    print(\"- data[0]: \", apt['InfoTrdarAptQq']['row'][0])\n",
    "    for e in apt['InfoTrdarAptQq']['row']:\n",
    "        print(\"{}\\t{}\\t{}\\t{}\\t{}\".format(e['TRDAR_SE_CD_NM'],e['APT_HSMP_CO'],e['PC_6_HDMIL_ABOVE_HSHLD_CO'],e['AVRG_MKTC'],e['TRDAR_CD_NM']))\n",
    "        #print (e['PC_1_HDMIL_HSHLD_CO']+e['PC_6_HDMIL_ABOVE_HSHLD_CO'])\n",
    "\n",
    "if __name__ == \"__main__\":\n",
    "    doIt()"
   ]
  },
  {
   "cell_type": "code",
   "execution_count": 23,
   "metadata": {},
   "outputs": [
    {
     "name": "stdout",
     "output_type": "stream",
     "text": [
      "- url: http://openAPI.seoul.go.kr:8088/73725974496a736c34395757705847/json/InfoTrdarAptQq/1/100/2021\n",
      "- data[0]:  {'STDR_YY_CD': '2021', 'TRDAR_SE_CD': 'A', 'TRDAR_SE_CD_NM': '골목상권', 'APT_HSMP_CO': 5.0, 'AE_66_SQMT_BELO_HSHLD_CO': 32.0, 'AE_66_SQMT_HSHLD_CO': 0.0, 'AE_99_SQMT_HSHLD_CO': 0.0, 'AE_132_SQMT_HSHLD_CO': 0.0, 'AE_165_SQMT_HSHLD_CO': 0.0, 'PC_1_HDMIL_BELO_HSHLD_CO': 0.0, 'PC_1_HDMIL_HSHLD_CO': 32.0, 'PC_2_HDMIL_HSHLD_CO': 0.0, 'PC_3_HDMIL_HSHLD_CO': 0.0, 'PC_4_HDMIL_HSHLD_CO': 0.0, 'PC_5_HDMIL_HSHLD_CO': 0.0, 'PC_6_HDMIL_ABOVE_HSHLD_CO': 0.0, 'AVRG_AE': 44.0, 'AVRG_MKTC': 150247619.0, 'STDR_QU_CD': '1', 'TRDAR_CD': '1000975', 'TRDAR_CD_NM': '동남로82길'}\n",
      "골목상권\t5.0\t0.0\t150247619.0\t동남로82길\n",
      "발달상권\t3.0\t0.0\t161157476.0\t당산역_2\n",
      "발달상권\t1.0\t0.0\t81750000.0\t서울 성북구 안암역\n",
      "전통시장\t37.0\t1.0\t183067389.0\t길동복조리시장\n",
      "관광특구\t71.0\t87.0\t409473123.0\t이태원 관광특구\n",
      "관광특구\t8.0\t271.0\t237967427.0\t동대문패션타운 관광특구\n",
      "관광특구\t5.0\t0.0\t112097903.0\t종로·청계 관광특구\n",
      "관광특구\t22.0\t1156.0\t527347107.0\t잠실 관광특구\n",
      "골목상권\t26.0\t22.0\t249322039.0\t계동길\n",
      "골목상권\t5.0\t0.0\t87700490.0\t난계로27길\n",
      "골목상권\t5.0\t0.0\t161118305.0\t돈화문로11가길\n",
      "골목상권\t41.0\t0.0\t105457249.0\t명륜길\n",
      "골목상권\t41.0\t0.0\t214023214.0\t백석동길\n",
      "골목상권\t3.0\t0.0\t213246032.0\t북촌로11길\n",
      "골목상권\t2.0\t2.0\t443000000.0\t북촌로5길\n",
      "골목상권\t5.0\t6.0\t430007143.0\t북촌로5나길\n",
      "골목상권\t1.0\t2.0\t572000000.0\t삼청로5길\n",
      "골목상권\t12.0\t0.0\t152368531.0\t성균관로5길\n",
      "골목상권\t19.0\t0.0\t141952840.0\t숭인동길\n",
      "골목상권\t100.0\t0.0\t177741821.0\t옥인길\n",
      "골목상권\t1.0\t0.0\t112279412.0\t율곡로16길\n",
      "골목상권\t20.0\t0.0\t153940955.0\t이화장길\n",
      "골목상권\t9.0\t0.0\t256264683.0\t자하문로7길\n",
      "골목상권\t3.0\t0.0\t81284178.0\t종로58가길\n",
      "골목상권\t87.0\t0.0\t124591950.0\t종로65길\n",
      "골목상권\t15.0\t0.0\t185365873.0\t지봉로8길\n",
      "골목상권\t8.0\t0.0\t142664918.0\t창경궁로35길\n",
      "골목상권\t17.0\t0.0\t107096078.0\t창신2길\n",
      "골목상권\t8.0\t0.0\t95141667.0\t창신5길\n",
      "골목상권\t86.0\t0.0\t116533576.0\t창신길\n",
      "골목상권\t50.0\t0.0\t99746000.0\t통일로12길\n",
      "골목상권\t19.0\t30.0\t309926113.0\t평창길\n",
      "골목상권\t14.0\t0.0\t229306432.0\t필운대로1길\n",
      "골목상권\t16.0\t33.0\t272737678.0\t난계로11길\n",
      "골목상권\t9.0\t0.0\t157574074.0\t난계로21길\n",
      "골목상권\t32.0\t0.0\t153392079.0\t다산로33길\n",
      "골목상권\t8.0\t0.0\t179132297.0\t다산로36길\n",
      "골목상권\t10.0\t1.0\t242063093.0\t다산로38길\n",
      "골목상권\t2.0\t0.0\t176972222.0\t다산로39길\n",
      "골목상권\t27.0\t0.0\t181864758.0\t동호로10길\n",
      "골목상권\t150.0\t0.0\t124396733.0\t동호로11길\n",
      "골목상권\t41.0\t12.0\t208647667.0\t동호로15길\n",
      "골목상권\t42.0\t43.0\t307355149.0\t동호로20길\n",
      "골목상권\t18.0\t0.0\t155018621.0\t동호로8길\n",
      "골목상권\t28.0\t1.0\t184979178.0\t장충단로8길\n",
      "골목상권\t33.0\t0.0\t206531628.0\t청구로17길\n",
      "골목상권\t9.0\t0.0\t189915947.0\t청구로1길\n",
      "골목상권\t7.0\t0.0\t167530465.0\t퇴계로12길\n",
      "골목상권\t3.0\t0.0\t168158730.0\t퇴계로18길\n",
      "골목상권\t7.0\t0.0\t119134454.0\t퇴계로46길\n",
      "골목상권\t6.0\t0.0\t130876389.0\t퇴계로56길\n",
      "골목상권\t13.0\t0.0\t213297572.0\t퇴계로8길\n",
      "골목상권\t27.0\t0.0\t170019584.0\t퇴계로90길\n",
      "골목상권\t4.0\t0.0\t250343750.0\t녹사평대로11길\n",
      "골목상권\t10.0\t0.0\t380352237.0\t녹사평대로26길\n",
      "골목상권\t8.0\t5.0\t382973462.0\t녹사평대로32길\n",
      "골목상권\t9.0\t13.0\t463599167.0\t녹사평대로40나길\n",
      "골목상권\t22.0\t5.0\t291820883.0\t녹사평대로46길\n",
      "골목상권\t35.0\t84.0\t559442404.0\t대사관로34길\n",
      "골목상권\t38.0\t0.0\t294402723.0\t두텁바위로1길\n",
      "골목상권\t104.0\t16.0\t242145926.0\t백범로79길\n",
      "골목상권\t11.0\t709.0\t496683400.0\t백범로90길\n",
      "골목상권\t72.0\t244.0\t662098926.0\t서빙고로71길\n",
      "골목상권\t44.0\t1.0\t200752888.0\t소월로20길\n",
      "골목상권\t114.0\t4.0\t171466325.0\t신흥로20길\n",
      "골목상권\t49.0\t129.0\t614161825.0\t우사단로10길\n",
      "골목상권\t15.0\t127.0\t654105268.0\t우사단로14길\n",
      "골목상권\t22.0\t12.0\t489858622.0\t우사단로4길\n",
      "골목상권\t23.0\t5.0\t269352177.0\t원효로19길\n",
      "골목상권\t16.0\t0.0\t281720858.0\t원효로41길\n",
      "골목상권\t40.0\t0.0\t228417439.0\t원효로53길\n",
      "골목상권\t10.0\t0.0\t215459650.0\t원효로89길\n",
      "골목상권\t49.0\t10.0\t387698359.0\t이촌로22길\n",
      "골목상권\t11.0\t19.0\t483746950.0\t이태원로27길\n",
      "골목상권\t30.0\t109.0\t480723433.0\t이태원로54길\n",
      "골목상권\t33.0\t106.0\t573284176.0\t장문로45길\n",
      "골목상권\t14.0\t0.0\t166160048.0\t청파로47길\n",
      "골목상권\t89.0\t4.0\t220994083.0\t청파로47나길\n",
      "골목상권\t122.0\t0.0\t215433642.0\t청파로71길\n",
      "골목상권\t58.0\t0.0\t219067232.0\t청파로73길\n",
      "골목상권\t25.0\t240.0\t341969048.0\t한강대로104길\n",
      "골목상권\t8.0\t151.0\t457474986.0\t한강대로15길\n",
      "골목상권\t3.0\t431.0\t989166024.0\t한강대로43길\n",
      "골목상권\t14.0\t1.0\t286364302.0\t한강대로52길\n",
      "골목상권\t9.0\t1.0\t364824342.0\t한강대로62길\n",
      "골목상권\t6.0\t12.0\t419996429.0\t한강대로7길\n",
      "골목상권\t7.0\t58.0\t352673085.0\t한남대로20길\n",
      "골목상권\t22.0\t40.0\t349667714.0\t회나무로13길\n",
      "골목상권\t90.0\t0.0\t231388058.0\t효창원로39길\n",
      "골목상권\t127.0\t21.0\t277169594.0\t후암로28길\n",
      "골목상권\t61.0\t0.0\t201004295.0\t고산자로6길\n",
      "골목상권\t39.0\t0.0\t182191459.0\t금호산2길\n",
      "골목상권\t69.0\t0.0\t200790347.0\t금호산길\n",
      "골목상권\t23.0\t9.0\t451650381.0\t둘레9길\n",
      "골목상권\t15.0\t144.0\t318029114.0\t뚝섬로5길\n",
      "골목상권\t10.0\t0.0\t140662018.0\t마장로27길\n",
      "골목상권\t7.0\t0.0\t261575022.0\t마장로39길\n",
      "골목상권\t20.0\t0.0\t228218098.0\t마조로16길\n",
      "골목상권\t26.0\t0.0\t149740447.0\t마조로1길\n",
      "골목상권\t9.0\t1530.0\t599287898.0\t매봉길\n"
     ]
    }
   ],
   "source": [
    "!python3 src/ds_open_tradeApt_json.py"
   ]
  },
  {
   "cell_type": "markdown",
   "metadata": {},
   "source": [
    "## 연습문제 2: 서울시 지하철 실시간 도착정보 수집\n",
    "\n",
    "서울시 교통정보과[TOPIS]에서 제공하는 API를 이용한 '지하철 실시간 도착정보'를 수집해보자.\n",
    "\n",
    "http://swopenAPI.seoul.go.kr/api/subway/(인증키)/xml/realtimeStationArrival/0/5/서울\n",
    "\n",
    "![alt text](figures/dataSeoulGoKr_subwayRealtime.png \"subway arrival realtime by line\")"
   ]
  },
  {
   "cell_type": "markdown",
   "metadata": {},
   "source": [
    "realtimeStationArrival API 호출에 필요한 인자를 정리하면 다음과 같다.\n",
    "\n",
    "변수명 | 타입 | 설명 \n",
    "-----|-----|-----\n",
    "KEY | String | 발급받은 인증키\n",
    "TYPE | String | xml, xmlf, xls, json 데이터 형식\n",
    "SERVICE | String | 서비스명 \n",
    "START_INDEX | Integer | 페이징 시작번호\n",
    "END_INDEX | Integer | 페이징 끝번호\n",
    "statnNm | String | 지하철역명"
   ]
  },
  {
   "cell_type": "code",
   "execution_count": null,
   "metadata": {},
   "outputs": [],
   "source": [
    "인증키신청했고...\n",
    "414d7469756a736c35304274646c77\n",
    "http://swopenAPI.seoul.go.kr/api/subway/414d7469756a736c35304274646c77/xml/realtimeStationArrival/0/5/서울"
   ]
  },
  {
   "cell_type": "code",
   "execution_count": 3,
   "metadata": {},
   "outputs": [
    {
     "name": "stdout",
     "output_type": "stream",
     "text": [
      "Overwriting src/ds_open_realtimeStationArrival_json.py\n"
     ]
    }
   ],
   "source": [
    "%%writefile src/ds_open_realtimeStationArrival_json.py\n",
    "#!/usr/bin/env python\n",
    "# coding: utf-8\n",
    "import os\n",
    "import requests\n",
    "import urllib\n",
    "import mylib\n",
    "\n",
    "def doIt():\n",
    "    #keyPath=os.path.join(os.getcwd(), 'src', 'key.properties')\n",
    "    #key=mylib.getKey(keyPath)\n",
    "    # (1) make params with resource IDs\n",
    "    KEY='414d7469756a736c35304274646c77'    #key['dataseoul']\n",
    "    TYPE='json'\n",
    "    SERVICE='realtimeStationArrival'\n",
    "    START_INDEX=str(1)\n",
    "    END_INDEX=str(10)\n",
    "    statnNm='서울'\n",
    "    params=os.path.join(KEY,TYPE,SERVICE,START_INDEX,END_INDEX,statnNm)\n",
    "    # (2) make a full url\n",
    "    _url='http://swopenAPI.seoul.go.kr/api/subway'\n",
    "    #url=urllib.parse.urljoin(_url,params)\n",
    "    url=\"/\".join([_url,params])\n",
    "    print(url)\n",
    "    # (3) get data\n",
    "    #r=requests.get(url)\n",
    "    #arrival=r.json()\n",
    "    #print(arrival)\n",
    "    #for e in trade['VwsmTrdarFlpopQq']['row']:\n",
    "        #print(e['TRDAR_CD_NM'])\n",
    "        #print (e['TRDAR_CD'], e['TRDAR_CD_NM'], e['TOT_FLPOP_CO'], e['ML_FLPOP_CO'], e['FML_FLPOP_CO'])\n",
    "    #for e in stations['SearchSTNBySubwayLineService']['row']:\n",
    "        #print e['STATION_CD'], e['STATION_NM'], e['FR_CODE'], e['LINE_NUM']\n",
    "\n",
    "if __name__ == \"__main__\":\n",
    "    doIt()"
   ]
  },
  {
   "cell_type": "code",
   "execution_count": 4,
   "metadata": {},
   "outputs": [
    {
     "name": "stdout",
     "output_type": "stream",
     "text": [
      "http://swopenAPI.seoul.go.kr/api/subway/414d7469756a736c35304274646c77/json/realtimeStationArrival/1/10/서울\n"
     ]
    }
   ],
   "source": [
    "!python3 src/ds_open_realtimeStationArrival_json.py"
   ]
  },
  {
   "cell_type": "markdown",
   "metadata": {},
   "source": [
    "출력은 다음과 같다.\n",
    "\n",
    "순서 | 항목명 | 설명\n",
    "-----|-----|-----\n",
    "공통 | list_total_count | 총 데이터 건수 (정상조회 시 출력됨)\n",
    "1 | subwayId | 지하철호선ID\n",
    "2 | updnLine | 상하행선구분 (2호선 : (내선:0,외선:1),상행,하행)\n",
    "3 | trainLineNm | 도착지방면 (성수행 - 구로디지털단지방면)\n",
    "4 | subwayHeading | 내리는문방향 (오른쪽,왼쪽)\n",
    "5 | statnFid | 이전지하철역ID\n",
    "6 | statnTid | 다음지하철역ID\n",
    "7 | statnId | 지하철역ID\n",
    "8 | statnNm | 지하철역명\n",
    "9 | trnsitCo | 환승노선수\n",
    "10 | ordkey | 도착예정열차순번\n",
    "11 | subwayList | 연계호선ID (1002, 1007 등 연계대상 호상ID)\n",
    "12 | statnList | 연계지하철역ID (1002000233,1007000744)\n",
    "13 | btrainSttus | 열차종류 (급행,ITX)\n",
    "14 | barvlDt | 열차도착예정시간 (단위:초)\n",
    "15 | btrainNo | 열차번호 (현재운행하고 있는 호선별 열차번호)\n",
    "16 | bstatnId | 종착지하철역ID\n",
    "17 | bstatnNm | 종착지하철역명\n",
    "18 | recptnDt | 열차도착정보를 생성한 시각\n",
    "19 | arvlMsg2 | 첫번째도착메세지 (전역 진입, 전역 도착 등)\n",
    "20 | arvlMsg3 | 두번째도착메세지 (종합운동장 도착, 12분 후 (광명사거리) 등)\n",
    "21 | arvlCd | 도착코드 (0:진입, 1:도착, 2:출발, 3:전역출발, 4:전역진입, 5:전역도착, 99:운행중)"
   ]
  },
  {
   "cell_type": "code",
   "execution_count": null,
   "metadata": {},
   "outputs": [],
   "source": []
  },
  {
   "cell_type": "markdown",
   "metadata": {
    "slideshow": {
     "slide_type": "slide"
    }
   },
   "source": [
    "## 연습문제 3: 기상청 단기예보\n",
    "\n",
    "오류!!\n",
    "\n",
    "서울시 종로구 관측소 현재 온도, 습도, 강수량 구하기\n",
    "\n",
    "조건 | 샘플URL\n",
    "-----|-----\n",
    "관측소별 실시간 기상관측정보 조회 | http://openAPI.seoul.go.kr:8088/(인증키)/xml/RealtimeWeatherStation/1/5/\n",
    "중구 관측소 실시간 기상관측정보 조회 | http://openAPI.seoul.go.kr:8088/(인증키)/xml/RealtimeWeatherStation/1/5/중구"
   ]
  },
  {
   "cell_type": "markdown",
   "metadata": {
    "slideshow": {
     "slide_type": "slide"
    }
   },
   "source": [
    "단기예보 조회서비스는 개편되어 2.0이 발표되었다.\n",
    "기상청_단기예보 조회서비스 VilageFcstInfoService_2.0\n",
    "\n",
    "\n",
    "- getUltraSrtNcst 초단기실황조회\n",
    "- getUltraSrtFcst 초단기예보조회\n",
    "- getVilageFcst 단기예보조회\n",
    "- getFcstVersion 예보버전조회"
   ]
  },
  {
   "cell_type": "markdown",
   "metadata": {
    "slideshow": {
     "slide_type": "slide"
    }
   },
   "source": [
    "단기예보조회 getVilageFcst 메시지 명세\n",
    "\n",
    "변수명 | 설명 \n",
    "-----|-----\n",
    "serviceKey | 발급받은 인증키\n",
    "numOfRows | 한 페이지 결과 수 (Default: 10)\n",
    "pageNo | 페이지 번호 (Default: 1)\n",
    "dataType (선택) | 요청자료형식 (XML, JSON) (Default: XML)\n",
    "base_date | 발표일자, YYYYMMDD형식의 문자열 (예: 20210628)\n",
    "base_time | 발표시각 HHMM형식(예: 0500)\n",
    "nx | 예보지점의 X 좌표값\n",
    "ny | 예보지점의 Y 좌표값"
   ]
  },
  {
   "cell_type": "markdown",
   "metadata": {
    "slideshow": {
     "slide_type": "slide"
    }
   },
   "source": [
    "http://apis.data.go.kr/1360000/VilageFcstInfoService_2.0/getUltraSrtNcst"
   ]
  },
  {
   "cell_type": "code",
   "execution_count": null,
   "metadata": {
    "slideshow": {
     "slide_type": "slide"
    }
   },
   "outputs": [],
   "source": [
    "    \n",
    "http://apis.data.go.kr/1360000/VilageFcstInfoService_2.0/getVilageFcst\n",
    "    ?serviceKey=인증키\n",
    "    &numOfRows=10\n",
    "    &pageNo=1\n",
    "    &dataType=JSON\n",
    "    &base_date=20210628\n",
    "    &base_time=0500\n",
    "    &nx=55\n",
    "    &ny=127"
   ]
  },
  {
   "cell_type": "markdown",
   "metadata": {
    "slideshow": {
     "slide_type": "slide"
    }
   },
   "source": [
    "* 샘플 실행하기\n",
    "* regex"
   ]
  },
  {
   "cell_type": "code",
   "execution_count": null,
   "metadata": {
    "slideshow": {
     "slide_type": "slide"
    }
   },
   "outputs": [],
   "source": [
    "import os\n",
    "from src import mylib\n",
    "\n",
    "keyPath=os.path.join(os.getcwd(), 'src', 'key.properties')\n",
    "key=mylib.getKey(keyPath)"
   ]
  },
  {
   "cell_type": "code",
   "execution_count": null,
   "metadata": {
    "slideshow": {
     "slide_type": "slide"
    }
   },
   "outputs": [],
   "source": [
    "_url='http://openAPI.seoul.go.kr:8088'\n",
    "_key=str(key['gokr'])     # key to data.go.kr"
   ]
  },
  {
   "cell_type": "markdown",
   "metadata": {
    "slideshow": {
     "slide_type": "slide"
    }
   },
   "source": [
    "#weatherurl='http://openAPI.seoul.go.kr:8088/sample/xml/RealtimeWeatherStation/1/5/'"
   ]
  },
  {
   "cell_type": "code",
   "execution_count": null,
   "metadata": {
    "slideshow": {
     "slide_type": "slide"
    }
   },
   "outputs": [],
   "source": [
    "weatherurl=\"http://apis.data.go.kr/1360000/VilageFcstInfoService_2.0/getVilageFcst\"\\\n",
    "+\"?serviceKey=\"+str(_key)\\\n",
    "+\"&numOfRows=10\"\\\n",
    "+\"&pageNo=1\"\\\n",
    "+\"&base_date=202100902\"\\\n",
    "+\"&base_time=0500\"\\\n",
    "+\"&nx=55\"\\\n",
    "+\"&ny=127\""
   ]
  },
  {
   "cell_type": "code",
   "execution_count": null,
   "metadata": {
    "slideshow": {
     "slide_type": "slide"
    }
   },
   "outputs": [],
   "source": [
    "print(weatherurl)"
   ]
  },
  {
   "cell_type": "markdown",
   "metadata": {
    "slideshow": {
     "slide_type": "slide"
    }
   },
   "source": [
    "* 결과\n",
    "```\n",
    "1\tSAWS_OBS_TM\t측정일시\n",
    "2\tSTN_NM\t지점명\n",
    "3\tSAWS_TA_AVG\t기온(℃)\n",
    "4\tSAWS_HD\t습도(%)\n",
    "5\tCODE\t풍향1\n",
    "6\tNAME\t풍향2\n",
    "7\tSAWS_WS_AVG\t풍속(m/s)\n",
    "8\tSAWS_RN_SUM\t강수(mm)\n",
    "9\tSAWS_SOLAR\t일사(Mj/㎡)\n",
    "10\tSAWS_SHINE\t일조(hour)\n",
    "```"
   ]
  },
  {
   "cell_type": "code",
   "execution_count": null,
   "metadata": {
    "slideshow": {
     "slide_type": "slide"
    }
   },
   "outputs": [],
   "source": [
    "import requests\n",
    "\n",
    "data=requests.get(weatherurl).text\n",
    "print (data)"
   ]
  },
  {
   "cell_type": "code",
   "execution_count": 3,
   "metadata": {},
   "outputs": [
    {
     "name": "stdout",
     "output_type": "stream",
     "text": [
      "<?xml version=\"1.0\" encoding=\"UTF-8\"?><RealtimeWeatherStation>\n",
      "<list_total_count>1</list_total_count>\n",
      "<RESULT>\n",
      "<CODE>INFO-000</CODE>\n",
      "<MESSAGE>정상 처리되었습니다</MESSAGE>\n",
      "</RESULT>\n",
      "<row>\n",
      "<SAWS_OBS_TM>2015092216</SAWS_OBS_TM>\n",
      "<STN_NM>성동</STN_NM>\n",
      "<SAWS_TA_AVG>30.1</SAWS_TA_AVG>\n",
      "<SAWS_HD>29.2</SAWS_HD>\n",
      "<CODE>7.0</CODE>\n",
      "<NAME>남동</NAME>\n",
      "<SAWS_WS_AVG>1.9</SAWS_WS_AVG>\n",
      "<SAWS_RN_SUM>0</SAWS_RN_SUM>\n",
      "<SAWS_SOLAR/>\n",
      "<SAWS_SHINE/>\n",
      "</row>\n",
      "</RealtimeWeatherStation>\n",
      "\n",
      "30.1\n"
     ]
    }
   ],
   "source": [
    "import requests\n",
    "import re\n",
    "weatherurl='http://openAPI.seoul.go.kr:8088/sample/xml/RealtimeWeatherStation/1/5/'\n",
    "data=requests.get(weatherurl).text\n",
    "print data\n",
    "p=re.compile('<SAWS_TA_AVG>(.+?)</SAWS_TA_AVG>')\n",
    "res=p.findall(data)\n",
    "for item in res:\n",
    "    print item"
   ]
  },
  {
   "cell_type": "markdown",
   "metadata": {
    "slideshow": {
     "slide_type": "subslide"
    }
   },
   "source": [
    "### 연습문제\n",
    "\n",
    "* 광화문 지역 2015년 11월 하루 동안 시간대별 미세먼지량\n",
    "* 공공데이터포털 의료빅데이터\n",
    "* 구글 스칼라\n",
    "    * 참조 http://code.activestate.com/recipes/523047-search-google-scholar/\n",
    "* 국가통계포털 http://kosis.kr\n",
    "    * 인구, 노동, 물가, 보건, 환경 등\n",
    "* 지오코딩 - T Map, 다음, 네이버, 구글 (구글맵에 사용)\n",
    "* 트레이딩\n",
    "    * 파이썬으로 시스템 트레이딩 https://gist.github.com/ridingtide/51a40d87abe1bcfbc5ce xing api (이트레이드)\n",
    "    * Statistical arbitrage with Python\n",
    "http://nbviewer.ipython.org/github/harpone/PyArb/blob/master/PyArb%20Intro.ipynb?create=1"
   ]
  }
 ],
 "metadata": {
  "kernelspec": {
   "display_name": "Python 3 (ipykernel)",
   "language": "python",
   "name": "python3"
  },
  "language_info": {
   "codemirror_mode": {
    "name": "ipython",
    "version": 3
   },
   "file_extension": ".py",
   "mimetype": "text/x-python",
   "name": "python",
   "nbconvert_exporter": "python",
   "pygments_lexer": "ipython3",
   "version": "3.9.1"
  }
 },
 "nbformat": 4,
 "nbformat_minor": 4
}
